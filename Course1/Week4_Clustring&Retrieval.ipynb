{
 "cells": [
  {
   "cell_type": "code",
   "execution_count": 1,
   "metadata": {},
   "outputs": [],
   "source": [
    "import turicreate\n"
   ]
  },
  {
   "cell_type": "code",
   "execution_count": 2,
   "metadata": {},
   "outputs": [],
   "source": [
    "people = turicreate.SFrame('people_wiki.sframe')"
   ]
  },
  {
   "cell_type": "code",
   "execution_count": 5,
   "metadata": {},
   "outputs": [
    {
     "data": {
      "text/html": [
       "<pre>Materializing SFrame</pre>"
      ],
      "text/plain": [
       "Materializing SFrame"
      ]
     },
     "metadata": {},
     "output_type": "display_data"
    },
    {
     "data": {
      "text/html": [
       "<html>                 <body>                     <iframe style=\"border:0;margin:0\" width=\"1000\" height=\"1200\" srcdoc='<html lang=\"en\">                         <head>                             <script src=\"https://cdnjs.cloudflare.com/ajax/libs/vega/5.4.0/vega.js\"></script>                             <script src=\"https://cdnjs.cloudflare.com/ajax/libs/vega-embed/4.0.0/vega-embed.js\"></script>                             <script src=\"https://cdnjs.cloudflare.com/ajax/libs/vega-tooltip/0.5.1/vega-tooltip.min.js\"></script>                             <link rel=\"stylesheet\" type=\"text/css\" href=\"https://cdnjs.cloudflare.com/ajax/libs/vega-tooltip/0.5.1/vega-tooltip.min.css\">                             <style>                             .vega-actions > a{                                 color:white;                                 text-decoration: none;                                 font-family: \"Arial\";                                 cursor:pointer;                                 padding:5px;                                 background:#AAAAAA;                                 border-radius:4px;                                 padding-left:10px;                                 padding-right:10px;                                 margin-right:5px;                             }                             .vega-actions{                                 margin-top:20px;                                 text-align:center                             }                            .vega-actions > a{                                 background:#999999;                            }                             </style>                         </head>                         <body>                             <div id=\"vis\">                             </div>                             <script>                                 var vega_json = \"{\\\"$schema\\\": \\\"https://vega.github.io/schema/vega/v4.json\\\", \\\"metadata\\\": {\\\"bubbleOpts\\\": {\\\"showAllFields\\\": false, \\\"fields\\\": [{\\\"field\\\": \\\"left\\\"}, {\\\"field\\\": \\\"right\\\"}, {\\\"field\\\": \\\"count\\\"}, {\\\"field\\\": \\\"label\\\"}]}}, \\\"width\\\": 800, \\\"height\\\": 980, \\\"padding\\\": 8, \\\"data\\\": [{\\\"name\\\": \\\"pts_store\\\"}, {\\\"name\\\": \\\"source_2\\\", \\\"values\\\": [{\\\"a\\\": 0, \\\"title\\\": \\\"URI\\\", \\\"num_row\\\": 59071, \\\"type\\\": \\\"str\\\", \\\"num_unique\\\": 59071, \\\"num_missing\\\": 0, \\\"categorical\\\": [{\\\"label\\\": \\\"<http://dbpedia.org/resource/%C3%80lex_Rigola>\\\", \\\"label_idx\\\": 0, \\\"count\\\": 1, \\\"percentage\\\": \\\"0.00169288%\\\"}, {\\\"label\\\": \\\"<http://dbpedia.org/resource/%C3%81dria_Santos>\\\", \\\"label_idx\\\": 1, \\\"count\\\": 1, \\\"percentage\\\": \\\"0.00169288%\\\"}, {\\\"label\\\": \\\"<http://dbpedia.org/resource/%C3%81g%C3%BAsta_Eva_Erlendsd%C3%B3ttir>\\\", \\\"label_idx\\\": 2, \\\"count\\\": 1, \\\"percentage\\\": \\\"0.00169288%\\\"}, {\\\"label\\\": \\\"<http://dbpedia.org/resource/%C3%81ine_Brady>\\\", \\\"label_idx\\\": 3, \\\"count\\\": 1, \\\"percentage\\\": \\\"0.00169288%\\\"}, {\\\"label\\\": \\\"<http://dbpedia.org/resource/%C3%81ine_Hyland>\\\", \\\"label_idx\\\": 4, \\\"count\\\": 1, \\\"percentage\\\": \\\"0.00169288%\\\"}, {\\\"label\\\": \\\"<http://dbpedia.org/resource/%C3%81lex_Diego>\\\", \\\"label_idx\\\": 5, \\\"count\\\": 1, \\\"percentage\\\": \\\"0.00169288%\\\"}, {\\\"label\\\": \\\"<http://dbpedia.org/resource/%C3%81lvaro_Gon%C3%A7alves>\\\", \\\"label_idx\\\": 6, \\\"count\\\": 1, \\\"percentage\\\": \\\"0.00169288%\\\"}, {\\\"label\\\": \\\"<http://dbpedia.org/resource/%C3%81lvaro_Noboa>\\\", \\\"label_idx\\\": 7, \\\"count\\\": 1, \\\"percentage\\\": \\\"0.00169288%\\\"}, {\\\"label\\\": \\\"<http://dbpedia.org/resource/%C3%81lvaro_Pierri>\\\", \\\"label_idx\\\": 8, \\\"count\\\": 1, \\\"percentage\\\": \\\"0.00169288%\\\"}, {\\\"label\\\": \\\"<http://dbpedia.org/resource/%C3%81lvaro_Rudolphy>\\\", \\\"label_idx\\\": 9, \\\"count\\\": 1, \\\"percentage\\\": \\\"0.00169288%\\\"}, {\\\"label\\\": \\\"Other (59061 labels)\\\", \\\"label_idx\\\": 10, \\\"count\\\": 59061, \\\"percentage\\\": \\\"99.9831%\\\"}], \\\"numeric\\\": []}, {\\\"a\\\": 1, \\\"title\\\": \\\"name\\\", \\\"num_row\\\": 59071, \\\"type\\\": \\\"str\\\", \\\"num_unique\\\": 59070, \\\"num_missing\\\": 0, \\\"categorical\\\": [{\\\"label\\\": \\\"author)\\\", \\\"label_idx\\\": 0, \\\"count\\\": 2, \\\"percentage\\\": \\\"0.00338576%\\\"}, {\\\"label\\\": \\\" Renate Lorenz\\\", \\\"label_idx\\\": 1, \\\"count\\\": 1, \\\"percentage\\\": \\\"0.00169288%\\\"}, {\\\"label\\\": \\\"%C3%80lex Rigola\\\", \\\"label_idx\\\": 2, \\\"count\\\": 1, \\\"percentage\\\": \\\"0.00169288%\\\"}, {\\\"label\\\": \\\"%C3%81dria Santos\\\", \\\"label_idx\\\": 3, \\\"count\\\": 1, \\\"percentage\\\": \\\"0.00169288%\\\"}, {\\\"label\\\": \\\"%C3%81g%C3%BAsta Eva Erlendsd%C3%B3ttir\\\", \\\"label_idx\\\": 4, \\\"count\\\": 1, \\\"percentage\\\": \\\"0.00169288%\\\"}, {\\\"label\\\": \\\"%C3%81ine Brady\\\", \\\"label_idx\\\": 5, \\\"count\\\": 1, \\\"percentage\\\": \\\"0.00169288%\\\"}, {\\\"label\\\": \\\"%C3%81ine Hyland\\\", \\\"label_idx\\\": 6, \\\"count\\\": 1, \\\"percentage\\\": \\\"0.00169288%\\\"}, {\\\"label\\\": \\\"%C3%81lex Diego\\\", \\\"label_idx\\\": 7, \\\"count\\\": 1, \\\"percentage\\\": \\\"0.00169288%\\\"}, {\\\"label\\\": \\\"%C3%81lvaro Gon%C3%A7alves\\\", \\\"label_idx\\\": 8, \\\"count\\\": 1, \\\"percentage\\\": \\\"0.00169288%\\\"}, {\\\"label\\\": \\\"%C3%81lvaro Noboa\\\", \\\"label_idx\\\": 9, \\\"count\\\": 1, \\\"percentage\\\": \\\"0.00169288%\\\"}, {\\\"label\\\": \\\"Other (59060 labels)\\\", \\\"label_idx\\\": 10, \\\"count\\\": 59060, \\\"percentage\\\": \\\"99.9814%\\\"}], \\\"numeric\\\": []}, {\\\"a\\\": 2, \\\"title\\\": \\\"text\\\", \\\"num_row\\\": 59071, \\\"type\\\": \\\"str\\\", \\\"num_unique\\\": 59071, \\\"num_missing\\\": 0, \\\"categorical\\\": [{\\\"label\\\": \\\"108 born 1978 is an italian artist in the field of street art and contemporary art from alessandria108 has moved from working in traditional graffiti art to painting large and mysterious figures that0\\\", \\\"label_idx\\\": 0, \\\"count\\\": 1, \\\"percentage\\\": \\\"0.00169288%\\\"}, {\\\"label\\\": \\\"187 is a pseudonym for jordana lesesne a musician and producer from pittsburgh pennsylvania she became widely known in the mid1990s as an american drum and bass producer the village voice described h1\\\", \\\"label_idx\\\": 1, \\\"count\\\": 1, \\\"percentage\\\": \\\"0.00169288%\\\"}, {\\\"label\\\": \\\"1lt diane carlson evans anc rvn born 1946 served as a nurse in the united states army during the vietnam war and founded the vietnam womens memorial project in 1984 now the vietnam womens memorial fo2\\\", \\\"label_idx\\\": 2, \\\"count\\\": 1, \\\"percentage\\\": \\\"0.00169288%\\\"}, {\\\"label\\\": \\\"1robert godley b 7 july 1971 in whitstable kent is a britishamerican designer of mens clothing godley spent nearly his entire adult life in fashion working for david evans co silk printers london man3\\\", \\\"label_idx\\\": 3, \\\"count\\\": 1, \\\"percentage\\\": \\\"0.00169288%\\\"}, {\\\"label\\\": \\\"2012 gracie award winner lisa mullins is an american radio personality she was the anchor and senior producer of the world a radio program of public radio international from 1996 to 2012 she anchored4\\\", \\\"label_idx\\\": 4, \\\"count\\\": 1, \\\"percentage\\\": \\\"0.00169288%\\\"}, {\\\"label\\\": \\\"250px250pxmartijn meeuwis born july 14 1982 in moergestel is a dutch baseball player who currently plays for neptunus and the dutch national teammeeuwis debuted with the twins sport club in 1999 as a5\\\", \\\"label_idx\\\": 5, \\\"count\\\": 1, \\\"percentage\\\": \\\"0.00169288%\\\"}, {\\\"label\\\": \\\"8 ball aitken born 8 june 1987 is an australian singer songwriter and slide guitarist 8 ball plays country blues swamp americana music and he is notable for his fusion of country music with the genre6\\\", \\\"label_idx\\\": 6, \\\"count\\\": 1, \\\"percentage\\\": \\\"0.00169288%\\\"}, {\\\"label\\\": \\\"8th agya hotogtu lobsang tubten jigme gyatso tibetan amdo tibetan arahtkt born 1950 is one of the most prominent buddhist teachers and lamas to have left tibet at age two arjia rinpoche was recognize7\\\", \\\"label_idx\\\": 7, \\\"count\\\": 1, \\\"percentage\\\": \\\"0.00169288%\\\"}, {\\\"label\\\": \\\"a canadian foreign affairs intelligence officer jim gould previously served as the deputy of the department of foreign affairs and international tradein february 2003 gould and an official from the c8\\\", \\\"label_idx\\\": 8, \\\"count\\\": 1, \\\"percentage\\\": \\\"0.00169288%\\\"}, {\\\"label\\\": \\\"a church historian david l holmes is walter g mason professor of religious studies emeritus at the college of william and mary he is the son of david l holmes a university coach and director of athle9\\\", \\\"label_idx\\\": 9, \\\"count\\\": 1, \\\"percentage\\\": \\\"0.00169288%\\\"}, {\\\"label\\\": \\\"Other (59061 labels)\\\", \\\"label_idx\\\": 10, \\\"count\\\": 59061, \\\"percentage\\\": \\\"99.9831%\\\"}], \\\"numeric\\\": []}]}, {\\\"name\\\": \\\"data_2\\\", \\\"source\\\": \\\"source_2\\\", \\\"transform\\\": [{\\\"type\\\": \\\"formula\\\", \\\"expr\\\": \\\"20\\\", \\\"as\\\": \\\"c_x_axis_back\\\"}, {\\\"type\\\": \\\"formula\\\", \\\"expr\\\": \\\"toNumber(datum[\\\\\\\"a\\\\\\\"])*300+66\\\", \\\"as\\\": \\\"c_main_background\\\"}, {\\\"type\\\": \\\"formula\\\", \\\"expr\\\": \\\"toNumber(datum[\\\\\\\"a\\\\\\\"])*300+43\\\", \\\"as\\\": \\\"c_top_bar\\\"}, {\\\"type\\\": \\\"formula\\\", \\\"expr\\\": \\\"toNumber(datum[\\\\\\\"a\\\\\\\"])*300+59\\\", \\\"as\\\": \\\"c_top_title\\\"}, {\\\"type\\\": \\\"formula\\\", \\\"expr\\\": \\\"toNumber(datum[\\\\\\\"a\\\\\\\"])*300+58\\\", \\\"as\\\": \\\"c_top_type\\\"}, {\\\"type\\\": \\\"formula\\\", \\\"expr\\\": \\\"toNumber(datum[\\\\\\\"a\\\\\\\"])*300+178\\\", \\\"as\\\": \\\"c_rule\\\"}, {\\\"type\\\": \\\"formula\\\", \\\"expr\\\": \\\"toNumber(datum[\\\\\\\"a\\\\\\\"])*300+106\\\", \\\"as\\\": \\\"c_num_rows\\\"}, {\\\"type\\\": \\\"formula\\\", \\\"expr\\\": \\\"toNumber(datum[\\\\\\\"a\\\\\\\"])*300+130\\\", \\\"as\\\": \\\"c_num_unique\\\"}, {\\\"type\\\": \\\"formula\\\", \\\"expr\\\": \\\"toNumber(datum[\\\\\\\"a\\\\\\\"])*300+154\\\", \\\"as\\\": \\\"c_missing\\\"}, {\\\"type\\\": \\\"formula\\\", \\\"expr\\\": \\\"toNumber(datum[\\\\\\\"a\\\\\\\"])*300+105\\\", \\\"as\\\": \\\"c_num_rows_val\\\"}, {\\\"type\\\": \\\"formula\\\", \\\"expr\\\": \\\"toNumber(datum[\\\\\\\"a\\\\\\\"])*300+130\\\", \\\"as\\\": \\\"c_num_unique_val\\\"}, {\\\"type\\\": \\\"formula\\\", \\\"expr\\\": \\\"toNumber(datum[\\\\\\\"a\\\\\\\"])*300+154\\\", \\\"as\\\": \\\"c_missing_val\\\"}, {\\\"type\\\": \\\"formula\\\", \\\"expr\\\": \\\"toNumber(datum[\\\\\\\"a\\\\\\\"])*300+195\\\", \\\"as\\\": \\\"c_frequent_items\\\"}, {\\\"type\\\": \\\"formula\\\", \\\"expr\\\": \\\"toNumber(datum[\\\\\\\"a\\\\\\\"])*300+218\\\", \\\"as\\\": \\\"c_first_item\\\"}, {\\\"type\\\": \\\"formula\\\", \\\"expr\\\": \\\"toNumber(datum[\\\\\\\"a\\\\\\\"])*300+235\\\", \\\"as\\\": \\\"c_second_item\\\"}, {\\\"type\\\": \\\"formula\\\", \\\"expr\\\": \\\"toNumber(datum[\\\\\\\"a\\\\\\\"])*300+252\\\", \\\"as\\\": \\\"c_third_item\\\"}, {\\\"type\\\": \\\"formula\\\", \\\"expr\\\": \\\"toNumber(datum[\\\\\\\"a\\\\\\\"])*300+269\\\", \\\"as\\\": \\\"c_fourth_item\\\"}, {\\\"type\\\": \\\"formula\\\", \\\"expr\\\": \\\"toNumber(datum[\\\\\\\"a\\\\\\\"])*300+286\\\", \\\"as\\\": \\\"c_fifth_item\\\"}, {\\\"type\\\": \\\"formula\\\", \\\"expr\\\": \\\"toNumber(datum[\\\\\\\"a\\\\\\\"])*300+200\\\", \\\"as\\\": \\\"c_mean\\\"}, {\\\"type\\\": \\\"formula\\\", \\\"expr\\\": \\\"toNumber(datum[\\\\\\\"a\\\\\\\"])*300+220\\\", \\\"as\\\": \\\"c_min\\\"}, {\\\"type\\\": \\\"formula\\\", \\\"expr\\\": \\\"toNumber(datum[\\\\\\\"a\\\\\\\"])*300+240\\\", \\\"as\\\": \\\"c_max\\\"}, {\\\"type\\\": \\\"formula\\\", \\\"expr\\\": \\\"toNumber(datum[\\\\\\\"a\\\\\\\"])*300+260\\\", \\\"as\\\": \\\"c_median\\\"}, {\\\"type\\\": \\\"formula\\\", \\\"expr\\\": \\\"toNumber(datum[\\\\\\\"a\\\\\\\"])*300+280\\\", \\\"as\\\": \\\"c_stdev\\\"}, {\\\"type\\\": \\\"formula\\\", \\\"expr\\\": \\\"toNumber(datum[\\\\\\\"a\\\\\\\"])*300+198\\\", \\\"as\\\": \\\"c_mean_val\\\"}, {\\\"type\\\": \\\"formula\\\", \\\"expr\\\": \\\"toNumber(datum[\\\\\\\"a\\\\\\\"])*300+218\\\", \\\"as\\\": \\\"c_min_val\\\"}, {\\\"type\\\": \\\"formula\\\", \\\"expr\\\": \\\"toNumber(datum[\\\\\\\"a\\\\\\\"])*300+238\\\", \\\"as\\\": \\\"c_max_val\\\"}, {\\\"type\\\": \\\"formula\\\", \\\"expr\\\": \\\"toNumber(datum[\\\\\\\"a\\\\\\\"])*300+258\\\", \\\"as\\\": \\\"c_median_val\\\"}, {\\\"type\\\": \\\"formula\\\", \\\"expr\\\": \\\"toNumber(datum[\\\\\\\"a\\\\\\\"])*300+278\\\", \\\"as\\\": \\\"c_stdev_val\\\"}, {\\\"type\\\": \\\"formula\\\", \\\"expr\\\": \\\"toNumber(datum[\\\\\\\"a\\\\\\\"])*300+106\\\", \\\"as\\\": \\\"graph_offset\\\"}, {\\\"type\\\": \\\"formula\\\", \\\"expr\\\": \\\"toNumber(datum[\\\\\\\"a\\\\\\\"])*300+132\\\", \\\"as\\\": \\\"graph_offset_categorical\\\"}, {\\\"type\\\": \\\"formula\\\", \\\"expr\\\": \\\"(toString(datum[\\\\\\\"type\\\\\\\"]) == \\\\\\\"integer\\\\\\\" || toString(datum[\\\\\\\"type\\\\\\\"]) == \\\\\\\"float\\\\\\\")?false:true\\\", \\\"as\\\": \\\"c_clip_val\\\"}, {\\\"type\\\": \\\"formula\\\", \\\"expr\\\": \\\"(toString(datum[\\\\\\\"type\\\\\\\"]) == \\\\\\\"integer\\\\\\\" || toString(datum[\\\\\\\"type\\\\\\\"]) == \\\\\\\"float\\\\\\\")?250:0\\\", \\\"as\\\": \\\"c_width_numeric_val\\\"}, {\\\"type\\\": \\\"formula\\\", \\\"expr\\\": \\\"(toString(datum[\\\\\\\"type\\\\\\\"]) == \\\\\\\"str\\\\\\\")?false:true\\\", \\\"as\\\": \\\"c_clip_val_cat\\\"}, {\\\"type\\\": \\\"formula\\\", \\\"expr\\\": \\\"(toString(datum[\\\\\\\"type\\\\\\\"]) == \\\\\\\"str\\\\\\\")?250:0\\\", \\\"as\\\": \\\"c_width_numeric_val_cat\\\"}]}], \\\"marks\\\": [{\\\"encode\\\": {\\\"enter\\\": {\\\"x\\\": {\\\"value\\\": 0}, \\\"width\\\": {\\\"value\\\": 734}, \\\"y\\\": {\\\"value\\\": 0}, \\\"height\\\": {\\\"value\\\": 366}, \\\"clip\\\": {\\\"value\\\": 0}, \\\"fill\\\": {\\\"value\\\": \\\"#ffffff\\\"}, \\\"fillOpacity\\\": {\\\"value\\\": 0}, \\\"stroke\\\": {\\\"value\\\": \\\"#000000\\\"}, \\\"strokeWidth\\\": {\\\"value\\\": 0}}}, \\\"marks\\\": [{\\\"encode\\\": {\\\"enter\\\": {\\\"x\\\": {\\\"value\\\": 0}, \\\"width\\\": {\\\"value\\\": 734}, \\\"y\\\": {\\\"value\\\": 0}, \\\"height\\\": {\\\"value\\\": 366}, \\\"clip\\\": {\\\"value\\\": 0}, \\\"fill\\\": {\\\"value\\\": \\\"#ffffff\\\"}, \\\"fillOpacity\\\": {\\\"value\\\": 0}, \\\"stroke\\\": {\\\"value\\\": \\\"#000000\\\"}, \\\"strokeWidth\\\": {\\\"value\\\": 0}}}, \\\"scales\\\": [], \\\"axes\\\": [], \\\"marks\\\": [{\\\"from\\\": {\\\"data\\\": \\\"data_2\\\"}, \\\"encode\\\": {\\\"enter\\\": {\\\"x\\\": {\\\"value\\\": 33}, \\\"width\\\": {\\\"value\\\": 700}, \\\"y\\\": {\\\"value\\\": 66}, \\\"height\\\": {\\\"value\\\": 250}, \\\"fill\\\": {\\\"value\\\": \\\"#FEFEFE\\\"}, \\\"fillOpacity\\\": {\\\"value\\\": 1}, \\\"stroke\\\": {\\\"value\\\": \\\"#DEDEDE\\\"}, \\\"strokeWidth\\\": {\\\"value\\\": 0.5}}, \\\"update\\\": {\\\"x\\\": {\\\"signal\\\": \\\"datum[\\\\\\\"c_x_axis_back\\\\\\\"]\\\"}, \\\"y\\\": {\\\"field\\\": \\\"c_main_background\\\"}}}, \\\"type\\\": \\\"rect\\\"}, {\\\"from\\\": {\\\"data\\\": \\\"data_2\\\"}, \\\"encode\\\": {\\\"enter\\\": {\\\"x\\\": {\\\"value\\\": 33}, \\\"width\\\": {\\\"value\\\": 700}, \\\"y\\\": {\\\"value\\\": 43}, \\\"height\\\": {\\\"value\\\": 30}, \\\"fill\\\": {\\\"value\\\": \\\"#F5F5F5\\\"}, \\\"fillOpacity\\\": {\\\"value\\\": 1}, \\\"stroke\\\": {\\\"value\\\": \\\"#DEDEDE\\\"}, \\\"strokeWidth\\\": {\\\"value\\\": 0.5}}, \\\"update\\\": {\\\"x\\\": {\\\"signal\\\": \\\"datum[\\\\\\\"c_x_axis_back\\\\\\\"]\\\"}, \\\"y\\\": {\\\"field\\\": \\\"c_top_bar\\\"}}}, \\\"type\\\": \\\"rect\\\"}, {\\\"from\\\": {\\\"data\\\": \\\"data_2\\\"}, \\\"encode\\\": {\\\"enter\\\": {\\\"x\\\": {\\\"value\\\": 720}, \\\"y\\\": {\\\"value\\\": 58}, \\\"text\\\": {\\\"signal\\\": \\\"&apos;&apos;+datum[\\\\\\\"type\\\\\\\"]\\\"}, \\\"align\\\": {\\\"value\\\": \\\"right\\\"}, \\\"baseline\\\": {\\\"value\\\": \\\"middle\\\"}, \\\"dx\\\": {\\\"value\\\": 0, \\\"offset\\\": 0}, \\\"dy\\\": {\\\"value\\\": 0, \\\"offset\\\": 0}, \\\"angle\\\": {\\\"value\\\": 0}, \\\"font\\\": {\\\"value\\\": \\\"AvenirNext-Medium\\\"}, \\\"fontSize\\\": {\\\"value\\\": 12}, \\\"fontWeight\\\": {\\\"value\\\": \\\"normal\\\"}, \\\"fontStyle\\\": {\\\"value\\\": \\\"normal\\\"}, \\\"fill\\\": {\\\"value\\\": \\\"#595859\\\"}}, \\\"update\\\": {\\\"x\\\": {\\\"signal\\\": \\\"datum[\\\\\\\"c_x_axis_back\\\\\\\"]+687\\\"}, \\\"y\\\": {\\\"field\\\": \\\"c_top_type\\\"}}}, \\\"type\\\": \\\"text\\\"}, {\\\"from\\\": {\\\"data\\\": \\\"data_2\\\"}, \\\"encode\\\": {\\\"enter\\\": {\\\"x\\\": {\\\"value\\\": 44}, \\\"y\\\": {\\\"value\\\": 59}, \\\"text\\\": {\\\"signal\\\": \\\"&apos;&apos;+datum[\\\\\\\"title\\\\\\\"]\\\"}, \\\"align\\\": {\\\"value\\\": \\\"left\\\"}, \\\"baseline\\\": {\\\"value\\\": \\\"middle\\\"}, \\\"dx\\\": {\\\"value\\\": 0, \\\"offset\\\": 0}, \\\"dy\\\": {\\\"value\\\": 0, \\\"offset\\\": 0}, \\\"angle\\\": {\\\"value\\\": 0}, \\\"font\\\": {\\\"value\\\": \\\"AvenirNext-Medium\\\"}, \\\"fontSize\\\": {\\\"value\\\": 15}, \\\"fontWeight\\\": {\\\"value\\\": \\\"normal\\\"}, \\\"fontStyle\\\": {\\\"value\\\": \\\"normal\\\"}, \\\"fill\\\": {\\\"value\\\": \\\"#9B9B9B\\\"}}, \\\"update\\\": {\\\"x\\\": {\\\"signal\\\": \\\"datum[\\\\\\\"c_x_axis_back\\\\\\\"]+11\\\"}, \\\"y\\\": {\\\"field\\\": \\\"c_top_title\\\"}}}, \\\"type\\\": \\\"text\\\"}, {\\\"from\\\": {\\\"data\\\": \\\"data_2\\\"}, \\\"encode\\\": {\\\"enter\\\": {\\\"x\\\": {\\\"value\\\": 500}, \\\"y\\\": {\\\"value\\\": 178}, \\\"stroke\\\": {\\\"value\\\": \\\"#EDEDEB\\\"}, \\\"strokeWidth\\\": {\\\"value\\\": 1}, \\\"strokeCap\\\": {\\\"value\\\": \\\"butt\\\"}, \\\"x2\\\": {\\\"value\\\": 720}, \\\"y2\\\": {\\\"value\\\": 178}}, \\\"update\\\": {\\\"x\\\": {\\\"signal\\\": \\\"datum[\\\\\\\"c_x_axis_back\\\\\\\"]+467\\\"}, \\\"x2\\\": {\\\"signal\\\": \\\"datum[\\\\\\\"c_x_axis_back\\\\\\\"]+687\\\"}, \\\"y\\\": {\\\"field\\\": \\\"c_rule\\\"}, \\\"y2\\\": {\\\"field\\\": \\\"c_rule\\\"}}}, \\\"type\\\": \\\"rule\\\"}, {\\\"from\\\": {\\\"data\\\": \\\"data_2\\\"}, \\\"encode\\\": {\\\"enter\\\": {\\\"x\\\": {\\\"value\\\": 500}, \\\"y\\\": {\\\"value\\\": 106}, \\\"text\\\": {\\\"value\\\": \\\"Num. Rows:\\\"}, \\\"align\\\": {\\\"value\\\": \\\"left\\\"}, \\\"baseline\\\": {\\\"value\\\": \\\"middle\\\"}, \\\"dx\\\": {\\\"value\\\": 0, \\\"offset\\\": 0}, \\\"dy\\\": {\\\"value\\\": 0, \\\"offset\\\": 0}, \\\"angle\\\": {\\\"value\\\": 0}, \\\"font\\\": {\\\"value\\\": \\\"AvenirNext-Medium\\\"}, \\\"fontSize\\\": {\\\"value\\\": 12}, \\\"fontWeight\\\": {\\\"value\\\": \\\"normal\\\"}, \\\"fontStyle\\\": {\\\"value\\\": \\\"normal\\\"}, \\\"fill\\\": {\\\"value\\\": \\\"#4A4A4A\\\"}}, \\\"update\\\": {\\\"x\\\": {\\\"signal\\\": \\\"datum[\\\\\\\"c_x_axis_back\\\\\\\"]+467\\\"}, \\\"y\\\": {\\\"field\\\": \\\"c_num_rows\\\"}}}, \\\"type\\\": \\\"text\\\"}, {\\\"from\\\": {\\\"data\\\": \\\"data_2\\\"}, \\\"encode\\\": {\\\"enter\\\": {\\\"x\\\": {\\\"value\\\": 500}, \\\"y\\\": {\\\"value\\\": 130}, \\\"text\\\": {\\\"value\\\": \\\"Num. Unique:\\\"}, \\\"align\\\": {\\\"value\\\": \\\"left\\\"}, \\\"baseline\\\": {\\\"value\\\": \\\"middle\\\"}, \\\"dx\\\": {\\\"value\\\": 0, \\\"offset\\\": 0}, \\\"dy\\\": {\\\"value\\\": 0, \\\"offset\\\": 0}, \\\"angle\\\": {\\\"value\\\": 0}, \\\"font\\\": {\\\"value\\\": \\\"AvenirNext-Medium\\\"}, \\\"fontSize\\\": {\\\"value\\\": 12}, \\\"fontWeight\\\": {\\\"value\\\": \\\"normal\\\"}, \\\"fontStyle\\\": {\\\"value\\\": \\\"normal\\\"}, \\\"fill\\\": {\\\"value\\\": \\\"#4A4A4A\\\"}}, \\\"update\\\": {\\\"x\\\": {\\\"signal\\\": \\\"datum[\\\\\\\"c_x_axis_back\\\\\\\"]+467\\\"}, \\\"y\\\": {\\\"field\\\": \\\"c_num_unique\\\"}}}, \\\"type\\\": \\\"text\\\"}, {\\\"from\\\": {\\\"data\\\": \\\"data_2\\\"}, \\\"encode\\\": {\\\"enter\\\": {\\\"x\\\": {\\\"value\\\": 500}, \\\"y\\\": {\\\"value\\\": 154}, \\\"text\\\": {\\\"value\\\": \\\"Missing:\\\"}, \\\"align\\\": {\\\"value\\\": \\\"left\\\"}, \\\"baseline\\\": {\\\"value\\\": \\\"middle\\\"}, \\\"dx\\\": {\\\"value\\\": 0, \\\"offset\\\": 0}, \\\"dy\\\": {\\\"value\\\": 0, \\\"offset\\\": 0}, \\\"angle\\\": {\\\"value\\\": 0}, \\\"font\\\": {\\\"value\\\": \\\"AvenirNext-Medium\\\"}, \\\"fontSize\\\": {\\\"value\\\": 12}, \\\"fontWeight\\\": {\\\"value\\\": \\\"normal\\\"}, \\\"fontStyle\\\": {\\\"value\\\": \\\"normal\\\"}, \\\"fill\\\": {\\\"value\\\": \\\"#4A4A4A\\\"}}, \\\"update\\\": {\\\"x\\\": {\\\"signal\\\": \\\"datum[\\\\\\\"c_x_axis_back\\\\\\\"]+467\\\"}, \\\"y\\\": {\\\"field\\\": \\\"c_missing\\\"}}}, \\\"type\\\": \\\"text\\\"}, {\\\"from\\\": {\\\"data\\\": \\\"data_2\\\"}, \\\"encode\\\": {\\\"enter\\\": {\\\"x\\\": {\\\"value\\\": 700}, \\\"y\\\": {\\\"value\\\": 105}, \\\"text\\\": {\\\"signal\\\": \\\"toString(format(datum[\\\\\\\"num_row\\\\\\\"], \\\\\\\",\\\\\\\"))\\\"}, \\\"align\\\": {\\\"value\\\": \\\"right\\\"}, \\\"baseline\\\": {\\\"value\\\": \\\"middle\\\"}, \\\"dx\\\": {\\\"value\\\": 0, \\\"offset\\\": 0}, \\\"dy\\\": {\\\"value\\\": 0, \\\"offset\\\": 0}, \\\"angle\\\": {\\\"value\\\": 0}, \\\"font\\\": {\\\"value\\\": \\\"AvenirNext-Medium\\\"}, \\\"fontSize\\\": {\\\"value\\\": 12}, \\\"fontWeight\\\": {\\\"value\\\": \\\"normal\\\"}, \\\"fontStyle\\\": {\\\"value\\\": \\\"normal\\\"}, \\\"fill\\\": {\\\"value\\\": \\\"#5A5A5A\\\"}}, \\\"update\\\": {\\\"x\\\": {\\\"signal\\\": \\\"datum[\\\\\\\"c_x_axis_back\\\\\\\"]+667\\\"}, \\\"y\\\": {\\\"field\\\": \\\"c_num_rows_val\\\"}}}, \\\"type\\\": \\\"text\\\"}, {\\\"from\\\": {\\\"data\\\": \\\"data_2\\\"}, \\\"encode\\\": {\\\"enter\\\": {\\\"x\\\": {\\\"value\\\": 700}, \\\"y\\\": {\\\"value\\\": 130}, \\\"text\\\": {\\\"signal\\\": \\\"toString(format(datum[\\\\\\\"num_unique\\\\\\\"], \\\\\\\",\\\\\\\"))\\\"}, \\\"align\\\": {\\\"value\\\": \\\"right\\\"}, \\\"baseline\\\": {\\\"value\\\": \\\"middle\\\"}, \\\"dx\\\": {\\\"value\\\": 0, \\\"offset\\\": 0}, \\\"dy\\\": {\\\"value\\\": 0, \\\"offset\\\": 0}, \\\"angle\\\": {\\\"value\\\": 0}, \\\"font\\\": {\\\"value\\\": \\\"AvenirNext-Medium\\\"}, \\\"fontSize\\\": {\\\"value\\\": 12}, \\\"fontWeight\\\": {\\\"value\\\": \\\"normal\\\"}, \\\"fontStyle\\\": {\\\"value\\\": \\\"normal\\\"}, \\\"fill\\\": {\\\"value\\\": \\\"#5A5A5A\\\"}}, \\\"update\\\": {\\\"x\\\": {\\\"signal\\\": \\\"datum[\\\\\\\"c_x_axis_back\\\\\\\"]+667\\\"}, \\\"y\\\": {\\\"field\\\": \\\"c_num_unique_val\\\"}}}, \\\"type\\\": \\\"text\\\"}, {\\\"from\\\": {\\\"data\\\": \\\"data_2\\\"}, \\\"encode\\\": {\\\"enter\\\": {\\\"x\\\": {\\\"value\\\": 700}, \\\"y\\\": {\\\"value\\\": 154}, \\\"text\\\": {\\\"signal\\\": \\\"toString(format(datum[\\\\\\\"num_missing\\\\\\\"], \\\\\\\",\\\\\\\"))\\\"}, \\\"align\\\": {\\\"value\\\": \\\"right\\\"}, \\\"baseline\\\": {\\\"value\\\": \\\"middle\\\"}, \\\"dx\\\": {\\\"value\\\": 0, \\\"offset\\\": 0}, \\\"dy\\\": {\\\"value\\\": 0, \\\"offset\\\": 0}, \\\"angle\\\": {\\\"value\\\": 0}, \\\"font\\\": {\\\"value\\\": \\\"AvenirNext-Medium\\\"}, \\\"fontSize\\\": {\\\"value\\\": 12}, \\\"fontWeight\\\": {\\\"value\\\": \\\"normal\\\"}, \\\"fontStyle\\\": {\\\"value\\\": \\\"normal\\\"}, \\\"fill\\\": {\\\"value\\\": \\\"#5A5A5A\\\"}}, \\\"update\\\": {\\\"x\\\": {\\\"signal\\\": \\\"datum[\\\\\\\"c_x_axis_back\\\\\\\"]+667\\\"}, \\\"y\\\": {\\\"field\\\": \\\"c_missing_val\\\"}}}, \\\"type\\\": \\\"text\\\"}, {\\\"from\\\": {\\\"data\\\": \\\"data_2\\\"}, \\\"encode\\\": {\\\"enter\\\": {\\\"x\\\": {\\\"value\\\": 500}, \\\"y\\\": {\\\"value\\\": 200}, \\\"text\\\": {\\\"signal\\\": \\\"(toString(datum[\\\\\\\"type\\\\\\\"]) == \\\\\\\"str\\\\\\\")? \\\\\\\"Frequent Items\\\\\\\":\\\\\\\"\\\\\\\"\\\"}, \\\"align\\\": {\\\"value\\\": \\\"left\\\"}, \\\"baseline\\\": {\\\"value\\\": \\\"middle\\\"}, \\\"dx\\\": {\\\"value\\\": 0, \\\"offset\\\": 0}, \\\"dy\\\": {\\\"value\\\": 0, \\\"offset\\\": 0}, \\\"angle\\\": {\\\"value\\\": 0}, \\\"clip\\\": {\\\"value\\\": true}, \\\"font\\\": {\\\"value\\\": \\\"AvenirNext-Medium\\\"}, \\\"fontSize\\\": {\\\"value\\\": 11}, \\\"fontWeight\\\": {\\\"value\\\": \\\"bold\\\"}, \\\"fontStyle\\\": {\\\"value\\\": \\\"normal\\\"}, \\\"fill\\\": {\\\"value\\\": \\\"#4A4A4A\\\"}}, \\\"update\\\": {\\\"x\\\": {\\\"signal\\\": \\\"datum[\\\\\\\"c_x_axis_back\\\\\\\"]+467\\\"}, \\\"y\\\": {\\\"field\\\": \\\"c_frequent_items\\\"}}}, \\\"type\\\": \\\"text\\\"}, {\\\"from\\\": {\\\"data\\\": \\\"data_2\\\"}, \\\"encode\\\": {\\\"enter\\\": {\\\"x\\\": {\\\"value\\\": 520}, \\\"y\\\": {\\\"value\\\": 200}, \\\"text\\\": {\\\"signal\\\": \\\"((datum[\\\\\\\"categorical\\\\\\\"].length >= 1) &amp;&amp; (toString(datum[\\\\\\\"type\\\\\\\"]) == \\\\\\\"str\\\\\\\"))? toString(datum[\\\\\\\"categorical\\\\\\\"][0][\\\\\\\"label\\\\\\\"]):\\\\\\\"\\\\\\\"\\\"}, \\\"align\\\": {\\\"value\\\": \\\"left\\\"}, \\\"baseline\\\": {\\\"value\\\": \\\"middle\\\"}, \\\"dx\\\": {\\\"value\\\": 0, \\\"offset\\\": 0}, \\\"dy\\\": {\\\"value\\\": 0, \\\"offset\\\": 0}, \\\"angle\\\": {\\\"value\\\": 0}, \\\"clip\\\": {\\\"value\\\": true}, \\\"font\\\": {\\\"value\\\": \\\"AvenirNext-Medium\\\"}, \\\"fontSize\\\": {\\\"value\\\": 11}, \\\"fontWeight\\\": {\\\"value\\\": \\\"normal\\\"}, \\\"fontStyle\\\": {\\\"value\\\": \\\"normal\\\"}, \\\"fill\\\": {\\\"value\\\": \\\"#4A4A4A\\\"}}, \\\"update\\\": {\\\"x\\\": {\\\"signal\\\": \\\"datum[\\\\\\\"c_x_axis_back\\\\\\\"]+487\\\"}, \\\"y\\\": {\\\"field\\\": \\\"c_first_item\\\"}}}, \\\"type\\\": \\\"text\\\"}, {\\\"from\\\": {\\\"data\\\": \\\"data_2\\\"}, \\\"encode\\\": {\\\"enter\\\": {\\\"x\\\": {\\\"value\\\": 520}, \\\"y\\\": {\\\"value\\\": 200}, \\\"text\\\": {\\\"signal\\\": \\\"((datum[\\\\\\\"categorical\\\\\\\"].length >= 2) &amp;&amp; (toString(datum[\\\\\\\"type\\\\\\\"]) == \\\\\\\"str\\\\\\\"))? toString(datum[\\\\\\\"categorical\\\\\\\"][1][\\\\\\\"label\\\\\\\"]):\\\\\\\"\\\\\\\"\\\"}, \\\"align\\\": {\\\"value\\\": \\\"left\\\"}, \\\"baseline\\\": {\\\"value\\\": \\\"middle\\\"}, \\\"dx\\\": {\\\"value\\\": 0, \\\"offset\\\": 0}, \\\"dy\\\": {\\\"value\\\": 0, \\\"offset\\\": 0}, \\\"angle\\\": {\\\"value\\\": 0}, \\\"clip\\\": {\\\"value\\\": true}, \\\"font\\\": {\\\"value\\\": \\\"AvenirNext-Medium\\\"}, \\\"fontSize\\\": {\\\"value\\\": 11}, \\\"fontWeight\\\": {\\\"value\\\": \\\"normal\\\"}, \\\"fontStyle\\\": {\\\"value\\\": \\\"normal\\\"}, \\\"fill\\\": {\\\"value\\\": \\\"#4A4A4A\\\"}}, \\\"update\\\": {\\\"x\\\": {\\\"signal\\\": \\\"datum[\\\\\\\"c_x_axis_back\\\\\\\"]+487\\\"}, \\\"y\\\": {\\\"field\\\": \\\"c_second_item\\\"}}}, \\\"type\\\": \\\"text\\\"}, {\\\"from\\\": {\\\"data\\\": \\\"data_2\\\"}, \\\"encode\\\": {\\\"enter\\\": {\\\"x\\\": {\\\"value\\\": 520}, \\\"y\\\": {\\\"value\\\": 200}, \\\"text\\\": {\\\"signal\\\": \\\"((datum[\\\\\\\"categorical\\\\\\\"].length >= 3) &amp;&amp; (toString(datum[\\\\\\\"type\\\\\\\"]) == \\\\\\\"str\\\\\\\"))? toString(datum[\\\\\\\"categorical\\\\\\\"][2][\\\\\\\"label\\\\\\\"]):\\\\\\\"\\\\\\\"\\\"}, \\\"align\\\": {\\\"value\\\": \\\"left\\\"}, \\\"baseline\\\": {\\\"value\\\": \\\"middle\\\"}, \\\"dx\\\": {\\\"value\\\": 0, \\\"offset\\\": 0}, \\\"dy\\\": {\\\"value\\\": 0, \\\"offset\\\": 0}, \\\"angle\\\": {\\\"value\\\": 0}, \\\"clip\\\": {\\\"value\\\": true}, \\\"font\\\": {\\\"value\\\": \\\"AvenirNext-Medium\\\"}, \\\"fontSize\\\": {\\\"value\\\": 11}, \\\"fontWeight\\\": {\\\"value\\\": \\\"normal\\\"}, \\\"fontStyle\\\": {\\\"value\\\": \\\"normal\\\"}, \\\"fill\\\": {\\\"value\\\": \\\"#4A4A4A\\\"}}, \\\"update\\\": {\\\"x\\\": {\\\"signal\\\": \\\"datum[\\\\\\\"c_x_axis_back\\\\\\\"]+487\\\"}, \\\"y\\\": {\\\"field\\\": \\\"c_third_item\\\"}}}, \\\"type\\\": \\\"text\\\"}, {\\\"from\\\": {\\\"data\\\": \\\"data_2\\\"}, \\\"encode\\\": {\\\"enter\\\": {\\\"x\\\": {\\\"value\\\": 520}, \\\"y\\\": {\\\"value\\\": 200}, \\\"text\\\": {\\\"signal\\\": \\\"((datum[\\\\\\\"categorical\\\\\\\"].length >= 4) &amp;&amp; (toString(datum[\\\\\\\"type\\\\\\\"]) == \\\\\\\"str\\\\\\\"))? toString(datum[\\\\\\\"categorical\\\\\\\"][3][\\\\\\\"label\\\\\\\"]):\\\\\\\"\\\\\\\"\\\"}, \\\"align\\\": {\\\"value\\\": \\\"left\\\"}, \\\"baseline\\\": {\\\"value\\\": \\\"middle\\\"}, \\\"dx\\\": {\\\"value\\\": 0, \\\"offset\\\": 0}, \\\"dy\\\": {\\\"value\\\": 0, \\\"offset\\\": 0}, \\\"angle\\\": {\\\"value\\\": 0}, \\\"clip\\\": {\\\"value\\\": true}, \\\"font\\\": {\\\"value\\\": \\\"AvenirNext-Medium\\\"}, \\\"fontSize\\\": {\\\"value\\\": 11}, \\\"fontWeight\\\": {\\\"value\\\": \\\"normal\\\"}, \\\"fontStyle\\\": {\\\"value\\\": \\\"normal\\\"}, \\\"fill\\\": {\\\"value\\\": \\\"#4A4A4A\\\"}}, \\\"update\\\": {\\\"x\\\": {\\\"signal\\\": \\\"datum[\\\\\\\"c_x_axis_back\\\\\\\"]+487\\\"}, \\\"y\\\": {\\\"field\\\": \\\"c_fourth_item\\\"}}}, \\\"type\\\": \\\"text\\\"}, {\\\"from\\\": {\\\"data\\\": \\\"data_2\\\"}, \\\"encode\\\": {\\\"enter\\\": {\\\"x\\\": {\\\"value\\\": 520}, \\\"y\\\": {\\\"value\\\": 200}, \\\"text\\\": {\\\"signal\\\": \\\"((datum[\\\\\\\"categorical\\\\\\\"].length >= 5) &amp;&amp; (toString(datum[\\\\\\\"type\\\\\\\"]) == \\\\\\\"str\\\\\\\"))? toString(datum[\\\\\\\"categorical\\\\\\\"][4][\\\\\\\"label\\\\\\\"]):\\\\\\\"\\\\\\\"\\\"}, \\\"align\\\": {\\\"value\\\": \\\"left\\\"}, \\\"baseline\\\": {\\\"value\\\": \\\"middle\\\"}, \\\"dx\\\": {\\\"value\\\": 0, \\\"offset\\\": 0}, \\\"dy\\\": {\\\"value\\\": 0, \\\"offset\\\": 0}, \\\"angle\\\": {\\\"value\\\": 0}, \\\"clip\\\": {\\\"value\\\": true}, \\\"font\\\": {\\\"value\\\": \\\"AvenirNext-Medium\\\"}, \\\"fontSize\\\": {\\\"value\\\": 11}, \\\"fontWeight\\\": {\\\"value\\\": \\\"normal\\\"}, \\\"fontStyle\\\": {\\\"value\\\": \\\"normal\\\"}, \\\"fill\\\": {\\\"value\\\": \\\"#4A4A4A\\\"}}, \\\"update\\\": {\\\"x\\\": {\\\"signal\\\": \\\"datum[\\\\\\\"c_x_axis_back\\\\\\\"]+487\\\"}, \\\"y\\\": {\\\"field\\\": \\\"c_fifth_item\\\"}}}, \\\"type\\\": \\\"text\\\"}, {\\\"from\\\": {\\\"data\\\": \\\"data_2\\\"}, \\\"encode\\\": {\\\"enter\\\": {\\\"x\\\": {\\\"value\\\": 700}, \\\"y\\\": {\\\"value\\\": 200}, \\\"text\\\": {\\\"signal\\\": \\\"((datum[\\\\\\\"categorical\\\\\\\"].length >= 1) &amp;&amp; (toString(datum[\\\\\\\"type\\\\\\\"]) == \\\\\\\"str\\\\\\\"))? toString(datum[\\\\\\\"categorical\\\\\\\"][0][\\\\\\\"count\\\\\\\"]):\\\\\\\"\\\\\\\"\\\"}, \\\"align\\\": {\\\"value\\\": \\\"right\\\"}, \\\"baseline\\\": {\\\"value\\\": \\\"middle\\\"}, \\\"dx\\\": {\\\"value\\\": 0, \\\"offset\\\": 0}, \\\"dy\\\": {\\\"value\\\": 0, \\\"offset\\\": 0}, \\\"angle\\\": {\\\"value\\\": 0}, \\\"clip\\\": {\\\"value\\\": true}, \\\"font\\\": {\\\"value\\\": \\\"AvenirNext-Medium\\\"}, \\\"fontSize\\\": {\\\"value\\\": 11}, \\\"fontWeight\\\": {\\\"value\\\": \\\"normal\\\"}, \\\"fontStyle\\\": {\\\"value\\\": \\\"normal\\\"}, \\\"fill\\\": {\\\"value\\\": \\\"#7A7A7A\\\"}}, \\\"update\\\": {\\\"x\\\": {\\\"signal\\\": \\\"datum[\\\\\\\"c_x_axis_back\\\\\\\"]+667\\\"}, \\\"y\\\": {\\\"field\\\": \\\"c_first_item\\\"}}}, \\\"type\\\": \\\"text\\\"}, {\\\"from\\\": {\\\"data\\\": \\\"data_2\\\"}, \\\"encode\\\": {\\\"enter\\\": {\\\"x\\\": {\\\"value\\\": 700}, \\\"y\\\": {\\\"value\\\": 200}, \\\"text\\\": {\\\"signal\\\": \\\"((datum[\\\\\\\"categorical\\\\\\\"].length >= 2) &amp;&amp; (toString(datum[\\\\\\\"type\\\\\\\"]) == \\\\\\\"str\\\\\\\"))? toString(datum[\\\\\\\"categorical\\\\\\\"][1][\\\\\\\"count\\\\\\\"]):\\\\\\\"\\\\\\\"\\\"}, \\\"align\\\": {\\\"value\\\": \\\"right\\\"}, \\\"baseline\\\": {\\\"value\\\": \\\"middle\\\"}, \\\"dx\\\": {\\\"value\\\": 0, \\\"offset\\\": 0}, \\\"dy\\\": {\\\"value\\\": 0, \\\"offset\\\": 0}, \\\"angle\\\": {\\\"value\\\": 0}, \\\"clip\\\": {\\\"value\\\": true}, \\\"font\\\": {\\\"value\\\": \\\"AvenirNext-Medium\\\"}, \\\"fontSize\\\": {\\\"value\\\": 10}, \\\"fontWeight\\\": {\\\"value\\\": \\\"normal\\\"}, \\\"fontStyle\\\": {\\\"value\\\": \\\"normal\\\"}, \\\"fill\\\": {\\\"value\\\": \\\"#7A7A7A\\\"}}, \\\"update\\\": {\\\"x\\\": {\\\"signal\\\": \\\"datum[\\\\\\\"c_x_axis_back\\\\\\\"]+667\\\"}, \\\"y\\\": {\\\"field\\\": \\\"c_second_item\\\"}}}, \\\"type\\\": \\\"text\\\"}, {\\\"from\\\": {\\\"data\\\": \\\"data_2\\\"}, \\\"encode\\\": {\\\"enter\\\": {\\\"x\\\": {\\\"value\\\": 700}, \\\"y\\\": {\\\"value\\\": 200}, \\\"text\\\": {\\\"signal\\\": \\\"((datum[\\\\\\\"categorical\\\\\\\"].length >= 3) &amp;&amp; (toString(datum[\\\\\\\"type\\\\\\\"]) == \\\\\\\"str\\\\\\\"))? toString(datum[\\\\\\\"categorical\\\\\\\"][2][\\\\\\\"count\\\\\\\"]):\\\\\\\"\\\\\\\"\\\"}, \\\"align\\\": {\\\"value\\\": \\\"right\\\"}, \\\"baseline\\\": {\\\"value\\\": \\\"middle\\\"}, \\\"dx\\\": {\\\"value\\\": 0, \\\"offset\\\": 0}, \\\"dy\\\": {\\\"value\\\": 0, \\\"offset\\\": 0}, \\\"angle\\\": {\\\"value\\\": 0}, \\\"clip\\\": {\\\"value\\\": true}, \\\"font\\\": {\\\"value\\\": \\\"AvenirNext-Medium\\\"}, \\\"fontSize\\\": {\\\"value\\\": 10}, \\\"fontWeight\\\": {\\\"value\\\": \\\"normal\\\"}, \\\"fontStyle\\\": {\\\"value\\\": \\\"normal\\\"}, \\\"fill\\\": {\\\"value\\\": \\\"#7A7A7A\\\"}}, \\\"update\\\": {\\\"x\\\": {\\\"signal\\\": \\\"datum[\\\\\\\"c_x_axis_back\\\\\\\"]+667\\\"}, \\\"y\\\": {\\\"field\\\": \\\"c_third_item\\\"}}}, \\\"type\\\": \\\"text\\\"}, {\\\"from\\\": {\\\"data\\\": \\\"data_2\\\"}, \\\"encode\\\": {\\\"enter\\\": {\\\"x\\\": {\\\"value\\\": 700}, \\\"y\\\": {\\\"value\\\": 200}, \\\"text\\\": {\\\"signal\\\": \\\"((datum[\\\\\\\"categorical\\\\\\\"].length >= 4) &amp;&amp; (toString(datum[\\\\\\\"type\\\\\\\"]) == \\\\\\\"str\\\\\\\"))? toString(datum[\\\\\\\"categorical\\\\\\\"][3][\\\\\\\"count\\\\\\\"]):\\\\\\\"\\\\\\\"\\\"}, \\\"align\\\": {\\\"value\\\": \\\"right\\\"}, \\\"baseline\\\": {\\\"value\\\": \\\"middle\\\"}, \\\"dx\\\": {\\\"value\\\": 0, \\\"offset\\\": 0}, \\\"dy\\\": {\\\"value\\\": 0, \\\"offset\\\": 0}, \\\"angle\\\": {\\\"value\\\": 0}, \\\"clip\\\": {\\\"value\\\": true}, \\\"font\\\": {\\\"value\\\": \\\"AvenirNext-Medium\\\"}, \\\"fontSize\\\": {\\\"value\\\": 10}, \\\"fontWeight\\\": {\\\"value\\\": \\\"normal\\\"}, \\\"fontStyle\\\": {\\\"value\\\": \\\"normal\\\"}, \\\"fill\\\": {\\\"value\\\": \\\"#7A7A7A\\\"}}, \\\"update\\\": {\\\"x\\\": {\\\"signal\\\": \\\"datum[\\\\\\\"c_x_axis_back\\\\\\\"]+667\\\"}, \\\"y\\\": {\\\"field\\\": \\\"c_fourth_item\\\"}}}, \\\"type\\\": \\\"text\\\"}, {\\\"from\\\": {\\\"data\\\": \\\"data_2\\\"}, \\\"encode\\\": {\\\"enter\\\": {\\\"x\\\": {\\\"value\\\": 700}, \\\"y\\\": {\\\"value\\\": 200}, \\\"text\\\": {\\\"signal\\\": \\\"((datum[\\\\\\\"categorical\\\\\\\"].length >= 5) &amp;&amp; (toString(datum[\\\\\\\"type\\\\\\\"]) == \\\\\\\"str\\\\\\\"))? toString(datum[\\\\\\\"categorical\\\\\\\"][4][\\\\\\\"count\\\\\\\"]):\\\\\\\"\\\\\\\"\\\"}, \\\"align\\\": {\\\"value\\\": \\\"right\\\"}, \\\"baseline\\\": {\\\"value\\\": \\\"middle\\\"}, \\\"dx\\\": {\\\"value\\\": 0, \\\"offset\\\": 0}, \\\"dy\\\": {\\\"value\\\": 0, \\\"offset\\\": 0}, \\\"angle\\\": {\\\"value\\\": 0}, \\\"clip\\\": {\\\"value\\\": true}, \\\"font\\\": {\\\"value\\\": \\\"AvenirNext-Medium\\\"}, \\\"fontSize\\\": {\\\"value\\\": 10}, \\\"fontWeight\\\": {\\\"value\\\": \\\"normal\\\"}, \\\"fontStyle\\\": {\\\"value\\\": \\\"normal\\\"}, \\\"fill\\\": {\\\"value\\\": \\\"#7A7A7A\\\"}}, \\\"update\\\": {\\\"x\\\": {\\\"signal\\\": \\\"datum[\\\\\\\"c_x_axis_back\\\\\\\"]+667\\\"}, \\\"y\\\": {\\\"field\\\": \\\"c_fifth_item\\\"}}}, \\\"type\\\": \\\"text\\\"}, {\\\"from\\\": {\\\"data\\\": \\\"data_2\\\"}, \\\"encode\\\": {\\\"enter\\\": {\\\"x\\\": {\\\"value\\\": 500}, \\\"y\\\": {\\\"value\\\": 200}, \\\"text\\\": {\\\"signal\\\": \\\"(toString(datum[\\\\\\\"type\\\\\\\"]) == \\\\\\\"integer\\\\\\\" || toString(datum[\\\\\\\"type\\\\\\\"]) == \\\\\\\"float\\\\\\\")? \\\\\\\"Mean:\\\\\\\":\\\\\\\"\\\\\\\"\\\"}, \\\"align\\\": {\\\"value\\\": \\\"left\\\"}, \\\"baseline\\\": {\\\"value\\\": \\\"middle\\\"}, \\\"dx\\\": {\\\"value\\\": 0, \\\"offset\\\": 0}, \\\"dy\\\": {\\\"value\\\": 0, \\\"offset\\\": 0}, \\\"angle\\\": {\\\"value\\\": 0}, \\\"clip\\\": {\\\"value\\\": true}, \\\"font\\\": {\\\"value\\\": \\\"AvenirNext-Medium\\\"}, \\\"fontSize\\\": {\\\"value\\\": 11}, \\\"fontWeight\\\": {\\\"value\\\": \\\"bold\\\"}, \\\"fontStyle\\\": {\\\"value\\\": \\\"normal\\\"}, \\\"fill\\\": {\\\"value\\\": \\\"#4A4A4A\\\"}}, \\\"update\\\": {\\\"x\\\": {\\\"signal\\\": \\\"datum[\\\\\\\"c_x_axis_back\\\\\\\"]+467\\\"}, \\\"y\\\": {\\\"field\\\": \\\"c_mean\\\"}}}, \\\"type\\\": \\\"text\\\"}, {\\\"from\\\": {\\\"data\\\": \\\"data_2\\\"}, \\\"encode\\\": {\\\"enter\\\": {\\\"x\\\": {\\\"value\\\": 500}, \\\"y\\\": {\\\"value\\\": 220}, \\\"text\\\": {\\\"signal\\\": \\\"(toString(datum[\\\\\\\"type\\\\\\\"]) == \\\\\\\"integer\\\\\\\" || toString(datum[\\\\\\\"type\\\\\\\"]) == \\\\\\\"float\\\\\\\")? \\\\\\\"Min:\\\\\\\":\\\\\\\"\\\\\\\"\\\"}, \\\"align\\\": {\\\"value\\\": \\\"left\\\"}, \\\"baseline\\\": {\\\"value\\\": \\\"middle\\\"}, \\\"dx\\\": {\\\"value\\\": 0, \\\"offset\\\": 0}, \\\"dy\\\": {\\\"value\\\": 0, \\\"offset\\\": 0}, \\\"angle\\\": {\\\"value\\\": 0}, \\\"font\\\": {\\\"value\\\": \\\"AvenirNext-Medium\\\"}, \\\"fontSize\\\": {\\\"value\\\": 11}, \\\"fontWeight\\\": {\\\"value\\\": \\\"bold\\\"}, \\\"fontStyle\\\": {\\\"value\\\": \\\"normal\\\"}, \\\"fill\\\": {\\\"value\\\": \\\"#4A4A4A\\\"}}, \\\"update\\\": {\\\"x\\\": {\\\"signal\\\": \\\"datum[\\\\\\\"c_x_axis_back\\\\\\\"]+467\\\"}, \\\"y\\\": {\\\"field\\\": \\\"c_min\\\"}}}, \\\"type\\\": \\\"text\\\"}, {\\\"from\\\": {\\\"data\\\": \\\"data_2\\\"}, \\\"encode\\\": {\\\"enter\\\": {\\\"x\\\": {\\\"value\\\": 500}, \\\"y\\\": {\\\"value\\\": 240}, \\\"text\\\": {\\\"signal\\\": \\\"(toString(datum[\\\\\\\"type\\\\\\\"]) == \\\\\\\"integer\\\\\\\" || toString(datum[\\\\\\\"type\\\\\\\"]) == \\\\\\\"float\\\\\\\")? \\\\\\\"Max:\\\\\\\":\\\\\\\"\\\\\\\"\\\"}, \\\"align\\\": {\\\"value\\\": \\\"left\\\"}, \\\"baseline\\\": {\\\"value\\\": \\\"middle\\\"}, \\\"dx\\\": {\\\"value\\\": 0, \\\"offset\\\": 0}, \\\"dy\\\": {\\\"value\\\": 0, \\\"offset\\\": 0}, \\\"angle\\\": {\\\"value\\\": 0}, \\\"font\\\": {\\\"value\\\": \\\"AvenirNext-Medium\\\"}, \\\"fontSize\\\": {\\\"value\\\": 11}, \\\"fontWeight\\\": {\\\"value\\\": \\\"bold\\\"}, \\\"fontStyle\\\": {\\\"value\\\": \\\"normal\\\"}, \\\"fill\\\": {\\\"value\\\": \\\"#4A4A4A\\\"}}, \\\"update\\\": {\\\"x\\\": {\\\"signal\\\": \\\"datum[\\\\\\\"c_x_axis_back\\\\\\\"]+467\\\"}, \\\"y\\\": {\\\"field\\\": \\\"c_max\\\"}}}, \\\"type\\\": \\\"text\\\"}, {\\\"from\\\": {\\\"data\\\": \\\"data_2\\\"}, \\\"encode\\\": {\\\"enter\\\": {\\\"x\\\": {\\\"value\\\": 500}, \\\"y\\\": {\\\"value\\\": 260}, \\\"text\\\": {\\\"signal\\\": \\\"(toString(datum[\\\\\\\"type\\\\\\\"]) == \\\\\\\"integer\\\\\\\" || toString(datum[\\\\\\\"type\\\\\\\"]) == \\\\\\\"float\\\\\\\")? \\\\\\\"Median:\\\\\\\":\\\\\\\"\\\\\\\"\\\"}, \\\"align\\\": {\\\"value\\\": \\\"left\\\"}, \\\"baseline\\\": {\\\"value\\\": \\\"middle\\\"}, \\\"dx\\\": {\\\"value\\\": 0, \\\"offset\\\": 0}, \\\"dy\\\": {\\\"value\\\": 0, \\\"offset\\\": 0}, \\\"angle\\\": {\\\"value\\\": 0}, \\\"font\\\": {\\\"value\\\": \\\"AvenirNext-Medium\\\"}, \\\"fontSize\\\": {\\\"value\\\": 11}, \\\"fontWeight\\\": {\\\"value\\\": \\\"bold\\\"}, \\\"fontStyle\\\": {\\\"value\\\": \\\"normal\\\"}, \\\"fill\\\": {\\\"value\\\": \\\"#4A4A4A\\\"}}, \\\"update\\\": {\\\"x\\\": {\\\"signal\\\": \\\"datum[\\\\\\\"c_x_axis_back\\\\\\\"]+467\\\"}, \\\"y\\\": {\\\"field\\\": \\\"c_median\\\"}}}, \\\"type\\\": \\\"text\\\"}, {\\\"from\\\": {\\\"data\\\": \\\"data_2\\\"}, \\\"encode\\\": {\\\"enter\\\": {\\\"x\\\": {\\\"value\\\": 500}, \\\"y\\\": {\\\"value\\\": 280}, \\\"text\\\": {\\\"signal\\\": \\\"(toString(datum[\\\\\\\"type\\\\\\\"]) == \\\\\\\"integer\\\\\\\" || toString(datum[\\\\\\\"type\\\\\\\"]) == \\\\\\\"float\\\\\\\")? \\\\\\\"St. Dev:\\\\\\\":\\\\\\\"\\\\\\\"\\\"}, \\\"align\\\": {\\\"value\\\": \\\"left\\\"}, \\\"baseline\\\": {\\\"value\\\": \\\"middle\\\"}, \\\"dx\\\": {\\\"value\\\": 0, \\\"offset\\\": 0}, \\\"dy\\\": {\\\"value\\\": 0, \\\"offset\\\": 0}, \\\"angle\\\": {\\\"value\\\": 0}, \\\"font\\\": {\\\"value\\\": \\\"AvenirNext-Medium\\\"}, \\\"fontSize\\\": {\\\"value\\\": 11}, \\\"fontWeight\\\": {\\\"value\\\": \\\"bold\\\"}, \\\"fontStyle\\\": {\\\"value\\\": \\\"normal\\\"}, \\\"fill\\\": {\\\"value\\\": \\\"#4A4A4A\\\"}}, \\\"update\\\": {\\\"x\\\": {\\\"signal\\\": \\\"datum[\\\\\\\"c_x_axis_back\\\\\\\"]+467\\\"}, \\\"y\\\": {\\\"field\\\": \\\"c_stdev\\\"}}}, \\\"type\\\": \\\"text\\\"}, {\\\"from\\\": {\\\"data\\\": \\\"data_2\\\"}, \\\"encode\\\": {\\\"enter\\\": {\\\"x\\\": {\\\"value\\\": 700}, \\\"y\\\": {\\\"value\\\": 198}, \\\"text\\\": {\\\"signal\\\": \\\"(toString(datum[\\\\\\\"type\\\\\\\"]) == \\\\\\\"integer\\\\\\\" || toString(datum[\\\\\\\"type\\\\\\\"]) == \\\\\\\"float\\\\\\\")?toString(format(datum[\\\\\\\"mean\\\\\\\"], \\\\\\\",\\\\\\\")):\\\\\\\"\\\\\\\"\\\"}, \\\"align\\\": {\\\"value\\\": \\\"right\\\"}, \\\"baseline\\\": {\\\"value\\\": \\\"middle\\\"}, \\\"dx\\\": {\\\"value\\\": 0, \\\"offset\\\": 0}, \\\"dy\\\": {\\\"value\\\": 0, \\\"offset\\\": 0}, \\\"angle\\\": {\\\"value\\\": 0}, \\\"font\\\": {\\\"value\\\": \\\"AvenirNext-Medium\\\"}, \\\"fontSize\\\": {\\\"value\\\": 10}, \\\"fontWeight\\\": {\\\"value\\\": \\\"normal\\\"}, \\\"fontStyle\\\": {\\\"value\\\": \\\"normal\\\"}, \\\"fill\\\": {\\\"value\\\": \\\"#6A6A6A\\\"}}, \\\"update\\\": {\\\"x\\\": {\\\"signal\\\": \\\"datum[\\\\\\\"c_x_axis_back\\\\\\\"]+667\\\"}, \\\"y\\\": {\\\"field\\\": \\\"c_mean_val\\\"}}}, \\\"type\\\": \\\"text\\\"}, {\\\"from\\\": {\\\"data\\\": \\\"data_2\\\"}, \\\"encode\\\": {\\\"enter\\\": {\\\"x\\\": {\\\"value\\\": 700}, \\\"y\\\": {\\\"value\\\": 218}, \\\"text\\\": {\\\"signal\\\": \\\"(toString(datum[\\\\\\\"type\\\\\\\"]) == \\\\\\\"integer\\\\\\\" || toString(datum[\\\\\\\"type\\\\\\\"]) == \\\\\\\"float\\\\\\\")?toString(format(datum[\\\\\\\"min\\\\\\\"], \\\\\\\",\\\\\\\")):\\\\\\\"\\\\\\\"\\\"}, \\\"align\\\": {\\\"value\\\": \\\"right\\\"}, \\\"baseline\\\": {\\\"value\\\": \\\"middle\\\"}, \\\"dx\\\": {\\\"value\\\": 0, \\\"offset\\\": 0}, \\\"dy\\\": {\\\"value\\\": 0, \\\"offset\\\": 0}, \\\"angle\\\": {\\\"value\\\": 0}, \\\"font\\\": {\\\"value\\\": \\\"AvenirNext-Medium\\\"}, \\\"fontSize\\\": {\\\"value\\\": 10}, \\\"fontWeight\\\": {\\\"value\\\": \\\"normal\\\"}, \\\"fontStyle\\\": {\\\"value\\\": \\\"normal\\\"}, \\\"fill\\\": {\\\"value\\\": \\\"#6A6A6A\\\"}}, \\\"update\\\": {\\\"x\\\": {\\\"signal\\\": \\\"datum[\\\\\\\"c_x_axis_back\\\\\\\"]+667\\\"}, \\\"y\\\": {\\\"field\\\": \\\"c_min_val\\\"}}}, \\\"type\\\": \\\"text\\\"}, {\\\"from\\\": {\\\"data\\\": \\\"data_2\\\"}, \\\"encode\\\": {\\\"enter\\\": {\\\"x\\\": {\\\"value\\\": 700}, \\\"y\\\": {\\\"value\\\": 238}, \\\"text\\\": {\\\"signal\\\": \\\"(toString(datum[\\\\\\\"type\\\\\\\"]) == \\\\\\\"integer\\\\\\\" || toString(datum[\\\\\\\"type\\\\\\\"]) == \\\\\\\"float\\\\\\\")?toString(format(datum[\\\\\\\"max\\\\\\\"], \\\\\\\",\\\\\\\")):\\\\\\\"\\\\\\\"\\\"}, \\\"align\\\": {\\\"value\\\": \\\"right\\\"}, \\\"baseline\\\": {\\\"value\\\": \\\"middle\\\"}, \\\"dx\\\": {\\\"value\\\": 0, \\\"offset\\\": 0}, \\\"dy\\\": {\\\"value\\\": 0, \\\"offset\\\": 0}, \\\"angle\\\": {\\\"value\\\": 0}, \\\"font\\\": {\\\"value\\\": \\\"AvenirNext-Medium\\\"}, \\\"fontSize\\\": {\\\"value\\\": 10}, \\\"fontWeight\\\": {\\\"value\\\": \\\"normal\\\"}, \\\"fontStyle\\\": {\\\"value\\\": \\\"normal\\\"}, \\\"fill\\\": {\\\"value\\\": \\\"#6A6A6A\\\"}}, \\\"update\\\": {\\\"x\\\": {\\\"signal\\\": \\\"datum[\\\\\\\"c_x_axis_back\\\\\\\"]+667\\\"}, \\\"y\\\": {\\\"field\\\": \\\"c_max_val\\\"}}}, \\\"type\\\": \\\"text\\\"}, {\\\"from\\\": {\\\"data\\\": \\\"data_2\\\"}, \\\"encode\\\": {\\\"enter\\\": {\\\"x\\\": {\\\"value\\\": 700}, \\\"y\\\": {\\\"value\\\": 258}, \\\"text\\\": {\\\"signal\\\": \\\"(toString(datum[\\\\\\\"type\\\\\\\"]) == \\\\\\\"integer\\\\\\\" || toString(datum[\\\\\\\"type\\\\\\\"]) == \\\\\\\"float\\\\\\\")?toString(format(datum[\\\\\\\"median\\\\\\\"], \\\\\\\",\\\\\\\")):\\\\\\\"\\\\\\\"\\\"}, \\\"align\\\": {\\\"value\\\": \\\"right\\\"}, \\\"baseline\\\": {\\\"value\\\": \\\"middle\\\"}, \\\"dx\\\": {\\\"value\\\": 0, \\\"offset\\\": 0}, \\\"dy\\\": {\\\"value\\\": 0, \\\"offset\\\": 0}, \\\"angle\\\": {\\\"value\\\": 0}, \\\"font\\\": {\\\"value\\\": \\\"AvenirNext-Medium\\\"}, \\\"fontSize\\\": {\\\"value\\\": 10}, \\\"fontWeight\\\": {\\\"value\\\": \\\"normal\\\"}, \\\"fontStyle\\\": {\\\"value\\\": \\\"normal\\\"}, \\\"fill\\\": {\\\"value\\\": \\\"#6A6A6A\\\"}}, \\\"update\\\": {\\\"x\\\": {\\\"signal\\\": \\\"datum[\\\\\\\"c_x_axis_back\\\\\\\"]+667\\\"}, \\\"y\\\": {\\\"field\\\": \\\"c_median_val\\\"}}}, \\\"type\\\": \\\"text\\\"}, {\\\"from\\\": {\\\"data\\\": \\\"data_2\\\"}, \\\"encode\\\": {\\\"enter\\\": {\\\"x\\\": {\\\"value\\\": 700}, \\\"y\\\": {\\\"value\\\": 278}, \\\"text\\\": {\\\"signal\\\": \\\"(toString(datum[\\\\\\\"type\\\\\\\"]) == \\\\\\\"integer\\\\\\\" || toString(datum[\\\\\\\"type\\\\\\\"]) == \\\\\\\"float\\\\\\\")?toString(format(datum[\\\\\\\"stdev\\\\\\\"], \\\\\\\",\\\\\\\")):\\\\\\\"\\\\\\\"\\\"}, \\\"align\\\": {\\\"value\\\": \\\"right\\\"}, \\\"baseline\\\": {\\\"value\\\": \\\"middle\\\"}, \\\"dx\\\": {\\\"value\\\": 0, \\\"offset\\\": 0}, \\\"dy\\\": {\\\"value\\\": 0, \\\"offset\\\": 0}, \\\"angle\\\": {\\\"value\\\": 0}, \\\"font\\\": {\\\"value\\\": \\\"AvenirNext-Medium\\\"}, \\\"fontSize\\\": {\\\"value\\\": 10}, \\\"fontWeight\\\": {\\\"value\\\": \\\"normal\\\"}, \\\"fontStyle\\\": {\\\"value\\\": \\\"normal\\\"}, \\\"fill\\\": {\\\"value\\\": \\\"#6A6A6A\\\"}}, \\\"update\\\": {\\\"x\\\": {\\\"signal\\\": \\\"datum[\\\\\\\"c_x_axis_back\\\\\\\"]+667\\\"}, \\\"y\\\": {\\\"field\\\": \\\"c_stdev_val\\\"}}}, \\\"type\\\": \\\"text\\\"}, {\\\"from\\\": {\\\"facet\\\": {\\\"name\\\": \\\"new_data\\\", \\\"data\\\": \\\"data_2\\\", \\\"field\\\": \\\"numeric\\\"}}, \\\"encode\\\": {\\\"enter\\\": {\\\"x\\\": {\\\"value\\\": 120}, \\\"width\\\": {\\\"value\\\": 250}, \\\"y\\\": {\\\"field\\\": \\\"graph_offset\\\"}, \\\"height\\\": {\\\"value\\\": 150}, \\\"fill\\\": {\\\"value\\\": \\\"#ffffff\\\"}, \\\"fillOpacity\\\": {\\\"value\\\": 0}, \\\"stroke\\\": {\\\"value\\\": \\\"#000000\\\"}, \\\"strokeWidth\\\": {\\\"value\\\": 0}}, \\\"update\\\": {\\\"x\\\": {\\\"signal\\\": \\\"datum[\\\\\\\"c_x_axis_back\\\\\\\"]+87\\\"}, \\\"clip\\\": {\\\"field\\\": \\\"c_clip_val\\\"}, \\\"width\\\": {\\\"field\\\": \\\"c_width_numeric_val\\\"}}}, \\\"type\\\": \\\"group\\\", \\\"scales\\\": [{\\\"name\\\": \\\"x\\\", \\\"type\\\": \\\"linear\\\", \\\"domain\\\": {\\\"data\\\": \\\"new_data\\\", \\\"fields\\\": [\\\"left\\\", \\\"right\\\"], \\\"sort\\\": true}, \\\"range\\\": [0, {\\\"signal\\\": \\\"width\\\"}], \\\"nice\\\": true, \\\"zero\\\": true}, {\\\"name\\\": \\\"y\\\", \\\"type\\\": \\\"linear\\\", \\\"domain\\\": {\\\"data\\\": \\\"new_data\\\", \\\"field\\\": \\\"count\\\"}, \\\"range\\\": [{\\\"signal\\\": \\\"height\\\"}, 0], \\\"nice\\\": true, \\\"zero\\\": true}], \\\"axes\\\": [{\\\"title\\\": \\\"Values\\\", \\\"scale\\\": \\\"x\\\", \\\"labelOverlap\\\": true, \\\"orient\\\": \\\"bottom\\\", \\\"tickCount\\\": {\\\"signal\\\": \\\"ceil(width/40)\\\"}, \\\"zindex\\\": 1}, {\\\"scale\\\": \\\"x\\\", \\\"domain\\\": false, \\\"grid\\\": true, \\\"labels\\\": false, \\\"maxExtent\\\": 0, \\\"minExtent\\\": 0, \\\"orient\\\": \\\"bottom\\\", \\\"tickCount\\\": {\\\"signal\\\": \\\"ceil(width/40)\\\"}, \\\"ticks\\\": false, \\\"zindex\\\": 0, \\\"gridScale\\\": \\\"y\\\"}, {\\\"title\\\": \\\"Count\\\", \\\"scale\\\": \\\"y\\\", \\\"labelOverlap\\\": true, \\\"orient\\\": \\\"left\\\", \\\"tickCount\\\": {\\\"signal\\\": \\\"ceil(height/40)\\\"}, \\\"zindex\\\": 1}, {\\\"scale\\\": \\\"y\\\", \\\"domain\\\": false, \\\"grid\\\": true, \\\"labels\\\": false, \\\"maxExtent\\\": 0, \\\"minExtent\\\": 0, \\\"orient\\\": \\\"left\\\", \\\"tickCount\\\": {\\\"signal\\\": \\\"ceil(height/40)\\\"}, \\\"ticks\\\": false, \\\"zindex\\\": 0, \\\"gridScale\\\": \\\"x\\\"}], \\\"style\\\": \\\"cell\\\", \\\"signals\\\": [{\\\"name\\\": \\\"width\\\", \\\"update\\\": \\\"250\\\"}, {\\\"name\\\": \\\"height\\\", \\\"update\\\": \\\"150\\\"}], \\\"marks\\\": [{\\\"name\\\": \\\"marks\\\", \\\"type\\\": \\\"rect\\\", \\\"style\\\": [\\\"rect\\\"], \\\"from\\\": {\\\"data\\\": \\\"new_data\\\"}, \\\"encode\\\": {\\\"hover\\\": {\\\"fill\\\": {\\\"value\\\": \\\"#7EC2F3\\\"}}, \\\"update\\\": {\\\"x\\\": {\\\"scale\\\": \\\"x\\\", \\\"field\\\": \\\"left\\\"}, \\\"x2\\\": {\\\"scale\\\": \\\"x\\\", \\\"field\\\": \\\"right\\\"}, \\\"y\\\": {\\\"scale\\\": \\\"y\\\", \\\"field\\\": \\\"count\\\"}, \\\"y2\\\": {\\\"scale\\\": \\\"y\\\", \\\"value\\\": 0}, \\\"fill\\\": {\\\"value\\\": \\\"#108EE9\\\"}}}}]}, {\\\"from\\\": {\\\"facet\\\": {\\\"name\\\": \\\"data_5\\\", \\\"data\\\": \\\"data_2\\\", \\\"field\\\": \\\"categorical\\\"}}, \\\"encode\\\": {\\\"enter\\\": {\\\"x\\\": {\\\"value\\\": 170}, \\\"width\\\": {\\\"value\\\": 250}, \\\"y\\\": {\\\"field\\\": \\\"graph_offset_categorical\\\"}, \\\"height\\\": {\\\"value\\\": 150}, \\\"fill\\\": {\\\"value\\\": \\\"#ffffff\\\"}, \\\"fillOpacity\\\": {\\\"value\\\": 0}, \\\"stroke\\\": {\\\"value\\\": \\\"#000000\\\"}, \\\"strokeWidth\\\": {\\\"value\\\": 0}}, \\\"update\\\": {\\\"x\\\": {\\\"signal\\\": \\\"datum[\\\\\\\"c_x_axis_back\\\\\\\"]+137\\\"}, \\\"clip\\\": {\\\"field\\\": \\\"c_clip_val_cat\\\"}, \\\"width\\\": {\\\"field\\\": \\\"c_width_numeric_val_cat\\\"}}}, \\\"type\\\": \\\"group\\\", \\\"style\\\": \\\"cell\\\", \\\"signals\\\": [{\\\"name\\\": \\\"unit\\\", \\\"value\\\": {}, \\\"on\\\": [{\\\"events\\\": \\\"mousemove\\\", \\\"update\\\": \\\"isTuple(group()) ? group() : unit\\\"}]}, {\\\"name\\\": \\\"pts\\\", \\\"update\\\": \\\"data(\\\\\\\"pts_store\\\\\\\").length &amp;&amp; {count: data(\\\\\\\"pts_store\\\\\\\")[0].values[0]}\\\"}, {\\\"name\\\": \\\"pts_tuple\\\", \\\"value\\\": {}, \\\"on\\\": [{\\\"events\\\": [{\\\"source\\\": \\\"scope\\\", \\\"type\\\": \\\"click\\\"}], \\\"update\\\": \\\"datum &amp;&amp; item().mark.marktype !== &apos;group&apos; ? {unit: \\\\\\\"\\\\\\\", encodings: [\\\\\\\"x\\\\\\\"], fields: [\\\\\\\"count\\\\\\\"], values: [datum[\\\\\\\"count\\\\\\\"]]} : null\\\", \\\"force\\\": true}]}, {\\\"name\\\": \\\"pts_modify\\\", \\\"on\\\": [{\\\"events\\\": {\\\"signal\\\": \\\"pts_tuple\\\"}, \\\"update\\\": \\\"modify(\\\\\\\"pts_store\\\\\\\", pts_tuple, true)\\\"}]}], \\\"marks\\\": [{\\\"name\\\": \\\"marks\\\", \\\"type\\\": \\\"rect\\\", \\\"style\\\": [\\\"bar\\\"], \\\"from\\\": {\\\"data\\\": \\\"data_5\\\"}, \\\"encode\\\": {\\\"hover\\\": {\\\"fill\\\": {\\\"value\\\": \\\"#7EC2F3\\\"}}, \\\"update\\\": {\\\"x\\\": {\\\"scale\\\": \\\"x\\\", \\\"field\\\": \\\"count\\\"}, \\\"x2\\\": {\\\"scale\\\": \\\"x\\\", \\\"value\\\": 0}, \\\"y\\\": {\\\"scale\\\": \\\"y\\\", \\\"field\\\": \\\"label\\\"}, \\\"height\\\": {\\\"scale\\\": \\\"y\\\", \\\"band\\\": true}, \\\"fill\\\": {\\\"value\\\": \\\"#108EE9\\\"}}}}], \\\"scales\\\": [{\\\"name\\\": \\\"x\\\", \\\"type\\\": \\\"linear\\\", \\\"domain\\\": {\\\"data\\\": \\\"data_5\\\", \\\"field\\\": \\\"count\\\"}, \\\"range\\\": [0, 250], \\\"nice\\\": true, \\\"zero\\\": true}, {\\\"name\\\": \\\"y\\\", \\\"type\\\": \\\"band\\\", \\\"domain\\\": {\\\"data\\\": \\\"data_5\\\", \\\"field\\\": \\\"label\\\", \\\"sort\\\": {\\\"op\\\": \\\"mean\\\", \\\"field\\\": \\\"label_idx\\\", \\\"order\\\": \\\"descending\\\"}}, \\\"range\\\": [150, 0], \\\"paddingInner\\\": 0.1, \\\"paddingOuter\\\": 0.05}], \\\"axes\\\": [{\\\"orient\\\": \\\"top\\\", \\\"scale\\\": \\\"x\\\", \\\"labelOverlap\\\": true, \\\"tickCount\\\": {\\\"signal\\\": \\\"ceil(width/40)\\\"}, \\\"title\\\": \\\"Count\\\", \\\"zindex\\\": 1}, {\\\"orient\\\": \\\"top\\\", \\\"scale\\\": \\\"x\\\", \\\"domain\\\": false, \\\"grid\\\": true, \\\"labels\\\": false, \\\"maxExtent\\\": 0, \\\"minExtent\\\": 0, \\\"tickCount\\\": {\\\"signal\\\": \\\"ceil(width/40)\\\"}, \\\"ticks\\\": false, \\\"zindex\\\": 0, \\\"gridScale\\\": \\\"y\\\"}, {\\\"scale\\\": \\\"y\\\", \\\"labelOverlap\\\": true, \\\"orient\\\": \\\"left\\\", \\\"title\\\": \\\"Label\\\", \\\"zindex\\\": 1}]}], \\\"type\\\": \\\"group\\\"}], \\\"type\\\": \\\"group\\\"}], \\\"config\\\": {\\\"axis\\\": {\\\"labelFont\\\": \\\"HelveticaNeue-Light, Arial\\\", \\\"labelFontSize\\\": 7, \\\"labelPadding\\\": 10, \\\"labelColor\\\": \\\"#595959\\\", \\\"titleFont\\\": \\\"HelveticaNeue-Light, Arial\\\", \\\"titleFontWeight\\\": \\\"normal\\\", \\\"titlePadding\\\": 9, \\\"titleFontSize\\\": 12, \\\"titleColor\\\": \\\"#595959\\\"}, \\\"axisY\\\": {\\\"minExtent\\\": 30}, \\\"style\\\": {\\\"rect\\\": {\\\"stroke\\\": \\\"rgba(200, 200, 200, 0.5)\\\"}, \\\"group-title\\\": {\\\"fontSize\\\": 20, \\\"font\\\": \\\"HelveticaNeue-Light, Arial\\\", \\\"fontWeight\\\": \\\"normal\\\", \\\"fill\\\": \\\"#595959\\\"}}}}\";                                 var vega_json_parsed = JSON.parse(vega_json);                                 var toolTipOpts = {                                     showAllFields: true                                 };                                 if(vega_json_parsed[\"metadata\"] != null){                                     if(vega_json_parsed[\"metadata\"][\"bubbleOpts\"] != null){                                         toolTipOpts = vega_json_parsed[\"metadata\"][\"bubbleOpts\"];                                     };                                 };                                 vegaEmbed(\"#vis\", vega_json_parsed).then(function (result) {                                     vegaTooltip.vega(result.view, toolTipOpts);                                  });                             </script>                         </body>                     </html>' src=\"demo_iframe_srcdoc.htm\">                         <p>Your browser does not support iframes.</p>                     </iframe>                 </body>             </html>"
      ],
      "text/plain": [
       "<IPython.core.display.HTML object>"
      ]
     },
     "metadata": {},
     "output_type": "display_data"
    }
   ],
   "source": [
    "people.show()"
   ]
  },
  {
   "cell_type": "code",
   "execution_count": 4,
   "metadata": {},
   "outputs": [
    {
     "data": {
      "text/html": [
       "<div style=\"max-height:1000px;max-width:1500px;overflow:auto;\"><table frame=\"box\" rules=\"cols\">\n",
       "    <tr>\n",
       "        <th style=\"padding-left: 1em; padding-right: 1em; text-align: center\">URI</th>\n",
       "        <th style=\"padding-left: 1em; padding-right: 1em; text-align: center\">name</th>\n",
       "        <th style=\"padding-left: 1em; padding-right: 1em; text-align: center\">text</th>\n",
       "    </tr>\n",
       "    <tr>\n",
       "        <td style=\"padding-left: 1em; padding-right: 1em; text-align: center; vertical-align: top\">&lt;http://dbpedia.org/resou<br>rce/Digby_Morrell&gt; ...</td>\n",
       "        <td style=\"padding-left: 1em; padding-right: 1em; text-align: center; vertical-align: top\">Digby Morrell</td>\n",
       "        <td style=\"padding-left: 1em; padding-right: 1em; text-align: center; vertical-align: top\">digby morrell born 10<br>october 1979 is a former ...</td>\n",
       "    </tr>\n",
       "    <tr>\n",
       "        <td style=\"padding-left: 1em; padding-right: 1em; text-align: center; vertical-align: top\">&lt;http://dbpedia.org/resou<br>rce/Alfred_J._Lewy&gt; ...</td>\n",
       "        <td style=\"padding-left: 1em; padding-right: 1em; text-align: center; vertical-align: top\">Alfred J. Lewy</td>\n",
       "        <td style=\"padding-left: 1em; padding-right: 1em; text-align: center; vertical-align: top\">alfred j lewy aka sandy<br>lewy graduated from ...</td>\n",
       "    </tr>\n",
       "    <tr>\n",
       "        <td style=\"padding-left: 1em; padding-right: 1em; text-align: center; vertical-align: top\">&lt;http://dbpedia.org/resou<br>rce/Harpdog_Brown&gt; ...</td>\n",
       "        <td style=\"padding-left: 1em; padding-right: 1em; text-align: center; vertical-align: top\">Harpdog Brown</td>\n",
       "        <td style=\"padding-left: 1em; padding-right: 1em; text-align: center; vertical-align: top\">harpdog brown is a singer<br>and harmonica player who ...</td>\n",
       "    </tr>\n",
       "    <tr>\n",
       "        <td style=\"padding-left: 1em; padding-right: 1em; text-align: center; vertical-align: top\">&lt;http://dbpedia.org/resou<br>rce/Franz_Rottensteiner&gt; ...</td>\n",
       "        <td style=\"padding-left: 1em; padding-right: 1em; text-align: center; vertical-align: top\">Franz Rottensteiner</td>\n",
       "        <td style=\"padding-left: 1em; padding-right: 1em; text-align: center; vertical-align: top\">franz rottensteiner born<br>in waidmannsfeld lower ...</td>\n",
       "    </tr>\n",
       "    <tr>\n",
       "        <td style=\"padding-left: 1em; padding-right: 1em; text-align: center; vertical-align: top\">&lt;http://dbpedia.org/resou<br>rce/G-Enka&gt; ...</td>\n",
       "        <td style=\"padding-left: 1em; padding-right: 1em; text-align: center; vertical-align: top\">G-Enka</td>\n",
       "        <td style=\"padding-left: 1em; padding-right: 1em; text-align: center; vertical-align: top\">henry krvits born 30<br>december 1974 in tallinn ...</td>\n",
       "    </tr>\n",
       "    <tr>\n",
       "        <td style=\"padding-left: 1em; padding-right: 1em; text-align: center; vertical-align: top\">&lt;http://dbpedia.org/resou<br>rce/Sam_Henderson&gt; ...</td>\n",
       "        <td style=\"padding-left: 1em; padding-right: 1em; text-align: center; vertical-align: top\">Sam Henderson</td>\n",
       "        <td style=\"padding-left: 1em; padding-right: 1em; text-align: center; vertical-align: top\">sam henderson born<br>october 18 1969 is an ...</td>\n",
       "    </tr>\n",
       "    <tr>\n",
       "        <td style=\"padding-left: 1em; padding-right: 1em; text-align: center; vertical-align: top\">&lt;http://dbpedia.org/resou<br>rce/Aaron_LaCrate&gt; ...</td>\n",
       "        <td style=\"padding-left: 1em; padding-right: 1em; text-align: center; vertical-align: top\">Aaron LaCrate</td>\n",
       "        <td style=\"padding-left: 1em; padding-right: 1em; text-align: center; vertical-align: top\">aaron lacrate is an<br>american music producer ...</td>\n",
       "    </tr>\n",
       "    <tr>\n",
       "        <td style=\"padding-left: 1em; padding-right: 1em; text-align: center; vertical-align: top\">&lt;http://dbpedia.org/resou<br>rce/Trevor_Ferguson&gt; ...</td>\n",
       "        <td style=\"padding-left: 1em; padding-right: 1em; text-align: center; vertical-align: top\">Trevor Ferguson</td>\n",
       "        <td style=\"padding-left: 1em; padding-right: 1em; text-align: center; vertical-align: top\">trevor ferguson aka john<br>farrow born 11 november ...</td>\n",
       "    </tr>\n",
       "    <tr>\n",
       "        <td style=\"padding-left: 1em; padding-right: 1em; text-align: center; vertical-align: top\">&lt;http://dbpedia.org/resou<br>rce/Grant_Nelson&gt; ...</td>\n",
       "        <td style=\"padding-left: 1em; padding-right: 1em; text-align: center; vertical-align: top\">Grant Nelson</td>\n",
       "        <td style=\"padding-left: 1em; padding-right: 1em; text-align: center; vertical-align: top\">grant nelson born 27<br>april 1971 in london  ...</td>\n",
       "    </tr>\n",
       "    <tr>\n",
       "        <td style=\"padding-left: 1em; padding-right: 1em; text-align: center; vertical-align: top\">&lt;http://dbpedia.org/resou<br>rce/Cathy_Caruth&gt; ...</td>\n",
       "        <td style=\"padding-left: 1em; padding-right: 1em; text-align: center; vertical-align: top\">Cathy Caruth</td>\n",
       "        <td style=\"padding-left: 1em; padding-right: 1em; text-align: center; vertical-align: top\">cathy caruth born 1955 is<br>frank h t rhodes ...</td>\n",
       "    </tr>\n",
       "</table>\n",
       "[59071 rows x 3 columns]<br/>Note: Only the head of the SFrame is printed.<br/>You can use print_rows(num_rows=m, num_columns=n) to print more rows and columns.\n",
       "</div>"
      ],
      "text/plain": [
       "Columns:\n",
       "\tURI\tstr\n",
       "\tname\tstr\n",
       "\ttext\tstr\n",
       "\n",
       "Rows: 59071\n",
       "\n",
       "Data:\n",
       "+-------------------------------+---------------------+\n",
       "|              URI              |         name        |\n",
       "+-------------------------------+---------------------+\n",
       "| <http://dbpedia.org/resour... |    Digby Morrell    |\n",
       "| <http://dbpedia.org/resour... |    Alfred J. Lewy   |\n",
       "| <http://dbpedia.org/resour... |    Harpdog Brown    |\n",
       "| <http://dbpedia.org/resour... | Franz Rottensteiner |\n",
       "| <http://dbpedia.org/resour... |        G-Enka       |\n",
       "| <http://dbpedia.org/resour... |    Sam Henderson    |\n",
       "| <http://dbpedia.org/resour... |    Aaron LaCrate    |\n",
       "| <http://dbpedia.org/resour... |   Trevor Ferguson   |\n",
       "| <http://dbpedia.org/resour... |     Grant Nelson    |\n",
       "| <http://dbpedia.org/resour... |     Cathy Caruth    |\n",
       "+-------------------------------+---------------------+\n",
       "+-------------------------------+\n",
       "|              text             |\n",
       "+-------------------------------+\n",
       "| digby morrell born 10 octo... |\n",
       "| alfred j lewy aka sandy le... |\n",
       "| harpdog brown is a singer ... |\n",
       "| franz rottensteiner born i... |\n",
       "| henry krvits born 30 decem... |\n",
       "| sam henderson born october... |\n",
       "| aaron lacrate is an americ... |\n",
       "| trevor ferguson aka john f... |\n",
       "| grant nelson born 27 april... |\n",
       "| cathy caruth born 1955 is ... |\n",
       "+-------------------------------+\n",
       "[59071 rows x 3 columns]\n",
       "Note: Only the head of the SFrame is printed.\n",
       "You can use print_rows(num_rows=m, num_columns=n) to print more rows and columns."
      ]
     },
     "execution_count": 4,
     "metadata": {},
     "output_type": "execute_result"
    }
   ],
   "source": [
    "people\n"
   ]
  },
  {
   "cell_type": "code",
   "execution_count": 3,
   "metadata": {},
   "outputs": [],
   "source": [
    "obama = people[people['name']=='Barack Obama']"
   ]
  },
  {
   "cell_type": "code",
   "execution_count": 8,
   "metadata": {},
   "outputs": [
    {
     "data": {
      "text/html": [
       "<div style=\"max-height:1000px;max-width:1500px;overflow:auto;\"><table frame=\"box\" rules=\"cols\">\n",
       "    <tr>\n",
       "        <th style=\"padding-left: 1em; padding-right: 1em; text-align: center\">URI</th>\n",
       "        <th style=\"padding-left: 1em; padding-right: 1em; text-align: center\">name</th>\n",
       "        <th style=\"padding-left: 1em; padding-right: 1em; text-align: center\">text</th>\n",
       "    </tr>\n",
       "    <tr>\n",
       "        <td style=\"padding-left: 1em; padding-right: 1em; text-align: center; vertical-align: top\">&lt;http://dbpedia.org/resou<br>rce/Barack_Obama&gt; ...</td>\n",
       "        <td style=\"padding-left: 1em; padding-right: 1em; text-align: center; vertical-align: top\">Barack Obama</td>\n",
       "        <td style=\"padding-left: 1em; padding-right: 1em; text-align: center; vertical-align: top\">barack hussein obama ii<br>brk husen bm born august ...</td>\n",
       "    </tr>\n",
       "</table>\n",
       "[? rows x 3 columns]<br/>Note: Only the head of the SFrame is printed. This SFrame is lazily evaluated.<br/>You can use sf.materialize() to force materialization.\n",
       "</div>"
      ],
      "text/plain": [
       "Columns:\n",
       "\tURI\tstr\n",
       "\tname\tstr\n",
       "\ttext\tstr\n",
       "\n",
       "Rows: Unknown\n",
       "\n",
       "Data:\n",
       "+-------------------------------+--------------+-------------------------------+\n",
       "|              URI              |     name     |              text             |\n",
       "+-------------------------------+--------------+-------------------------------+\n",
       "| <http://dbpedia.org/resour... | Barack Obama | barack hussein obama ii br... |\n",
       "+-------------------------------+--------------+-------------------------------+\n",
       "[? rows x 3 columns]\n",
       "Note: Only the head of the SFrame is printed. This SFrame is lazily evaluated.\n",
       "You can use sf.materialize() to force materialization."
      ]
     },
     "execution_count": 8,
     "metadata": {},
     "output_type": "execute_result"
    }
   ],
   "source": [
    "obama"
   ]
  },
  {
   "cell_type": "code",
   "execution_count": 7,
   "metadata": {},
   "outputs": [
    {
     "data": {
      "text/plain": [
       "dtype: str\n",
       "Rows: ?\n",
       "['barack hussein obama ii brk husen bm born august 4 1961 is the 44th and current president of the united states and the first african american to hold the office born in honolulu hawaii obama is a graduate of columbia university and harvard law school where he served as president of the harvard law review he was a community organizer in chicago before earning his law degree he worked as a civil rights attorney and taught constitutional law at the university of chicago law school from 1992 to 2004 he served three terms representing the 13th district in the illinois senate from 1997 to 2004 running unsuccessfully for the united states house of representatives in 2000in 2004 obama received national attention during his campaign to represent illinois in the united states senate with his victory in the march democratic party primary his keynote address at the democratic national convention in july and his election to the senate in november he began his presidential campaign in 2007 and after a close primary campaign against hillary rodham clinton in 2008 he won sufficient delegates in the democratic party primaries to receive the presidential nomination he then defeated republican nominee john mccain in the general election and was inaugurated as president on january 20 2009 nine months after his election obama was named the 2009 nobel peace prize laureateduring his first two years in office obama signed into law economic stimulus legislation in response to the great recession in the form of the american recovery and reinvestment act of 2009 and the tax relief unemployment insurance reauthorization and job creation act of 2010 other major domestic initiatives in his first term included the patient protection and affordable care act often referred to as obamacare the doddfrank wall street reform and consumer protection act and the dont ask dont tell repeal act of 2010 in foreign policy obama ended us military involvement in the iraq war increased us troop levels in afghanistan signed the new start arms control treaty with russia ordered us military involvement in libya and ordered the military operation that resulted in the death of osama bin laden in january 2011 the republicans regained control of the house of representatives as the democratic party lost a total of 63 seats and after a lengthy debate over federal spending and whether or not to raise the nations debt limit obama signed the budget control act of 2011 and the american taxpayer relief act of 2012obama was reelected president in november 2012 defeating republican nominee mitt romney and was sworn in for a second term on january 20 2013 during his second term obama has promoted domestic policies related to gun control in response to the sandy hook elementary school shooting and has called for full equality for lgbt americans while his administration has filed briefs which urged the supreme court to strike down the defense of marriage act of 1996 and californias proposition 8 as unconstitutional in foreign policy obama ordered us military involvement in iraq in response to gains made by the islamic state in iraq after the 2011 withdrawal from iraq continued the process of ending us combat operations in afghanistan and has sought to normalize us relations with cuba', ... ]"
      ]
     },
     "execution_count": 7,
     "metadata": {},
     "output_type": "execute_result"
    }
   ],
   "source": [
    "obama['text']"
   ]
  },
  {
   "cell_type": "code",
   "execution_count": 8,
   "metadata": {},
   "outputs": [
    {
     "ename": "SyntaxError",
     "evalue": "EOL while scanning string literal (<ipython-input-8-371dccca10c5>, line 1)",
     "output_type": "error",
     "traceback": [
      "\u001b[0;36m  File \u001b[0;32m\"<ipython-input-8-371dccca10c5>\"\u001b[0;36m, line \u001b[0;32m1\u001b[0m\n\u001b[0;31m    obama['url\u001b[0m\n\u001b[0m              ^\u001b[0m\n\u001b[0;31mSyntaxError\u001b[0m\u001b[0;31m:\u001b[0m EOL while scanning string literal\n"
     ]
    }
   ],
   "source": [
    "obama['url\n",
    "      ']"
   ]
  },
  {
   "cell_type": "code",
   "execution_count": 9,
   "metadata": {},
   "outputs": [
    {
     "data": {
      "text/plain": [
       "dtype: str\n",
       "Rows: ?\n",
       "['<http://dbpedia.org/resource/Barack_Obama>', ... ]"
      ]
     },
     "execution_count": 9,
     "metadata": {},
     "output_type": "execute_result"
    }
   ],
   "source": [
    "obama['URI']"
   ]
  },
  {
   "cell_type": "code",
   "execution_count": 4,
   "metadata": {},
   "outputs": [],
   "source": [
    "clooney = people[people['name'== 'George Clooney']]"
   ]
  },
  {
   "cell_type": "code",
   "execution_count": 13,
   "metadata": {},
   "outputs": [
    {
     "data": {
      "text/html": [
       "<div style=\"max-height:1000px;max-width:1500px;overflow:auto;\"><table frame=\"box\" rules=\"cols\">\n",
       "    <tr>\n",
       "        <th style=\"padding-left: 1em; padding-right: 1em; text-align: center\">URI</th>\n",
       "        <th style=\"padding-left: 1em; padding-right: 1em; text-align: center\">name</th>\n",
       "        <th style=\"padding-left: 1em; padding-right: 1em; text-align: center\">text</th>\n",
       "    </tr>\n",
       "    <tr>\n",
       "        <td style=\"padding-left: 1em; padding-right: 1em; text-align: center; vertical-align: top\">&lt;http://dbpedia.org/resou<br>rce/Digby_Morrell&gt; ...</td>\n",
       "        <td style=\"padding-left: 1em; padding-right: 1em; text-align: center; vertical-align: top\">Digby Morrell</td>\n",
       "        <td style=\"padding-left: 1em; padding-right: 1em; text-align: center; vertical-align: top\">digby morrell born 10<br>october 1979 is a former ...</td>\n",
       "    </tr>\n",
       "    <tr>\n",
       "        <td style=\"padding-left: 1em; padding-right: 1em; text-align: center; vertical-align: top\">&lt;http://dbpedia.org/resou<br>rce/Alfred_J._Lewy&gt; ...</td>\n",
       "        <td style=\"padding-left: 1em; padding-right: 1em; text-align: center; vertical-align: top\">Alfred J. Lewy</td>\n",
       "        <td style=\"padding-left: 1em; padding-right: 1em; text-align: center; vertical-align: top\">alfred j lewy aka sandy<br>lewy graduated from ...</td>\n",
       "    </tr>\n",
       "    <tr>\n",
       "        <td style=\"padding-left: 1em; padding-right: 1em; text-align: center; vertical-align: top\">&lt;http://dbpedia.org/resou<br>rce/Harpdog_Brown&gt; ...</td>\n",
       "        <td style=\"padding-left: 1em; padding-right: 1em; text-align: center; vertical-align: top\">Harpdog Brown</td>\n",
       "        <td style=\"padding-left: 1em; padding-right: 1em; text-align: center; vertical-align: top\">harpdog brown is a singer<br>and harmonica player who ...</td>\n",
       "    </tr>\n",
       "    <tr>\n",
       "        <td style=\"padding-left: 1em; padding-right: 1em; text-align: center; vertical-align: top\">&lt;http://dbpedia.org/resou<br>rce/Franz_Rottensteiner&gt; ...</td>\n",
       "        <td style=\"padding-left: 1em; padding-right: 1em; text-align: center; vertical-align: top\">Franz Rottensteiner</td>\n",
       "        <td style=\"padding-left: 1em; padding-right: 1em; text-align: center; vertical-align: top\">franz rottensteiner born<br>in waidmannsfeld lower ...</td>\n",
       "    </tr>\n",
       "    <tr>\n",
       "        <td style=\"padding-left: 1em; padding-right: 1em; text-align: center; vertical-align: top\">&lt;http://dbpedia.org/resou<br>rce/G-Enka&gt; ...</td>\n",
       "        <td style=\"padding-left: 1em; padding-right: 1em; text-align: center; vertical-align: top\">G-Enka</td>\n",
       "        <td style=\"padding-left: 1em; padding-right: 1em; text-align: center; vertical-align: top\">henry krvits born 30<br>december 1974 in tallinn ...</td>\n",
       "    </tr>\n",
       "    <tr>\n",
       "        <td style=\"padding-left: 1em; padding-right: 1em; text-align: center; vertical-align: top\">&lt;http://dbpedia.org/resou<br>rce/Sam_Henderson&gt; ...</td>\n",
       "        <td style=\"padding-left: 1em; padding-right: 1em; text-align: center; vertical-align: top\">Sam Henderson</td>\n",
       "        <td style=\"padding-left: 1em; padding-right: 1em; text-align: center; vertical-align: top\">sam henderson born<br>october 18 1969 is an ...</td>\n",
       "    </tr>\n",
       "    <tr>\n",
       "        <td style=\"padding-left: 1em; padding-right: 1em; text-align: center; vertical-align: top\">&lt;http://dbpedia.org/resou<br>rce/Aaron_LaCrate&gt; ...</td>\n",
       "        <td style=\"padding-left: 1em; padding-right: 1em; text-align: center; vertical-align: top\">Aaron LaCrate</td>\n",
       "        <td style=\"padding-left: 1em; padding-right: 1em; text-align: center; vertical-align: top\">aaron lacrate is an<br>american music producer ...</td>\n",
       "    </tr>\n",
       "    <tr>\n",
       "        <td style=\"padding-left: 1em; padding-right: 1em; text-align: center; vertical-align: top\">&lt;http://dbpedia.org/resou<br>rce/Trevor_Ferguson&gt; ...</td>\n",
       "        <td style=\"padding-left: 1em; padding-right: 1em; text-align: center; vertical-align: top\">Trevor Ferguson</td>\n",
       "        <td style=\"padding-left: 1em; padding-right: 1em; text-align: center; vertical-align: top\">trevor ferguson aka john<br>farrow born 11 november ...</td>\n",
       "    </tr>\n",
       "    <tr>\n",
       "        <td style=\"padding-left: 1em; padding-right: 1em; text-align: center; vertical-align: top\">&lt;http://dbpedia.org/resou<br>rce/Grant_Nelson&gt; ...</td>\n",
       "        <td style=\"padding-left: 1em; padding-right: 1em; text-align: center; vertical-align: top\">Grant Nelson</td>\n",
       "        <td style=\"padding-left: 1em; padding-right: 1em; text-align: center; vertical-align: top\">grant nelson born 27<br>april 1971 in london  ...</td>\n",
       "    </tr>\n",
       "    <tr>\n",
       "        <td style=\"padding-left: 1em; padding-right: 1em; text-align: center; vertical-align: top\">&lt;http://dbpedia.org/resou<br>rce/Cathy_Caruth&gt; ...</td>\n",
       "        <td style=\"padding-left: 1em; padding-right: 1em; text-align: center; vertical-align: top\">Cathy Caruth</td>\n",
       "        <td style=\"padding-left: 1em; padding-right: 1em; text-align: center; vertical-align: top\">cathy caruth born 1955 is<br>frank h t rhodes ...</td>\n",
       "    </tr>\n",
       "</table>\n",
       "[59071 rows x 3 columns]<br/>Note: Only the head of the SFrame is printed.<br/>You can use print_rows(num_rows=m, num_columns=n) to print more rows and columns.\n",
       "</div>"
      ],
      "text/plain": [
       "Columns:\n",
       "\tURI\tstr\n",
       "\tname\tstr\n",
       "\ttext\tstr\n",
       "\n",
       "Rows: 59071\n",
       "\n",
       "Data:\n",
       "+-------------------------------+---------------------+\n",
       "|              URI              |         name        |\n",
       "+-------------------------------+---------------------+\n",
       "| <http://dbpedia.org/resour... |    Digby Morrell    |\n",
       "| <http://dbpedia.org/resour... |    Alfred J. Lewy   |\n",
       "| <http://dbpedia.org/resour... |    Harpdog Brown    |\n",
       "| <http://dbpedia.org/resour... | Franz Rottensteiner |\n",
       "| <http://dbpedia.org/resour... |        G-Enka       |\n",
       "| <http://dbpedia.org/resour... |    Sam Henderson    |\n",
       "| <http://dbpedia.org/resour... |    Aaron LaCrate    |\n",
       "| <http://dbpedia.org/resour... |   Trevor Ferguson   |\n",
       "| <http://dbpedia.org/resour... |     Grant Nelson    |\n",
       "| <http://dbpedia.org/resour... |     Cathy Caruth    |\n",
       "+-------------------------------+---------------------+\n",
       "+-------------------------------+\n",
       "|              text             |\n",
       "+-------------------------------+\n",
       "| digby morrell born 10 octo... |\n",
       "| alfred j lewy aka sandy le... |\n",
       "| harpdog brown is a singer ... |\n",
       "| franz rottensteiner born i... |\n",
       "| henry krvits born 30 decem... |\n",
       "| sam henderson born october... |\n",
       "| aaron lacrate is an americ... |\n",
       "| trevor ferguson aka john f... |\n",
       "| grant nelson born 27 april... |\n",
       "| cathy caruth born 1955 is ... |\n",
       "+-------------------------------+\n",
       "[59071 rows x 3 columns]\n",
       "Note: Only the head of the SFrame is printed.\n",
       "You can use print_rows(num_rows=m, num_columns=n) to print more rows and columns."
      ]
     },
     "execution_count": 13,
     "metadata": {},
     "output_type": "execute_result"
    }
   ],
   "source": [
    "clooney"
   ]
  },
  {
   "cell_type": "code",
   "execution_count": 12,
   "metadata": {},
   "outputs": [
    {
     "data": {
      "text/plain": [
       "dtype: str\n",
       "Rows: 59071\n",
       "['digby morrell born 10 october 1979 is a former australian rules footballer who played with the kangaroos and carlton in the australian football league aflfrom western australia morrell played his early senior football for west perth his 44game senior career for the falcons spanned 19982000 and he was the clubs leading goalkicker in 2000 at the age of 21 morrell was recruited to the australian football league by the kangaroos football club with its third round selection in the 2001 afl rookie draft as a forward he twice kicked five goals during his time with the kangaroos the first was in a losing cause against sydney in 2002 and the other the following season in a drawn game against brisbaneafter the 2003 season morrell was traded along with david teague to the carlton football club in exchange for corey mckernan he played 32 games for the blues before being delisted at the end of 2005 he continued to play victorian football league vfl football with the northern bullants carltons vflaffiliate in 2006 and acted as playing assistant coach in 2007 in 2008 he shifted to the box hill hawks before retiring from playing at the end of the season from 2009 until 2013 morrell was the senior coach of the strathmore football club in the essendon district football league leading the club to the 2011 premier division premiership since 2014 he has coached the west coburg football club also in the edflhe currently teaches physical education at parade college in melbourne', 'alfred j lewy aka sandy lewy graduated from university of chicago in 1973 after studying psychiatry pharmacology and ophthalmology he is a full professor and vicechair of the department of psychiatry at ohsu oregon health science university and holds an md and phd prior to moving to oregon in 1981 lewy was at the national institute of mental health nimh in bethesda maryland working with senior colleague thomas wehr in oregon he has worked closely with robert l sack as of december 2005 he had 94 publications available on pubmed he describes his research as follows my laboratory studies chronobiologic sleep and mood disorders these disorders include winter depression jet lag maladaptation to shift work and certain types of sleep disturbances relying on a very precise assay for plasma melatonin a hormone that has a clearly defined 24hour pattern of secretion biological rhythm disorders can be assessed and their treatment can be monitored current research is focused on developing bright light exposure and melatonin administration as treatment modalities for these disorders treatment must be precisely scheduled morning light exposure and evening melatonin administration cause circadian phaseadvance shifts evening light exposure and morning melatonin administration cause circadian phasedelay shifts totally blind individuals have 25hour circadian rhythms drifting an hour later each day unless they take a melatonin capsule at a certain time every day', 'harpdog brown is a singer and harmonica player who has been active in canadas blues scene since 1982 hailing from vancouver he crossed tens of thousands of miles playing club dates and festivals in canada the northwestern united states and germanyover the years he has issued seven cds in 1995 his home is where the harp is won the muddy award for the best nw blues release from the cascade blues association in portland oregon as well that year it was nominated for a canadian juno for the best bluesgospel recording teamed up with graham guest on piano his cd naturally was voted 1 canadian blues album of 2010 by the blind lemon surveybrown tours extensively with his guitarist j arthur edmonds performing their electric mid1950s chicago blues either as a duo or with the full band while he is home he juggles a few combos working many venues big and small he also leads the harpdog brown band which is a gutsy traditional chicago blues band in 2014 they released what it is comprising mainly original songs and a few classic covers influential blues promoter and broadcaster holger petersen called what it is browns best albumhe was just awarded the maple blues award in toronto for best harmonica player in canada 2014 and was honored with a life time membership to the hamilton blues society', 'franz rottensteiner born in waidmannsfeld lower austria austria on 18 january 1942 is an austrian publisher and critic in the fields of science fiction and the fantasticrottensteiner studied journalism english and history at the university of vienna receiving his doctorate in 1969 he served about fifteen years as librarian and editor at the sterreichisches institut fr bauforschung in vienna in addition he produced a number of translations into german of leading sf authors including herbert w franke stanislaw lem philip k dick kobo abe cordwainer smith brian w aldiss and the strugatski brothersin 1973 his new york anthology view from another shore of european science fiction introduced a number of continental authors to the englishreading public some of the authors in the work are stanislaw lem josef nesvadba gerard klein and jeanpierre andrevonthe year 1975 saw the start of his series die phantastischen romane for seven years it republished works of both lesser and betterknown writers as well as new ones ending with a total of 28 volumes in the years 19791985 he brought out trnaslations of h g wellss works in an eighteen volumes seriesrottensteiner provoked some controversy with his negative assessment of american science fiction what matters is the highest achievements and there the us has yet to produce a figure comparable to hg wells olaf stapledon karel apek or stanisaw lem rottensteiner describedroger zelazny barry n malzberg and robert silverberg as producing travesties of fiction and stated asimov is a typical nonwriter and heinlein and andersonare just banal however rottensteiner praised philip k dick listing him as one of the greatest sf writers from 1980 through 1998 he was advisor for suhrkamp verlags phantastische bibliothek which brought out some three hundred books in all he has edited about fifty anthologies produced two illustrated books the science fiction book 1975 und the fantasy book 1978 as well as working on numerous reference works on science fiction his close association with and promotion of lem until 1995 was a factor in the recognition of the latter in the united statesrottensteiner has been the editor of quarber merkur the leading german language critical journal of science fiction since 1963 in 2004 on the occasion of the hundredth number of this journal he was awarded a special kurdlawitzpreis', 'henry krvits born 30 december 1974 in tallinn better known by his stagename genka is an estonian rapper and record producergenka started rapping in 1996 along with revo and dj paul oja who was genkas schoolmate together they started a band called toe tag their first album the real kuhnja homophobes was released next year in 1998 genka and revo joined another estonian rap group arhm and toe tag went on vacation also genka started making his own solo songs the most famous hit was tallinn which was rapped along with droopy in 2001 during the same year toe tag came back together and started a big estonian tour in 2004 toe tag released their second studio album legendaarne legendary which consisted of 18 songs the most famous songs from the album were legendaarne and pankrot bankruptcy in 2006 genka and arhm released their new album leegion which had 23 songs the most famous songs from this album were palmisaar palm island and tugitooli gangster armchair gangstergenka and dj paul oja started their own record company legendaarne records also genka and arhm were the warmup performers for 50 cent on his 2007 europe promo tour for the curtis album in tallinn', 'sam henderson born october 18 1969 is an american cartoonist writer and expert on american comedy historyhenderson was born in woodstock new york he attended boiceville new yorks onteora high school graduating in 1987 and the school of visual arts in new york city where he graduated in 1991henderson has been selfpublishing xeroxed minicomics since 1980 in the midtolate 1980s he drew and published a comic called captain spaz with his friend bobby weiss the series ended in 1988 as he was busy in college in college he drew a series of minicomics featuring a character known as monroe simmons in 1993 he began selfpublishing his bestknown title the magic whistle now published by alternative comics also in 1993 he began the wordless comic strip scene but not heard starring a pink man and a red bear in nickelodeon magazine it was the magazines longestrunning comic strip a collection is due out in 2010in their review of magic whistle bigger larger and bigger the san antonio expressnews wrote that hendersons crude blobby little scratchings are some of the funniest junk being turned out henderson was nominated for the harvey awards special award for humor every year from 19992004in 2003 hendersons writing and storyboard directing work on spongebob squarepants earned him a nomination for best animated program for programming less than one hour in the 55th emmy awardshis earliest comic which was reprinted in magic whistle number 4 contained 5009 toilets 5009 penises sic and 5009 asses henderson currently lives in his hometown of woodstock new yorksince march 2010 hendersons comic magic whistle has been published weekly in niblit comics journal', 'aaron lacrate is an american music producer recording artist dj fashion designer of milkcrate records and milkcrate clothing and a film director he was born in baltimore maryland and grew up in highlandtown east baltimoreaaron lacrate is credited for popularizing baltimore music and culture on a world wide level via his music and clothing in 2009 aaron lacrate produced the first ever baltimore club platinum record for pop star dizzee rascals song road ragehbo commissioned milkcrate athletics and aaron lacrate to create the official fashion range for the baltimore based cable television series the wire this was first time that hbo collaborated with a streetwear fashion designer milkcrate athletics is baltimores first original streetwear brandaaron lacrate productions is credited for the early success of lily allen amanda blank spank rock mndr eliza doolittleat the age of 10 lacrate began experimenting with diy culture lacrate began djing at baltimore nightclubs house parties writing graffiti and even started making custom tshirts his first studio was in his basement where he created mixtapes and tshirts sold throughout baltimore lacrate was the youngest working dj in baltimore prior to attending syracuse university where he took over the campus music scene he spent his summers in new york city interning for def jam recordings payday and rocafella records helping launch jayzs classic reasonable doubt lacrate also played a vital role in the hard knock life tour and later produced the exclusive jay z x milkcrate fade to black collaboration tshirtin 1999 aaron lacrate and milkcrate athletics sponsored a highly successful series of live shows at nyc nightclub tramps featuring eminems first nyc show tribe called quest rakim slick ricks first show upon being released from prison outkast wutang clan epmd ultramagnetic mcs and many other historical performanceslacrate has produced and remixed official major label commissioned music for madonna gorillaz soulja boy tell em dizzee rascal young mc lily allen and the cool kids tracks from lacrates album bmore gutter music released in 2005 was used by marc jacobs in a fashion showlacrate has toured with lily allen mark ronson dizzee rascal rakim and most recently kanye west aaron has developed exclusive specialedition fashion collaborations with vans colette paris rakim hbo the wire jayz and cashmere king lucien pellatfinet lacrate has also collaborated with cocacola hbo delicious vinyl dazed confused and ferrariwhich ferrari his music has been featured on hbo the wire entourage life support dj hero videogame and on the soundtrack to observe and report starring seth rogenrecently lacrate released the first bmore major label record bmore club crack which features mr vegas eliza doolittle and local baltimore gutter artists including mz streamz and verb', 'trevor ferguson aka john farrow born 11 november 1947 is a canadian novelist who lives in hudson quebec he is the author of nine novels and four plays he has been called canadas best novelist both in books in canada and the toronto starborn in seaforth huron county ontario in 1947 he was raised in montreal from the age of three in his midteens he gravitated towards canadas northwest where he worked on railway gangs and also began to write working at night in the bunkhousesin his early twenties he travelled and worked throughout europe and the united states before returning to montreal to write he settled into driving a taxi by night and writing by day until the publication of his first novel high water chants in 1977 which dennis lee called one of the best in the language his second novel onyx john in 1985 received arguably the highest critical acclaim in the history of canadian literature leon rooke called it one of the five best novels of the twentieth century sixteen years later the novel would become a bestseller in france indeed his work is highly regarded in france where hes often cited as being one of the worlds preeminent writersextraordinary praise also awaited the publication of his third novel the kinkajou the timekeeper won the hugh maclennan prize for fiction and was developed into a film 1 a ninth novel river city was published in 2011 and the paperback at 1000 pages in 2012 the option for it to be a miniseries has been agreed upon as of november 2013 trevor fergusons next novel will be the river burns published by simon and schuster in april 2014city of ice written under the penname john farrow has been published in 17 countries the vancouver sun called the book the best ever produced in canada in genre fiction the second in the series ice lake caused the new york library journal booklist to claim that the series is among the very best in crime fiction today die ziet a major cultural newspaper in germany declared the series the best of all time river city was the third of the three and was equally well received a new trilogy of john farrow crime novels the storm murders has been sold to thomas dunne booksst martins press in new york the first will appear in 2015in 2002 trevor fergusons first play long long short long was produced by infinitheatre dir guy sprung in montreal and has become the first english play in history to be nominated by lacadmie qubcoise du theatre for a masque award for best text it returned to the stage in french in the fall of 2005 at place des arts in montreal and was seen by more than 20000 people his second play beach house burnt sienna was chosen to commemorate the tenth anniversary of village theatre west in hudson in 2002 coproduced with infinitheatre dir guy sprung it enjoyed a highly successful run a third play barnacle wood was produced in montreal also by infinitheatre in march 2004 his fourth play zarathustra said some things no opens with the bridge theatre company at studio 54 in new york city in april 2006 ferguson is a past chair of the writers union of canada he has been a writerinresidence at the university of alberta an invit dhonneur at the salon des livres in montreal and he was among the quebec authors invited as special guests of the paris book fair in 1999 in 2002 he was one of the few canadian writers invited to the festival of the americas in paris also in 2002 he served on the faculty of the may writers studio at the banff centre for the arts he frequently teaches creative writing at concordia university', 'grant nelson born 27 april 1971 in london also known as wishdokta bump flex and nng is an english dj remixer and record producernelson is heralded as one of the godfathers of uk garage due to his numerous club hits on his nice n ripe record label in the early 1990s it was his sound along with a few others that gave birth to the then known as sunday scene which evolved into uk garagehe also produced under the name wishdokta from 19901993 when he was producing breakbeat hardcoredrum and bass for the legendary london label kickin records in 1993 wishdokta teamed up with dj vibes and together they delivered some of happy hardcores biggest anthems on vibes asylum music inc and other labels including happy traxin 1997 nelson started using the alterego bump flex and began to produce uk 2step he delivered some of the scenes biggest records including funk on ah roll by james brown nelson has always remained a house head since his early nice n ripe days and continues to do so to the present with his swing city records label that consistently delivers top drawer house musicsome of the artists nelson has remixed and worked with include kelis jodeci misteeq aaliyah james brown the artful dodger jamiroquai lutricia mcneal thelma houston another level goldie roy ayers guy rosie gaines juliet roberts liberty x towa tei evelyn champagne king bebel gilberto negrocan beverley knight brand new heavies faithless simply red frankie knuckles and agnes', 'cathy caruth born 1955 is frank h t rhodes professor of humane letters at cornell university and is appointed in the departments of english and comparative literature she taught previously at yale and at emory university where she helped build the department of comparative literature she received her phd from yale university in 1988 and is the author of empirical truths and critical fictions locke wordsworth kant freud johns hopkins up 1991 unclaimed experience trauma narrative and history johns hopkins up 1996 literature in the ashes of history johns hopkins up 2013 and listening to trauma conversations with leaders in the theory and treatment of catastrophic experience johns hopkins up forthcoming 2014 she is also editor of trauma explorations in memory johns hopkins up 1995 and coeditor with deborash esch of critical encounters reference and responsibility in deconstructive writing rutgers university press 1995 robert jay lifton md describes her as one of the most innovative scholars on what we call trauma and on our ways of perceiving and conceptualizing that still mysterious phenomenon for a good discussion of both caruths work on trauma theory see roger luckhurst the trauma question and shoshana felman the juridical unconscious trials and traumas in the twentieth century harvard university press 2002 pp 173182 n3', 'sophia violet sophie crumb born september 27 1981 is an americanfrench comics artist she is the daughter of underground comix artists robert crumb and aline kominskycrumbcrumb was born in woodland california and lived in the nearby farming town of winters with her parents until she was nine years old in 1991 she relocated with her family to sauve a village in southern france her parents reported that they wanted to remove her from the political conservatives and christian fundamentalists of the united states in a 2010 interview sophie told the philadelphia inquirer that her mother was afraid sophie would turn into a valley girlit was after this relocation that terry zwigoff released crumb 1994 a critically acclaimed documentary film about sophies father and their family zwigoff later commissioned sophie to prepare some original drawings for inclusion in his 2001 comedydrama ghost world an adaptation of daniel clowes comics serial of the same nameafter completing her secondary education in france crumb studied acrobatics and clowning at a french circus school while living in brooklyn in the mid2000s she sold her comics on the street and apprenticed herself to a tattoo artist at another stage she earned a living by teaching english as a foreign languageshe lives in southern france with her husband a construction worker and their son eli who was born in 2009', 'jenn ashworth is an english writer she was born in 1982 in preston lancashire she has graduated from cambridge university and the manchester centre for new writing she previously worked as a librarian in a mens prisonshe founded the preston writers network later renamed as the central lancs writing hub and worked as its coordinator until it closed in january 2010 she has also taught creative writing at the centre for new writing at the university of manchester and at the university of central lancashireshe currently runs a literature consultancy called the writing smithy with the poet sarah hymas and works as an editor and mentor there she is also a lecturer in creative writing at the department of english and creative writing at the university of lancasterin march 2011 she was featured as one of the bbc culture shows best 12 new novelistsshe has written short stories and her first novel a kind of intimacy was published in february 2009 it is the story of a lonely woman failing to come to grips with reality unable to relate to others and full of selfdeception it contains strong elements of both comedy and tragedy and eventually violence this novel won a betty trask award in 2010two earlier novels are both unpublished one of them was lost as a result of a computer theft in 2004 however an extract from this lost novel was the winner of the 2003 quillercouch prize for creative writing at cambridge universityashworths 2011 novel cold light aims according to her own account to be dark and funny and odd this novel tells the story of three teenage girls one of whom dies with her boyfriend in suspicious circumstances the novel is set on the tenth anniversary of the death when a memorial summerhouse is built and another body is found a third novel the friday gospels published in january 2013 imagines a lancastrian family welcoming their son home from a twoyear mission for the church of jesus christ of latterday saints lds church jenn ashworth was herself brought up as member of the lds church but left the church in her teens', 'jonathan hoefler born august 22 1970 is an american typeface designer hoefler pronounced heffler founded the hoefler type foundry in 1989 a type foundry in new york in 1999 hoefler began working with type designer tobias frerejones and from 20052014 the company operated under the name hoefler frerejones until their public splithoefler has designed original typefaces for rolling stone magazine harpers bazaar the new york times magazine sports illustrated and esquire and several institutional clients including the solomon r guggenheim museum and alternative band they might be giants perhaps his bestknown work is the hoefler text family of typefaces designed for apple computer and now appearing as part of the macintosh operating system he also designed the current wordmark of the church of the latterday saintsin 1995 hoefler was named one of the forty most influential designers in america by id magazine and in 2002 the association typographique internationale atypi presented him with its most prestigious award the prix charles peignot for outstanding contributions to type design hoefler and frerejones have been profiled in the new york times time magazine and esquire magazine and appearances on national public radio and cbs sunday morninghoeflers work is part of the cooperhewitt national design museums permanent collection', 'anthony fitzhardinge gueterbock 18th baron berkeley and baron gueterbock obe ceng mice hon fimeche hon dsc frsa fcit born 20 september 1939 also known as tony berkeley is a british labour politician he is both an english hereditary peer and a life peerafter being educated at eton college gueterbock went up to trinity college cambridge where he graduated ma he then embarked upon a career in civil engineering joining george wimpey plc where he worked as an engineer until 1985 for the next ten years he worked as an engineer for eurotunnel 8595gueterbock inherited his ancestors ancient title of baron berkeley in 1992 succeeding his aunt mary foleyberkeley 17th baroness berkeley berkeley was created a life peer too in 2000 as baron gueterbock of cranford in the london borough of hillingdon so as to remain sitting as a labour peer in the house of lords following the removal of hereditary peers automatic right to seats in parliamentsince lord berkeley first entered the house of lords in 1992 he has held the positions of opposition spokesperson for transport 199697 and opposition whip 199697lord berkeley is the secretary of the all party parliamentary cycling group and has asked many questions in the house of lords on transport matters including about bicycles on trains berkeley has also tabled questions about police conduct with regards to civil liberties he has also questioned restrictions on peers being entitled to bring guests into the house of lordshe is chairman of the rail freight group the industry representative body of the rail freight sector and a board member of the european rail freight association he is also a trustee of plymouth marine laboratory he lives in polruan cornwalllord berkeley is president of the uk maritime pilots association and a harbour commissioner of the port of fowey', 'david chernushenko born june 1963 in calgary alberta is a politician professional speaker sustainability consultant and documentary filmmaker in ontario canada he was elected to ottawa city council in the 2010 municipal election and is running for reelection in 2014 he is the former senior deputy to the leader of the green party of canada and a former leadership contestant for that partya graduate of queens university political science and alumnus of cambridge university international relations chernushenko has worked for the canadian international development agency cida the canadian department of foreign affairs and international trade dfait and the united nations environment programme he has served on committees and boards of local housing and environment groups schools and health advisory bodieschernushenko is a green building professional accredited by the leed leadership in energy and environmental design certification program as owner of the consulting firm green gold inc since 1998 he has advised public private and nonprofit organizations on adopting more sustainable and socially responsible practicesfrom 1998 to 2004 chernushenko served on the international olympic committees commission on sport and the environment he has written several books on sustainable management practices including sustainable sport management unep 2001 and greening our games running sports events facilities that wont cost the earth centurion 1994 and the electronic publication greening campuses and their communities iisdacccunep 1996 in 2001 he cofounded clean air champions a national charity that engages athletes in raising awareness about air pollution climate change and the benefits of physical activity in canada he is a director of the sustainable ottawa energy cooperativehe was the green party candidate for ottawa centre in the 2004 federal election he finished fourth with 4730 votes 8 receiving more votes than any other green candidate in ottawa he ran again in ottawa centre in the 2006 federal election and again came fourth losing to paul dewar from the new democratic party ndp chernushenko received 6766 votes 102 the highest vote count of any green party candidate in canada the 2006 election he passed the 10 threshold thus becoming eligible for partial government reimbursement of campaign expenditures chernushenko was endorsed by the ottawa citizen newspaper in both the 2004 and 2006 elections he also ran as the green party candidate in ottawa south in the 2003 ontario general electionon november 10 2006 prime minister stephen harper appointed chernushenko to canadas national round table on the environment and the economy a nonpartisan panel that advises the federal government on environmental policy and works to promote the integrated pursuit of excellence in environmental social and economic practices in canadas public private and civil society sectors chernushenko served as a member on the nrtee from 2006 to 2009 and served as vicechair in 20082009chernushenko resigned as deputy leader of the green party in july 2007 in order to devote more time to his international consulting business and the nrtee and to make documentary films since then he has launched the living lightly multimedia project and produced three documentaries titled be the change 2008 powerful energy for everyone 2010 and bike city great city 2013chernushenko ran as city councillor for capital ward in the 2010 ottawa municipal election he won with 4134 of the vote he is running for reelection in 2014', 'joerg steineck is a german filmmaker editor and graphic designerartist who is based in berlinduring his study of film and design he produced a few short documentaries and fictional films in his films he often explores subcultures such as underground music genres and people who exist parallel to or on the edge of societyhe seeks to tell common but nevertheless extraordinary stories and generate unique audiovisual atmospheres steineck also works as a graphic artist and illustrator in his 84minute feature documentary truckfighters he combines creative elements to tell the story about a common swedish rock band in a most unconventional way truckfighters fuzzomentary attracted media attention due to guest appearances of well known musicians and bands including josh homme and fu manchu the release of his music documentary lo sound desert is set for 2012 trailers for this film are available on the internet since 2006 and have attracted attention of fans of the musical genre desert or stoner rock which is also a main topic in truckfighters steineck started his creative development with drawing painting and photographing during his childhood he shot his first film in the age of thirteen with a friends vhs camera steineck also contributes musical content from time to time to his electronic music project the gap influence', 'fr andrew pinsent born 19 august 1966 is research director of the ian ramsey centre for science and religion at oxford university a member of the theology faculty a research fellow of harris manchester college and a catholic priest of the diocese of arundel and brighton in england a focus of his present research is the application of insights from autism and social cognition to secondperson accounts of moral perception and character formation his previous scientific research contributed to the delphi experiment at cern and he is a coauthor of thirtyone publications of the collaborationfr pinsent has a first class degree in physics and a dphil in high energy physics from merton college oxford three degrees in philosophy and theology from the pontifical gregorian university in rome and a further phd in philosophy from saint louis university he is also a member of the united kingdom institute of physics and a tutor of the maryvale institute in birmingham he has been interviewed for various media including the bbc and ewtn on issues of science and faith he has also written for the catholic herald who identified him as a prominent young catholic his most recent book is the secondperson perspective in aquinass ethics virtues and gifts routledge 2012 besides academic publications he is a coauthor of the evangelium catechetical course and the credo apologia and lumen pocket books', 'paddy dunne was a gaelic football player from park in county laoishe played for many years on the laois senior football team in the centre half back position and was widely regarded as one of the outstanding players in ireland of the 1950swith his club park he was captain as they won two laois senior football championship titles in 1952 and 1953called up the laois team in 1949 following outstanding performances for his club park paddy was centre back on the laois team who were narrowly beaten by meath in the 1951 leinster football final he would still be there in his famous no 6 jersey when laois suffered another agonising defeat in the 1959 leinster football finalhe also played for his province leinster winning three consecutive railway cup medals in 1952 1953 and 1954 all on the field of play only one other laois player colm browne has managed to emulate this featdunne played for the rest of ireland xv in 1953 and 1954 he retired from all football following the 59 leinster final due to a recurring back problema lasting tribute to dunnes greatness in the famous blue white jersey was his selection at centre half back on the laois team of the millennium which was selected a few years backin 2008 dunne was selected to be inducted into the laois gaa hall of fame', 'alexandros mouzas born 1962 is a greek composer he studied composition with theodore antoniou advanced theory with haris xanthoudakis and electronic music with dimitris kamarotos he has composed for various ensembles and has received commissions from organizations and orchestrashe has collaborated with the choreographer konstantinos michos and the lathos kinissi dance group in many productions among them trisha never left home days of vironas papageno and calamity till the dawn and with airesis dance companyhis professional activities include imagerelated music he has written original music for short films television series documentaries and commercials for most of the greek television channelshe was the artistic director of the greek section of the european programme new media edge project 2003in 2004 he composed under commission by the athens 2004 organizing committee original music for the athens olympic games corporate videos his recent professional activities include production management of various important cd releases of greek orchestral music he is the manager and founding member of the ergon ensemblehe runs his own production company anax cultural projects he teaches music technology and film music at top schools in athenssince 1998 he has been a member of the board of directors of the greek composers unionnaxos music label released the cd with orchestral works titled music for an imaginary film performed by the sofia philharmonic orchestra', 'john angus campbell born march 10 1942 in portland oregon usa is a retired american professor of rhetoric and is a fellow of the center for science and culture a branch of the discovery institute a conservative christian think tank and of the international society for complexity information and design a professional society dedicated to the promotion of intelligent designcampbell served as an assistant and associate professor of communications at the university of washington from 19681995 and as a professor of communications at the university of memphis from 1995 until his retirement in 2005 together with stephen c meyer who is also a fellow of the center for science and culture he edited darwinism design and public education a collection of articles from the journal rhetoric and public affairscampbell was slated to appear as a witness for the defense in the kitzmiller v dover area school district trial but withdrew on june 2 2005 the day of his scheduled depositionin 2007 campbell ran for a seat on the school board in north mason county washington he offered his services to restore trust and establish transparency but did not disclose his links to intelligent design in a telephone interview he stated that he would not be dealing with curricula and that he is a darwinist who considers that debating darwin can engage the interest of students and improve their skills in critical thinking he was quoted as saying rather than demonizing people that believe in id i think there are ways people could use their ideas to study darwinism more closely the election was held on november 6 2007 and the unofficial results showed john campbell defeating the incumbent glenn landram by 2996 votes 6806 to 1406 3194 he currently serves on the schoolboard', 'chris batstone was the 20002002 lead singer of the thirdwave ska band suburban legends he joined the band in 2000 as the replacement for tim maurer who had left the band after the recording of origin edition chris first and only official recording with the band was on their first ep suburban legends released in 2001 chris has credits for cowriting the song i want more and desperate found on the ephe left the band in early 2002 reportedly he became increasingly dissatisfied with the direction the band was taking and decided to pursue other musical directions and an acting careerhe was replaced by tim maurer who rejoined the band in 2002 as the lead singer the band then rerecorded the vocal tracks on their selftitled ep with tim to create suburban legends tim remixchris batstone also recorded songs with the band on various compilations he can be found singing all the nights on supporting the scene compilation gummi bears on because we care a benefit for the childrens hospital of orange county compilation he produced and performed on suburban legends cover of rose tint my world singing along with aaron bertram dallas cook and vince walker on an unreleased tribute albumchris can also be seen in the video for i want more', 'ceiron thomas born 23 october 1983 is a welsh rugby union footballer currently playing for st ives rfc after signing from the cornish pirates in june 2012 his previous clubs are leeds carnegie and the scarlets his regular position is at flyhalf though he is often played at fullbackthomas began his rugby career with the llanellibased scarlets and made his debut for the region in 2003 when he played in a friendly against the slovenia national team llanelli won the game 950 scoring 14 tries with thomas converting eleven of them he also scored one penalty bringing his points total for the game to 25 in the 200304 season thomas made five appearances for llanelli including three in the 200304 celtic leaguehowever thomas did not play for the regional side again until april 2005 almost 18 months after his last appearance he made three more appearances in the 200405 season before falling out of favour and not making another appearance until april 2006 again he only made two more appearances in the 200506 season but managed to hold down a place in the side for the 200607 magners league sharing duties at fullback with barry davies and morgan stoddart he made 25 appearances that season and scored 110 pointsthomas began the 200708 magners league as the scarlets starting flyhalf while regular number 10 stephen jones was on wales duty at the 2007 rugby world cup in france but lost the berth to rival flyhalf rhys priestland before jones return in the 200809 magners league thomas spent much of his time on the bench playing secondfiddle to jones and priestland at flyhalf and the majority of his playing time was spent in other positions including two starts on the wing in december 2008 thomas only made six appearances for the scarlets in 2009 resulting in a transfer to leeds carnegie in june 2009', 'adel sellimi arabic was born on 16 november 1972 in the bab jedid district of tunis as a child he drew inspiration from the 1978 world cup team who became the first african nation to win a world cup match at the age of 10 he joined his first club club africain of tunis and he stayed there for the next 14 years picking up two tunisian league titles and one tunisia cup along the wayhis quick pace strength on the ball and creativity earned him a callup to the national team and he earned his first cap in september 1993 during a match against germany following a promising performance he carved out a virtually permanent place for himself in the countrys national team for the next eleven yearstunisians grew to appreciate his discretion in life outside football as a modest and determined professional on the pitch he singularly distinguished himself at international level during the 1996 african cup of nations finals in south africa as one of the best players of the tournament sellimi became a household name throughout the country a skillful and talented bright spark who carried the team to the final of the tournament for the second time in their history sellimi struck twice in the semifinal against zambia and was widely considered one of the best players in the tournamentthis movement into the limelight earned the player a transfer to french ligue 1 side fc nantes atlantique following another impressive showing at the 1996 olympic games in atlanta but his move to france marked the start of a long barren period although the nantes fans dubbed him the lung on account of the distance he clocked up during matches he never really settled in at his new club he hit just two goals in 30 appearances in his first season and failed to achieve the kind of success he had enjoyed back home in tunisia after another disappointing season in 199798 sellimi left nantes for spanish second division side real jan it was here that he got some firstclass matches under his belt and finally found form this surge in form earned him a callup to the 1998 world cup squad where he put in steady performances against england and romaniabundesliga side freiburg took a gamble on sellimi and partnered the player with other tunisian internationals anchorman zoubeir baya and fellow striker mehdi benslimane but here too he took a long time finding his true form and many at freiburg considered him a mistaken purchase during his first year however he proved his detractors wrong in the best possible way in the 19992000 season sellimi just could not stop scoring goals and even headed the bundesligas goalscoring list going into the winter breaka disappointing 2001 lead to sellimi missing out on the 2002 african cup of nations in mali and a number of international friendlies after a fallout with former national coach henri michel but the frenchmans replacement with ammar souayah coupled with the national teams goal drought brought about his recall the 2002 world cup in korea and japan turned out to be adel sellimis swansong in premier football competitions and he retired from international football shortly after the tournament at the age of 31 he returned to club africain shortly afterwards and is now head coach of jendouba sport in tunisia recently gaining promotion to ligue 1', 'faith soloway born march 28 1964 is an american folkrock musician comedic performer and creator of several folkrock musicals based in the boston area she studied theater at indiana university and performed improv comedy regularly along with leaving school to tour with second city she spent three years as music director for second city which led to the creation of soloways first original musical the real life brady bunch the show which premiered in 1990 was a collaboration with her sister jill soloway and it toured across the country both soloway sisters moved to hollywood briefly to produce television shows but faith soloway decided she was not interested in television work and in 1994 moved to cambridge massachusetts to pursue a songwriting careerafter performing at open mike nights as a solo musician soloway began producing a series of rock operas that were performed at club passim she started with the minimalist the principal and the potter which was followed by miss folk america which featured what became one of soloways signature songs queer in revere and debbie does falcon ridge both of which parodied the folk scene in 2000 soloway produced miss folk america at the somerville theater a larger venue this was followed by jesus has two mommies the title refers to the controversial childrens book heather has two mommies which featured such notable boston folk musicians as catie curtis and jennifer kimballsoloway also works at charles river creative arts program in dover massachusetts in the summer in the theater and music departments for the camp she has written the musicals harrie norbert beany is action man and hamletta with tom evans soloways lone solo album training wheels features her song lesbo song which is at once a statement of her sexuality and a tweaking of the earnest humorless stereotype of womens music her song sisters boyfriend was featured on the respond compilation a benefit for domestic violence causes she continues to perform with her band the faith soloway crisissoloways expartner writer harlyn aizley wrote a book entitled buying dad about the couples efforts to conceive a child via artificial insemination their daughter betsy was born in 2002 soloway wrote an essay betsy loves bobbies that will appear in a forthcoming anthology edited by aizley the other mother tales from the lesbian homefront or nonbiological mothers tell all after the couple separated soloway started work on a new show journey to the self one womans self journey her new partner carol rosenthal is very active in hollywood', 'tom jennings born 1955 as thomas daniel jennings in boston massachusetts is a los angelesbased artist and technician he is the creator of fidonet the first message and file networking system for bbses originally the fidonet protocols were implemented in a program named fido authored by jennings but they were ultimately implemented by other authors in other software to create a network using a multiplicity of platformsaside from creating the most influential protocol for networking computer bulletin boards jennings built wired magazines first internet presence wrote the portable bios that led to phoenix technologies bios ran an early regional internet service provider the little garden later incorporated as tlgnet inc and maintains an informal archive of cold war science and technologywhile he lived in san francisco from 1988 until 1991 jennings was the publisher and coeditor with deke nihilson of homocore one of the earliest queercore zines the name came from the pages of jds zine and featured musicians and writers such as the apostles steve abbott donna dresch larry livermore daniel nicoletta and gb jones the editors other activities such as organizing homocore shows where bands such as fugazi and beat happening appeared and writing for and creating other publications were instrumental in popularizing the queercore movement particularly on the west coast deke also performed in films such as the yoyo gang and had his own queercore band comrade in arms internationally homocore zine throughout its eight including the rarely seen issue 512 issues along with jds was influential in the rise of queercore as the zines found their way into the hands of queer punk kids across north america south america and europejennings currently resides in los angeles california with his partner josh stehlik he is faculty at calarts arttechnology program and also works as a technician at the university of california irvines arts computation engineering graduate program', 'victor john stasiuk born may 23 1929 is a retired canadian professional ice hockey left winger and a former nhl head coach stasiuk played junior hockey in his native lethbridge alberta before signing with the chicago black hawks he played sparingly in chicago and he was traded to the detroit red wings in 1951 for much of the early portion of his career stasiuk was viewed as a physical defensiveoriented forward on the offensiverich red wings stasiuk was often the odd man out and he spent significant time toiling in the minors with the indianapolis capitals and the edmonton flyers he won the stanley cup in 1952 and 1953 however in 1954 although stasiuk played 42 regular season games for detroit because he spent the playoffs in the minors his name was left off the stanley cup after the wings captured the league crown1in 1955 stasiuk was traded to the boston bruins and found instant chemistry with johnny bucyk and bronco horvath a grouping dubbed the uke line because of the ukrainian ancestry of the three players in 195758 this line became the first in nhl history to have all three participants reach the 20 goal mark now a formidable twoway presence stasiuk scored a career high 68 points in 1960 in 1961 he was traded back to detroit playing with this club until 1963 before finishing his career in the minors he played for the chicago black hawks detroit red wings and boston bruins he recorded 183 goals and 254 assists in 745 nhl games2 after retiring stasiuk moved to coaching he took over the pittsburgh hornets of the american hockey league for two seasons and later led the same leagues quebec aces to backtoback difficult losses in the calder cup finals stasiuk then earned a job with the philadelphia flyers his team finished out of the playoffs by a single point in 196970 then were eliminated in the first round of the postseason the next year stasiuk was fired after the 197071 season the flyers offered him a scouting position but he took a head coaching job three games into the nhl season with the california golden seals 3 stasiuk was fired after the season due to a stylistic conflict with management and he then spent one year behind the bench of the vancouver canucks before settling into a career in junior hockey coaching4', 'anthony caruana born 2 january 1968 is a melbourne australia based technology journalist who writes for australian macworld the australian broadcasting commission several titles from next media it wire and many other publications he was the chief editor of the anz section of techtarget from april 2011 to january 2012 where he regularly wrote articles for searchcio au he was also a regular contributor to the age for several yearshe was the founding editor of technology decisions a new technology magazine that launched in october 2012 and focuses on the needs of senior it executives and influencershe made his start as one of the original review team members for pocket pc thoughts before being given an opportunity to write product reviews for apc magazine under editor david flynnin addition to writing about technology caruana has appeared on the australian broadcasting corporations the business as a technology commentator as well as other nationally broadcast news and current affairs shows in australia he is also a regular on raf epsteins drive program on 774 local radio melbourne as part of the geek club segment that is on air every wednesday from 330pmsince early 2011 caruana has been blogging about how to run a successful freelance business at journo advice he regularly speaks at events about this topic and spoke at the melbourne freelance convention in march 2012', 'ian mitchell is a scottish author who grew up mainly in south africa he is the author of isles of the west a hebridean voyage and isles of the north a voyage to the realms of the norse both books are concerned with apparentlyvirtuous environmental ngos which operate in rural scotland but which in the point of view of the author actually do damage to it mitchell is a critic of bodies like the royal society for the protection of birds and scottish natural heritage and has compared aspects of their behavior to that of the nazismitchell was founder and director of an organisation called people too described by him as an organisation founded to defend rural communities from the imposts of centralized bureaucracymitchell has also written a book called the cost of a reputation about the aldingtontolstoy libel trial which took place in london in 1989 and concerned the claims that a controversial british army operation in may 1945 handed back tens of thousands of cossack and yugoslav refugees from stalin and tito for the most part illegally to the dictators the book mainly concerned the london trial at which mitchell claims lord aldington who had issued the illegal orders in 1945 as staff brigadier perjured himself in this as an exdeputy chairman of the conservative party he was assisted by both the foreign office and the ministry of defensemitchell lived for fifteen years on the hebridean island of islay where he has three children he now lives in moscow where he works as a journalist and has broadcast about books on the voice of russia on april 6 2007 he delivered a lecture seeing scotland historical places and themes at the ele public forum in moscow', 'leon duane hapgood born 7 august 1979is an english amateur footballer he has represented england schoolboyshapgood was born in torquay and began his career as an apprentice with torquay united scoring on his league debut in september 1997 while still an apprentice coming on as a 38th minute substitute for the injured steve mccall in the 30 win at plainmoor against brighton hove albion he turned professional in may 1998 but played only a peripheral role in wes saunders side the following season in june 1999 he was offered a threemonth contract by torquay but was released in august almost immediately teaming up with his former manager kevin hodges on trial at plymouth argyle he signed noncontract terms with the pilgrims but was allowed to join former torquay player sean william joyces bideford on loan in november 1999 on 7 february 2000 he joined conference side yeovil town after failing to break into the plymouth first teamin june 2000 he moved to taunton town managed by former torquay player russell musker playing as a substitute in tauntons 21 fa vase final win over berkhamsted town on 6 may 2001 at villa parkhe subsequently moved to merthyr tydfil in december 2001 at the of that season he moved to the united states to work as a coach returning to the uk to play for taunton in october 2002 he moved to bideford in february 2003 initially on loan as he recovered from injury and left bideford to join clevedon town in june 2004on 10 january 2007 he rejoined torquay united on an initial onemonth contract which was later extended for a second month however he was released by torquay on 11 march 2007 when his contract expired after starting the 20072008 season with liskeard athletic he subsequently rejoined bidefordhe is the great nephew of former arsenal and england left back eddie hapgoodleon hapgood resumed his north american coaching career in august 2008 with calgary foothills soccer club where he serves as academy manager', 'emily jordan osment born march 10 1992 is an american actress singer and songwriter born in los angeles california after working in several television films in her childhood she gained fame for costarring as the character gerti giggles in spy kids 2 island of lost dreams and spy kids 3d game over she went on to costar in the emmy awardnominated disney channel sitcom hannah montana as lilly truscott as well as the series movie hannah montana the movie she also starred as cassie in r l stines the haunting hour volume one dont think about it and the disney channel original movie dadnapped as melissa morris she most recently starred in the 2011 abc family original movie cyberbully the 2013 tv series cleaners produced for the online service crackle and the 2014 lifetime movie a daughters nightmare she currently stars in the abc family television series young hungry 2014 as gabi diamondosment expanded her repertoire into pop music and more recently alternativeindie rock where she has recorded teen pop hits like i dont think about it if i didnt have you alongside her hannah montana costar mitchel musso and most recently once upon a dreamosments debut album fight or flight was released on october 5 2010 via windup records and it features lead single lets be friends which was released june 8 2010 the second single off the album was entitled lovesick and was released on october 19 2010', 'dominick a dom flora born june 12 1935 is an american former college basketball standout at washington and lee university wl located in lexington virginia flora played for the wl generals from 195455 to 195758 dom flora was a native of jersey city new jersey and played high school basketball for william l dickinson high schoola point guard flora was an explosive scorer whose accurate jump shot and crisp ballhandling ability helped him average 21 points per game for his career he was able to score despite being double and tripleteamed by opposing defenses and his aggressive style of play led him to become one of the most prolific free throw shooters in ncaa division i history as of the conclusion of the 201112 season floras 696 free throws made are still in the top 25 alltime in division i history he shot 696for954 730 in 109 career games played as a senior in 195758 flora was named the southern conference player of the year the virginia big six player of the year and a first team allamerica selection by the helms foundation he also earned his second straight first team allsouthern conference selection when his career ended flora finished with 2310 points which at the time was the fifthhighest total in ncaa history he also played baseball all four years while at wlbill brill a sports writer for the roanoke times world news once wrote about floraflora left the fans gasping with one bit of razzledazzle on which he dribbled with his left hand jumped into the air switched the ball behind his back to his right hand and made a jump shot it was worth the price of admission', 'theodore preston hill born december 28 1943 is an american mathematician known for his research on mathematical probability theory in particular for his work on benfords law and for his work in the theories of optimal stopping secretary problems and fair divisionborn in flatbush new york he studied at the united states military academy at west point distinguished graduate of the class of 1966 and stanford university ms in operations research after surviving the us army ranger school and serving as an army captain in the combat engineers of the 25th infantry division in vietnam he returned to study mathematics at the university of gttingen fulbright scholar the university of california at berkeley ma phd under advisor lester dubins and as natonsf postdoctoral fellow at leiden universityhe spent most of his career as a professor in the school of mathematics at the georgia institute of technology with temporary appointments at washington university tel aviv university the university of hawaii the university of gttingen fulbright professor the university of costa rica the free university of amsterdam the mexican centre for mathematical research cimat and as gauss professor in the gttingen academy of sciences he is currently professor emeritus of mathematics at georgia institute of technology adjunct professor of electrical and computer engineering at the university of new mexico and research scholar in residence at california polytechnic state university san luis obispo', 'mindaugas gervaldas until 2012 year mindaugas murza born december 16 1973 is an antisemitic lithuanian politician a radical nationalist former member of the national democratic party lithuania former member of the lithuanian national defence volunteer forces a lithuanian government sponsored paramilitary organization a one time leader of the neonazi national socialist party and member of iauliai city municipality council he is known for his antisemitic statementsin 1998 gervaldas and other members of his party lithuanian alliance of nationalistsocialist unity in their publications voice of the nation attacked lithuanias minorities of jews poles and russians and demanded that conditions for these minorities be made so unbearable so that they would leave lithuania in 2001 he attempted to revive moribund logic of life party gyvenimo logikos partija when registration for the national socialist alliance was refusedin april 2005 gervaldas passed plans to establish a new political party called the unified lithuanian national workers movement its aims would be to encompass up to 3 of the population eventually and win in the next municipal elections to iauliai city council at the creation of new party mindaugas murza compared globalism to zionism which led to investigation against him being carried out by lithuanian prosecutors on basis of preaching hatred antisemitism on april 12 2005 police seized hard drives from gervaldass personal computer and computers of his colleagues for legal reasons prosecution pending the court did not allow mindaugas murza to change his name to mindaugas gervaldason november 19 2011 he married russian citizen zlata rapova the marriage was conducted using neopagan rituals', 'robert scott reece born january 5 1951 is an american former professional baseball player a catcher he was a graduate of stanford university and spent nine seasons in the minor league system of the montreal expos playing in nine games in the major leagues for montreal at the beginning and the end of the 1978 season he threw and batted righthanded stood 6 feet 1 inch 185 m tall and weighed 190 pounds 86 kgreece was signed by the expos as a nondrafted free agent in 1973 he reached the triplea level in 1975 as a member of the memphis blues of the international league then the expos top farm system affiliate the following season montreal signed a player development contract with the denver bears of the american association and reece would spend all or parts of six years as a member of the bearsin 1978 reece batted a careerhigh 296 in 47 games for denver in between his major league trial with the expos he played rarely for montreal appearing in a total of seven games between april and early june on may 7 his third big league game reece collected his first mlb hit run scored and run batted in when he doubled off relief pitcher dave tomlin during a 195 rout of the cincinnati reds at riverfront stadiumhe started his first mlb game at catcher two days later during the second game of a doubleheader against the atlanta braves he was held hitless in two at bats by future hall of famer phil niekro then was pinch hit for by the expos regular catcher another future hall of famer gary carter during his lateseason stint with the expos reece got into two september gamesin the second of those on september 16 he singled off don robinson of the pittsburgh pirates for his second and final mlb hit in his final bigleague appearancereece started three of the mlb games in which he played he collected two hits in 11 atbats with no bases on balls striking out four times his minor league career ended after the 1981 season and 672 games played', 'douglas james davies born 1947 is professor in the study of religion in the department of theology and religion at the university of durham he is an authority in the history theology and sociology of death his fields of expertise also include anthropology the study of religion the rituals and beliefs surrounding funerary rites and cremation around the globe and mormonism his research interests cover identity and belief and anglican leadershipborn in wales he read two bachelor of arts degrees at st johns college university of durham before doing his phd at the university of nottingham he then achieved both master and doctor of letters at oxford university and has recently been awarded an honorary doctorate of theology from uppsala university sweden one book reusing old graves a report on popular british attitudes which he cowrote with alastair shaw won the 1995 booksellerdiagram prize for oddest title of the yearhis current projects include writings on the encyclopedia of cremation the clergy and british society 19402000 a brief history of death innerspeech and prayer and ritual purityhe has also published a large number of articles on death and contemporary christianityprofessor davies has been involved with various editorial boards and conferences including the editorial board of mortality and the british sociological association religion group chairman 20002003 he was also guest speaker at both the scandinavian sociological society conference in 2004 and the international cremation federation conference in barcelona 2003within the university of durham he teaches three undergraduate modules study of religion death ritual and belief and theology and anthropology he also teaches ritual symbolism and belief to those studying a taught masters degree in theologyhe is a member of the senior common room of st chads college durham', 'freimut brngen born october 17 1930 is a german astronomer a few sources give his first name wrongly as freimuthhe has studied galaxies with the schmidt telescope at the karl schwarzschild observatory in tautenburg germany in 1995 he retired but continues to work as a freelancer for the observatory as a byproduct of his work he has discovered numerous asteroids 519 as of july 2006 the research on asteroids had to be done in his spare time as the search for small objects was not considered prestigious enough by the gdr research managers during the gdr regime brngen restricted himself to politically neutral names for his asteroids such as topics related to thuringia or famous scientists and composers examples include 2424 tautenburg 3181 ahnert 3245 jensch or 3941 haydn after the german reunification he chose systematically historical cultural scientific and geographical namings and at times honoured amateur astronomers other names include references to resistance fighters against the nazi suppression or document a religious interestfreimut brngen has achieved great reputation in the international scientific community for his human qualities and the wellsubstantiated choice of names the iau honoured him with asteroid 3859 brngen which was discovered by e bowell at the anderson mesa station of the lowell observatory arizonain the year 2006 he was also awarded the bundesverdienstkreuz am bande cross of merit on ribbon by german federal president horst khler', 'thring brm born 10 april 1944 is a swiss composer and conductorbrm graduated from a high school in basel he then studied piano conducting and composition in basel and musicology at the university of basel and the university of heidelberg he worked as a conductor and rptiteur at the curtis institute of music the aspen music festival and school and holds a master of arts in composition from the university of california berkeleyfrom 1973 to 1987 he was a member of the board of the city of basel music academy and from 1987 to 1999 director of the conservatory of lucerne from 1999 to 2001 he was founding rector of the lucerne college of music from 2000 to 2006 he was a board member of the association europenne des conservatoire he is a member of the research council of the swiss national science foundationfrom 1984 to 1990 he was president of the jeunesses musicales de suissebrm was from 1987 to 2006 chief conductor of the junge philharmonie zentralschweiz he is head of the regio choir binningenbasel and a regular guest conductor of the chamber philharmonic pardubice he gave master classes in the czech republic slovakia and argentinahe is a jury member of the concours de musique du festival de fribourg and the sacred johannes brahms chamber music competition of the music academy in gdanskbrm was influenced by composers such as anton webern pierre boulez and john cagehe composed more than 100 works among his most famous compositions include the angelus silesius cantata the requiem for cs and litteri un schatt luci e ombre as a guest composer he worked variously at the hokuto international music festival and with the swiss groupe lacroix and the german ensemble sortisatio on a cd called 8 pieces on paul klee in honor to the painter paul klee', 'aharon solomons b september 27 1939 is a freediver and national record holderborn ernest henry child simpson solomons is the son and only child of ernest aldrich simpson and his third wife the former mary raffray ne mary huntemuller kirk his father was a partner with the shipping brokerage firm simpson spence young and best known as the second husband of wallis simpson who later married the former edward viii of the united kingdom solomons was born and baptised as ernest henry child simpson at guards chapel wellington barracks london england his mother died in 1941 and his father died in 1958 the same year ernest hc simpson changed his name to aharon solomons solomons spent the early years of his childhood in the uk india and with friends of his father in pennsylvania us he returned to the uk in 1946 and attended westbourne house school in sussex england then harrow school and finally institut le rosey in switzerlandin 1957 he was inducted into his fathers regiment the coldstream guards and was commissioned as an officer in the intelligence corps and served in the middle east in 1962 solomons moved to israel and joined the israeli defense forces where he saw action in 196768 and on the golan heights in 1973 he married joy corisande jackson april 25 1932 september 22 2010 in 1960 they had two sons uri b 1964 and nadav b 1965the solomons lived for ten years on communal agricultural settlements and then in rosh pinna from 1975 he traveled in the sinai greece micronesia and mexico where he settled for a time he taught scuba for many years in eilat in 1992 he met francisco ferreras pipin and trained with him in cuba in the no limits and constant weight disciplines of freedivingsolomons married mariateresa mt solomons in 1997 and had another son zeev in 1998 the solomons are currently separated but work and train together in the freedivers association solomons and his wife were members of the israeli freediving team in ibiza in 2001 and mt was on the uk team in egypt in 2008 both are aida instructor trainers and teach in israel the turks and caicos greece and mexicomarcus greatwood aharons student quotes aharons ideology as a foundation of his system of freediving', 'steven weil is an american rabbi who grew up on a cattle farm in upstate new york he attended ohr torah high school and yeshivat kerem byavneh in israel and yeshiva university in new york he was ordained at the rabbi isaac elchanan theological seminary and earned a masters in business administration from new york university stern school of businessweil became rabbi of the young israel of oak park michigan and then at beth jacob congregation in beverly hills california in both synagogues he substantially increased membership and expanded programming he has delivered invocations for president george h w bush vice president dick cheney governor arnold schwarzenegger and beverly hills mayors stephen h webb and jimmy delshad he has served internationally as scholar in residence while visiting congregations across the country and strongly advocating for israel and jewish education he has worked closely with leaders in the american israel public affairs committee and has worked with the beth medrash govoha of lakewood township new jerseyin his term as rabbi of beth jacob congregation weil increased membership by over 250 families to 750 families he increased the congregations endowment fund and was considered the most successful fundraiser in southern californiaweil currently resides in teaneck new jersey with his wife yael their three boys and four girls', 'gary emineth born october 24 1958 is a political figure in the us state of north dakota serving as the chairman of the north dakota republican party since july 2007s retirement of ken karls he was chosen at the partys committee meeting in fargo north dakota in july 2007in the 2010 election he led the north dakota republican party as every single republican candidate for statewide office won election including us representative and us senator during both of his terms as state party chairman republicans significantly increased their majorities in both houses of the state legislature republicans currently lead the house by a 6925 margin and the senate by a 3512 marginin a letter to the members of the republican national committee he wrote as a former finance director executive director finance chairman and finally party chairman i learned one thingit wasnt about me it was all about getting all the pieces in place and setting the wheels in motion so that the victory train would come rolling into the station exactly on time with republican candidates on board to be a successful chairman is first and foremost to know your job description and not become distracted by the siren songs heard inside the beltway 1', 'timothy grucza born 1 july 1976 melbourne australia is a cameraman and documentary film maker he is best known for his work in conflict zones such as iraq and afghanistan he is currently based in paris francegrucza began his career in australia working on issues in the south pacific including civil unrest in west papua in 1999 he documented repatriated kosovan australian refugees who had escaped the war in kosovo and were granted safe haven in australia he began covering iraq in 2002 when he entered the kurdish enclave in the north of the country during the 2003 invasion of iraq grucza worked as a correspondent for the french network canal since then he has worked extensively in iraq israel and the palestinian territories pakistan and afghanistan for pbs frontlinein 2006 along with yuri maldavsky grucza released his first feature length documentary film named white platoon aka la section white the film is a unique look at a platoon of soldiers who spend one year in baghdad entering as idealistic young men and leaving as cynical sometimes bitter veterans the film won best feature length documentary at the banff world television festival and was selected for the hot docs canadian international documentary film festivalin 2009 grucza was awarded a news and documentary emmy for outstanding individual achievement in a craft cinematography for his work on the frontline documentary the war briefinghe continues to produce his own films and pieces for frontline', 'robert bruce bob adams born august 15 1946 in stockton california is a former professional american football tight end in the national football league and an official within the church of scientology he attended el camino high school during the 1960s and was encouraged by a coach at the college of san mateo to play football he played for a single season at the college during 1966 while participating in other sports at the school including trackandfield and basketball a former coach of the college of san mateo doug scovil recruited adams to the college of the pacific where he received a full scholarship to play football there by 1968 he was captain of the teams offense at the schoolhe was not drafted by the national football league and was signed as a free agent with the pittsburgh steelers where he played under coach chuck noll in 1973 while a member of the pittsburgh steelers adams became a scientologist he said applying scientology methodology helped his performance playing football after seven years with the national football league adams finished his procareer as a member of the atlanta falcons he subsequently took up other professions including owning a fitness center in redwood city california being a consultant for high tech companies and working as a teacherin 2004 adams served within the scientology organization as senior vice president of its association for better living and education able a nonprofit founded by scientology members in 1988 to supervise the secular programs narconon criminon the way to happiness and applied scholastics by 2006 he had become a media executive and vice president of the church of scientology and worked out of the organizations facilities in hollywood california he represented the church of scientology at the 2006 conference of the religion newswriters association in utah adams held the position of vice president of public affairs for the church of scientology international in 2009 and was a reverend within the organization he traveled to melbourne australia in december 2009 for the world religions conference he continued to serve as vice president of the church of scientology international in 2010 and was one of four officials listed as spokespersons for the church', 'sylvie roy born november 4 1964 in la tuque quebec is a politician in quebec canada and the coalition avenir qubec member of the national assembly for the electoral district of arthabaska she previously represented the riding of lotbinire from 2003 until 2012 initially as a member of the nowdefunct adq until the merger of that party into the caq in 2012she was awarded a law degree from universit laval in 1987 and admitted to the barreau du qubec in 1988 she was lawyer for 15 years including 12 years for mental health organizations in mauricie she served as mayor of saintsophiedelvrard from 1998 to 2003 she also worked for the bcancour regional county municipality quebecroy was first elected to the national assembly in the 2003 election with 37 of the voteparti qubcois pq incumbent jeanguy par finished third with 26 of the votein the 2007 election roy was easily reelected with 59 of the vote liberal candidate laurent boissonneault finished second with 22 of the voteon march 29 2007 roy was appointed deputy official opposition house leaderin the 2008 election roy won reelection with 44 of the vote even though her partys support sharply declined and party leader mario dumont announced his resignation on february 27 2009 she was named the interim leader of the adq until gilles taillon became the permanent leader later that year the adq merged with the caq in 2012 and roy was reelected in the 2012 election', 'rob sheffield born february 2 1966 is an american music journalist and author he is currently a contributing editor at rolling stone writing music reviews and essays on pop culture prior to that he was a contributing editor at blender before the print version of the magazine folded in 2009 and at spin a native of boston sheffield attended yale and the university of virginiahis first book love is a mix tape life and loss one song at a time an excerpt of which was featured in the january 2007 issue of gq was released by random house in january 2007 it received starred reviews in publishers weekly and library journalmost of love is a mix tape takes place in charlottesville virginia where sheffield met and married his late wife rene crist a fellow dj at radio station wtju and continues in new york city after crists death in 1997 the couple had no childrensheffield remarried in 2006 and lives in brooklyn new yorksheffields second book released in july 2010 is called talking to girls about duran duran one young mans quest for true love and a cooler haircutsheffields third book released in august 2013 is called turn around bright eyes the rituals of love and karaoke and discusses how he met and fell in love with ally the woman who would become his second wife thanks to their mutual love of music', 'professor michel che born in lyon france completed his doctorate epr study of titanium dioxide in 1968 at the university of lyon and studied as a postdoctoral fellow at princeton university 196971 he was appointed professor at university of paris vi pierre et marie curie in 1975 and senior member of the institut universitaire de france in 1995his work has led to around 400 publications in international journals he has been very active in the promotion and organisation of catalysis being the presidentfounder of efcats european federation of catalysis societies with creation in 1993 of the cycle of the now famous biennial europacat congresses and president of iacs international association of catalysis societies in 200004 culminating with the organisation and opening of the 13th international congress on catalysis in paris in 2004his research activity has been largely devoted to catalysis processes involving gassolid liquidsolid and solidsolid interfaces he has pioneered a molecular approach to heterogeneous catalysis based on transition elements taken as probes specific isotopes and physical techniques which provided him with an original position in the field his work has led to the emergence of interfacial coordination chemistry at the junction of colloidal electro supramolecular geo and solidstate chemistries his studies have largely contributed to improve understanding of the elementary processes involved in laboratoryindustrial catalysis and particularly watermediated assemblies in catalyst preparationmichel ches awards include j h vant hoff netherlands japan society for the promotion of science japan m sklodowskacurie and p curie poland a joannides and p sue france von humboldt gaylussac germany he is doctor honoris causa of several universities cracow poland lisbon portugal bucharest romania and member of several highranking academies eg academia europaea deutsche akademie der naturforscher leopoldinain 2014 he was awarded the royal society of chemistrys faraday lectureship prize', 'jaafar aksikas born 1974 in azemmour morocco is an american academic and cultural critic he holds a phd in cultural studies from george mason university an ma in the humanities and comparative literary studies from al akhawayn university morocco and a ba in english language and literature from chouaib doukkali university morocco he is currently associate professor of cultural studies at columbia college chicago united states he is also president of the cultural studies association his books and edited volumes includecultural studies ofand the law edited with sean johnson andrews 2014arab modernities2009 the sirah of antar an islamic interpretation of arab and islamic history 2002his other publications includeculture industries critical interventions 2011 an inaugural special journal issue on the culture and media industries for the journal lateral critical purchase in neoliberal times a special journal issue on engaged and communitybased forms of cultural studies scholarship for the journal lateralhis work has appeared in several scholarly journals including cultural studies reviews in cultural theory lateral mediterranean politics and cultuur en migratie aksikas has taught and published widely in the fields of cultural studies mediaculture industry studies critical legal studies american studies and middle eastern studies he also serves on the editorial boards of cultural studies and lateral journals he has received numerous awards including the george mason university vision award 2003 and the marquis who is who in america award 2010 he also holds membership at the phi beta delta honor society for international scholarshe is the founding general editor of cultural landscapes the founding coordinator of the cultural studies colloquium series at columbia college chicago and he serves as a member of the illinois network on islam and muslim societies he also serves as consultant for lawyers and the media on middle eastern and north african societies cultures and politics', 'will m tuttle born 1953 is an american writer speaker and musician and author of the amazon 1 bestseller the world peace diethe is the cofounder with judy carman of the circle of compassion and the worldwide prayer circle for animals he has lectured through unity church and other new thought and progressive centers throughout north america since 1990 and was the first guest of animal rights zone in 2010 he made an international debut in august 1995 at the 8th international vegan festival in san diego where he performed inspirational classical music and spoke about inner and outer peace and harmony in the context of a vegan diet tuttle is a former zen monk who studied in korea he obtained his bachelors degree in administrative science with an emphasis of literature and music from colby college waterville maine in 1975 his masters degree in humanities from san francisco state university and his phd from the university of california berkeley specializing in the philosophy of education he is a frequent speaker at vegetarian spiritual and animal rights conferences and at local vegetarian societies he and steve prussack organized the veganpalooza online audio conference 1115 june 2012 and has organized other online events and conference calls on the theme of veganism and world peace tuttle has been a vegan since 1980', 'dr vanessa theme ament born january 8 1955 in glendale california is an american author academic foley artist and musician best known for her 2009 book updated in 2014 the foley grail published by focal press elsevier the first mainstream academic text explicitly concerned with the history and development of as well as the personalities behind the art of foley she is currently the edmund f and virginia b ball endowed chair professor of telecommunications at ball state university ament is well known also for her 1989 appearance on the television program late night with david letterman the only foley artist ever invited as a guest though she started her career as an actress singer and dancer ament achieved success in the world of foley and postproduction sound after gaining experience in television shows such as knots landing dallas and cagney lacey working on such major films of the 1980s and 1990s as prizzis honor platoon predator die hard beauty and the beast noises off batman returns and a goofy movie her exhusband david edwin stone is an academy awardwinning sound editor having won in 1993 for his work in bram stokers dracula despite her success in the film industry ament has also taught in primary schools since 1978 and in universities including depaul university georgia state university ball state university columbia college chicago and cuesta college since 2001 has an mdiv from starr king school for the ministry 1990 and a phd in moving image studies from georgia state university 2014 and released a jazz cd in 2004 entitled working without a net she also lent her voice and songwriting to the 1999 film foreign correspondents which featured her song every other night', 'marc anthony logan born may 9 1965 is a former american football running back that played ncaa d1a before playing in the nflmarc weighs in at 60 228 lbs marc attended the university of kentucky in college wearing the number 25 at kentucky marc enjoyed four very successful seasons leading his team in receptions in his sophomore junior and senior years as a sophomore in the 1985 hall of fame bowl marc scored two touchdowns on just five plays in his mvp performance setting two ncaa bowl records for the longest kick return 85 yards as well as the longest play from scrimmage 63 yards his kickoff return record still stands today marc was selected in the fifth round of the 1987 nfl draft by the cincinnati bengals he then went on to play eleven years in the national football league from 1987 to 1997 for the bengals miami dolphins san francisco 49ers and washington redskins throughout his career marc rushed for 1391 yards on 325 carries averaging 44 yards per carry with 15 tds marc also had 123 receptions for 1135 yards averaging 92 yards per reception with 3 tds he also added 1830 yards on 89 returns averaging 206 yards with 1 td he played in super bowl xxiii for the bengals and was a part of the super bowl xxix winning san francisco 49ers', 'corey woolfolk born february 26 1983 in ann arbor michigan is a former american soccer forwardwoolfolk attended pioneer high school where he was a 1996 first team all state and nscaa high school all american he then attended stanford university where he played on the mens soccer team from 1997 to 2000 he graduated with a bachelor degree in urban planning on february 6 2001 the san jose earthquakes drafted woolfolk in the 5th round 49th overall in the 2001 mls superdraft he played seven preseason games scoring four goals the earthquakes waived woolfolk on may 30 2001 to free up a roster spot for landon donovan on june 18 2001 woolfolk signed with the minnesota thunder in the usl aleague he broke his foot in 2002 and lost most of the season playing part of the time with the dayton gemini of the premier development league and serving as an assistant coach with the university of michigan mens soccer team in 2003 he played for the pittsburgh riverhounds then in 2004 he moved to the rochester rhinos in 2005 he joined the puerto rico islanders where he was the teams second leading scorer with nine goals on february 1 2006 he signed with the vancouver whitecaps he suffered a stress fracture in the preseason and played only one game before with vancouver the team released him in december 2006 in 2007 he played three games for the atlanta silverbacks', 'professor lyrical is a hip hop artist from lowell massachusetts who also teaches college his 2005 album infiniti won for album of the year in the mic hip hop awards in bostonhe is a fulltime lecturer at northeastern university and has been an adjunct professor at several other schools parttime in massachusetts primarily in the areas of math and entertainment including a hip hop course at lasell college entertainment courses at bay state college and math courses at new england arts institute his latest 82013 album put em all to shame is both an album and a book and they appear together as the worlds first albook the book is entitled put em all to shame the curriculum he speaks and performs regularly at many different venues but primarily at colleges and universities he received a bs and an ms mathematics from umasslowell lyrical is a doctoral candidate at northeastern in the early and mid 1990s he competed in several invitation only freestyle battles such as the battle for world supremacy in nyc and the universal zulu nation east coast finals he went on to win many more in the years to follow he is part of the mass industry committee which also created 617live tv lyrical has filled in for fellow boston rapper akrobatik on jamn 945 to perform the daily sports rap up part of the highly rated morning show on occasion when akrobatik has been unavailable he has appeared on many different radio segments television shows news programs and even movies', 'michelle ye or ye xuan born february 14 1980 is a chinese actress and producer in 1999 she won the miss chinese international competition ye then signed a contract with tvb from 1999 to 2005 after she left tvb she signed with rich famous talent management group limited to pursue a movie careerye is fluent in cantonese english and mandarin she immigrated to the united states at age 10 she attended john dewey high school where she won first place at the international science and engineering fair in the botany sector 1998 she was a scholarship student at wellesley college but left before graduating to pursue a career in the entertainment industryin july 1999 ye accepted a contract offered by tvb after winning the miss chinese international pageant she had a number of leading roles in dramas such as eternal happiness triumph in the skies and lost in the chamber of loveye has worked as a host and mcin 2004 she was tvbs onsite reporter at the olympic games in athens additionally she was the mc for a special midautumn evening broadcast on cctvshe left tvb in june 2005 and moved on to rich famous one month after to get more exposure in the movie industry ye also starred in a few series with atv china productions and icableye published an autobiography titled shang shan ruo shui xuan gong lue in july 2006apart from her acting career she is currently owner and chairman of a production company michelle ye studioszhejiang bohai television ltd owner of a sushi restaurant and vice president of the hengdian film association', 'robert neil chatigny born 1952 taunton ma is a federal judge for the united states district court for the district of connecticut having served on the court from 1994 to the present judge chatigny was nominated to the court by president bill clinton on august 5 1994 to a seat vacated by warren w eginton confirmed by the united states senate on september 28 1994 and received his commission on september 29 1994 he has served as chief judge of the court from 2003 to september 2009 judge chatigny received an ab from brown university in 1973 and a jd from georgetown university law center in 1978 where he was case and note editor of the georgetown law journal he served as a law clerk to three different judges samuel conti of the us district court for the northern district of california 19791980 jose cabranes of the us district court for the district of connecticut 1980 and jon o newman of the us court of appeals for the 2nd circuit 19801981judge chatigny was elected to the house of delegates of the connecticut bar association and has served on the executive committee of the federal practice section he advised the federal courts study committee tasked with developing longrange plans for the federal judiciary the university of connecticut school of law awarded him the center for childrens advocacy childrens justice award in 2008he gained national attention in 2005 when he delayed the execution of michael bruce ross in order to determine if he was competent to waive challenges to his death sentence and potentially prevent a violation of the eighth amendments prohibition on cruel and unusual punishment ross was subsequently found competent to waive his rights and was executed the prosecution filed a complaint against judge chatigny that was dismissed by the second circuit judicial council in a 24page decision on july 26 2006judge chatigny has been nominated by president barack obama to a seat on the second circuit court of appeals the nomination received a unanimous rating of well qualified from the american bar associations standing committee on the federal judiciary and the us judiciary committee approved the nomination on june 10 2010 on an 117 partyline vote no date was set for full senate considerationopposition to the nomination has centered upon judicial restraint and attitude toward sexual offenders on march 5 2010 one of the prosecutors in the ross case michael e ohara supervisory assistant states attorney for the state of connecticut wrote a 12page letter to the u s senate judiciary committee to elaborate upon the complaint that was filed and dismissed in 20052006 stating that judge chatignys actions certainly call into questions sic judge chatignys fitness to serve on the united states court of appeals for the second circuit a may 26 2010 washington times editorial enumerated 1 that chatigny served as cocounsel for director woody allen when he unsuccessfully complained against a prosecutor who had publicly stated he had probable cause grounds for allens reportedly abusing a minor stepchild 2 that judge chatigny was reversed by the us supreme court in 2001 when the judge tried to rule against one aspect of his states version of a megans law sexoffender registry 3 that the sentences imposed by judge chatigny in 12 childpornography cases were either at or more lenient than the recommended minimum with most downward departures involving sentences less than half as long and 4 that in the ross case judge chatigny threatened to take away an attorneys law license if the lawyer failed to appeal the death sentence of an eighttime murderer of girls and young women the judge claimed the killers sexual sadism was a mental disorder that made the murderer himself a victimsupport for the nomination includes three republican former appointees as us attorney for the district of connecticut who said in a letter to the judiciary committee in april 2010 that they support without any reservation this nomination they wrote while each of us has dealt with judge chatigny under different circumstances we have found him to be even tempered thorough and without agenda we believe that he is a fair minded and impartial judge who has appropriate fitness and temperament for the appellate court we believe that a close examination of judge chatignys record in sentencing federal criminal defendants shows that he is appropriately sensitive to the facts of the person before him and the rights of victims of the crimes that have been committed indeed it is our understanding that the government has never filed an appeal from judge chatignys sentencings and that there has only been one defendant who has appealed from an upward departure we are of the strong opinion that judge chatignys record on the bench makes him an outstanding and very qualified candidate seventeen former federal prosecutors who have worked with judge chatigny wrote to the senate judiciary committee that in criminal as well as civil matters judge chatigny has proven himself over the course of 15 years on the bench to be unbiased compassionate and temperatein its 2006 dismissal of charges in the ross case the second circuit judicial council found that judge chatignys actions were not motivated by any bias in favor of ross the prisoner or against the death penalty but only by the judges reasonable perception that the discharge of his own judicial dutyrequired that he take forceful steps on rosss behalf while the judge used strong language there was no misconductin the judges reasonable view the circumstances thrust on him called for unusual action in discharge of judicial duty to ensure the fair resolution of the important proceeding before himchatigny has yet to rule on the appeal of former yale professor james van de velde who had sued the city of new haven in 2001 then yale in 2003 for allowing his name to be leaked at the inception of the investigation into the death of yale student suzanne jovin in december 1998 chatigny dismissed the federal fourth amendment claims in march 2004 but left alone the state claims relating to the ruination of van de veldes career by not allowing the case to proceed van de velde claims his efforts to shed light on the cold case and pressure the authorities try to solve the case have been stonewalledof the 440some opinions judge chatigny has issued as a federal court judge since 1994 16 have been reversed an analysis by the sentencing commission for fiscal years 20059 provided by judge chatigny place his departure rate in line with the average for the district of connecticut as a whole', 'for a hong kong entrepreneur please refer to vincent fang entrepreneurvincent fang chinese pinyin fng wnshn was born on 26 january 1969 in hualien taiwan he is a taiwanese multigolden melody award nominated lyricist best known for his collaboration with singersongwriter jay chou fang won best lyricist at the 19th golden melody awards for blue and white porcelain sung by jay chou from on the runin 1997 he sent samples of his lyrics to record companies hoping to find a new career that complemented his passion for writing record company owner jacky wu was impressed with his work and hired fang to work with chou who had just started his songwriting career in 2000 chou released his first album titled jay and since then produced albums in which fang contributes the majority of the lyrics chous fame grew rapidly across asia pulling fang into the limelight as wellfangs lyrics are noted for covering a wide of issues from family to war beyond what is normally discussed in love ballads he is known for using a writing style similar to traditional chinese poetry making frequent references to chinese history and folklore esp in chinese style music a fusion genre made popular in the 2000s decade by jay chou fusing modern rock and contemporary rb together with traditional chinese music he calls his style of lyrical poetry su yan rhyme poetry which has become a new poetry form in modern chinese musical literature', 'misa telefoni retzlaff born hermann theodor retzlaff 21 may 1952 is a former samoan deputy prime minister and deputy leader of the human rights protection partyretzlaff was educated at kings college in auckland new zealand he studied law at the university of auckland before going on to practice law in samoa he was appointed attorneygeneral of samoa in 1986in 1988 he resigned his position as attorneygeneral to run for election winning the seat of falelatai samatau initially part of the opposition he joined the government of tofilau eti alesana in 1991 as minister of agriculture forests fisheries and shipping in 1996 he became minister of health and in 2001 deputy prime minister in addition to that role he currently holds the portfolios of commerce industry and labourhe has stated he will not be standing to retain the seat he has held for 22 years in the 2011 general electionretzlaff is of germanswedishsamoan descent having inherited his german ancestry from his paternal grandfather his name telefoni is the name that was given by the samoan community in the early twentieth century to his grandfather when he arrived in the german colony as a public servant of the postal services to introduce the telephone to the country he has had two books published love and money a love story about the richest young bachelor in auckland new zealand falling in love with and marrying the young samoan kitchen help from his exclusive boarding school and to thine own self be true a collection of articles speeches and poemsin february 2011 telefoni confirmed he was retiring from politics at the 2011 election see a short tribute to misa telefoni published in the samoa observer 9 march 2011 by his son lemalu hermann paul retzlaff tribute to misa telefoni httpwwwsamoaobserverwsindexphpoptioncomcontentviewarticleid31878tributetocatid1latestnewsitemid50', 'mary goldring obe is a british business journalist and broadcasteran economist who graduated from lady margaret hall oxford university goldring turned to journalism in the late 1940s and became a member of staff at the economist where for a long time she was its business editor rising to the rank of deputy editor alongside norman mcrae she left the paper suddenly in spring 1974 following a dispute over its editorship in the wake of the surprise departure of alastair burnet who left to become editor of the daily expressgoldring then moved to the bbc and meantime also wrote a weekly column for the investors chronicle edited at the time by andreas whittam smith in 1976 she became one of the main regular presenters of bbc radio 4s analysis series of analytical authored currentaffairs documentaries she developed it into a flagship programme staying with it until 1987 she also made five series of television documentaries the goldring audit for channel 4 screened from 1993 to 1998in the late 1960s mary goldring became particularly noted as the economists aviation correspondent for her sustained and trenchant critique of the development programme for the anglofrench concorde supersonic aircraft on the basis of noise pollution and above all what she predicted would be disastrous commercial economics an almost solitary voice of dissent at the time her views turned out to be wellfounded', 'susan westerberg prager 1942 is an american legal scholar and administrator she is currently since november 1 2013 the dean of southwestern law schoolpreviously prager was provost of dartmouth college and president of occidental college starting in september 2008 she was the sixth executive director and ceo of the association of american law schools from 1982 through 1996 she was the dean of the ucla school of law giving her the longest tenure of any dean in ucla law history she was one of the first female deans of a law school in the united states and she was the first alumnusalumna to become dean of ucla law during her term at the ucla law she became the second woman to serve as the president of the association of american law schoolsprager was born in sacramento california and grew up in sloughhouse california a small town outside of sacramento she received her undergraduate degree in history from stanford university in 1964 and she later received a masters degree in history also from stanford she served for 14 years as a trustee of stanford university she worked for a number of legislators in the us senate the us house of representatives and the california state assembly including us senator thomas kuchel of california she received her law degree from ucla law and was editorinchief of the ucla law reviewshe practiced law at powe porter alphin in durham north carolina before returning to the ucla school of law faculty where she focused on family law community property and historic preservation law', 'yohannes yual both or johannes yoal bath etc was a leader of the south sudan defense forces whose mobile forces gave the sudan peoples liberation army considerable difficulty during the second sudanese civil war 19832005in august 1991 riek machar lam akol and gordon kong announced that john garang had been ejected from the splm the breakaway faction based in nasir until 1995 and then in waat and ayod was called the splmanasir faction from 1991 to 1993the bul nuer anyanya 2 militia at mayom under paulino matip and the lou nuer anyanya 2 militia at doleib hill under yohannes yual declared for rieklater these forces become part of the governmentsponsored ssdf militiathe civil war ended in january 2005 yohannes yual accepted the juba declaration of 8 january 2006 joining the army along with other soldiers under the command of paulino matiep his men are primarily lou nuer now in the 8th divisions command in jonglei state he is a major general and has been deputy commander of the 4th division in duar upper nile statea group called the south sudan united democratic alliance alleged that on 12 april 2006 lou nuer janaigatliek section spla forces under johannes yoal bath launched a revenge attack on ulang and killed more than 30 people including both civilians and soldiersthe attack was said to be in retaliation for cattle raids in nyayin on the east bank of the sobat river made by combined forces of the spla and jikany nuer under commander george athor dengjohannes yoal bath had been involved in an attack on nasir in may 1994', 'christopher sorrentino born may 20 1963 is an american novelist and short story writer of puerto rican descent he is the son of novelist gilbert sorrentino and victoria ortiz his first published novel sound on sound 1995 draws upon innovations pioneered in the work of his father but also contains echoes of many other modernist and postmodernist writers the book is structured according to the format of a multitrack recording session with corresponding section titles secondary percussion vocals playback and so forthhis second novel trance 2005 an epic fictional treatment of the patty hearst saga used many of the same experimental techniques as sound on sound but according to sorrentino incorporated them more carefully and subtly into the text the book was widely praised for its lush descriptions riveting characterizations and dialogue imaginative departures and attention to period detail trance ended up on several reviewers best lists was named a finalist for the 2005 national book award for fiction and was longlisted for the 2007 international impac dublin literary award in 2009 trance was named one of the 61 essential postmodern reads by the los angeles timesin 2006 new york magazine revealed that sorrentino and jonathan lethem were the writers behind the pseudonymous ivan felt and harris conklin authors of believeniks 2005 the year we wrote a book about the mets a hyperliterary account of the mets 2005 season that was intended as a playful poke at bookworld scamssorrentinos next book american tempura a collaboration with artist derek boshier was published by nothing moments press in the fall of 2007 a novella american tempura is a satire about commercial moviemaking in los angeles death wish a monograph on the 1974 film of the same name was published in the fall of 2010 by soft skull press as one of the inaugural entries in its deep focus series of film booksin april 2014 it was announced that sorrentino would publish his next novel the fugitives with simon schustersorrentinos work has appeared in such publications as the new york times esquire harpers playboy granta mcsweeneys tin house open city bookforum conjunctions and many otherssorrentino has taught at eugene lang college the new school for liberal arts and at columbia university school of the arts and is a member of the faculty at the unterberg poetry center of the 92nd street y he was the visiting writer at fairleigh dickinson university in 20102011 he currently lives in new york city with his partner the writer and editor minna proctor and their children', 'alexis bhagat is a writer and curator in new york he was born and raised in new york city and studied sculpture and ecological design at goddard collegehe was an active member of the spoken word poetry scene on the lower east side in the early 1990s notably organizing the atm poetry opens in bank lobbies in the summer of 1994 at goddard college he produced his first multichannel tape installations and tapecollages for radio a practicing sound artist from 19992009 producing sound installations speak deep whitman death songs bandshell ghost everybody says lecture on democracy stereo version collages lecture 2 on the possibility of life without the sun no one is neutral on moving train his blood is no match for chinas industrial strength authority look in the mirror radioplays and performances lecture 1 on sound as art words that should be abandoned or repaired everybody says the same bullshit in all lands and through all ages lecture on democracy threechannel version that utilized the recorded voice as material from 20012004 he interviewed a crosssection of senior and emerging sound artists through his project sound generation an unpublished book project that has manifested as concerts panel discussions and radio broadcasts he began working with free103point9 in 2003 and is included in their publication transmission arts artists and airwaves paj he has organized lectures listening lounges and convocations around the world to catalyze discussions about sound', 'professor david vernon williams is a professor and former deputy dean of the university of aucklands faculty of law he came from the hawkes bay region of new zealand and was educated at wanganui collegiate schoolhis formal tertiary education qualifications include undergraduate degrees in history and in law ballb from victoria university of wellington a graduate degree in law bcl from the university of oxford england where he was a rhodes scholar at balliol college and a doctoral research qualification from the university of dar es salaam tanzania phd that included an analysis of colonial legal history in new zealand and a diploma in theology from the university of oxford diptheolhe is a barrister and solicitor of the high court of new zealand and holds a practising certificate to act as a barrister he was employed as a legal academic at universities in england tanzania and new zealand from 1971 to 1991 and during that time he wrote numerous published articles and book chapters on issues related to colonial law indigenous law and the treaty of waitangifrom 1992 to 2000 his primary occupation was as a consultant contracted to research on law in history and on treaty of waitangirelated legal issues he has acted in a variety of capacities in contracts with the crown forestry rental trust the law commission and te puni kkiri he was responsible for the mori land legislation manual and database which was published in two volumes by the crown forestry rental trust in 1994 and 1995 he is the author of te kooti tango whenua the native land court 18641909 published by huia publishers in 1999he has acted as an arbitrator in respect of moriowned forestry land he is the honorary legal adviser to te phopatanga o aotearoa anglican church and a member of the anglican churchs general synodte hinota whanui in 2001 he was appointed an associate professor in law at the university of auckland and in 2005 was promoted to full professorhe also campaigned for the new zealand national party in 1966 but has never voted for them', 'guillermo roux born in 1929 is an argentine painter known for his watercolors collages and frescoesroux was born in buenos aires argentina and his father ral roux was a wellknown uruguayan painter he studied in the buenos aires school of fine arts until 1948 and in 1956 he travelled to rome there roux worked in umberto nonnis bottega as an assistant in restoration and decoration projects he returned to argentina in 1960 and relocated to jujuy province where he taught art and continued to painthe lived in new york city where he worked as an illustrator and a painter from 1966 to 1967 and returned to buenos aires he traveled extensively exhibiting in berlin london munich paris and sicily and in 1975 he earned his first international prize at the xiii so paulo art biennial this was followed by among other honors the konex award the highest prize in the argentine cultural realm in 1982 rouxs work was added to the prestigious phillips collection in washington dc in 1988 and he contributed one of four new frescoes that were added to the cupola of the shopping arcade galeras pacfico when it was reopened in 1991roux created his own teaching workshop in 1997 his themes include still life harlequins italian actors and geometric shapes they are often surrealistic he was named illustrious citizen of buenos aires in 2007', 'william jonas ely jr born december 29 1911 is a retired lieutenant general in the united states army he is a 1933 graduate of the united states military academy west point he served during world war ii with the united states army and was stationed in australia new guinea philippine islands and japan he also served with the united states army corps of engineers in the 1930s in the midway islands he eventually retired at the rank of lieutenant 3 star general he is a former deputy commanding general of the army development logistic command and deputy commander of the us army materiel command he was born in sycamore pennsylvania the son of j ross and frances d ely his awards include the army distinguished service medal silver star bronze star and two legions of merit after his retirement ely was an avid golfer and designed and operated a golf course near pittsburgh pennsylvania he gave up golf when he turned 100 in 2011 as of 2015 he is the oldest living graduate of west point ely was married to helen mountford from february 10 1940 to march 25 2014 when she died at the age of 100 he was formerly married to jane i meyers whom he wed on may 20 1937 and had three children with he resides at a nursing home in delray beach florida', 'alan roper born may 1939 in tipton staffordshire england is a retired professional footballerhe began his career in the youth team at wolverhampton wanderers in the mid 1950s but was unable to break into the first team beginning his career when wolves were one of the top club sides in england and signed for walsall in 1962 he made his debut in september of that year in a 32 win over middlesbrough in the football league second division at fellows park and spent three years with the club making 60 league and cup appearances mostly as a fullback scoring twice he remained there until the end of the 196465 seasonafter retiring from football roper was the landlord of the union public house in his hometown tiptonhe has been married to valerie since 1964 and they have two children lesley born 1966 and steven born 1970 lesley was seriously injured in a car crash in 1982 at the age of 16 in dudley which claimed the lives of two other teenage girlshe still lives in tipton but now suffers from alzheimers diseasehe is not related to ian roper who played nearly 400 games for walsall between 1995 and 2008references 1 express and star 10 may 1982 midlands today 27 march 2014', 'bob havens born may 3 1930 is an american big band and jazz musician who appeared on the lawrence welk show from 1960 to 1982 his instrument is the tromboneborn to a musical family in quincy illinois he began studying violin and trombone at age seven and played both instruments throughout his school years he landed his first professional job with a local dance band at age 12 by the age of 16 his talent as a trombonist was recognized with a scholarship from the interlochen music camp in michigan and bob held the first trombone chair in the schools 250 piece concert band he later held the first trombone chair in the quincy symphony while also playing in many popular dance groups in illinoisafter serving in the illinois national guard as a bandsman during the korean war he left quincy in 1955 to tour with the ralph flanagan orchestra in 1956 he joined george girards dixieland band at the famous door in new orleans there he met his idol jack teagardenin 1957 bob joined al hirt at dans pier 600 on bourbon street when hirt formed his very first band the front line consisted of hirt havens and pete fountain during the time in new orleans he recorded albums for good times jazz and vic labels with the girard band and on verve and audio fidelity with hirt he also recorded about a dozen albums for the southland label with many other new orleans musiciansbob stayed with this group until 1960 when he was persuaded to move to the west coast and join the lawrence welk orchestra as a featured soloist on their weekly tv series his tenure with this show lasted for 23 years until the show ended in 1982following that he continued as a freelance professional working often with the bob crosby bob cats and the benny goodman orchestra led by clarinetist peanuts hucko from 1985 to 1995 havens played with the great pacific jazz band along with bob ringwald lead vocalspiano don nelson saxophone and zeke zarchy trumpetin 2005 he performed with the north carolina pops orchestra at campbell university with fellow welk star ava barber in a benefit concert raising money for victims of hurricane katrinabob havens lives in quincy illinois he continues to record and appear at jazz festivals and concerts throughout the world', 'susan christie is an american singersongwriter from philadelphia pennsylvania she had a minor hit with the novelty song i love onions written by donald cochrane and john hill the track which peaked at 63 on the billboard hot 100 chart in 1966 is described as having a sound reminiscent of the 1930s with christies breathy vocal backed by a chorus of kazoo players and male backup singersin canada however the single fared much better reaching 19 on the rpm 100 national singles chart on august 1 1966 the tune was adapted as i love funyuns for a late 60s tv commercial for an onionflavored snack food the tune was later adapted for a canadian television commercial as i love turtles in 1980signed to columbia records christie recorded an album in 1970 paint a lady described as psychedelic folk music the album went unreleased by columbia which considered it to be noncommercial and christie was dropped from the label the album of which only three vinyl copies were ever pressed languished in obscurity until 2006 when manchesterbased dj andy votel received a copy and brought the album renewed attention and a cd release spin magazine described the album as funky free folk filled with brilliantly original songs and christie as a dark strange songbirdchristie participated in the 2008 lost ladies of folk project spearheaded by votel and his spouse recording artist jane weaver performing in concert at queen elizabeth hall in london and appearing on the compilation album bearded ladies in 2010 christie appeared as a guest artist on weavers album the fallen by watch bird', 'elizabeth gunn is an american author of mystery novelsgunn lives in tucson arizona her careful research into police techniques results in precisiontooled procedurals according to marilyn stasio of the new york times one series is set the fictional city of rutherford minnesota a second is set in tucson where she moved in 1999 her publishers include walker dell harlequin forge and severn houseprior to her career as a writer gunn earned her private pilots license became a sky and scuba diver hiked deserts and mountains and travelled extensively in the us canada mexico and europe including several years as a liveaboard sailor while she was sailing gunn began to write travel articles many of which were published in regional papers around the us this was the beginning of her path to becoming a fulltime writer before retiring to her career as a writer gunn made her living as an innkeeper in helena montana where she owned a motel with her husband phillip together they raised two daughters and the family lived in a small apartment directly above the lobby of their motel as a result of those cramped quarters gunn developed her desire to travel she grew up in the southeast minnesota of her jake hines novels and later moved to tucson the setting of her sarah burke series', 'bo hampton born 1954 in united states is a noted comic book and cartoon artisthe graduated from the school of visual arts new york city he drew wrote and painted comics and graphic novels for 15 years always with a bent toward realism that was fairly uncommon in the medium some art highlights from that period include viking glory a 96 page graphic novel for dc comics legend of sleepy hollow for tundra publishing and verdilak a horror story cowritten and painted for nbm publishing hampton spent a year as a professor at savannah college of art and design helping to develop the original incarnation of their sequential arts program before moving into the realms of storyboarding animated shows and tv commercials he was behind one of the most popular uk advets of all times smash means mashhe has worked on extreme ghostbusters for sony tv and full length video feature as well as superman warner bros and batman animation for cartoon network spot he has done live storyboard work for commercial clients including papa johns pizza bellsouth cocacola motorola and many more ad agencies that use his work regularly include mccannerickson washington dc pearson mcmahon fletcher and england indianapolis fricksfirestone atlanta and over 40 more all over the us', 'maria ilva biolcati commander omri italian pronunciation maria ilva bjolkati born july 17 1939 known as milva is an italian singer stage and film actress and television personality she is also known as la rossa italian for the red due to the colour of her hair and additionally as the panther of goro which stems from the italian press having nicknamed the three most popular italian female singers of the 1960s combining the names of animals and the singers birth places popular in italy and abroad she has triumphed on musical and theatrical stages the world over and has received popular acclaim in her native italy and particularly in germany where she has often participated in musical events and televised musical programmes she has also released numerous successful albums in france japan korea greece spain and south americahaving received enormous success both in italy and internationally she remains to this day one of the most popular italian personalities in the fields of music and theatre her artistic stature has been officially recognised by the italian german and french republics each of which have bestowed her with the highest honours she is the only italian artist in contemporary times in fact who is simultaneously chevalier of the national order of the legion of honour of the french republic paris 11 september 2009 commander of the order of merit of the italian republic rome 2 june 2007 officer of the order of merit of the federal republic of germany berlin 2006 and officier of the ordre des arts et des lettres paris 1995', 'will tiao is a taiwanese american actor and producer born and raised in manhattan kansas he worked in the field of international politics before entering the hollywood scene tiao was a cello performance major at the university of michigan before transferring to tufts university where he received his ba in international relations magna cum laude and a ma in international affairs from columbia university he received a fulbright scholarship for his research on the association of southeast asian nations in manila philippinestiao worked as a presidential management fellow under the clinton administration and went on to become an international economist under the george w bush administration however in 2002 he decided to leave politics to pursue a career in entertainmenttiao has worked as an actor producer and writertranslator for tv film and stage his tv credits include madtv fox yes dear cbs untold stories from the er tlc mind of mencia comedy central the winner fox and the internet series quarterlife his theatre credits include waiting for lefty extremities marty in the boom boom room and proof he starred in and produced the awardwinning short film a starbucks story as well as the independent dark comedy stan he is the writer actor and producer of formosa betrayed a feature film based on the true events surrounding taiwanese democracy and independence activists in the 1980s', 'quintin e primo iii born march 14 1955 is the cofounder chairman and ceo of capri capital partners llc one of the largest minorityowned real estate investment management firms in the united states that advises pension funds and other institutional investors primo whose firm has 404 billion in assets under management in domestic and international commercial real estate is ranked on the forbes top twenty richest african americans in the world listprimo who is a regular contributor on cnbc is known in the real estate industry for his innovation in 2000 under primos leadership capri capital developed and launched one of the industrys first real estate mezzanine fundsas a minorityowned firm capri capital was also an early investor in americas underserved urban markets such as south los angeles in 2006 capri purchased baldwin hills crenshaw plaza one of americas oldest urban regional malls that was opened in 1947in 2012 black enterprise magazine saluted primo and his firm as its financial services company of the yearprimos latest visionary move was to become one of americas first minorityowned firms to invest overseas in september 2013 capri capital partners llc launched capri global capital limited which was formed after signing a strategic alliance with money matters financial services limited in india which included the renaming of money matters financial services limited to capri global capital limited mr primo is the newly appointed nonexecutive chairman and director of capri global capital limiteds board of directors in india in this position mr primo becomes one of if not the first africanamerican to serve on the board of an indianregistered publicly listed companyin addition to his business acumen primo is known for his philanthropy as the founder and chairman of the primo center for women and children a transition homeless shelter for moms and their kids that is located on the west side of chicago', 'geoffrey bayldon born 7 january 1924 in leeds west riding of yorkshire is a british actor after playing roles in many dramas including shakespeare he became known for portraying the title role of the childrens series catweazle 197072 after turning down the opportunity to play both the first and second doctors in the longrunning bbc science fiction television series doctor who bayldons other longrunning parts include the crowman in worzel gummidge 197981 and magic grandad in the bbc television series watch 1995bayldon made several film appearances in the 1960s and 1970s including king rat 1965 to sir with love 1967 casino royale as q 1967 the envy segment of the magnificent seven deadly sins 1971 the marc bolant rex film born to boogie and the film version porridge of the television series porridge 1979 as the governoramong his more recent television appearances was the five game show fort boyard 1998he also had a guest appearance in doctor who as organon in the creature from the pit 1979 more recently he has played an alternative first doctor in two audio plays based on the doctor who television series by big finish productions in the doctor who unbound series auld mortality and a storm of angelsother television roles include parts in the dramatisation of blott on the landscape 1985 and in two episodes of the avengers 1961 1967 and of star cops 1987 he was in the tales of the unexpected episode down among the sheltering palms 1983 he has also appeared in a number of bbc schools programmes where he has displayed a number of otherwise unexploited talents such as singing in 1993 he played simplicio in the open university video newtons revolution in 2007 he made a guest appearance in new tricks as leonard caseyin 1986 bayldon provided the vocals on paul hardcastles the wizard which was also used without the vocal as the theme for bbc tvs top of the pops', 'prof dr ulfdietrich reips is a full professor in the faculty of sciences at the university of konstanz where he holds the chair for psychological methods assessment and iscience between 2009 and 2013 he was a fulltime tenured ikerbasque research professor at university of deusto in bilbao spain and remains affiliated with ikerbasque until 2009 he was an assistant professor and lecturer oberassistent at the psychology department of the university of zurich switzerland he received his phd in 1997 and his habilitation venia legendi title privatdozent in 2004 from the university of tbingen germany in 1992 he received an ma in psychology from sonoma state university california reips spent most of his undergraduate and graduate years at the university of tbingen where he had attended the leibniz kolleg he majored in both psychology and general rhetoric as a student of walter jens and had a minor in political science in 2012 ulfdietrich reips received a first award from university of colorado boulder and is since affiliated on an honorable basis with its department of psychology and neuroscience based on his affiliation with ikerbasque the consejo superior de investigaciones cientificas spain ranked him 7th of top scientists working at spanish private universities in 2014ulfdietrich reips is working on internetbased research methodologies or iscience internet science online research methods in particular internetbased psychological experimenting a method used in experimental psychology and internetbased tests the psychology of the internet measurement the cognition of causality social media and big data in 1994 and 1995 he founded the web experimental psychology lab the first laboratory for conducting real experiments on the world wide web in 1997 he was one of the seven founders of the german society for online research dgof and wrote a book chapter on the methodology of conducting experiments via the internet that later won him a young scientist award by the german society for psychology his 2002 article in the journal experimental psychology standards for internetbased experimenting defined the field and became one of its journals most cited articles in 2005 reips was elected the first nonnorth american president of the society for computers in psychology scipulfdietrich reips is the founding editor of the international journal of internet science currently serving jointly with uwe matzat', 'marcel j mlanon is a philosopher and scientist who works in canada and is mostly known for his book on the french philosopher albert camus albert camus an analysis of his thought albert camus analyse de sa pense he has mostly worked together with the biologist richard d lambertprofessor mlanon teaches in the department of philosophy in the collge de chicoutimi and he is a researcher in bioethics funded by sshrc fonds de la recherche en sant du qubecfrsq and the programme de soutien des chercheurs de collge pscche is also associate professor in the department of religion and ethics at the universit du qubec at chicoutimi where he is codirector of a graduate program in bioethicshe received a masters degree in experimental medicine with a specialty in genetics from universit laval and a doctorate in philosophy from the universit de fribourg in switzerlandprofessor mlanon has authored more than two books and some articles on ethical issues in genetics with particular reference to genetic testing and screening he is currently the director of an interinstitutional and interdisciplinary group gnthiq in quebec representing researchers in genetics ethics sociology and law and codirector of the ethics division of the clinical ethics network funded by the frsqprofessor mlanon is a founding member of the canadian bioethics society where he served as vicepresident from 1986 to 1988 he is also a member of various bioethics committees and also a member of the ncehr committee on evaluation', 'mike powell is a british former newspaper and radio journalist who hosted shows on several uk music radio stations before transitioning to station management after working in provincial newspapers in the westcountry powell joined devonair radio exeter and torbay at its launch in 1980 as a senior journalist then head of news and current affairs he later jointly hosted the breakfast showpowell moved to guildford surrey in 1983 as launch news editor of county sound radio he was promoted to program director from 1984 to 1986 and then ceo from 1986 to 1991 growing the group to four radio stations his innovations at county sound included being the first uk radio station to use rcs radio computing services selector musicscheduling software 24 hours a day and introducing the uks first gold format radio station county sound gold powell designed the programming for awardwinning station fox fm a joint venture with capital radio londonafter taking county sound to a uk stock market listing he departed to form radio investment research and management company infinity radio which set up pirate fm cornwall with powell as launch ceo pirate fm was featured on the bbc technology programme tomorrows world for its pioneering use of computerised music playoutshortly after the launch of pirate fm infinity radio merged with ukrd group where powell became ceo eventually building the group to over 20 radio stations and associated companieswhile running ukrd powell played a key role in launching manchesters kiss 102 and served as launch ceo of berkshires star fm which was joint launch customer in the uk for the computerised rcs master control studio automation system in 1995 he launched the new county sound radio network consisting of county sound radio 964 the eagle and delta radioin 2001 powell became chairman of infinity media which then separated from ukrd to concentrate on digital platform technologiesin october 2002 he joined rcs as vice president of its international division based at its world headquarters in white plains new york in october 2014 he was promoted to senior vice president international operations and chief compliance officer', 'uladzimir vasilyevich yurchanka belarusian russian born 26 january 1989 in mogilev is a belarussian footballer who plays for shakhtyor salihorskyurchenko made his debut for the u21 national team on 9 september 2008 in a match against latvia u21 he was part of the belarus u21 side that participated in the 2009 uefa european under21 football championship and made appearances in all three matches on 12 august 2009 yurchenko netted his first goal for the belarus u21 team opening the scoring against the austria u21 in the 21 home win in a 2011 uefa european under21 football championship qualifier on 12 october 2010 yurchenko netted twice to help his team to a 30 win against italy u21 which secured qualification for the 2011 uefa european under21 football championshipon 2 november 2010 yurchenko earned his first callup to the senior team of his country but was subsequently injured and withdrawn from the squad for the friendly match against omanon 1 june 2011 yurchenko was selected to take part in the 2011 uefa european under21 football championship in denmark but was injured in a pretournament friendly and missed the competition he was replaced by aliaksandr perepechka following his recovery from injury he made the belarusian squad for the 2012 toulon tournament and participated in all three group stage matches he was also selected as part of the preliminary squad including 43 players for the 2012 london olympics but did not make the final cut of 22 18 nominees 4 reserves footballers for the games', 'nobuo uematsu uematsu nobuo born march 21 1959 is a japanese video game composer best known for scoring the majority of titles in the final fantasy series he is considered one of the most famous and respected composers in the video game community uematsu a selftaught musician began playing the piano at the age of eleven or twelve with elton john as his biggest influenceuematsu joined square later square enix in 1986 where he met final fantasy creator hironobu sakaguchi they have worked together on many video game titles most notably the games in the final fantasy series after 18 years with square he left in 2004 to found his own company called smile please and the music label dog ear records he has since composed music as a freelancer for many other video games including ones developed by square enix and sakaguchis development studio mistwalkersoundtracks and arranged albums of uematsus game scores have been released pieces from his video game works have been performed in final fantasy concerts he has worked with grammy awardwinning conductor arnie roth on several of these concerts from 2002 to 2010 he was in a rock band with colleagues kenichiro fukui and tsuyoshi sekito called the black mages in which he played electronic organ and other keyboards the band played arranged rock versions of uematsus final fantasy compositions he has since performed with his band earthbound papas', 'john warner born 1970 is an american writer and editor he is the author of four books and the editor of mcsweeneys internet tendency he is a frequent contributor to the morning news and has been anthologized in may contain nuts stumbling and raging more politically inspired fiction and the future dictionary of america he frequently collaborates with writer kevin guilfoile warners most debut novel was the funny man the book has been reviewed by publishers weekly and kirkus reviews his most recent work is the short story collection a tough day for the army edited by michael griffith and published by the lsu press series yellow shoe fictionhe is the chief creative czar of tow books a publishing imprint dedicated to humorous books distributed by fw publications incwarner was born in northbrook illinois his great uncle is the american writer allan seagerhe previously taught at clemson university in clemson sc his focus was creative writing and he was the director of a humor creative inquiry in this inquiry he was working to teach students what humor is and how to create it this three course series resulted in a student publication in 2008currently warner teaches creative writing at college of charleston in charleston sc', 'doug mcinstosh is a retired american basketball player and is currently a pastor he won two national championships at ucla and appeared on the cover of sports illustrated magazine in 1965mcintosh a center from lily high school in lily kentucky went west to play college basketball for future hall of fame coach john wooden at the university of california at los angeles he was a key reserve for the bruins as they won their first national title in 1964 playing 30 minutes in the championship game against duke and grabbing 11 rebounds mcintosh became a starter for his junior and senior seasons anchoring the pivot for woodens 1965 champions as a junior for his bruin career mcintosh scored 543 points 64 per game and 486 rebounds 57 per gameyears later john wooden would say that doug mcintosh was one of the two players in his coaching tenure who came closest to fulfilling their potential wooden stated that he didnt believe that mcintosh would play much but that he surprised him as a significant contributor as a sophomore and a starter the next two years through his hard workfollowing his college career doug mcintosh was not drafted in the 1966 nba draft he attended seminary at dallas theological seminary and later cofounded the cornerstone bible church in lilburn georgia', 'avi muchnick born 1979 is an artist author programmer and entrepreneurin 2002 while attending benjamin n cardozo school of law muchnick cofounded the popular creative contest site worth1000 together with israel derdikin 2007 he cofounded aviary a company that built an awardwinning multimedia application suite of creative web apps with israel derdik and michael galpert as ceo he raised 17 million in venture capital from amazon founder jeff bezos mit media lab director joi ito linkedin founder reid hoffman venture capital firm spark capital and other notable investors in september 2011 citing stalling growth of the multimedia application suite he shifted aviarys business strategy to powering the photoediting in thirdparty apps on web and mobile smart phones seeing enormous immediate growth he chose to focus the company exclusively around this new direction and closed down aviarys consumerfacing multimedia application suite one year later on september 15 2012 as of march 2013 aviary announced passing 35 million monthly active users 3500 partners and 3 billion photos edited across its partner network muchnick served as ceo until december 2012 when he brought on former walmart executive tobias peggs to take over at which point he stepped into the chief product officer role on september 22 2014 aviary was acquired by adobe systemsmuchnick was named one of the top 35 innovators under 35 by mits technology review magazine in 2010', 'robin macpherson born 1959 glasgow scotland is professor of screen media at edinburgh napier university director of screen academy scotland a creative skillset film academy partnership with edinburgh college of art and of the institute for creative industries at edinburgh napiereducated at garthamlock secondary school glasgow and at the university of stirling he entered the film and television industry in 1989 as a producer at edinburgh film workshop trust where he made documentary current affairs and drama including the baftanominated halfhour drama the butterfly man in 1997 he established asylum pictures an independent production company whose films include the scottishbafta nominated documentary tree fellers and as coproducer the awardwinning fellini im a born liarafter two years as development executive at scottish screen in 2002 he joined edinburgh napier university where in 2005 he became the first director of screen academy scotland since 2008 he has led engage an eu mediafunded collaboration with the irish estonian and finnish national film schoolsin 2010 he was appointed by the scottish government to the board of creative scotland the following year he was appointed as director of the institute for creative industries at edinburgh napier university in april 2011 he joined the board of creative edinburgh', 'judi silvano born 1951 is a jazz singer and composer a native of philadelphia her singing style bears similarity to norwegian jazz singer karin krog she is a scholar of sheila jordan and of jeanne lee silvano researches and performs underrepresented music by women composers some of which is featured on her womens work cd on jsl records her 10th recording as leader indigo moods cd on jazzed media is a collection of standards from the great american songbook played in an empathetic trio with just piano voice and trumpet silvano also writes many original songs with or without lyrics as well as chamber music pieces and has had her compositions played on stages in new york city and in europe composer lori dobbins wrote sketches for silvano for her scored for voice percussion and vibes jazz pianist and composer kenny werner wrote the vocal narrator part for silvano in his no beginning no end for wind and percussion ensemble her husband is tenor saxophonist joe lovano and upon marriage she changed her name from formerly silverman to silvanobefore attending college she studied flute piano and dance she has a bachelors degree in music and dance from temple university of philadelphia she has taught at rutgers university and other collegesshe has collaborated with joe lovano mal waldron kenny werner and bill frisell aside from performing in the united states she has toured europe since 2011 she has been studying painting at the wallkill river school of art in montgomery ny and has had 3 solo art shows recently with her many watercolor and pastel paintings', 'evelin gerda lindner born may 13 1954 in hameln germany is a transdisciplinary scholar in social sciences and humanities she holds two doctorates one in medicine and the other in psychology her research focuses on human dignity and she believes that the humiliation of honor and dignity may be among the strongest obstacles on the way to a decent world community she is the founding president of human dignity and humiliation studies humandhs a global transdisciplinary fellowship of concerned academics and practitioners who wish to promote dignity and transcend humiliationher parents were displaced from silesia in 1946 and she therefore grew up in west germany she has since confirmed that her familys traumatic experiences have formed the background of her workin 1994 she obtained her first doctorate in medicine dr med from the university of hamburg germany and in 2001 her second doctorate in psychology dr psychol from the university of oslo norway she graduated in psychology in 1978 and in medicine in 1984 both from the university of hamburg and heidelberg university she has also studied law and sinology at the goetheuniversitt frankfurt am main philosophy at the university of hamburg and has participated in the norwegian research councils ethics programme under philosopher dagfinn fllesdalsince 1977 lindner often spends time in norway following her marriage to a norwegian from 1984 to 1991 she also lived and worked in cairo egypt where she was a clinical psychologist and psychological counselor at the american university in cairo for 3 years and had her own practice for 4 years she also lived studied and did research in asia japan 3 years china thailand australia new zealand in africa west africa somalia kenya rwanda burundi in the middle east usa and in europe mostly in france belgium and switzerland in 1993 she founded the ngo better global understanding and organized an important peace festival in hamburg and in 1994 she was a candidate in the european parliament election 1994she speaks english french german norwegian and egyptian arabic fluently and is familiar with a number of other languages among others swedish danish dutch portuguese russian chinese japanese indonesian and modern hebrewsince 1997 she is affiliated with the university of oslo where she wrote her doctoral dissertation from 1997 to 2001 since 2001 she is also affiliated with columbia universitys advanced consortium on cooperation conflict and complexity ac4 in new york since 2003 she is furthermore affiliated with the maison des sciences de lhomme in paris her first book making enemies humiliation and international conflict has been honored as outstanding academic title by the journal choice for 2007 in the usa she published her second book in 2009 on emotion and conflict also her third book on gender humiliation and global security that was published in 2010 with a foreword by desmond tutu is being highly recommended by choice she has also written numerous articles and book chapters for example for bernt hagtvets anthology genocides black book 2008 she has received several awards among them the prisoners testament peace award in 2009lindner advocates equality in dignity locally and globally she has chosen norway as a main base because she believes that norway is in a unique historical position the ideal of equality in dignity likeverd in norwegian is at the core of the human rights message it is at the same time deeply rooted in norwegian culture and an important part of norwegian heritage while it is new to cultures with more hierarchical traditions that stand for social inequality research points at the importance of equality for health and stability both at the individual and the community level equality in dignity is important for a sustainable future locally and globally lindner believes that norway has a responsibility to make the norwegian cultural heritage more accessible globally norway enjoys very high reputation in the world which means that the message of equality in dignity when it comes from norway has a greater impact', 'robert s gold is a researcher in the application of computer technology to health education and health promotion his publications include more than seventy research and evaluation articles dozens of pieces of software for organizations such as the american cancer society and the department of defense commercially published software including healthquest and abledata and several textbooks gold is professor of health education and dean of the school of public health at the university of maryland college parkhe earned an associate of science from orange county community college in 1967 followed by a bs in biology from the state university of new york at brockport in 1969 he earned his ms in health education at the same school two years later gold earned a phd in health education from the university of oregon in 1976 and a drph with a specialization in community health practice from the university of texas school of public health at houston in 1980 he was an instructor in suny brockports department of health science 19701974 before earning his phd and returned there as assistant professor from 1976 through 1978 after completing the degree while working on his second doctorate he served as an evaluator for the texas department of mental health and mental retardation he next joined the faculty of southern illinois university at carbondale siuc in 1980 as associate professor of health education he received a leave of absence from siuc in 1984 to serve as director of the school health initiative of the us department of health and human services in 1986 he joined the faculty of the university of maryland college park as professor of health education from 1988 through 1989 he joined the world health organization where he was invited to help reestablish whos division of health educationhealth promotion in 1990 he began dividing his time between the university of maryland and macro international where he became vice president and director of public health research in 1994 in 1999 he returned to a fulltime faculty position at the university of maryland and became chair of umds department of public and community health since july 2002 gold has been dean of the school of public health college of health and human performance prior to 2005 at the university of maryland at college park he is also the director of the public health informatics lab at umd a research and evaluation lab that heavily emphasizes multimediabased training and educational applications gold works in the application of advanced technologies to health education ranging from interactive video and computer software to knowledge management decision support and expert systems technology during his years at suny brockport he partnered with david f duncan in offering a course on computers in health education in 1980 gold and duncan published two papers on the use of computers in health education the second of these explored the potential of personal computers several years later at southern illinois university gold and duncan taught the first course on pcbased health education during his tenure at siuc he spent several summers at the university of cologne where he collaborated with klaus klein in developing applications of computers in health education beginning in 1983 gold wrote a regular column in the journal of health education entitled computing health', 'agnes baltsa greek a m born 19 november 1944 is a leading greek mezzosopranobaltsa was born in lefkada she began playing piano at the age of six before moving to athens in 1958 to concentrate on singing she graduated from the greek national conservatoire in 1965 and then travelled to munich to continue studying under a maria callas scholarship baltsa made her first appearance in an opera in 1968 as cherubino in the marriage of figaro at frankfurt opera before going on to appear as octavian in der rosenkavalier at the vienna state opera in 1970 under the guidance of herbert von karajan she soon became a regular at the prestigious salzburg festival she became kammersngerin of the vienna state opera in 1980her most well known performance is that of carmen by georges bizet which she has sung a number of times with jos carreras she has also sung works by mozart notably cos fan tutte rossini il barbiere di siviglia la cenerentola semiramide litaliana in algeri mascagni cavalleria rusticana saintsans samson et dalila verdi aida la forza del destino il trovatore don carlos bellini i capuleti e i montecchi and donizetti il campanello maria stuardashe also starred in the austrian film duett in 1992 playing an opera singer', 'zvonimir juri born 4 june 1971 is a croatian film director and screenwriterborn in osijek juri finished his primary and secondary education in his hometown as a teenager the 1980s he appeared in minor roles in a number of tv series produced by tv zagreb such as the 10part biographical series nikola tesla 1977 the partisan series nepokoreni grad 1982 and the popular childrens series smogovci 1982after graduating from high school juri spent the 199192 semester studying film directing at the loyola marymount university in los angeles in 1992 he returned to croatia and enrolled at the film directing department of the academy of dramatic art in zagreb while a student at the academy juri directed several short films and documentarieshis feature film directorial debut which he codirected and cowritten with goran devi was a critically acclaimed 2009 psychological war drama titled the blacks the film deals with a fictional croatian army unit who refuse to lay down their arms during a ceasefire in the croatian war of independence the film won juri and devi the golden arena for best director at the 2009 pula film festival the croatian national film awards it went on to be selected as croatias submission to the 83rd academy awards for the academy award for best foreign language film but it failed to make the final shortlist', 'johnpaul himka born may 18 1949 in detroit michigan is a canadian historian and retired professor of history of the university of alberta in edmonton he is of mixed ethnic background ukrainian on fathers side and italian on mothers initially he wanted to become a greek catholic priest and studied at st basil seminary in stamford connecticut however due to the radicalization of his political views to the left by the end of the 1960s he did not pursue that vocationhimka received his ba in byzantineslavonic studies and phd in history from university of michigan in 1971 and 1977 respectively the title of his phd dissertation was polish and ukrainian socialism austria 18671890 as a historian himka was a marxist in the 1970s80s but became influenced by the postmodernism in the 1990s in 2012 he defined his methodology in history as eclecticsince 1977 he taught at university of alberta department of history and classics he became full professor in 1992 and retired from the university in 2014in his academic interests himka focused on history of greek catholic church and socialism in habsburg galicia sacred culture of the eastern slavs on iconography in particular and the holocaust in ukraine since the late 1990s his contention with what he calls ukrainian nationalist historical myths became subject of increasing sometimes heated debates both in ukraine and ukrainian diaspora especially in north america himka challenged the interpretation of holodomor as a genocide and the view that ukrainian nationalism and nationalists played none or almost to none role in the holocaust in ukraine he also opposed official glorification of such nationalistic heroes as roman shukhevych and stepan bandera in ukraine during presidency of viktor yushchenko', 'elisha qimron is an academic in the study of ancient hebrew in which he took his phd in 1976 at the hebrew university of jerusalem writing his dissertation on the hebrew of the scrolls currently he is a professor in the department of hebrew language at bengurion university of the negev in israel for several decades he has been one of the team of international scholars working on the dead sea scrolls in particular on the texts found in cave 4 at qumranin 1979 qimron was coopted by john strugnell the editorinchief of the dead sea scrolls publication team to assist in completing longoverdue work on the halakhic letter 4qmmt on which strugnell had been working alone since 1959 the work on the fragments was eventually completed and published in 1994 qimron was the first israeli scholar on the teamduring the late 1970s and early 1980s many scholars felt frustrated at the delay in publishing the dead sea scrolls it was generally known that most of the texts had been translated but were still not available to researchers some also complained about the proprietary attitude of some of strugnells team toward the scrolls they were working on which made access to them difficult if not impossible in some caseshershel shanks of the biblical archaeology society decided that the reconstructions of the dead sea scrolls should be made available to scholars so in 1992 he published the twovolume a facsimile edition of the dead sea scrolls which included without permission material on the halakhic letter 4qmmt that qimron had been working on for some eleven years qimron had even given the document its titleqimron decided to sue the biblical archaeology society for breaching his copyright on the grounds that the research bas had published was his intellectual property as he had reconstructed about 40 of the published text such reconstruction is unique in the sense that if the original photographs had been given to a hundred different researchers a hundred different reconstructions would be made in 1993 judge dalia dorner of the israeli supreme court awarded qimron the highest compensation allowed by law for aggravation in compensation against hershel shanks and others a 2000 appeal in front of judge aharon barak and colleagues against the verdict was upheld in qimrons favor', 'robert grant irving phd is an author and lecturer specializing in the history of art and architecture of britain and the british empire his book indian summer lutyens baker and imperial delhi yale university press 1981 and oxford university press 1982 is the story of the creation of new delhi from 1911 to 1931 the grandest architectural undertaking in the history of the british empire the principal architects were the two leading practitioners of the day sir edwin lutyens and sir herbert baker dr irvings book won the british council prize in the humanities as well as the highest honor of the society of architectural historians the alice davis hitchcock book awarddr irving was born in hartford connecticut of scottishcanadian parents and was educated at balliol college oxford kings college cambridge and yale university he holds degrees in history and the history of art and architecture a fellow of berkeley college at yale he has taught at yale wesleyan trinity college in hartford and the university of virginia dr irving has lectured at universities and museums on six continents he has held research grants in india africa britain and the united states including a fulbright scholarship and fellowships from the woodrow wilson national fellowship foundation american institute of indian studies american council of learned societies ernest oppenheimer memorial trust national endowment for the humanities and the john simon guggenheim memorial foundationdr irving has been a lifetime advocate and activist for historic preservationduring his studies at yale in preparation for his dissertation mr irving had been conducting research in india in 196869 mr irving had placed all his research material in two trunks that were shipped from new delhi to hartford upon his return to yale in 1969 he discovered that pan american world airways had lost his research the airline permitted mr irving to visit john f kennedy airport to search through 16 acres not 60 as stated in a news article of unclaimed luggage he was able to locate one trunk but the contents had become damaged and useless because of exposure to the weather mr irving filed a successful 15000 not 35000 as stated in a press article lawsuit in order to recoup expenses accrued on his return to india to redo his entire research and photography discovered too late to be of use the second trunk surfaced at a boston airport warehouse after more than four yearsthe completed dissertation became the basis for the awardwinning book indian summer', 'sam leach born 1973 is an emerging australian contemporary artist he was born in adelaide south australia leach worked for many years in the australian tax office after completion of a degree in economics he also completed a diploma of art bachelor of fine art degree and a master of fine art degree at rmit in melbourne victoria leach currently resides in melbourneleachs work has been exhibited in several museum shows including optimism at the queensland art gallery and neo goth at the university of queensland art museum in 2008 in 2009 the shilo project at the ian potter museum of art and horror come darkness at the macquarie university art gallery and still at hawkesbury regional gallery in 2010 his work is held in public collections of regional galleries of geelong gold coast coffs harbour newcastle and gippsland and the collections of latrobe university and the university of queensland his portrait of musical comedian tim minchin won the archibald prize one of australias most noteworthy art prizes in 2010 in the same year he won the wynne prize for his landscape proposal for landscaped cosmos in doing so he became only the third artist after william dobell and brett whiteley to win the archibald portrait prize and the wynne landscape prize in the same year the award has generated some controversy due to the similarities acknowledged by leach between his work and one by seventeenthcentury dutch artist adam pynacker', 'this article is about the cave explorer for the wiccan see patricia crowther wiccanpatricia pat p crowther born 1943 later known as patricia p wilcox is an american cave explorer and cave surveyor active in the 1960s and early 1970s she also worked as a computer programmercrowther was wellknown among kentucky cavers for her slight frame she weighed 115 pounds and her extreme dedication these two traits led her to pursue promising leads that other cavers were unwilling or unable to attempt of particular note is her traversal of a narrow canyon known as the tight spot in the portion of the flint ridge cave system underlying houchins valley the tight spot proved to be the critical juncture leading to the passages connecting mammoth cave and the flint ridge cave system both patricia crowther and her thenhusband will crowther participated in many expeditions that attempted to connect the caves she was part of the september 9 1972 expedition that discovered and surveyed the historic final connectioncrowther earned a bs degree in physics at mit where she met and married william the couple had two daughters sandy and laura and divorced in 1976 around 1977 crowther married john wilcox who had led the cave connection expeditionscrowther authored the grand kentucky junction an account of the expeditions undertaken to connect the mammoth and flint ridge cave systems', 'katja mira herbers dutch pronunciation ktja mira rbrs born 19 october 1980 is a dutch actress of theatre film and televisionherbers was born on 19 october 1980 in amsterdam in the netherlands she is the daughter of dutch violinist vera beths and german oboist and conductor werner herbers she had a canadian au pair and learned to speak dutch german and english while growing upherbers went to the ignatius gymnasium in amsterdam from 1993 to 1999 she studied psychology at the university of amsterdam 19992000 but stopped after a year during her studies she attended the local theatre school de trap she then went to the hb studio in new york city 20002001 and studied theatre at the theaterschool in amsterdam 20012005during her studies she played in the films peter bell 2002 and brush with fate 2003 after her graduation herbers became a member of ntgent in ghent she is currently member of the munich kammerspiele in munich and het nationale toneel in the hague she lives in munich and amsterdam in 2013 she won the guido de moor award for young talentshe performed the piece im wunderschnen monat mai with pianist conductor and composer reinbert de leeuw in 2013in february 2014 it was announced that she will play the role of the only female physicist at los alamos in the wgn americas drama series manhattan', 'neil shaka hislop cm born 22 february 1969 is a former football goalkeeper the majority of his career was spent in the top division in england where he was a part of the newcastle united team which finished second in the premier league for two successive seasons under kevin keegans first tenure before this he played for reading where he was on the losing side in the 1st division playoffs despite finishing second overall which became an automatic promotion slot the following season he later played for west ham united on two separate occasions receiving an fa cup runnerup medal during his second term in 2006 and also portsmouth where he won the 1st division in 200203he was eligible to play for both england and trinidad and tobago he initially played for the england u21 team and was on the bench for a full international against chile but in the end opted to play for trinidad tobago a dispute with the national team ruled him out of contention for several years but he returned to play and starred in the countrys first ever world cup appearance in 2006he is now working for sports news and broadcasting service espn and regularly provides commentary on eredivisie serie a and mexican liga mx matches he had also briefly worked as a goalkeeping coach for the football team at quinnipiac university', 'martin iveson is a british composer known for his audio work within the video games industry and better known for his contributions to the world of music releases martins music ranges from mainstream house music to deep house hiphop and nu jazz and he writes under the moniker atjazz martin also owns and runs atjazz record companyfrom his misspent youth skateboarding the frontier towns of north eastern england martin iveson arrived into the uks midland scene in the early nineties here he was to take a job at a new computer games development studio by the name of core design ltd this company is now synonymous with lara croft and the series of tomb raider gamesnot content with scoring this one of the worlds most famous video games martin left the company 13 years later to concentrate more on his own studio environment in which to channel his musical aspirations further and invite other musicians and producers to do the samethe success of his early works including his first ep story in 1996 led to the wellreceived album that something which was later licensed in japan by sonykioon in 1998 this debut album also featured cover artwork by fujio akatsuka very well known in japan for his illustrations and animated cartoons with two further albums labfunk labresults following soon after atjazz had at this time established himself as a distinct and inspirational voice in the underground music scenemartin has also been a prolific remixer throughout his career remixing and reworking songs works for artists such as nitin sawhney bob sinclar jazzanova zed bias omar to name but a few and was even requested to rework henri mancinis the pink panther returns for emi records martin is still remixing heavily as he states that remixing has helped to launch his production techniques forward and its the perfect practice pitch for trying out new ideas and breaking the mould within a diluted industry remixing helps to hone your sound and allows the producer to print their trademark into another spacemartins trademark sound has been requested on many occasions by top class vocalists including clara hill replife deborah jordan for their own artist album projects and also rubbing shoulders with some amazing musicians producers along the way martin has also teamed up with worldclass production legend charles webster as version and are working on their debut album for miso records2009 saw martin close his label mantis recordings due to harsh industry changes and from these ashes came the imprint appropriately named atjazz record company which has flown to great heights within the digital realm and has seen many fantastic and sought after releases including his 3rd long player full circle this label concentrates heavily on martins productions and collaborations atjazz record company is a new chapter for atjazz but with a continuation of his trademark soundmartin atjazz iveson is in demand across the world whether it be renowned producer sought after remixer or floor filling dj martin gives his heart to hold the soulhe cites shostakovich stravinsky john frizzell and john williams as influencers for the soundtrack of tomb raider the angel of darkness', 'eva felicitas habermann born january 16 1976 is a german actress who has appeared in numerous films and tv series she is best known for playing the role of zev bellringer in the television series lexx she was succeeded in her role by xenia seebergwhile studying for the german equivalent of her senior high school diploma advanced placement courses only eva received singing and dancing lessons soon after graduation she obtained her first television role in lexx she also moderated the children pumuckl tv broadcast on german tv 19951996while lexx was on hiatus between seasons 1 and 2 eva appeared in the zdf series rosa roth and the ard series the beach club as well as appearing in the rosamunde pilcher film two sisters due to scheduling conflicts she was ultimately unable to commit to the second season of the show as with a twoyear gap between the first and second seasons she accepted other projects and thus when season two was ultimately greenlit she was unavailable she was however able to free up enough time in her schedule to appear in the first two episodes allowing the writers to deal with her character properlyin 1999 she took drama lessons and played in such german tv series as the crime scene the investigators the commissioner and wild angelsin 2005 she was in the new episodes of the twentyyearold series the black forest clinic and in 2006 she was seen in the tv movie in heaven you write love differently alongside erol sanderin 2008 she played again with sander the role of olivia orourke in the film who loves promises by rebecca rymanher comedy roles included angel express 1997 fire ice and cans of beer 2001 and in the old monkey fear 2002in the clown payday 2005 she played the role of leah diehlin 2003 she was ranked no 17 in fhmgermanys 100 sexiest women', 'steve castle born 17 may 1966 in barking is a former english football midfielder who played in the football league between 1984 and 2001 he played for leyton orient in three separate spells amassing a total of 322 appearances for them castles combative style attracted the attention of liverpool boss kenny dalglish and wimbledon manager bobby gould castle was named in the pfa third division team of the year for the 199091 season a twitter poll in 2014 saw castle voted as orients greatest ever captainhe also played league football with plymouth argyle birmingham city gillingham and peterborough unitedplymouth argyle boss peter shilton was seeking a midfield general to rally his newlook squad following relegation from the second tier in 1992 on the advice of a scout he took in a game at brisbane road and left at halftime instructing argyle director denis angilley to start negotiations as he had seen enough of his target a 225000 transfer fee duly paid castle headed to home park and was promptly injured in a preseason friendly argyle fans would have to wait until late october to see their new midfield marvel in meaningful action but it turned out to be well worth the wait he scored on his debut in a 20 victory vs wigan athletic and by seasons end had notched up 12 more he continued in a similar vein the following season as argyle marched to the playoffs bagging 16 goals by christmas and eventually ending the campaign with 22 the undisputed highlight of his argyle career and one of his own personal highlights incidentally was a recordbreaking hattrick in a fine 32 win at stockport county in december 1993 his three goals in six secondhalf minutes were an astonishing feat and one that confirmed his place as a firm favourite of the fans indeed super stevie castle became home parks undisputed golden boy thanks to his barnstorming allaction style and a left foot that developed an intimate relationship with the back of the net castle was named alongside his midfield partner steve mccall in the alltime argyle xi in a poll taken on the clubs website in 2011 he was named in the pfa second division team of the year for the 199394 season before transferring to birmingham city in 1995castle joined peterborough on a free transfer as playercoach for the 199798 season and over the next three seasons he played 122 senior matches and scored 20 goals winning the playoff final at wembley in his final game he moved to leyton orient on a free for 200001 in his final season at orient castle gained his uefa a coaching licence castle retired due to a persistent knee injuryin september 2006 he became assistant manager to jimmy quinn at cambridge unitedon the 13th december 2013 he became royston town manager with his first game in charge expected to be the boxing day home fixture against top of the table dunstable town', 'armen ra is an american artist and performer of iranianarmenian descent born in tehran iran he was raised by his mother a concert pianist and his aunt an opera singer and ikebana master he taught himself to play theremin his music fuses armenian folk music with modern instrumentation along with melodic lounge standards and classical arias his concerts are known for their combination of both visual arts and his musicarmen ra has played at the united nations wiener konzerthaus mozartsaal vienna cbgbs knitting factory la mama etc joes pub boulder museum of modern art lincoln center the gershwin hotel bb king museum and dietch projects he has been featured on and appeared in cnn hbo mtv vh1 vogue the new york times the new york post the village voice rolling stone and glamourhe has performed and recorded with various bands and on many projects including a collaboration with british recording artist marc almond on the song my madness i from his 2010 release variet his debut solo cd plays the theremin released on bowl fork records in 2010 showcases many classical armenian laments and folk songs representing both armens heritage and his very first musical influence he has a cameo appearance in the film party monsterhe currently resides in hollywood californiain october 2010 armen appeared as a guest judge on the logo network show the arrangementra appeared on the cover track everyday is halloween playing the theremin for sharon needles album pg13 in 2014 he played the theremin for voltaires album raised by bats', 'david james shaughnessy also spelled shaughnessey is a britishborn television director theatre director and producer and actor he was educated at eton college and the central school of speech and drama london he started in repertory theatres all around the uk and went on to become a principal actor with the old vic theatre company in london and touring around the world he went on to perform in national tours including 18 months in godspell for producer cameron mackintosh and acted in television series and movies both in the uk and the uslater he turned to theatre and television directing then moved into producing ultimately becoming executive producer of the daytime drama the young and the restless he now directs for the bold and the beautiful on a freelance basis while developing and seen a service for actors with geoffrey wade he also provides voiceovers for films cartoons commercials and video gameshis father was alfred shaughnessy a scriptwriter he is best known for his work as writer and producer of upstairs downstairs his older brother is the actor charles shaughnessy best known as maxwell sheffield on the television show the nanny his wife is former days of our lives head writer anne schoettle david and anne live in los angeles and have three daughters amy katie and josiehe is the heir presumptive to the barony of shaughnessy which is held by his brother', 'john douglas reynolds pc born january 19 1942 was the member of parliament for the riding of west vancouversunshine coastsea to sky country in the canadian house of commons from 1997 to 2006 he had also been an mp in the 1970s as well as a provincial politician in british columbia in the 1980s and 1990s he was first elected to parliament as a candidate of the progressive conservatives in 1972 and was reelected in 1974 he resigned in 1977 after disagreeing with joe clarks red tory policiesbeginning in 1983 he was active in the social credit party of british columbia and served as speaker of the british columbia legislative assembly and as a cabinet minister in 1986 he was a candidate at the social credit leadership convention coming in fifth he remained in provincial politics until 1991 when he was defeated in his bid for reelectionreynolds returned to parliament in 1997 as a reform mp and served as chief opposition whip he remained in this role when the reform party was folded into the canadian alliance when stockwell day faced a revolt in his caucus in 2001 and chuck strahl resigned as house leader reynolds was named in his place when day resigned as alliance leader reynolds was chosen as interim party leader and leader of the opposition and served until stephen harper was elected the new party leaderreynolds resigned as house leader on january 24 2005 but continued as mp for his riding until his retirement at the 2006 federal election he was the coordinator of the conservative campaign in british columbia on the day after the election which resulted in a conservative minority government harper asked reynolds to approach liberal minister david emerson about crossing the floor and serving as a minister in harpers government emerson eventually accepted the offer which triggered a firestorm of criticism however reynolds who had strongly criticized belinda stronachs switch from the conservatives to the liberals told a suburban vancouver newspaper that he was very happy that emerson was a conservative and claimed that the people of emersons leftleaning vancouver riding got the better end of the bargain instead of having someone in opposition he said they have someone who is a cabinet minister of a new government', 'dean greig born 31 october 1968 is a former australian rules footballer in the australian football leaguegreig played under 19s football for hawthorn in the victorian football league vfl during the 1980s captaining the team and winning its best and fairest award in 1985 despite this hawthorn did not wish to retain him and it released him at the end of 1985 he trialled a preseason at collingwood but was also not recruited to its senior listin 1990 grieg played for the ailing camberwell football club in the victorian football association he polled ten j j liston trophy votes in only nine games and camberwell coach gary brice described griegs performances as the sole shining light in a winless season which turned out to be the clubs last in the vfagrieg was subsequently recruited to the australian football league to which the vfl had changed its name in 1990 by the st kilda football club in 1991 on debut in round 21 1991 at nearly 23 years of age he compiled a league record 39 disposals 23 kicks 16 handballs against carltona strongly built midfielder he didnt progress as expected nevertheless managed some fine games with the st kilda and was noted for his creative handballin 2001 whilst playing for his suburban club scoresby he suffered a broken leg and due to the onset of gangrene following infection had his lower leg amputated after an onfield mishap', ... ]"
      ]
     },
     "execution_count": 12,
     "metadata": {},
     "output_type": "execute_result"
    }
   ],
   "source": [
    "clooney['text']"
   ]
  },
  {
   "cell_type": "code",
   "execution_count": 15,
   "metadata": {},
   "outputs": [
    {
     "data": {
      "text/plain": [
       "dtype: str\n",
       "Rows: 59071\n",
       "['<http://dbpedia.org/resource/Digby_Morrell>', '<http://dbpedia.org/resource/Alfred_J._Lewy>', '<http://dbpedia.org/resource/Harpdog_Brown>', '<http://dbpedia.org/resource/Franz_Rottensteiner>', '<http://dbpedia.org/resource/G-Enka>', '<http://dbpedia.org/resource/Sam_Henderson>', '<http://dbpedia.org/resource/Aaron_LaCrate>', '<http://dbpedia.org/resource/Trevor_Ferguson>', '<http://dbpedia.org/resource/Grant_Nelson>', '<http://dbpedia.org/resource/Cathy_Caruth>', '<http://dbpedia.org/resource/Sophie_Crumb>', '<http://dbpedia.org/resource/Jenn_Ashworth>', '<http://dbpedia.org/resource/Jonathan_Hoefler>', '<http://dbpedia.org/resource/Anthony_Gueterbock,_18th_Baron_Berkeley>', '<http://dbpedia.org/resource/David_Chernushenko>', '<http://dbpedia.org/resource/Joerg_Steineck>', '<http://dbpedia.org/resource/Andrew_Pinsent>', '<http://dbpedia.org/resource/Paddy_Dunne_(Gaelic_footballer)>', '<http://dbpedia.org/resource/Alexandros_Mouzas>', '<http://dbpedia.org/resource/John_Angus_Campbell>', '<http://dbpedia.org/resource/Chris_Batstone>', '<http://dbpedia.org/resource/Ceiron_Thomas>', '<http://dbpedia.org/resource/Adel_Sellimi>', '<http://dbpedia.org/resource/Faith_Soloway>', '<http://dbpedia.org/resource/Tom_Jennings>', '<http://dbpedia.org/resource/Vic_Stasiuk>', '<http://dbpedia.org/resource/Anthony_Caruana>', '<http://dbpedia.org/resource/Ian_Mitchell_(author)>', '<http://dbpedia.org/resource/Leon_Hapgood>', '<http://dbpedia.org/resource/Emily_Osment>', '<http://dbpedia.org/resource/Dom_Flora>', '<http://dbpedia.org/resource/Ted_Hill_(mathematician)>', '<http://dbpedia.org/resource/Mindaugas_Murza>', '<http://dbpedia.org/resource/Bob_Reece>', '<http://dbpedia.org/resource/Douglas_Davies>', '<http://dbpedia.org/resource/Freimut_B%C3%B6rngen>', '<http://dbpedia.org/resource/Th%C3%BCring_Br%C3%A4m>', '<http://dbpedia.org/resource/Aharon_Solomons>', '<http://dbpedia.org/resource/Steven_Weil>', '<http://dbpedia.org/resource/Gary_Emineth>', '<http://dbpedia.org/resource/Timothy_Grucza>', '<http://dbpedia.org/resource/Bob_Adams_(American_football)>', '<http://dbpedia.org/resource/Sylvie_Roy>', '<http://dbpedia.org/resource/Rob_Sheffield>', '<http://dbpedia.org/resource/Michel_Che>', '<http://dbpedia.org/resource/Jaafar_Aksikas>', '<http://dbpedia.org/resource/Will_Tuttle>', '<http://dbpedia.org/resource/Vanessa_Ament>', '<http://dbpedia.org/resource/Marc_Logan>', '<http://dbpedia.org/resource/Corey_Woolfolk>', '<http://dbpedia.org/resource/Professor_Lyrical_(rapper)>', '<http://dbpedia.org/resource/Michelle_Ye>', '<http://dbpedia.org/resource/Robert_N._Chatigny>', '<http://dbpedia.org/resource/Vincent_Fang_(lyricist)>', '<http://dbpedia.org/resource/Misa_Telefoni_Retzlaff>', '<http://dbpedia.org/resource/Mary_Goldring>', '<http://dbpedia.org/resource/Susan_Westerberg_Prager>', '<http://dbpedia.org/resource/Yohannes_Yual>', '<http://dbpedia.org/resource/Christopher_Sorrentino>', '<http://dbpedia.org/resource/Alexis_Bhagat>', '<http://dbpedia.org/resource/David_Vernon_Williams>', '<http://dbpedia.org/resource/Guillermo_Roux>', '<http://dbpedia.org/resource/William_J._Ely>', '<http://dbpedia.org/resource/Alan_Roper>', '<http://dbpedia.org/resource/Bob_Havens>', '<http://dbpedia.org/resource/Susan_Christie>', '<http://dbpedia.org/resource/Elizabeth_Gunn_(author)>', '<http://dbpedia.org/resource/Bo_Hampton>', '<http://dbpedia.org/resource/Milva>', '<http://dbpedia.org/resource/Will_Tiao>', '<http://dbpedia.org/resource/Quintin_E._Primo_III>', '<http://dbpedia.org/resource/Geoffrey_Bayldon>', '<http://dbpedia.org/resource/Ulf-Dietrich_Reips>', '<http://dbpedia.org/resource/Marcel_J._Melan%C3%A7on>', '<http://dbpedia.org/resource/Mike_Powell_(journalist)>', '<http://dbpedia.org/resource/Vladimir_Yurchenko>', '<http://dbpedia.org/resource/Nobuo_Uematsu>', '<http://dbpedia.org/resource/John_Warner_(writer)>', '<http://dbpedia.org/resource/Doug_McIntosh>', '<http://dbpedia.org/resource/Avi_Muchnick>', '<http://dbpedia.org/resource/Robin_MacPherson>', '<http://dbpedia.org/resource/Judi_Silvano>', '<http://dbpedia.org/resource/Evelin_Lindner>', '<http://dbpedia.org/resource/Robert_S._Gold>', '<http://dbpedia.org/resource/Agnes_Baltsa>', '<http://dbpedia.org/resource/Zvonimir_Juri%C4%87>', '<http://dbpedia.org/resource/John-Paul_Himka>', '<http://dbpedia.org/resource/Elisha_Qimron>', '<http://dbpedia.org/resource/Robert_Grant_Irving>', '<http://dbpedia.org/resource/Sam_Leach_(artist)>', '<http://dbpedia.org/resource/Patricia_Crowther_(caver)>', '<http://dbpedia.org/resource/Katja_Herbers>', '<http://dbpedia.org/resource/Shaka_Hislop>', '<http://dbpedia.org/resource/Martin_Iveson>', '<http://dbpedia.org/resource/Eva_Habermann>', '<http://dbpedia.org/resource/Steve_Castle>', '<http://dbpedia.org/resource/Armen_Ra>', '<http://dbpedia.org/resource/David_Shaughnessy>', '<http://dbpedia.org/resource/John_Reynolds_(Canadian_politician)>', '<http://dbpedia.org/resource/Dean_Greig>', ... ]"
      ]
     },
     "execution_count": 15,
     "metadata": {},
     "output_type": "execute_result"
    }
   ],
   "source": [
    "clooney['URI']"
   ]
  },
  {
   "cell_type": "code",
   "execution_count": 16,
   "metadata": {},
   "outputs": [
    {
     "data": {
      "text/plain": [
       "dtype: str\n",
       "Rows: ?\n",
       "['barack hussein obama ii brk husen bm born august 4 1961 is the 44th and current president of the united states and the first african american to hold the office born in honolulu hawaii obama is a graduate of columbia university and harvard law school where he served as president of the harvard law review he was a community organizer in chicago before earning his law degree he worked as a civil rights attorney and taught constitutional law at the university of chicago law school from 1992 to 2004 he served three terms representing the 13th district in the illinois senate from 1997 to 2004 running unsuccessfully for the united states house of representatives in 2000in 2004 obama received national attention during his campaign to represent illinois in the united states senate with his victory in the march democratic party primary his keynote address at the democratic national convention in july and his election to the senate in november he began his presidential campaign in 2007 and after a close primary campaign against hillary rodham clinton in 2008 he won sufficient delegates in the democratic party primaries to receive the presidential nomination he then defeated republican nominee john mccain in the general election and was inaugurated as president on january 20 2009 nine months after his election obama was named the 2009 nobel peace prize laureateduring his first two years in office obama signed into law economic stimulus legislation in response to the great recession in the form of the american recovery and reinvestment act of 2009 and the tax relief unemployment insurance reauthorization and job creation act of 2010 other major domestic initiatives in his first term included the patient protection and affordable care act often referred to as obamacare the doddfrank wall street reform and consumer protection act and the dont ask dont tell repeal act of 2010 in foreign policy obama ended us military involvement in the iraq war increased us troop levels in afghanistan signed the new start arms control treaty with russia ordered us military involvement in libya and ordered the military operation that resulted in the death of osama bin laden in january 2011 the republicans regained control of the house of representatives as the democratic party lost a total of 63 seats and after a lengthy debate over federal spending and whether or not to raise the nations debt limit obama signed the budget control act of 2011 and the american taxpayer relief act of 2012obama was reelected president in november 2012 defeating republican nominee mitt romney and was sworn in for a second term on january 20 2013 during his second term obama has promoted domestic policies related to gun control in response to the sandy hook elementary school shooting and has called for full equality for lgbt americans while his administration has filed briefs which urged the supreme court to strike down the defense of marriage act of 1996 and californias proposition 8 as unconstitutional in foreign policy obama ordered us military involvement in iraq in response to gains made by the islamic state in iraq after the 2011 withdrawal from iraq continued the process of ending us combat operations in afghanistan and has sought to normalize us relations with cuba', ... ]"
      ]
     },
     "execution_count": 16,
     "metadata": {},
     "output_type": "execute_result"
    }
   ],
   "source": [
    "obama['text']"
   ]
  },
  {
   "cell_type": "code",
   "execution_count": 43,
   "metadata": {},
   "outputs": [],
   "source": [
    "obama['word_count'] = turicreate.text_analytics.count_words(obama['text'])"
   ]
  },
  {
   "cell_type": "code",
   "execution_count": 11,
   "metadata": {},
   "outputs": [
    {
     "data": {
      "text/html": [
       "<div style=\"max-height:1000px;max-width:1500px;overflow:auto;\"><table frame=\"box\" rules=\"cols\">\n",
       "    <tr>\n",
       "        <th style=\"padding-left: 1em; padding-right: 1em; text-align: center\">URI</th>\n",
       "        <th style=\"padding-left: 1em; padding-right: 1em; text-align: center\">name</th>\n",
       "        <th style=\"padding-left: 1em; padding-right: 1em; text-align: center\">text</th>\n",
       "        <th style=\"padding-left: 1em; padding-right: 1em; text-align: center\">word_count</th>\n",
       "    </tr>\n",
       "    <tr>\n",
       "        <td style=\"padding-left: 1em; padding-right: 1em; text-align: center; vertical-align: top\">&lt;http://dbpedia.org/resou<br>rce/Barack_Obama&gt; ...</td>\n",
       "        <td style=\"padding-left: 1em; padding-right: 1em; text-align: center; vertical-align: top\">Barack Obama</td>\n",
       "        <td style=\"padding-left: 1em; padding-right: 1em; text-align: center; vertical-align: top\">barack hussein obama ii<br>brk husen bm born august ...</td>\n",
       "        <td style=\"padding-left: 1em; padding-right: 1em; text-align: center; vertical-align: top\">{&#x27;normalize&#x27;: 1.0,<br>&#x27;sought&#x27;: 1.0, &#x27;combat&#x27;: ...</td>\n",
       "    </tr>\n",
       "</table>\n",
       "[1 rows x 4 columns]<br/>\n",
       "</div>"
      ],
      "text/plain": [
       "Columns:\n",
       "\tURI\tstr\n",
       "\tname\tstr\n",
       "\ttext\tstr\n",
       "\tword_count\tdict\n",
       "\n",
       "Rows: 1\n",
       "\n",
       "Data:\n",
       "+-------------------------------+--------------+-------------------------------+\n",
       "|              URI              |     name     |              text             |\n",
       "+-------------------------------+--------------+-------------------------------+\n",
       "| <http://dbpedia.org/resour... | Barack Obama | barack hussein obama ii br... |\n",
       "+-------------------------------+--------------+-------------------------------+\n",
       "+-------------------------------+\n",
       "|           word_count          |\n",
       "+-------------------------------+\n",
       "| {'normalize': 1.0, 'sought... |\n",
       "+-------------------------------+\n",
       "[1 rows x 4 columns]"
      ]
     },
     "execution_count": 11,
     "metadata": {},
     "output_type": "execute_result"
    }
   ],
   "source": [
    "obama"
   ]
  },
  {
   "cell_type": "code",
   "execution_count": 10,
   "metadata": {},
   "outputs": [
    {
     "data": {
      "text/plain": [
       "dtype: dict\n",
       "Rows: 1\n",
       "[{'normalize': 1.0, 'sought': 1.0, 'combat': 1.0, 'continued': 1.0, 'unconstitutional': 1.0, '8': 1.0, 'californias': 1.0, '1996': 1.0, 'marriage': 1.0, 'defense': 1.0, 'down': 1.0, 'proposition': 1.0, 'court': 1.0, 'supreme': 1.0, 'urged': 1.0, 'which': 1.0, 'briefs': 1.0, 'administration': 1.0, 'while': 1.0, 'americans': 1.0, 'called': 1.0, 'cuba': 1.0, 'gun': 1.0, 'related': 1.0, 'policies': 1.0, 'promoted': 1.0, '2013': 1.0, 'second': 2.0, 'romney': 1.0, 'filed': 1.0, '2012': 1.0, 'reelected': 1.0, 'taxpayer': 1.0, 'budget': 1.0, 'nations': 1.0, 'raise': 1.0, 'spending': 1.0, 'over': 1.0, 'lengthy': 1.0, 'gains': 1.0, 'seats': 1.0, '63': 1.0, 'total': 1.0, 'lost': 1.0, 'regained': 1.0, 'whether': 1.0, 'close': 1.0, 'patient': 1.0, 'by': 1.0, 'sandy': 1.0, 'after': 4.0, 'presidential': 2.0, 'november': 2.0, 'obama': 9.0, 'election': 3.0, 'august': 1.0, 'mccain': 1.0, 'primary': 2.0, 'he': 7.0, 'united': 3.0, 'with': 3.0, 'current': 1.0, 'campaign': 3.0, 'degree': 1.0, 'obamacare': 1.0, 'convention': 1.0, 'house': 2.0, 'during': 2.0, 'victory': 1.0, 'worked': 1.0, 'troop': 1.0, 'senate': 3.0, 'islamic': 1.0, 'law': 6.0, 'district': 1.0, '13th': 1.0, 'national': 2.0, 'sworn': 1.0, 'representing': 1.0, 'democratic': 4.0, '20': 2.0, 'that': 1.0, 'process': 1.0, 'the': 40.0, '1961': 1.0, '2004': 3.0, 'debate': 1.0, 'from': 3.0, 'three': 1.0, 'into': 1.0, 'at': 2.0, 'is': 2.0, 'rights': 1.0, 'withdrawal': 1.0, 'often': 1.0, 'attorney': 1.0, 'civil': 1.0, 'taught': 1.0, 'represent': 1.0, 'january': 3.0, 'laureateduring': 1.0, 'running': 1.0, '1992': 1.0, 'organizer': 1.0, 'debt': 1.0, 'american': 3.0, 'unsuccessfully': 1.0, 'president': 4.0, 'july': 1.0, 'and': 21.0, 'arms': 1.0, 'hussein': 1.0, '2010': 2.0, 'african': 1.0, 'operations': 1.0, 'two': 1.0, 'won': 1.0, 'has': 4.0, 'representatives': 2.0, 'where': 1.0, 'constitutional': 1.0, '44th': 1.0, 'his': 11.0, 'first': 3.0, 'death': 1.0, 'received': 1.0, '1997': 1.0, 'us': 6.0, '2012obama': 1.0, 'limit': 1.0, 'barack': 1.0, 'lgbt': 1.0, 'against': 1.0, 'job': 1.0, '2007': 1.0, 'receive': 1.0, 'elementary': 1.0, 'brk': 1.0, 'earning': 1.0, 'initiatives': 1.0, 'born': 2.0, 'shooting': 1.0, 'mitt': 1.0, 'consumer': 1.0, 'was': 5.0, 'named': 1.0, 'prize': 1.0, 'office': 2.0, 'school': 3.0, 'bm': 1.0, 'honolulu': 1.0, 'hawaii': 1.0, 'as': 6.0, 'hold': 1.0, 'nominee': 2.0, 'a': 7.0, 'party': 3.0, 'reform': 1.0, 'columbia': 1.0, 'years': 1.0, 'for': 4.0, 'john': 1.0, 'ending': 1.0, 'served': 2.0, 'began': 1.0, 'husen': 1.0, '2011': 3.0, 'in': 30.0, 'illinois': 2.0, 'hook': 1.0, 'harvard': 2.0, 'months': 1.0, 'community': 1.0, 'term': 3.0, 'nobel': 1.0, 'defeating': 1.0, '4': 1.0, 'chicago': 2.0, 'before': 1.0, 'foreign': 2.0, 'hillary': 1.0, 'unemployment': 1.0, 'to': 14.0, 'rodham': 1.0, 'clinton': 1.0, 'libya': 1.0, '2008': 1.0, 'relations': 1.0, 'sufficient': 1.0, 'delegates': 1.0, 'primaries': 1.0, 'repeal': 1.0, 'new': 1.0, 'nomination': 1.0, '2009': 3.0, 'form': 1.0, 'made': 1.0, 'peace': 1.0, 'defeated': 1.0, 'military': 4.0, 'republican': 2.0, 'doddfrank': 1.0, 'address': 1.0, 'general': 1.0, 'inaugurated': 1.0, 'on': 2.0, 'nine': 1.0, 'signed': 3.0, 'ii': 1.0, 'economic': 1.0, 'included': 1.0, 'levels': 1.0, 'review': 1.0, 'legislation': 1.0, 'ask': 1.0, 'resulted': 1.0, 'graduate': 1.0, 'response': 3.0, 'great': 1.0, 'full': 1.0, 'recession': 1.0, '2000in': 1.0, 'recovery': 1.0, 'reinvestment': 1.0, 'act': 8.0, 'tax': 1.0, 'relief': 2.0, 'major': 1.0, 'affordable': 1.0, 'reauthorization': 1.0, 'insurance': 1.0, 'creation': 1.0, 'state': 1.0, 'attention': 1.0, 'keynote': 1.0, 'other': 1.0, 'domestic': 2.0, 'equality': 1.0, 'of': 18.0, 'protection': 2.0, 'march': 1.0, 'start': 1.0, 'care': 1.0, 'afghanistan': 2.0, 'university': 2.0, 'laden': 1.0, 'russia': 1.0, 'wall': 1.0, 'referred': 1.0, 'street': 1.0, 'then': 1.0, 'dont': 2.0, 'tell': 1.0, 'policy': 2.0, 'ended': 1.0, 'involvement': 3.0, 'federal': 1.0, 'iraq': 4.0, 'terms': 1.0, 'war': 1.0, 'or': 1.0, 'treaty': 1.0, 'strike': 1.0, 'not': 1.0, 'increased': 1.0, 'control': 4.0, 'ordered': 3.0, 'states': 3.0, 'operation': 1.0, 'osama': 1.0, 'stimulus': 1.0, 'bin': 1.0, 'republicans': 1.0}]"
      ]
     },
     "execution_count": 10,
     "metadata": {},
     "output_type": "execute_result"
    }
   ],
   "source": [
    "obama['word_count']"
   ]
  },
  {
   "cell_type": "code",
   "execution_count": 13,
   "metadata": {},
   "outputs": [
    {
     "name": "stdout",
     "output_type": "stream",
     "text": [
      "['barack hussein obama ii brk husen bm born august 4 1961 is the 44th and current president of the united states and the first african american to hold the office born in honolulu hawaii obama is a graduate of columbia university and harvard law school where he served as president of the harvard law review he was a community organizer in chicago before earning his law degree he worked as a civil rights attorney and taught constitutional law at the university of chicago law school from 1992 to 2004 he served three terms representing the 13th district in the illinois senate from 1997 to 2004 running unsuccessfully for the united states house of representatives in 2000in 2004 obama received national attention during his campaign to represent illinois in the united states senate with his victory in the march democratic party primary his keynote address at the democratic national convention in july and his election to the senate in november he began his presidential campaign in 2007 and after a close primary campaign against hillary rodham clinton in 2008 he won sufficient delegates in the democratic party primaries to receive the presidential nomination he then defeated republican nominee john mccain in the general election and was inaugurated as president on january 20 2009 nine months after his election obama was named the 2009 nobel peace prize laureateduring his first two years in office obama signed into law economic stimulus legislation in response to the great recession in the form of the american recovery and reinvestment act of 2009 and the tax relief unemployment insurance reauthorization and job creation act of 2010 other major domestic initiatives in his first term included the patient protection and affordable care act often referred to as obamacare the doddfrank wall street reform and consumer protection act and the dont ask dont tell repeal act of 2010 in foreign policy obama ended us military involvement in the iraq war increased us troop levels in afghanistan signed the new start arms control treaty with russia ordered us military involvement in libya and ordered the military operation that resulted in the death of osama bin laden in january 2011 the republicans regained control of the house of representatives as the democratic party lost a total of 63 seats and after a lengthy debate over federal spending and whether or not to raise the nations debt limit obama signed the budget control act of 2011 and the american taxpayer relief act of 2012obama was reelected president in november 2012 defeating republican nominee mitt romney and was sworn in for a second term on january 20 2013 during his second term obama has promoted domestic policies related to gun control in response to the sandy hook elementary school shooting and has called for full equality for lgbt americans while his administration has filed briefs which urged the supreme court to strike down the defense of marriage act of 1996 and californias proposition 8 as unconstitutional in foreign policy obama ordered us military involvement in iraq in response to gains made by the islamic state in iraq after the 2011 withdrawal from iraq continued the process of ending us combat operations in afghanistan and has sought to normalize us relations with cuba']\n"
     ]
    }
   ],
   "source": [
    "print(obama['text'])"
   ]
  },
  {
   "cell_type": "code",
   "execution_count": 44,
   "metadata": {},
   "outputs": [
    {
     "data": {
      "text/html": [
       "<div style=\"max-height:1000px;max-width:1500px;overflow:auto;\"><table frame=\"box\" rules=\"cols\">\n",
       "    <tr>\n",
       "        <th style=\"padding-left: 1em; padding-right: 1em; text-align: center\">URI</th>\n",
       "        <th style=\"padding-left: 1em; padding-right: 1em; text-align: center\">name</th>\n",
       "        <th style=\"padding-left: 1em; padding-right: 1em; text-align: center\">text</th>\n",
       "        <th style=\"padding-left: 1em; padding-right: 1em; text-align: center\">tfidf</th>\n",
       "        <th style=\"padding-left: 1em; padding-right: 1em; text-align: center\">word</th>\n",
       "    </tr>\n",
       "    <tr>\n",
       "        <td style=\"padding-left: 1em; padding-right: 1em; text-align: center; vertical-align: top\">&lt;http://dbpedia.org/resou<br>rce/Barack_Obama&gt; ...</td>\n",
       "        <td style=\"padding-left: 1em; padding-right: 1em; text-align: center; vertical-align: top\">Barack Obama</td>\n",
       "        <td style=\"padding-left: 1em; padding-right: 1em; text-align: center; vertical-align: top\">barack hussein obama ii<br>brk husen bm born august ...</td>\n",
       "        <td style=\"padding-left: 1em; padding-right: 1em; text-align: center; vertical-align: top\">{&#x27;normalize&#x27;:<br>10.293348208665249, ...</td>\n",
       "        <td style=\"padding-left: 1em; padding-right: 1em; text-align: center; vertical-align: top\">normalize</td>\n",
       "    </tr>\n",
       "    <tr>\n",
       "        <td style=\"padding-left: 1em; padding-right: 1em; text-align: center; vertical-align: top\">&lt;http://dbpedia.org/resou<br>rce/Barack_Obama&gt; ...</td>\n",
       "        <td style=\"padding-left: 1em; padding-right: 1em; text-align: center; vertical-align: top\">Barack Obama</td>\n",
       "        <td style=\"padding-left: 1em; padding-right: 1em; text-align: center; vertical-align: top\">barack hussein obama ii<br>brk husen bm born august ...</td>\n",
       "        <td style=\"padding-left: 1em; padding-right: 1em; text-align: center; vertical-align: top\">{&#x27;normalize&#x27;:<br>10.293348208665249, ...</td>\n",
       "        <td style=\"padding-left: 1em; padding-right: 1em; text-align: center; vertical-align: top\">sought</td>\n",
       "    </tr>\n",
       "    <tr>\n",
       "        <td style=\"padding-left: 1em; padding-right: 1em; text-align: center; vertical-align: top\">&lt;http://dbpedia.org/resou<br>rce/Barack_Obama&gt; ...</td>\n",
       "        <td style=\"padding-left: 1em; padding-right: 1em; text-align: center; vertical-align: top\">Barack Obama</td>\n",
       "        <td style=\"padding-left: 1em; padding-right: 1em; text-align: center; vertical-align: top\">barack hussein obama ii<br>brk husen bm born august ...</td>\n",
       "        <td style=\"padding-left: 1em; padding-right: 1em; text-align: center; vertical-align: top\">{&#x27;normalize&#x27;:<br>10.293348208665249, ...</td>\n",
       "        <td style=\"padding-left: 1em; padding-right: 1em; text-align: center; vertical-align: top\">combat</td>\n",
       "    </tr>\n",
       "    <tr>\n",
       "        <td style=\"padding-left: 1em; padding-right: 1em; text-align: center; vertical-align: top\">&lt;http://dbpedia.org/resou<br>rce/Barack_Obama&gt; ...</td>\n",
       "        <td style=\"padding-left: 1em; padding-right: 1em; text-align: center; vertical-align: top\">Barack Obama</td>\n",
       "        <td style=\"padding-left: 1em; padding-right: 1em; text-align: center; vertical-align: top\">barack hussein obama ii<br>brk husen bm born august ...</td>\n",
       "        <td style=\"padding-left: 1em; padding-right: 1em; text-align: center; vertical-align: top\">{&#x27;normalize&#x27;:<br>10.293348208665249, ...</td>\n",
       "        <td style=\"padding-left: 1em; padding-right: 1em; text-align: center; vertical-align: top\">continued</td>\n",
       "    </tr>\n",
       "    <tr>\n",
       "        <td style=\"padding-left: 1em; padding-right: 1em; text-align: center; vertical-align: top\">&lt;http://dbpedia.org/resou<br>rce/Barack_Obama&gt; ...</td>\n",
       "        <td style=\"padding-left: 1em; padding-right: 1em; text-align: center; vertical-align: top\">Barack Obama</td>\n",
       "        <td style=\"padding-left: 1em; padding-right: 1em; text-align: center; vertical-align: top\">barack hussein obama ii<br>brk husen bm born august ...</td>\n",
       "        <td style=\"padding-left: 1em; padding-right: 1em; text-align: center; vertical-align: top\">{&#x27;normalize&#x27;:<br>10.293348208665249, ...</td>\n",
       "        <td style=\"padding-left: 1em; padding-right: 1em; text-align: center; vertical-align: top\">unconstitutional</td>\n",
       "    </tr>\n",
       "    <tr>\n",
       "        <td style=\"padding-left: 1em; padding-right: 1em; text-align: center; vertical-align: top\">&lt;http://dbpedia.org/resou<br>rce/Barack_Obama&gt; ...</td>\n",
       "        <td style=\"padding-left: 1em; padding-right: 1em; text-align: center; vertical-align: top\">Barack Obama</td>\n",
       "        <td style=\"padding-left: 1em; padding-right: 1em; text-align: center; vertical-align: top\">barack hussein obama ii<br>brk husen bm born august ...</td>\n",
       "        <td style=\"padding-left: 1em; padding-right: 1em; text-align: center; vertical-align: top\">{&#x27;normalize&#x27;:<br>10.293348208665249, ...</td>\n",
       "        <td style=\"padding-left: 1em; padding-right: 1em; text-align: center; vertical-align: top\">8</td>\n",
       "    </tr>\n",
       "    <tr>\n",
       "        <td style=\"padding-left: 1em; padding-right: 1em; text-align: center; vertical-align: top\">&lt;http://dbpedia.org/resou<br>rce/Barack_Obama&gt; ...</td>\n",
       "        <td style=\"padding-left: 1em; padding-right: 1em; text-align: center; vertical-align: top\">Barack Obama</td>\n",
       "        <td style=\"padding-left: 1em; padding-right: 1em; text-align: center; vertical-align: top\">barack hussein obama ii<br>brk husen bm born august ...</td>\n",
       "        <td style=\"padding-left: 1em; padding-right: 1em; text-align: center; vertical-align: top\">{&#x27;normalize&#x27;:<br>10.293348208665249, ...</td>\n",
       "        <td style=\"padding-left: 1em; padding-right: 1em; text-align: center; vertical-align: top\">californias</td>\n",
       "    </tr>\n",
       "    <tr>\n",
       "        <td style=\"padding-left: 1em; padding-right: 1em; text-align: center; vertical-align: top\">&lt;http://dbpedia.org/resou<br>rce/Barack_Obama&gt; ...</td>\n",
       "        <td style=\"padding-left: 1em; padding-right: 1em; text-align: center; vertical-align: top\">Barack Obama</td>\n",
       "        <td style=\"padding-left: 1em; padding-right: 1em; text-align: center; vertical-align: top\">barack hussein obama ii<br>brk husen bm born august ...</td>\n",
       "        <td style=\"padding-left: 1em; padding-right: 1em; text-align: center; vertical-align: top\">{&#x27;normalize&#x27;:<br>10.293348208665249, ...</td>\n",
       "        <td style=\"padding-left: 1em; padding-right: 1em; text-align: center; vertical-align: top\">1996</td>\n",
       "    </tr>\n",
       "    <tr>\n",
       "        <td style=\"padding-left: 1em; padding-right: 1em; text-align: center; vertical-align: top\">&lt;http://dbpedia.org/resou<br>rce/Barack_Obama&gt; ...</td>\n",
       "        <td style=\"padding-left: 1em; padding-right: 1em; text-align: center; vertical-align: top\">Barack Obama</td>\n",
       "        <td style=\"padding-left: 1em; padding-right: 1em; text-align: center; vertical-align: top\">barack hussein obama ii<br>brk husen bm born august ...</td>\n",
       "        <td style=\"padding-left: 1em; padding-right: 1em; text-align: center; vertical-align: top\">{&#x27;normalize&#x27;:<br>10.293348208665249, ...</td>\n",
       "        <td style=\"padding-left: 1em; padding-right: 1em; text-align: center; vertical-align: top\">marriage</td>\n",
       "    </tr>\n",
       "    <tr>\n",
       "        <td style=\"padding-left: 1em; padding-right: 1em; text-align: center; vertical-align: top\">&lt;http://dbpedia.org/resou<br>rce/Barack_Obama&gt; ...</td>\n",
       "        <td style=\"padding-left: 1em; padding-right: 1em; text-align: center; vertical-align: top\">Barack Obama</td>\n",
       "        <td style=\"padding-left: 1em; padding-right: 1em; text-align: center; vertical-align: top\">barack hussein obama ii<br>brk husen bm born august ...</td>\n",
       "        <td style=\"padding-left: 1em; padding-right: 1em; text-align: center; vertical-align: top\">{&#x27;normalize&#x27;:<br>10.293348208665249, ...</td>\n",
       "        <td style=\"padding-left: 1em; padding-right: 1em; text-align: center; vertical-align: top\">defense</td>\n",
       "    </tr>\n",
       "</table>\n",
       "<table frame=\"box\" rules=\"cols\">\n",
       "    <tr>\n",
       "        <th style=\"padding-left: 1em; padding-right: 1em; text-align: center\">count</th>\n",
       "    </tr>\n",
       "    <tr>\n",
       "        <td style=\"padding-left: 1em; padding-right: 1em; text-align: center; vertical-align: top\">1.0</td>\n",
       "    </tr>\n",
       "    <tr>\n",
       "        <td style=\"padding-left: 1em; padding-right: 1em; text-align: center; vertical-align: top\">1.0</td>\n",
       "    </tr>\n",
       "    <tr>\n",
       "        <td style=\"padding-left: 1em; padding-right: 1em; text-align: center; vertical-align: top\">1.0</td>\n",
       "    </tr>\n",
       "    <tr>\n",
       "        <td style=\"padding-left: 1em; padding-right: 1em; text-align: center; vertical-align: top\">1.0</td>\n",
       "    </tr>\n",
       "    <tr>\n",
       "        <td style=\"padding-left: 1em; padding-right: 1em; text-align: center; vertical-align: top\">1.0</td>\n",
       "    </tr>\n",
       "    <tr>\n",
       "        <td style=\"padding-left: 1em; padding-right: 1em; text-align: center; vertical-align: top\">1.0</td>\n",
       "    </tr>\n",
       "    <tr>\n",
       "        <td style=\"padding-left: 1em; padding-right: 1em; text-align: center; vertical-align: top\">1.0</td>\n",
       "    </tr>\n",
       "    <tr>\n",
       "        <td style=\"padding-left: 1em; padding-right: 1em; text-align: center; vertical-align: top\">1.0</td>\n",
       "    </tr>\n",
       "    <tr>\n",
       "        <td style=\"padding-left: 1em; padding-right: 1em; text-align: center; vertical-align: top\">1.0</td>\n",
       "    </tr>\n",
       "    <tr>\n",
       "        <td style=\"padding-left: 1em; padding-right: 1em; text-align: center; vertical-align: top\">1.0</td>\n",
       "    </tr>\n",
       "</table>\n",
       "[273 rows x 6 columns]<br/>Note: Only the head of the SFrame is printed.<br/>You can use print_rows(num_rows=m, num_columns=n) to print more rows and columns.\n",
       "</div>"
      ],
      "text/plain": [
       "Columns:\n",
       "\tURI\tstr\n",
       "\tname\tstr\n",
       "\ttext\tstr\n",
       "\ttfidf\tdict\n",
       "\tword\tstr\n",
       "\tcount\tfloat\n",
       "\n",
       "Rows: 273\n",
       "\n",
       "Data:\n",
       "+-------------------------------+--------------+-------------------------------+\n",
       "|              URI              |     name     |              text             |\n",
       "+-------------------------------+--------------+-------------------------------+\n",
       "| <http://dbpedia.org/resour... | Barack Obama | barack hussein obama ii br... |\n",
       "| <http://dbpedia.org/resour... | Barack Obama | barack hussein obama ii br... |\n",
       "| <http://dbpedia.org/resour... | Barack Obama | barack hussein obama ii br... |\n",
       "| <http://dbpedia.org/resour... | Barack Obama | barack hussein obama ii br... |\n",
       "| <http://dbpedia.org/resour... | Barack Obama | barack hussein obama ii br... |\n",
       "| <http://dbpedia.org/resour... | Barack Obama | barack hussein obama ii br... |\n",
       "| <http://dbpedia.org/resour... | Barack Obama | barack hussein obama ii br... |\n",
       "| <http://dbpedia.org/resour... | Barack Obama | barack hussein obama ii br... |\n",
       "| <http://dbpedia.org/resour... | Barack Obama | barack hussein obama ii br... |\n",
       "| <http://dbpedia.org/resour... | Barack Obama | barack hussein obama ii br... |\n",
       "+-------------------------------+--------------+-------------------------------+\n",
       "+-------------------------------+------------------+-------+\n",
       "|             tfidf             |       word       | count |\n",
       "+-------------------------------+------------------+-------+\n",
       "| {'normalize': 10.293348208... |    normalize     |  1.0  |\n",
       "| {'normalize': 10.293348208... |      sought      |  1.0  |\n",
       "| {'normalize': 10.293348208... |      combat      |  1.0  |\n",
       "| {'normalize': 10.293348208... |    continued     |  1.0  |\n",
       "| {'normalize': 10.293348208... | unconstitutional |  1.0  |\n",
       "| {'normalize': 10.293348208... |        8         |  1.0  |\n",
       "| {'normalize': 10.293348208... |   californias    |  1.0  |\n",
       "| {'normalize': 10.293348208... |       1996       |  1.0  |\n",
       "| {'normalize': 10.293348208... |     marriage     |  1.0  |\n",
       "| {'normalize': 10.293348208... |     defense      |  1.0  |\n",
       "+-------------------------------+------------------+-------+\n",
       "[273 rows x 6 columns]\n",
       "Note: Only the head of the SFrame is printed.\n",
       "You can use print_rows(num_rows=m, num_columns=n) to print more rows and columns."
      ]
     },
     "execution_count": 44,
     "metadata": {},
     "output_type": "execute_result"
    }
   ],
   "source": [
    "obama.stack('word_count',new_column_name = ['word','count'])"
   ]
  },
  {
   "cell_type": "code",
   "execution_count": 45,
   "metadata": {},
   "outputs": [
    {
     "data": {
      "text/html": [
       "<div style=\"max-height:1000px;max-width:1500px;overflow:auto;\"><table frame=\"box\" rules=\"cols\">\n",
       "    <tr>\n",
       "        <th style=\"padding-left: 1em; padding-right: 1em; text-align: center\">URI</th>\n",
       "        <th style=\"padding-left: 1em; padding-right: 1em; text-align: center\">name</th>\n",
       "        <th style=\"padding-left: 1em; padding-right: 1em; text-align: center\">text</th>\n",
       "        <th style=\"padding-left: 1em; padding-right: 1em; text-align: center\">tfidf</th>\n",
       "        <th style=\"padding-left: 1em; padding-right: 1em; text-align: center\">word</th>\n",
       "    </tr>\n",
       "    <tr>\n",
       "        <td style=\"padding-left: 1em; padding-right: 1em; text-align: center; vertical-align: top\">&lt;http://dbpedia.org/resou<br>rce/Barack_Obama&gt; ...</td>\n",
       "        <td style=\"padding-left: 1em; padding-right: 1em; text-align: center; vertical-align: top\">Barack Obama</td>\n",
       "        <td style=\"padding-left: 1em; padding-right: 1em; text-align: center; vertical-align: top\">barack hussein obama ii<br>brk husen bm born august ...</td>\n",
       "        <td style=\"padding-left: 1em; padding-right: 1em; text-align: center; vertical-align: top\">{&#x27;normalize&#x27;:<br>10.293348208665249, ...</td>\n",
       "        <td style=\"padding-left: 1em; padding-right: 1em; text-align: center; vertical-align: top\">normalize</td>\n",
       "    </tr>\n",
       "    <tr>\n",
       "        <td style=\"padding-left: 1em; padding-right: 1em; text-align: center; vertical-align: top\">&lt;http://dbpedia.org/resou<br>rce/Barack_Obama&gt; ...</td>\n",
       "        <td style=\"padding-left: 1em; padding-right: 1em; text-align: center; vertical-align: top\">Barack Obama</td>\n",
       "        <td style=\"padding-left: 1em; padding-right: 1em; text-align: center; vertical-align: top\">barack hussein obama ii<br>brk husen bm born august ...</td>\n",
       "        <td style=\"padding-left: 1em; padding-right: 1em; text-align: center; vertical-align: top\">{&#x27;normalize&#x27;:<br>10.293348208665249, ...</td>\n",
       "        <td style=\"padding-left: 1em; padding-right: 1em; text-align: center; vertical-align: top\">sought</td>\n",
       "    </tr>\n",
       "    <tr>\n",
       "        <td style=\"padding-left: 1em; padding-right: 1em; text-align: center; vertical-align: top\">&lt;http://dbpedia.org/resou<br>rce/Barack_Obama&gt; ...</td>\n",
       "        <td style=\"padding-left: 1em; padding-right: 1em; text-align: center; vertical-align: top\">Barack Obama</td>\n",
       "        <td style=\"padding-left: 1em; padding-right: 1em; text-align: center; vertical-align: top\">barack hussein obama ii<br>brk husen bm born august ...</td>\n",
       "        <td style=\"padding-left: 1em; padding-right: 1em; text-align: center; vertical-align: top\">{&#x27;normalize&#x27;:<br>10.293348208665249, ...</td>\n",
       "        <td style=\"padding-left: 1em; padding-right: 1em; text-align: center; vertical-align: top\">combat</td>\n",
       "    </tr>\n",
       "    <tr>\n",
       "        <td style=\"padding-left: 1em; padding-right: 1em; text-align: center; vertical-align: top\">&lt;http://dbpedia.org/resou<br>rce/Barack_Obama&gt; ...</td>\n",
       "        <td style=\"padding-left: 1em; padding-right: 1em; text-align: center; vertical-align: top\">Barack Obama</td>\n",
       "        <td style=\"padding-left: 1em; padding-right: 1em; text-align: center; vertical-align: top\">barack hussein obama ii<br>brk husen bm born august ...</td>\n",
       "        <td style=\"padding-left: 1em; padding-right: 1em; text-align: center; vertical-align: top\">{&#x27;normalize&#x27;:<br>10.293348208665249, ...</td>\n",
       "        <td style=\"padding-left: 1em; padding-right: 1em; text-align: center; vertical-align: top\">continued</td>\n",
       "    </tr>\n",
       "    <tr>\n",
       "        <td style=\"padding-left: 1em; padding-right: 1em; text-align: center; vertical-align: top\">&lt;http://dbpedia.org/resou<br>rce/Barack_Obama&gt; ...</td>\n",
       "        <td style=\"padding-left: 1em; padding-right: 1em; text-align: center; vertical-align: top\">Barack Obama</td>\n",
       "        <td style=\"padding-left: 1em; padding-right: 1em; text-align: center; vertical-align: top\">barack hussein obama ii<br>brk husen bm born august ...</td>\n",
       "        <td style=\"padding-left: 1em; padding-right: 1em; text-align: center; vertical-align: top\">{&#x27;normalize&#x27;:<br>10.293348208665249, ...</td>\n",
       "        <td style=\"padding-left: 1em; padding-right: 1em; text-align: center; vertical-align: top\">unconstitutional</td>\n",
       "    </tr>\n",
       "    <tr>\n",
       "        <td style=\"padding-left: 1em; padding-right: 1em; text-align: center; vertical-align: top\">&lt;http://dbpedia.org/resou<br>rce/Barack_Obama&gt; ...</td>\n",
       "        <td style=\"padding-left: 1em; padding-right: 1em; text-align: center; vertical-align: top\">Barack Obama</td>\n",
       "        <td style=\"padding-left: 1em; padding-right: 1em; text-align: center; vertical-align: top\">barack hussein obama ii<br>brk husen bm born august ...</td>\n",
       "        <td style=\"padding-left: 1em; padding-right: 1em; text-align: center; vertical-align: top\">{&#x27;normalize&#x27;:<br>10.293348208665249, ...</td>\n",
       "        <td style=\"padding-left: 1em; padding-right: 1em; text-align: center; vertical-align: top\">8</td>\n",
       "    </tr>\n",
       "    <tr>\n",
       "        <td style=\"padding-left: 1em; padding-right: 1em; text-align: center; vertical-align: top\">&lt;http://dbpedia.org/resou<br>rce/Barack_Obama&gt; ...</td>\n",
       "        <td style=\"padding-left: 1em; padding-right: 1em; text-align: center; vertical-align: top\">Barack Obama</td>\n",
       "        <td style=\"padding-left: 1em; padding-right: 1em; text-align: center; vertical-align: top\">barack hussein obama ii<br>brk husen bm born august ...</td>\n",
       "        <td style=\"padding-left: 1em; padding-right: 1em; text-align: center; vertical-align: top\">{&#x27;normalize&#x27;:<br>10.293348208665249, ...</td>\n",
       "        <td style=\"padding-left: 1em; padding-right: 1em; text-align: center; vertical-align: top\">californias</td>\n",
       "    </tr>\n",
       "    <tr>\n",
       "        <td style=\"padding-left: 1em; padding-right: 1em; text-align: center; vertical-align: top\">&lt;http://dbpedia.org/resou<br>rce/Barack_Obama&gt; ...</td>\n",
       "        <td style=\"padding-left: 1em; padding-right: 1em; text-align: center; vertical-align: top\">Barack Obama</td>\n",
       "        <td style=\"padding-left: 1em; padding-right: 1em; text-align: center; vertical-align: top\">barack hussein obama ii<br>brk husen bm born august ...</td>\n",
       "        <td style=\"padding-left: 1em; padding-right: 1em; text-align: center; vertical-align: top\">{&#x27;normalize&#x27;:<br>10.293348208665249, ...</td>\n",
       "        <td style=\"padding-left: 1em; padding-right: 1em; text-align: center; vertical-align: top\">1996</td>\n",
       "    </tr>\n",
       "    <tr>\n",
       "        <td style=\"padding-left: 1em; padding-right: 1em; text-align: center; vertical-align: top\">&lt;http://dbpedia.org/resou<br>rce/Barack_Obama&gt; ...</td>\n",
       "        <td style=\"padding-left: 1em; padding-right: 1em; text-align: center; vertical-align: top\">Barack Obama</td>\n",
       "        <td style=\"padding-left: 1em; padding-right: 1em; text-align: center; vertical-align: top\">barack hussein obama ii<br>brk husen bm born august ...</td>\n",
       "        <td style=\"padding-left: 1em; padding-right: 1em; text-align: center; vertical-align: top\">{&#x27;normalize&#x27;:<br>10.293348208665249, ...</td>\n",
       "        <td style=\"padding-left: 1em; padding-right: 1em; text-align: center; vertical-align: top\">marriage</td>\n",
       "    </tr>\n",
       "    <tr>\n",
       "        <td style=\"padding-left: 1em; padding-right: 1em; text-align: center; vertical-align: top\">&lt;http://dbpedia.org/resou<br>rce/Barack_Obama&gt; ...</td>\n",
       "        <td style=\"padding-left: 1em; padding-right: 1em; text-align: center; vertical-align: top\">Barack Obama</td>\n",
       "        <td style=\"padding-left: 1em; padding-right: 1em; text-align: center; vertical-align: top\">barack hussein obama ii<br>brk husen bm born august ...</td>\n",
       "        <td style=\"padding-left: 1em; padding-right: 1em; text-align: center; vertical-align: top\">{&#x27;normalize&#x27;:<br>10.293348208665249, ...</td>\n",
       "        <td style=\"padding-left: 1em; padding-right: 1em; text-align: center; vertical-align: top\">defense</td>\n",
       "    </tr>\n",
       "</table>\n",
       "<table frame=\"box\" rules=\"cols\">\n",
       "    <tr>\n",
       "        <th style=\"padding-left: 1em; padding-right: 1em; text-align: center\">count</th>\n",
       "    </tr>\n",
       "    <tr>\n",
       "        <td style=\"padding-left: 1em; padding-right: 1em; text-align: center; vertical-align: top\">1.0</td>\n",
       "    </tr>\n",
       "    <tr>\n",
       "        <td style=\"padding-left: 1em; padding-right: 1em; text-align: center; vertical-align: top\">1.0</td>\n",
       "    </tr>\n",
       "    <tr>\n",
       "        <td style=\"padding-left: 1em; padding-right: 1em; text-align: center; vertical-align: top\">1.0</td>\n",
       "    </tr>\n",
       "    <tr>\n",
       "        <td style=\"padding-left: 1em; padding-right: 1em; text-align: center; vertical-align: top\">1.0</td>\n",
       "    </tr>\n",
       "    <tr>\n",
       "        <td style=\"padding-left: 1em; padding-right: 1em; text-align: center; vertical-align: top\">1.0</td>\n",
       "    </tr>\n",
       "    <tr>\n",
       "        <td style=\"padding-left: 1em; padding-right: 1em; text-align: center; vertical-align: top\">1.0</td>\n",
       "    </tr>\n",
       "    <tr>\n",
       "        <td style=\"padding-left: 1em; padding-right: 1em; text-align: center; vertical-align: top\">1.0</td>\n",
       "    </tr>\n",
       "    <tr>\n",
       "        <td style=\"padding-left: 1em; padding-right: 1em; text-align: center; vertical-align: top\">1.0</td>\n",
       "    </tr>\n",
       "    <tr>\n",
       "        <td style=\"padding-left: 1em; padding-right: 1em; text-align: center; vertical-align: top\">1.0</td>\n",
       "    </tr>\n",
       "    <tr>\n",
       "        <td style=\"padding-left: 1em; padding-right: 1em; text-align: center; vertical-align: top\">1.0</td>\n",
       "    </tr>\n",
       "</table>\n",
       "[273 rows x 6 columns]<br/>Note: Only the head of the SFrame is printed.<br/>You can use print_rows(num_rows=m, num_columns=n) to print more rows and columns.\n",
       "</div>"
      ],
      "text/plain": [
       "Columns:\n",
       "\tURI\tstr\n",
       "\tname\tstr\n",
       "\ttext\tstr\n",
       "\ttfidf\tdict\n",
       "\tword\tstr\n",
       "\tcount\tfloat\n",
       "\n",
       "Rows: 273\n",
       "\n",
       "Data:\n",
       "+-------------------------------+--------------+-------------------------------+\n",
       "|              URI              |     name     |              text             |\n",
       "+-------------------------------+--------------+-------------------------------+\n",
       "| <http://dbpedia.org/resour... | Barack Obama | barack hussein obama ii br... |\n",
       "| <http://dbpedia.org/resour... | Barack Obama | barack hussein obama ii br... |\n",
       "| <http://dbpedia.org/resour... | Barack Obama | barack hussein obama ii br... |\n",
       "| <http://dbpedia.org/resour... | Barack Obama | barack hussein obama ii br... |\n",
       "| <http://dbpedia.org/resour... | Barack Obama | barack hussein obama ii br... |\n",
       "| <http://dbpedia.org/resour... | Barack Obama | barack hussein obama ii br... |\n",
       "| <http://dbpedia.org/resour... | Barack Obama | barack hussein obama ii br... |\n",
       "| <http://dbpedia.org/resour... | Barack Obama | barack hussein obama ii br... |\n",
       "| <http://dbpedia.org/resour... | Barack Obama | barack hussein obama ii br... |\n",
       "| <http://dbpedia.org/resour... | Barack Obama | barack hussein obama ii br... |\n",
       "+-------------------------------+--------------+-------------------------------+\n",
       "+-------------------------------+------------------+-------+\n",
       "|             tfidf             |       word       | count |\n",
       "+-------------------------------+------------------+-------+\n",
       "| {'normalize': 10.293348208... |    normalize     |  1.0  |\n",
       "| {'normalize': 10.293348208... |      sought      |  1.0  |\n",
       "| {'normalize': 10.293348208... |      combat      |  1.0  |\n",
       "| {'normalize': 10.293348208... |    continued     |  1.0  |\n",
       "| {'normalize': 10.293348208... | unconstitutional |  1.0  |\n",
       "| {'normalize': 10.293348208... |        8         |  1.0  |\n",
       "| {'normalize': 10.293348208... |   californias    |  1.0  |\n",
       "| {'normalize': 10.293348208... |       1996       |  1.0  |\n",
       "| {'normalize': 10.293348208... |     marriage     |  1.0  |\n",
       "| {'normalize': 10.293348208... |     defense      |  1.0  |\n",
       "+-------------------------------+------------------+-------+\n",
       "[273 rows x 6 columns]\n",
       "Note: Only the head of the SFrame is printed.\n",
       "You can use print_rows(num_rows=m, num_columns=n) to print more rows and columns."
      ]
     },
     "execution_count": 45,
     "metadata": {},
     "output_type": "execute_result"
    }
   ],
   "source": [
    "obama.stack('word_count',new_column_name = ['word','count'])"
   ]
  },
  {
   "cell_type": "code",
   "execution_count": 46,
   "metadata": {},
   "outputs": [],
   "source": [
    "obama_word_count_table = obama[['word_count']].stack('word_count', new_column_name =['word','count'])"
   ]
  },
  {
   "cell_type": "code",
   "execution_count": 18,
   "metadata": {},
   "outputs": [
    {
     "data": {
      "text/html": [
       "<div style=\"max-height:1000px;max-width:1500px;overflow:auto;\"><table frame=\"box\" rules=\"cols\">\n",
       "    <tr>\n",
       "        <th style=\"padding-left: 1em; padding-right: 1em; text-align: center\">word</th>\n",
       "        <th style=\"padding-left: 1em; padding-right: 1em; text-align: center\">count</th>\n",
       "    </tr>\n",
       "    <tr>\n",
       "        <td style=\"padding-left: 1em; padding-right: 1em; text-align: center; vertical-align: top\">normalize</td>\n",
       "        <td style=\"padding-left: 1em; padding-right: 1em; text-align: center; vertical-align: top\">1.0</td>\n",
       "    </tr>\n",
       "    <tr>\n",
       "        <td style=\"padding-left: 1em; padding-right: 1em; text-align: center; vertical-align: top\">sought</td>\n",
       "        <td style=\"padding-left: 1em; padding-right: 1em; text-align: center; vertical-align: top\">1.0</td>\n",
       "    </tr>\n",
       "    <tr>\n",
       "        <td style=\"padding-left: 1em; padding-right: 1em; text-align: center; vertical-align: top\">combat</td>\n",
       "        <td style=\"padding-left: 1em; padding-right: 1em; text-align: center; vertical-align: top\">1.0</td>\n",
       "    </tr>\n",
       "    <tr>\n",
       "        <td style=\"padding-left: 1em; padding-right: 1em; text-align: center; vertical-align: top\">continued</td>\n",
       "        <td style=\"padding-left: 1em; padding-right: 1em; text-align: center; vertical-align: top\">1.0</td>\n",
       "    </tr>\n",
       "    <tr>\n",
       "        <td style=\"padding-left: 1em; padding-right: 1em; text-align: center; vertical-align: top\">unconstitutional</td>\n",
       "        <td style=\"padding-left: 1em; padding-right: 1em; text-align: center; vertical-align: top\">1.0</td>\n",
       "    </tr>\n",
       "    <tr>\n",
       "        <td style=\"padding-left: 1em; padding-right: 1em; text-align: center; vertical-align: top\">8</td>\n",
       "        <td style=\"padding-left: 1em; padding-right: 1em; text-align: center; vertical-align: top\">1.0</td>\n",
       "    </tr>\n",
       "    <tr>\n",
       "        <td style=\"padding-left: 1em; padding-right: 1em; text-align: center; vertical-align: top\">californias</td>\n",
       "        <td style=\"padding-left: 1em; padding-right: 1em; text-align: center; vertical-align: top\">1.0</td>\n",
       "    </tr>\n",
       "    <tr>\n",
       "        <td style=\"padding-left: 1em; padding-right: 1em; text-align: center; vertical-align: top\">1996</td>\n",
       "        <td style=\"padding-left: 1em; padding-right: 1em; text-align: center; vertical-align: top\">1.0</td>\n",
       "    </tr>\n",
       "    <tr>\n",
       "        <td style=\"padding-left: 1em; padding-right: 1em; text-align: center; vertical-align: top\">marriage</td>\n",
       "        <td style=\"padding-left: 1em; padding-right: 1em; text-align: center; vertical-align: top\">1.0</td>\n",
       "    </tr>\n",
       "    <tr>\n",
       "        <td style=\"padding-left: 1em; padding-right: 1em; text-align: center; vertical-align: top\">defense</td>\n",
       "        <td style=\"padding-left: 1em; padding-right: 1em; text-align: center; vertical-align: top\">1.0</td>\n",
       "    </tr>\n",
       "</table>\n",
       "[273 rows x 2 columns]<br/>Note: Only the head of the SFrame is printed.<br/>You can use print_rows(num_rows=m, num_columns=n) to print more rows and columns.\n",
       "</div>"
      ],
      "text/plain": [
       "Columns:\n",
       "\tword\tstr\n",
       "\tcount\tfloat\n",
       "\n",
       "Rows: 273\n",
       "\n",
       "Data:\n",
       "+------------------+-------+\n",
       "|       word       | count |\n",
       "+------------------+-------+\n",
       "|    normalize     |  1.0  |\n",
       "|      sought      |  1.0  |\n",
       "|      combat      |  1.0  |\n",
       "|    continued     |  1.0  |\n",
       "| unconstitutional |  1.0  |\n",
       "|        8         |  1.0  |\n",
       "|   californias    |  1.0  |\n",
       "|       1996       |  1.0  |\n",
       "|     marriage     |  1.0  |\n",
       "|     defense      |  1.0  |\n",
       "+------------------+-------+\n",
       "[273 rows x 2 columns]\n",
       "Note: Only the head of the SFrame is printed.\n",
       "You can use print_rows(num_rows=m, num_columns=n) to print more rows and columns."
      ]
     },
     "execution_count": 18,
     "metadata": {},
     "output_type": "execute_result"
    }
   ],
   "source": [
    "obama_word_count_table"
   ]
  },
  {
   "cell_type": "code",
   "execution_count": 20,
   "metadata": {},
   "outputs": [
    {
     "data": {
      "text/html": [
       "<div style=\"max-height:1000px;max-width:1500px;overflow:auto;\"><table frame=\"box\" rules=\"cols\">\n",
       "    <tr>\n",
       "        <th style=\"padding-left: 1em; padding-right: 1em; text-align: center\">word</th>\n",
       "        <th style=\"padding-left: 1em; padding-right: 1em; text-align: center\">count</th>\n",
       "    </tr>\n",
       "    <tr>\n",
       "        <td style=\"padding-left: 1em; padding-right: 1em; text-align: center; vertical-align: top\">normalize</td>\n",
       "        <td style=\"padding-left: 1em; padding-right: 1em; text-align: center; vertical-align: top\">1.0</td>\n",
       "    </tr>\n",
       "    <tr>\n",
       "        <td style=\"padding-left: 1em; padding-right: 1em; text-align: center; vertical-align: top\">sought</td>\n",
       "        <td style=\"padding-left: 1em; padding-right: 1em; text-align: center; vertical-align: top\">1.0</td>\n",
       "    </tr>\n",
       "    <tr>\n",
       "        <td style=\"padding-left: 1em; padding-right: 1em; text-align: center; vertical-align: top\">combat</td>\n",
       "        <td style=\"padding-left: 1em; padding-right: 1em; text-align: center; vertical-align: top\">1.0</td>\n",
       "    </tr>\n",
       "    <tr>\n",
       "        <td style=\"padding-left: 1em; padding-right: 1em; text-align: center; vertical-align: top\">continued</td>\n",
       "        <td style=\"padding-left: 1em; padding-right: 1em; text-align: center; vertical-align: top\">1.0</td>\n",
       "    </tr>\n",
       "    <tr>\n",
       "        <td style=\"padding-left: 1em; padding-right: 1em; text-align: center; vertical-align: top\">unconstitutional</td>\n",
       "        <td style=\"padding-left: 1em; padding-right: 1em; text-align: center; vertical-align: top\">1.0</td>\n",
       "    </tr>\n",
       "    <tr>\n",
       "        <td style=\"padding-left: 1em; padding-right: 1em; text-align: center; vertical-align: top\">8</td>\n",
       "        <td style=\"padding-left: 1em; padding-right: 1em; text-align: center; vertical-align: top\">1.0</td>\n",
       "    </tr>\n",
       "    <tr>\n",
       "        <td style=\"padding-left: 1em; padding-right: 1em; text-align: center; vertical-align: top\">californias</td>\n",
       "        <td style=\"padding-left: 1em; padding-right: 1em; text-align: center; vertical-align: top\">1.0</td>\n",
       "    </tr>\n",
       "    <tr>\n",
       "        <td style=\"padding-left: 1em; padding-right: 1em; text-align: center; vertical-align: top\">1996</td>\n",
       "        <td style=\"padding-left: 1em; padding-right: 1em; text-align: center; vertical-align: top\">1.0</td>\n",
       "    </tr>\n",
       "    <tr>\n",
       "        <td style=\"padding-left: 1em; padding-right: 1em; text-align: center; vertical-align: top\">marriage</td>\n",
       "        <td style=\"padding-left: 1em; padding-right: 1em; text-align: center; vertical-align: top\">1.0</td>\n",
       "    </tr>\n",
       "    <tr>\n",
       "        <td style=\"padding-left: 1em; padding-right: 1em; text-align: center; vertical-align: top\">defense</td>\n",
       "        <td style=\"padding-left: 1em; padding-right: 1em; text-align: center; vertical-align: top\">1.0</td>\n",
       "    </tr>\n",
       "</table>\n",
       "[10 rows x 2 columns]<br/>\n",
       "</div>"
      ],
      "text/plain": [
       "Columns:\n",
       "\tword\tstr\n",
       "\tcount\tfloat\n",
       "\n",
       "Rows: 10\n",
       "\n",
       "Data:\n",
       "+------------------+-------+\n",
       "|       word       | count |\n",
       "+------------------+-------+\n",
       "|    normalize     |  1.0  |\n",
       "|      sought      |  1.0  |\n",
       "|      combat      |  1.0  |\n",
       "|    continued     |  1.0  |\n",
       "| unconstitutional |  1.0  |\n",
       "|        8         |  1.0  |\n",
       "|   californias    |  1.0  |\n",
       "|       1996       |  1.0  |\n",
       "|     marriage     |  1.0  |\n",
       "|     defense      |  1.0  |\n",
       "+------------------+-------+\n",
       "[10 rows x 2 columns]"
      ]
     },
     "execution_count": 20,
     "metadata": {},
     "output_type": "execute_result"
    }
   ],
   "source": [
    "obama_word_count_table.head()"
   ]
  },
  {
   "cell_type": "code",
   "execution_count": 47,
   "metadata": {},
   "outputs": [],
   "source": [
    "clooney['word_count'] = turicreate.text_analytics.count_words(clooney['text'])"
   ]
  },
  {
   "cell_type": "code",
   "execution_count": 48,
   "metadata": {},
   "outputs": [
    {
     "data": {
      "text/html": [
       "<div style=\"max-height:1000px;max-width:1500px;overflow:auto;\"><table frame=\"box\" rules=\"cols\">\n",
       "    <tr>\n",
       "        <th style=\"padding-left: 1em; padding-right: 1em; text-align: center\">URI</th>\n",
       "        <th style=\"padding-left: 1em; padding-right: 1em; text-align: center\">name</th>\n",
       "        <th style=\"padding-left: 1em; padding-right: 1em; text-align: center\">text</th>\n",
       "        <th style=\"padding-left: 1em; padding-right: 1em; text-align: center\">tfidf</th>\n",
       "        <th style=\"padding-left: 1em; padding-right: 1em; text-align: center\">word</th>\n",
       "        <th style=\"padding-left: 1em; padding-right: 1em; text-align: center\">count</th>\n",
       "    </tr>\n",
       "    <tr>\n",
       "        <td style=\"padding-left: 1em; padding-right: 1em; text-align: center; vertical-align: top\">&lt;http://dbpedia.org/resou<br>rce/George_Clooney&gt; ...</td>\n",
       "        <td style=\"padding-left: 1em; padding-right: 1em; text-align: center; vertical-align: top\">George Clooney</td>\n",
       "        <td style=\"padding-left: 1em; padding-right: 1em; text-align: center; vertical-align: top\">george timothy clooney<br>born may 6 1961 is an ...</td>\n",
       "        <td style=\"padding-left: 1em; padding-right: 1em; text-align: center; vertical-align: top\">{&#x27;council&#x27;:<br>2.3398541306220704, ...</td>\n",
       "        <td style=\"padding-left: 1em; padding-right: 1em; text-align: center; vertical-align: top\">council</td>\n",
       "        <td style=\"padding-left: 1em; padding-right: 1em; text-align: center; vertical-align: top\">1.0</td>\n",
       "    </tr>\n",
       "    <tr>\n",
       "        <td style=\"padding-left: 1em; padding-right: 1em; text-align: center; vertical-align: top\">&lt;http://dbpedia.org/resou<br>rce/George_Clooney&gt; ...</td>\n",
       "        <td style=\"padding-left: 1em; padding-right: 1em; text-align: center; vertical-align: top\">George Clooney</td>\n",
       "        <td style=\"padding-left: 1em; padding-right: 1em; text-align: center; vertical-align: top\">george timothy clooney<br>born may 6 1961 is an ...</td>\n",
       "        <td style=\"padding-left: 1em; padding-right: 1em; text-align: center; vertical-align: top\">{&#x27;council&#x27;:<br>2.3398541306220704, ...</td>\n",
       "        <td style=\"padding-left: 1em; padding-right: 1em; text-align: center; vertical-align: top\">member</td>\n",
       "        <td style=\"padding-left: 1em; padding-right: 1em; text-align: center; vertical-align: top\">1.0</td>\n",
       "    </tr>\n",
       "    <tr>\n",
       "        <td style=\"padding-left: 1em; padding-right: 1em; text-align: center; vertical-align: top\">&lt;http://dbpedia.org/resou<br>rce/George_Clooney&gt; ...</td>\n",
       "        <td style=\"padding-left: 1em; padding-right: 1em; text-align: center; vertical-align: top\">George Clooney</td>\n",
       "        <td style=\"padding-left: 1em; padding-right: 1em; text-align: center; vertical-align: top\">george timothy clooney<br>born may 6 1961 is an ...</td>\n",
       "        <td style=\"padding-left: 1em; padding-right: 1em; text-align: center; vertical-align: top\">{&#x27;council&#x27;:<br>2.3398541306220704, ...</td>\n",
       "        <td style=\"padding-left: 1em; padding-right: 1em; text-align: center; vertical-align: top\">crises</td>\n",
       "        <td style=\"padding-left: 1em; padding-right: 1em; text-align: center; vertical-align: top\">1.0</td>\n",
       "    </tr>\n",
       "    <tr>\n",
       "        <td style=\"padding-left: 1em; padding-right: 1em; text-align: center; vertical-align: top\">&lt;http://dbpedia.org/resou<br>rce/George_Clooney&gt; ...</td>\n",
       "        <td style=\"padding-left: 1em; padding-right: 1em; text-align: center; vertical-align: top\">George Clooney</td>\n",
       "        <td style=\"padding-left: 1em; padding-right: 1em; text-align: center; vertical-align: top\">george timothy clooney<br>born may 6 1961 is an ...</td>\n",
       "        <td style=\"padding-left: 1em; padding-right: 1em; text-align: center; vertical-align: top\">{&#x27;council&#x27;:<br>2.3398541306220704, ...</td>\n",
       "        <td style=\"padding-left: 1em; padding-right: 1em; text-align: center; vertical-align: top\">international</td>\n",
       "        <td style=\"padding-left: 1em; padding-right: 1em; text-align: center; vertical-align: top\">1.0</td>\n",
       "    </tr>\n",
       "    <tr>\n",
       "        <td style=\"padding-left: 1em; padding-right: 1em; text-align: center; vertical-align: top\">&lt;http://dbpedia.org/resou<br>rce/George_Clooney&gt; ...</td>\n",
       "        <td style=\"padding-left: 1em; padding-right: 1em; text-align: center; vertical-align: top\">George Clooney</td>\n",
       "        <td style=\"padding-left: 1em; padding-right: 1em; text-align: center; vertical-align: top\">george timothy clooney<br>born may 6 1961 is an ...</td>\n",
       "        <td style=\"padding-left: 1em; padding-right: 1em; text-align: center; vertical-align: top\">{&#x27;council&#x27;:<br>2.3398541306220704, ...</td>\n",
       "        <td style=\"padding-left: 1em; padding-right: 1em; text-align: center; vertical-align: top\">about</td>\n",
       "        <td style=\"padding-left: 1em; padding-right: 1em; text-align: center; vertical-align: top\">1.0</td>\n",
       "    </tr>\n",
       "    <tr>\n",
       "        <td style=\"padding-left: 1em; padding-right: 1em; text-align: center; vertical-align: top\">&lt;http://dbpedia.org/resou<br>rce/George_Clooney&gt; ...</td>\n",
       "        <td style=\"padding-left: 1em; padding-right: 1em; text-align: center; vertical-align: top\">George Clooney</td>\n",
       "        <td style=\"padding-left: 1em; padding-right: 1em; text-align: center; vertical-align: top\">george timothy clooney<br>born may 6 1961 is an ...</td>\n",
       "        <td style=\"padding-left: 1em; padding-right: 1em; text-align: center; vertical-align: top\">{&#x27;council&#x27;:<br>2.3398541306220704, ...</td>\n",
       "        <td style=\"padding-left: 1em; padding-right: 1em; text-align: center; vertical-align: top\">raise</td>\n",
       "        <td style=\"padding-left: 1em; padding-right: 1em; text-align: center; vertical-align: top\">1.0</td>\n",
       "    </tr>\n",
       "    <tr>\n",
       "        <td style=\"padding-left: 1em; padding-right: 1em; text-align: center; vertical-align: top\">&lt;http://dbpedia.org/resou<br>rce/George_Clooney&gt; ...</td>\n",
       "        <td style=\"padding-left: 1em; padding-right: 1em; text-align: center; vertical-align: top\">George Clooney</td>\n",
       "        <td style=\"padding-left: 1em; padding-right: 1em; text-align: center; vertical-align: top\">george timothy clooney<br>born may 6 1961 is an ...</td>\n",
       "        <td style=\"padding-left: 1em; padding-right: 1em; text-align: center; vertical-align: top\">{&#x27;council&#x27;:<br>2.3398541306220704, ...</td>\n",
       "        <td style=\"padding-left: 1em; padding-right: 1em; text-align: center; vertical-align: top\">such</td>\n",
       "        <td style=\"padding-left: 1em; padding-right: 1em; text-align: center; vertical-align: top\">1.0</td>\n",
       "    </tr>\n",
       "    <tr>\n",
       "        <td style=\"padding-left: 1em; padding-right: 1em; text-align: center; vertical-align: top\">&lt;http://dbpedia.org/resou<br>rce/George_Clooney&gt; ...</td>\n",
       "        <td style=\"padding-left: 1em; padding-right: 1em; text-align: center; vertical-align: top\">George Clooney</td>\n",
       "        <td style=\"padding-left: 1em; padding-right: 1em; text-align: center; vertical-align: top\">george timothy clooney<br>born may 6 1961 is an ...</td>\n",
       "        <td style=\"padding-left: 1em; padding-right: 1em; text-align: center; vertical-align: top\">{&#x27;council&#x27;:<br>2.3398541306220704, ...</td>\n",
       "        <td style=\"padding-left: 1em; padding-right: 1em; text-align: center; vertical-align: top\">creating</td>\n",
       "        <td style=\"padding-left: 1em; padding-right: 1em; text-align: center; vertical-align: top\">1.0</td>\n",
       "    </tr>\n",
       "    <tr>\n",
       "        <td style=\"padding-left: 1em; padding-right: 1em; text-align: center; vertical-align: top\">&lt;http://dbpedia.org/resou<br>rce/George_Clooney&gt; ...</td>\n",
       "        <td style=\"padding-left: 1em; padding-right: 1em; text-align: center; vertical-align: top\">George Clooney</td>\n",
       "        <td style=\"padding-left: 1em; padding-right: 1em; text-align: center; vertical-align: top\">george timothy clooney<br>born may 6 1961 is an ...</td>\n",
       "        <td style=\"padding-left: 1em; padding-right: 1em; text-align: center; vertical-align: top\">{&#x27;council&#x27;:<br>2.3398541306220704, ...</td>\n",
       "        <td style=\"padding-left: 1em; padding-right: 1em; text-align: center; vertical-align: top\">victims</td>\n",
       "        <td style=\"padding-left: 1em; padding-right: 1em; text-align: center; vertical-align: top\">1.0</td>\n",
       "    </tr>\n",
       "    <tr>\n",
       "        <td style=\"padding-left: 1em; padding-right: 1em; text-align: center; vertical-align: top\">&lt;http://dbpedia.org/resou<br>rce/George_Clooney&gt; ...</td>\n",
       "        <td style=\"padding-left: 1em; padding-right: 1em; text-align: center; vertical-align: top\">George Clooney</td>\n",
       "        <td style=\"padding-left: 1em; padding-right: 1em; text-align: center; vertical-align: top\">george timothy clooney<br>born may 6 1961 is an ...</td>\n",
       "        <td style=\"padding-left: 1em; padding-right: 1em; text-align: center; vertical-align: top\">{&#x27;council&#x27;:<br>2.3398541306220704, ...</td>\n",
       "        <td style=\"padding-left: 1em; padding-right: 1em; text-align: center; vertical-align: top\">911</td>\n",
       "        <td style=\"padding-left: 1em; padding-right: 1em; text-align: center; vertical-align: top\">1.0</td>\n",
       "    </tr>\n",
       "</table>\n",
       "[239 rows x 6 columns]<br/>Note: Only the head of the SFrame is printed.<br/>You can use print_rows(num_rows=m, num_columns=n) to print more rows and columns.\n",
       "</div>"
      ],
      "text/plain": [
       "Columns:\n",
       "\tURI\tstr\n",
       "\tname\tstr\n",
       "\ttext\tstr\n",
       "\ttfidf\tdict\n",
       "\tword\tstr\n",
       "\tcount\tfloat\n",
       "\n",
       "Rows: 239\n",
       "\n",
       "Data:\n",
       "+-------------------------------+----------------+\n",
       "|              URI              |      name      |\n",
       "+-------------------------------+----------------+\n",
       "| <http://dbpedia.org/resour... | George Clooney |\n",
       "| <http://dbpedia.org/resour... | George Clooney |\n",
       "| <http://dbpedia.org/resour... | George Clooney |\n",
       "| <http://dbpedia.org/resour... | George Clooney |\n",
       "| <http://dbpedia.org/resour... | George Clooney |\n",
       "| <http://dbpedia.org/resour... | George Clooney |\n",
       "| <http://dbpedia.org/resour... | George Clooney |\n",
       "| <http://dbpedia.org/resour... | George Clooney |\n",
       "| <http://dbpedia.org/resour... | George Clooney |\n",
       "| <http://dbpedia.org/resour... | George Clooney |\n",
       "+-------------------------------+----------------+\n",
       "+-------------------------------+-------------------------------+---------------+\n",
       "|              text             |             tfidf             |      word     |\n",
       "+-------------------------------+-------------------------------+---------------+\n",
       "| george timothy clooney bor... | {'council': 2.339854130622... |    council    |\n",
       "| george timothy clooney bor... | {'council': 2.339854130622... |     member    |\n",
       "| george timothy clooney bor... | {'council': 2.339854130622... |     crises    |\n",
       "| george timothy clooney bor... | {'council': 2.339854130622... | international |\n",
       "| george timothy clooney bor... | {'council': 2.339854130622... |     about     |\n",
       "| george timothy clooney bor... | {'council': 2.339854130622... |     raise     |\n",
       "| george timothy clooney bor... | {'council': 2.339854130622... |      such     |\n",
       "| george timothy clooney bor... | {'council': 2.339854130622... |    creating   |\n",
       "| george timothy clooney bor... | {'council': 2.339854130622... |    victims    |\n",
       "| george timothy clooney bor... | {'council': 2.339854130622... |      911      |\n",
       "+-------------------------------+-------------------------------+---------------+\n",
       "+-------+\n",
       "| count |\n",
       "+-------+\n",
       "|  1.0  |\n",
       "|  1.0  |\n",
       "|  1.0  |\n",
       "|  1.0  |\n",
       "|  1.0  |\n",
       "|  1.0  |\n",
       "|  1.0  |\n",
       "|  1.0  |\n",
       "|  1.0  |\n",
       "|  1.0  |\n",
       "+-------+\n",
       "[239 rows x 6 columns]\n",
       "Note: Only the head of the SFrame is printed.\n",
       "You can use print_rows(num_rows=m, num_columns=n) to print more rows and columns."
      ]
     },
     "execution_count": 48,
     "metadata": {},
     "output_type": "execute_result"
    }
   ],
   "source": [
    "clooney.stack('word_count',new_column_name = ['word','count'])"
   ]
  },
  {
   "cell_type": "code",
   "execution_count": 25,
   "metadata": {},
   "outputs": [
    {
     "data": {
      "text/plain": [
       "dtype: dict\n",
       "Rows: 59071\n",
       "[{'melbourne': 1.0, 'parade': 1.0, 'education': 1.0, 'physical': 1.0, 'teaches': 1.0, 'currently': 1.0, 'also': 1.0, 'coburg': 1.0, 'has': 1.0, '2014': 1.0, 'since': 1.0, 'premiership': 1.0, 'division': 1.0, '2011': 1.0, 'edflhe': 1.0, 'district': 1.0, '2013': 1.0, 'until': 1.0, '2009': 1.0, 'from': 2.0, 'retiring': 1.0, 'hill': 1.0, 'coached': 1.0, 'box': 1.0, 'strathmore': 1.0, '2008': 1.0, '2007': 1.0, 'assistant': 1.0, 'hawks': 1.0, '2006': 1.0, 'vflaffiliate': 1.0, 'acted': 1.0, 'carltons': 1.0, 'bullants': 1.0, 'northern': 1.0, 'vfl': 1.0, '21': 1.0, 'rookie': 1.0, 'western': 1.0, 'who': 1.0, 'goalkicker': 1.0, 'senior': 3.0, 'leading': 2.0, '2001': 1.0, 'falcons': 1.0, '44game': 1.0, 'kicked': 1.0, 'age': 1.0, 'in': 13.0, 'early': 1.0, 'his': 3.0, 'afl': 1.0, 'at': 4.0, 'is': 1.0, '32': 1.0, 'for': 4.0, '10': 1.0, 'being': 1.0, 'he': 6.0, 'with': 5.0, 'a': 4.0, 'losing': 1.0, 'october': 1.0, 'played': 3.0, 'aflfrom': 1.0, 'brisbaneafter': 1.0, 'australian': 3.0, 'kangaroos': 3.0, 'premier': 1.0, '2000': 1.0, 'west': 2.0, '1979': 1.0, 'morrell': 5.0, 'sydney': 1.0, 'digby': 1.0, 'clubs': 1.0, 'five': 1.0, 'before': 2.0, 'continued': 1.0, 'of': 4.0, 'the': 27.0, '19982000': 1.0, 'rules': 1.0, '2003': 1.0, 'footballer': 1.0, 'spanned': 1.0, 'essendon': 1.0, 'draft': 1.0, 'and': 4.0, 'recruited': 1.0, 'australia': 1.0, 'former': 1.0, 'born': 1.0, 'david': 1.0, 'play': 1.0, 'shifted': 1.0, 'league': 4.0, 'as': 2.0, 'by': 1.0, 'club': 5.0, 'coach': 2.0, 'playing': 2.0, 'other': 1.0, 'third': 1.0, 'was': 5.0, 'selection': 1.0, 'forward': 1.0, 'football': 10.0, 'twice': 1.0, 'goals': 1.0, 'season': 3.0, 'during': 1.0, 'time': 1.0, 'to': 5.0, 'against': 2.0, 'first': 1.0, 'cause': 1.0, '2002': 1.0, 'following': 1.0, 'drawn': 1.0, 'game': 1.0, 'traded': 1.0, 'perth': 1.0, 'along': 1.0, 'teague': 1.0, 'exchange': 1.0, 'college': 1.0, 'corey': 1.0, 'its': 1.0, 'mckernan': 1.0, 'career': 1.0, 'round': 1.0, 'games': 1.0, 'carlton': 2.0, 'end': 2.0, 'blues': 1.0, 'delisted': 1.0, '2005': 1.0, 'victorian': 1.0}, {'time': 1.0, 'each': 1.0, 'hour': 1.0, 'rhythms': 1.0, 'have': 1.0, 'individuals': 1.0, 'blind': 1.0, 'phasedelay': 1.0, 'shifts': 2.0, 'phaseadvance': 1.0, 'cause': 2.0, 'evening': 2.0, 'scheduled': 1.0, 'precisely': 1.0, 'must': 1.0, 'exposure': 3.0, 'focused': 1.0, 'current': 1.0, 'assessed': 1.0, 'be': 3.0, 'treatment': 3.0, 'can': 2.0, 'biological': 1.0, 'secretion': 1.0, 'pattern': 1.0, '24hour': 1.0, 'defined': 1.0, 'that': 1.0, 'hormone': 1.0, 'day': 2.0, 'aka': 1.0, 'include': 1.0, 'prior': 1.0, 'phd': 1.0, 'from': 1.0, 'wehr': 1.0, 'light': 3.0, 'science': 1.0, 'health': 2.0, 'bright': 1.0, 'ohsu': 1.0, 'department': 1.0, 'unless': 1.0, 'after': 1.0, 'circadian': 3.0, 'in': 4.0, 'working': 1.0, 'maladaptation': 1.0, 'the': 2.0, 'pubmed': 1.0, 'of': 7.0, 'rhythm': 1.0, 'at': 3.0, 'is': 2.0, 'monitored': 1.0, 'psychiatry': 2.0, 'take': 1.0, 'administration': 3.0, 'moving': 1.0, 'they': 1.0, 'developing': 1.0, 'oregon': 3.0, 'chicago': 1.0, 'assay': 1.0, 'national': 1.0, 'clearly': 1.0, 'ophthalmology': 1.0, 'for': 2.0, 'lewy': 3.0, 'laboratory': 1.0, 'sandy': 1.0, 'their': 1.0, 'j': 1.0, 'nimh': 1.0, 'full': 1.0, 'an': 2.0, 'melatonin': 5.0, 'later': 1.0, 'very': 1.0, 'maryland': 1.0, 'university': 2.0, 'these': 2.0, 'studying': 1.0, 'every': 1.0, 'relying': 1.0, 'alfred': 1.0, 'was': 1.0, 'to': 3.0, 'colleague': 1.0, 'as': 3.0, 'disorders': 4.0, 'sleep': 2.0, 'pharmacology': 1.0, 'and': 10.0, 'institute': 1.0, 'jet': 1.0, 'a': 6.0, 'capsule': 1.0, '25hour': 1.0, 'professor': 1.0, 'thomas': 1.0, 'with': 2.0, 'publications': 1.0, '1973': 1.0, 'senior': 1.0, 'has': 2.0, 'he': 4.0, 'mood': 1.0, 'morning': 2.0, 'bethesda': 1.0, 'worked': 1.0, 'describes': 1.0, 'closely': 1.0, 'drifting': 1.0, 'robert': 1.0, 'l': 1.0, 'chronobiologic': 1.0, 'sack': 1.0, 'december': 1.0, '2005': 1.0, 'modalities': 1.0, 'types': 1.0, 'had': 1.0, 'holds': 1.0, '94': 1.0, 'studies': 1.0, 'available': 1.0, 'on': 3.0, 'research': 2.0, 'vicechair': 1.0, 'follows': 1.0, 'mental': 1.0, 'md': 1.0, 'my': 1.0, 'totally': 1.0, 'graduated': 1.0, 'winter': 1.0, 'depression': 1.0, '1981': 1.0, 'shift': 1.0, 'work': 1.0, 'certain': 2.0, 'disturbances': 1.0, 'precise': 1.0, 'his': 1.0, 'lag': 1.0, 'plasma': 1.0}, {'society': 1.0, 'hamilton': 1.0, 'to': 1.0, 'membership': 1.0, 'life': 1.0, 'maple': 1.0, 'awarded': 1.0, 'albumhe': 1.0, 'petersen': 1.0, 'holger': 1.0, 'broadcaster': 1.0, 'influential': 1.0, 'honored': 1.0, 'classic': 1.0, 'songs': 1.0, 'original': 1.0, 'mainly': 1.0, 'comprising': 1.0, 'what': 2.0, '2014': 2.0, 'which': 1.0, 'leads': 1.0, 'also': 1.0, 'big': 1.0, 'venues': 1.0, 'many': 1.0, 'working': 1.0, 'few': 2.0, 'while': 1.0, 'released': 1.0, 'band': 3.0, 'full': 1.0, 'or': 1.0, 'duo': 1.0, 'gutsy': 1.0, 'piano': 1.0, 'his': 3.0, 'year': 1.0, 'promoter': 1.0, 'best': 4.0, 'playing': 1.0, 'dates': 1.0, 'club': 1.0, 'crossed': 1.0, 'well': 1.0, 'traditional': 1.0, 'combos': 1.0, 'years': 1.0, 'miles': 1.0, 'issued': 1.0, 'where': 1.0, 'thousands': 1.0, 'and': 7.0, 'festivals': 1.0, 'the': 12.0, 'award': 2.0, 'of': 3.0, 'canada': 2.0, 'portland': 1.0, '1995': 1.0, 'northwestern': 1.0, 'harmonica': 2.0, 'is': 7.0, 'singer': 1.0, 'vancouver': 1.0, 'cd': 1.0, 'hailing': 1.0, 'player': 2.0, 'won': 1.0, 'who': 1.0, 'brown': 2.0, 'in': 7.0, 'for': 4.0, 'harpdog': 2.0, 'was': 4.0, 'guitarist': 1.0, 'cds': 1.0, 'active': 1.0, 'nominated': 1.0, 'guest': 1.0, '2010': 1.0, 'seven': 1.0, 'been': 1.0, 'performing': 1.0, 'that': 1.0, 'blues': 9.0, 'tens': 1.0, 'has': 2.0, 'juno': 1.0, 'canadian': 2.0, 'juggles': 1.0, 'canadas': 1.0, 'with': 4.0, 'scene': 1.0, 'germanyover': 1.0, 'united': 1.0, 'he': 5.0, 'muddy': 1.0, 'covers': 1.0, 'voted': 1.0, 'nw': 1.0, 'graham': 1.0, 'just': 1.0, 'cascade': 1.0, 'release': 1.0, 'association': 1.0, 'they': 1.0, '1982': 1.0, 'oregon': 1.0, 'as': 2.0, 'states': 1.0, 'it': 3.0, 'bluesgospel': 1.0, 'time': 1.0, 'surveybrown': 1.0, 'from': 2.0, 'recording': 1.0, 'harp': 1.0, 'teamed': 1.0, 'up': 1.0, 'on': 1.0, 'toronto': 1.0, 'arthur': 1.0, 'naturally': 1.0, 'since': 1.0, '1': 1.0, 'home': 2.0, 'by': 1.0, 'blind': 1.0, 'called': 1.0, 'album': 1.0, 'lemon': 1.0, 'tours': 1.0, 'small': 1.0, 'a': 7.0, 'extensively': 1.0, 'edmonds': 1.0, 'j': 1.0, 'their': 1.0, 'browns': 1.0, 'electric': 1.0, 'mid1950s': 1.0, 'chicago': 2.0, 'either': 1.0}, {'kurdlawitzpreis': 1.0, 'awarded': 1.0, '2004': 1.0, 'since': 1.0, 'journal': 2.0, 'critical': 1.0, 'language': 1.0, 'quarber': 1.0, 'hundredth': 1.0, 'been': 1.0, 'statesrottensteiner': 1.0, '1995': 1.0, 'until': 1.0, 'promotion': 1.0, 'close': 1.0, 'special': 1.0, 'reference': 1.0, 'numerous': 1.0, 'working': 1.0, 'jeanpierre': 1.0, 'are': 1.0, 'university': 1.0, 'englishreading': 1.0, '1973': 1.0, 'view': 1.0, '18': 1.0, 'continental': 1.0, 'york': 1.0, 'bibliothek': 1.0, 'seven': 1.0, 'kobo': 1.0, 'n': 1.0, 'this': 1.0, 'english': 1.0, 'dick': 2.0, 'philip': 2.0, 'with': 3.0, 'lem': 4.0, 'volumes': 2.0, 'stanislaw': 2.0, 'franke': 1.0, 'translations': 1.0, '28': 1.0, 'books': 2.0, 'josef': 1.0, 'public': 1.0, 'strugatski': 1.0, 'institut': 1.0, 'three': 1.0, 'number': 3.0, 'andrevonthe': 1.0, 'however': 1.0, 'a': 7.0, '1998': 1.0, 'anthology': 1.0, 'highest': 1.0, 'fantasticrottensteiner': 1.0, 'fiction': 7.0, 'from': 2.0, 'latter': 1.0, 'addition': 1.0, 'science': 6.0, 'including': 1.0, 'the': 22.0, 'of': 20.0, 'fifteen': 1.0, 'some': 3.0, '1969': 1.0, 'austrian': 1.0, 'klein': 1.0, 'german': 2.0, 'cordwainer': 1.0, 'sf': 2.0, 'wellss': 1.0, 'doctorate': 1.0, 'phantastische': 1.0, 'hundred': 1.0, 'an': 2.0, 'born': 1.0, 'phantastischen': 1.0, 'in': 12.0, 'new': 2.0, 'waidmannsfeld': 1.0, 'work': 1.0, 'january': 1.0, 'figure': 1.0, 'publisher': 1.0, 'rottensteiner': 3.0, 'asimov': 1.0, 'brothersin': 1.0, 'abe': 1.0, 'sterreichisches': 1.0, 'another': 1.0, 'gerard': 1.0, 'franz': 1.0, 'herbert': 1.0, 'hg': 1.0, 'typical': 1.0, 'austria': 2.0, 'fields': 1.0, 'yet': 1.0, 'critic': 1.0, 'journalism': 1.0, 'is': 3.0, 'at': 2.0, 'karel': 1.0, 'fr': 1.0, '1942': 1.0, 'k': 2.0, 'well': 2.0, '1980': 1.0, 'shore': 1.0, 'authors': 3.0, 'history': 1.0, 'olaf': 1.0, 'vienna': 2.0, 'seriesrottensteiner': 1.0, 'lower': 1.0, 'achievements': 1.0, 'advisor': 1.0, 'receiving': 1.0, 'brian': 1.0, 'eighteen': 1.0, '1963': 1.0, 'anthologies': 1.0, 'his': 5.0, 'about': 2.0, 'provoked': 1.0, 'european': 1.0, 'served': 1.0, 'ending': 1.0, 'leading': 2.0, 'both': 1.0, 'association': 1.0, 'years': 3.0, 'fantasy': 1.0, 'to': 3.0, 'as': 7.0, 'librarian': 1.0, 'editor': 2.0, 'w': 2.0, 'on': 4.0, 'und': 1.0, 'bauforschung': 1.0, '1975': 2.0, 'die': 1.0, 'series': 1.0, 'trnaslations': 1.0, 'romane': 1.0, 'edited': 1.0, 'for': 2.0, '1978': 1.0, 'it': 1.0, 'he': 6.0, 'him': 1.0, 'republished': 1.0, 'heinlein': 1.0, 'works': 3.0, 'smith': 1.0, 'lesser': 1.0, 'start': 1.0, 'writers': 2.0, 'barry': 1.0, 'saw': 1.0, 'all': 1.0, 'ones': 1.0, 'one': 1.0, 'introduced': 1.0, 'greatest': 1.0, 'total': 1.0, '19791985': 1.0, 'brought': 2.0, 'malzberg': 1.0, 'aldiss': 1.0, 'listing': 1.0, 'studied': 1.0, 'verlags': 1.0, 'produced': 2.0, 'out': 2.0, 'praised': 1.0, 'h': 1.0, 'g': 1.0, 'negative': 1.0, 'factor': 1.0, 'assessment': 1.0, 'american': 1.0, 'what': 1.0, 'matters': 1.0, 'recognition': 1.0, 'betterknown': 1.0, 'there': 1.0, 'us': 1.0, 'fifty': 1.0, 'has': 3.0, 'produce': 1.0, 'comparable': 1.0, 'wells': 1.0, 'stapledon': 1.0, 'apek': 1.0, 'or': 1.0, 'stanisaw': 1.0, 'describedroger': 1.0, 'zelazny': 1.0, 'robert': 1.0, 'occasion': 1.0, 'silverberg': 1.0, 'producing': 1.0, 'travesties': 1.0, 'stated': 1.0, 'merkur': 1.0, 'controversy': 1.0, 'two': 1.0, 'nonwriter': 1.0, 'year': 1.0, 'andersonare': 1.0, 'and': 13.0, 'just': 1.0, 'united': 1.0, 'banal': 1.0, 'into': 1.0, 'through': 1.0, 'was': 3.0, 'nesvadba': 1.0, 'suhrkamp': 1.0, 'which': 1.0, 'illustrated': 1.0, 'book': 2.0}, {'curtis': 1.0, '2007': 1.0, 'cent': 1.0, 'performers': 1.0, 'records': 1.0, 'company': 1.0, 'armchair': 1.0, 'tugitooli': 1.0, 'island': 1.0, 'palm': 1.0, 'warmup': 1.0, 'real': 1.0, 'their': 4.0, 'better': 1.0, 'toe': 4.0, 'europe': 1.0, 'his': 3.0, 'year': 2.0, 'was': 4.0, 'oja': 2.0, '2006': 1.0, 'who': 1.0, 'dj': 2.0, 'in': 7.0, 'paul': 2.0, 'rapper': 1.0, 'revo': 2.0, '2004': 1.0, 'from': 2.0, 'first': 1.0, 'studio': 1.0, 'with': 2.0, 'palmisaar': 1.0, 'producergenka': 1.0, 'born': 1.0, 'went': 1.0, 'krvits': 1.0, 'during': 1.0, 'started': 5.0, 'they': 1.0, 'group': 1.0, 'kuhnja': 1.0, 'december': 1.0, '30': 1.0, 'a': 2.0, '1998': 1.0, 'this': 1.0, 'henry': 1.0, 'also': 2.0, 'tag': 4.0, 'by': 1.0, 'stagename': 1.0, 'genka': 5.0, 'new': 1.0, 'is': 1.0, 'an': 1.0, 'promo': 1.0, 'own': 2.0, 'album': 6.0, 'called': 1.0, 'genkas': 1.0, '50': 1.0, 'and': 10.0, 'famous': 3.0, 'along': 2.0, 'rapping': 1.0, 'for': 2.0, 'homophobes': 1.0, 'gangstergenka': 1.0, 'next': 1.0, 'on': 2.0, 'bankruptcy': 1.0, 'another': 1.0, 'rap': 1.0, 'arhm': 3.0, 'which': 3.0, 'hit': 1.0, 'rapped': 1.0, 'released': 3.0, 'band': 1.0, 'droopy': 1.0, '2001': 1.0, 'same': 1.0, 'leegion': 1.0, 'estonian': 3.0, 'came': 1.0, 'most': 3.0, 'tallinn': 3.0, 'making': 1.0, 'back': 1.0, 'big': 1.0, 'tour': 2.0, 'schoolmate': 1.0, 'joined': 1.0, 'second': 1.0, 'gangster': 1.0, 'legendaarne': 3.0, 'record': 2.0, 'legendary': 1.0, 'vacation': 1.0, 'consisted': 1.0, 'the': 8.0, 'of': 1.0, '1996': 1.0, '18': 1.0, 'known': 1.0, '1974': 1.0, 'together': 2.0, 'were': 3.0, 'pankrot': 1.0, 'songs': 5.0, 'solo': 1.0, 'had': 1.0, '23': 1.0}, {'asses': 1.0, 'sic': 1.0, 'toilets': 1.0, '5009': 3.0, '4': 1.0, 'number': 1.0, 'awardshis': 1.0, 'emmy': 1.0, 'hour': 1.0, 'lives': 1.0, 'one': 1.0, 'less': 1.0, 'programming': 1.0, 'program': 1.0, 'animated': 1.0, 'best': 1.0, 'nomination': 1.0, 'spongebob': 1.0, 'writing': 1.0, 'contained': 1.0, 'than': 1.0, '2003': 1.0, 'from': 1.0, 'work': 1.0, 'special': 1.0, '19992004in': 1.0, 'for': 4.0, 'turned': 1.0, 'being': 1.0, 'some': 1.0, 'are': 1.0, 'yorksince': 1.0, 'scratchings': 1.0, 'little': 1.0, 'crude': 1.0, 'that': 1.0, 'directing': 1.0, 'wrote': 1.0, 'expressnews': 1.0, 'antonio': 1.0, 'san': 1.0, 'every': 1.0, 'bigger': 2.0, 'review': 1.0, 'their': 1.0, 'sam': 1.0, 'by': 1.0, '55th': 1.0, 'graduated': 1.0, '1993': 2.0, 'city': 1.0, 'a': 7.0, 'minicomics': 2.0, 'due': 1.0, 'born': 2.0, 'visual': 1.0, '1987': 1.0, 'in': 16.0, 'october': 1.0, 'has': 2.0, 'magazines': 1.0, 'hendersons': 3.0, 'been': 2.0, 'graduating': 1.0, 'niblit': 1.0, 'onteora': 1.0, 'earliest': 1.0, 'where': 1.0, '1980': 1.0, 'henderson': 3.0, 'which': 1.0, 'writer': 1.0, 'march': 1.0, 'he': 7.0, 'award': 1.0, 'of': 5.0, 'the': 10.0, 'year': 1.0, 'xeroxed': 1.0, 'yorks': 1.0, 'journal': 1.0, 'weekly': 1.0, 'funniest': 1.0, '18': 1.0, 'was': 5.0, 'school': 2.0, 'american': 2.0, 'an': 1.0, 'cartoonist': 1.0, 'comedy': 1.0, 'since': 1.0, '1988': 1.0, 'friend': 1.0, 'monroe': 1.0, 'reprinted': 1.0, '1980s': 1.0, 'squarepants': 1.0, 'nickelodeon': 1.0, 'spaz': 1.0, 'is': 2.0, 'and': 7.0, 'york': 2.0, 'on': 2.0, 'not': 1.0, 'woodstock': 2.0, 'new': 4.0, 'heard': 1.0, 'man': 1.0, 'hometown': 1.0, '1969': 1.0, 'arts': 1.0, 'high': 1.0, 'out': 2.0, 'attended': 1.0, 'him': 1.0, 'selfpublishing': 2.0, 'it': 1.0, 'drew': 2.0, '2010': 1.0, 'bear': 1.0, 'comic': 5.0, 'bestknown': 1.0, 'called': 1.0, 'nominated': 1.0, 'captain': 1.0, 'with': 1.0, 'pink': 1.0, 'larger': 1.0, 'red': 1.0, 'humor': 1.0, 'midtolate': 1.0, 'his': 3.0, 'bobby': 1.0, 'penises': 1.0, 'harvey': 1.0, 'featuring': 1.0, 'awards': 1.0, 'weiss': 1.0, 'series': 2.0, 'as': 2.0, 'expert': 1.0, 'college': 2.0, 'busy': 1.0, 'known': 1.0, 'junk': 1.0, 'collection': 1.0, 'simmons': 1.0, 'currently': 1.0, 'began': 2.0, 'blobby': 1.0, 'title': 1.0, '1991henderson': 1.0, 'whistle': 4.0, 'historyhenderson': 1.0, 'magic': 4.0, 'storyboard': 1.0, 'published': 3.0, 'now': 1.0, 'alternative': 1.0, 'comics': 2.0, 'also': 1.0, 'wordless': 1.0, 'strip': 2.0, 'scene': 1.0, 'boiceville': 1.0, 'but': 1.0, 'starring': 1.0, 'ended': 1.0, 'magazine': 1.0, 'earned': 1.0, '2010in': 1.0, 'character': 1.0, 'longestrunning': 1.0}, {'streamz': 1.0, 'including': 1.0, 'artists': 1.0, 'doolittle': 1.0, 'vegas': 1.0, 'mr': 1.0, 'features': 1.0, 'which': 1.0, 'starring': 1.0, 'verb': 1.0, 'report': 1.0, 'soundtrack': 1.0, 'videogame': 1.0, 'entourage': 1.0, 'featured': 1.0, 'been': 1.0, 'ferrari': 1.0, 'mz': 1.0, 'ferrariwhich': 1.0, 'confused': 1.0, 'cocacola': 1.0, 'pellatfinet': 1.0, 'lucien': 1.0, 'cashmere': 1.0, 'jayz': 1.0, 'colette': 1.0, 'collaborations': 1.0, 'developed': 1.0, 'most': 1.0, 'ronson': 1.0, 'mark': 1.0, 'toured': 1.0, 'showlacrate': 1.0, 'by': 1.0, 'west': 1.0, 'used': 1.0, '2005': 1.0, 'gutter': 2.0, 'album': 1.0, 'tracks': 1.0, 'hero': 1.0, 'young': 1.0, 'em': 1.0, 'at': 2.0, 'rock': 1.0, '10': 1.0, 'for': 6.0, 'blank': 1.0, 'delicious': 1.0, 'being': 1.0, 'amanda': 1.0, 'fashion': 5.0, 'success': 1.0, 'lacrates': 1.0, 'early': 1.0, 'collaboration': 1.0, 'productions': 1.0, 'commissioned': 2.0, 'helping': 1.0, 'east': 1.0, 'recording': 1.0, 'from': 2.0, 'performanceslacrate': 1.0, 'baltimores': 1.0, 'that': 1.0, 'paris': 1.0, 'with': 5.0, 'hbo': 4.0, 'nightclubs': 1.0, 'this': 1.0, 'highly': 1.0, 'television': 1.0, 'on': 3.0, 'vans': 1.0, 'road': 1.0, 'seth': 1.0, 'rascals': 1.0, 'has': 5.0, 'star': 1.0, 'mixtapes': 1.0, 'was': 5.0, 'clothing': 2.0, 'also': 2.0, 'records': 2.0, 'support': 1.0, 'official': 2.0, 'series': 2.0, 'platinum': 1.0, 'recordings': 1.0, 'wide': 1.0, 'a': 6.0, 'wire': 3.0, 'boy': 1.0, 'he': 4.0, 'madonna': 1.0, 'director': 1.0, 'original': 1.0, 'baltimoreaaron': 1.0, 'remixed': 1.0, 'american': 1.0, 'quest': 1.0, 'the': 15.0, 'vinyl': 1.0, 'athletics': 3.0, 'and': 21.0, 'credited': 2.0, 'popularizing': 1.0, 'mndr': 1.0, 'music': 7.0, 'his': 5.0, 'film': 1.0, 'grew': 1.0, 'kanye': 1.0, 'dizzee': 3.0, 'local': 1.0, 'launch': 1.0, 'upon': 1.0, 'role': 1.0, 'dazed': 1.0, 'lily': 3.0, 'working': 1.0, '2009': 1.0, 'experimenting': 1.0, 'record': 2.0, 'doolittleat': 1.0, 'maryland': 1.0, 'university': 1.0, 'mc': 1.0, 'epmd': 1.0, 'an': 1.0, 'ever': 1.0, 'rogenrecently': 1.0, 'allen': 3.0, 'custom': 1.0, 'recently': 1.0, 'create': 1.0, 'other': 1.0, 'specialedition': 1.0, 'diy': 1.0, 'artist': 1.0, 'lacrate': 12.0, 'vital': 1.0, 'range': 1.0, 'campus': 1.0, 'live': 1.0, 'produced': 3.0, 'age': 1.0, 'producer': 1.0, 'based': 1.0, 'in': 9.0, 'later': 1.0, 'rakim': 3.0, 'cable': 1.0, 'level': 1.0, 'graffiti': 1.0, 'life': 2.0, 'baltimore': 8.0, 'jayzs': 1.0, 'highlandtown': 1.0, 'observe': 1.0, 'bmore': 3.0, 'up': 1.0, 'exclusive': 2.0, 'new': 1.0, 'world': 1.0, 'ragehbo': 1.0, 'born': 1.0, 'djing': 1.0, 'streetwear': 2.0, 'attending': 1.0, 'collaborated': 2.0, 'milkcrate': 6.0, 'created': 1.0, 'aaron': 5.0, 'studio': 1.0, 'brandaaron': 1.0, 'interning': 1.0, 'pop': 1.0, 'black': 1.0, 'nightclub': 1.0, 'historical': 1.0, 'rascal': 2.0, 'time': 1.0, 'began': 2.0, 'marc': 1.0, 'club': 2.0, 'parties': 1.0, 'spank': 1.0, 'tour': 1.0, 'writing': 1.0, 'sold': 1.0, 'of': 4.0, 'even': 1.0, 'took': 1.0, 'started': 1.0, 'making': 1.0, 'tshirts': 2.0, 'shows': 1.0, 'is': 4.0, 'culture': 2.0, 'basement': 1.0, 'youngest': 1.0, 'cool': 1.0, 'house': 1.0, 'prior': 1.0, 'syracuse': 1.0, 'hard': 1.0, 'scene': 1.0, 'played': 1.0, 'king': 1.0, 'summers': 1.0, 'z': 1.0, 'york': 1.0, 'city': 1.0, 'def': 1.0, 'jam': 1.0, 'song': 1.0, 'payday': 1.0, 'rocafella': 1.0, 'spent': 1.0, 'fade': 1.0, 'designer': 2.0, 'classic': 1.0, 'to': 4.0, 'reasonable': 1.0, 'doubt': 1.0, 'knock': 1.0, 'eliza': 2.0, 'over': 1.0, 'jay': 1.0, 'featuring': 1.0, 'tshirtin': 1.0, '1999': 1.0, 'where': 2.0, 'many': 1.0, 'successful': 1.0, 'kids': 1.0, 'tramps': 1.0, 'nyc': 2.0, 'tribe': 1.0, 'wutang': 1.0, 'throughout': 1.0, 'sponsored': 1.0, 'eminems': 1.0, 'first': 7.0, 'show': 2.0, 'called': 1.0, 'slick': 1.0, 'via': 1.0, 'ricks': 1.0, 'jacobs': 1.0, 'clan': 1.0, 'released': 3.0, 'major': 2.0, 'prison': 1.0, 'outkast': 1.0, 'dj': 3.0, 'ultramagnetic': 1.0, 'mcs': 1.0, 'crack': 1.0, 'label': 2.0, 'x': 1.0, 'gorillaz': 1.0, 'soulja': 1.0, 'tell': 1.0}, {'concordia': 1.0, 'creative': 1.0, 'teaches': 1.0, 'frequently': 1.0, 'centre': 1.0, 'banff': 1.0, 'may': 1.0, 'americas': 1.0, 'festival': 1.0, '1999': 1.0, 'special': 1.0, 'livres': 1.0, 'salon': 1.0, 'an': 1.0, 'guests': 1.0, 'university': 2.0, 'writerinresidence': 1.0, 'dhonneur': 1.0, 'chair': 1.0, '54': 1.0, 'bridge': 1.0, 'opens': 1.0, 'things': 1.0, 'said': 1.0, 'zarathustra': 1.0, 'fourth': 1.0, '2004': 1.0, 'writers': 3.0, 'march': 1.0, 'run': 1.0, 'enjoyed': 1.0, 'paris': 2.0, 'with': 2.0, 'coproduced': 1.0, 'west': 1.0, 'village': 1.0, 'tenth': 1.0, 'commemorate': 1.0, 'chosen': 1.0, 'sienna': 1.0, 'people': 1.0, '20000': 1.0, 'seen': 1.0, 'place': 1.0, '2005': 1.0, 'few': 1.0, 'fall': 1.0, 'stage': 1.0, 'returned': 1.0, 'qubcoise': 1.0, 'english': 1.0, 'award': 1.0, 'sprung': 2.0, 'infinitheatre': 3.0, 'short': 1.0, 'long': 3.0, 'anniversary': 1.0, 'play': 5.0, '2002': 4.0, 'appear': 1.0, 'press': 1.0, 'booksst': 1.0, 'dunne': 1.0, 'thomas': 1.0, 'murders': 1.0, 'storm': 1.0, 'trilogy': 1.0, 'well': 1.0, 'all': 1.0, 'language': 1.0, 'arts': 2.0, 'raised': 1.0, 'chants': 1.0, 'until': 1.0, 'than': 1.0, '2013': 1.0, 'water': 1.0, 'major': 1.0, 'first': 4.0, 'working': 1.0, 'by': 7.0, 'taxi': 1.0, 'served': 1.0, '1985': 1.0, 'burns': 1.0, 'some': 1.0, 'settled': 1.0, 'five': 1.0, 'to': 10.0, 'driving': 1.0, 'returning': 1.0, 'states': 1.0, 'dir': 2.0, 'huron': 1.0, 'writing': 2.0, 'united': 1.0, 'equally': 1.0, 'he': 12.0, 'travelled': 1.0, 'twenties': 1.0, 'crime': 2.0, 'die': 1.0, 'night': 2.0, 'novel': 6.0, 'europe': 1.0, 'burnt': 1.0, 'his': 8.0, 'film': 1.0, '1977': 1.0, 'also': 4.0, 'received': 2.0, 'masque': 1.0, 'gangs': 1.0, 'worked': 2.0, 'where': 2.0, 'before': 1.0, 'bunkhousesin': 1.0, 'invit': 1.0, 'house': 1.0, 'french': 1.0, 'write': 2.0, 'nine': 1.0, 'developed': 1.0, 'author': 1.0, '2006': 1.0, 'the': 53.0, 'ice': 2.0, 'of': 23.0, 'throughout': 1.0, 'early': 1.0, 'day': 1.0, 'toronto': 1.0, 'publication': 2.0, 'plays': 1.0, 'later': 1.0, 'being': 1.0, 'past': 1.0, 'penname': 1.0, 'very': 1.0, 'has': 6.0, 'barnacle': 1.0, 'des': 2.0, 'worlds': 1.0, 'text': 1.0, 'next': 1.0, 'regarded': 1.0, 'four': 1.0, 'praise': 1.0, 'nominated': 1.0, 'trevor': 3.0, 'november': 2.0, 'midteens': 1.0, 'at': 8.0, 'writersextraordinary': 1.0, 'fiction': 3.0, 'john': 4.0, 'for': 5.0, 'onyx': 1.0, 'sold': 1.0, 'it': 4.0, 'be': 3.0, 'northwest': 1.0, 'canada': 3.0, 'fair': 1.0, 'more': 1.0, 'ontario': 1.0, 'high': 1.0, 'journal': 1.0, 'a': 13.0, 'and': 13.0, 'seaforth': 1.0, 'farrow': 3.0, 'best': 7.0, 'company': 1.0, 'towards': 1.0, 'into': 2.0, 'three': 2.0, 'been': 5.0, 'won': 1.0, 'called': 4.0, '2014city': 1.0, 'guy': 2.0, 'dennis': 1.0, 'canadas': 2.0, 'germany': 1.0, 'no': 1.0, 'gravitated': 1.0, 'both': 1.0, 'time': 1.0, 'began': 1.0, 'ferguson': 2.0, 'alberta': 1.0, '1000': 1.0, 'du': 1.0, 'lives': 1.0, 'aka': 1.0, 'starborn': 1.0, 'in': 41.0, 'lee': 1.0, 'age': 1.0, 'books': 1.0, 'montreal': 6.0, 'hudson': 2.0, 'arguably': 1.0, 'highest': 1.0, 'produced': 3.0, 'faculty': 1.0, 'genre': 1.0, 'critical': 1.0, 'literature': 1.0, 'leon': 1.0, 'rooke': 1.0, 'twentieth': 1.0, 'will': 2.0, 'sixteen': 1.0, 'years': 1.0, 'would': 1.0, 'become': 2.0, 'was': 11.0, 'kinkajou': 1.0, 'caused': 1.0, 'on': 2.0, 'indeed': 1.0, 'wood': 1.0, 'booklist': 1.0, 'work': 1.0, 'highly': 2.0, 'invited': 2.0, 'hes': 1.0, 'often': 1.0, 'is': 5.0, 'maclennan': 1.0, 'which': 1.0, 'declared': 1.0, 'from': 1.0, 'who': 1.0, 'cited': 1.0, 'successful': 1.0, 'fergusons': 2.0, 'studio': 2.0, '2015in': 1.0, 'century': 1.0, 'as': 3.0, 'newspaper': 1.0, 'quebec': 2.0, 'preeminent': 1.0, 'martins': 1.0, 'acclaim': 1.0, 'written': 1.0, '11': 1.0, 'awaited': 1.0, 'sun': 1.0, 'third': 3.0, 'timekeeper': 1.0, 'theatre': 3.0, 'ninth': 1.0, 'authors': 1.0, 'history': 2.0, 'hugh': 1.0, 'prize': 1.0, 'county': 1.0, '1': 1.0, 'railway': 1.0, 'river': 3.0, 'city': 3.0, 'france': 2.0, 'published': 3.0, '2011': 1.0, '17': 1.0, 'paperback': 1.0, 'option': 1.0, '1947': 2.0, 'miniseries': 1.0, 'beach': 1.0, 'agreed': 1.0, 'one': 4.0, 'upon': 1.0, 'union': 1.0, 'under': 1.0, 'simon': 1.0, 'schuster': 1.0, 'second': 3.0, 'april': 2.0, 'countries': 1.0, 'lacadmie': 1.0, 'pages': 1.0, 'vancouver': 1.0, 'novels': 3.0, '2012': 1.0, 'book': 2.0, 'ever': 1.0, 'cultural': 1.0, 'canadian': 3.0, 'bestseller': 1.0, 'series': 3.0, 'lake': 1.0, 'new': 4.0, 'york': 3.0, 'novelist': 2.0, 'today': 1.0, 'ziet': 1.0, 'library': 1.0, 'born': 1.0, 'claim': 1.0, 'that': 1.0, 'among': 2.0}, {'heavies': 1.0, 'new': 1.0, 'brand': 1.0, 'beverley': 1.0, 'negrocan': 1.0, 'king': 1.0, 'champagne': 1.0, 'tei': 1.0, 'x': 1.0, 'roberts': 1.0, 'gilberto': 1.0, 'juliet': 1.0, 'goldie': 1.0, 'level': 1.0, 'agnes': 1.0, 'houston': 1.0, 'mcneal': 1.0, 'dodger': 1.0, 'aaliyah': 1.0, 'evelyn': 1.0, 'misteeq': 1.0, 'kelis': 1.0, 'include': 1.0, 'remixed': 1.0, 'artists': 1.0, 'musicsome': 1.0, 'top': 1.0, 'consistently': 1.0, 'swing': 1.0, 'present': 1.0, 'so': 1.0, 'do': 1.0, 'continues': 1.0, 'days': 1.0, 'knight': 1.0, 'since': 1.0, 'house': 2.0, 'remained': 1.0, 'always': 1.0, 'has': 2.0, 'brown': 2.0, 'delivers': 1.0, 'james': 2.0, 'by': 1.0, 'ah': 1.0, 'funk': 1.0, 'began': 1.0, 'alterego': 1.0, 'along': 1.0, '1993': 1.0, 'faithless': 1.0, '1990s': 1.0, 'sunday': 1.0, 'n': 2.0, 'on': 3.0, 'club': 1.0, 'was': 2.0, 'to': 5.0, 'as': 3.0, 'frankie': 1.0, 'guy': 1.0, '2step': 1.0, 'garage': 1.0, 'towa': 1.0, 'rosie': 1.0, 'delivered': 2.0, 'uk': 3.0, 'liberty': 1.0, 'breakbeat': 1.0, 'due': 1.0, 'born': 1.0, '1971': 1.0, 'head': 1.0, 'early': 2.0, 'april': 1.0, 'bump': 2.0, 'is': 2.0, 'gaines': 1.0, 'worked': 1.0, 'produce': 1.0, 'godfathers': 1.0, 'nng': 1.0, 'london': 2.0, 'jodeci': 1.0, 'scenes': 1.0, 'nelson': 4.0, 'and': 9.0, '27': 1.0, 'roy': 1.0, 'grant': 1.0, 'ripe': 2.0, 'happy': 2.0, 'one': 1.0, 'red': 1.0, 'jamiroquai': 1.0, 'evolved': 1.0, 'another': 1.0, 'label': 3.0, 'english': 1.0, 'sound': 1.0, 'up': 1.0, 'numerous': 1.0, 'in': 3.0, 'drawer': 1.0, 'dj': 2.0, 'flex': 2.0, 'labels': 1.0, 'it': 1.0, 'hits': 1.0, 'remixer': 1.0, 'the': 10.0, 'of': 5.0, 'heralded': 1.0, 'other': 1.0, 'an': 1.0, 'nice': 2.0, 'thelma': 1.0, '19901993': 1.0, 'with': 4.0, 'few': 1.0, 'wishdokta': 3.0, 'others': 1.0, 'some': 2.0, 'that': 2.0, 'into': 1.0, 'vibes': 2.0, 'producernelson': 1.0, 'birth': 1.0, 'scene': 1.0, 'name': 1.0, 'known': 2.0, 'together': 1.0, 'ayers': 1.0, 'city': 1.0, 'asylum': 1.0, 'knuckles': 1.0, 'which': 1.0, 'garagehe': 1.0, 'produced': 1.0, 'gave': 1.0, 'under': 1.0, 'roll': 1.0, 'when': 1.0, 'lutricia': 1.0, 'he': 2.0, 'producing': 1.0, 'artful': 1.0, 'bass': 1.0, 'then': 1.0, 'hardcoredrum': 1.0, 'started': 1.0, 'for': 1.0, 'record': 2.0, 'legendary': 1.0, 'kickin': 1.0, 'records': 3.0, 'teamed': 1.0, 'they': 1.0, 'hardcores': 1.0, 'simply': 1.0, 'biggest': 2.0, 'anthems': 1.0, 'his': 5.0, 'music': 1.0, 'a': 2.0, 'inc': 1.0, 'bebel': 1.0, 'using': 1.0, 'including': 2.0, 'from': 1.0, 'traxin': 1.0, 'also': 2.0, '1997': 1.0}, {'2002': 1.0, 'harvard': 1.0, 'twentieth': 1.0, 'traumas': 1.0, 'pp': 1.0, 'shoshana': 1.0, 'question': 1.0, 'luckhurst': 1.0, 'roger': 1.0, '173182': 1.0, 'work': 1.0, 'caruths': 1.0, 'both': 1.0, 'discussion': 1.0, 'good': 1.0, 'a': 1.0, 'for': 1.0, 'mysterious': 1.0, 'still': 1.0, 'unconscious': 1.0, 'perceiving': 1.0, 'our': 1.0, 'call': 1.0, 'previously': 1.0, 'cornell': 1.0, 'fictions': 1.0, 'comparative': 2.0, 'johns': 5.0, 'critical': 2.0, 'departments': 1.0, 'encounters': 1.0, 'author': 1.0, 'from': 1.0, 'phd': 1.0, 'department': 1.0, 'build': 1.0, 'locke': 1.0, 'conceptualizing': 1.0, 'helped': 1.0, 'where': 1.0, 'she': 4.0, 'felman': 1.0, 'literature': 3.0, 'ways': 1.0, 'theory': 2.0, 'memory': 1.0, 'humane': 1.0, 'with': 2.0, 'hopkins': 5.0, 'one': 1.0, '1988': 1.0, 'her': 2.0, 'truths': 1.0, 'born': 1.0, 'unclaimed': 1.0, 'responsibility': 1.0, 'experience': 2.0, 'h': 1.0, 'forthcoming': 1.0, 'reference': 1.0, 'describes': 1.0, 'that': 1.0, 'cathy': 1.0, 'caruth': 1.0, 'yale': 2.0, 't': 1.0, 'emory': 1.0, 'we': 1.0, 'is': 4.0, 'at': 3.0, 'english': 1.0, 'rhodes': 1.0, 'professor': 1.0, 'editor': 1.0, 'explorations': 1.0, 'juridical': 1.0, 'taught': 1.0, 'century': 1.0, 'rutgers': 1.0, 'university': 5.0, 'writing': 1.0, 'of': 11.0, 'the': 9.0, 'and': 14.0, 'letters': 1.0, '1996': 1.0, 'in': 7.0, 'appointed': 1.0, 'ashes': 1.0, 'most': 1.0, 'up': 5.0, '1991': 1.0, 'press': 2.0, 'history': 2.0, 'empirical': 1.0, 'deconstructive': 1.0, 'see': 1.0, 'jay': 1.0, '2013': 1.0, 'freud': 1.0, 'to': 1.0, 'wordsworth': 1.0, 'as': 1.0, 'conversations': 1.0, 'frank': 1.0, 'leaders': 1.0, 'treatment': 1.0, 'md': 1.0, 'narrative': 1.0, 'catastrophic': 1.0, '1995': 2.0, 'n3': 1.0, 'received': 1.0, 'also': 1.0, 'phenomenon': 1.0, 'coeditor': 1.0, 'listening': 1.0, 'deborash': 1.0, 'esch': 1.0, 'robert': 1.0, 'lifton': 1.0, 'kant': 1.0, 'innovative': 1.0, '2014': 1.0, 'what': 1.0, '1955': 1.0, 'trauma': 6.0, 'scholars': 1.0, 'trials': 1.0, 'on': 3.0}, {'who': 1.0, 'son': 1.0, 'worker': 1.0, 'construction': 1.0, 'husband': 1.0, 'lives': 1.0, 'languageshe': 1.0, 'teaching': 1.0, 'by': 1.0, 'english': 1.0, 'another': 1.0, 'tattoo': 1.0, 'herself': 1.0, 'on': 1.0, 'sold': 1.0, '2009': 1.0, 'brooklyn': 1.0, 'while': 1.0, 'circus': 1.0, 'french': 1.0, 'secondary': 1.0, 'nameafter': 1.0, 'same': 1.0, 'daniel': 1.0, 'adaptation': 1.0, 'world': 1.0, 'comedydrama': 1.0, '2001': 1.0, 'village': 1.0, 'sauve': 1.0, 'family': 2.0, 'apprenticed': 1.0, 'relocated': 1.0, 'that': 3.0, 'completing': 1.0, 'drawings': 1.0, 'foreign': 1.0, 'parents': 2.0, 'with': 3.0, 'artists': 1.0, 'as': 1.0, 'town': 1.0, 'original': 1.0, 'commissioned': 1.0, 'years': 1.0, '2010': 1.0, 'violet': 1.0, 'interview': 1.0, 'lived': 1.0, 'california': 1.0, 'street': 1.0, 'nearby': 1.0, 'woodland': 1.0, 'born': 3.0, 'in': 11.0, 'her': 8.0, 'kominskycrumbcrumb': 1.0, 'reported': 1.0, 'was': 5.0, 'education': 1.0, 'father': 1.0, 'winters': 1.0, 'americanfrench': 1.0, 'an': 2.0, 'acrobatics': 1.0, 'artist': 2.0, 'at': 2.0, 'is': 2.0, 'a': 9.0, '1981': 1.0, 'underground': 1.0, 'until': 1.0, 'crumb': 4.0, 'about': 1.0, 'robert': 1.0, 'september': 1.0, 'nine': 1.0, 'she': 5.0, 'serial': 1.0, 'mother': 1.0, 'remove': 1.0, '1991': 1.0, 'southern': 2.0, 'aline': 1.0, 'farming': 1.0, 'stage': 1.0, '1994': 1.0, 'school': 1.0, 'daughter': 1.0, 'the': 8.0, 'of': 5.0, 'comix': 1.0, 'to': 4.0, 'fundamentalists': 1.0, 'turn': 1.0, 'political': 1.0, 'prepare': 1.0, 'clowning': 1.0, '27': 1.0, 'and': 7.0, 'sophia': 1.0, 'france': 3.0, 'comics': 3.0, 'christian': 1.0, 'acclaimed': 1.0, 'sophies': 1.0, 'they': 1.0, 'eli': 1.0, 'wanted': 1.0, 'sophie': 4.0, 'from': 1.0, 'later': 1.0, 'conservatives': 1.0, 'studied': 1.0, 'into': 1.0, 'afraid': 1.0, 'this': 1.0, 'states': 1.0, 'united': 1.0, 'philadelphia': 1.0, 'inquirer': 1.0, 'zwigoff': 2.0, 'would': 1.0, 'clowes': 1.0, 'critically': 1.0, 'some': 1.0, 'told': 1.0, 'valley': 1.0, 'girlit': 1.0, 'ghost': 1.0, 'after': 1.0, 'living': 2.0, 'old': 1.0, 'relocation': 1.0, 'earned': 1.0, 'mid2000s': 1.0, 'terry': 1.0, 'released': 1.0, 'their': 2.0, 'for': 1.0, 'documentary': 1.0, 'inclusion': 1.0, 'film': 1.0, 'his': 1.0}, {'left': 1.0, 'but': 1.0, 'up': 1.0, 'christ': 1.0, 'home': 1.0, 'son': 1.0, 'lancastrian': 1.0, 'gospels': 1.0, 'memorial': 1.0, 'when': 1.0, 'on': 1.0, 'herself': 1.0, 'set': 1.0, 'circumstances': 1.0, 'boyfriend': 1.0, 'dies': 1.0, 'three': 1.0, 'whom': 1.0, 'funny': 1.0, 'built': 1.0, 'be': 1.0, 'anniversary': 1.0, 'according': 1.0, 'light': 1.0, 'cold': 1.0, 'tenth': 1.0, 'universityashworths': 1.0, '2003': 1.0, 'winner': 1.0, 'dark': 1.0, '2004': 1.0, 'extract': 1.0, 'theft': 1.0, 'result': 1.0, 'betty': 1.0, 'violence': 1.0, 'church': 4.0, 'eventually': 1.0, 'tragedy': 1.0, 'friday': 1.0, 'comedy': 1.0, 'both': 2.0, 'mission': 1.0, 'elements': 1.0, 'lds': 2.0, 'strong': 1.0, 'contains': 1.0, 'selfdeception': 1.0, 'full': 1.0, 'their': 1.0, 'relate': 1.0, 'family': 1.0, 'grips': 1.0, 'welcoming': 1.0, '2010': 1.0, 'latterday': 1.0, 'best': 1.0, 'it': 3.0, 'others': 1.0, 'she': 6.0, 'this': 3.0, 'hub': 1.0, 'was': 6.0, 'closed': 1.0, 'and': 13.0, 'lost': 2.0, 'coordinator': 1.0, 'called': 1.0, 'lancs': 1.0, 'renamed': 1.0, 'later': 1.0, 'from': 3.0, 'unpublished': 1.0, 'graduated': 1.0, 'founded': 1.0, 'suspicious': 1.0, 'sarah': 1.0, 'member': 1.0, 'in': 11.0, 'born': 1.0, 'consultancy': 1.0, 'librarian': 1.0, 'come': 1.0, 'computer': 1.0, 'works': 1.0, 'previously': 1.0, 'writers': 1.0, 'runs': 1.0, 'them': 1.0, 'has': 3.0, 'for': 4.0, 'another': 1.0, 'girls': 1.0, 'earlier': 1.0, 'english': 2.0, 'summerhouse': 1.0, 'literature': 1.0, 'prisonshe': 1.0, 'editor': 1.0, 'jenn': 2.0, 'central': 2.0, 'ashworth': 2.0, 'centre': 2.0, 'lecturer': 1.0, '1982': 1.0, 'preston': 2.0, 'lancashire': 1.0, 'network': 1.0, 'body': 1.0, 'unable': 1.0, 'as': 7.0, 'to': 6.0, 'worked': 2.0, 'featured': 1.0, 'kind': 1.0, 'bbc': 1.0, 'new': 3.0, 'brought': 1.0, 'mens': 1.0, 'also': 2.0, 'novel': 7.0, 'jesus': 1.0, 'twoyear': 1.0, 'quillercouch': 1.0, '2010two': 1.0, 'lonely': 1.0, 'writer': 1.0, 'tells': 1.0, 'department': 1.0, 'prize': 1.0, 'manchester': 2.0, 'imagines': 1.0, 'third': 1.0, 'account': 1.0, 'woman': 1.0, 'university': 4.0, 'novelistsshe': 1.0, 'taught': 1.0, 'found': 1.0, 'however': 1.0, 'writing': 8.0, 'cambridge': 2.0, 'creative': 4.0, 'teens': 1.0, 'with': 3.0, 'is': 6.0, 'at': 6.0, 'award': 1.0, 'the': 22.0, 'of': 18.0, 'aims': 1.0, 'an': 3.0, 'hymas': 1.0, 'teenage': 1.0, 'currently': 1.0, 'death': 1.0, 'january': 2.0, 'published': 2.0, 'written': 1.0, 'there': 1.0, 'smithy': 1.0, 'poet': 1.0, 'lancasterin': 1.0, 'saints': 1.0, 'trask': 1.0, 'shows': 1.0, 'short': 1.0, 'odd': 1.0, 'march': 1.0, '2011': 2.0, 'its': 1.0, 'culture': 1.0, 'novels': 1.0, 'one': 3.0, 'won': 1.0, '12': 1.0, '2013': 1.0, 'own': 1.0, 'until': 1.0, 'stories': 1.0, 'reality': 1.0, 'her': 4.0, 'are': 1.0, 'first': 1.0, '2009': 1.0, 'lancashireshe': 1.0, 'intimacy': 1.0, 'mentor': 1.0, 'february': 1.0, 'a': 13.0, 'story': 2.0, 'failing': 1.0}, {'permanent': 1.0, 'museums': 1.0, 'sunday': 1.0, 'collection': 1.0, 'radio': 1.0, 'on': 1.0, 'been': 1.0, 'have': 1.0, 'design': 2.0, 'contributions': 1.0, 'prix': 1.0, 'its': 1.0, 'him': 1.0, 'internationale': 1.0, 'association': 1.0, '2002': 1.0, 'cooperhewitt': 1.0, 'by': 1.0, 'america': 1.0, 'designers': 1.0, 'designer': 2.0, 'typographique': 1.0, 'frerejones': 3.0, 'computer': 1.0, 'latterday': 1.0, 'for': 3.0, 'typefaces': 2.0, '20052014': 1.0, 'work': 2.0, 'from': 1.0, 'part': 2.0, 'operated': 1.0, 'hoefler': 8.0, 'working': 1.0, 'appearances': 1.0, 'began': 1.0, 'apple': 1.0, 'church': 1.0, 'an': 1.0, 'appearing': 1.0, 'type': 4.0, 'their': 1.0, 'with': 2.0, 'illustrated': 1.0, 'public': 2.0, 'r': 1.0, 'foundry': 2.0, 'saintsin': 1.0, 'name': 1.0, 'tobias': 1.0, 'born': 1.0, '1970': 1.0, 'giants': 1.0, 'a': 1.0, 'might': 1.0, 'national': 2.0, 'jonathan': 1.0, 'guggenheim': 1.0, 'id': 1.0, 'his': 1.0, 'peignot': 1.0, 'original': 1.0, 'current': 1.0, 'under': 1.0, 'typeface': 1.0, 'influential': 1.0, 'american': 1.0, 'morninghoeflers': 1.0, 'band': 1.0, '1999': 1.0, 'until': 1.0, 'designed': 3.0, 'system': 1.0, 'has': 1.0, 'outstanding': 1.0, 'pronounced': 1.0, 'stone': 1.0, 'clients': 1.0, 'charles': 1.0, 'founded': 1.0, 'heffler': 1.0, 'bazaar': 1.0, 'was': 1.0, 'company': 1.0, 'magazine': 5.0, 'macintosh': 1.0, 'family': 1.0, 'in': 6.0, 'and': 10.0, 'solomon': 1.0, 'time': 1.0, 'new': 3.0, 'profiled': 1.0, 'presented': 1.0, 'harpers': 1.0, 'museum': 1.0, 'august': 1.0, 'york': 3.0, 'atypi': 1.0, 'times': 2.0, 'is': 3.0, 'sports': 1.0, 'esquire': 2.0, 'text': 1.0, 'prestigious': 1.0, 'several': 1.0, 'including': 1.0, 'to': 1.0, 'institutional': 1.0, 'alternative': 1.0, 'most': 2.0, 'perhaps': 1.0, 'cbs': 1.0, 'they': 1.0, 'be': 1.0, 'splithoefler': 1.0, 'bestknown': 1.0, 'operating': 1.0, 'award': 1.0, 'the': 15.0, 'of': 6.0, '22': 1.0, 'now': 1.0, 'as': 1.0, 'he': 1.0, '1989': 1.0, 'also': 1.0, 'wordmark': 1.0, '1995': 1.0, 'named': 1.0, 'rolling': 1.0, 'one': 1.0, 'forty': 1.0}, {'port': 1.0, 'harbour': 1.0, 'pilots': 1.0, 'maritime': 1.0, 'uk': 1.0, 'laboratory': 1.0, 'plymouth': 1.0, 'european': 1.0, 'board': 1.0, 'freight': 3.0, 'chairman': 1.0, 'entitled': 1.0, 'questioned': 1.0, 'with': 1.0, 'police': 1.0, 'trains': 1.0, 'about': 2.0, 'president': 1.0, 'including': 1.0, 'on': 3.0, 'tabled': 1.0, 'many': 1.0, 'cycling': 1.0, 'marine': 1.0, 'parliamentary': 1.0, 'polruan': 1.0, 'party': 1.0, 'secretary': 1.0, 'sector': 1.0, '199697lord': 1.0, 'whip': 1.0, 'transport': 2.0, 'opposition': 2.0, 'entered': 1.0, 'first': 1.0, 'bicycles': 1.0, 'for': 3.0, 'cambridge': 1.0, 'to': 5.0, 'rail': 3.0, 'college': 2.0, 'up': 1.0, 'mice': 1.0, 'born': 1.0, 'september': 1.0, 'aunt': 1.0, 'being': 2.0, 'questions': 2.0, 'lord': 1.0, 'peer': 3.0, 'all': 1.0, 'spokesperson': 1.0, 'an': 3.0, 'industry': 1.0, 'politician': 1.0, 'regards': 1.0, 'matters': 1.0, 'wimpey': 1.0, 'fowey': 1.0, 'cranford': 1.0, 'labour': 2.0, 'dsc': 1.0, 'a': 8.0, 'is': 6.0, 'at': 1.0, 'body': 1.0, 'as': 6.0, 'hon': 2.0, 'british': 1.0, 'obe': 1.0, 'eton': 1.0, 'hereditary': 2.0, 'he': 9.0, 'gueterbock': 4.0, 'plc': 1.0, 'peerafter': 1.0, 'parliamentsince': 1.0, 'baron': 4.0, 'eurotunnel': 1.0, 'berkeley': 9.0, 'foleyberkeley': 1.0, 'sitting': 1.0, 'title': 1.0, 'life': 2.0, 'into': 1.0, 'fcit': 1.0, 'succeeding': 1.0, 'peers': 2.0, 'ceng': 1.0, 'fitzhardinge': 1.0, 'positions': 1.0, 'created': 1.0, 'member': 1.0, 'liberties': 1.0, 'in': 9.0, 'anthony': 1.0, 'seats': 1.0, 'following': 1.0, '8595gueterbock': 1.0, 'restrictions': 1.0, 'asked': 1.0, 'fimeche': 1.0, 'right': 1.0, 'borough': 1.0, 'frsa': 1.0, '20': 1.0, 'commissioner': 1.0, 'conduct': 1.0, 'known': 1.0, '18th': 1.0, 'cornwalllord': 1.0, '199697': 1.0, 'engineer': 2.0, 'tony': 1.0, 'trinity': 1.0, 'years': 1.0, '1939': 1.0, 'english': 1.0, 'graduated': 1.0, 'representative': 1.0, 'guests': 1.0, 'then': 1.0, 'educated': 1.0, 'upon': 1.0, 'career': 1.0, 'embarked': 1.0, 'civil': 2.0, 'engineering': 1.0, 'joining': 1.0, 'removal': 1.0, 'both': 1.0, 'house': 4.0, 'hillingdon': 1.0, 'george': 1.0, '2000': 1.0, 'association': 2.0, 'bring': 1.0, 'worked': 2.0, 'until': 1.0, '1985': 1.0, 'has': 4.0, 'next': 1.0, 'trustee': 1.0, 'ten': 1.0, 'lives': 1.0, 'held': 1.0, 'too': 1.0, 'inherited': 1.0, 'his': 2.0, 'ancestors': 1.0, 'ancient': 1.0, 'the': 16.0, 'of': 17.0, 'where': 2.0, '1992': 2.0, 'mary': 1.0, 'group': 2.0, '17th': 1.0, 'and': 6.0, 'baroness': 1.0, 'was': 1.0, 'went': 1.0, 'ma': 1.0, 'london': 1.0, 'so': 1.0, 'remain': 1.0, 'lordshe': 1.0, 'automatic': 1.0, 'also': 4.0, 'lords': 3.0}, {'won': 1.0, 'capital': 1.0, '2013chernushenko': 1.0, 'great': 1.0, '2008': 1.0, 'three': 1.0, 'produced': 1.0, 'project': 1.0, 'launched': 1.0, 'make': 1.0, 'business': 1.0, 'time': 1.0, 'devote': 1.0, 'order': 1.0, '2007': 1.0, 'resigned': 1.0, '20082009chernushenko': 1.0, 'vicechair': 1.0, 'sectors': 1.0, 'society': 1.0, 'economic': 1.0, 'social': 1.0, 'excellence': 1.0, 'pursuit': 1.0, 'his': 1.0, 'integrated': 1.0, 'films': 1.0, 'promote': 1.0, 'works': 1.0, 'advises': 1.0, 'panel': 1.0, 'economy': 1.0, 'canadas': 2.0, 'appointed': 1.0, 'harper': 1.0, 'november': 1.0, 'electionon': 1.0, 'south': 1.0, 'documentaries': 1.0, 'also': 1.0, 'elections': 1.0, 'both': 1.0, 'newspaper': 1.0, 'since': 2.0, '1998': 2.0, 'government': 2.0, 'cooperativehe': 1.0, 'stephen': 1.0, 'local': 1.0, 'by': 2.0, 'documentary': 2.0, 'for': 8.0, '10': 2.0, 'bodieschernushenko': 1.0, 'groups': 1.0, 'committees': 2.0, 'advisory': 1.0, 'receiving': 1.0, 'served': 4.0, 'contestant': 1.0, 'gold': 1.0, 'environment': 4.0, 'department': 1.0, 'on': 8.0, 'practices': 2.0, 'table': 1.0, 'consulting': 2.0, 'dfait': 1.0, 'trade': 1.0, 'canadian': 2.0, 'has': 5.0, 'candidate': 4.0, 'worked': 1.0, 'building': 1.0, 'cambridge': 1.0, 'alumnus': 1.0, 'consultant': 1.0, 'science': 1.0, 'including': 1.0, 'political': 1.0, 'reimbursement': 1.0, 'university': 2.0, 'graduate': 1.0, 'elected': 1.0, '2001': 2.0, 'highest': 1.0, '2009': 1.0, 'deputy': 2.0, 'member': 1.0, 'games': 1.0, 'that': 4.0, 'democratic': 1.0, 'canada': 4.0, 'program': 1.0, 'senior': 1.0, '1996': 1.0, 'housing': 1.0, 'organizations': 1.0, 'expenditures': 1.0, 'sustainability': 1.0, 'about': 1.0, 'leadership': 2.0, 'june': 1.0, 'affairs': 1.0, 'was': 3.0, 'professional': 2.0, 'nations': 1.0, '4134': 1.0, 'be': 1.0, 'schools': 1.0, 'he': 14.0, '4730': 1.0, '2010': 3.0, 'nonpartisan': 1.0, 'to': 10.0, 'as': 6.0, 'chernushenko': 7.0, 'endorsed': 1.0, 'management': 2.0, 'clean': 1.0, 'prime': 1.0, 'engages': 1.0, 'again': 2.0, 'born': 1.0, 'former': 2.0, 'civil': 1.0, 'david': 1.0, 'becoming': 1.0, 'agency': 1.0, 'relations': 1.0, '1963': 1.0, 'election': 5.0, 'in': 23.0, 'commission': 1.0, 'party': 6.0, 'boards': 1.0, 'energy': 3.0, 'health': 1.0, 'cida': 1.0, 'development': 1.0, 'councillor': 1.0, 'a': 7.0, 'ottawa': 8.0, 'cofounded': 1.0, 'lightly': 1.0, 'leader': 2.0, 'council': 1.0, 'city': 4.0, 'partya': 1.0, 'powerful': 1.0, 'books': 1.0, 'running': 3.0, 'speaker': 1.0, 'leed': 1.0, 'programme': 1.0, 'campuses': 1.0, 'international': 5.0, 'policy': 1.0, 'filmmaker': 1.0, 'threshold': 1.0, 'reelection': 2.0, 'ontario': 2.0, 'more': 3.0, 'of': 14.0, 'ran': 3.0, 'municipal': 2.0, 'earth': 1.0, '2014': 2.0, 'is': 6.0, 'adopting': 1.0, '2003': 1.0, 'sports': 1.0, 'certification': 1.0, 'socially': 1.0, 'july': 1.0, 'firm': 1.0, 'and': 28.0, 'united': 1.0, 'green': 8.0, 'advised': 1.0, 'nrtee': 2.0, 'owner': 1.0, 'campaign': 1.0, 'public': 2.0, 'design': 1.0, 'private': 2.0, 'ward': 1.0, 'publication': 1.0, 'nonprofit': 1.0, 'then': 1.0, 'dewar': 1.0, 'sustainable': 4.0, 'practicesfrom': 1.0, 'responsible': 1.0, '2004': 3.0, 'champions': 1.0, 'cost': 1.0, 'iisdacccunep': 1.0, 'sport': 2.0, 'several': 1.0, 'accredited': 1.0, 'unep': 1.0, 'greening': 2.0, 'queens': 1.0, '102': 1.0, 'our': 1.0, 'titled': 1.0, 'events': 1.0, 'centre': 2.0, 'facilities': 1.0, 'activity': 1.0, 'wont': 1.0, 'general': 1.0, 'centurion': 1.0, 'round': 1.0, '1994': 1.0, 'losing': 1.0, 'electronic': 1.0, 'calgary': 1.0, 'their': 1.0, 'communities': 1.0, 'air': 2.0, 'national': 2.0, 'charity': 1.0, 'minister': 1.0, 'athletes': 1.0, 'raising': 1.0, 'pollution': 1.0, 'other': 1.0, 'olympic': 1.0, '8': 1.0, 'climate': 1.0, 'change': 2.0, 'benefits': 1.0, 'physical': 1.0, 'inc': 1.0, 'director': 1.0, 'alberta': 1.0, 'federal': 3.0, 'finished': 1.0, 'with': 2.0, 'environmental': 3.0, 'votes': 3.0, 'than': 1.0, 'any': 2.0, 'living': 1.0, 'citizen': 1.0, 'the': 37.0, '2006': 5.0, 'came': 1.0, 'paul': 1.0, 'bike': 1.0, 'from': 2.0, 'ndp': 1.0, 'received': 1.0, 'written': 1.0, 'passed': 1.0, '6766': 1.0, 'vote': 2.0, 'multimedia': 1.0, 'foreign': 1.0, 'fourth': 2.0, 'count': 1.0, 'thus': 1.0, 'everyone': 1.0, 'eligible': 1.0, 'politician': 1.0, 'awareness': 1.0, 'new': 1.0, 'partial': 1.0}, {'gap': 1.0, 'project': 1.0, 'electronic': 1.0, 'from': 1.0, 'content': 1.0, 'contributes': 1.0, 'thirteen': 1.0, 'age': 1.0, 'vhs': 1.0, 'childhood': 1.0, 'during': 1.0, 'painting': 1.0, 'drawing': 1.0, 'with': 2.0, 'topic': 1.0, 'time': 2.0, 'main': 1.0, 'stoner': 1.0, 'genre': 1.0, 'musical': 2.0, 'fans': 1.0, 'have': 1.0, '2006': 1.0, 'first': 1.0, 'are': 1.0, 'but': 1.0, 'most': 1.0, 'who': 2.0, 'known': 1.0, 'to': 6.0, 'as': 2.0, 'exist': 1.0, 'truckfighters': 3.0, 'desert': 2.0, 'subcultures': 1.0, 'and': 10.0, 'seeks': 1.0, 'genres': 1.0, 'short': 1.0, 'fictional': 1.0, 'this': 1.0, 'few': 1.0, 'films': 2.0, 'started': 1.0, 'filmmaker': 1.0, 'way': 1.0, 'documentaries': 1.0, 'design': 1.0, 'produced': 1.0, 'artist': 1.0, 'designerartist': 1.0, 'steineck': 4.0, 'on': 2.0, 'editor': 1.0, 'german': 1.0, 'media': 1.0, 'josh': 1.0, 'since': 1.0, 'edge': 1.0, 'underground': 1.0, 'story': 1.0, 'a': 7.0, 'combines': 1.0, 'people': 1.0, 'music': 3.0, 'his': 8.0, 'film': 3.0, 'unconventional': 1.0, 'is': 4.0, 'elements': 1.0, 'he': 4.0, 'joerg': 1.0, 'about': 1.0, 'common': 2.0, 'including': 1.0, 'influence': 1.0, 'berlinduring': 1.0, 'graphic': 2.0, 'in': 6.0, 'shot': 1.0, 'bands': 1.0, 'parallel': 1.0, 'explores': 1.0, 'often': 1.0, 'which': 1.0, 'based': 1.0, 'release': 1.0, 'camera': 1.0, 'nevertheless': 1.0, 'trailers': 1.0, 'extraordinary': 1.0, 'stories': 1.0, 'due': 1.0, 'generate': 1.0, 'appearances': 1.0, 'unique': 1.0, 'also': 3.0, 'atmospheres': 1.0, 'tell': 2.0, 'works': 1.0, 'the': 7.0, 'of': 7.0, 'attention': 2.0, 'illustrator': 1.0, '84minute': 1.0, 'or': 2.0, 'feature': 1.0, 'audiovisual': 1.0, 'creative': 2.0, 'swedish': 1.0, 'rock': 2.0, 'band': 1.0, 'manchu': 1.0, 'fuzzomentary': 1.0, 'guest': 1.0, 'well': 1.0, 'study': 1.0, 'attracted': 2.0, 'musicians': 1.0, 'homme': 1.0, 'friends': 1.0, 'available': 1.0, 'fu': 1.0, 'lo': 1.0, 'societyhe': 1.0, 'sound': 1.0, 'photographing': 1.0, 'development': 1.0, 'set': 1.0, 'such': 1.0, 'documentary': 2.0, 'for': 2.0, 'internet': 1.0, '2012': 1.0}, {'pocket': 1.0, 'lumen': 1.0, 'credo': 1.0, 'course': 1.0, 'catechetical': 1.0, 'evangelium': 1.0, 'academic': 1.0, 'besides': 1.0, 'virtues': 1.0, 'ethics': 1.0, 'perspective': 1.0, 'book': 1.0, 'recent': 1.0, 'most': 1.0, 'prominent': 1.0, 'him': 1.0, 'who': 1.0, 'written': 1.0, 'gifts': 1.0, 'faith': 1.0, 'on': 1.0, 'college': 2.0, 'cognition': 1.0, 'louis': 1.0, 'from': 4.0, 'physics': 3.0, 'focus': 1.0, 'diocese': 1.0, 'present': 1.0, 'pontifical': 1.0, 'catholic': 3.0, 'as': 1.0, 'kingdom': 1.0, 'harris': 1.0, 'perception': 1.0, 'application': 1.0, 'three': 1.0, 'fellow': 1.0, 'faculty': 1.0, 'in': 8.0, 'member': 2.0, 'director': 1.0, 'moral': 1.0, 'autism': 1.0, 'priest': 1.0, 'experiment': 1.0, 'at': 2.0, 'is': 6.0, 'arundel': 1.0, '1966': 1.0, 'research': 4.0, 'centre': 1.0, 'of': 15.0, 'the': 14.0, 'apologia': 1.0, 'coauthor': 2.0, 'and': 15.0, 'brighton': 1.0, '19': 1.0, 'manchester': 1.0, 'identified': 1.0, 'secondperson': 2.0, 'pinsent': 2.0, 'young': 1.0, 'andrew': 1.0, 'character': 1.0, 'aquinass': 1.0, 'for': 3.0, 'gregorian': 1.0, 'england': 1.0, 'his': 3.0, 'philosophy': 2.0, 'books': 1.0, 'routledge': 1.0, 'august': 1.0, 'ian': 1.0, 'further': 1.0, 'phd': 1.0, 'fr': 1.0, 'issues': 1.0, 'theology': 2.0, 'herald': 1.0, 'oxford': 2.0, '2012': 1.0, 'tutor': 1.0, 'university': 3.0, 'media': 1.0, 'a': 12.0, 'dphil': 1.0, 'accounts': 1.0, 'formation': 1.0, 'previous': 1.0, 'thirtyone': 1.0, 'merton': 1.0, 'contributed': 1.0, 'delphi': 1.0, 'collaborationfr': 1.0, 'institute': 2.0, 'has': 3.0, 'social': 1.0, 'class': 1.0, 'rome': 1.0, 'first': 1.0, 'publications': 2.0, 'degrees': 1.0, 'born': 1.0, 'various': 1.0, 'maryvale': 1.0, 'religion': 1.0, 'degree': 1.0, 'to': 2.0, 'high': 1.0, 'cern': 1.0, 'energy': 1.0, 'also': 2.0, 'he': 5.0, 'united': 1.0, 'scientific': 1.0, 'birmingham': 1.0, 'saint': 1.0, 'been': 1.0, 'ramsey': 1.0, 'interviewed': 1.0, 'science': 2.0, 'including': 1.0, 'insights': 1.0, 'bbc': 1.0, 'ewtn': 1.0}, {'hall': 1.0, 'gaa': 1.0, 'inducted': 1.0, 'which': 1.0, 'millennium': 1.0, 'selected': 2.0, 'at': 1.0, 'blue': 1.0, 'dunnes': 1.0, 'lasting': 1.0, 'problema': 1.0, 'xv': 1.0, 'championship': 1.0, 'fame': 1.0, 'centre': 3.0, 'he': 3.0, '6': 1.0, 'club': 2.0, 'his': 5.0, '1950swith': 1.0, 'ireland': 2.0, 'up': 1.0, 'the': 15.0, 'of': 6.0, 'due': 1.0, 'regarded': 1.0, 'widely': 1.0, 'tribute': 1.0, 'medals': 1.0, 'greatness': 1.0, 'and': 4.0, 'meath': 1.0, 'play': 1.0, 'two': 1.0, 'following': 2.0, 'would': 1.0, 'players': 1.0, '1953called': 1.0, '2008': 1.0, 'outstanding': 2.0, 'in': 11.0, 'one': 2.0, 'for': 4.0, 'jersey': 2.0, 'railway': 1.0, '1952': 2.0, 'they': 1.0, 'county': 1.0, 'a': 3.0, 'paddy': 2.0, 'half': 2.0, '59': 1.0, 'has': 1.0, 'many': 1.0, 'back': 4.0, 'gaelic': 1.0, 'as': 2.0, 'other': 1.0, 'all': 2.0, 'to': 4.0, 'from': 2.0, 'narrowly': 1.0, 'white': 1.0, 'position': 1.0, 'team': 4.0, 'selection': 1.0, 'was': 7.0, 'titles': 1.0, 'still': 1.0, 'player': 2.0, 'retired': 1.0, 'laoishe': 1.0, 'dunne': 2.0, 'no': 1.0, 'years': 2.0, 'senior': 2.0, 'on': 4.0, '1949': 1.0, 'captain': 1.0, 'performances': 1.0, 'won': 1.0, 'who': 1.0, 'into': 1.0, 'three': 1.0, 'park': 3.0, 'were': 1.0, 'played': 3.0, 'beaten': 1.0, 'leinster': 4.0, 'by': 1.0, 'football': 6.0, '1954': 2.0, '1951': 1.0, 'laois': 8.0, 'final': 2.0, 'be': 2.0, 'agonising': 1.0, 'there': 1.0, 'rest': 1.0, 'famous': 2.0, 'recurring': 1.0, 'when': 1.0, 'suffered': 1.0, 'another': 1.0, 'finalhe': 1.0, 'consecutive': 1.0, 'field': 1.0, 'defeat': 1.0, 'backin': 1.0, '1959': 1.0, 'also': 1.0, 'colm': 1.0, 'province': 1.0, 'winning': 1.0, 'cup': 1.0, 'only': 1.0, 'emulate': 1.0, '1953': 2.0, 'featdunne': 1.0, 'browne': 1.0, 'managed': 1.0, 'few': 1.0, 'this': 1.0}, {'philharmonic': 1.0, 'performed': 1.0, 'released': 1.0, 'label': 1.0, 'unionnaxos': 1.0, 'directors': 1.0, 'board': 1.0, 'athenssince': 1.0, 'been': 1.0, 'schools': 1.0, 'sofia': 1.0, 'top': 1.0, 'technology': 1.0, 'teaches': 1.0, 'projects': 1.0, 'an': 1.0, 'cultural': 1.0, 'anax': 1.0, 'company': 1.0, 'runs': 1.0, 'imaginary': 1.0, 'ergon': 1.0, 'manager': 1.0, 'releases': 1.0, 'productions': 1.0, 'orchestrashe': 1.0, 'member': 2.0, 'in': 2.0, 'dance': 2.0, 'lathos': 1.0, 'european': 1.0, 'important': 1.0, 'konstantinos': 1.0, 'group': 1.0, 'choreographer': 1.0, 'production': 2.0, 'michos': 1.0, 'commercials': 1.0, 'from': 1.0, 'ensemblehe': 1.0, '2004': 2.0, 'received': 1.0, 'composed': 2.0, 'he': 7.0, 'for': 5.0, 'airesis': 1.0, 'videos': 1.0, 'own': 1.0, 'organizations': 1.0, 'games': 1.0, 'composer': 1.0, 'them': 1.0, 'has': 5.0, 'olympic': 1.0, 'greek': 5.0, 'titled': 1.0, 'the': 15.0, 'of': 10.0, 'recent': 1.0, 'advanced': 1.0, '1998': 1.0, 'a': 2.0, 'commissions': 1.0, 'dimitris': 1.0, 'orchestra': 1.0, 'vironas': 1.0, 'project': 1.0, '1962': 1.0, 'among': 1.0, 'collaborated': 1.0, 'works': 1.0, 'days': 1.0, 'companyhis': 1.0, 'orchestral': 2.0, 'kinissi': 1.0, 'under': 1.0, 'at': 1.0, 'is': 2.0, 'with': 6.0, 'various': 2.0, 'born': 1.0, 'xanthoudakis': 1.0, 'mouzas': 1.0, 'ensembles': 1.0, 'director': 1.0, 'and': 9.0, 'theodore': 1.0, 'composers': 1.0, 'theory': 1.0, 'television': 2.0, 'antoniou': 1.0, 'haris': 1.0, '2003in': 1.0, 'electronic': 1.0, 'section': 1.0, 'most': 1.0, 'programme': 1.0, 'cd': 2.0, 'trisha': 1.0, 'never': 1.0, 'documentaries': 1.0, 'left': 1.0, 'papageno': 1.0, 'calamity': 1.0, 'original': 2.0, 'films': 1.0, 'dawn': 1.0, 'professional': 2.0, 'activities': 2.0, 'management': 1.0, 'include': 2.0, 'till': 1.0, 'imagerelated': 1.0, 'series': 1.0, 'written': 1.0, 'organizing': 1.0, 'short': 1.0, 'founding': 1.0, 'studied': 1.0, 'channelshe': 1.0, 'was': 1.0, 'kamarotos': 1.0, 'many': 1.0, 'artistic': 1.0, 'alexandros': 1.0, 'new': 1.0, 'media': 1.0, 'edge': 1.0, 'commission': 1.0, 'home': 1.0, 'by': 2.0, 'athens': 2.0, 'composition': 1.0, 'committee': 1.0, 'corporate': 1.0, 'film': 2.0, 'music': 9.0, 'his': 2.0}, {'schoolboard': 1.0, 'serves': 1.0, 'currently': 1.0, '6806': 1.0, 'votes': 1.0, 'glenn': 1.0, 'results': 1.0, 'november': 1.0, 'held': 1.0, 'election': 1.0, 'closely': 1.0, 'more': 1.0, 'study': 1.0, 'use': 1.0, 'are': 1.0, 'i': 1.0, 'believe': 1.0, 'people': 2.0, 'than': 1.0, 'rather': 1.0, 'saying': 1.0, 'thinking': 1.0, 'their': 2.0, 'improve': 1.0, 'can': 1.0, 'darwin': 1.0, 'considers': 1.0, 'curricula': 1.0, 'dealing': 1.0, 'be': 1.0, 'would': 1.0, 'interview': 1.0, 'telephone': 1.0, 'disclose': 1.0, 'not': 2.0, 'did': 1.0, 'establish': 1.0, 'restore': 1.0, 'services': 1.0, 'offered': 1.0, 'county': 1.0, 'north': 1.0, 'links': 1.0, 'an': 1.0, 'as': 4.0, 'designcampbell': 1.0, 'promotion': 1.0, 'engage': 1.0, 'journal': 1.0, 'design': 3.0, 'june': 1.0, 'board': 1.0, 'but': 2.0, 'served': 1.0, 'think': 2.0, 'there': 1.0, 'campbell': 3.0, 'on': 4.0, 'international': 1.0, 'students': 1.0, 'mason': 1.0, 'institute': 1.0, 'branch': 1.0, 'transparency': 1.0, 'culture': 2.0, 'rhetoric': 2.0, 'tank': 1.0, 'collection': 1.0, 'by': 1.0, 'intelligent': 2.0, 'usa': 1.0, 'discovery': 1.0, '3194': 1.0, 'id': 1.0, 'his': 4.0, 'christian': 1.0, 'landram': 1.0, 'seat': 1.0, 'in': 7.0, '1406': 1.0, 'skills': 1.0, 'oregon': 1.0, 'demonizing': 1.0, 'conservative': 1.0, 'quoted': 1.0, 'angus': 1.0, 'ideas': 1.0, 'born': 1.0, 'complexity': 1.0, 'interest': 1.0, 'professional': 1.0, 'to': 6.0, 'meyer': 1.0, 'also': 1.0, 'communications': 2.0, 'debating': 1.0, '2': 1.0, 'darwinism': 2.0, '1942': 1.0, 'ran': 1.0, 'the': 17.0, 'of': 13.0, 'and': 13.0, 'v': 1.0, '2996': 1.0, 'for': 5.0, '10': 1.0, 'john': 2.0, 'fellow': 2.0, 'a': 12.0, 'science': 2.0, 'defense': 1.0, 'professor': 3.0, 'ways': 1.0, 'dover': 1.0, 'day': 1.0, 'memphis': 1.0, 'is': 4.0, 'at': 2.0, 'who': 2.0, 'could': 1.0, 'assistant': 1.0, 'university': 2.0, 'retirement': 1.0, 'center': 2.0, 'affairscampbell': 1.0, 'from': 3.0, '19681995': 1.0, 'portland': 1.0, '1995': 1.0, 'unofficial': 1.0, 'society': 2.0, 'retired': 1.0, 'until': 1.0, 'american': 1.0, 'school': 2.0, 'public': 2.0, 'washington': 2.0, '2005': 2.0, 'together': 1.0, 'articles': 1.0, 'with': 2.0, 'showed': 1.0, 'critical': 1.0, 'stephen': 1.0, '6': 1.0, 'c': 1.0, 'dedicated': 1.0, 'march': 1.0, 'he': 7.0, 'edited': 1.0, 'education': 1.0, 'was': 3.0, 'darwinist': 1.0, 'that': 4.0, 'associate': 1.0, 'slated': 1.0, '2007': 2.0, 'appear': 1.0, 'witness': 1.0, 'defeating': 1.0, 'scheduled': 1.0, 'kitzmiller': 1.0, 'trust': 1.0, 'district': 1.0, 'information': 1.0, 'area': 1.0, 'incumbent': 1.0, 'trial': 1.0, 'withdrew': 1.0, 'stated': 1.0, 'depositionin': 1.0}, {'video': 1.0, 'tribute': 1.0, 'unreleased': 1.0, 'walker': 1.0, 'cook': 1.0, 'bertram': 1.0, 'aaron': 1.0, 'albumchris': 1.0, 'world': 1.0, 'performed': 1.0, 'county': 1.0, 'orange': 1.0, 'hospital': 1.0, 'has': 1.0, 'produced': 1.0, '2001': 1.0, 'batstone': 2.0, 'their': 2.0, 'on': 8.0, 'joined': 1.0, 'and': 6.0, 'cowriting': 1.0, 'reportedly': 1.0, 'i': 2.0, 'singer': 2.0, 'replaced': 1.0, 'left': 2.0, 'dallas': 1.0, 'recording': 2.0, 'lead': 2.0, 'credits': 1.0, 'only': 1.0, 'suburban': 4.0, 'various': 1.0, 'he': 4.0, '20002002': 1.0, 'released': 1.0, 'tim': 4.0, 'band': 9.0, 'nights': 1.0, '2002': 2.0, 'more': 2.0, 'benefit': 1.0, 'of': 4.0, 'the': 21.0, 'official': 1.0, 'was': 4.0, 'chris': 3.0, 'also': 2.0, 'song': 1.0, 'pursue': 1.0, 'after': 1.0, 'compilation': 2.0, 'along': 1.0, 'replacement': 1.0, 'as': 2.0, 'became': 1.0, 'to': 2.0, 'in': 5.0, 'for': 4.0, 'seen': 1.0, 'origin': 1.0, '2000': 1.0, 'vince': 1.0, 'thirdwave': 1.0, 'maurer': 2.0, 'legends': 4.0, 'first': 2.0, 'ep': 2.0, 'rose': 1.0, 'ska': 1.0, 'edition': 1.0, 'who': 2.0, 'cover': 1.0, 'tracks': 1.0, 'found': 2.0, 'early': 1.0, 'childrens': 1.0, 'gummi': 1.0, 'increasingly': 1.0, 'direction': 1.0, 'taking': 1.0, 'want': 2.0, 'compilations': 1.0, 'supporting': 1.0, 'decided': 1.0, 'remixchris': 1.0, 'care': 1.0, 'all': 1.0, 'ephe': 1.0, 'dissatisfied': 1.0, 'other': 1.0, 'an': 2.0, 'directions': 1.0, 'acting': 1.0, 'my': 1.0, 'musical': 1.0, 'careerhe': 1.0, 'vocal': 1.0, 'by': 1.0, 'desperate': 1.0, 'rejoined': 1.0, 'rerecorded': 1.0, 'selftitled': 1.0, 'create': 1.0, 'had': 1.0, 'songs': 1.0, 'can': 2.0, 'be': 2.0, 'with': 5.0, 'singing': 2.0, 'scene': 1.0, 'tint': 1.0, 'bears': 1.0, 'recorded': 1.0, 'because': 1.0, 'then': 1.0, 'we': 1.0, 'a': 1.0}, {'resulting': 1.0, 'six': 1.0, 'positions': 1.0, 'secondfiddle': 1.0, 'bench': 1.0, 'time': 2.0, 'much': 1.0, '200809': 1.0, 'return': 1.0, 'france': 1.0, 'cup': 1.0, '2007': 1.0, 'duty': 1.0, 'on': 3.0, 'was': 2.0, 'jones': 3.0, 'starting': 1.0, 'pointsthomas': 1.0, '2008': 1.0, 'barry': 1.0, 'fullback': 1.0, 'berth': 1.0, 'sharing': 1.0, 'league': 3.0, 'magners': 3.0, '200607': 1.0, 'hold': 1.0, 'managed': 1.0, 'but': 2.0, '200506': 1.0, 'priestland': 2.0, 'davies': 1.0, 'only': 2.0, 'another': 1.0, 'making': 1.0, 'favour': 1.0, 'out': 1.0, 'world': 1.0, 'falling': 1.0, 'before': 2.0, 'more': 2.0, 'appearance': 2.0, 'lost': 1.0, 'last': 1.0, 'months': 1.0, 'career': 1.0, '2006': 1.0, '14': 1.0, 'that': 1.0, 'fullbackthomas': 1.0, 'celtic': 1.0, 'spent': 2.0, 'played': 2.0, 'born': 1.0, 'with': 3.0, 'three': 2.0, 'team': 1.0, 'position': 1.0, 'not': 2.0, 'carnegie': 2.0, 'and': 7.0, 'union': 1.0, '110': 1.0, 'play': 1.0, 'other': 1.0, 'playing': 3.0, 'are': 1.0, 'in': 15.0, '950': 1.0, 'flyhalf': 4.0, '23': 1.0, 'one': 1.0, 'down': 1.0, 'pirates': 1.0, 'ceiron': 1.0, 'slovenia': 1.0, 'scored': 2.0, 'he': 6.0, 'st': 1.0, 'thomas': 6.0, 'converting': 1.0, 'october': 1.0, 'june': 2.0, 'starts': 1.0, 'llanelli': 2.0, 'a': 4.0, 'majority': 1.0, '1983': 1.0, 'until': 2.0, 'stephen': 1.0, 'signing': 1.0, 'morgan': 1.0, 'ives': 1.0, 'after': 2.0, 'his': 8.0, 'almost': 1.0, 'transfer': 1.0, '200405': 1.0, '2012': 1.0, 'footballer': 1.0, 'rugby': 3.0, 'wales': 1.0, 'april': 2.0, 'total': 1.0, 'often': 1.0, '10': 1.0, 'duties': 1.0, 'for': 7.0, 'two': 2.0, 'national': 1.0, 'from': 1.0, 'though': 1.0, 'season': 4.0, 'as': 1.0, 'welsh': 1.0, 'december': 1.0, 'scoring': 1.0, 'llanellibased': 1.0, 'debut': 1.0, 'rival': 1.0, 'previous': 1.0, '25': 2.0, 'rhys': 1.0, 'region': 1.0, 'including': 2.0, '2003': 1.0, 'place': 1.0, 'cornish': 1.0, 'began': 2.0, 'currently': 1.0, 'appearances': 5.0, '2009': 2.0, 'stoddart': 1.0, 'again': 2.0, 'wing': 1.0, 'friendly': 1.0, 'regular': 2.0, 'won': 1.0, 'game': 2.0, 'scarlets': 4.0, 'the': 23.0, 'of': 4.0, 'tries': 1.0, 'them': 1.0, 'eleven': 1.0, 'also': 1.0, 'penalty': 1.0, 'at': 5.0, 'is': 3.0, 'rfc': 1.0, 'bringing': 1.0, 'points': 1.0, 'leeds': 2.0, 'against': 1.0, 'to': 5.0, 'number': 1.0, '200304': 2.0, 'clubs': 1.0, 'five': 1.0, 'when': 1.0, 'leaguehowever': 1.0, 'did': 1.0, 'regional': 1.0, 'made': 6.0, 'side': 2.0, 'while': 1.0, '200708': 1.0, '2005': 1.0, '18': 1.0}, {'sport': 1.0, 'jendouba': 1.0, 'now': 1.0, 'is': 1.0, 'returned': 1.0, '31': 1.0, 'shortly': 2.0, 'sellimis': 1.0, 'turned': 1.0, 'korea': 1.0, 'about': 1.0, 'brought': 1.0, 'teams': 1.0, 'coupled': 1.0, 'henri': 1.0, 'former': 1.0, 'fallout': 1.0, 'mali': 1.0, 'missing': 1.0, '2001': 1.0, 'breaka': 1.0, 'winter': 1.0, 'going': 1.0, 'goalscoring': 1.0, 'bundesligas': 1.0, 'scoring': 1.0, 'not': 1.0, '19992000': 1.0, 'way': 1.0, 'detractors': 1.0, 'however': 1.0, 'recall': 1.0, 'year': 1.0, 'too': 1.0, 'benslimane': 1.0, 'mehdi': 1.0, 'zoubeir': 1.0, 'internationals': 1.0, 'recently': 1.0, 'other': 1.0, 'fellow': 1.0, 'with': 4.0, 'freiburg': 2.0, 'steady': 1.0, 'put': 1.0, 'many': 1.0, 'where': 1.0, 'squad': 1.0, '1998': 1.0, 'this': 1.0, 'form': 3.0, 'singularly': 1.0, 'name': 1.0, 'dubbed': 1.0, 'matches': 2.0, 'professional': 1.0, 'determined': 1.0, 'modest': 1.0, 'level': 1.0, 'marked': 1.0, 'head': 1.0, 'appreciate': 1.0, 'following': 2.0, 'against': 3.0, 'became': 2.0, 'to': 12.0, 'discretion': 1.0, 'cap': 1.0, 'number': 1.0, 'permanent': 1.0, 'grew': 1.0, 'callup': 2.0, 'drew': 1.0, 'jan': 1.0, 'ball': 1.0, 'pitch': 1.0, 'born': 1.0, 'clocked': 1.0, 'along': 1.0, 'olympic': 1.0, 'quick': 1.0, 'tunisia': 3.0, 'yearstunisians': 1.0, 'friendlies': 1.0, 'even': 1.0, 'of': 15.0, 'titles': 1.0, 'virtually': 1.0, 'tunisian': 2.0, 'out': 3.0, 'during': 4.0, 'strength': 1.0, 'two': 2.0, 'national': 4.0, 'years': 1.0, 'performance': 1.0, 'be': 1.0, 'it': 1.0, '1978': 1.0, 'start': 1.0, 'countrys': 1.0, 'match': 2.0, '16': 1.0, 'anchorman': 1.0, 'atlanta': 1.0, 'throughout': 1.0, '14': 1.0, 'picking': 1.0, 'premier': 1.0, 'pace': 1.0, 'could': 1.0, 'striker': 1.0, 'fc': 1.0, 'him': 4.0, 'he': 16.0, 'first': 5.0, 'season': 3.0, 'semifinal': 1.0, 'promising': 1.0, 'atlantique': 1.0, 'district': 1.0, 'move': 1.0, 'as': 3.0, 'nation': 1.0, 'child': 1.0, 'adel': 2.0, 'germany': 1.0, 'drought': 1.0, 'stayed': 1.0, 'michel': 1.0, '1972': 1.0, 'football': 3.0, 'list': 1.0, 'wrong': 1.0, 'twice': 1.0, 'goals': 2.0, 'wayhis': 1.0, 'sellimi': 7.0, 'arabic': 1.0, 'took': 2.0, 'inspiration': 1.0, 'afterwards': 1.0, 'distinguished': 1.0, 'household': 1.0, 'widely': 1.0, 'his': 11.0, 'true': 1.0, 'movement': 1.0, 'team': 4.0, 'retired': 1.0, 'himself': 2.0, 'outside': 1.0, 'gaining': 1.0, 'earned': 4.0, 'headed': 1.0, 'possible': 1.0, 'final': 1.0, 'japan': 1.0, 'jedid': 1.0, 'enjoyed': 1.0, 'carried': 1.0, 'promotion': 1.0, 'next': 2.0, 'carved': 1.0, 'creativity': 1.0, 'distance': 1.0, 'on': 6.0, 'second': 2.0, '10': 1.0, 'purchase': 1.0, 'for': 5.0, 'mistaken': 1.0, 'cup': 7.0, 'gamble': 1.0, '199798': 1.0, 'african': 3.0, 'from': 2.0, 'who': 2.0, 'limelight': 1.0, 'tunis': 2.0, 'showing': 1.0, 'league': 1.0, 'lead': 1.0, 'at': 6.0, 'finals': 1.0, 'in': 22.0, 'age': 2.0, 'frenchmans': 1.0, 'win': 1.0, 'swansong': 1.0, 'a': 17.0, 'hit': 1.0, 'club': 4.0, 'replacement': 1.0, 'international': 3.0, 'here': 2.0, '1996': 2.0, 'competitions': 1.0, 'nations': 2.0, 'place': 1.0, 'south': 1.0, 'the': 42.0, 'africa': 1.0, 'best': 3.0, 'was': 3.0, 'eleven': 1.0, 'players': 2.0, '2002': 2.0, 'proved': 1.0, 'there': 1.0, 'tournament': 3.0, 'country': 1.0, 'africain': 2.0, 'games': 1.0, 'skillful': 1.0, 'into': 2.0, 'bright': 1.0, 'home': 1.0, 'world': 4.0, 'new': 1.0, 'just': 2.0, 'bab': 1.0, 'and': 18.0, 'achieve': 1.0, 'souayah': 1.0, 'their': 1.0, 'zambia': 1.0, 'considered': 2.0, '1993': 1.0, 'tournamentthis': 1.0, 'september': 1.0, 'player': 2.0, 'talented': 1.0, 'history': 1.0, 'transfer': 1.0, 'finding': 1.0, 'french': 1.0, 'ligue': 2.0, 'partnered': 1.0, 'account': 1.0, '1': 2.0, 'side': 3.0, 'nantes': 3.0, 'struck': 1.0, 'another': 2.0, 'up': 2.0, 'impressive': 1.0, 'but': 3.0, 'spark': 1.0, 'france': 1.0, 'ammar': 1.0, 'baya': 1.0, 'surge': 1.0, 'life': 1.0, 'firstclass': 1.0, 'belt': 1.0, 'barren': 1.0, 'appearances': 1.0, 'period': 1.0, 'under': 1.0, 'long': 2.0, 'although': 1.0, 'fans': 1.0, 'stop': 1.0, 'lung': 1.0, 'never': 1.0, 'really': 1.0, 'some': 1.0, 'settled': 1.0, 'real': 1.0, '30': 1.0, 'failed': 1.0, 'england': 1.0, 'time': 2.0, 'kind': 1.0, 'success': 1.0, 'had': 1.0, 'november': 1.0, 'back': 1.0, 'after': 3.0, 'disappointing': 2.0, 'joined': 1.0, 'found': 1.0, 'left': 1.0, 'romaniabundesliga': 1.0, 'spanish': 1.0, 'coach': 2.0, 'division': 1.0, 'performances': 1.0, 'that': 1.0, 'goal': 1.0, 'one': 3.0, 'got': 1.0, 'finally': 1.0}, {'active': 1.0, 'very': 1.0, 'partner': 1.0, 'self': 2.0, 'journey': 2.0, 'all': 1.0, 'mothers': 1.0, 'nonbiological': 1.0, 'homefront': 1.0, 'lesbian': 1.0, 'from': 1.0, 'other': 1.0, 'anthology': 1.0, 'forthcoming': 1.0, 'will': 1.0, 'loves': 1.0, 'essay': 1.0, '2002': 1.0, 'betsy': 2.0, 'daughter': 1.0, 'their': 1.0, 'insemination': 1.0, 'artificial': 1.0, 'child': 1.0, 'conceive': 1.0, 'efforts': 1.0, 'couples': 1.0, 'via': 1.0, 'about': 1.0, 'entitled': 1.0, 'wrote': 2.0, 'aizley': 2.0, 'harlyn': 1.0, 'writer': 1.0, 'began': 1.0, 'work': 2.0, 'careerafter': 1.0, 'solo': 2.0, 'open': 1.0, 'creative': 1.0, 'dad': 1.0, 'hollywood': 2.0, 'scene': 1.0, 'jill': 1.0, 'shows': 1.0, 'cambridge': 1.0, 'stereotype': 1.0, 'was': 6.0, 'bunch': 1.0, 'her': 6.0, 'premiered': 1.0, 'songwriting': 1.0, 'life': 1.0, 'collaboration': 1.0, 'benefit': 1.0, 'soloways': 3.0, 'such': 1.0, 'of': 8.0, 'the': 24.0, 'womans': 1.0, 'several': 1.0, 'briefly': 1.0, 'musician': 2.0, 'not': 1.0, 'soloway': 9.0, 'club': 1.0, 'interested': 1.0, 'performer': 1.0, 'what': 1.0, 'sister': 1.0, 'tour': 1.0, 'new': 2.0, 'theater': 3.0, 'both': 2.0, 'camp': 1.0, 'years': 1.0, 'a': 12.0, 'faith': 3.0, '1990': 1.0, 'jennifer': 1.0, 'born': 2.0, 'musicals': 2.0, 'march': 1.0, 'first': 1.0, 'show': 2.0, 'rosenthal': 1.0, 'statement': 1.0, 'tales': 1.0, 'humorless': 1.0, 'original': 1.0, 'produce': 1.0, 'boston': 2.0, 'american': 1.0, 'school': 1.0, '28': 1.0, 'is': 4.0, 'at': 6.0, 'pursue': 1.0, 'this': 1.0, 'creation': 1.0, 'second': 2.0, 'folkrock': 2.0, 'moved': 2.0, 'two': 2.0, 'indiana': 1.0, 'she': 6.0, 'comedic': 1.0, 'wheels': 1.0, 'to': 10.0, 'became': 1.0, 'as': 3.0, 'edited': 1.0, 'performed': 2.0, 'performing': 1.0, 'that': 2.0, 'brady': 1.0, 'signature': 1.0, 'an': 2.0, 'nights': 1.0, 'improv': 1.0, 'it': 1.0, 'country': 1.0, 'songs': 1.0, 'city': 2.0, 'spent': 1.0, 'university': 1.0, 'mother': 1.0, 'creator': 1.0, 'causes': 1.0, 'regularly': 1.0, 'across': 1.0, 'along': 1.0, 'toured': 1.0, 'also': 1.0, 'or': 1.0, 'song': 3.0, 'with': 6.0, 'musical': 1.0, 'leaving': 1.0, '1994': 1.0, 'tweaking': 1.0, 'massachusetts': 2.0, 'but': 1.0, 'music': 3.0, 'television': 2.0, 'jesus': 1.0, 'producing': 1.0, 'sexuality': 1.0, 'miss': 2.0, 'series': 1.0, 'rock': 1.0, 'operas': 1.0, 'sisters': 2.0, 'were': 1.0, 'couple': 1.0, 'started': 2.0, 'falcon': 1.0, 'for': 3.0, 'potter': 1.0, 'decided': 1.0, 'followed': 2.0, 'after': 1.0, 'studied': 1.0, 'by': 3.0, 'harrie': 1.0, 'folk': 4.0, 'tell': 1.0, 'dover': 1.0, 'featured': 3.0, 'one': 2.0, 'earnest': 1.0, 'queer': 1.0, 'revere': 1.0, 'debbie': 1.0, 'does': 1.0, 'evans': 1.0, 'which': 7.0, 'parodied': 1.0, 'compilation': 1.0, 'produced': 1.0, 'buying': 1.0, 'somerville': 1.0, 'catie': 1.0, 'kimballsoloway': 1.0, 'works': 1.0, '1964': 1.0, 'lone': 1.0, 'carol': 1.0, 'larger': 1.0, 'real': 1.0, 'band': 1.0, 'venue': 1.0, 'has': 3.0, 'title': 1.0, 'refers': 1.0, 'continues': 1.0, 'controversial': 1.0, 'three': 1.0, 'childrens': 1.0, 'bobbies': 1.0, 'america': 2.0, 'written': 1.0, 'led': 1.0, 'heather': 1.0, 'mike': 1.0, 'action': 1.0, 'notable': 1.0, 'musicians': 1.0, 'river': 1.0, 'curtis': 1.0, 'charles': 1.0, 'arts': 1.0, '2000': 1.0, 'program': 1.0, 'minimalist': 1.0, 'summer': 1.0, 'comedy': 1.0, 'departments': 1.0, 'features': 1.0, 'book': 2.0, 'norbert': 1.0, 'beany': 1.0, 'passim': 1.0, 'principal': 1.0, 'man': 1.0, 'area': 1.0, 'director': 1.0, 'training': 1.0, 'appear': 1.0, 'hamletta': 1.0, 'based': 1.0, 'in': 12.0, 'tom': 1.0, 'album': 1.0, 'expartner': 1.0, 'lesbo': 1.0, 'mommies': 2.0, 'once': 1.0, 'womens': 1.0, 'boyfriend': 1.0, 'on': 2.0, 'and': 10.0, 'ridge': 1.0, 'respond': 1.0, 'domestic': 1.0, 'violence': 1.0, 'perform': 1.0, 'separated': 1.0, 'crisissoloways': 1.0}, {'engineering': 1.0, 'arts': 1.0, 'irvines': 1.0, 'graduate': 1.0, 'university': 1.0, 'stehlik': 1.0, 'california': 2.0, 'resides': 1.0, 'currently': 1.0, 'south': 1.0, 'across': 1.0, 'hands': 1.0, 'into': 1.0, 'their': 1.0, '512': 1.0, 'rarely': 1.0, 'throughout': 1.0, 'internationally': 1.0, 'band': 1.0, 'yoyo': 1.0, 'computation': 1.0, 'films': 1.0, 'performed': 1.0, 'also': 2.0, 'seen': 1.0, 'west': 1.0, 'issue': 1.0, 'particularly': 1.0, 'movement': 1.0, 'popularizing': 1.0, 'instrumental': 1.0, 'publications': 1.0, 'appeared': 1.0, 'way': 1.0, 'happening': 1.0, 'along': 1.0, 'beat': 1.0, 'bands': 1.0, 'shows': 1.0, 'organizing': 1.0, 'activities': 1.0, 'editors': 1.0, 'nicoletta': 1.0, 'gb': 1.0, 'livermore': 1.0, 'larry': 1.0, 'dresch': 1.0, 'steve': 1.0, 'writers': 1.0, 'featured': 1.0, 'jds': 2.0, 'came': 1.0, 'jones': 1.0, 'name': 1.0, 'zines': 2.0, 'where': 1.0, 'earliest': 1.0, 'one': 1.0, 'homocore': 3.0, 'on': 1.0, 'nihilson': 1.0, 'issues': 1.0, 'deke': 2.0, 'with': 3.0, 'coeditor': 1.0, 'josh': 1.0, 'they': 1.0, 'to': 2.0, 'its': 1.0, 'francisco': 1.0, 'pages': 1.0, 'influential': 2.0, '1955': 1.0, 'create': 1.0, 'boards': 1.0, 'fido': 1.0, 'kids': 1.0, 'massachusetts': 1.0, 'most': 1.0, 'daniel': 2.0, 'abbott': 1.0, 'authors': 1.0, 'were': 3.0, 'software': 1.0, 'wrote': 1.0, 'america': 2.0, 'early': 1.0, 'network': 1.0, 'zine': 2.0, 'networking': 2.0, 'authored': 1.0, 'program': 3.0, 'faculty': 1.0, 'bios': 2.0, 'file': 1.0, 'queer': 1.0, 'message': 1.0, 'rise': 1.0, 'his': 2.0, 'implemented': 2.0, 'in': 9.0, 'at': 2.0, 'is': 3.0, 'los': 2.0, 'thomas': 1.0, 'protocols': 1.0, 'creator': 1.0, 'such': 4.0, 'for': 3.0, 'boston': 1.0, 'arms': 1.0, 'comrade': 1.0, 'and': 14.0, 'born': 1.0, 'jennings': 5.0, 'tom': 1.0, 'found': 1.0, 'writing': 1.0, 'provider': 1.0, 'was': 2.0, 'inc': 1.0, 'a': 5.0, 'internet': 2.0, 'angelesbased': 1.0, 'war': 1.0, 'donna': 1.0, 'apostles': 1.0, 'artist': 1.0, 'gang': 1.0, 'but': 1.0, 'creating': 2.0, 'other': 4.0, 'ultimately': 1.0, 'an': 2.0, 'named': 1.0, 'technician': 2.0, 'fugazi': 1.0, 'fidonet': 2.0, 'service': 1.0, 'musicians': 1.0, 'technologywhile': 1.0, 'he': 3.0, 'platformsaside': 1.0, 'first': 2.0, 'as': 8.0, 'technologies': 1.0, 'works': 1.0, 'computer': 1.0, 'angeles': 1.0, 'multiplicity': 1.0, 'from': 3.0, 'later': 1.0, 'punk': 1.0, 'publisher': 1.0, 'had': 1.0, 'protocol': 1.0, 'wired': 1.0, 'system': 1.0, 'magazines': 1.0, 'calarts': 1.0, 'queercore': 4.0, 'presence': 1.0, 'portable': 1.0, 'that': 1.0, 'arttechnology': 1.0, 'europejennings': 1.0, 'originally': 1.0, 'led': 1.0, 'phoenix': 1.0, 'built': 1.0, 'regional': 1.0, 'of': 9.0, 'the': 20.0, 'ran': 1.0, 'little': 1.0, 'garden': 1.0, 'incorporated': 1.0, 'eight': 1.0, 'tlgnet': 1.0, 'maintains': 1.0, 'north': 1.0, 'informal': 1.0, 'by': 2.0, 'archive': 1.0, 'including': 1.0, 'using': 1.0, 'bulletin': 1.0, 'science': 1.0, 'cold': 1.0, 'partner': 1.0, 'lived': 1.0, 'bbses': 1.0, 'san': 1.0, '1988': 1.0, 'own': 1.0, 'coast': 1.0, 'until': 1.0, '1991': 1.0}, {'coaching4': 1.0, 'settling': 1.0, 'canucks': 1.0, 'reach': 1.0, 'scored': 1.0, 'bruins': 2.0, 'postseason': 1.0, 'quebec': 1.0, 'crown1in': 1.0, 'red': 3.0, 'league': 2.0, 'losses': 1.0, 'games': 2.0, 'career': 4.0, 'round': 1.0, 'season': 4.0, '1954': 1.0, 'goals': 1.0, 'off': 1.0, 'retired': 1.0, 'until': 1.0, '1952': 1.0, 'regular': 1.0, 'minors': 3.0, 'is': 1.0, 'toiling': 1.0, 'participants': 1.0, 'out': 2.0, 'indianapolis': 1.0, 'man': 1.0, 'points': 1.0, '195758': 1.0, 'defensiveoriented': 1.0, 'although': 1.0, '42': 1.0, 'offensiverich': 1.0, 'three': 3.0, 'into': 2.0, '183': 1.0, 'viewed': 1.0, 'native': 1.0, 'horvath': 1.0, 'portion': 1.0, 'traded': 3.0, 'physical': 1.0, 'head': 2.0, 'name': 1.0, 'coach': 1.0, 'playing': 1.0, 'nhl': 4.0, 'chemistry': 1.0, 'spent': 3.0, 'played': 4.0, 'stasiuk': 11.0, 'and': 11.0, 'lethbridge': 1.0, 'former': 1.0, 'born': 1.0, 'due': 1.0, 'signing': 1.0, 'uke': 1.0, 'wings': 4.0, 'junior': 2.0, 'time': 1.0, 'hockey': 4.0, '3': 1.0, 'the': 38.0, 'twoway': 1.0, 'his': 5.0, 'finished': 1.0, 'american': 1.0, 'before': 3.0, 'on': 1.0, 'stylistic': 1.0, 'however': 1.0, 'often': 1.0, 'winger': 1.0, 'same': 1.0, 'may': 1.0, 'boston': 2.0, 'because': 2.0, 'all': 1.0, '20': 1.0, 'of': 8.0, 'ice': 1.0, 'john': 1.0, '23': 1.0, 'a': 12.0, '1929': 1.0, 'black': 2.0, '1953': 1.0, 'canadian': 1.0, 'next': 1.0, 'cup': 3.0, 'much': 1.0, 'playoffs': 2.0, 'finals': 1.0, 'in': 17.0, 'detroit': 4.0, 'players': 1.0, 'was': 8.0, 'with': 7.0, 'alberta': 1.0, 'significant': 1.0, 'eliminated': 1.0, 'chicago': 3.0, 'left': 2.0, 'sparingly': 1.0, 'hawks': 2.0, 'edmonton': 1.0, 'as': 1.0, 'to': 7.0, 'games2': 1.0, '1951': 1.0, 'high': 1.0, 'coaching': 2.0, 'job': 2.0, 'flyers': 3.0, 'philadelphia': 1.0, 'bucyk': 1.0, 'victor': 1.0, 'captured': 1.0, 'assists': 1.0, 'for': 4.0, 'bronco': 1.0, 'grouping': 1.0, 'line': 2.0, 'ukrainian': 1.0, 'ancestry': 1.0, 'this': 2.0, 'first': 2.0, 'history': 1.0, 'year': 2.0, 'found': 1.0, '1961': 1.0, 'have': 1.0, 'one': 1.0, 'goal': 1.0, 'mark': 1.0, 'formidable': 1.0, 'professional': 1.0, 'presence': 1.0, '68': 1.0, '1960': 1.0, 'back': 1.0, 'recorded': 1.0, '1963': 1.0, 'finishing': 1.0, 'stanley': 2.0, '254': 1.0, '745': 1.0, 'backtoback': 1.0, 'earned': 1.0, 'instant': 1.0, 'retiring': 1.0, 'were': 1.0, 'took': 2.0, 'vancouver': 1.0, 'over': 1.0, 'early': 1.0, 'pittsburgh': 1.0, 'hornets': 1.0, 'won': 1.0, 'moved': 1.0, 'two': 1.0, 'seasons': 1.0, 'later': 1.0, 'led': 1.0, 'club': 1.0, 'single': 1.0, 'leagues': 1.0, '196970': 1.0, 'aces': 1.0, 'seals': 1.0, 'difficult': 1.0, 'johnny': 1.0, 'team': 1.0, 'position': 1.0, '1955': 1.0, 'odd': 1.0, 'now': 1.0, 'calder': 1.0, 'dubbed': 1.0, 'then': 3.0, 'after': 4.0, 'by': 1.0, 'point': 1.0, 'fired': 2.0, '197071': 1.0, 'offered': 1.0, 'he': 11.0, 'him': 1.0, 'scouting': 1.0, 'capitals': 1.0, 'but': 1.0, 'conflict': 1.0, 'california': 1.0, 'bench': 1.0, 'golden': 1.0, 'forward': 1.0, 'became': 1.0, 'management': 1.0, 'behind': 1.0}, {'spoke': 1.0, 'topic': 1.0, 'this': 1.0, 'speaks': 1.0, 'advice': 1.0, 'journo': 1.0, 'freelance': 2.0, 'successful': 1.0, 'how': 1.0, 'blogging': 1.0, 'early': 1.0, 'segment': 1.0, 'geek': 1.0, 'radio': 1.0, '774': 1.0, 'program': 1.0, 'drive': 1.0, 'affairs': 1.0, 'well': 1.0, 'commentator': 1.0, 'corporations': 1.0, 'appeared': 1.0, 'being': 1.0, 'where': 1.0, 'for': 5.0, 'product': 1.0, 'nationally': 1.0, '2012': 3.0, 'techtarget': 1.0, 'start': 1.0, 'every': 1.0, 'section': 1.0, 'anz': 1.0, 'one': 1.0, 'commission': 1.0, 'been': 1.0, 'thoughts': 1.0, 'raf': 1.0, 'chief': 1.0, 'to': 5.0, 'melbourne': 3.0, 'editor': 3.0, 'au': 1.0, 'as': 5.0, 'was': 3.0, 'wrote': 1.0, 'april': 1.0, 'march': 1.0, 'he': 5.0, 'news': 1.0, 'wire': 1.0, 'wednesday': 1.0, 'it': 2.0, 'media': 1.0, 'addition': 1.0, 'from': 3.0, 'broadcasting': 2.0, 'run': 1.0, '2011': 2.0, 'founding': 1.0, 'macworld': 1.0, 'and': 5.0, 'writing': 1.0, '1968': 1.0, 'air': 1.0, 'club': 1.0, 'january': 2.0, 'several': 2.0, 'about': 3.0, 'that': 2.0, 'age': 1.0, 'caruana': 3.0, 'many': 1.0, 'at': 3.0, 'is': 3.0, 'broadcast': 1.0, 'in': 3.0, 'anthony': 1.0, 'shows': 1.0, 'technology': 5.0, 'regular': 2.0, 'who': 1.0, 'writes': 1.0, 'australian': 3.0, '2': 1.0, 'of': 6.0, 'the': 11.0, 'a': 6.0, 'titles': 1.0, 'part': 1.0, 'regularly': 2.0, 'articles': 1.0, 'searchcio': 1.0, 'decisions': 1.0, 'business': 2.0, 'his': 1.0, 'also': 2.0, 'launched': 1.0, 'epsteins': 1.0, 'apc': 1.0, 'events': 1.0, 'contributor': 1.0, 'yearshe': 1.0, 'local': 1.0, 'october': 1.0, 'focuses': 1.0, '330pmsince': 1.0, 'new': 1.0, 'magazine': 2.0, 'on': 5.0, 'needs': 1.0, 'publications': 1.0, 'senior': 1.0, 'executives': 1.0, 'australia': 2.0, 'david': 1.0, 'born': 1.0, 'influencershe': 1.0, 'based': 1.0, 'made': 1.0, 'current': 1.0, 'original': 1.0, 'flynnin': 1.0, 'review': 1.0, 'next': 1.0, 'has': 2.0, 'team': 1.0, 'members': 1.0, 'pocket': 1.0, 'reviews': 1.0, 'pc': 1.0, 'given': 1.0, 'before': 1.0, 'other': 2.0, 'journalist': 1.0, 'an': 1.0, 'convention': 1.0, 'under': 1.0, 'opportunity': 1.0, 'write': 1.0}, {'public': 1.0, 'places': 1.0, 'april': 1.0, 'russia': 1.0, 'works': 1.0, 'moscow': 2.0, 'themes': 1.0, 'three': 1.0, 'on': 3.0, 'years': 1.0, 'fifteen': 1.0, 'lived': 1.0, 'now': 1.0, 'island': 1.0, 'defensemitchell': 1.0, 'office': 1.0, 'foreign': 1.0, 'assisted': 1.0, 'conservative': 1.0, 'exdeputy': 1.0, 'this': 1.0, 'himself': 1.0, 'perjured': 1.0, 'brigadier': 1.0, 'orders': 1.0, 'had': 1.0, 'illegally': 1.0, 'stalin': 1.0, 'refugees': 1.0, 'yugoslav': 1.0, 'where': 2.0, 'thousands': 1.0, 'most': 1.0, 'back': 1.0, 'children': 1.0, 'handed': 1.0, '1945': 2.0, 'may': 1.0, 'staff': 1.0, 'operation': 1.0, 'like': 1.0, 'which': 4.0, 'reputation': 1.0, '6': 1.0, 'bodies': 1.0, 'up': 1.0, 'point': 1.0, 'but': 1.0, 'operate': 1.0, 'society': 1.0, 'environmental': 1.0, 'aldingtontolstoy': 1.0, 'broadcast': 1.0, 'in': 10.0, 'mainly': 2.0, 'apparentlyvirtuous': 1.0, 'aspects': 1.0, 'illegal': 1.0, 'author': 3.0, 'actually': 1.0, 'for': 3.0, 'bureaucracymitchell': 1.0, 'ian': 1.0, 'royal': 1.0, 'called': 2.0, 'mitchell': 3.0, 'behavior': 1.0, 'do': 1.0, 'trial': 2.0, 'and': 10.0, 'lives': 1.0, 'too': 1.0, 'aldington': 1.0, 'scottish': 2.0, 'forum': 1.0, 'ministry': 1.0, 'a': 9.0, 'nazismitchell': 1.0, 'communities': 1.0, 'delivered': 1.0, 'part': 1.0, 'grew': 1.0, 'at': 2.0, 'is': 3.0, 'scotland': 2.0, 'south': 1.0, 'concerned': 3.0, 'that': 2.0, 'dictators': 1.0, 'founded': 1.0, 'tens': 1.0, 'written': 1.0, 'with': 1.0, 'damage': 1.0, 'realms': 1.0, 'by': 2.0, 'he': 6.0, 'view': 1.0, 'ele': 1.0, 'party': 1.0, 'place': 1.0, 'british': 1.0, 'islay': 1.0, 'centralized': 1.0, 'rural': 2.0, 'of': 19.0, 'the': 25.0, 'natural': 1.0, 'lord': 1.0, 'north': 1.0, 'books': 2.0, 'isles': 2.0, 'issued': 1.0, 'africa': 1.0, 'london': 2.0, 'to': 5.0, 'as': 4.0, 'west': 1.0, 'seeing': 1.0, 'ngos': 1.0, 'organisation': 2.0, 'hebridean': 2.0, 'protection': 1.0, 'controversial': 1.0, '2007': 1.0, 'birds': 1.0, 'tito': 1.0, 'heritage': 1.0, 'compared': 1.0, 'voice': 1.0, 'chairman': 1.0, 'voyage': 2.0, 'from': 2.0, 'their': 1.0, 'was': 2.0, 'director': 1.0, 'journalist': 1.0, 'an': 3.0, 'both': 2.0, 'people': 1.0, 'lecture': 1.0, 'are': 1.0, 'founder': 1.0, 'described': 1.0, 'it': 1.0, 'him': 1.0, 'historical': 1.0, 'cossack': 1.0, 'defend': 1.0, 'has': 4.0, 'imposts': 1.0, 'book': 2.0, 'cost': 1.0, 'about': 2.0, 'who': 2.0, 'libel': 1.0, 'norse': 1.0, 'took': 1.0, 'critic': 1.0, 'claims': 2.0, 'also': 1.0, '1989': 1.0, 'army': 1.0}, {'where': 1.0, 'foothills': 1.0, '2008': 1.0, 'american': 1.0, 'back': 1.0, 'hapgoodleon': 1.0, 'when': 1.0, 'month': 1.0, 'later': 1.0, 'initial': 1.0, 'rejoined': 2.0, '2007': 2.0, '2004on': 1.0, 'arsenal': 1.0, 'left': 2.0, '20072008': 1.0, 'extended': 1.0, 'injury': 1.0, 'from': 1.0, 'recovered': 1.0, '2002': 1.0, 'october': 1.0, 'play': 1.0, 'uk': 1.0, 'starting': 1.0, 'states': 1.0, 'that': 1.0, 'tydfil': 1.0, '2001': 2.0, 'athletic': 1.0, 'final': 1.0, 'vase': 1.0, '21': 1.0, 'however': 1.0, 'returning': 1.0, 'russell': 1.0, 'first': 1.0, 'into': 1.0, '11': 1.0, 'break': 1.0, 'failing': 1.0, 'after': 2.0, 'yeovil': 1.0, 'villa': 1.0, '2000': 2.0, 'february': 2.0, 'november': 1.0, 'loan': 2.0, 'substitute': 2.0, 'torquay': 7.0, 'initially': 1.0, 'musker': 1.0, 'june': 3.0, 'minute': 1.0, '30': 1.0, 'coming': 1.0, 'still': 1.0, 'while': 1.0, 'of': 2.0, 'the': 10.0, '1997': 1.0, 'eddie': 1.0, 'has': 1.0, 'hapgood': 2.0, 'bidefordhe': 1.0, 'win': 2.0, 'academy': 1.0, '2003': 1.0, 'fa': 1.0, 'september': 1.0, 'played': 1.0, 'debut': 1.0, 'turned': 1.0, 'merthyr': 1.0, '38th': 1.0, 'argyle': 1.0, 'expired': 1.0, 'onemonth': 1.0, '1998': 1.0, 'a': 6.0, 'amateur': 1.0, 'town': 4.0, 'as': 6.0, 'injured': 1.0, '10': 1.0, 'teamin': 1.0, 'for': 3.0, 'english': 1.0, 'which': 1.0, 'side': 2.0, 'league': 1.0, 'steve': 1.0, 'work': 1.0, 'over': 1.0, '1979is': 1.0, 'plainmoor': 1.0, 'serves': 1.0, 'clevedon': 1.0, 'apprentice': 2.0, 'coach': 1.0, 'playing': 1.0, 'an': 4.0, 'career': 2.0, 'plymouth': 2.0, 'footballer': 1.0, 'began': 1.0, 'saunders': 1.0, 'moved': 4.0, 'conference': 1.0, 'leon': 1.0, 'soccer': 1.0, 'was': 6.0, 'with': 5.0, 'nephew': 1.0, 'march': 1.0, 'united': 3.0, 'he': 13.0, 'on': 9.0, 'north': 1.0, 'mccall': 1.0, 'represented': 1.0, 'and': 3.0, 'brighton': 1.0, 'berkhamsted': 1.0, 'duane': 1.0, 'in': 14.0, 'his': 5.0, 'club': 1.0, 'january': 1.0, 'almost': 1.0, 'is': 1.0, 'at': 4.0, 'coaching': 1.0, 'to': 10.0, 'against': 1.0, 'parkhe': 1.0, 'threemonth': 1.0, 'hove': 1.0, 'subsequently': 2.0, 'albion': 1.0, 'professional': 1.0, 'manager': 2.0, 'may': 2.0, 'schoolboyshapgood': 1.0, 'but': 3.0, 'england': 2.0, 'only': 1.0, 'trial': 1.0, 'peripheral': 1.0, '6': 1.0, 'noncontract': 1.0, 'role': 1.0, 'managed': 1.0, 'terms': 1.0, 'resumed': 1.0, 'wes': 1.0, 'december': 1.0, 'scoring': 1.0, 'join': 2.0, 'following': 1.0, 'season': 3.0, 'released': 2.0, '1999': 2.0, '7': 2.0, 'up': 1.0, 'offered': 1.0, 'teaming': 1.0, 'contract': 3.0, 'by': 3.0, 'calgary': 1.0, 'second': 1.0, 'joined': 1.0, 'immediately': 1.0, 'born': 2.0, 'former': 4.0, 'kevin': 1.0, 'tauntons': 1.0, 'hodges': 1.0, 'liskeard': 1.0, 'allowed': 1.0, 'signed': 1.0, 'pilgrims': 1.0, 'taunton': 2.0, 'player': 2.0, 'great': 1.0, 'sean': 1.0, 'william': 1.0, 'joyces': 1.0, 'august': 3.0, 'bideford': 3.0}, {'19': 1.0, 'entitled': 1.0, 'second': 1.0, '8': 1.0, 'june': 1.0, 'which': 1.0, 'friends': 1.0, 'be': 1.0, 'single': 2.0, 'lovesick': 1.0, 'lead': 1.0, 'features': 1.0, 'windup': 1.0, 'via': 1.0, '5': 1.0, 'october': 2.0, 'released': 3.0, 'album': 2.0, 'debut': 1.0, 'once': 1.0, 'musso': 1.0, 'alongside': 1.0, 'you': 1.0, 'lets': 1.0, 'have': 1.0, 'like': 1.0, 'teen': 1.0, 'has': 1.0, 'rock': 1.0, 'more': 1.0, 'music': 1.0, 'pop': 2.0, 'into': 1.0, 'repertoire': 1.0, 'expanded': 1.0, 'or': 1.0, 'diamondosment': 1.0, 'gabi': 1.0, 'hungry': 1.0, 'recorded': 1.0, 'young': 1.0, 'stars': 1.0, 'currently': 1.0, 'went': 1.0, 'born': 2.0, 'flight': 1.0, 'on': 3.0, 'childhood': 1.0, 'think': 2.0, 'over': 1.0, 'game': 1.0, 'films': 1.0, 'original': 2.0, 'fight': 1.0, 'gerti': 1.0, 'produced': 1.0, 'of': 1.0, 'the': 13.0, 'as': 7.0, '3d': 1.0, 'to': 1.0, 'costarring': 1.0, 'one': 1.0, 'was': 4.0, 'morris': 1.0, 'most': 2.0, 'cyberbully': 1.0, 'fame': 1.0, 'television': 2.0, 'dont': 2.0, 'r': 1.0, 'haunting': 1.0, 'she': 6.0, 'where': 1.0, 'gained': 1.0, '1992': 1.0, 'upon': 1.0, 'american': 1.0, 'stines': 1.0, 'hits': 1.0, 'it': 3.0, 'her': 3.0, 'an': 1.0, 'kids': 2.0, 'awardnominated': 1.0, 'dreams': 1.0, 'volume': 1.0, 'for': 2.0, '10': 1.0, 'montana': 3.0, 'giggles': 1.0, 'mitchel': 1.0, 'truscott': 1.0, 'recently': 3.0, 'march': 1.0, 'lost': 1.0, 'jordan': 1.0, 'cassie': 1.0, 'spy': 2.0, 'after': 1.0, 'actress': 1.0, 'abc': 2.0, 'several': 1.0, 'about': 2.0, 'is': 1.0, 'emily': 1.0, 'working': 1.0, '2010': 3.0, 'songwriter': 1.0, 'sitcom': 1.0, 'and': 8.0, 'in': 8.0, 'osment': 1.0, 'california': 1.0, 'island': 1.0, 'angeles': 1.0, 'lilly': 1.0, '2': 1.0, 'singer': 1.0, 'costar': 2.0, 'lifetime': 1.0, 'emmy': 1.0, 'disney': 2.0, 'hannah': 3.0, 'i': 2.0, 'daughters': 1.0, 'well': 1.0, 'off': 1.0, '2013': 1.0, 'series': 3.0, 'character': 1.0, 'channel': 2.0, 'movie': 5.0, 'also': 1.0, 'starred': 2.0, 'hour': 1.0, 'l': 1.0, 'dadnapped': 1.0, 'didnt': 1.0, 'melissa': 1.0, 'online': 1.0, '2011': 1.0, 'family': 2.0, 'tv': 1.0, 'dreamosments': 1.0, 'cleaners': 1.0, 'records': 1.0, 'if': 1.0, 'alternativeindie': 1.0, 'service': 1.0, 'crackle': 1.0, 'los': 1.0, 'nightmare': 1.0, '2014': 2.0, 'a': 2.0}, {'admission': 1.0, 'right': 1.0, 'ball': 1.0, 'switched': 1.0, 'worth': 1.0, 'air': 1.0, 'into': 1.0, 'jumped': 1.0, 'hand': 2.0, 'dribbled': 1.0, 'razzledazzle': 1.0, 'fans': 1.0, 'wrote': 1.0, 'once': 1.0, 'news': 1.0, 'world': 1.0, 'times': 1.0, 'roanoke': 1.0, 'brill': 1.0, 'wlbill': 1.0, 'four': 1.0, 'baseball': 1.0, 'total': 1.0, 'fifthhighest': 1.0, '2310': 1.0, 'with': 3.0, 'finished': 1.0, 'when': 1.0, 'allsouthern': 1.0, 'second': 1.0, 'earned': 1.0, 'also': 2.0, 'years': 1.0, 'foundation': 1.0, 'helms': 1.0, 'team': 2.0, 'allamerica': 1.0, 'six': 1.0, 'big': 1.0, 'conference': 2.0, 'southern': 1.0, 'named': 1.0, 'senior': 1.0, '109': 1.0, '730': 1.0, '696for954': 1.0, 'left': 2.0, 'alltime': 1.0, 'top': 1.0, 'still': 1.0, 'first': 2.0, 'are': 1.0, 'writer': 1.0, 'which': 2.0, 'made': 2.0, 'guard': 1.0, 'time': 1.0, 'new': 1.0, 'accurate': 1.0, '696': 1.0, 'score': 1.0, 'point': 1.0, 'city': 1.0, 'a': 6.0, 'l': 1.0, 'whose': 1.0, 'by': 2.0, 'floras': 1.0, 'native': 1.0, 'dickinson': 1.0, 'selection': 2.0, 'was': 6.0, 'college': 1.0, 'as': 2.0, 'from': 1.0, 'generals': 1.0, '195455': 1.0, 'double': 1.0, 'for': 4.0, 'and': 7.0, 'behind': 1.0, 'about': 1.0, 'play': 1.0, 'school': 1.0, 'american': 1.0, 'straight': 1.0, 'to': 4.0, 'high': 2.0, 'throw': 1.0, '25': 1.0, 'jersey': 2.0, 'on': 1.0, 'wl': 2.0, 'virginia': 2.0, 'become': 1.0, 'i': 2.0, 'floraflora': 1.0, 'dom': 2.0, '12': 1.0, 'played': 4.0, 'former': 1.0, 'born': 1.0, 'shooters': 1.0, 'lee': 1.0, 'june': 1.0, 'led': 1.0, 'of': 9.0, 'the': 17.0, 'university': 1.0, 'william': 1.0, 'one': 2.0, 'standout': 1.0, 'game': 1.0, '1935': 1.0, 'sports': 1.0, 'is': 1.0, 'at': 3.0, 'ended': 1.0, 'shot': 3.0, 'player': 2.0, 'scorer': 1.0, 'bit': 1.0, 'crisp': 1.0, 'ballhandling': 1.0, 'all': 1.0, 'flora': 6.0, 'an': 2.0, 'helped': 1.0, 'jump': 2.0, 'lexington': 1.0, 'prolific': 1.0, 'aggressive': 1.0, 'it': 1.0, 'him': 2.0, 'opposing': 1.0, 'average': 1.0, 'tripleteamed': 1.0, '21': 1.0, 'points': 2.0, 'in': 7.0, 'per': 1.0, 'schoola': 1.0, 'his': 7.0, 'games': 1.0, 'ability': 1.0, 'career': 3.0, '195758': 2.0, 'he': 5.0, 'explosive': 1.0, 'able': 1.0, 'dominick': 1.0, 'despite': 1.0, 'gasping': 1.0, 'being': 1.0, 'basketball': 2.0, 'style': 1.0, 'back': 1.0, 'most': 1.0, 'free': 2.0, 'division': 2.0, 'price': 1.0, 'year': 2.0, 'ncaa': 2.0, 'history': 3.0, 'defenses': 1.0, 'throws': 1.0, 'while': 1.0, 'washington': 1.0, 'conclusion': 1.0, 'located': 1.0, '201112': 1.0, 'season': 1.0}, {'polytechnic': 1.0, 'computer': 1.0, 'electrical': 1.0, 'emeritus': 1.0, 'currently': 1.0, 'sciences': 1.0, 'mexico': 1.0, 'cimat': 1.0, 'amsterdam': 1.0, 'costa': 1.0, 'washington': 1.0, 'appointments': 1.0, 'free': 1.0, 'temporary': 1.0, 'with': 1.0, 'rica': 1.0, 'distinguished': 1.0, 'point': 1.0, 'problems': 1.0, 'operations': 1.0, 'san': 1.0, 'vietnam': 1.0, 'after': 1.0, 'states': 1.0, 'new': 2.0, 'flatbush': 1.0, 'us': 1.0, 'tel': 1.0, 'studied': 1.0, 'army': 2.0, 'residence': 1.0, 'institute': 2.0, 'secretary': 1.0, 'optimal': 1.0, 'preston': 1.0, 'military': 1.0, 'for': 4.0, 'leiden': 1.0, 'of': 18.0, 'the': 17.0, 'at': 10.0, 'is': 2.0, '1966': 1.0, 'hill': 1.0, 'ms': 1.0, 'york': 1.0, 'on': 2.0, 'division': 1.0, '28': 1.0, 'known': 1.0, 'research': 4.0, 'universityhe': 1.0, 'gauss': 1.0, 'west': 1.0, 'phd': 1.0, 'obispo': 1.0, 'dubins': 1.0, 'december': 1.0, 'born': 1.0, 'academy': 2.0, 'particular': 1.0, 'captain': 1.0, 'luis': 1.0, 'engineering': 1.0, 'natonsf': 1.0, 'and': 8.0, 'theodore': 1.0, 'mexican': 1.0, 'divisionborn': 1.0, 'fair': 1.0, 'theory': 1.0, 'he': 3.0, 'united': 1.0, 'in': 9.0, 'advisor': 1.0, 'his': 4.0, '1943': 1.0, 'mathematical': 2.0, 'an': 2.0, 'ranger': 1.0, 'serving': 1.0, 'work': 2.0, 'berkeley': 1.0, 'most': 1.0, 'probability': 1.0, 'law': 1.0, 'benfords': 1.0, 'ma': 1.0, 'adjunct': 1.0, 'stanford': 1.0, 'theories': 1.0, 'graduate': 1.0, 'university': 11.0, 'surviving': 1.0, 'american': 1.0, 'school': 2.0, 'hawaii': 1.0, 'as': 4.0, 'combat': 1.0, 'engineers': 1.0, '25th': 1.0, 'infantry': 1.0, 'professor': 5.0, 'returned': 1.0, 'study': 1.0, 'mathematics': 3.0, 'spent': 1.0, 'gttingen': 3.0, 'aviv': 1.0, 'fulbright': 2.0, 'to': 1.0, 'scholar': 2.0, 'mathematician': 1.0, 'california': 2.0, 'under': 1.0, 'centre': 1.0, 'lester': 1.0, 'a': 1.0, 'state': 1.0, 'postdoctoral': 1.0, 'fellow': 1.0, 'class': 1.0, 'career': 1.0, 'georgia': 2.0, 'stopping': 1.0, 'technology': 2.0}, {'neopagan': 1.0, 'rapova': 1.0, 'citizen': 1.0, 'russian': 1.0, '2011': 1.0, 'november': 1.0, 'name': 1.0, 'did': 1.0, 'reasons': 1.0, 'legal': 1.0, 'personal': 1.0, 'court': 1.0, 'prosecution': 1.0, 'gervaldass': 1.0, 'pending': 1.0, 'drives': 1.0, 'gervaldason': 1.0, 'seized': 1.0, 'antisemitism': 1.0, 'marriage': 1.0, 'preaching': 1.0, 'on': 2.0, 'by': 1.0, 'being': 1.0, 'rituals': 1.0, 'investigation': 1.0, 'led': 1.0, 'creation': 1.0, 'elections': 1.0, 'municipal': 1.0, 'next': 1.0, '3': 1.0, 'change': 1.0, 'up': 1.0, 'encompass': 1.0, 'married': 1.0, 'its': 1.0, 'him': 1.0, 'workers': 1.0, 'hard': 1.0, 'unified': 1.0, 'called': 1.0, 'known': 1.0, 'he': 3.0, 'lithuania': 2.0, 'council': 2.0, 'movement': 1.0, 'city': 2.0, 'leader': 1.0, 'and': 6.0, 'for': 4.0, 'national': 5.0, 'one': 1.0, 'sponsored': 1.0, 'compared': 1.0, 'municipality': 1.0, 'forces': 1.0, 'volunteer': 1.0, '16': 1.0, 'conditions': 1.0, 'at': 1.0, 'is': 2.0, 'born': 1.0, 'former': 2.0, 'until': 1.0, 'gervaldas': 3.0, 'so': 2.0, 'colleagues': 1.0, 'december': 1.0, 'which': 1.0, 'made': 1.0, 'murza': 3.0, 'demanded': 1.0, 'eventually': 1.0, 'nationalist': 1.0, 'globalism': 1.0, 'refusedin': 1.0, 'political': 1.0, 'year': 1.0, 'his': 4.0, 'members': 1.0, 'politician': 1.0, 'registration': 1.0, 'police': 1.0, 'april': 2.0, 'computers': 1.0, '2012': 1.0, 'radical': 1.0, '12': 1.0, 'iauliai': 2.0, 'using': 1.0, 'defence': 1.0, 'computer': 1.0, 'antisemitic': 2.0, 'party': 6.0, 'neonazi': 1.0, 'organization': 1.0, 'aims': 1.0, 'an': 1.0, 'other': 1.0, 'population': 1.0, 'of': 13.0, 'the': 11.0, 'conducted': 1.0, 'alliance': 2.0, 'out': 1.0, 'socialist': 2.0, 'unity': 1.0, 'not': 1.0, 'nationalistsocialist': 1.0, 'their': 1.0, '1973': 1.0, 'publications': 1.0, 'a': 4.0, 'government': 1.0, '1998': 1.0, 'attacked': 1.0, 'allow': 1.0, 'from': 1.0, 'voice': 1.0, 'zlata': 1.0, 'poles': 1.0, 'zionism': 1.0, 'these': 1.0, 'lithuanias': 1.0, 'carried': 1.0, 'minorities': 2.0, 'jews': 1.0, 'passed': 1.0, 'logic': 1.0, 'russians': 1.0, 'democratic': 1.0, 'that': 2.0, 'be': 2.0, 'unbearable': 1.0, 'they': 1.0, 'would': 2.0, 'time': 1.0, 'new': 2.0, 'nation': 1.0, 'leave': 1.0, 'hatred': 1.0, '2001': 1.0, 'attempted': 1.0, 'against': 1.0, 'to': 9.0, 'revive': 1.0, '19': 1.0, 'statementsin': 1.0, 'life': 1.0, 'moribund': 1.0, 'logikos': 1.0, 'prosecutors': 1.0, 'partija': 1.0, 'paramilitary': 1.0, 'gyvenimo': 1.0, 'when': 1.0, 'mindaugas': 5.0, 'was': 2.0, '2005': 2.0, 'lithuanian': 6.0, 'member': 3.0, 'in': 3.0, 'plans': 1.0, 'basis': 1.0, 'win': 1.0, 'establish': 1.0}, {'out': 1.0, '11': 1.0, 'which': 1.0, 'four': 1.0, 'bigleague': 1.0, 'final': 2.0, 'pirates': 1.0, 'don': 1.0, 'after': 1.0, 'singled': 1.0, 'three': 1.0, 'into': 1.0, 'lateseason': 1.0, 'gamesin': 1.0, 'another': 1.0, 'regular': 1.0, 'pinch': 1.0, 'niekro': 1.0, 'pittsburgh': 1.0, 'phil': 1.0, 'famer': 2.0, 'hall': 2.0, 'times': 1.0, 'future': 2.0, 'held': 1.0, 'braves': 1.0, '16': 1.0, 'atlanta': 1.0, 'against': 1.0, 'later': 1.0, 'days': 1.0, 'started': 2.0, 'two': 4.0, 'stadiumhe': 1.0, 'cincinnati': 1.0, 'second': 3.0, 'rout': 1.0, 'off': 2.0, 'gary': 1.0, 'doubled': 1.0, 'when': 1.0, 'scored': 1.0, 'hit': 3.0, 'balls': 1.0, 'first': 2.0, 'collected': 2.0, 'game': 3.0, 'riverfront': 1.0, 'big': 1.0, 'those': 1.0, 'third': 1.0, 'bases': 1.0, 'dave': 1.0, 'may': 1.0, 'on': 3.0, 'june': 1.0, 'early': 1.0, 'april': 1.0, 'seven': 1.0, 'total': 1.0, 'appearing': 1.0, 'robinson': 1.0, 'rarely': 1.0, 'trial': 1.0, 'his': 8.0, 'righthanded': 1.0, 'contract': 1.0, 'run': 2.0, 'batted': 3.0, 'threw': 1.0, 'beginning': 1.0, 'for': 5.0, 'montreal': 4.0, 'seasons': 1.0, 'career': 1.0, 'games': 5.0, '190': 1.0, 'expos': 6.0, 'september': 2.0, 'stint': 1.0, 'nine': 2.0, 'played': 3.0, 'spent': 1.0, 'at': 4.0, 'is': 1.0, 'doubleheader': 1.0, 'level': 1.0, 'stood': 1.0, 'robert': 1.0, '1951': 1.0, 'appearancereece': 1.0, '1978': 2.0, 'minor': 2.0, 'got': 1.0, 'american': 2.0, 'with': 4.0, 'former': 1.0, 'born': 1.0, 'system': 2.0, 'reece': 5.0, '1973': 1.0, 'ended': 1.0, 'professional': 1.0, 'was': 4.0, 'university': 1.0, 'graduate': 1.0, 'player': 2.0, 'baseball': 1.0, 'a': 10.0, 'international': 1.0, 'free': 1.0, 'he': 9.0, '6': 1.0, 'scott': 1.0, 'january': 1.0, 'catcher': 3.0, '1975': 1.0, 'league': 5.0, 'association': 1.0, 'the': 25.0, 'of': 16.0, 'atbats': 1.0, 'relief': 1.0, '7': 1.0, 'major': 2.0, 'stanford': 1.0, 'top': 1.0, 'mlb': 4.0, 'and': 9.0, 'reds': 1.0, 'tall': 1.0, 'striking': 1.0, 'leagues': 1.0, 'careerhigh': 1.0, 'feet': 1.0, '1981': 1.0, '185': 1.0, '1': 1.0, 'spend': 1.0, 'inch': 1.0, 'no': 1.0, 'years': 1.0, 'pounds': 1.0, '86': 1.0, 'signed': 2.0, 'by': 3.0, 'carter': 1.0, '296': 1.0, 'bearsin': 1.0, 'as': 3.0, 'tomlin': 1.0, 'playing': 1.0, 'an': 1.0, 'all': 1.0, 'nondrafted': 1.0, 'agent': 1.0, 'reached': 1.0, '195': 1.0, '5': 1.0, 'triplea': 1.0, 'in': 13.0, 'kgreece': 1.0, 'm': 1.0, 'member': 2.0, 'memphis': 1.0, 'hitless': 1.0, 'end': 1.0, 'blues': 1.0, 'then': 2.0, '672': 1.0, 'during': 3.0, 'season': 3.0, 'weighed': 1.0, 'farm': 1.0, 'affiliate': 1.0, 'following': 1.0, 'bats': 1.0, 'pitcher': 1.0, 'would': 1.0, 'development': 1.0, 'denver': 2.0, 'hits': 1.0, 'bears': 1.0, 'or': 1.0, 'parts': 1.0, 'six': 1.0, '47': 1.0, 'between': 2.0}, {'chads': 1.0, 'room': 1.0, 'masters': 1.0, 'studying': 1.0, 'those': 1.0, 'to': 1.0, 'symbolism': 1.0, 'undergraduate': 1.0, 'teaches': 2.0, '2003within': 1.0, 'barcelona': 1.0, 'international': 1.0, 'modules': 1.0, '2004': 1.0, 'conference': 2.0, 'was': 1.0, '20002003': 1.0, 'theologyhe': 1.0, 'group': 1.0, 'association': 1.0, 'board': 1.0, 'boards': 1.0, 'editorial': 2.0, 'christianityprofessor': 1.0, 'contemporary': 1.0, 'articles': 1.0, 'taught': 1.0, 'purityhe': 1.0, 'innerspeech': 1.0, 'sociological': 2.0, 'society': 2.0, 'brief': 1.0, 'encyclopedia': 1.0, 'writings': 1.0, 'projects': 1.0, 'current': 1.0, 'large': 1.0, 'yearhis': 1.0, 'title': 1.0, 'anglican': 1.0, 'speaker': 1.0, 'cowrote': 1.0, 'anthropology': 2.0, 'guest': 1.0, 'james': 1.0, 'cover': 1.0, 'interests': 1.0, 'funerary': 1.0, 'mormonism': 1.0, 'federation': 1.0, 'sweden': 1.0, 'cremation': 3.0, 'an': 2.0, 'rites': 1.0, 'for': 1.0, 'expertise': 1.0, 'university': 6.0, 'one': 1.0, 'johns': 1.0, 'published': 1.0, 'death': 4.0, 'research': 1.0, 'bachelor': 1.0, 'surrounding': 1.0, 'department': 1.0, 'his': 3.0, 'around': 1.0, 'three': 1.0, 'leadershipborn': 1.0, 'douglas': 1.0, 'davies': 2.0, 'awarded': 1.0, 'is': 3.0, 'at': 5.0, 'include': 2.0, 'study': 3.0, 'then': 1.0, 'history': 2.0, 'belief': 3.0, 'scandinavian': 1.0, '1947': 1.0, 'professor': 1.0, 'fields': 1.0, 'he': 7.0, 'st': 2.0, 'master': 1.0, 'rituals': 1.0, 'book': 1.0, 'beliefs': 1.0, 'involved': 1.0, 'british': 3.0, 'theology': 4.0, 'sociology': 1.0, 'common': 1.0, 'including': 1.0, 'conferences': 1.0, 'booksellerdiagram': 1.0, 'also': 4.0, 'authority': 1.0, 'read': 1.0, 'two': 1.0, 'shaw': 1.0, 'senior': 1.0, 'globe': 1.0, 'degrees': 1.0, 'prayer': 1.0, 'durham': 4.0, 'college': 2.0, 'graves': 1.0, '19402000': 1.0, 'before': 1.0, 'achieved': 1.0, 'popular': 1.0, 'of': 20.0, 'the': 18.0, 'doing': 1.0, 'phd': 1.0, 'reusing': 1.0, 'report': 1.0, 'nottingham': 1.0, 'degree': 1.0, 'religion': 5.0, '1995': 1.0, 'both': 2.0, 'chairman': 1.0, 'from': 1.0, 'doctor': 1.0, 'a': 5.0, 'and': 20.0, 'letters': 1.0, 'oxford': 1.0, 'wales': 1.0, 'doctorate': 1.0, 'identity': 1.0, 'has': 3.0, 'arts': 1.0, 'won': 1.0, 'mortality': 1.0, 'ritual': 3.0, 'prize': 1.0, 'recently': 1.0, 'oddest': 1.0, 'been': 2.0, 'honorary': 1.0, 'uppsala': 1.0, 'number': 1.0, 'old': 1.0, 'on': 3.0, 'member': 1.0, 'in': 7.0, 'attitudes': 1.0, 'which': 1.0, 'clergy': 1.0, 'with': 2.0, 'various': 1.0, 'born': 1.0, 'alastair': 1.0}, {'khler': 1.0, 'president': 1.0, 'federal': 1.0, 'ribbon': 1.0, 'bundesverdienstkreuz': 1.0, 'also': 1.0, 'year': 1.0, 'arizonain': 1.0, 'cross': 1.0, 'lowell': 1.0, 'station': 1.0, 'anderson': 1.0, 'bowell': 1.0, 'e': 1.0, 'which': 1.0, '3859': 1.0, 'choice': 1.0, 'human': 1.0, 'international': 1.0, 'reputation': 1.0, 'great': 1.0, 'interestfreimut': 1.0, 'document': 1.0, 'suppression': 1.0, 'religious': 1.0, 'nazi': 1.0, 'references': 1.0, 'community': 1.0, 'astronomers': 1.0, 'honoured': 2.0, 'times': 1.0, 'resistance': 1.0, 'namings': 1.0, 'other': 1.0, 'cultural': 1.0, 'discovered': 2.0, 'him': 1.0, 'freelancer': 1.0, 'byproduct': 1.0, 'haydn': 1.0, 'work': 2.0, 'retired': 1.0, 'bande': 1.0, 'or': 3.0, 'mesa': 1.0, 'wrongly': 1.0, 'germany': 1.0, 'during': 1.0, 'horst': 1.0, 'fighters': 1.0, 'tautenburg': 2.0, 'numerous': 1.0, '1995': 1.0, 'himself': 1.0, 'in': 4.0, 'freimuthhe': 1.0, 'schwarzschild': 1.0, 'observatory': 3.0, 'july': 1.0, 'amateur': 1.0, 'a': 5.0, 'small': 1.0, 'considered': 1.0, 'thuringia': 1.0, 'schmidt': 1.0, 'merit': 1.0, 'at': 3.0, 'is': 1.0, 'achieved': 1.0, '1930': 1.0, 'give': 1.0, 'search': 1.0, 'not': 1.0, 'telescope': 1.0, '17': 1.0, 'against': 1.0, 'to': 5.0, 'as': 6.0, 'astronomer': 1.0, 'scientific': 2.0, 'galaxies': 1.0, 'october': 1.0, 'few': 1.0, 'by': 3.0, 'of': 5.0, 'the': 16.0, 'german': 3.0, 'historical': 1.0, 'asteroids': 3.0, 'freimut': 1.0, 'his': 5.0, 'he': 4.0, 'topics': 1.0, 'with': 2.0, 'first': 1.0, 'examples': 1.0, 'born': 1.0, 'ahnert': 1.0, 'has': 3.0, 'jensch': 1.0, 'brngen': 4.0, 'and': 4.0, '2006': 2.0, 'research': 2.0, 'on': 2.0, '3181': 1.0, 'had': 1.0, 'done': 1.0, 'awarded': 1.0, 'famous': 1.0, 'spare': 1.0, '519': 1.0, 'studied': 1.0, 'managers': 1.0, 'geographical': 1.0, 'time': 1.0, 'was': 3.0, 'regime': 1.0, 'prestigious': 1.0, 'asteroid': 1.0, 'enough': 1.0, 'karl': 1.0, '2424': 1.0, 'gdr': 2.0, 'name': 1.0, 'restricted': 1.0, 'am': 1.0, 'wellsubstantiated': 1.0, 'reunification': 1.0, '3245': 1.0, 'politically': 1.0, 'objects': 1.0, 'include': 2.0, 'continues': 1.0, 'neutral': 1.0, 'for': 4.0, 'such': 1.0, 'be': 1.0, 'related': 1.0, 'qualities': 1.0, 'scientists': 1.0, 'composers': 1.0, 'sources': 1.0, '3941': 1.0, 'iau': 1.0, 'after': 1.0, 'but': 1.0, 'names': 3.0, 'chose': 1.0, 'systematically': 1.0}, {'paul': 2.0, '8': 1.0, 'called': 1.0, 'cd': 1.0, 'on': 2.0, 'ensemble': 1.0, 'german': 1.0, 'groupe': 1.0, 'with': 1.0, 'international': 1.0, 'hokuto': 1.0, 'ombre': 1.0, 'e': 1.0, 'luci': 1.0, 'litteri': 1.0, 'requiem': 1.0, 'silesius': 1.0, 'angelus': 1.0, 'include': 1.0, 'most': 1.0, 'among': 1.0, 'works': 1.0, '100': 1.0, 'more': 1.0, 'cs': 1.0, 'boulez': 1.0, 'pierre': 1.0, 'webern': 1.0, 'composed': 1.0, 'anton': 1.0, 'composers': 1.0, 'by': 1.0, 'influenced': 1.0, 'klee': 2.0, 'un': 1.0, 'competition': 1.0, 'sortisatio': 1.0, 'brahms': 1.0, 'johannes': 1.0, 'sacred': 1.0, 'fribourg': 1.0, 'cantata': 1.0, 'du': 1.0, 'musique': 1.0, 'jury': 1.0, 'as': 3.0, 'college': 1.0, '1973': 1.0, 'compositions': 1.0, 'holds': 1.0, 'master': 2.0, 'research': 1.0, 'famous': 1.0, 'festival': 3.0, 'for': 1.0, 'john': 1.0, 'such': 1.0, '10': 1.0, 'rptiteur': 1.0, 'variously': 1.0, 'conductor': 3.0, 'was': 6.0, 'studied': 1.0, 'founding': 1.0, 'heidelberg': 1.0, 'foundationfrom': 1.0, '1987': 3.0, 'university': 3.0, 'cagehe': 1.0, 'gdanskbrm': 1.0, 'philharmonie': 1.0, 'of': 21.0, 'the': 26.0, 'institute': 1.0, 'conservatoire': 1.0, 'berkeleyfrom': 1.0, 'slovakia': 1.0, 'is': 4.0, 'at': 3.0, 'rector': 1.0, 'and': 15.0, 'concours': 1.0, 'republic': 1.0, 'then': 1.0, 'conductorbrm': 1.0, 'lacroix': 1.0, 'aspen': 1.0, 'schatt': 1.0, 'a': 11.0, '1944': 1.0, 'swiss': 3.0, 'head': 1.0, 'april': 1.0, 'honor': 1.0, 'argentinahe': 1.0, 'his': 1.0, 'music': 7.0, 'brm': 1.0, 'de': 3.0, 'musicology': 1.0, 'chief': 1.0, 'thring': 1.0, 'city': 1.0, 'suissebrm': 1.0, 'musicales': 1.0, 'director': 1.0, 'from': 6.0, 'than': 1.0, 'academy': 2.0, 'piano': 1.0, 'to': 7.0, 'high': 1.0, 'painter': 1.0, 'pieces': 1.0, 'school': 2.0, 'conservatory': 1.0, 'des': 1.0, 'regular': 1.0, 'arts': 1.0, 'choir': 1.0, 'curtis': 1.0, '2000': 1.0, 'conducting': 1.0, 'pardubice': 1.0, 'science': 1.0, 'president': 1.0, 'board': 2.0, '1999': 2.0, 'lucerne': 2.0, '2001': 1.0, '2006': 2.0, 'composition': 2.0, 'worked': 2.0, 'association': 1.0, 'born': 1.0, 'europenne': 1.0, 'junge': 1.0, 'california': 1.0, 'basel': 4.0, 'council': 1.0, 'classes': 1.0, 'composer': 2.0, '1984': 1.0, '1990': 1.0, 'jeunesses': 1.0, 'in': 6.0, 'member': 4.0, 'zentralschweiz': 1.0, 'regio': 1.0, 'he': 10.0, 'binningenbasel': 1.0, 'graduated': 1.0, 'gave': 1.0, 'guest': 2.0, 'chamber': 2.0, 'national': 1.0, 'philharmonic': 1.0, 'czech': 1.0}, {'ideology': 1.0, 'student': 1.0, 'greatwood': 1.0, 'mexicomarcus': 1.0, 'caicos': 1.0, 'turks': 1.0, 'instructor': 1.0, 'aida': 1.0, 'quotes': 1.0, 'egypt': 1.0, 'corps': 1.0, 'finally': 1.0, 'westbourne': 1.0, 'attended': 1.0, 'returned': 1.0, '1941': 1.0, '1997': 1.0, 'pennsylvania': 1.0, 'friends': 1.0, 'sussex': 1.0, 'india': 1.0, 'early': 1.0, 'us': 1.0, 'trained': 1.0, 'members': 1.0, 'changed': 1.0, 'hc': 1.0, 'coldstream': 1.0, 'freediver': 1.0, 'harrow': 1.0, 'mother': 1.0, 'wellington': 1.0, 'chapel': 1.0, 'intelligence': 1.0, 'as': 4.0, 'foundation': 1.0, 'viii': 1.0, 'brokerage': 1.0, 'kingdom': 1.0, 'the': 22.0, 'of': 9.0, 'simpson': 6.0, 'then': 2.0, 'only': 1.0, 'with': 3.0, 'child': 3.0, 'ne': 1.0, 'baptised': 1.0, 'to': 3.0, 'aharon': 2.0, 'husband': 1.0, 'record': 1.0, 'same': 1.0, 'train': 1.0, 'both': 1.0, 'son': 2.0, 'spence': 1.0, '1962': 1.0, 'ibiza': 1.0, '27': 1.0, 'name': 1.0, 'kirk': 1.0, 'ferreras': 1.0, 'solomons': 10.0, 'mt': 2.0, 'ten': 1.0, '1946': 1.0, 'shipping': 1.0, 'aldrich': 1.0, '2008': 1.0, '1939': 1.0, 'no': 1.0, '1958': 1.0, 'school': 2.0, 'best': 1.0, 'cuba': 1.0, 'b': 3.0, '1992': 1.0, 'born': 1.0, 'former': 2.0, 'september': 2.0, '1960': 1.0, 'spent': 1.0, 'his': 10.0, 'teach': 1.0, 'uk': 3.0, 'national': 1.0, 'house': 1.0, 'childhood': 1.0, 'a': 4.0, 'wallis': 1.0, 'joined': 1.0, 'inducted': 1.0, 'young': 1.0, 'third': 1.0, 'london': 1.0, 'pinna': 1.0, 'eilat': 1.0, 'later': 1.0, 'huntemuller': 1.0, 'officer': 1.0, 'guards': 2.0, 'wife': 2.0, 'is': 2.0, 'at': 1.0, 'system': 1.0, 'separated': 1.0, 'mary': 2.0, 'settlements': 1.0, 'in': 27.0, 'henry': 2.0, 'together': 1.0, 'were': 1.0, 'switzerlandin': 1.0, 'but': 1.0, 'trainers': 1.0, 'father': 3.0, 'was': 5.0, 'micronesia': 1.0, 'married': 3.0, 'francisco': 1.0, 'zeev': 1.0, 'partner': 1.0, 'lived': 1.0, 'and': 25.0, 'raffray': 1.0, 'firm': 1.0, '1965the': 1.0, '1957': 1.0, 'edward': 1.0, 'england': 2.0, 'time': 1.0, 'scuba': 1.0, 'into': 1.0, 'regiment': 1.0, 'east': 1.0, 'who': 1.0, 'from': 1.0, 'le': 1.0, 'institut': 1.0, 'commissioned': 1.0, 'two': 1.0, 'moved': 1.0, 'work': 1.0, 'israeli': 2.0, '196768': 1.0, 'year': 1.0, 'sinai': 1.0, 'defense': 1.0, 'action': 1.0, 'on': 3.0, 'united': 1.0, 'golan': 1.0, 'israel': 2.0, 'heights': 1.0, 'years': 3.0, 'association': 1.0, '1973': 1.0, 'barracks': 1.0, 'joy': 1.0, 'forces': 1.0, 'another': 1.0, 'fathers': 1.0, 'corisande': 1.0, 'he': 8.0, 'him': 1.0, 'aharons': 2.0, '1998': 1.0, 'jackson': 1.0, '25': 1.0, 'freedivingsolomons': 1.0, 'an': 1.0, '22': 1.0, '2010': 1.0, 'they': 1.0, 'saw': 1.0, 'communal': 1.0, 'served': 1.0, 'had': 2.0, 'sons': 1.0, 'uri': 1.0, 'agricultural': 1.0, 'nadav': 1.0, 'limits': 1.0, 'for': 3.0, 'rosh': 1.0, '1932': 1.0, '1975': 1.0, 'second': 1.0, 'april': 1.0, 'traveled': 1.0, 'holderborn': 1.0, 'greece': 2.0, 'mexico': 1.0, 'settled': 1.0, 'taught': 1.0, 'where': 2.0, 'many': 1.0, 'known': 1.0, 'met': 1.0, 'pipin': 1.0, 'ernest': 4.0, 'middle': 1.0, 'constant': 1.0, 'weight': 1.0, 'died': 2.0, 'disciplines': 1.0, 'rosey': 1.0, 'mariateresa': 1.0, 'are': 2.0, '1964': 1.0, 'currently': 1.0, 'freedivers': 1.0, 'freediving': 2.0, 'team': 2.0, '2001': 1.0}, {'four': 1.0, 'boys': 1.0, 'wife': 1.0, 'their': 1.0, 'jersey': 1.0, 'teaneck': 1.0, 'resides': 1.0, 'californiaweil': 1.0, 'southern': 1.0, 'fundraiser': 1.0, 'successful': 1.0, 'endowment': 1.0, '750': 1.0, 'over': 1.0, 'fund': 1.0, 'by': 1.0, 'township': 1.0, 'girls': 1.0, 'govoha': 1.0, 'medrash': 1.0, 'leaders': 1.0, 'jerseyin': 1.0, 'with': 3.0, 'term': 1.0, 'committee': 1.0, 'worked': 2.0, 'education': 1.0, 'jewish': 1.0, 'then': 1.0, 'administration': 1.0, 'a': 2.0, 'elchanan': 1.0, 'ohr': 1.0, 'who': 1.0, 'yael': 1.0, 'schwarzenegger': 1.0, 'university': 2.0, 'businessweil': 1.0, 'lakewood': 1.0, 'young': 1.0, 'from': 1.0, 'public': 1.0, 'while': 1.0, 'byavneh': 1.0, 'kerem': 1.0, 'invocations': 1.0, 'and': 12.0, 'across': 1.0, 'affairs': 1.0, 'upstate': 1.0, 'the': 7.0, 'of': 5.0, 'masters': 1.0, 'york': 3.0, 'up': 1.0, 'at': 2.0, 'is': 1.0, 'rabbi': 4.0, 'has': 4.0, 'cattle': 1.0, 'weil': 2.0, 'theological': 1.0, 'h': 2.0, 'advocating': 1.0, 'in': 10.0, 'closely': 1.0, 'yeshivat': 1.0, 'arnold': 1.0, 'attended': 1.0, 'new': 5.0, '250': 1.0, 'synagogues': 1.0, 'his': 2.0, 'business': 1.0, 'dick': 1.0, 'families': 2.0, 'ordained': 1.0, 'jimmy': 1.0, 'seminary': 1.0, 'torah': 1.0, 'earned': 1.0, 'as': 2.0, 'an': 1.0, 'steven': 1.0, 'strongly': 1.0, 'congregations': 2.0, 'isaac': 1.0, 'he': 7.0, 'oak': 1.0, 'park': 1.0, 'michigan': 1.0, 'beth': 3.0, 'american': 2.0, 'school': 2.0, 'jacob': 2.0, 'yeshiva': 1.0, 'expanded': 1.0, 'on': 1.0, 'hills': 2.0, 'three': 1.0, 'programming': 1.0, 'california': 1.0, 'stern': 1.0, 'israel': 4.0, 'stephen': 1.0, 'considered': 1.0, 'substantially': 1.0, 'increased': 3.0, 'currently': 1.0, 'membership': 2.0, 'grew': 1.0, 'farm': 1.0, 'delivered': 1.0, 'for': 2.0, 'most': 1.0, 'congregation': 2.0, 'delshad': 1.0, 'president': 2.0, 'both': 1.0, 'george': 1.0, 'w': 1.0, 'was': 2.0, 'beverly': 2.0, 'mayors': 1.0, 'cheney': 1.0, 'country': 1.0, 'governor': 1.0, 'bush': 1.0, 'served': 1.0, 'vice': 1.0, 'internationally': 1.0, 'visiting': 1.0, 'to': 1.0, 'became': 1.0, 'high': 1.0, 'scholar': 1.0, 'webb': 1.0, 'residence': 1.0}, {'inside': 1.0, 'songs': 1.0, 'siren': 1.0, 'distracted': 1.0, 'become': 1.0, 'not': 1.0, 'your': 1.0, 'foremost': 1.0, 'first': 1.0, 'successful': 1.0, 'be': 1.0, 'board': 1.0, 'candidates': 1.0, 'with': 1.0, 'beltway': 1.0, 'heard': 1.0, 'time': 1.0, 'on': 2.0, 'come': 1.0, 'would': 1.0, 'won': 1.0, 'north': 4.0, 'candidate': 1.0, 'karls': 1.0, 'for': 1.0, '2010': 1.0, '1958': 1.0, '2007in': 1.0, 'july': 2.0, 'that': 1.0, 'meeting': 1.0, 'victory': 1.0, 'committee': 2.0, 'chosen': 1.0, 'as': 4.0, 'job': 1.0, 'to': 3.0, 'all': 2.0, '6925': 1.0, '1': 1.0, 'since': 1.0, 'retirement': 1.0, 'setting': 1.0, '2007s': 1.0, 'letter': 1.0, 'statewide': 1.0, 'partys': 1.0, 'by': 3.0, 'in': 6.0, 'national': 1.0, 'thingit': 1.0, 'he': 3.0, 'october': 1.0, 'led': 1.0, 'single': 1.0, 'figure': 1.0, 'ken': 1.0, 'at': 1.0, 'is': 2.0, '24': 1.0, 'former': 1.0, 'born': 1.0, 'gary': 1.0, 'know': 1.0, 'office': 1.0, 'serving': 1.0, 'every': 1.0, 'political': 1.0, 'finally': 1.0, 'a': 6.0, 'marginin': 1.0, 'of': 6.0, 'the': 17.0, 'significantly': 1.0, 'fargo': 1.0, 'us': 3.0, 'state': 3.0, 'margin': 1.0, 'election': 2.0, 'lead': 1.0, 'chairman': 5.0, 'republican': 5.0, '3512': 1.0, 'including': 1.0, 'dakota': 4.0, 'about': 2.0, 'majorities': 1.0, 'wasnt': 1.0, 'and': 6.0, 'senator': 1.0, 'director': 2.0, 'during': 1.0, 'station': 1.0, 'republicans': 2.0, 'his': 1.0, 'terms': 1.0, 'members': 1.0, 'increased': 1.0, 'representative': 1.0, 'legislature': 1.0, 'getting': 1.0, 'party': 4.0, 'place': 1.0, 'currently': 1.0, 'both': 2.0, 'house': 1.0, 'exactly': 1.0, 'senate': 1.0, 'wrote': 1.0, 'was': 2.0, 'finance': 2.0, 'executive': 1.0, 'into': 1.0, 'houses': 1.0, 'learned': 1.0, 'i': 1.0, 'rolling': 1.0, 'emineth': 1.0, 'one': 1.0, 'me': 1.0, 'it': 1.0, 'train': 1.0, 'pieces': 1.0, 'description': 1.0, 'their': 1.0, 'wheels': 1.0, 'motion': 1.0, 'so': 1.0}, {'pieces': 1.0, 'films': 1.0, 'own': 1.0, 'frontline': 2.0, 'outstanding': 1.0, 'emmy': 1.0, 'news': 1.0, '2009': 1.0, 'international': 1.0, 'hot': 1.0, 'was': 2.0, 'television': 1.0, 'bitter': 1.0, 'sometimes': 1.0, 'cynical': 1.0, 'leaving': 1.0, 'men': 1.0, 'young': 1.0, 'idealistic': 1.0, 'one': 1.0, 'year': 1.0, 'soldiers': 1.0, 'unique': 1.0, 'la': 1.0, 'aka': 1.0, 'individual': 1.0, 'platoon': 2.0, 'cinematography': 1.0, 'white': 2.0, 'documented': 1.0, 'released': 1.0, 'west': 1.0, 'unrest': 1.0, 'civil': 1.0, 'pacific': 1.0, 'australian': 1.0, 'south': 1.0, 'issues': 1.0, 'banff': 1.0, 'on': 2.0, 'paris': 1.0, 'iraq': 4.0, 'canal': 1.0, 'afghanistan': 2.0, '1976': 1.0, 'awarded': 1.0, 'festival': 1.0, 'along': 1.0, 'were': 1.0, 'known': 1.0, 'maker': 1.0, 'based': 1.0, 'kurdish': 1.0, 'he': 6.0, 'maldavsky': 1.0, 'july': 1.0, 'veterans': 1.0, 'network': 1.0, 'cameraman': 1.0, 'melbourne': 1.0, 'festivalin': 1.0, 'papua': 1.0, 'as': 4.0, 'had': 1.0, 'best': 2.0, 'briefinghe': 1.0, 'israel': 1.0, '2002': 1.0, 'then': 1.0, 'frontlinein': 1.0, 'currently': 1.0, 'began': 2.0, 'timothy': 1.0, '1999': 1.0, 'entering': 1.0, 'conflict': 1.0, 'when': 1.0, 'documentary': 6.0, 'such': 1.0, 'for': 7.0, 'in': 13.0, 'to': 1.0, 'length': 2.0, 'francegrucza': 1.0, 'film': 5.0, 'his': 5.0, 'achievement': 1.0, 'baghdad': 1.0, 'work': 2.0, 'selected': 1.0, 'at': 2.0, 'look': 1.0, 'is': 4.0, 'repatriated': 1.0, 'kosovan': 1.0, 'won': 1.0, 'who': 2.0, '1': 1.0, 'since': 1.0, 'refugees': 1.0, 'escaped': 1.0, 'war': 2.0, 'kosovo': 1.0, 'pbs': 1.0, 'granted': 1.0, 'correspondent': 1.0, 'pakistan': 1.0, 'spend': 1.0, 'named': 1.0, 'born': 1.0, 'zones': 1.0, 'australia': 3.0, 'safe': 1.0, 'haven': 1.0, 'section': 1.0, 'covering': 1.0, 'including': 1.0, 'enclave': 1.0, 'craft': 1.0, 'yuri': 1.0, 'grucza': 4.0, 'entered': 1.0, 'working': 1.0, 'first': 1.0, 'continues': 1.0, 'north': 1.0, 'career': 1.0, 'country': 1.0, 'canadian': 1.0, 'has': 1.0, 'the': 14.0, 'of': 3.0, 'during': 1.0, 'docs': 1.0, '2003': 1.0, 'invasion': 1.0, 'produce': 1.0, 'worked': 2.0, 'french': 1.0, 'a': 6.0, 'extensively': 1.0, 'palestinian': 1.0, 'and': 9.0, 'territories': 1.0, '2006': 1.0, 'with': 1.0, 'world': 1.0, 'feature': 2.0}, {'officials': 1.0, 'four': 1.0, 'continued': 1.0, 'religions': 1.0, 'december': 1.0, 'traveled': 1.0, '2009': 2.0, 'affairs': 1.0, 'position': 1.0, 'utah': 1.0, 'newswriters': 1.0, 'conference': 2.0, 'reverend': 1.0, 'hollywood': 1.0, 'organizations': 1.0, 'become': 1.0, '2006': 2.0, 'scholastics': 1.0, 'happiness': 1.0, 'way': 1.0, 'criminon': 1.0, 'members': 1.0, 'nonprofit': 1.0, 'able': 1.0, 'living': 1.0, 'its': 1.0, 'applied': 1.0, 'vice': 4.0, 'organization': 2.0, 'served': 1.0, 'working': 1.0, 'tech': 1.0, 'being': 1.0, 'city': 1.0, 'center': 1.0, 'represented': 1.0, 'facilities': 1.0, 'owning': 1.0, 'executive': 1.0, 'supervise': 1.0, 'professions': 1.0, 'up': 1.0, 'took': 1.0, 'spokespersons': 1.0, 'subsequently': 1.0, 'falcons': 1.0, 'atlanta': 1.0, 'melbourne': 1.0, 'years': 1.0, '2010': 1.0, 'seven': 1.0, 'by': 5.0, '1988': 1.0, 'encouraged': 1.0, 'college': 4.0, 'as': 6.0, 'was': 6.0, 'official': 1.0, 'mateo': 2.0, 'received': 1.0, 'church': 6.0, 'listed': 1.0, 'camino': 1.0, 'and': 11.0, 'doug': 1.0, 'california': 3.0, 'religion': 1.0, 'narconon': 1.0, 'played': 2.0, 'redwood': 1.0, 'procareer': 1.0, 'scientology': 8.0, 'australia': 1.0, 'former': 2.0, 'born': 1.0, 'recruited': 1.0, 'consultant': 1.0, '1960s': 1.0, 'founded': 1.0, 'el': 1.0, 'august': 1.0, 'play': 2.0, 'stockton': 1.0, 'media': 1.0, 'signed': 1.0, 'robert': 1.0, 'performance': 1.0, '15': 1.0, 'secular': 1.0, 'a': 15.0, 'better': 1.0, 'football': 7.0, 'professional': 1.0, 'steelers': 2.0, '2004': 1.0, 'adams': 6.0, 'serve': 1.0, 'american': 1.0, 'school': 2.0, 'tight': 1.0, 'he': 11.0, 'schoolhe': 1.0, 'pacific': 1.0, 'end': 1.0, 'teacherin': 1.0, '1946': 1.0, 'under': 1.0, 'of': 20.0, 'the': 30.0, 'other': 2.0, 'an': 1.0, 'helped': 1.0, 'coach': 3.0, 'playing': 1.0, 'for': 6.0, 'where': 2.0, 'san': 2.0, 'there': 1.0, 'teams': 1.0, 'national': 3.0, 'bob': 1.0, 'worked': 1.0, 'association': 2.0, 'league': 3.0, 'education': 1.0, 'companies': 1.0, 'basketball': 1.0, 'single': 1.0, 'drafted': 1.0, 'senior': 1.0, 'said': 1.0, '1973': 1.0, 'within': 3.0, 'during': 2.0, 'season': 1.0, 'had': 1.0, '1966': 1.0, 'out': 1.0, 'finished': 1.0, 'attended': 1.0, 'trackandfield': 1.0, 'applying': 1.0, 'public': 1.0, 'while': 2.0, 'participating': 1.0, 'at': 5.0, 'is': 1.0, 'sports': 1.0, 'president': 4.0, 'including': 2.0, 'full': 1.0, 'one': 1.0, 'held': 1.0, 'scholarship': 1.0, 'world': 1.0, '1968': 1.0, 'captain': 1.0, 'offense': 1.0, 'chuck': 1.0, 'not': 1.0, 'noll': 1.0, 'international': 2.0, 'free': 1.0, 'agent': 1.0, 'with': 2.0, 'fitness': 1.0, 'pittsburgh': 2.0, 'bruce': 1.0, 'in': 11.0, 'member': 2.0, 'to': 7.0, 'high': 2.0, 'became': 1.0, 'scovil': 1.0, 'scientologist': 1.0, 'methodology': 1.0, 'programs': 1.0, 'his': 2.0, 'after': 1.0}, {'merged': 1.0, 'year': 1.0, 'later': 1.0, 'permanent': 1.0, 'taillon': 1.0, 'gilles': 1.0, 'interim': 1.0, 'named': 1.0, 'on': 1.0, 'resignation': 1.0, 'his': 1.0, 'announced': 1.0, 'mario': 1.0, 'leader': 3.0, 'declined': 1.0, '2009': 1.0, 'support': 1.0, 'though': 1.0, 'even': 1.0, '44': 1.0, 'reelection': 1.0, 'her': 1.0, '2008': 1.0, 'leaderin': 1.0, '29': 1.0, 'march': 1.0, '22': 1.0, 'boissonneault': 1.0, 'laurent': 1.0, 'vote': 2.0, 'was': 7.0, '2012she': 1.0, 'lotbinire': 1.0, '2007': 2.0, 'district': 1.0, '1988': 1.0, 'health': 1.0, 'electoral': 1.0, 'initially': 1.0, '1987': 1.0, 'la': 1.0, 'quebec': 2.0, 'municipality': 1.0, 'she': 5.0, 'official': 1.0, 'liberal': 1.0, 'caq': 2.0, '1964': 1.0, 'dumont': 1.0, '4': 1.0, 'du': 1.0, 'mental': 1.0, 'sylvie': 1.0, 'riding': 1.0, 'into': 1.0, 'qubec': 2.0, 'roy': 5.0, 'finished': 2.0, 'deputy': 1.0, 'tuque': 1.0, '15': 1.0, 'merger': 1.0, 'third': 1.0, '26': 1.0, 'politician': 1.0, 'incumbent': 1.0, 'february': 1.0, 'candidate': 1.0, 'november': 1.0, 'party': 2.0, 'as': 2.0, 'became': 1.0, 'to': 3.0, 'from': 3.0, 'canada': 1.0, 'arthabaska': 1.0, 'of': 12.0, 'the': 24.0, 'mauricie': 1.0, 'adq': 3.0, '37': 1.0, 'national': 2.0, 'for': 4.0, 'nowdefunct': 1.0, '2012': 3.0, 'born': 1.0, 'coalition': 1.0, 'voteparti': 1.0, 'is': 1.0, 'avenir': 1.0, 'appointed': 1.0, 'in': 9.0, 'member': 2.0, '2003': 3.0, 'assembly': 2.0, 'opposition': 1.0, 'elected': 1.0, 'awarded': 1.0, 'law': 1.0, 'degree': 1.0, 'previously': 1.0, 'universit': 1.0, 'laval': 1.0, 'admitted': 1.0, '27': 1.0, 'and': 4.0, 'lawyer': 1.0, 'barreau': 1.0, 'years': 2.0, 'including': 1.0, 'second': 1.0, 'saintsophiedelvrard': 1.0, 'won': 1.0, 'voteon': 1.0, '12': 1.0, 'until': 3.0, 'organizations': 1.0, 'reelected': 2.0, 'mayor': 1.0, 'with': 6.0, 'a': 3.0, '1998': 1.0, 'also': 1.0, 'worked': 1.0, 'bcancour': 1.0, 'regional': 1.0, 'county': 1.0, 'partys': 1.0, 'quebecroy': 1.0, 'votein': 1.0, 'first': 1.0, 'sharply': 1.0, 'election': 4.0, 'qubcois': 1.0, 'pq': 1.0, 'served': 1.0, 'jeanguy': 1.0, 'house': 1.0, 'represented': 1.0, 'par': 1.0, 'that': 2.0, 'easily': 1.0, '59': 1.0}, {'their': 1.0, 'thanks': 1.0, 'would': 1.0, 'who': 1.0, 'ally': 1.0, 'fell': 1.0, 'how': 1.0, 'karaoke': 1.0, 'rituals': 1.0, 'turn': 1.0, '2013': 1.0, 'august': 1.0, 'woman': 1.0, 'third': 1.0, 'haircutsheffields': 1.0, 'for': 1.0, 'discusses': 1.0, 'true': 1.0, 'mans': 1.0, 'duran': 2.0, 'about': 1.0, 'girls': 1.0, 'talking': 1.0, 'called': 2.0, '2010': 1.0, 'second': 2.0, 'no': 1.0, 'couple': 1.0, 'after': 1.0, 'university': 1.0, 'yale': 1.0, 'attended': 1.0, 'before': 1.0, 'pop': 1.0, 'with': 1.0, 'library': 1.0, 'in': 12.0, 'dj': 1.0, 'version': 1.0, 'which': 1.0, 'print': 1.0, 'young': 1.0, 'that': 1.0, 'was': 3.0, 'to': 3.0, 'prior': 1.0, '2006': 1.0, 'essays': 1.0, 'late': 1.0, 'quest': 1.0, 'boston': 1.0, 'american': 1.0, 'sheffield': 3.0, 'it': 1.0, 'brooklyn': 1.0, '2009': 1.0, 'crists': 1.0, 'first': 1.0, 'childrensheffield': 1.0, '2': 1.0, 'on': 1.0, 'rob': 1.0, 'magazine': 1.0, 'writing': 1.0, 'and': 13.0, 'become': 1.0, 'virginia': 1.0, 'had': 1.0, '1966': 1.0, 'editor': 2.0, 'born': 1.0, 'an': 2.0, 'journalist': 1.0, 'folded': 1.0, '2007': 2.0, 'blender': 1.0, 'stone': 1.0, 'rene': 1.0, 'of': 8.0, 'the': 7.0, 'currently': 1.0, 'place': 1.0, 'a': 8.0, 'city': 1.0, 'author': 1.0, 'contributing': 2.0, 'spin': 1.0, 'february': 1.0, 'yorksheffields': 1.0, 'is': 6.0, 'at': 5.0, 'reviews': 2.0, 'loss': 1.0, 'crist': 1.0, 'virginiahis': 1.0, 'book': 3.0, 'he': 3.0, 'love': 6.0, 'where': 1.0, 'july': 1.0, 'met': 2.0, 'tape': 2.0, 'life': 1.0, 'bright': 1.0, 'by': 1.0, 'lives': 1.0, 'rolling': 1.0, 'one': 2.0, '1997': 1.0, 'received': 1.0, 'song': 1.0, 'excerpt': 1.0, 'death': 1.0, 'january': 2.0, 'eyes': 1.0, 'cooler': 1.0, 'culture': 1.0, 'married': 1.0, 'gq': 1.0, 'released': 3.0, 'random': 1.0, 'house': 1.0, 'radio': 1.0, 'featured': 1.0, 'starred': 1.0, 'remarried': 1.0, 'publishers': 1.0, 'weekly': 1.0, 'journalmost': 1.0, 'around': 1.0, 'music': 3.0, 'his': 2.0, 'takes': 1.0, 'charlottesville': 1.0, 'mutual': 1.0, 'native': 1.0, 'wife': 2.0, 'fellow': 1.0, 'issue': 1.0, 'station': 1.0, 'wtju': 1.0, 'continues': 1.0, 'mix': 2.0, 'time': 1.0, 'new': 2.0, 'york': 1.0}, {'royal': 1.0, 'leopoldinain': 1.0, 'der': 1.0, 'eg': 1.0, 'academies': 1.0, 'several': 2.0, 'honoris': 1.0, 'germany': 1.0, 'poland': 2.0, 'doctor': 1.0, 'p': 2.0, 'for': 1.0, 'bucharest': 1.0, 'society': 2.0, 'japan': 2.0, 'hoff': 1.0, 'vant': 1.0, 'h': 1.0, 'assemblies': 1.0, 'causa': 1.0, 'watermediated': 1.0, 'joannides': 1.0, 'particularly': 1.0, 'laboratoryindustrial': 1.0, 'involved': 1.0, 'elementary': 1.0, 'understanding': 1.0, 'improve': 1.0, 'have': 1.0, 'studies': 1.0, 'chemistries': 1.0, '2014': 1.0, 'solidstate': 1.0, 'include': 1.0, 'geo': 1.0, 'electro': 1.0, 'junction': 1.0, 'chemistry': 1.0, 'emergence': 1.0, 'field': 1.0, 'interfacial': 1.0, 'original': 1.0, 'an': 1.0, 'him': 1.0, 'isotopes': 1.0, 'faraday': 1.0, 'specific': 1.0, 'probes': 1.0, 'taken': 1.0, 'elements': 1.0, 'ches': 1.0, 'which': 1.0, 'based': 1.0, 'has': 5.0, 'work': 2.0, 'humboldt': 1.0, 'preparationmichel': 1.0, '1995his': 1.0, 'universitaire': 1.0, 'gassolid': 1.0, 'techniques': 1.0, 'et': 1.0, 'epr': 1.0, 'institut': 1.0, 'prize': 1.0, 'pierre': 1.0, 'physical': 1.0, 'organisation': 2.0, 'congress': 1.0, 'titanium': 1.0, 'universities': 1.0, 'vi': 1.0, '200004': 1.0, 'on': 2.0, 'curie': 2.0, 'he': 5.0, 'position': 1.0, 'provided': 1.0, '196971': 1.0, '1975': 1.0, 'contributed': 1.0, 'association': 1.0, 'doctorate': 1.0, 'was': 2.0, 'science': 1.0, 'president': 1.0, 'chemistrys': 1.0, 'marie': 1.0, '1993': 1.0, 'studied': 1.0, 'senior': 1.0, 'publications': 1.0, 'von': 1.0, 'france': 3.0, 'supramolecular': 1.0, 'michel': 1.0, 'born': 1.0, 'dioxide': 1.0, 'completed': 1.0, 'deutsche': 1.0, 'sue': 1.0, 'awards': 1.0, 'promotion': 2.0, 'to': 5.0, 'as': 2.0, 'paris': 2.0, 'led': 2.0, 'culminating': 1.0, 'che': 1.0, 'romania': 1.0, 'international': 3.0, 'akademie': 1.0, 'catalyst': 1.0, 'study': 1.0, 'sklodowskacurie': 1.0, 'europacat': 1.0, 'processes': 2.0, 'postdoctoral': 1.0, 'catalysis': 7.0, 'presidentfounder': 1.0, 'm': 1.0, 'member': 2.0, 'in': 13.0, 'appointed': 1.0, 'de': 1.0, 'the': 14.0, 'of': 19.0, 'university': 3.0, 'naturforscher': 1.0, 'cracow': 1.0, '1968': 1.0, 'transition': 1.0, 'molecular': 1.0, 'and': 12.0, 'professor': 2.0, 'lyon': 2.0, 'opening': 1.0, 'a': 3.0, 'academia': 1.0, 'his': 3.0, 'around': 1.0, '400': 1.0, 'coordination': 1.0, 'journals': 1.0, 'been': 2.0, 'being': 1.0, 'very': 1.0, 'portugal': 1.0, 'j': 1.0, 'pioneered': 1.0, 'active': 1.0, 'european': 1.0, '13th': 1.0, 'europaea': 1.0, 'heterogeneous': 1.0, 'federation': 1.0, 'lectureship': 1.0, 'netherlands': 1.0, 'fellow': 1.0, 'biennial': 1.0, 'societies': 2.0, 'with': 3.0, 'colloidal': 1.0, 'creation': 1.0, 'highranking': 1.0, 'cycle': 1.0, 'lisbon': 1.0, 'approach': 1.0, 'now': 1.0, 'awarded': 1.0, 'gaylussac': 1.0, 'famous': 1.0, 'activity': 1.0, 'congresses': 1.0, 'iacs': 1.0, 'princeton': 1.0, 'largely': 2.0, 'research': 1.0, 'is': 1.0, 'at': 4.0, 'devoted': 1.0, 'efcats': 1.0, '2004his': 1.0, 'involving': 1.0, 'liquidsolid': 1.0, 'solidsolid': 1.0, 'interfaces': 1.0}, {'north': 1.0, 'consultant': 1.0, 'societies': 2.0, 'network': 1.0, 'as': 2.0, 'series': 1.0, 'colloquium': 1.0, 'coordinator': 1.0, 'founding': 2.0, 'scholarshe': 1.0, 'society': 1.0, 'honor': 1.0, 'delta': 1.0, 'beta': 1.0, 'america': 1.0, 'african': 1.0, 'who': 2.0, 'landscapes': 1.0, 'marquis': 1.0, 'boards': 1.0, 'editorial': 1.0, 'serves': 3.0, 'eastern': 2.0, 'legal': 1.0, 'industry': 1.0, 'widely': 1.0, 'published': 1.0, 'taught': 1.0, 'en': 1.0, 'cultuur': 1.0, 'politics': 2.0, 'mediterranean': 1.0, 'mediaculture': 1.0, 'theory': 1.0, 'reviews': 1.0, 'lawyers': 1.0, 'journals': 2.0, 'scholarly': 1.0, 'states': 1.0, 'associate': 1.0, '2003': 1.0, 'comparative': 1.0, 'sean': 1.0, 'phi': 1.0, 'literature': 1.0, 'english': 1.0, 'language': 1.0, 'international': 1.0, 'communitybased': 1.0, 'columbia': 2.0, 'editor': 1.0, 'professor': 1.0, 'lateral': 3.0, 'literary': 1.0, 'humanities': 1.0, 'includeculture': 1.0, 'membership': 1.0, 'currently': 1.0, 'history': 1.0, 'critic': 1.0, 'lateralhis': 1.0, 'award': 2.0, 'of': 10.0, 'the': 17.0, 'doukkali': 1.0, 'jaafar': 1.0, 'morocco': 3.0, 'johnson': 1.0, 'academic': 1.0, 'george': 2.0, 'member': 1.0, 'includecultural': 1.0, 'in': 9.0, 'received': 1.0, 'akhawayn': 1.0, 'also': 4.0, 'college': 2.0, 'from': 3.0, 'phd': 1.0, '1974': 1.0, 'azemmour': 1.0, 'islam': 1.0, 'aksikas': 2.0, 'ma': 1.0, 'a': 4.0, 'arab': 1.0, 'and': 18.0, 'for': 4.0, 'fields': 1.0, 'united': 1.0, 'he': 8.0, 'edited': 2.0, 'chicago': 2.0, 'university': 4.0, 'media': 2.0, 'including': 2.0, 'president': 1.0, 'association': 1.0, 'several': 1.0, 'his': 1.0, 'volumes': 1.0, 'antar': 1.0, 'ofand': 1.0, 'studies': 14.0, 'law': 1.0, 'with': 1.0, 'awards': 1.0, 'andrews': 1.0, 'american': 2.0, '2014arab': 1.0, 'general': 1.0, 'forms': 1.0, '2010': 1.0, 'sirah': 1.0, 'modernities2009': 1.0, 'industries': 2.0, 'interpretation': 1.0, 'mason': 2.0, '2011': 1.0, 'purchase': 1.0, 'chouaib': 1.0, 'born': 1.0, 'neoliberal': 1.0, 'cultures': 1.0, 'vision': 1.0, 'at': 3.0, 'is': 5.0, '2002his': 1.0, 'al': 1.0, 'an': 4.0, 'cultural': 11.0, 'other': 1.0, 'journal': 4.0, 'publications': 1.0, 'holds': 2.0, 'books': 1.0, 'interventions': 1.0, 'muslim': 1.0, 'illinois': 1.0, 'ba': 1.0, 'islamic': 2.0, 'culture': 1.0, 'inaugural': 1.0, 'issue': 2.0, 'on': 5.0, 'middle': 2.0, 'critical': 3.0, 'times': 1.0, 'numerous': 1.0, 'engaged': 1.0, 'migratie': 1.0, 'scholarship': 1.0, 'special': 2.0, 'work': 1.0, 'has': 3.0, 'appeared': 1.0}, {'theme': 1.0, '1980': 1.0, 'calls': 1.0, '2012': 1.0, 'june': 1.0, 'conference': 2.0, 'online': 2.0, 'organized': 2.0, 'local': 1.0, 'spiritual': 1.0, 'education': 1.0, 'veganism': 1.0, 'specializing': 1.0, 'berkeley': 1.0, 'california': 1.0, 'state': 1.0, 'francisco': 1.0, 'humanities': 1.0, 'masters': 1.0, '1975': 1.0, 'audio': 1.0, 'phd': 1.0, 'maine': 1.0, 'throughout': 1.0, 'he': 6.0, 'societies': 1.0, 'centers': 1.0, 'diethe': 1.0, 'steve': 1.0, 'church': 1.0, 'new': 1.0, 'through': 1.0, 'thought': 1.0, 'who': 1.0, 'animal': 2.0, 'lectured': 1.0, 'world': 2.0, '1990': 1.0, 'for': 1.0, 'where': 1.0, 'inner': 1.0, 'veganpalooza': 1.0, 'outer': 1.0, 'circle': 2.0, 'events': 1.0, 'animals': 1.0, 'north': 1.0, 'administrative': 1.0, 'carman': 1.0, '1115': 1.0, 'speaker': 2.0, 'august': 1.0, 'progressive': 1.0, 'guest': 1.0, 'america': 1.0, 'vegan': 3.0, 'unity': 1.0, 'judy': 1.0, 'performed': 1.0, 'korea': 1.0, 'diet': 1.0, 'with': 2.0, 'on': 1.0, 'zen': 1.0, 'tuttle': 3.0, 'a': 4.0, 'context': 1.0, 'prussack': 1.0, 'at': 3.0, 'is': 4.0, 'college': 1.0, 'harmony': 1.0, 'prayer': 1.0, 'born': 1.0, 'former': 1.0, 'been': 1.0, 'amazon': 1.0, 'worldwide': 1.0, 'since': 2.0, 'peace': 3.0, '1': 1.0, 'musician': 1.0, 'and': 17.0, 'american': 1.0, '1953': 1.0, 'other': 2.0, 'an': 3.0, 'frequent': 1.0, 'bestseller': 1.0, '2010': 1.0, 'monk': 1.0, 'conferences': 1.0, 'science': 1.0, 'author': 1.0, 'of': 9.0, 'the': 12.0, 'international': 2.0, 'was': 1.0, 'first': 1.0, 'spoke': 1.0, 'rights': 2.0, 'has': 3.0, 'colby': 1.0, 'inspirational': 1.0, 'obtained': 1.0, 'zone': 1.0, 'm': 1.0, 'classical': 1.0, 'in': 9.0, 'writer': 1.0, 'made': 1.0, 'debut': 1.0, 'bachelors': 1.0, '8th': 1.0, 'festival': 1.0, 'vegetarian': 2.0, 'san': 2.0, 'diego': 1.0, 'cofounder': 1.0, 'about': 1.0, 'studied': 1.0, 'university': 2.0, 'compassion': 1.0, 'will': 1.0, 'waterville': 1.0, 'philosophy': 1.0, 'music': 2.0, 'his': 3.0, '1995': 1.0, 'degree': 2.0, 'emphasis': 1.0, 'literature': 1.0, 'from': 3.0}, {'every': 1.0, 'featured': 1.0, 'correspondents': 1.0, 'foreign': 1.0, 'to': 1.0, 'songwriting': 1.0, 'lent': 1.0, 'without': 1.0, 'entitled': 1.0, 'cd': 1.0, 'jazz': 1.0, 'image': 1.0, 'phd': 1.0, 'starr': 1.0, 'chicago': 1.0, 'georgia': 2.0, '1978': 1.0, 'since': 2.0, 'schools': 1.0, 'primary': 1.0, 'taught': 1.0, 'has': 2.0, 'industry': 1.0, 'bram': 1.0, 'film': 2.0, 'his': 1.0, '1993': 1.0, 'having': 1.0, 'stone': 1.0, 'edwin': 1.0, 'movie': 1.0, 'goofy': 1.0, 'batman': 1.0, 'beast': 1.0, 'work': 1.0, 'hard': 1.0, 'moving': 1.0, 'predator': 1.0, 'platoon': 1.0, 'honor': 1.0, '1980s': 1.0, 'films': 1.0, 'major': 1.0, 'cagney': 1.0, 'college': 2.0, 'personalities': 1.0, 'well': 2.0, 'concerned': 1.0, 'working': 2.0, 'first': 1.0, '2009': 1.0, 'released': 1.0, 'mainstream': 1.0, 'her': 7.0, 'with': 2.0, 'awardwinning': 1.0, 'elsevier': 1.0, 'press': 1.0, 'shows': 1.0, '1990': 1.0, 'focal': 1.0, 'won': 1.0, 'text': 1.0, 'grail': 1.0, 'only': 1.0, '2014': 2.0, 'noises': 1.0, 'known': 2.0, 'achieved': 1.0, 'in': 11.0, 'mdiv': 1.0, 'the': 14.0, 'of': 5.0, 'published': 1.0, 'january': 1.0, 'universities': 1.0, '1955': 1.0, 'lacey': 1.0, 'book': 1.0, '2001': 1.0, 'foley': 5.0, 'behind': 1.0, 'history': 1.0, 'currently': 1.0, 'academy': 1.0, 'ball': 3.0, 'theme': 1.0, '8': 1.0, 'editor': 1.0, 'professor': 1.0, 'glendale': 1.0, 'california': 1.0, 'including': 1.0, 'author': 1.0, 'school': 1.0, 'american': 1.0, '1999': 1.0, 'she': 3.0, 'beauty': 1.0, 'dr': 1.0, 'on': 2.0, 'artist': 2.0, 'art': 1.0, 'postproduction': 1.0, 'ament': 4.0, 'singer': 1.0, 'academic': 2.0, 'virginia': 1.0, 'born': 1.0, 'david': 2.0, 'by': 1.0, 'endowed': 1.0, 'cuesta': 1.0, 'and': 14.0, 'musician': 1.0, 'as': 6.0, 'king': 1.0, 'best': 1.0, 'knots': 1.0, 'die': 1.0, 'f': 1.0, 'actress': 1.0, 'exhusband': 1.0, 'landing': 1.0, 'off': 1.0, 'b': 1.0, 'chair': 1.0, 'which': 1.0, 'telecommunications': 1.0, 'is': 4.0, 'at': 1.0, 'despite': 1.0, 'state': 4.0, 'university': 5.0, 'invited': 1.0, 'for': 4.0, 'such': 2.0, 'song': 1.0, 'also': 3.0, '1989': 1.0, 'explicitly': 1.0, 'appearance': 1.0, 'studies': 1.0, 'development': 1.0, 'television': 2.0, 'updated': 1.0, 'late': 1.0, 'net': 1.0, 'started': 1.0, 'dracula': 1.0, 'letterman': 1.0, 'other': 1.0, 'an': 4.0, 'ever': 1.0, 'ministry': 1.0, 'prizzis': 1.0, 'a': 5.0, 'guest': 1.0, 'stokers': 1.0, 'though': 1.0, 'voice': 1.0, 'from': 2.0, 'dallas': 1.0, 'vanessa': 1.0, 'career': 1.0, 'dancer': 1.0, 'night': 2.0, 'success': 2.0, 'returns': 1.0, 'world': 1.0, 'sound': 2.0, 'depaul': 1.0, 'edmund': 1.0, 'program': 1.0, 'after': 1.0, '2004': 1.0, '1990s': 1.0, 'experience': 1.0, 'columbia': 1.0, 'gaining': 1.0}, {'part': 1.0, 'xxiii': 1.0, 'super': 2.0, 'td': 1.0, '1': 1.0, 'reception': 1.0, '92': 1.0, '123': 1.0, 'with': 3.0, 'carry': 1.0, 'returns': 1.0, 'carries': 1.0, '325': 1.0, '1391': 1.0, 'rushed': 1.0, 'throughout': 1.0, 'washington': 1.0, 'averaging': 3.0, '49ers': 2.0, 'francisco': 2.0, 'san': 2.0, 'dolphins': 1.0, 'miami': 1.0, 'league': 1.0, 'leading': 1.0, 'years': 2.0, 'successful': 1.0, 'before': 1.0, 'five': 1.0, 'team': 1.0, '25': 1.0, 'junior': 1.0, 'senior': 1.0, 'number': 1.0, 'wearing': 1.0, 'from': 2.0, '89': 1.0, 'kentucky': 2.0, '228': 1.0, 'seasons': 1.0, '63': 1.0, 'winning': 1.0, 'fifth': 1.0, 'university': 1.0, 'setting': 1.0, 'also': 2.0, '1997': 1.0, 'eleven': 1.0, 'weighs': 1.0, 'american': 1.0, '9': 1.0, '3': 1.0, 'today': 1.0, 'draft': 1.0, 'former': 1.0, 'born': 1.0, 'played': 2.0, '85': 1.0, 'went': 1.0, 'may': 1.0, 'd1a': 1.0, 'redskins': 1.0, 'logan': 1.0, 'stands': 1.0, 'then': 1.0, 'enjoyed': 1.0, 'attended': 1.0, 'running': 1.0, 'added': 1.0, 'a': 3.0, '44': 1.0, 'football': 2.0, 'and': 3.0, 'play': 2.0, '206': 1.0, 'four': 1.0, 'nflmarc': 1.0, 'that': 1.0, 'playing': 1.0, 'xxix': 1.0, 'of': 4.0, 'the': 13.0, '1135': 1.0, 'marc': 7.0, 'college': 1.0, 'as': 3.0, 'to': 2.0, 'per': 2.0, 'anthony': 1.0, 'in': 10.0, '1987': 2.0, 'back': 1.0, 'ncaa': 2.0, 'his': 5.0, 'sophomore': 2.0, 'hall': 1.0, '1985': 1.0, '1965': 1.0, 'fame': 1.0, 'bowl': 4.0, 'on': 4.0, 'scored': 1.0, 'record': 1.0, 'cincinnati': 1.0, '15': 1.0, 'career': 1.0, 'round': 1.0, 'touchdowns': 1.0, 'just': 1.0, 'by': 1.0, 'very': 1.0, 'receptions': 2.0, 'plays': 1.0, '1830': 1.0, 'national': 1.0, 'two': 2.0, 'kickoff': 1.0, 'mvp': 1.0, 'performance': 1.0, 'for': 5.0, 'had': 1.0, 'kick': 1.0, 'longest': 2.0, 'return': 2.0, 'yards': 8.0, 'well': 1.0, 'scrimmage': 1.0, 'records': 1.0, 'still': 1.0, '60': 1.0, 'lbs': 1.0, 'was': 2.0, 'at': 2.0, 'is': 1.0, 'selected': 1.0, 'nfl': 1.0, 'bengals': 3.0, 'tds': 2.0, 'he': 3.0}, {'silverbacks': 1.0, 'three': 1.0, 'him': 1.0, 'released': 1.0, 'before': 1.0, 'game': 1.0, 'one': 1.0, 'fracture': 1.0, 'suffered': 1.0, '1': 1.0, 'scorer': 1.0, 'leading': 1.0, 'teams': 1.0, 'islanders': 1.0, 'puerto': 1.0, 'second': 1.0, 'joined': 1.0, '2006': 2.0, 'rhinos': 1.0, 'moved': 1.0, '2004': 1.0, 'riverhounds': 1.0, 'pittsburgh': 1.0, 'nine': 1.0, '2003': 1.0, 'as': 1.0, 'serving': 1.0, 'stress': 1.0, 'planning': 1.0, 'graduated': 1.0, 'mls': 1.0, 'from': 1.0, 'pioneer': 1.0, '2007': 1.0, 'mens': 2.0, 'seven': 1.0, 'overall': 1.0, 'bachelor': 1.0, '1997': 1.0, 'donovan': 1.0, 'on': 5.0, 'goals': 2.0, 'degree': 1.0, 'played': 5.0, 'urban': 1.0, 'and': 4.0, 'then': 2.0, '2002': 1.0, 'four': 1.0, 'most': 1.0, 'is': 1.0, 'born': 1.0, 'former': 1.0, '26': 1.0, 'atlanta': 1.0, 'ann': 1.0, 'a': 5.0, 'nscaa': 1.0, 'in': 12.0, 'american': 2.0, 'school': 2.0, 'vancouver': 2.0, 'spot': 1.0, 'february': 3.0, 'state': 1.0, 'forwardwoolfolk': 1.0, 'stanford': 1.0, 'up': 1.0, 'coach': 1.0, 'an': 1.0, 'playing': 1.0, 'all': 2.0, '2005': 1.0, 'woolfolk': 4.0, 'rochester': 1.0, 'he': 13.0, 'usl': 1.0, '6': 1.0, 'assistant': 1.0, 'university': 2.0, 'only': 1.0, 'arbor': 1.0, 'for': 3.0, 'corey': 1.0, 'free': 1.0, 'team': 4.0, 'was': 2.0, 'soccer': 3.0, 'attended': 2.0, '49th': 1.0, 'signed': 2.0, 'to': 3.0, 'high': 2.0, 'with': 7.0, 'first': 1.0, '2001': 4.0, 'san': 1.0, 'jose': 1.0, 'earthquakes': 2.0, 'superdraft': 1.0, 'drafted': 1.0, 'preseason': 2.0, 'round': 1.0, 'games': 2.0, 'waived': 1.0, '30': 1.0, 'lost': 1.0, 'may': 1.0, 'thunder': 1.0, '1996': 1.0, '18': 1.0, 'gemini': 1.0, 'roster': 1.0, 'december': 1.0, 'whitecaps': 1.0, 'rico': 1.0, 'scoring': 1.0, 'landon': 1.0, 'michigan': 2.0, 'june': 1.0, 'league': 1.0, 'minnesota': 1.0, '5th': 1.0, 'aleague': 1.0, 'broke': 1.0, 'his': 1.0, '1983': 1.0, 'foot': 1.0, 'the': 20.0, 'of': 4.0, 'part': 1.0, 'season': 1.0, 'time': 1.0, 'where': 3.0, 'dayton': 1.0, '2000': 1.0, 'premier': 1.0, 'development': 1.0}, {'news': 1.0, 'television': 1.0, 'radio': 1.0, 'appeared': 1.0, 'when': 1.0, 'occasion': 1.0, 'show': 1.0, 'rap': 1.0, 'daily': 1.0, '945': 1.0, 'jamn': 1.0, 'unavailable': 1.0, 'akrobatik': 2.0, 'rapper': 1.0, 'boston': 1.0, 'filled': 1.0, 'tv': 1.0, 'created': 1.0, 'which': 1.0, 'morning': 1.0, 'committee': 1.0, 'industry': 1.0, 'follow': 1.0, 'years': 1.0, 'more': 1.0, 'even': 1.0, 'win': 1.0, 'on': 4.0, 'went': 1.0, 'fellow': 1.0, 'zulu': 1.0, 'nyc': 1.0, 'world': 1.0, 'battles': 1.0, 'battle': 1.0, 'entertainment': 2.0, 'perform': 1.0, 'math': 2.0, 'umasslowell': 1.0, '1990s': 1.0, 'artist': 1.0, 'northeastern': 2.0, 'several': 2.0, 'including': 1.0, 'fulltime': 1.0, 'lowell': 1.0, 'awards': 1.0, 'album': 4.0, 'mic': 1.0, 'coast': 1.0, 'areas': 1.0, 'competed': 1.0, 'up': 1.0, 'adjunct': 1.0, 'university': 1.0, 'lasell': 1.0, '617live': 1.0, 'lecturer': 1.0, 'book': 2.0, 'hop': 3.0, 'part': 2.0, 'regularly': 1.0, 'hip': 3.0, 'a': 6.0, 'professor': 2.0, 'programs': 1.0, 'his': 2.0, 'year': 1.0, 'freestyle': 1.0, 'shows': 1.0, 'bostonhe': 1.0, 'state': 1.0, 'new': 1.0, '2005': 1.0, 'course': 1.0, 'supremacy': 1.0, 'albook': 1.0, 'performs': 1.0, 'sports': 1.0, 'at': 8.0, 'is': 6.0, 'lyrical': 3.0, 'mass': 1.0, 'and': 11.0, 'massachusetts': 2.0, 'but': 1.0, 'such': 1.0, 'for': 3.0, 'segments': 1.0, 'candidate': 1.0, 'east': 1.0, 'from': 2.0, 'teaches': 1.0, 'been': 2.0, 'schools': 1.0, 'in': 9.0, 'highly': 1.0, 'college': 3.0, 'an': 3.0, 'other': 1.0, 'all': 2.0, 'to': 5.0, 'nation': 1.0, 'universal': 1.0, 'as': 2.0, 'infiniti': 1.0, 'the': 13.0, 'of': 4.0, 'courses': 2.0, 'bay': 1.0, 'only': 1.0, 'england': 1.0, 'latest': 1.0, 'doctoral': 1.0, 'rated': 1.0, 'who': 1.0, 'won': 1.0, 'arts': 1.0, 'movies': 1.0, 'parttime': 1.0, 'institute': 1.0, 'em': 2.0, '82013': 1.0, 'both': 1.0, 'put': 2.0, 'they': 1.0, 'entitled': 1.0, 'appear': 1.0, 'speaks': 1.0, 'together': 1.0, 'has': 4.0, 'worlds': 1.0, 'mathematics': 1.0, 'first': 1.0, 'curriculum': 1.0, 'finals': 1.0, 'shame': 2.0, 'he': 6.0, 'also': 2.0, 'received': 1.0, 'ms': 1.0, 'many': 3.0, 'different': 2.0, 'venues': 1.0, 'primarily': 2.0, 'colleges': 1.0, 'universities': 1.0, 'bs': 1.0, 'invitation': 1.0, 'early': 1.0, 'mid': 1.0}, {'film': 1.0, 'restaurant': 1.0, 'sushi': 1.0, 'ltd': 1.0, 'television': 1.0, 'bohai': 1.0, 'studioszhejiang': 1.0, 'production': 1.0, 'her': 1.0, 'gong': 1.0, 'shui': 1.0, 'company': 1.0, 'ruo': 1.0, 'autobiography': 1.0, 'an': 1.0, 'icableye': 1.0, 'acting': 1.0, 'productions': 1.0, 'atv': 1.0, 'series': 1.0, 'starred': 1.0, 'shan': 1.0, 'also': 1.0, 'exposure': 1.0, 'month': 1.0, 'get': 1.0, 'moved': 1.0, 'june': 1.0, 'on': 2.0, 'midautumn': 1.0, 'mc': 1.0, 'special': 1.0, 'additionally': 1.0, 'onsite': 1.0, 'tvbs': 1.0, '2004': 1.0, 'mcin': 1.0, 'association': 1.0, 'worked': 1.0, 'has': 1.0, 'mandarin': 1.0, 'one': 1.0, 'scholarship': 1.0, 'evening': 1.0, 'fluent': 1.0, 'cantonese': 1.0, 'united': 1.0, 'more': 1.0, 'accepted': 1.0, 'lost': 1.0, 'english': 1.0, 'host': 1.0, 'careerye': 1.0, 'group': 1.0, 'movie': 2.0, 'immigrated': 1.0, 'then': 1.0, 'talent': 1.0, 'rich': 2.0, 'after': 3.0, 'management': 1.0, 'few': 1.0, 'pursue': 2.0, 'college': 1.0, 'reporter': 1.0, 'as': 2.0, 'chairman': 1.0, 'from': 2.0, 'contract': 2.0, 'signed': 2.0, 'industry': 1.0, 'eternal': 1.0, 'attended': 1.0, 'chinese': 3.0, 'botany': 1.0, 'dewey': 1.0, 'was': 3.0, '1980': 1.0, 'president': 1.0, 'science': 1.0, '1998': 1.0, 'a': 12.0, 'miss': 2.0, 'limited': 1.0, '2005': 2.0, 'left': 3.0, 'shang': 1.0, 'actress': 1.0, 'or': 1.0, 'born': 1.0, 'xuan': 2.0, 'tvb': 4.0, 'with': 3.0, 'ye': 6.0, 'competition': 1.0, '14': 1.0, 'games': 1.0, 'career': 2.0, 'vice': 1.0, '2006apart': 1.0, 'february': 1.0, 'international': 3.0, 'currently': 1.0, 'place': 1.0, 'hengdian': 1.0, 'broadcast': 1.0, 'in': 12.0, 'producer': 1.0, 'age': 1.0, 'and': 9.0, 'she': 11.0, '1999': 3.0, 'athens': 1.0, 'roles': 1.0, 'student': 1.0, 'michelle': 2.0, 'won': 2.0, 'states': 1.0, 'is': 3.0, 'at': 4.0, 'china': 1.0, 'for': 1.0, 'such': 1.0, '10': 1.0, 'john': 1.0, 'chamber': 1.0, 'to': 6.0, 'high': 1.0, 'engineering': 1.0, 'lue': 1.0, 'loveye': 1.0, 'school': 1.0, 'where': 1.0, 'dramas': 1.0, 'first': 1.0, 'owner': 2.0, 'fair': 1.0, 'wellesley': 1.0, 'by': 1.0, 'but': 1.0, 'industryin': 1.0, 'graduating': 1.0, 'entertainment': 1.0, 'july': 2.0, 'winning': 1.0, 'pageant': 1.0, 'offered': 1.0, 'had': 1.0, 'sector': 1.0, 'number': 1.0, 'titled': 1.0, 'cctvshe': 1.0, 'the': 12.0, 'of': 5.0, 'leading': 1.0, 'olympic': 1.0, 'famous': 2.0, 'happiness': 1.0, 'published': 1.0, 'triumph': 1.0, 'before': 1.0, 'skies': 1.0}, {'average': 1.0, 'line': 1.0, 'place': 1.0, '20059': 1.0, 'analysis': 1.0, '16': 1.0, 'issued': 1.0, 'opinions': 1.0, '440some': 1.0, 'stonewalledof': 1.0, 'solve': 1.0, 'try': 1.0, 'pressure': 1.0, 'cold': 1.0, 'light': 1.0, 'shed': 1.0, 'veldes': 1.0, 'relating': 1.0, 'claims': 3.0, 'amendment': 1.0, 'fourth': 1.0, '1998': 1.0, 'december': 1.0, 'authorities': 1.0, 'jovin': 1.0, 'suzanne': 1.0, 'investigation': 1.0, 'inception': 1.0, 'name': 1.0, 'haven': 1.0, 'new': 1.0, 'city': 1.0, 'sued': 1.0, 'velde': 2.0, 'de': 3.0, 'professor': 1.0, 'yet': 1.0, 'attorney': 2.0, 'includes': 1.0, 'ohara': 1.0, 'victims': 1.0, 'toward': 1.0, 'alone': 1.0, 'attitude': 1.0, 'vote': 1.0, 'date': 1.0, '117': 1.0, 'june': 1.0, 'allowing': 2.0, 'approved': 1.0, 'used': 1.0, 'provided': 1.0, 'newman': 1.0, 'associations': 1.0, 'qualified': 2.0, 'barack': 1.0, 'been': 5.0, '2005': 1.0, 'and': 21.0, 'tried': 1.0, 'decision': 1.0, 'journal': 1.0, 'judicial': 5.0, 'california': 1.0, 'editorial': 1.0, 'april': 1.0, 'vacated': 1.0, 'complaint': 2.0, 'supervisory': 1.0, 'unusual': 2.0, 'appeal': 3.0, 'have': 5.0, 'thorough': 1.0, 'partyline': 1.0, 'government': 1.0, 'prevent': 1.0, 'competent': 2.0, 'nominated': 2.0, 'determine': 1.0, 'grounds': 1.0, 'more': 1.0, 'fair': 2.0, 'order': 1.0, 'lenient': 1.0, '4': 1.0, 'prisoner': 1.0, 'ross': 6.0, 'challenges': 1.0, 'michael': 2.0, 'delayed': 1.0, '26': 2.0, 'when': 3.0, 'whole': 1.0, 'defendants': 1.0, 'national': 1.0, 'sexual': 2.0, 'restraint': 1.0, 'since': 1.0, 'prosecution': 1.0, 'justice': 1.0, 'view': 1.0, 'american': 1.0, 'awarded': 1.0, 'bill': 1.0, 'upon': 2.0, 'proceed': 1.0, 'one': 3.0, 'longrange': 1.0, '2004': 1.0, 'developing': 1.0, 'study': 1.0, 'filed': 3.0, 'nomination': 5.0, 'judges': 3.0, 'advised': 1.0, 'practice': 1.0, 'sentence': 2.0, 'having': 1.0, 'record': 2.0, 'temperament': 1.0, '29': 1.0, 'confirmed': 1.0, 'court': 12.0, 'his': 8.0, 'chief': 1.0, 'prohibition': 1.0, 'imposed': 1.0, 'no': 2.0, 'under': 1.0, 'dismissed': 3.0, 'to': 30.0, 'less': 1.0, 'sentencing': 2.0, 'rights': 2.0, 'bench': 2.0, 'amendments': 1.0, 'executed': 1.0, 'cruel': 1.0, 'favor': 1.0, 'full': 1.0, 'plans': 1.0, 'were': 2.0, 'second': 4.0, 'ab': 1.0, 'warren': 1.0, 'well': 2.0, 'offenders': 1.0, 'found': 3.0, '1980': 1.0, '12page': 1.0, 'by': 12.0, 'present': 1.0, 'robert': 1.0, 'supreme': 1.0, 'claimed': 1.0, 'be': 3.0, 'it': 1.0, 'own': 1.0, 'was': 12.0, '1994': 5.0, 'three': 2.0, 'childrens': 2.0, 'federal': 9.0, 'o': 1.0, 'jd': 1.0, 'yale': 3.0, 'cabranes': 1.0, 'chatigny': 16.0, 'certainly': 1.0, 'commission': 2.0, 'in': 23.0, '20052006': 1.0, 'editor': 1.0, 'is': 4.0, 'eginton': 1.0, 'house': 1.0, '2': 1.0, 'advocacy': 1.0, 'award': 1.0, 'from': 7.0, 'who': 6.0, 'judiciary': 6.0, 'forceful': 1.0, '28': 1.0, 'august': 1.0, 'indeed': 1.0, 'w': 1.0, 'if': 2.0, 'reasonable': 2.0, 'connecticut': 7.0, 'september': 3.0, 'course': 1.0, 'samuel': 1.0, 'actions': 2.0, 'subsequently': 1.0, 'northern': 1.0, 'clerk': 1.0, 'fiscal': 1.0, 'disorder': 1.0, 'neil': 1.0, 'attention': 1.0, 'against': 4.0, 'state': 2.0, 'even': 1.0, '2006': 1.0, '10': 1.0, 'complained': 1.0, 'where': 1.0, 'upward': 1.0, '1973': 1.0, 'march': 2.0, 'united': 3.0, 'appeals': 3.0, 'district': 8.0, 'bias': 1.0, 'eighth': 1.0, 'tasked': 1.0, 'served': 5.0, 'had': 3.0, 'tempered': 1.0, 'death': 4.0, 'rosss': 1.0, 'rule': 2.0, 'compassionate': 1.0, 'has': 12.0, 'chatignys': 6.0, 'states': 5.0, 'sensitive': 1.0, 'note': 1.0, 'jose': 1.0, 'brown': 1.0, 'stepchild': 1.0, 'bruce': 1.0, 'crimes': 1.0, 'seat': 2.0, 'execution': 1.0, 'received': 3.0, 'assistant': 1.0, 'university': 3.0, 'a': 21.0, 'behalf': 1.0, 'centered': 1.0, 'considerationopposition': 1.0, 'abusing': 1.0, 'set': 1.0, '2009': 1.0, 'senate': 4.0, 'law': 6.0, 'the': 91.0, 'important': 1.0, 'unanimous': 1.0, 'allens': 1.0, 'different': 2.0, 'not': 2.0, 'unbiased': 1.0, 'conti': 1.0, 'leaked': 1.0, 'times': 1.0, 'us': 7.0, 'council': 2.0, 'obama': 1.0, 'waive': 2.0, 'failed': 1.0, 'cases': 1.0, 'jon': 1.0, 'rating': 1.0, '2nd': 1.0, 'school': 1.0, 'this': 1.0, 'megans': 1.0, 'outstanding': 1.0, 'circuit': 5.0, 'he': 11.0, 'executive': 1.0, 'association': 1.0, 'our': 1.0, 'an': 8.0, 'years': 2.0, 'committee': 7.0, '1952': 1.0, '12': 1.0, 'him': 5.0, 'letter': 2.0, 'u': 1.0, '2010': 4.0, 'seventeen': 1.0, 'left': 1.0, 'elaborate': 1.0, 'stating': 1.0, 'call': 1.0, 's': 1.0, 'into': 2.0, 'courts': 1.0, 'questions': 1.0, 'departure': 2.0, 'duty': 1.0, 'judge': 24.0, 'fitness': 2.0, 'delegates': 1.0, 'serve': 1.0, 'may': 1.0, 'close': 1.0, 'either': 1.0, '5': 2.0, 'dutyrequired': 1.0, 'involving': 1.0, 'enumerated': 1.0, '1': 1.0, 'cocounsel': 1.0, 'director': 1.0, 'woody': 1.0, 'sic': 1.0, 'allen': 1.0, 'than': 2.0, 'gained': 1.0, 'unsuccessfully': 1.0, 'career': 1.0, 'prosecutor': 1.0, '2003': 2.0, 'publicly': 1.0, '1978': 1.0, 'stated': 1.0, 'taunton': 1.0, 'probable': 1.0, 'cause': 1.0, 'dealt': 1.0, 'reportedly': 1.0, 'minor': 1.0, 'before': 2.0, 'standing': 1.0, 'reversed': 2.0, 'van': 3.0, 'elected': 1.0, '2001': 2.0, 'murderer': 2.0, 'georgetown': 2.0, 'agenda': 1.0, 'sexoffender': 1.0, 'version': 1.0, 'registry': 1.0, 'efforts': 1.0, '3': 1.0, 'sentences': 2.0, 'childpornography': 1.0, 'at': 2.0, 'or': 2.0, 'potentially': 1.0, 'recommended': 1.0, 'minimum': 1.0, 'most': 1.0, 'downward': 1.0, 'with': 5.0, 'departures': 1.0, '2006judge': 1.0, 'half': 1.0, 'long': 1.0, 'threatened': 1.0, 'take': 2.0, 'never': 1.0, '15': 1.0, 'away': 1.0, '2008he': 1.0, 'attorneys': 1.0, 'ruination': 1.0, 'license': 1.0, 'aspect': 1.0, 'lawyer': 1.0, 'eighttime': 1.0, 'girls': 1.0, 'born': 1.0, 'young': 1.0, 'sentencings': 1.0, 'july': 1.0, 'women': 1.0, 'killers': 1.0, 'student': 1.0, '24page': 1.0, 'wrote': 3.0, 'washington': 1.0, 'mental': 1.0, 'made': 1.0, 'appellate': 1.0, 'himself': 2.0, 'james': 1.0, 'of': 44.0, 'support': 1.0, 'victimsupport': 1.0, 'temperatein': 1.0, 'republican': 1.0, 'language': 1.0, 'former': 3.0, 'appointees': 1.0, 'for': 19.0, 'said': 1.0, 'section': 1.0, 'they': 2.0, 'without': 2.0, 'any': 2.0, 'reservation': 1.0, 'while': 2.0, 'each': 1.0, 'circumstances': 2.0, 'impartial': 1.0, 'we': 4.0, 'called': 1.0, 'believe': 2.0, 'appropriate': 1.0, 'examination': 1.0, 'criminal': 2.0, 'proven': 1.0, 'charges': 1.0, '19791980': 1.0, 'steps': 1.0, 'shows': 1.0, 'ensure': 1.0, 'president': 2.0, 'appropriately': 1.0, 'facts': 1.0, 'person': 1.0, 'that': 20.0, 'sadism': 1.0, 'committed': 1.0, 'understanding': 1.0, 'rate': 1.0, 'there': 2.0, 'himchatigny': 1.0, 'only': 2.0, 'defendant': 1.0, 'appealed': 1.0, 'dismissal': 1.0, 'center': 2.0, 'are': 1.0, 'strong': 2.0, 'ma': 1.0, 'opinion': 1.0, 'makes': 1.0, 'worked': 1.0, 'civil': 1.0, 'candidate': 1.0, 'matters': 1.0, 'then': 1.0, 'punishment': 1.0, 'over': 1.0, 'violation': 1.0, 'its': 1.0, 'case': 7.0, 'motivated': 1.0, 'penalty': 1.0, 'very': 1.0, '19801981judge': 1.0, 'but': 2.0, 'on': 19.0, 'bar': 2.0, 'perception': 1.0, 'e': 1.0, 'discharge': 2.0, 'prosecutors': 2.0, 'as': 9.0, 'clinton': 1.0, 'misconductin': 1.0, 'thrust': 1.0, 'action': 1.0, 'resolution': 1.0, 'minded': 1.0, 'proceeding': 1.0}, {'literature': 1.0, 'musical': 1.0, 'form': 1.0, 'become': 1.0, 'has': 1.0, 'rhyme': 1.0, 'lyrical': 1.0, 'fusing': 1.0, 'popular': 1.0, 'rb': 1.0, 'genre': 1.0, 'fusion': 1.0, 'esp': 1.0, 'folklore': 1.0, 'history': 1.0, 'references': 1.0, 'frequent': 1.0, 'making': 1.0, 'poetry': 4.0, 'traditional': 2.0, 'using': 1.0, 'normally': 1.0, '2000s': 1.0, 'what': 1.0, 'beyond': 1.0, 'war': 1.0, 'issues': 1.0, 'covering': 1.0, 'noted': 1.0, 'decade': 1.0, 'as': 1.0, 'across': 1.0, 'rock': 1.0, 'blue': 1.0, 'similar': 1.0, 'hualien': 1.0, 'sent': 1.0, 'lyricist': 2.0, 'pinyin': 1.0, 'pulling': 1.0, 'chou': 5.0, 'hired': 1.0, 'awards': 1.0, 'album': 1.0, 'together': 1.0, 'known': 2.0, 'best': 2.0, 'calls': 1.0, 'golden': 1.0, 'taiwanese': 1.0, 'with': 4.0, 'family': 1.0, 'multigolden': 1.0, 'majority': 1.0, 'love': 1.0, 'he': 4.0, 'nominated': 1.0, 'collaboration': 1.0, 'discussed': 1.0, 'runin': 1.0, 'released': 1.0, 'kong': 1.0, 'jay': 4.0, '2000': 1.0, 'fame': 1.0, 'contemporary': 1.0, 'vincent': 1.0, 'in': 7.0, 'taiwan': 1.0, 'at': 1.0, 'is': 3.0, 'refer': 1.0, 'entrepreneur': 1.0, 'since': 1.0, 'find': 1.0, 'fang': 6.0, 'career': 2.0, '26': 1.0, 'chinese': 6.0, 'was': 2.0, 'hoping': 1.0, 'to': 7.0, 'a': 7.0, 'fng': 1.0, 'born': 1.0, 'wellfangs': 1.0, 'complemented': 1.0, '1997': 1.0, 'on': 2.0, 'entrepreneurvincent': 1.0, 'impressed': 1.0, 'melody': 2.0, 'for': 6.0, 'january': 1.0, 'samples': 1.0, 'award': 1.0, 'titled': 1.0, 'of': 4.0, 'the': 6.0, 'limelight': 1.0, 'who': 1.0, 'won': 1.0, '1969': 1.0, 'and': 5.0, '19th': 1.0, 'writing': 2.0, 'white': 1.0, 'music': 2.0, 'his': 7.0, 'porcelain': 1.0, 'sung': 1.0, 'by': 2.0, 'just': 1.0, 'asia': 1.0, 'from': 2.0, 'into': 1.0, 'songwriting': 1.0, 'lyrics': 3.0, 'had': 1.0, 'record': 2.0, 'style': 3.0, 'companies': 1.0, 'wide': 1.0, 'new': 2.0, 'wnshn': 1.0, 'that': 1.0, 'passion': 1.0, 'modern': 2.0, 'ballads': 1.0, 'rapidly': 1.0, 'company': 1.0, 'jacky': 1.0, 'su': 1.0, 'singersongwriter': 1.0, 'contributes': 1.0, 'owner': 1.0, 'wu': 1.0, 'work': 2.0, 'started': 1.0, 'are': 1.0, 'first': 1.0, 'chous': 1.0, 'yan': 1.0, 'then': 1.0, 'produced': 1.0, 'albums': 1.0, 'made': 1.0, 'hong': 1.0, 'which': 2.0, 'please': 1.0, 'grew': 1.0}, {'httpwwwsamoaobserverwsindexphpoptioncomcontentviewarticleid31878tributetocatid1latestnewsitemid50': 1.0, 'lemalu': 1.0, '9': 1.0, 'short': 1.0, 'politics': 1.0, 'retiring': 1.0, 'february': 1.0, 'speeches': 1.0, 'collection': 1.0, 'see': 1.0, 'own': 1.0, 'exclusive': 1.0, 'help': 1.0, 'kitchen': 1.0, 'with': 1.0, 'falling': 1.0, 'bachelor': 1.0, 'about': 1.0, 'observer': 1.0, 'money': 1.0, 'had': 1.0, 'telephone': 1.0, 'introduce': 1.0, 'services': 1.0, 'public': 1.0, 'colony': 1.0, 'arrived': 1.0, 'when': 1.0, 'twentieth': 1.0, 'early': 1.0, 'poemsin': 1.0, 'community': 1.0, 'name': 2.0, 'grandfather': 2.0, 'ancestry': 1.0, 'german': 2.0, 'having': 1.0, 'descent': 1.0, 'boarding': 1.0, 'germanswedishsamoan': 1.0, 'joined': 1.0, 'going': 1.0, 'leader': 1.0, 'studied': 1.0, 'true': 1.0, 'falelatai': 1.0, '1988': 1.0, 'health': 1.0, 'richest': 1.0, 'college': 1.0, 'as': 3.0, 'kings': 1.0, 'telefoni': 5.0, 'alesana': 1.0, 'school': 1.0, 'educated': 1.0, 'partyretzlaff': 1.0, 'paternal': 1.0, 'human': 1.0, 'rights': 1.0, 'samoan': 3.0, '21': 1.0, 'auckland': 3.0, 'servant': 1.0, 'may': 1.0, 'was': 4.0, 'paul': 1.0, 'theodor': 1.0, 'retzlaff': 3.0, 'shipping': 1.0, 'of': 12.0, 'the': 19.0, 'march': 1.0, 'love': 3.0, 'he': 11.0, 'from': 3.0, 'addition': 1.0, 'son': 1.0, 'self': 1.0, 'agriculture': 1.0, '1986in': 1.0, 'practice': 1.0, 'electionretzlaff': 1.0, 'zealand': 2.0, 'new': 2.0, 'thine': 1.0, 'fisheries': 1.0, 'tribute': 2.0, 'labourhe': 1.0, 'born': 1.0, 'former': 1.0, 'at': 3.0, 'is': 3.0, 'confirmed': 1.0, 'before': 1.0, 'samoa': 3.0, 'country': 1.0, 'deputy': 3.0, 'not': 1.0, 'prime': 2.0, '1952': 1.0, 'commerce': 1.0, '1991': 1.0, 'given': 1.0, 'law': 2.0, 'on': 1.0, 'misa': 3.0, 'minister': 4.0, 'postal': 1.0, 'in': 13.0, 'seat': 2.0, 'appointed': 1.0, 'by': 2.0, 'hermann': 2.0, 'protection': 1.0, '2011': 4.0, 'run': 1.0, 'resigned': 1.0, 'his': 7.0, 'for': 2.0, 'books': 1.0, 'holds': 1.0, 'election': 2.0, 'samatau': 1.0, 'initially': 1.0, 'marrying': 1.0, 'young': 2.0, 'that': 2.0, 'articles': 1.0, 'part': 1.0, 'story': 1.0, 'a': 5.0, 'government': 1.0, 'tofilau': 1.0, 'position': 1.0, 'eti': 1.0, 'forests': 1.0, '1996': 1.0, 'to': 10.0, 'became': 1.0, 'opposition': 1.0, '2001': 1.0, 'retain': 1.0, 'years': 1.0, 'currently': 1.0, 'and': 8.0, 'attorneygeneral': 2.0, 'portfolios': 1.0, 'inherited': 1.0, 'held': 1.0, 'role': 1.0, 'industry': 1.0, 'has': 3.0, 'two': 1.0, 'stated': 1.0, 'century': 1.0, 'university': 1.0, 'winning': 1.0, 'will': 1.0, 'be': 2.0, 'standing': 1.0, 'published': 2.0, '22': 1.0, 'general': 1.0}, {'views': 1.0, 'solitary': 1.0, 'almost': 1.0, 'economics': 1.0, 'would': 1.0, 'predicted': 1.0, 'what': 1.0, 'above': 1.0, 'noise': 1.0, 'basis': 1.0, 'supersonic': 1.0, 'concorde': 1.0, 'critique': 1.0, 'sustained': 1.0, 'her': 2.0, 'aviation': 1.0, 'particularly': 1.0, '1960s': 1.0, '1998in': 1.0, '4': 1.0, 'channel': 1.0, 'development': 1.0, 'television': 1.0, 'five': 1.0, 'made': 1.0, '1987': 1.0, 'until': 1.0, 'alongside': 1.0, 'on': 1.0, 'long': 1.0, 'spring': 1.0, 'editor': 3.0, 'expressgoldring': 1.0, 'pollution': 1.0, 'she': 6.0, 'it': 2.0, 'where': 1.0, 'for': 5.0, 'staff': 1.0, 'then': 1.0, 'whittam': 1.0, 'of': 12.0, 'the': 18.0, 'british': 1.0, 'and': 5.0, 'moved': 1.0, 'wellfounded': 1.0, 'an': 1.0, 'all': 1.0, 'rising': 1.0, 'journalist': 1.0, 'noted': 1.0, 'series': 2.0, 'late': 2.0, 'paper': 1.0, 'departure': 1.0, 'dissent': 1.0, 'margaret': 1.0, 'anglofrench': 1.0, 'business': 2.0, 'economist': 2.0, 'left': 2.0, 'a': 6.0, 'commercial': 1.0, 'radio': 1.0, 'in': 4.0, 'member': 1.0, 'obe': 1.0, 'trenchant': 1.0, 'deputy': 1.0, 'graduated': 1.0, '1976': 1.0, 'rank': 1.0, 'regular': 1.0, 'who': 2.0, 'is': 1.0, 'at': 3.0, 'smith': 1.0, 'time': 3.0, 'main': 1.0, 'out': 1.0, '1940s': 1.0, 'mary': 2.0, 'disastrous': 1.0, 'mcrae': 1.0, 'also': 2.0, 'voice': 1.0, 'from': 2.0, 'broadcasteran': 1.0, 'norman': 1.0, 'bbc': 2.0, 'goldring': 4.0, 'audit': 1.0, 'wake': 1.0, 'developed': 1.0, 'lady': 1.0, 'authored': 1.0, 'aircraft': 1.0, 'university': 1.0, 'its': 2.0, 'became': 3.0, 'to': 6.0, 'turned': 2.0, 'be': 2.0, '1993': 1.0, 'suddenly': 1.0, '1974': 1.0, 'screened': 1.0, 'following': 1.0, 'dispute': 1.0, 'alastair': 1.0, 'editorship': 1.0, 'flagship': 1.0, 'surprise': 1.0, 'over': 1.0, 'daily': 1.0, 'analytical': 1.0, 'was': 1.0, 'burnet': 1.0, 'journalism': 1.0, 'analysis': 1.0, 'become': 1.0, 'andreas': 1.0, 'chronicle': 1.0, 'correspondent': 1.0, 'meantime': 1.0, 'wrote': 1.0, 'documentaries': 2.0, 'weekly': 1.0, 'column': 1.0, 'investors': 1.0, 'with': 1.0, 'hall': 1.0, 'edited': 1.0, 'by': 1.0, 'one': 1.0, 'economists': 1.0, 'oxford': 1.0, 'presenters': 1.0, '4s': 1.0, 'as': 1.0, 'currentaffairs': 1.0, 'into': 1.0, 'programme': 2.0, 'staying': 1.0}, {'preservation': 1.0, 'historic': 1.0, 'family': 1.0, 'on': 1.0, 'focused': 1.0, 'where': 1.0, 'faculty': 1.0, 'returning': 1.0, 'before': 1.0, 'carolina': 1.0, 'north': 1.0, 'powe': 1.0, 'practiced': 1.0, 'reviewshe': 1.0, 'editorinchief': 1.0, 'kuchel': 1.0, 'thomas': 1.0, 'senator': 1.0, 'state': 1.0, 'house': 1.0, '14': 1.0, '1942': 1.0, 'from': 4.0, 'provost': 1.0, 'later': 1.0, '1996': 1.0, 'undergraduate': 1.0, 'representatives': 1.0, 'ceo': 1.0, 'schools': 1.0, 'united': 1.0, 'executive': 1.0, 'sixth': 1.0, 'her': 4.0, '2008': 1.0, 'assembly': 1.0, 'september': 1.0, 'and': 9.0, 'occidental': 1.0, 'in': 10.0, 'southwestern': 1.0, 'durham': 1.0, 'college': 2.0, 'westerberg': 1.0, 'any': 1.0, 'outside': 1.0, 'was': 7.0, '1982': 1.0, 'administrator': 1.0, 'became': 1.0, 'to': 3.0, 'scholar': 1.0, 'including': 1.0, 'president': 2.0, 'legal': 1.0, 'an': 1.0, 'dean': 4.0, 'longest': 1.0, 'director': 1.0, 'ucla': 7.0, 'susan': 1.0, 'she': 12.0, '1964': 1.0, 'november': 1.0, 'giving': 1.0, 'schoolsprager': 1.0, 'served': 1.0, 'trustee': 1.0, 'prager': 2.0, 'second': 1.0, 'legislators': 1.0, '2013': 1.0, 'currently': 1.0, 'history': 3.0, 'of': 20.0, 'the': 18.0, 'community': 1.0, 'through': 1.0, 'dartmouth': 1.0, '1': 1.0, 'since': 1.0, 'senate': 1.0, 'law': 15.0, 'schoolpreviously': 1.0, 'is': 2.0, 'at': 2.0, 'tenure': 1.0, 'masters': 1.0, 'alphin': 1.0, 'one': 1.0, 'first': 2.0, 'female': 1.0, 'born': 1.0, 'deans': 1.0, 'starting': 1.0, 'states': 1.0, 'porter': 1.0, 'alumnusalumna': 1.0, 'become': 1.0, 'california': 4.0, 'woman': 1.0, 'number': 1.0, 'american': 3.0, 'school': 3.0, 'serve': 1.0, 'sacramento': 2.0, 'a': 5.0, 'small': 1.0, 'during': 1.0, 'grew': 1.0, 'sloughhouse': 1.0, 'as': 2.0, 'town': 1.0, 'degree': 3.0, 'up': 1.0, 'stanford': 3.0, 'university': 2.0, 'property': 1.0, 'for': 2.0, 'years': 1.0, 'association': 2.0, 'term': 1.0, 'worked': 1.0, 'also': 1.0, 'received': 3.0, 'us': 3.0}, {'jikany': 1.0, 'sobat': 1.0, 'bank': 1.0, 'nyayin': 1.0, 'said': 1.0, 'soldiersthe': 1.0, 'attack': 3.0, 'by': 1.0, 'revenge': 1.0, 'spla': 2.0, 'section': 1.0, 'janaigatliek': 1.0, '12': 1.0, 'on': 4.0, 'statea': 1.0, 'nile': 1.0, '30': 1.0, 'upper': 1.0, 'duar': 1.0, 'division': 1.0, 'group': 1.0, '4th': 1.0, 'deputy': 1.0, 'has': 1.0, 'general': 1.0, 'united': 1.0, 'he': 1.0, 'commander': 2.0, 'state': 1.0, '8th': 1.0, 'primarily': 1.0, 'men': 1.0, 'his': 1.0, 'command': 2.0, 'be': 1.0, 'ejected': 1.0, 'is': 1.0, 'at': 2.0, 'announced': 1.0, 'and': 8.0, 'launched': 1.0, 'august': 1.0, 'called': 2.0, 'civilians': 1.0, 'war': 2.0, 'peoples': 1.0, 'alliance': 1.0, 'kong': 1.0, 'sudanese': 1.0, 'yual': 3.0, '1995': 1.0, 'declaration': 1.0, 'along': 1.0, 'second': 1.0, 'bul': 1.0, 'considerable': 1.0, 'river': 1.0, 'then': 1.0, 'than': 1.0, 'difficulty': 1.0, '19832005in': 1.0, 'bath': 3.0, 'jonglei': 1.0, 'until': 1.0, 'ssdf': 1.0, 'yoal': 3.0, 'faction': 2.0, 'splm': 1.0, 'a': 3.0, 'ulang': 1.0, 'leader': 1.0, 'sudan': 3.0, 'south': 2.0, 'been': 3.0, 'soldiers': 1.0, 'gordon': 1.0, 'divisions': 1.0, 'machar': 1.0, 'killed': 1.0, 'or': 1.0, 'had': 2.0, 'anyanya': 2.0, 'involved': 1.0, 'hill': 1.0, 'was': 3.0, 'yohannes': 3.0, 'militia': 2.0, 'may': 1.0, 'garang': 1.0, 'matip': 1.0, 'of': 7.0, 'the': 17.0, 'lam': 1.0, 'mobile': 1.0, 'forces': 5.0, 'etc': 1.0, 'become': 1.0, 'george': 1.0, 'people': 1.0, 'both': 2.0, 'athor': 1.0, '1991': 2.0, 'whose': 1.0, '1994': 1.0, 'liberation': 1.0, 'ayod': 1.0, 'are': 1.0, 'nuer': 5.0, 'raids': 1.0, 'army': 2.0, 'alleged': 1.0, 'during': 1.0, 'part': 1.0, 'democratic': 1.0, 'that': 2.0, '1993the': 1.0, 'made': 1.0, 'based': 1.0, 'more': 1.0, 'accepted': 1.0, 'governmentsponsored': 1.0, 'in': 10.0, 'nasir': 2.0, 'waat': 1.0, 'major': 1.0, 'lou': 3.0, 'april': 1.0, 'rieklater': 1.0, 'retaliation': 1.0, 'riek': 1.0, 'splmanasir': 1.0, 'dengjohannes': 1.0, 'joining': 1.0, 'to': 2.0, '2': 2.0, 'juba': 1.0, 'east': 1.0, 'akol': 1.0, 'from': 2.0, 'mayom': 1.0, 'cattle': 1.0, 'declared': 1.0, 'gave': 1.0, 'under': 5.0, 'paulino': 2.0, 'including': 1.0, 'matiep': 1.0, 'defense': 1.0, 'doleib': 1.0, 'combined': 1.0, 'john': 1.0, 'for': 2.0, 'these': 1.0, '8': 1.0, 'breakaway': 1.0, 'militiathe': 1.0, 'ended': 1.0, 'now': 1.0, 'civil': 2.0, 'johannes': 2.0, 'january': 2.0, '2005': 1.0, '2006': 2.0, 'with': 1.0, 'an': 1.0, 'other': 1.0}, {'their': 1.0, 'proctor': 1.0, 'currently': 1.0, 'fairleigh': 1.0, 'visiting': 1.0, 'center': 1.0, 'poetry': 1.0, 'faculty': 1.0, 'member': 1.0, 'university': 2.0, 'columbia': 1.0, 'arts': 2.0, 'liberal': 1.0, 'eugene': 1.0, 'otherssorrentino': 1.0, 'bookforum': 1.0, 'dickinson': 1.0, 'city': 2.0, 'open': 1.0, 'house': 1.0, 'mcsweeneys': 1.0, 'granta': 1.0, 'playboy': 1.0, 'publications': 1.0, 'such': 1.0, 'characterizations': 1.0, 'descriptions': 1.0, 'recording': 1.0, 'fiction': 1.0, 'its': 2.0, 'inaugural': 1.0, 'simon': 1.0, 'up': 1.0, 'them': 1.0, 'text': 1.0, 'next': 2.0, 'has': 2.0, 'incorporated': 1.0, 'experimental': 1.0, 'dublin': 1.0, 'same': 2.0, 'postmodernist': 1.0, 'period': 1.0, 'felt': 1.0, 'dialogue': 1.0, 'more': 1.0, 'pseudonymous': 1.0, 'editor': 1.0, 'widely': 1.0, 'partner': 1.0, 'used': 1.0, 'patty': 1.0, 'book': 5.0, 'treatment': 1.0, 'so': 1.0, 'trance': 3.0, 'with': 4.0, 'into': 1.0, 'playback': 1.0, 'secondary': 1.0, 'session': 1.0, '2005': 4.0, 'section': 1.0, 'multitrack': 1.0, 'percussion': 1.0, 'we': 1.0, 'a': 10.0, 'unterberg': 1.0, 'story': 1.0, 'to': 3.0, 'published': 3.0, 'death': 1.0, 'victoria': 1.0, 'press': 2.0, 'epic': 1.0, 'focus': 1.0, 'corresponding': 1.0, 'many': 3.0, 'rican': 1.0, 'harris': 1.0, 'finalist': 1.0, 'los': 2.0, 'children': 1.0, 'lethem': 1.0, 'an': 2.0, 'he': 3.0, 'of': 18.0, 'award': 2.0, '20': 1.0, 'appeared': 1.0, 'that': 3.0, 'new': 4.0, 'name': 1.0, 'ortiz': 1.0, 'novelist': 2.0, 'mets': 2.0, 'booksin': 1.0, 'pioneered': 1.0, 'college': 1.0, 'may': 1.0, 'puerto': 1.0, 'about': 2.0, 'bookworld': 1.0, 'praised': 1.0, 'street': 1.0, 'nothing': 1.0, 'subtly': 1.0, 'on': 4.0, 'gilbert': 1.0, 'first': 1.0, 'conjunctions': 1.0, 'forthhis': 1.0, 'timesin': 1.0, 'christopher': 1.0, '1963': 1.0, 'soft': 1.0, 'work': 2.0, 'satire': 1.0, 'but': 2.0, 'sorrentino': 5.0, 'techniques': 1.0, '92nd': 1.0, 'ended': 1.0, 'esquire': 1.0, 'magazine': 1.0, 'american': 3.0, 'and': 15.0, 'vocals': 1.0, 'short': 1.0, 'descent': 1.0, 'draws': 1.0, 'national': 1.0, 'jonathan': 1.0, 'born': 1.0, 'boshier': 1.0, 'titles': 1.0, 'son': 1.0, '20102011': 1.0, 'is': 5.0, 'at': 5.0, 'taught': 1.0, 'riveting': 1.0, 'lush': 1.0, 'several': 1.0, 'his': 4.0, 'film': 2.0, 'format': 1.0, 'sound': 4.0, 'carefully': 1.0, 'writers': 2.0, '1995': 1.0, 'in': 9.0, 'modernist': 1.0, 'novel': 3.0, 'times': 1.0, 'fall': 2.0, 'tempura': 2.0, 'artist': 1.0, 'writer': 3.0, 'lists': 1.0, 'lives': 1.0, 'ivan': 1.0, 'innovations': 1.0, 'harpers': 1.0, 'hearst': 1.0, 'was': 9.0, 'echoes': 1.0, 'contains': 1.0, 'tin': 1.0, 'for': 5.0, 'imaginative': 1.0, 'deep': 1.0, 'departures': 1.0, 'as': 4.0, 'detail': 1.0, 'impac': 1.0, 'scamssorrentinos': 1.0, 'reviewers': 1.0, 'school': 2.0, 'best': 1.0, 'reads': 1.0, 'series': 1.0, '2007': 2.0, 'international': 1.0, '61': 1.0, 'literary': 1.0, 'intended': 1.0, 'essential': 1.0, 'upon': 1.0, 'longlisted': 1.0, 'one': 2.0, 'postmodern': 1.0, 'by': 3.0, 'the': 31.0, '2006': 1.0, 'york': 3.0, 'lang': 1.0, 'were': 1.0, 'authors': 1.0, '1974': 1.0, 'fugitives': 1.0, 'moviemaking': 1.0, 'structured': 1.0, 'behind': 1.0, 'conklin': 1.0, 'according': 2.0, '2010': 1.0, 'fictional': 1.0, 'angeles': 2.0, 'year': 1.0, 'wrote': 1.0, 'hyperliterary': 1.0, 'y': 1.0, 'account': 1.0, '2009': 1.0, 'believeniks': 1.0, 'season': 1.0, 'playful': 1.0, 'poke': 1.0, 'collaboration': 1.0, 'moments': 1.0, 'novella': 1.0, 'father': 1.0, 'commercial': 1.0, 'wish': 1.0, 'monograph': 1.0, 'minna': 1.0, 'revealed': 1.0, 'skull': 1.0, 'saga': 1.0, 'entries': 1.0, 'second': 1.0, 'april': 1.0, '2014': 1.0, 'it': 1.0, 'named': 2.0, 'announced': 1.0, 'derek': 1.0, 'would': 1.0, 'also': 1.0, 'publish': 1.0, 'other': 1.0, 'attention': 1.0, 'schustersorrentinos': 1.0}, {'about': 1.0, 'catalyze': 1.0, 'to': 1.0, 'lounges': 1.0, 'lectures': 1.0, 'paj': 1.0, 'airwaves': 1.0, 'arts': 1.0, 'organized': 1.0, 'publication': 1.0, 'their': 1.0, '2003': 1.0, 'free103point9': 1.0, 'with': 1.0, 'began': 1.0, 'broadcasts': 1.0, 'panel': 1.0, 'concerts': 1.0, 'has': 2.0, 'book': 1.0, 'project': 2.0, 'senior': 1.0, 'interviewed': 1.0, '20012004': 1.0, 'threechannel': 1.0, 'ages': 1.0, 'material': 1.0, 'through': 2.0, 'bullshit': 1.0, 'listening': 1.0, 'unpublished': 1.0, 'same': 1.0, 'repaired': 1.0, 'convocations': 1.0, 'should': 1.0, 'words': 1.0, 'art': 1.0, 'discussions': 2.0, '1994': 1.0, 'atm': 1.0, 'organizing': 1.0, '1990s': 1.0, 'scene': 1.0, 'alexis': 1.0, 'bank': 1.0, 'stereo': 1.0, 'be': 1.0, 'poetry': 2.0, 'possibility': 1.0, 'without': 1.0, 'the': 11.0, 'of': 4.0, 'active': 1.0, 'he': 5.0, 'on': 6.0, 'ecological': 1.0, 'york': 2.0, 'summer': 1.0, 'produced': 1.0, 'life': 1.0, 'new': 2.0, 'songs': 1.0, 'born': 1.0, 'abandoned': 1.0, 'a': 3.0, 'city': 1.0, 'radio': 2.0, 'writer': 1.0, 'side': 1.0, 'college': 1.0, 'word': 1.0, 'as': 3.0, 'emerging': 1.0, 'bhagat': 1.0, 'crosssection': 1.0, 'lands': 1.0, '2': 1.0, 'sculpture': 1.0, 'moving': 1.0, 'raised': 1.0, 'one': 1.0, 'artists': 2.0, 'says': 2.0, 'lobbies': 1.0, 'all': 2.0, 'an': 2.0, 'radioplays': 1.0, 'artist': 1.0, 'in': 9.0, 'member': 1.0, 'manifested': 1.0, 'ghost': 1.0, 'studied': 1.0, 'performances': 1.0, 'spoken': 1.0, 'early': 1.0, 'generation': 1.0, 'match': 1.0, 'goddard': 2.0, 'around': 1.0, 'transmission': 1.0, 'practicing': 1.0, 'his': 3.0, 'multichannel': 1.0, 'lower': 1.0, 'tape': 1.0, 'and': 12.0, 'installations': 2.0, 'chinas': 1.0, 'tapecollages': 1.0, 'for': 2.0, 'sound': 6.0, 'voice': 1.0, 'east': 1.0, 'from': 2.0, 'collegehe': 1.0, '19992009': 1.0, 'version': 2.0, 'producing': 1.0, 'notably': 1.0, 'speak': 1.0, 'recorded': 1.0, 'that': 3.0, 'deep': 1.0, 'design': 1.0, 'sun': 1.0, 'death': 1.0, 'working': 1.0, 'first': 1.0, 'lecture': 4.0, 'utilized': 1.0, 'bandshell': 1.0, 'world': 1.0, 'or': 1.0, 'everybody': 2.0, 'democracy': 2.0, 'collages': 1.0, 'no': 2.0, 'train': 1.0, 'was': 2.0, 'opens': 1.0, 'blood': 1.0, 'industrial': 1.0, 'included': 1.0, 'curator': 1.0, 'strength': 1.0, 'authority': 1.0, 'at': 2.0, 'is': 4.0, 'look': 1.0, 'whitman': 1.0, 'neutral': 1.0, 'mirror': 1.0, '1': 1.0}, {'but': 1.0, '1966': 1.0, 'campaigned': 1.0, 'full': 1.0, '2005': 1.0, '2001': 1.0, 'synodte': 1.0, 'general': 1.0, 'anglican': 2.0, 'aotearoa': 1.0, 'o': 1.0, 'churchs': 1.0, 'phopatanga': 1.0, 'auckland': 1.0, 'adviser': 1.0, 'honorary': 1.0, 'arbitrator': 1.0, '1999he': 1.0, 'publishers': 1.0, 'tango': 1.0, 'kooti': 1.0, 'author': 1.0, 'national': 1.0, 'two': 1.0, 'which': 1.0, 'database': 1.0, 'land': 3.0, 'mori': 1.0, 'for': 3.0, 'kkiri': 1.0, 'puni': 1.0, 'commission': 1.0, 'trust': 2.0, 'crown': 2.0, 'with': 1.0, 'capacities': 1.0, 'voted': 1.0, 'acted': 2.0, 'them': 1.0, 'has': 3.0, 'contracted': 1.0, 'consultant': 1.0, 'variety': 1.0, 'primary': 1.0, 'his': 1.0, 'waitangifrom': 1.0, 'england': 2.0, 'doctoral': 1.0, 'undergraduate': 1.0, 'church': 1.0, 'wellington': 1.0, 'moriowned': 1.0, 'schoolhis': 1.0, 'williams': 1.0, 'balliol': 1.0, 'degrees': 1.0, 'respect': 1.0, 'volumes': 1.0, 'related': 1.0, 'huia': 1.0, 'include': 1.0, 'tertiary': 1.0, 'formal': 1.0, 'appointed': 1.0, 'member': 1.0, 'in': 17.0, 'collegiate': 1.0, 'whenua': 1.0, 'history': 3.0, 'region': 1.0, 'oxford': 2.0, 'te': 3.0, 'contracts': 1.0, 'was': 8.0, 'universities': 1.0, 'included': 1.0, 'by': 2.0, 'vernon': 1.0, 'he': 9.0, 'and': 17.0, 'dean': 1.0, 'an': 3.0, 'legal': 4.0, '1994': 1.0, 'ballb': 1.0, 'deputy': 1.0, 'published': 3.0, 'promoted': 1.0, 'at': 4.0, 'is': 4.0, 'david': 1.0, 'former': 1.0, 'occupation': 1.0, 'holds': 1.0, 'bcl': 1.0, 'from': 6.0, '2000': 1.0, 'phd': 1.0, 'rental': 2.0, 'solicitor': 1.0, 'faculty': 1.0, 'never': 1.0, '1995': 1.0, 'zealand': 5.0, 'degree': 1.0, 'party': 1.0, 'salaam': 1.0, 'graduate': 1.0, 'university': 6.0, 'victoria': 1.0, 'whanui': 1.0, 'hawkes': 1.0, 'came': 1.0, 'a': 12.0, 'professorhe': 1.0, '1971': 1.0, '18641909': 1.0, 'professor': 3.0, 'law': 8.0, 'es': 1.0, '1992': 1.0, 'where': 1.0, 'rhodes': 1.0, 'research': 2.0, 'college': 1.0, 'tanzania': 2.0, 'as': 4.0, 'legislation': 1.0, 'responsible': 1.0, 'court': 2.0, 'qualification': 1.0, 'colonial': 2.0, 'educated': 1.0, 'dar': 1.0, 'chapters': 1.0, 'associate': 1.0, 'bay': 1.0, 'that': 2.0, 'hinota': 1.0, 'education': 1.0, 'analysis': 1.0, 'also': 1.0, 'diploma': 1.0, 'of': 18.0, 'the': 17.0, 'diptheolhe': 1.0, 'barrister': 2.0, 'act': 1.0, 'numerous': 1.0, 'scholar': 1.0, 'to': 7.0, 'high': 1.0, 'wanganui': 1.0, 'practising': 1.0, 'certificate': 1.0, 'native': 1.0, 'manual': 1.0, 'qualifications': 1.0, 'academic': 1.0, 'aucklands': 1.0, '1991': 1.0, 'waitangirelated': 1.0, 'new': 5.0, 'time': 1.0, 'wrote': 1.0, 'during': 1.0, 'articles': 1.0, 'treaty': 2.0, 'forestry': 3.0, 'employed': 1.0, 'book': 1.0, 'on': 3.0, 'theology': 1.0, 'issues': 2.0, 'indigenous': 1.0}, {'2007': 1.0, 'illustrious': 1.0, 'surrealistic': 1.0, 'often': 1.0, 'shapes': 1.0, 'geometric': 1.0, 'citizen': 1.0, 'actors': 1.0, 'italian': 1.0, 'harlequins': 1.0, 'still': 1.0, 'include': 1.0, '1997': 1.0, 'workshop': 1.0, 'teaching': 1.0, 'created': 1.0, '1991roux': 1.0, 'reopened': 1.0, 'it': 1.0, 'when': 1.0, 'pacfico': 1.0, 'arcade': 1.0, 'shopping': 1.0, 'that': 1.0, 'four': 1.0, 'one': 1.0, '1988': 1.0, 'dc': 1.0, 'washington': 1.0, 'collection': 1.0, 'prestigious': 1.0, 'work': 1.0, 'restoration': 1.0, 'rome': 1.0, 'named': 1.0, 'cupola': 1.0, 'prize': 2.0, 'travelled': 1.0, '1948': 1.0, 'as': 2.0, '1956': 1.0, 'to': 8.0, 'contributed': 1.0, 'phillips': 1.0, 'worked': 2.0, 'assistant': 1.0, 'arts': 1.0, 'so': 1.0, 'themes': 1.0, 'studied': 1.0, 'he': 9.0, 'uruguayan': 1.0, 'for': 1.0, 'where': 2.0, 'art': 2.0, 'in': 17.0, 'were': 1.0, 'known': 1.0, 'continued': 1.0, 'born': 2.0, 'buenos': 4.0, 'roux': 3.0, 'fine': 1.0, 'international': 1.0, 'wellknown': 1.0, 'argentina': 2.0, 'watercolors': 1.0, 'his': 5.0, 'exhibiting': 1.0, 'nonnis': 1.0, 'and': 12.0, 'was': 6.0, 'father': 1.0, 'umberto': 1.0, 'city': 1.0, 'sicily': 1.0, 'there': 1.0, 'among': 1.0, 'traveled': 1.0, 'frescoes': 1.0, 'earned': 1.0, 'collages': 1.0, 'cultural': 1.0, 'an': 3.0, 'other': 1.0, 'bottega': 1.0, 'aires': 4.0, 'ral': 1.0, 'london': 1.0, '1929': 1.0, 'jujuy': 1.0, 'projects': 1.0, 'guillermo': 1.0, 'argentine': 2.0, '1960': 1.0, 'by': 1.0, 'frescoesroux': 1.0, 'relocated': 1.0, 'returned': 2.0, 'province': 1.0, '1966': 1.0, 'xiii': 1.0, 'taught': 1.0, 'own': 1.0, 'until': 1.0, 'painthe': 1.0, 'lived': 1.0, 'new': 2.0, 'decoration': 1.0, 'york': 1.0, 'from': 1.0, '1967': 1.0, 'added': 2.0, 'a': 2.0, 'extensively': 1.0, 'berlin': 1.0, 'munich': 1.0, 'paris': 1.0, '1975': 1.0, 'is': 1.0, 'at': 1.0, 'painter': 3.0, 'school': 1.0, 'paulo': 1.0, 'biennial': 1.0, 'highest': 1.0, 'this': 1.0, 'honors': 1.0, 'followed': 1.0, 'life': 1.0, 'konex': 1.0, 'are': 1.0, 'first': 1.0, 'realm': 1.0, 'they': 1.0, '1982': 1.0, 'galeras': 1.0, 'the': 8.0, 'of': 4.0, 'illustrator': 1.0, 'award': 1.0, 'rouxs': 1.0}, {'nursing': 1.0, 'resides': 1.0, 'children': 1.0, '20': 1.0, 'may': 1.0, 'whom': 1.0, 'meyers': 1.0, 'i': 1.0, 'age': 1.0, 'died': 1.0, '1940': 1.0, '10': 1.0, 'from': 1.0, 'mountford': 1.0, 'helen': 1.0, 'to': 3.0, 'married': 2.0, 'oldest': 1.0, 'december': 1.0, 'corps': 1.0, 'during': 1.0, 'was': 5.0, 'and': 8.0, 'midway': 1.0, 'new': 1.0, 'war': 1.0, 'operated': 1.0, 'guinea': 1.0, 'served': 2.0, 'west': 2.0, 'home': 1.0, 'frances': 1.0, 'after': 1.0, 'world': 1.0, '29': 1.0, 'australia': 1.0, 'former': 1.0, 'born': 2.0, 'ross': 1.0, 'silver': 1.0, 'william': 1.0, 'engineers': 1.0, 'eventually': 1.0, 'formerly': 1.0, 'living': 1.0, '2011': 1.0, 'delray': 1.0, 'academy': 1.0, 'jr': 1.0, 'retired': 2.0, 'islands': 2.0, '2015': 1.0, 'golf': 2.0, 'philippine': 1.0, 'february': 1.0, '1930s': 1.0, 'medal': 1.0, 'lieutenant': 2.0, 'turned': 1.0, 'an': 1.0, 'florida': 1.0, 'general': 3.0, '1937': 1.0, 'commander': 1.0, 'wed': 1.0, 'pennsylvania': 2.0, 'jane': 1.0, 'point': 2.0, '1933': 1.0, 'his': 2.0, 'a': 5.0, 'she': 1.0, 'military': 1.0, 'us': 1.0, 'also': 1.0, 'in': 7.0, 'of': 10.0, 'the': 13.0, 'command': 2.0, 'ii': 1.0, 'with': 3.0, 'march': 1.0, 'united': 4.0, 'he': 12.0, '100': 2.0, 'japan': 1.0, 'graduate': 2.0, 'states': 4.0, 'army': 6.0, 'rank': 1.0, 'ely': 4.0, '3': 1.0, 'star': 3.0, 'deputy': 2.0, 'beach': 1.0, 'commanding': 1.0, 'son': 1.0, 'development': 1.0, 'logistic': 1.0, 'materiel': 1.0, 'is': 4.0, 'at': 3.0, 'merit': 1.0, 'on': 1.0, 'near': 1.0, 'gave': 1.0, '25': 1.0, 'j': 1.0, 'd': 1.0, 'awards': 1.0, 'include': 1.0, 'distinguished': 1.0, 'bronze': 1.0, 'two': 1.0, 'stationed': 1.0, 'legions': 1.0, 'retirement': 1.0, 'avid': 1.0, 'pittsburgh': 1.0, 'had': 1.0, 'golfer': 1.0, 'service': 1.0, 'course': 1.0, 'three': 1.0, 'designed': 1.0, 'sycamore': 1.0, 'up': 1.0, '2014': 1.0, 'when': 2.0, '1911': 1.0, 'jonas': 1.0, 'as': 1.0}, {'today': 1.0, 'midlands': 1.0, 'star': 1.0, 'between': 1.0, '400': 1.0, 'nearly': 1.0, 'ian': 1.0, 'related': 1.0, 'not': 1.0, 'diseasehe': 1.0, 'still': 1.0, 'other': 1.0, 'claimed': 1.0, 'dudley': 1.0, 'car': 1.0, 'seriously': 1.0, '1970': 1.0, '1966': 1.0, 'alzheimers': 1.0, 'lesley': 2.0, 'children': 1.0, 'two': 2.0, 'walsall': 2.0, 'tiptonhe': 1.0, 'which': 1.0, 'made': 1.0, 'sides': 1.0, 'steven': 1.0, 'alan': 1.0, 'making': 1.0, 'top': 1.0, 'roper': 3.0, 'wolves': 1.0, 'march': 1.0, 'he': 2.0, 'first': 1.0, 'beginning': 1.0, 'that': 1.0, '196465': 1.0, 'been': 1.0, '27': 1.0, 'and': 7.0, 'union': 1.0, 'break': 1.0, 'but': 2.0, '1950s': 1.0, 'a': 4.0, 'twice': 1.0, 'football': 2.0, '2014': 1.0, 'when': 1.0, '2008references': 1.0, 'teenage': 1.0, 'began': 1.0, 'appearances': 1.0, 'now': 1.0, 'club': 2.0, 'tipton': 2.0, 'second': 1.0, 'staffordshire': 1.0, 'professional': 1.0, 'born': 3.0, 'september': 1.0, 'express': 1.0, 'youth': 1.0, 'cup': 1.0, 'to': 3.0, 'injured': 1.0, 'unable': 1.0, 'as': 1.0, 'team': 2.0, 'footballerhe': 1.0, 'lives': 2.0, 'one': 1.0, '16': 1.0, '1962': 1.0, 'public': 1.0, '1964': 1.0, 'mid': 1.0, 'may': 2.0, 'games': 1.0, 'career': 2.0, 'in': 13.0, 'is': 2.0, 'at': 3.0, 'wanderers': 1.0, 'into': 1.0, 'three': 1.0, 'age': 1.0, 'landlord': 1.0, '1': 1.0, 'since': 1.0, 'suffers': 1.0, 'valerie': 1.0, 'england': 2.0, 'his': 4.0, 'year': 1.0, '1995': 1.0, 'played': 1.0, 'spent': 1.0, 'of': 6.0, 'the': 12.0, 'fellows': 1.0, 'wolverhampton': 1.0, 'debut': 1.0, '10': 1.0, 'for': 2.0, '32': 1.0, '1939': 1.0, 'years': 1.0, 'was': 3.0, '60': 1.0, 'win': 1.0, 'seasonafter': 1.0, 'over': 1.0, 'middlesbrough': 1.0, 'who': 1.0, 'hometown': 1.0, 'league': 2.0, 'division': 1.0, 'girlshe': 1.0, 'were': 1.0, 'retiring': 1.0, 'park': 1.0, 'with': 1.0, 'mostly': 1.0, 'fullback': 1.0, 'scoring': 1.0, 'have': 1.0, 'remained': 1.0, 'retired': 1.0, 'until': 1.0, 'there': 1.0, 'end': 1.0, 'from': 2.0, 'crash': 1.0, 'house': 1.0, 'has': 1.0, 'married': 1.0, '1982': 2.0, 'signed': 1.0, 'they': 1.0}, {'concerts': 1.0, 'festivals': 1.0, 'appear': 1.0, 'continues': 1.0, 'hurricane': 1.0, 'benefit': 1.0, 'barber': 1.0, 'star': 1.0, 'orchestra': 4.0, 'seven': 1.0, 'war': 1.0, 'front': 1.0, 'bandsman': 1.0, 'age': 3.0, 'guard': 1.0, '600': 1.0, 'national': 1.0, 'illinoisafter': 1.0, 'later': 1.0, 'many': 2.0, 'concert': 2.0, 'vic': 1.0, 'chair': 2.0, 'held': 2.0, 'scholarship': 1.0, 'albums': 2.0, 'music': 1.0, 'his': 7.0, '250': 1.0, 'series': 1.0, 'was': 2.0, 'talent': 1.0, 'of': 3.0, 'the': 24.0, 'local': 1.0, 'piece': 1.0, 'fellow': 1.0, 'with': 13.0, 'girard': 1.0, 'trombonist': 1.0, 'working': 1.0, 'playing': 1.0, 'al': 1.0, 'ava': 1.0, 'other': 1.0, 'job': 1.0, 'to': 7.0, 'very': 1.0, '16': 1.0, 'victims': 1.0, 'jazz': 4.0, 'landed': 1.0, 'and': 13.0, 'quincy': 4.0, 'musician': 1.0, 'symphony': 1.0, 'while': 1.0, 'violin': 1.0, '12': 1.0, 'first': 4.0, 'show': 3.0, 'korean': 1.0, 'played': 2.0, 'tour': 1.0, 'persuaded': 1.0, '1995': 1.0, 'havens': 4.0, 'born': 1.0, 'by': 2.0, 'joined': 2.0, 'is': 2.0, 'girards': 1.0, 'tenure': 1.0, 'flanagan': 1.0, '3': 1.0, 'on': 4.0, 'who': 1.0, 'from': 3.0, 'at': 6.0, 'lead': 1.0, 'band': 7.0, 'american': 1.0, 'school': 1.0, 'serving': 1.0, 'welk': 3.0, 'soloist': 1.0, 'zarchy': 1.0, '1955': 1.0, 'tromboneborn': 1.0, 'camp': 1.0, 'years': 2.0, '1960': 2.0, 'performed': 1.0, 'both': 1.0, 'groups': 1.0, 'george': 1.0, '1930': 1.0, 'schools': 1.0, 'a': 9.0, 'recognized': 1.0, 'musical': 1.0, 'may': 1.0, 'lawrence': 2.0, 'family': 1.0, 'professional': 2.0, 'an': 1.0, 'instruments': 1.0, 'ended': 1.0, 'dixieland': 1.0, 'in': 14.0, 'illinois': 3.0, 'throughout': 2.0, 'popular': 1.0, 'studying': 1.0, 'trombone': 3.0, 'also': 2.0, '2005': 1.0, 'michigan': 1.0, 'left': 1.0, 'big': 1.0, '1956': 1.0, '1985': 1.0, 'along': 1.0, 'bob': 6.0, 'door': 1.0, '1957': 1.0, 'pete': 1.0, 'campbell': 1.0, 'instrument': 1.0, 'met': 1.0, 'as': 4.0, 'cats': 1.0, 'idol': 1.0, 'featured': 1.0, 'dance': 2.0, 'jack': 1.0, 'katrinabob': 1.0, 'interlochen': 1.0, 'hirt': 4.0, 'dans': 1.0, 'during': 2.0, 'bourbon': 1.0, 'street': 1.0, 'when': 2.0, 'famous': 1.0, 'line': 1.0, 'began': 1.0, 'time': 1.0, 'consisted': 1.0, 'hucko': 1.0, 'he': 12.0, 'fountain': 1.0, 'formed': 1.0, 'recorded': 2.0, 'appeared': 1.0, 'that': 1.0, 'ralph': 1.0, 'for': 4.0, 'good': 1.0, 'record': 1.0, 'lives': 1.0, 'southland': 1.0, 'times': 1.0, 'teagardenin': 1.0, 'audio': 1.0, 'verve': 1.0, 'pier': 1.0, 'west': 1.0, 'carolina': 1.0, 'fidelity': 1.0, 'about': 1.0, 'money': 1.0, 'dozen': 1.0, 'musiciansbob': 1.0, 'stayed': 1.0, 'this': 2.0, 'group': 1.0, 'until': 2.0, 'world': 1.0, 'new': 3.0, 'coast': 1.0, 'move': 1.0, 'join': 1.0, 'their': 1.0, 'weekly': 1.0, 'orleans': 3.0, 'tv': 1.0, '1982': 1.0, 'nelson': 1.0, 'there': 1.0, '23': 1.0, 'continued': 1.0, 'raising': 1.0, '1982following': 1.0, 'freelance': 1.0, 'often': 1.0, 'crosby': 1.0, 'benny': 1.0, 'label': 1.0, 'goodman': 1.0, 'led': 1.0, 'clarinetist': 1.0, 'peanuts': 1.0, 'great': 1.0, 'pacific': 1.0, 'ringwald': 1.0, 'labels': 1.0, 'vocalspiano': 1.0, 'don': 1.0, 'saxophone': 1.0, 'lasted': 1.0, 'university': 1.0, 'zeke': 1.0, 'trumpetin': 1.0, 'north': 1.0, 'pops': 1.0}, {'bird': 1.0, 'fallen': 1.0, '2010': 1.0, 'compilation': 1.0, 'hall': 1.0, 'elizabeth': 1.0, 'appearing': 1.0, 'concert': 1.0, 'artist': 2.0, 'spearheaded': 1.0, 'appeared': 1.0, 'project': 1.0, '2008': 1.0, 'songbirdchristie': 1.0, 'strange': 1.0, 'dark': 1.0, 'free': 1.0, 'funky': 1.0, 'magazine': 1.0, 'brilliantly': 1.0, 'spin': 1.0, 'brought': 1.0, 'copy': 1.0, 'votel': 2.0, 'watch': 1.0, 'andy': 1.0, 'spouse': 1.0, 'manchesterbased': 1.0, 'when': 1.0, 'until': 1.0, 'ladies': 2.0, 'languished': 1.0, 'bearded': 1.0, 'participated': 1.0, 'pressed': 1.0, 'were': 1.0, 'renewed': 1.0, 'copies': 1.0, 'only': 1.0, 'be': 1.0, 'it': 1.0, 'considered': 1.0, 'london': 1.0, 'went': 1.0, 'weavers': 1.0, 'his': 1.0, 'music': 1.0, 'national': 1.0, 'reminiscent': 1.0, 'chart': 2.0, 'novelty': 1.0, '2006': 1.0, 'pennsylvania': 1.0, 'sound': 1.0, 'release': 1.0, 'having': 1.0, 'in': 8.0, 'label': 1.0, '100': 2.0, 'original': 1.0, 'backed': 1.0, 'folk': 3.0, 'unreleased': 1.0, 'which': 3.0, 'for': 3.0, 'john': 1.0, 'she': 1.0, 'american': 1.0, 'lost': 1.0, 'onionflavored': 1.0, 'described': 3.0, 'by': 5.0, 'onions': 1.0, 'and': 8.0, 'funyuns': 1.0, 'singersongwriter': 1.0, 'hit': 1.0, 'as': 7.0, 'commercial': 2.0, 'noncommercial': 1.0, 'to': 2.0, 'billboard': 1.0, 'adapted': 2.0, 'dropped': 1.0, 'album': 7.0, 'recording': 1.0, 'from': 2.0, 'later': 1.0, 'dj': 1.0, 'track': 1.0, 'minor': 1.0, 'ever': 1.0, 'an': 3.0, 'christie': 5.0, 'received': 1.0, 'song': 1.0, 'records': 1.0, '63': 1.0, 'is': 2.0, 'at': 2.0, 'a': 10.0, '1970': 1.0, 'kazoo': 1.0, 'on': 5.0, 'love': 3.0, 'philadelphia': 1.0, 'hill': 1.0, 'i': 3.0, 'written': 1.0, 'attention': 1.0, 'of': 4.0, 'the': 16.0, 'performing': 1.0, 'recorded': 1.0, 'cd': 1.0, 'vocal': 1.0, 'peaked': 1.0, 'cochrane': 1.0, 'christies': 1.0, 'guest': 1.0, 'psychedelic': 1.0, 'rpm': 1.0, 'chorus': 1.0, 'players': 1.0, 'queen': 1.0, 'male': 1.0, 'jane': 1.0, 'hot': 1.0, 'singersin': 1.0, 'canada': 1.0, 'tv': 1.0, 'however': 1.0, 'obscurity': 1.0, 'single': 1.0, 'three': 1.0, 'fared': 1.0, 'susan': 1.0, 'much': 1.0, 'better': 1.0, 'weaver': 1.0, '19': 1.0, 'canadian': 1.0, 'donald': 1.0, 'august': 1.0, '1930s': 1.0, 'tune': 2.0, 'filled': 1.0, 'was': 3.0, 'breathy': 1.0, 'late': 1.0, 'backup': 1.0, '60s': 1.0, 'with': 3.0, 'snack': 1.0, 'vinyl': 1.0, 'singles': 1.0, 'food': 1.0, 'television': 1.0, 'lady': 1.0, 'reaching': 1.0, '1': 1.0, 'turtles': 1.0, 'songs': 1.0, '1966': 2.0, 'had': 1.0, '1980signed': 1.0, 'paint': 1.0, 'columbia': 2.0}, {'burke': 1.0, 'sarah': 1.0, 'setting': 1.0, 'later': 1.0, 'jake': 1.0, 'southeast': 1.0, 'up': 1.0, 'developed': 1.0, 'quarters': 1.0, 'cramped': 1.0, 'those': 1.0, 'result': 1.0, 'their': 1.0, 'above': 1.0, 'directly': 1.0, 'daughters': 1.0, 'they': 1.0, 'husband': 1.0, 'with': 1.0, 'motel': 2.0, 'owned': 1.0, 'montana': 1.0, 'helena': 1.0, 'innkeeper': 1.0, 'living': 1.0, 'hines': 1.0, 'beginning': 1.0, 'include': 1.0, 'american': 1.0, 'family': 1.0, 'techniques': 1.0, 'where': 2.0, 'two': 1.0, 'rutherford': 1.0, 'lived': 1.0, 'becoming': 1.0, 'dell': 1.0, 'fictional': 1.0, 'license': 1.0, 'liveaboard': 1.0, 'times': 1.0, 'york': 1.0, 'careful': 1.0, 'walker': 1.0, 'scuba': 1.0, 'new': 1.0, 'private': 1.0, 'marilyn': 1.0, 'minnesota': 2.0, 'phillip': 1.0, 'became': 1.0, 'to': 7.0, 'as': 5.0, 'lobby': 1.0, 'earned': 1.0, 'in': 9.0, 'publishers': 1.0, 'gunn': 5.0, 'path': 1.0, 'career': 2.0, 'elizabeth': 1.0, 'the': 9.0, 'of': 9.0, 'novelsgunn': 1.0, 'harlequin': 1.0, 'set': 2.0, 'an': 2.0, 'city': 1.0, 'procedurals': 1.0, 'second': 1.0, 'write': 1.0, 'is': 3.0, 'series': 2.0, 'stasio': 1.0, 'forge': 1.0, 'arizona': 1.0, 'results': 1.0, 'her': 11.0, 'apartment': 1.0, 'mountains': 1.0, 'mystery': 1.0, 'into': 1.0, 'diver': 1.0, 'and': 7.0, 'desire': 1.0, 'sailing': 1.0, 'research': 1.0, 'police': 1.0, 'years': 1.0, 'novels': 1.0, 'one': 1.0, 'lives': 1.0, 'precisiontooled': 1.0, 'according': 1.0, 'severn': 1.0, 'houseprior': 1.0, 'travel': 2.0, 'sky': 1.0, 'pilots': 1.0, 'hiked': 1.0, 'moved': 2.0, 'deserts': 1.0, 'travelled': 1.0, 'small': 1.0, 'a': 9.0, 'extensively': 1.0, 'us': 2.0, 'tucson': 3.0, 'canada': 1.0, 'mexico': 1.0, 'around': 1.0, 'europe': 1.0, 'author': 1.0, 'including': 1.0, 'several': 1.0, 'sailor': 1.0, 'while': 1.0, 'was': 2.0, 'began': 1.0, 'grew': 1.0, 'articles': 1.0, 'raised': 1.0, 'she': 4.0, '1999': 1.0, 'many': 1.0, 'made': 1.0, 'writer': 3.0, 'which': 1.0, 'together': 1.0, 'retiring': 1.0, 'were': 1.0, 'published': 1.0, 'regional': 1.0, 'papers': 1.0, 'this': 1.0, 'fulltime': 1.0, 'before': 1.0}, {'us': 1.0, 'atlanta': 1.0, 'indianapolis': 1.0, 'england': 1.0, 'fletcher': 1.0, 'mccannerickson': 1.0, 'regularly': 1.0, 'his': 1.0, 'use': 1.0, 'pearson': 1.0, 'agencies': 1.0, 'more': 2.0, 'many': 1.0, 'pizza': 1.0, 'papa': 1.0, 'including': 1.0, 'clients': 1.0, 'over': 2.0, 'work': 2.0, 'storyboard': 1.0, 'live': 1.0, 'done': 1.0, 'spot': 1.0, 'network': 1.0, 'batman': 1.0, 'superman': 1.0, 'well': 1.0, 'feature': 1.0, 'full': 1.0, 'motorola': 1.0, 'ghostbusters': 1.0, 'extreme': 1.0, 'on': 1.0, 'mashhe': 1.0, 'means': 1.0, '40': 1.0, 'johns': 1.0, 'times': 1.0, 'all': 2.0, 'realism': 1.0, 'years': 1.0, 'comics': 2.0, 'hollow': 1.0, 'worked': 1.0, 'bent': 1.0, 'was': 2.0, 'with': 1.0, 'cowritten': 1.0, '1954': 1.0, 'commercial': 1.0, 'painted': 2.0, 'realms': 1.0, 'warner': 1.0, 'city': 1.0, 'washington': 1.0, 'animated': 1.0, 'animation': 1.0, '15': 1.0, 'shows': 1.0, 'noted': 1.0, 'comic': 1.0, 'he': 3.0, 'united': 1.0, 'program': 1.0, 'art': 2.0, 'for': 7.0, 'fairly': 1.0, 'viking': 1.0, 'a': 6.0, 'story': 1.0, 'the': 6.0, 'of': 7.0, 'born': 1.0, 'uncommon': 1.0, 'graphic': 2.0, 'in': 2.0, 'medium': 1.0, 'glory': 1.0, 'bros': 1.0, 'book': 1.0, 'york': 1.0, 'nbm': 1.0, 'artisthe': 1.0, 'from': 2.0, 'cartoon': 2.0, 'hampton': 2.0, 'some': 1.0, 'spent': 1.0, 'video': 1.0, 'year': 1.0, 'and': 12.0, 'that': 3.0, 'into': 1.0, 'tv': 2.0, 'period': 1.0, 'graduated': 1.0, 'school': 1.0, 'arts': 2.0, 'tundra': 1.0, 'visual': 1.0, 'storyboarding': 1.0, 'new': 1.0, 'highlights': 1.0, 'fricksfirestone': 1.0, 'smash': 1.0, 'include': 2.0, 'sequential': 1.0, 'uk': 1.0, 'legend': 1.0, 'publishing': 2.0, 'has': 2.0, 'always': 1.0, 'sleepy': 1.0, 'verdilak': 1.0, 'drew': 1.0, 'states': 1.0, '96': 1.0, 'horror': 1.0, 'develop': 1.0, 'as': 3.0, 'bo': 1.0, 'page': 1.0, 'college': 1.0, 'length': 1.0, 'sony': 1.0, 'to': 1.0, 'mcmahon': 1.0, 'professor': 1.0, 'is': 1.0, 'at': 1.0, 'savannah': 1.0, 'wrote': 1.0, 'design': 1.0, 'moving': 1.0, 'toward': 1.0, 'original': 1.0, 'helping': 1.0, 'ad': 1.0, 'dc': 2.0, 'novel': 1.0, 'incarnation': 1.0, 'their': 1.0, 'before': 1.0, 'cocacola': 1.0, 'popular': 1.0, 'behind': 1.0, 'commercials': 1.0, 'bellsouth': 1.0, 'novels': 1.0, 'one': 1.0, 'most': 1.0, 'advets': 1.0}, {'1995': 1.0, 'lettres': 1.0, 'et': 1.0, 'ordre': 1.0, 'officier': 1.0, 'berlin': 1.0, 'officer': 1.0, 'june': 1.0, 'rome': 1.0, '2009': 1.0, '11': 1.0, 'paris': 2.0, 'republic': 3.0, 'honour': 1.0, 'legion': 1.0, 'national': 1.0, 'times': 1.0, 'contemporary': 1.0, 'artist': 1.0, 'honours': 1.0, 'highest': 1.0, 'with': 1.0, 'have': 1.0, 'chevalier': 1.0, 'each': 1.0, 'republics': 1.0, 'german': 1.0, 'by': 1.0, 'officially': 1.0, 'been': 1.0, '2006': 1.0, 'stature': 1.0, 'theatre': 1.0, 'fields': 1.0, 'nicknamed': 1.0, 'often': 1.0, 'des': 2.0, 'stems': 1.0, '17': 1.0, 'hair': 1.0, 'has': 5.0, 'to': 2.0, 'as': 3.0, 'rossa': 1.0, 'having': 1.0, 'colour': 1.0, 'goro': 1.0, 'artistic': 1.0, 'she': 6.0, 'july': 1.0, 'which': 2.0, 'bjolkati': 1.0, 'three': 1.0, 'la': 1.0, 'most': 2.0, 'particularly': 1.0, 'known': 2.0, 'personality': 1.0, 'popular': 4.0, 'simultaneously': 1.0, 'actress': 1.0, 'milva': 1.0, 'music': 1.0, 'film': 1.0, 'internationally': 1.0, 'italian': 9.0, 'due': 1.0, 'born': 1.0, 'omri': 1.0, 'commander': 2.0, 'order': 3.0, 'theatrical': 1.0, 'success': 1.0, 'female': 1.0, 'world': 1.0, 'an': 1.0, 'musical': 3.0, 'the': 22.0, 'of': 19.0, 'arts': 1.0, 'who': 1.0, 'ilva': 2.0, 'numerous': 1.0, 'both': 1.0, 'from': 1.0, 'biolcati': 1.0, 'birth': 1.0, 'for': 1.0, 'pronunciation': 1.0, 'triumphed': 1.0, 'where': 1.0, 'press': 1.0, '1939': 1.0, 'panther': 1.0, 'greece': 1.0, '2': 1.0, 'singer': 1.0, 'maria': 2.0, 'and': 14.0, 'abroad': 1.0, 'also': 2.0, 'received': 2.0, 'merit': 2.0, 'is': 4.0, 'television': 1.0, 'personalities': 1.0, 'this': 1.0, 'names': 1.0, 'singers': 2.0, 'french': 2.0, '1960s': 1.0, 'in': 9.0, 'combining': 1.0, 'enormous': 1.0, 'italy': 3.0, 'fact': 1.0, 'stages': 1.0, 'germany': 2.0, 'on': 1.0, 'additionally': 1.0, 'over': 1.0, 'bestowed': 1.0, 'places': 1.0, 'native': 1.0, 'stage': 1.0, 'participated': 1.0, 'televised': 1.0, 'animals': 1.0, 'events': 1.0, '2007': 1.0, 'programmes': 1.0, 'successful': 1.0, 'one': 1.0, 'albums': 1.0, 'france': 1.0, 'her': 4.0, 'japan': 1.0, 'korea': 1.0, 'only': 1.0, 'recognised': 1.0, 'south': 1.0, 'september': 1.0, 'acclaim': 1.0, 'americahaving': 1.0, 'red': 1.0, 'released': 1.0, 'remains': 1.0, 'federal': 1.0, 'spain': 1.0, 'day': 1.0}, {'1980s': 1.0, 'activists': 1.0, 'independence': 1.0, 'events': 1.0, 'surrounding': 1.0, 'true': 1.0, 'formosa': 1.0, 'dark': 1.0, 'well': 1.0, 'starbucks': 1.0, 'short': 1.0, 'produced': 1.0, 'starred': 1.0, 'room': 1.0, 'boom': 2.0, 'based': 1.0, 'writer': 1.0, 'marty': 1.0, 'lefty': 1.0, 'proof': 1.0, 'waiting': 1.0, 'democracy': 1.0, 'theatre': 1.0, 'quarterlife': 1.0, 'internet': 1.0, 'winner': 1.0, 'central': 1.0, 'comedy': 2.0, 'affairs': 1.0, 'was': 1.0, 'major': 1.0, 'series': 1.0, 'transferring': 1.0, 'where': 1.0, 'for': 3.0, 'michigan': 1.0, 'bush': 1.0, 'tufts': 1.0, 'to': 4.0, 'scene': 1.0, 'hollywood': 1.0, 'under': 2.0, 'raised': 1.0, 'will': 1.0, 'university': 3.0, 'actor': 3.0, 'entertainmenttiao': 1.0, 'received': 2.0, 'he': 6.0, 'stage': 1.0, 'performance': 1.0, 'awardwinning': 1.0, 'cbs': 1.0, 'producer': 3.0, 'tiao': 2.0, 'international': 4.0, 'relations': 1.0, 'feature': 1.0, 'taiwanese': 2.0, 'story': 1.0, 'a': 8.0, 'at': 1.0, 'is': 2.0, 'manhattan': 1.0, 'and': 11.0, 'in': 10.0, 'cum': 1.0, 'economist': 1.0, 'american': 1.0, 'entering': 1.0, 'magna': 1.0, 'born': 1.0, 'ma': 1.0, 'went': 1.0, 'kansas': 1.0, 'from': 2.0, 'film': 3.0, 'his': 4.0, 'before': 2.0, 'the': 15.0, 'of': 5.0, 'credits': 2.0, 'columbia': 1.0, 'field': 1.0, 'fulbright': 1.0, 'however': 1.0, 'tv': 2.0, 'scholarship': 1.0, 'ba': 1.0, 'research': 1.0, 'worked': 3.0, 'association': 1.0, 'southeast': 1.0, 'asian': 1.0, 'politics': 2.0, 'nations': 1.0, 'as': 4.0, 'leave': 1.0, 'on': 3.0, 'philippinestiao': 1.0, 'betrayed': 1.0, 'presidential': 1.0, 'er': 1.0, 'clinton': 1.0, 'independent': 1.0, 'decided': 1.0, 'become': 1.0, 'an': 2.0, 'stories': 1.0, 'yes': 1.0, 'fellow': 1.0, 'w': 1.0, 'career': 1.0, 'stan': 1.0, 'management': 1.0, 'include': 2.0, 'pursue': 1.0, 'has': 1.0, 'writertranslator': 1.0, 'madtv': 1.0, 'laude': 1.0, 'fox': 2.0, 'extremities': 1.0, 'dear': 1.0, 'untold': 1.0, 'cello': 1.0, 'administration': 2.0, 'tlc': 1.0, 'manila': 1.0, 'george': 1.0, 'mind': 1.0, '2002': 1.0, 'mencia': 1.0}, {'located': 1.0, 'moms': 1.0, 'homeless': 1.0, 'transition': 1.0, 'publicly': 1.0, 'serve': 1.0, 'africanamerican': 1.0, 'becomes': 1.0, 'board': 2.0, 'limiteds': 1.0, 'newly': 1.0, 'mr': 2.0, 'money': 2.0, 'with': 1.0, 'matters': 2.0, 'alliance': 1.0, 'signing': 1.0, 'after': 1.0, 'formed': 1.0, 'side': 1.0, 'which': 2.0, 'limited': 4.0, '2013': 1.0, 'overseas': 1.0, 'invest': 1.0, 'become': 1.0, 'move': 1.0, 'included': 1.0, 'yearprimos': 1.0, 'services': 3.0, 'financial': 3.0, 'its': 1.0, 'saluted': 1.0, 'magazine': 1.0, 'enterprise': 1.0, 'opened': 1.0, 'regional': 1.0, 'under': 2.0, 'visionary': 1.0, 'assets': 1.0, 'has': 1.0, 'investor': 1.0, '2012': 1.0, 'domestic': 1.0, 'to': 5.0, 'institutional': 1.0, 'partners': 2.0, 'india': 2.0, 'industry': 1.0, 'not': 1.0, 'investors': 1.0, 'cofounder': 1.0, '1955': 1.0, 'that': 3.0, 'company': 1.0, 'south': 1.0, 'states': 1.0, 'appointed': 1.0, 'in': 13.0, 'firms': 2.0, 'investment': 1.0, 'whose': 1.0, 'women': 1.0, 'estate': 4.0, 'innovation': 1.0, 'born': 1.0, 'advises': 1.0, 'management': 2.0, 'international': 1.0, 'position': 1.0, 'director': 1.0, 'quintin': 1.0, 'kids': 1.0, 'companyin': 1.0, 'pension': 1.0, 'center': 1.0, 'addition': 1.0, 'chairman': 3.0, 'forbes': 1.0, 'launched': 2.0, 'also': 1.0, 'funds': 1.0, 'strategic': 1.0, 'the': 15.0, 'of': 13.0, 'latest': 1.0, 'baldwin': 1.0, 'capital': 7.0, 'is': 7.0, 'markets': 1.0, 'llc': 2.0, 'iii': 1.0, 'philanthropy': 1.0, 'primo': 7.0, 'primos': 1.0, 'angeles': 1.0, 'if': 1.0, 'e': 1.0, 'real': 4.0, 'shelter': 1.0, 'minorityowned': 3.0, 'capri': 8.0, 'billion': 1.0, 'listed': 1.0, 'and': 9.0, 'children': 1.0, 'firm': 3.0, 'largest': 1.0, 'americas': 3.0, 'black': 1.0, '404': 1.0, 'ranked': 1.0, 'underserved': 1.0, 'ceo': 1.0, '1947in': 1.0, 'march': 1.0, 'united': 1.0, 'commercial': 1.0, 'as': 3.0, 'nonexecutive': 1.0, 'global': 3.0, 'one': 5.0, 'renaming': 1.0, '2006': 1.0, '14': 1.0, 'top': 1.0, 'their': 1.0, 'twenty': 1.0, 'acumen': 1.0, 'this': 1.0, 'richest': 1.0, 'contributor': 1.0, 'cnbc': 1.0, 'indianregistered': 1.0, 'americans': 1.0, 'urban': 2.0, 'world': 1.0, 'listprimo': 1.0, 'regular': 1.0, 'african': 1.0, 'who': 1.0, 'fundsas': 1.0, 'a': 4.0, 'industrys': 1.0, 'known': 2.0, 'business': 1.0, 'his': 4.0, 'west': 1.0, '2000': 1.0, 'plaza': 1.0, 'september': 1.0, 'developed': 1.0, 'founder': 1.0, 'first': 3.0, 'mezzanine': 1.0, 'was': 4.0, 'other': 1.0, 'an': 2.0, 'directors': 1.0, 'early': 1.0, 'malls': 1.0, 'for': 4.0, 'such': 1.0, 'los': 1.0, 'oldest': 1.0, 'purchased': 1.0, 'on': 4.0, 'hills': 1.0, 'chicago': 1.0, 'leadership': 1.0, 'crenshaw': 1.0}, {'pops': 1.0, 'theme': 1.0, 'without': 1.0, 'used': 1.0, 'paul': 1.0, 'vocals': 1.0, 'provided': 1.0, 'leonard': 1.0, 'open': 1.0, '1993': 1.0, 'unexploited': 1.0, 'otherwise': 1.0, 'displayed': 1.0, 'where': 1.0, '2007': 1.0, 'programmes': 1.0, 'schools': 1.0, 'number': 2.0, 'talents': 1.0, '1983': 1.0, 'palms': 1.0, 'among': 1.0, 'episode': 1.0, 'unexpected': 1.0, 'tales': 1.0, '1987': 1.0, 'cops': 1.0, 'star': 1.0, '1985': 1.0, 'storm': 1.0, 'mortality': 1.0, 'productions': 1.0, 'on': 3.0, 'plays': 1.0, 'two': 2.0, 'university': 1.0, 'alternative': 1.0, 'tvs': 1.0, 'played': 2.0, 'has': 3.0, 'top': 1.0, 'recently': 1.0, 'auld': 1.0, 'pit': 1.0, 'guest': 2.0, 'had': 1.0, 'also': 3.0, 'revolution': 1.0, 'appeared': 1.0, 'game': 1.0, 'was': 3.0, 'recent': 1.0, 'more': 2.0, 'longrunning': 2.0, 'play': 1.0, 'and': 7.0, 'governoramong': 1.0, 'boyard': 1.0, 'as': 6.0, 'both': 1.0, 'segment': 1.0, 'appearances': 2.0, 'childrens': 1.0, 'role': 1.0, 'title': 1.0, 'casino': 1.0, 'british': 1.0, 'known': 1.0, 'unbound': 1.0, 'to': 3.0, 'leeds': 1.0, 'became': 1.0, 'in': 18.0, 'big': 1.0, '1960s': 1.0, 'new': 1.0, 'blott': 1.0, 'organon': 1.0, 'catweazle': 1.0, 'who': 4.0, 'series': 6.0, 'video': 1.0, '1995bayldon': 1.0, 'riding': 1.0, 'opportunity': 1.0, 'such': 1.0, 'for': 2.0, 'he': 7.0, 'love': 1.0, 'avengers': 1.0, 'creature': 1.0, 'first': 2.0, 'dramas': 1.0, 'audio': 1.0, 'west': 1.0, 'caseyin': 1.0, 'after': 2.0, 'born': 2.0, 'version': 1.0, 'gummidge': 1.0, '7': 1.0, 'vocal': 1.0, 'shakespeare': 1.0, 'deadly': 1.0, 'doctors': 1.0, 'magic': 1.0, 'envy': 1.0, 'actor': 1.0, 'turning': 1.0, 'parts': 2.0, 'show': 1.0, 'watch': 1.0, 'include': 2.0, 'bayldon': 2.0, '1961': 1.0, 'the': 31.0, 'bayldons': 1.0, 'crowman': 1.0, 'of': 12.0, 'january': 1.0, 'down': 2.0, 'several': 1.0, '1965': 1.0, 'geoffrey': 1.0, 'yorkshire': 1.0, 'simplicio': 1.0, 'bbc': 4.0, 'appearance': 2.0, '1971': 1.0, 'newtons': 1.0, 'roles': 2.0, '197072': 1.0, 'second': 1.0, 'landscape': 1.0, '1924': 1.0, 'is': 1.0, '1986': 1.0, 'many': 1.0, 'including': 2.0, 'science': 1.0, 'sheltering': 1.0, 'from': 1.0, 'doctor': 5.0, 'fiction': 1.0, 'five': 1.0, 'portraying': 1.0, 'television': 6.0, 'episodes': 1.0, 'an': 1.0, 'playing': 1.0, 'other': 1.0, 'tricks': 1.0, 'dramatisation': 1.0, 'sir': 1.0, 'worzel': 1.0, '197981': 1.0, 'king': 1.0, 'grandad': 1.0, 'seven': 1.0, 'porridge': 2.0, 'which': 1.0, 'based': 1.0, 'made': 2.0, 'a': 6.0, 'q': 1.0, '1967': 3.0, 'hardcastles': 1.0, 'angelsother': 1.0, '1970s': 1.0, 'rat': 1.0, 'singing': 1.0, 'with': 1.0, 'royale': 1.0, 'by': 1.0, 'magnificent': 1.0, 'finish': 1.0, 'film': 3.0, 'his': 1.0, 'marc': 1.0, 'sins': 1.0, 'wizard': 1.0, 'bolant': 1.0, '1998he': 1.0, 'rex': 1.0, 'fort': 1.0, 'boogie': 1.0, '1979': 2.0}, {'uwe': 1.0, 'serving': 1.0, 'international': 1.0, 'founding': 1.0, 'american': 1.0, '2005': 1.0, 'cited': 1.0, 'became': 1.0, 'defined': 1.0, 'scipulfdietrich': 1.0, '2002': 1.0, 'by': 1.0, 'scientist': 1.0, 'later': 1.0, 'young': 1.0, 'that': 1.0, 'via': 1.0, 'chapter': 1.0, 'german': 2.0, 'founders': 1.0, 'seven': 1.0, 'wide': 1.0, 'experiments': 2.0, 'real': 1.0, 'won': 1.0, 'laboratory': 1.0, 'dgof': 1.0, '1994': 1.0, 'data': 1.0, 'big': 1.0, 'media': 1.0, 'social': 1.0, 'cognition': 1.0, 'measurement': 1.0, 'tests': 1.0, 'experimental': 3.0, 'used': 1.0, 'method': 1.0, 'experimenting': 2.0, 'particular': 1.0, 'online': 2.0, 'world': 1.0, 'or': 1.0, 'lab': 1.0, 'methodologies': 1.0, 'universities': 1.0, 'field': 1.0, 'web': 2.0, 'spanish': 1.0, 'scientists': 1.0, 'top': 1.0, 'him': 2.0, 'ranked': 1.0, 'cientificas': 1.0, 'private': 1.0, 'investigaciones': 1.0, 'de': 1.0, 'journal': 2.0, 'superior': 1.0, 'consejo': 1.0, 'based': 1.0, 'neuroscience': 1.0, 'standards': 1.0, 'book': 1.0, 'lecturer': 1.0, 'switzerland': 1.0, 'affiliated': 2.0, 'jointly': 1.0, 'remains': 1.0, 'department': 2.0, 'one': 2.0, 'bilbao': 1.0, 'was': 4.0, '7th': 1.0, 'tenured': 1.0, 'deusto': 1.0, 'tbingen': 2.0, '2009': 2.0, 'working': 2.0, 'first': 3.0, 'between': 1.0, 'an': 3.0, 'matzat': 1.0, 'political': 1.0, 'currently': 1.0, 'iscience': 2.0, 'wrote': 1.0, 'ikerbasque': 3.0, 'boulder': 1.0, 'and': 15.0, 'articles': 1.0, 'assessment': 1.0, 'president': 1.0, 'science': 3.0, 'psychological': 2.0, '1995': 1.0, 'spent': 1.0, 'a': 8.0, 'ulfdietrich': 2.0, 'since': 1.0, 'editor': 1.0, 'methodology': 1.0, 'professor': 3.0, 'reips': 6.0, 'spain': 2.0, 'for': 6.0, 'in': 17.0, 'his': 5.0, 'oberassistent': 1.0, 'faculty': 1.0, 'habilitation': 1.0, 'full': 1.0, 'founded': 1.0, 'dr': 1.0, 'on': 5.0, 'elected': 1.0, 'sciences': 1.0, 'phd': 1.0, 'methods': 2.0, '2004': 1.0, 'from': 3.0, 'with': 4.0, 'affiliation': 1.0, 'general': 1.0, 'he': 9.0, '1997': 2.0, 'received': 3.0, 'konstanz': 1.0, 'legendi': 1.0, 'society': 3.0, '2013': 1.0, 'until': 1.0, 'holds': 1.0, 'at': 5.0, 'is': 4.0, 'nonnorth': 1.0, 'chair': 1.0, 'ma': 1.0, 'zurich': 1.0, 'venia': 1.0, 'title': 1.0, 'privatdozent': 1.0, 'sonoma': 1.0, '2014ulfdietrich': 1.0, 'germany': 1.0, 'article': 1.0, 'california': 1.0, 'journals': 1.0, 'conducting': 2.0, 'where': 2.0, '1992': 1.0, 'state': 1.0, 'most': 2.0, 'undergraduate': 1.0, 'university': 7.0, 'assistant': 1.0, 'graduate': 1.0, 'psychology': 10.0, 'years': 1.0, 'both': 1.0, 'had': 2.0, 'attended': 1.0, 'fulltime': 1.0, 'jens': 1.0, 'kolleg': 1.0, 'computers': 1.0, 'internet': 4.0, 'walter': 1.0, '2012': 1.0, 'internetbased': 4.0, 'honorable': 1.0, 'majored': 1.0, 'as': 1.0, 'causality': 1.0, 'student': 1.0, 'minor': 1.0, 'the': 26.0, 'of': 21.0, 'prof': 1.0, 'award': 2.0, 'leibniz': 1.0, 'colorado': 1.0, 'basis': 1.0, 'research': 4.0, 'rhetoric': 1.0, 'its': 2.0}, {'ncehr': 1.0, 'various': 1.0, '1988': 1.0, '1986': 1.0, 'as': 1.0, 'society': 1.0, 'frsqprofessor': 1.0, 'law': 1.0, 'researchers': 1.0, 'network': 1.0, 'representing': 1.0, 'evaluation': 1.0, 'quebec': 1.0, 'gnthiq': 1.0, 'group': 1.0, 'interinstitutional': 1.0, 'director': 1.0, 'currently': 1.0, 'genetic': 1.0, 'to': 2.0, 'funded': 2.0, 'he': 6.0, 'bioethics': 3.0, 'chicoutimi': 2.0, 'd': 1.0, 'collge': 2.0, 'department': 2.0, 'recherche': 1.0, 'richard': 1.0, 'ethics': 4.0, 'researcher': 1.0, 'sshrc': 1.0, 'medicine': 1.0, 'canadian': 1.0, 'has': 2.0, 'albert': 3.0, 'with': 3.0, 'interdisciplinary': 1.0, 'thought': 1.0, 'screening': 1.0, 'analysis': 1.0, 'member': 3.0, 'in': 13.0, 'for': 1.0, 'where': 2.0, 'de': 6.0, 'books': 1.0, 'and': 12.0, 'analyse': 1.0, 'fonds': 1.0, 'mlanon': 4.0, 'sant': 1.0, 'teaches': 1.0, 'together': 1.0, 'known': 1.0, 'scientist': 1.0, 'du': 2.0, 'two': 1.0, 'founding': 1.0, 'qubec': 1.0, 'more': 1.0, 'on': 3.0, 'j': 1.0, 'who': 1.0, 'is': 8.0, 'at': 2.0, 'codirector': 2.0, 'sociology': 1.0, 'marcel': 1.0, 'french': 1.0, 'specialty': 1.0, 'from': 3.0, 'committee': 1.0, 'worked': 1.0, 'philosopher': 2.0, 'reference': 1.0, 'of': 10.0, 'the': 14.0, 'vicepresident': 1.0, 'works': 1.0, 'philosophy': 2.0, 'his': 2.0, 'committees': 1.0, 'mostly': 2.0, 'camus': 3.0, 'division': 1.0, 'book': 1.0, 'a': 9.0, 'qubecfrsq': 1.0, 'an': 2.0, 'by': 2.0, 'la': 1.0, 'programme': 1.0, 'graduate': 1.0, 'en': 1.0, 'chercheurs': 1.0, 'ethical': 1.0, 'bioethicshe': 1.0, 'served': 1.0, 'soutien': 1.0, 'des': 1.0, 'received': 1.0, 'also': 3.0, 'lambertprofessor': 1.0, 'associate': 1.0, 'professor': 1.0, 'universit': 3.0, 'canada': 1.0, 'program': 1.0, 'pense': 1.0, 'authored': 1.0, 'clinical': 1.0, 'masters': 1.0, 'issues': 1.0, 'pscche': 1.0, 'some': 1.0, 'religion': 1.0, 'degree': 1.0, 'testing': 1.0, 'experimental': 1.0, 'genetics': 3.0, 'biologist': 1.0, 'articles': 1.0, 'fribourg': 1.0, 'laval': 1.0, 'sa': 1.0, 'doctorate': 1.0, 'switzerlandprofessor': 1.0, 'particular': 1.0, 'than': 1.0}, {'compliance': 1.0, 'operations': 1.0, 'york': 1.0, 'division': 1.0, 'international': 2.0, '2002': 1.0, 'headquarters': 1.0, 'president': 2.0, 'platform': 1.0, 'digital': 1.0, 'radioin': 1.0, 'delta': 1.0, 'eagle': 1.0, '964': 1.0, 'network': 1.0, 'system': 1.0, 'automation': 1.0, 'studio': 1.0, 'master': 1.0, 'customer': 1.0, 'star': 1.0, 'served': 1.0, 'launching': 1.0, 'vice': 2.0, 'key': 1.0, '1995': 1.0, 'played': 1.0, 'associated': 1.0, '20': 1.0, 'over': 1.0, 'where': 1.0, 'ukrd': 3.0, 'new': 2.0, 'merged': 1.0, 'computerised': 2.0, 'running': 1.0, 'pioneering': 1.0, 'world': 2.0, 'tomorrows': 1.0, 'bbc': 1.0, 'cornwall': 1.0, 'up': 1.0, 'set': 1.0, 'based': 1.0, 'which': 3.0, 'investment': 1.0, 'company': 1.0, 'departed': 1.0, 'market': 1.0, 'companieswhile': 1.0, 'stock': 1.0, 'playoutshortly': 1.0, 'taking': 1.0, 'londonafter': 1.0, 'with': 3.0, 'consisting': 1.0, 'was': 4.0, 'news': 2.0, 'then': 3.0, 'devonair': 1.0, 'pirate': 3.0, 'who': 1.0, 'exeter': 1.0, '102': 1.0, 'of': 8.0, 'the': 13.0, 'provincial': 1.0, '1980': 1.0, 'british': 1.0, 'station': 4.0, 'innovations': 1.0, 'joined': 2.0, 'on': 3.0, 'senior': 2.0, 'concentrate': 1.0, 'role': 1.0, 'launch': 6.0, 'kiss': 1.0, 'journalist': 2.0, 'infinity': 3.0, 'head': 1.0, 'technology': 1.0, 'shows': 1.0, 'manchesters': 1.0, 'moved': 1.0, 'newspaper': 1.0, 'as': 5.0, 'became': 2.0, 'to': 12.0, 'a': 6.0, 'featured': 1.0, 'radio': 15.0, 'and': 10.0, 'joint': 2.0, 'current': 1.0, 'westcountry': 1.0, 'former': 1.0, 'listing': 1.0, 'hosted': 2.0, 'uk': 4.0, 'technologiesin': 1.0, '1984': 1.0, 'in': 9.0, 'newspapers': 1.0, 'musicscheduling': 1.0, 'stations': 3.0, 'before': 1.0, 'launched': 1.0, 'guildford': 1.0, 'programme': 1.0, 'growing': 1.0, 'he': 6.0, 'research': 1.0, 'its': 4.0, 'powell': 7.0, 'form': 1.0, 'management': 2.0, 'chairman': 1.0, 'from': 3.0, 'media': 1.0, 'awardwinning': 1.0, 'breakfast': 1.0, 'four': 1.0, 'showpowell': 1.0, 'building': 1.0, 'for': 3.0, 'surrey': 1.0, '1983': 1.0, 'editor': 1.0, 'venture': 1.0, 'sound': 6.0, 'torbay': 1.0, 'his': 1.0, 'music': 2.0, 'uks': 1.0, 'separated': 1.0, 'capital': 1.0, 'at': 3.0, 'is': 1.0, 'promoted': 2.0, 'working': 1.0, 'first': 2.0, 'after': 2.0, 'program': 1.0, 'october': 2.0, 'ceo': 4.0, 'white': 1.0, 'director': 1.0, '1986': 2.0, 'several': 1.0, '1991': 1.0, 'affairs': 1.0, 'group': 3.0, 'berkshires': 1.0, 'software': 1.0, 'included': 1.0, 'officer': 1.0, 'later': 1.0, 'being': 1.0, 'chief': 1.0, 'jointly': 1.0, 'rcs': 3.0, 'fox': 1.0, 'use': 2.0, 'plains': 1.0, 'computing': 1.0, 'eventually': 1.0, 'services': 1.0, 'county': 6.0, '24': 1.0, 'selector': 1.0, 'control': 1.0, 'day': 1.0, 'hours': 1.0, 'gold': 2.0, '2001': 1.0, 'introducing': 1.0, 'format': 1.0, 'designed': 1.0, 'programming': 1.0, '2014': 1.0, 'mike': 1.0, 'transitioning': 1.0, 'fm': 5.0}, {'4': 1.0, 'nominees': 1.0, 'cut': 1.0, 'not': 1.0, 'olympics': 1.0, 'players': 1.0, '43': 1.0, 'including': 1.0, 'group': 1.0, 'tournament': 1.0, '2012': 2.0, 'injury': 1.0, 'recovery': 1.0, 'aliaksandr': 1.0, 'did': 1.0, 'competition': 1.0, 'replaced': 1.0, 'missed': 1.0, 'pretournament': 1.0, 'uefa': 4.0, 'stage': 1.0, 'participated': 2.0, 'preliminary': 1.0, 'that': 1.0, 'subsequently': 1.0, 'he': 4.0, 'under21': 4.0, 'debut': 1.0, '2008': 1.0, 'perepechka': 1.0, 'september': 1.0, 'born': 1.0, '2009': 2.0, 'first': 2.0, '9': 1.0, 'withdrawn': 1.0, 'on': 3.0, 'team': 4.0, '2010': 2.0, 'national': 1.0, 'for': 8.0, 'in': 10.0, 'london': 1.0, '26': 1.0, 'a': 5.0, 'netted': 2.0, 'was': 6.0, 'salihorskyurchenko': 1.0, 'vasilyevich': 1.0, 'also': 1.0, '1989': 1.0, 'u21': 6.0, 'championshipon': 1.0, 'callup': 1.0, 'by': 1.0, 'home': 1.0, '22': 1.0, 'january': 1.0, 'mogilev': 1.0, 'plays': 1.0, 'russian': 1.0, 'matches': 2.0, 'match': 2.0, 'shakhtyor': 1.0, 'of': 4.0, 'the': 19.0, 'championship': 3.0, 'toulon': 1.0, 'belarusian': 2.0, 'win': 2.0, 'yurchanka': 1.0, 'latvia': 1.0, 'belarussian': 1.0, 'uladzimir': 1.0, '1': 1.0, 'european': 4.0, 'footballer': 1.0, 'november': 1.0, 'three': 2.0, 'part': 3.0, 'from': 2.0, 'his': 6.0, 'and': 4.0, 'appearances': 1.0, 'all': 2.0, 'against': 4.0, 'to': 4.0, 'final': 1.0, 'earned': 1.0, 'who': 1.0, '12': 2.0, 'august': 1.0, 'yurchenko': 4.0, 'goal': 1.0, 'belarus': 2.0, 'opening': 1.0, 'following': 1.0, 'scoring': 1.0, 'austria': 1.0, 'games': 1.0, 'country': 1.0, 'reserves': 1.0, '21': 1.0, 'qualification': 1.0, '2011': 4.0, 'qualifier': 1.0, 'october': 1.0, 'football': 4.0, 'twice': 1.0, 'make': 1.0, 'help': 1.0, '30': 1.0, 'italy': 1.0, 'omanon': 1.0, 'side': 1.0, 'made': 3.0, 'which': 1.0, 'is': 1.0, 'selected': 2.0, 'secured': 1.0, '2': 1.0, 'footballers': 1.0, 'but': 3.0, '18': 1.0, 'senior': 1.0, 'as': 1.0, 'injured': 2.0, 'squad': 3.0, 'friendly': 2.0, 'june': 1.0, 'take': 1.0, 'denmark': 1.0}, {'earthbound': 1.0, 'compositions': 1.0, 'versions': 1.0, 'papas': 1.0, 'organ': 1.0, 'which': 1.0, 'kenichiro': 1.0, 'was': 1.0, '2010': 1.0, '2002': 1.0, 'several': 1.0, 'conductor': 1.0, 'grammy': 1.0, 'concerts': 2.0, 'works': 1.0, 'from': 2.0, 'pieces': 1.0, 'band': 3.0, 'released': 1.0, 'rock': 2.0, 'been': 2.0, 'scores': 1.0, 'uematsus': 2.0, 'arranged': 2.0, 'mistwalkersoundtracks': 1.0, 'age': 1.0, 'in': 8.0, 'began': 1.0, 'playing': 1.0, 'other': 2.0, 'as': 2.0, 'to': 2.0, 'selftaught': 1.0, 'played': 2.0, 'uematsu': 3.0, 'community': 1.0, 'composers': 1.0, 'piano': 1.0, 'musician': 1.0, 'and': 6.0, 'or': 1.0, 'eleven': 1.0, 'fukui': 1.0, 'final': 5.0, 'famous': 1.0, 'with': 5.0, 'series': 2.0, 'game': 5.0, 'john': 1.0, 'for': 2.0, 'where': 1.0, '1959': 1.0, 'he': 8.0, 'march': 1.0, 'colleagues': 1.0, 'scoring': 1.0, 'considered': 1.0, 'have': 3.0, 'smile': 1.0, 'born': 1.0, 'black': 1.0, 'japanese': 1.0, 'together': 1.0, 'known': 1.0, 'is': 2.0, 'at': 1.0, 'since': 2.0, 'the': 11.0, 'of': 6.0, 'a': 4.0, 'enix': 2.0, 'majority': 1.0, 'titles': 2.0, 'best': 1.0, 'performed': 2.0, 'years': 1.0, 'met': 1.0, 'development': 1.0, 'tsuyoshi': 1.0, 'video': 5.0, 'fantasy': 5.0, 'composer': 1.0, 'games': 2.0, 'arnie': 1.0, 'most': 2.0, 'music': 2.0, 'his': 4.0, 'these': 1.0, 'influenceuematsu': 1.0, 'joined': 1.0, 'on': 2.0, '21': 1.0, 'square': 4.0, '18': 1.0, 'composed': 1.0, 'later': 1.0, '2004': 1.0, 'twelve': 1.0, 'hironobu': 1.0, 'sakaguchi': 1.0, 'awardwinning': 1.0, 'they': 1.0, 'elton': 1.0, 'worked': 2.0, '1986': 1.0, 'many': 2.0, 'freelancer': 1.0, 'notably': 1.0, 'after': 1.0, 'found': 1.0, 'own': 1.0, 'biggest': 1.0, 'company': 1.0, 'called': 2.0, 'respected': 1.0, 'label': 1.0, 'studio': 1.0, 'please': 1.0, 'dog': 1.0, 'creator': 1.0, 'left': 1.0, 'ear': 1.0, 'sekito': 1.0, 'nobuo': 2.0, 'records': 1.0, 'has': 3.0, 'including': 1.0, 'electronic': 1.0, 'albums': 1.0, 'one': 1.0, 'ones': 1.0, 'developed': 1.0, 'keyboards': 1.0, 'roth': 1.0, 'by': 1.0, 'mages': 1.0, 'sakaguchis': 1.0}, {'charleston': 2.0, 'teaches': 1.0, '2008currently': 1.0, 'publication': 1.0, 'student': 1.0, 'resulted': 1.0, 'course': 1.0, 'three': 1.0, 'it': 1.0, 'create': 1.0, 'how': 1.0, 'what': 1.0, 'students': 1.0, 'teach': 1.0, 'working': 1.0, 'college': 1.0, 'this': 2.0, 'inquiry': 2.0, 'director': 1.0, 'clemson': 2.0, 'uncle': 1.0, 'at': 2.0, 'is': 7.0, 'more': 1.0, 'mcsweeneys': 1.0, 'frequently': 1.0, 'fictionhe': 1.0, 'taught': 1.0, 'publishing': 1.0, 'dictionary': 1.0, 'press': 1.0, 'raging': 1.0, 'guilfoile': 1.0, 'stumbling': 1.0, 'fiction': 1.0, 'focus': 1.0, 'may': 1.0, 'in': 7.0, 'anthologized': 1.0, 'recent': 1.0, 'inspired': 1.0, 'been': 2.0, 'warner': 2.0, 'has': 2.0, 'northbrook': 1.0, 'news': 1.0, 'sc': 2.0, 'morning': 1.0, 'contain': 1.0, 'debut': 1.0, 'editor': 2.0, 'with': 1.0, 'writing': 2.0, 'creative': 4.0, 'edited': 1.0, 'america': 1.0, 'an': 1.0, 'tow': 1.0, 'and': 9.0, 'american': 2.0, '1970': 1.0, 'internet': 1.0, 'of': 6.0, 'the': 12.0, 'to': 4.0, 'imprint': 1.0, 'politically': 1.0, 'writer': 3.0, 'seagerhe': 1.0, 'future': 1.0, 'frequent': 1.0, 'author': 1.0, 'griffith': 1.0, 'series': 2.0, 'previously': 1.0, 'collaborates': 1.0, 'czar': 1.0, 'allan': 1.0, 'illinois': 1.0, 'warners': 1.0, 'born': 2.0, 'four': 1.0, 'most': 2.0, 'work': 1.0, 'books': 3.0, 'nuts': 1.0, 'contributor': 1.0, 'university': 1.0, 'tendency': 1.0, 'incwarner': 1.0, 'novel': 1.0, 'was': 5.0, 'yellow': 1.0, 'funny': 1.0, 'man': 1.0, 'published': 1.0, 'book': 1.0, 'kevin': 1.0, 'reviewed': 1.0, 'humor': 2.0, 'his': 3.0, 'he': 5.0, 'dedicated': 1.0, 'by': 4.0, 'publishers': 1.0, 'kirkus': 1.0, 'reviews': 1.0, 'a': 5.0, 'story': 1.0, 'collection': 1.0, 'short': 1.0, 'day': 1.0, 'army': 1.0, 'weekly': 1.0, 'publications': 1.0, 'john': 1.0, 'for': 1.0, 'michael': 1.0, 'tough': 1.0, 'lsu': 1.0, 'chief': 1.0, 'shoe': 1.0, 'humorous': 1.0, 'distributed': 1.0, 'fw': 1.0, 'great': 1.0}, {'georgia': 1.0, 'church': 1.0, 'bible': 1.0, 'cofounded': 1.0, 'theological': 1.0, 'attended': 1.0, 'draft': 1.0, 'nba': 1.0, 'drafted': 1.0, 'not': 1.0, 'years': 1.0, 'next': 1.0, 'significant': 1.0, 'him': 1.0, 'but': 1.0, 'believe': 1.0, 'surprised': 1.0, 'potential': 1.0, 'fulfilling': 1.0, 'came': 1.0, 'university': 1.0, 'basketball': 2.0, 'title': 1.0, 'john': 2.0, 'for': 5.0, 'rebounds': 2.0, 'seminary': 2.0, 'play': 2.0, 'doug': 3.0, 'woodens': 1.0, 'college': 2.0, 'west': 1.0, 'kentucky': 1.0, 'later': 2.0, 'pivot': 1.0, 'workfollowing': 1.0, 'magazine': 1.0, 'illustrated': 1.0, 'pastor': 1.0, 'coach': 1.0, 'playing': 1.0, 'bruin': 1.0, 'currently': 1.0, 'much': 1.0, 'ucla': 1.0, 'career': 2.0, 'school': 1.0, 'american': 1.0, 'wooden': 3.0, '1964': 1.0, 'retired': 1.0, '543': 1.0, 'player': 1.0, '64': 1.0, 'a': 9.0, '1966': 1.0, 'lily': 2.0, 'tenure': 1.0, 'at': 4.0, 'sports': 1.0, 'is': 2.0, 'he': 5.0, 'championships': 1.0, 'the': 9.0, 'of': 4.0, 'future': 1.0, 'anchoring': 1.0, 'on': 1.0, 'who': 1.0, 'won': 2.0, 'sophomore': 1.0, 'hall': 1.0, 'his': 5.0, 'hard': 1.0, 'championship': 1.0, '1965mcintosh': 1.0, 'cover': 1.0, 'reserve': 1.0, 'lilburn': 1.0, 'stated': 1.0, 'national': 2.0, 'mcinstosh': 1.0, 'two': 3.0, 'california': 1.0, 'through': 1.0, 'los': 1.0, 'didnt': 1.0, '11': 1.0, 'angeles': 1.0, 'was': 3.0, 'minutes': 1.0, 'key': 1.0, 'they': 1.0, 'closest': 1.0, 'their': 2.0, '30': 1.0, 'appeared': 1.0, 'game': 2.0, 'grabbing': 1.0, 'went': 1.0, 'duke': 1.0, 'dallas': 1.0, 'center': 1.0, 'from': 1.0, 'bruins': 1.0, 'mcintosh': 5.0, 'junior': 2.0, 'senior': 1.0, 'coaching': 1.0, 'to': 2.0, 'high': 1.0, 'against': 1.0, 'became': 1.0, 'in': 7.0, 'per': 2.0, 'and': 7.0, '486': 1.0, 'first': 1.0, 'starter': 2.0, 'seasons': 1.0, 'contributor': 1.0, 'fame': 1.0, '1965': 1.0, 'cornerstone': 1.0, 'say': 1.0, 'champions': 1.0, 'scored': 1.0, 'players': 1.0, 'points': 1.0, 'as': 4.0, '57': 1.0, 'gameyears': 1.0, 'would': 2.0, 'that': 4.0, 'one': 1.0}, {'2010': 1.0, 'magazine': 1.0, 'review': 1.0, 'mits': 1.0, 'under': 1.0, 'top': 1.0, 'systemsmuchnick': 1.0, 'acquired': 1.0, 'was': 2.0, '22': 1.0, 'role': 1.0, 'chief': 1.0, 'into': 1.0, 'which': 1.0, 'over': 1.0, 'innovators': 1.0, 'peggs': 1.0, 'executive': 1.0, 'walmart': 1.0, '2014': 1.0, 'when': 1.0, 'december': 1.0, 'network': 1.0, 'served': 1.0, 'partner': 1.0, 'its': 1.0, 'billion': 1.0, 'technology': 1.0, 'edited': 1.0, 'partners': 1.0, 'point': 1.0, 'users': 1.0, 'by': 2.0, '35': 3.0, 'passing': 1.0, 'announced': 1.0, '2012': 2.0, '15': 1.0, 'officer': 1.0, 'later': 1.0, 'product': 1.0, 'year': 1.0, 'one': 2.0, 'consumerfacing': 1.0, 'down': 1.0, 'direction': 1.0, 'new': 1.0, 'this': 1.0, 'apps': 2.0, '3': 1.0, 'web': 2.0, 'take': 1.0, 'application': 3.0, 'photos': 1.0, 'attending': 1.0, 'with': 2.0, 'investors': 1.0, 'built': 1.0, 'that': 1.0, 'company': 2.0, '2011': 1.0, 'exclusively': 1.0, 'derdikin': 1.0, 'adobe': 1.0, 'derdik': 1.0, 'israel': 2.0, 'contest': 1.0, 'michael': 1.0, 'worth1000': 1.0, 'until': 1.0, '2013': 1.0, 'muchnick': 3.0, 'around': 1.0, 'business': 1.0, 'suite': 3.0, 'shifted': 1.0, 'author': 1.0, 'entrepreneurin': 1.0, 'brought': 1.0, '2007': 1.0, 'site': 1.0, 'aviary': 3.0, 'school': 1.0, 'smart': 1.0, 'and': 6.0, 'linkedin': 1.0, 'september': 3.0, 'photoediting': 1.0, 'thirdparty': 1.0, 'closed': 1.0, 'programmer': 1.0, 'growth': 2.0, 'while': 1.0, 'from': 1.0, 'avi': 1.0, 'seeing': 1.0, 'benjamin': 1.0, '17': 1.0, 'multimedia': 3.0, 'immediate': 1.0, 'march': 1.0, 'he': 6.0, 'cardozo': 1.0, 'n': 1.0, 'notable': 1.0, 'million': 2.0, 'law': 1.0, 'artist': 1.0, 'ito': 1.0, 'together': 1.0, '1979': 1.0, 'cofounded': 2.0, 'of': 5.0, 'the': 6.0, 'hoffman': 1.0, 'popular': 1.0, 'spark': 1.0, 'as': 3.0, 'stepped': 1.0, 'to': 3.0, 'ceo': 2.0, 'raised': 1.0, 'tobias': 1.0, 'former': 1.0, 'monthly': 1.0, 'born': 1.0, 'mobile': 1.0, 'galpert': 1.0, 'in': 4.0, 'venture': 2.0, 'a': 1.0, 'citing': 1.0, 'amazon': 1.0, 'founder': 2.0, 'bezos': 1.0, '2002': 1.0, 'mit': 1.0, 'awardwinning': 1.0, 'media': 1.0, 'director': 1.0, 'joi': 1.0, 'reid': 1.0, 'firm': 1.0, 'an': 2.0, 'other': 1.0, 'stalling': 1.0, 'active': 1.0, 'strategy': 1.0, 'at': 1.0, 'is': 1.0, 'capital': 3.0, 'aviarys': 2.0, 'named': 1.0, 'powering': 1.0, 'on': 4.0, 'across': 1.0, 'lab': 1.0, 'phones': 1.0, 'creative': 2.0, 'enormous': 1.0, '3500': 1.0, 'jeff': 1.0, 'chose': 1.0, 'focus': 1.0}, {'following': 1.0, 'board': 2.0, 'by': 1.0, 'was': 2.0, 'schoolsin': 1.0, 'where': 2.0, 'art': 1.0, 'producer': 1.0, 'made': 1.0, 'edinburgh': 7.0, 'pictures': 1.0, 'secondary': 1.0, 'year': 1.0, 'napiereducated': 1.0, 'since': 1.0, 'industries': 2.0, '2011': 1.0, 'institute': 2.0, 'director': 3.0, 'workshop': 1.0, 'industry': 1.0, 'halfhour': 1.0, 'and': 6.0, 'robin': 1.0, 'stirling': 1.0, 'garthamlock': 1.0, 'the': 14.0, 'of': 9.0, 'for': 2.0, 'documentary': 2.0, 'college': 1.0, 'partnership': 1.0, 'mediafunded': 1.0, 'eu': 1.0, 'school': 1.0, '1959': 1.0, 'academy': 3.0, 'he': 9.0, 'drama': 2.0, 'with': 2.0, 'creative': 5.0, 'university': 4.0, 'screen': 4.0, 'born': 2.0, 'films': 1.0, 'as': 4.0, 'glasgow': 2.0, '2010': 1.0, 'scotland': 4.0, 'company': 1.0, 'joined': 2.0, 'macpherson': 1.0, 'affairs': 1.0, 'entered': 1.0, 'first': 1.0, 'napier': 3.0, 'television': 1.0, 'development': 1.0, 'professor': 1.0, 'government': 1.0, 'a': 3.0, 'baftanominated': 1.0, 'april': 1.0, 'irish': 1.0, 'at': 7.0, 'is': 1.0, 'coproducer': 1.0, 'fellini': 1.0, 'film': 4.0, 'current': 1.0, 'including': 1.0, 'whose': 1.0, 'scottishbafta': 1.0, 'finnish': 1.0, 'man': 1.0, 'estonian': 1.0, '1989': 1.0, '1997': 1.0, 'established': 1.0, 'an': 2.0, 'trust': 1.0, 'independent': 1.0, 'asylum': 1.0, 'production': 1.0, 'include': 1.0, '2002': 1.0, 'to': 1.0, 'became': 1.0, 'collaboration': 1.0, 'skillset': 1.0, 'nominated': 1.0, 'appointed': 2.0, 'in': 5.0, 'tree': 1.0, 'fellers': 1.0, 'media': 1.0, 'awardwinning': 1.0, 'im': 1.0, 'years': 1.0, 'has': 1.0, 'liarafter': 1.0, 'national': 1.0, 'two': 1.0, 'executive': 1.0, 'scottish': 2.0, '2005': 1.0, 'butterfly': 1.0, '2008': 1.0, 'led': 1.0, 'engage': 1.0}, {'pastel': 1.0, 'recently': 1.0, '3': 1.0, 'ny': 1.0, 'art': 2.0, 'wallkill': 1.0, 'painting': 1.0, 'studying': 1.0, 'been': 1.0, 'performing': 1.0, 'bill': 1.0, 'waldron': 1.0, 'paintings': 1.0, 'mal': 1.0, 'collaborated': 1.0, 'taught': 1.0, 'rutgers': 1.0, 'university': 2.0, 'temple': 1.0, 'bachelors': 1.0, 'dance': 2.0, 'silvanobefore': 1.0, 'silverman': 1.0, 'name': 1.0, 'changed': 1.0, 'marriage': 1.0, 'lovano': 2.0, 'joe': 2.0, 'ensemble': 1.0, 'part': 1.0, 'werner': 2.0, 'frisell': 1.0, 'flute': 1.0, 'as': 3.0, '10th': 1.0, 'kenny': 2.0, 'records': 1.0, 'end': 1.0, 'jsl': 1.0, 'which': 1.0, 'vocal': 1.0, 'cd': 2.0, 'composers': 1.0, 'piano': 2.0, 'sheila': 1.0, 'work': 1.0, 'narrator': 1.0, 'pianist': 1.0, 'womens': 1.0, 'native': 1.0, 'media': 1.0, 'indigo': 1.0, 'trio': 1.0, 'and': 16.0, 'with': 4.0, 'singing': 1.0, 'performs': 1.0, 'shows': 1.0, 'norwegian': 1.0, 'saxophonist': 1.0, 'a': 5.0, 'leader': 1.0, 'city': 1.0, 'wind': 1.0, 'singer': 2.0, 'underrepresented': 1.0, 'moods': 1.0, 'for': 5.0, 'tenor': 1.0, 'to': 2.0, 'scholar': 1.0, 'at': 2.0, 'is': 5.0, '1951': 1.0, 'original': 1.0, 'beginning': 1.0, 'jordan': 1.0, 'born': 1.0, 'degree': 1.0, 'some': 1.0, 'played': 2.0, 'karin': 1.0, 'husband': 1.0, 'lee': 1.0, 'in': 7.0, 'montgomery': 1.0, 'jazz': 3.0, 'jeanne': 1.0, 'trumpet': 1.0, 'krog': 1.0, 'silvano': 5.0, 'judi': 1.0, 'by': 1.0, 'jazzed': 1.0, 'just': 1.0, 'women': 1.0, 'style': 1.0, 'composer': 3.0, 'on': 4.0, 'united': 1.0, 'philadelphia': 2.0, 'collegesshe': 1.0, 'her': 8.0, 'wrote': 2.0, 'states': 1.0, 'bears': 1.0, 'similarity': 1.0, 'many': 2.0, 'she': 7.0, 'featured': 1.0, 'collection': 1.0, 'college': 1.0, 'dobbins': 1.0, 'standards': 1.0, 'new': 1.0, 'voice': 2.0, 'recording': 1.0, 'from': 4.0, 'of': 7.0, 'the': 4.0, 'without': 1.0, 'watercolor': 1.0, 'vibes': 1.0, 'other': 1.0, 'an': 1.0, 'compositions': 1.0, 'since': 1.0, 'songbook': 1.0, 'empathetic': 1.0, 'toured': 1.0, 'also': 1.0, 'his': 1.0, 'music': 3.0, 'researches': 1.0, 'europe': 2.0, 'writes': 1.0, 'or': 1.0, 'great': 1.0, 'lori': 1.0, 'studied': 1.0, 'lyrics': 1.0, 'solo': 1.0, 'aside': 1.0, 'attending': 1.0, 'songs': 1.0, 'had': 2.0, 'well': 1.0, 'has': 7.0, 'no': 2.0, 'chamber': 1.0, 'school': 1.0, 'upon': 1.0, 'american': 1.0, 'pieces': 1.0, '2011': 1.0, 'formerly': 1.0, 'stages': 1.0, 'york': 1.0, 'river': 1.0, 'percussion': 2.0, 'sketches': 1.0, 'scored': 1.0}, {'when': 1.0, 'means': 1.0, 'reputation': 1.0, 'very': 1.0, 'accessible': 1.0, 'cultural': 1.0, 'responsibility': 1.0, 'future': 1.0, 'stability': 1.0, 'inequality': 1.0, 'stand': 1.0, 'traditions': 1.0, 'more': 2.0, 'while': 1.0, 'part': 1.0, 'same': 1.0, 'likeverd': 1.0, 'ideal': 1.0, 'chosen': 1.0, 'globally': 3.0, 'award': 1.0, 'them': 1.0, 'awards': 1.0, 'position': 1.0, 'several': 1.0, '2008': 1.0, 'anthology': 1.0, 'example': 1.0, 'articles': 1.0, 'numerous': 1.0, 'chapters': 1.0, 'recommended': 1.0, 'highly': 1.0, 'tutu': 1.0, 'desmond': 1.0, 'foreword': 1.0, '2010': 1.0, 'written': 1.0, 'security': 1.0, 'gender': 1.0, 'third': 1.0, 'emotion': 1.0, '2009': 1.0, '2007': 1.0, 'choice': 2.0, 'high': 1.0, 'journal': 1.0, 'as': 2.0, 'been': 1.0, 'international': 1.0, 'enemies': 1.0, 'making': 1.0, 'des': 1.0, 'maison': 1.0, 'ac4': 1.0, 'rooted': 1.0, 'complexity': 1.0, 'conflict': 3.0, 'cooperation': 1.0, 'consortium': 1.0, 'universitys': 1.0, 'columbia': 1.0, 'dissertation': 1.0, 'affiliated': 3.0, '1997': 2.0, 'modern': 1.0, 'which': 1.0, '1984': 2.0, 'graduated': 1.0, 'advanced': 1.0, 'under': 1.0, 'often': 1.0, 'norway': 7.0, 'heritage': 2.0, 'research': 4.0, 'core': 1.0, 'oslo': 2.0, 'doctorate': 2.0, '2001': 3.0, '2003': 1.0, 'background': 1.0, 'first': 2.0, 'confirmed': 1.0, 'has': 9.0, 'west': 2.0, '4': 1.0, 'impact': 1.0, 'up': 1.0, 'academic': 1.0, 'familys': 1.0, 'second': 2.0, 'languages': 1.0, 'cultures': 1.0, 'global': 3.0, 'one': 1.0, 'middle': 1.0, 'wish': 1.0, 'deeply': 1.0, 'fluently': 1.0, 'doctoral': 1.0, 'practitioners': 1.0, 'practice': 1.0, 'level': 1.0, 'academics': 1.0, 'germany': 3.0, 'that': 7.0, 'psychol': 1.0, '3': 2.0, 'published': 2.0, 'france': 1.0, 'fellowship': 1.0, 'studies': 1.0, 'president': 1.0, 'silesia': 1.0, 'founding': 1.0, 'by': 3.0, 'studied': 2.0, 'rwanda': 1.0, 'doctorates': 1.0, 'points': 1.0, 'others': 1.0, 'danish': 1.0, 'humanities': 1.0, 'had': 1.0, 'and': 34.0, 'hamburg': 4.0, 'base': 1.0, 'scholar': 1.0, 'belgium': 1.0, 'asia': 1.0, 'genocides': 1.0, 'east': 1.0, 'two': 1.0, 'humiliationher': 1.0, 'decent': 1.0, '2009lindner': 1.0, 'holds': 1.0, 'election': 1.0, 'culture': 1.0, 'is': 12.0, 'at': 7.0, 'transcend': 1.0, 'a': 13.0, 'locally': 2.0, 'may': 2.0, 'speaks': 1.0, 'testament': 1.0, 'since': 3.0, 'promote': 1.0, 'peace': 2.0, 'from': 7.0, 'who': 1.0, 'lhomme': 1.0, 'spends': 1.0, 'parliament': 1.0, '13': 1.0, 'enjoys': 1.0, 'years': 3.0, 'greater': 1.0, 'hameln': 1.0, 'transdisciplinary': 2.0, '1994': 2.0, 'frankfurt': 1.0, 'med': 1.0, 'australia': 1.0, 'experiences': 1.0, 'wrote': 1.0, 'traumatic': 1.0, 'psychological': 1.0, 'medicine': 3.0, 'other': 2.0, 'an': 2.0, 'evelin': 1.0, 'her': 11.0, 'japan': 1.0, 'hebrewsince': 1.0, 'focuses': 1.0, 'it': 3.0, 'own': 1.0, 'be': 1.0, '1978': 1.0, 'workin': 1.0, 'obtained': 1.0, 'because': 1.0, 'marriage': 1.0, 'human': 3.0, 'hierarchical': 1.0, 'believes': 3.0, 'unique': 1.0, 'following': 1.0, 'to': 7.0, 'dignity': 8.0, 'historical': 1.0, 'dr': 2.0, 'founded': 1.0, 'therefore': 1.0, 'understanding': 1.0, 'somalia': 1.0, 'german': 1.0, 'on': 5.0, 'humiliation': 4.0, 'were': 1.0, 'honor': 1.0, 'formed': 1.0, 'obstacles': 1.0, 'displaced': 1.0, 'individual': 1.0, 'received': 1.0, 'furthermore': 1.0, 'cairo': 2.0, 'parents': 1.0, 'hagtvets': 1.0, 'candidate': 1.0, 'gerda': 1.0, 'way': 1.0, 'strongest': 1.0, 'university': 7.0, 'concerned': 1.0, 'community': 2.0, 'both': 2.0, 'honored': 1.0, '1977': 1.0, 'also': 6.0, 'born': 1.0, 'sinology': 1.0, 'norwegian': 7.0, 'advocates': 1.0, 'philosopher': 1.0, 'bernt': 1.0, 'goetheuniversitt': 1.0, 'chinese': 1.0, 'am': 1.0, 'in': 40.0, 'main': 2.0, 'book': 5.0, 'usa': 2.0, 'philosophy': 1.0, 'comes': 1.0, 'participated': 1.0, 'better': 1.0, 'counselor': 1.0, 'europe': 1.0, 'social': 2.0, 'heidelberg': 1.0, 'egypt': 1.0, 'ethics': 1.0, 'programme': 1.0, 'equality': 5.0, 'de': 1.0, 'of': 15.0, 'dagfinn': 1.0, 'thailand': 1.0, 'fllesdalsince': 1.0, 'grew': 1.0, '1991': 1.0, '1954': 1.0, 'lived': 2.0, 'arabic': 1.0, 'worked': 1.0, 'title': 1.0, 'where': 2.0, 'was': 3.0, 'clinical': 1.0, 'message': 2.0, 'psychologist': 1.0, 'health': 1.0, 'black': 1.0, 'mostly': 1.0, 'importance': 1.0, 'law': 1.0, 'important': 3.0, 'american': 1.0, 'lindner': 3.0, 'for': 8.0, 'china': 1.0, 'humandhs': 1.0, 'zealand': 1.0, 'the': 31.0, 'africa': 2.0, 'burundi': 1.0, 'sciences': 2.0, 'familiar': 1.0, 'make': 1.0, 'she': 22.0, 'switzerland': 1.0, 'prisoners': 1.0, 'ngo': 1.0, '1946': 1.0, 'organized': 1.0, 'outstanding': 1.0, 'councils': 1.0, 'english': 1.0, 'have': 1.0, 'festival': 1.0, 'psychology': 3.0, 'time': 2.0, 'did': 1.0, 'european': 1.0, '1994she': 1.0, 'french': 1.0, 'rights': 1.0, 'being': 1.0, 'egyptian': 1.0, 'paris': 1.0, 'with': 6.0, 'number': 1.0, 'swedish': 1.0, 'world': 2.0, 'new': 3.0, 'japanese': 1.0, 'sustainable': 1.0, 'york': 1.0, 'kenya': 1.0, 'dutch': 1.0, 'among': 3.0, '1993': 1.0, 'portuguese': 1.0, 'russian': 1.0, 'indonesian': 1.0}, {'computing': 1.0, 'entitled': 1.0, 'regular': 1.0, 'wrote': 1.0, 'beginning': 1.0, 'developing': 1.0, 'klein': 1.0, 'klaus': 1.0, 'column': 1.0, 'collaborated': 1.0, 'cologne': 1.0, 'spent': 1.0, 'pcbased': 1.0, 'first': 1.0, 'summers': 1.0, 'taught': 1.0, 'personal': 1.0, 'potential': 1.0, 'explored': 1.0, 'more': 1.0, 'bs': 1.0, 'emphasizes': 1.0, 'suny': 2.0, 'was': 2.0, 'houston': 1.0, 'served': 1.0, 'with': 3.0, 'york': 1.0, 'years': 3.0, 'two': 2.0, 'same': 1.0, 'evaluator': 1.0, 'commercially': 1.0, 'before': 1.0, 'interactive': 1.0, 'returned': 2.0, '1969': 1.0, 'state': 1.0, 'biology': 1.0, '1967': 1.0, 'knowledge': 1.0, 'community': 3.0, 'through': 2.0, 'doctorate': 1.0, 'retardation': 1.0, 'later': 2.0, 'from': 8.0, '1980': 3.0, 'ms': 1.0, 'abledata': 1.0, 'science': 2.0, 'including': 1.0, 'tenure': 1.0, 'associate': 2.0, '1976': 2.0, 'that': 1.0, 'offering': 1.0, 'earning': 1.0, '2002': 1.0, 'there': 1.0, 'maryland': 5.0, 'university': 11.0, 'assistant': 1.0, 'public': 6.0, 'brockports': 1.0, 'while': 1.0, '2005': 1.0, 'school': 5.0, 'serve': 1.0, 'brockport': 2.0, 'articles': 1.0, 'during': 2.0, 'he': 15.0, 'seventy': 1.0, '1983': 1.0, 'parkhe': 1.0, 'education': 12.0, 'drph': 1.0, 'cancer': 1.0, 'healthquest': 1.0, 'than': 1.0, 'textbooks': 1.0, '1986': 1.0, 'his': 7.0, 'advanced': 1.0, 'educationhealth': 1.0, 'publications': 1.0, 'gold': 8.0, 'duncan': 3.0, 'software': 3.0, '19701974': 1.0, 'specialization': 1.0, 'researcher': 1.0, 'technology': 2.0, 'instructor': 1.0, 'works': 1.0, 'include': 1.0, 's': 1.0, 'heavily': 1.0, 'a': 10.0, 'phd': 2.0, 'is': 3.0, 'orange': 1.0, 'the': 30.0, 'of': 42.0, 'texas': 2.0, 'as': 6.0, 'leave': 1.0, 'systems': 1.0, 'such': 1.0, 'pieces': 1.0, 'for': 2.0, 'oregon': 1.0, 'application': 2.0, 'an': 3.0, 'robert': 1.0, 'dean': 2.0, 'research': 3.0, 'in': 25.0, 'illinois': 2.0, 'practice': 1.0, 'informatics': 1.0, 'these': 1.0, 'evaluation': 2.0, 'published': 2.0, 'dozens': 1.0, 'support': 1.0, 'fulltime': 1.0, 'organizations': 1.0, 'society': 1.0, 'earned': 3.0, 'college': 5.0, 'absence': 1.0, 'expert': 1.0, 'to': 7.0, 'county': 1.0, 'partnered': 1.0, '1978': 1.0, 'services': 1.0, 'by': 1.0, 'after': 1.0, '1999': 1.0, 'completing': 1.0, 'multimediabased': 1.0, 'degree': 1.0, 'working': 1.0, 'on': 4.0, 'second': 2.0, 'joined': 3.0, 'mental': 2.0, 'promotion': 2.0, 'next': 1.0, 'has': 1.0, 'faculty': 3.0, 'followed': 1.0, 'southern': 2.0, 'f': 1.0, 'siuc': 3.0, 'human': 2.0, 'management': 1.0, 'became': 2.0, 'invited': 1.0, 'received': 1.0, 'us': 1.0, 'health': 28.0, '1989': 1.0, 'also': 1.0, '1984': 1.0, 'several': 3.0, 'position': 1.0, 'initiative': 1.0, 'park': 2.0, '1988': 1.0, 'since': 1.0, 'new': 1.0, 'world': 1.0, 'organization': 1.0, 'where': 3.0, 'help': 1.0, 'reestablish': 1.0, 'and': 21.0, 'technologies': 1.0, 'july': 1.0, 'whos': 1.0, 'department': 5.0, 'division': 1.0, '1990': 1.0, 'time': 1.0, 'began': 1.0, 'educational': 1.0, 'dividing': 1.0, 'between': 1.0, 'macro': 1.0, 'international': 1.0, 'defense': 1.0, '1994': 1.0, 'chair': 1.0, 'american': 1.0, 'computer': 2.0, 'umds': 1.0, 'vice': 1.0, 'been': 1.0, 'professor': 4.0, 'performance': 1.0, 'lab': 2.0, 'prior': 1.0, 'umd': 1.0, 'carbondale': 1.0, 'director': 3.0, 'training': 1.0, 'applications': 2.0, 'at': 13.0, 'ranging': 1.0, 'video': 1.0, 'journal': 1.0, 'decision': 1.0, 'david': 1.0, 'course': 2.0, 'computers': 4.0, 'papers': 1.0, 'president': 1.0, 'use': 1.0}, {'1992': 1.0, 'film': 1.0, 'starred': 1.0, 'stuardashe': 1.0, 'donizetti': 1.0, 'montecchi': 1.0, 'capuleti': 1.0, 'don': 1.0, 'del': 1.0, 'forza': 1.0, 'verdi': 1.0, 'et': 1.0, 'samson': 1.0, 'saintsans': 1.0, 'cavalleria': 1.0, 'e': 1.0, 'mascagni': 1.0, 'cenerentola': 1.0, 'siviglia': 1.0, 'di': 1.0, 'rossini': 1.0, 'tutte': 1.0, 'fan': 1.0, 'notably': 1.0, 'works': 1.0, 'il': 3.0, 'she': 6.0, 'destino': 1.0, 'octavian': 1.0, 'callas': 1.0, 'travelled': 1.0, 'karajan': 1.0, 'soon': 1.0, '1965': 1.0, 'salzburg': 1.0, 'from': 1.0, 'frankfurt': 1.0, 'munich': 1.0, '1958': 1.0, 'leading': 1.0, 'on': 2.0, 'before': 2.0, 'known': 1.0, 'six': 1.0, '1968': 1.0, 'marriage': 1.0, 'duett': 1.0, 'november': 1.0, 'semiramide': 1.0, 'born': 2.0, 'cos': 1.0, 'then': 1.0, 'moving': 1.0, 'singer': 1.0, 'opera': 5.0, '19': 1.0, '1944': 1.0, 'a': 5.0, 'going': 1.0, 'barbiere': 1.0, '1970': 1.0, 'm': 1.0, 'in': 12.0, 'age': 1.0, 'regular': 1.0, 'under': 2.0, 'graduated': 1.0, 'national': 1.0, 'mezzosopranobaltsa': 1.0, 'carlos': 1.0, 'appearance': 1.0, 'austrian': 1.0, 'began': 1.0, 'trovatore': 1.0, 'athens': 1.0, 'algeri': 1.0, 'continue': 1.0, 'greek': 3.0, 'the': 8.0, 'of': 6.0, 'became': 2.0, 'to': 5.0, 'as': 2.0, 'was': 1.0, 'is': 2.0, 'at': 4.0, 'lefkada': 1.0, 'piano': 1.0, 'times': 1.0, 'concentrate': 1.0, 'her': 1.0, 'first': 1.0, 'playing': 2.0, 'an': 2.0, 'cherubino': 1.0, 'aida': 1.0, 'scholarship': 1.0, 'figaro': 1.0, 'appear': 1.0, 'der': 1.0, 'mozart': 1.0, 'agnes': 1.0, 'rosenkavalier': 1.0, 'studying': 1.0, 'state': 2.0, 'guidance': 1.0, 'kammersngerin': 1.0, 'herbert': 1.0, 'rusticana': 1.0, 'von': 1.0, 'prestigious': 1.0, 'festival': 1.0, 'campanello': 1.0, '1980her': 1.0, 'most': 1.0, 'i': 2.0, 'la': 2.0, 'well': 1.0, 'dalila': 1.0, 'has': 2.0, 'vienna': 2.0, 'performance': 1.0, 'that': 1.0, 'carmen': 1.0, 'by': 2.0, 'georges': 1.0, 'bizet': 1.0, 'made': 1.0, 'which': 1.0, 'sung': 2.0, 'conservatoire': 1.0, 'number': 1.0, 'litaliana': 1.0, 'singing': 1.0, 'baltsa': 2.0, 'with': 1.0, 'jos': 1.0, 'bellini': 1.0, 'maria': 2.0, 'and': 2.0, 'carreras': 1.0, 'also': 2.0}, {'shortlist': 1.0, 'final': 1.0, 'but': 1.0, 'language': 1.0, 'foreign': 1.0, '83rd': 1.0, 'croatias': 1.0, 'be': 1.0, 'on': 1.0, 'went': 1.0, 'national': 1.0, 'best': 2.0, 'it': 2.0, 'arena': 1.0, 'golden': 1.0, 'independence': 1.0, 'ceasefire': 1.0, 'their': 1.0, 'unit': 1.0, 'army': 1.0, 'festival': 1.0, 'pula': 1.0, 'blacks': 1.0, 'failed': 1.0, 'popular': 1.0, 'studying': 1.0, '1982': 1.0, 'zvonimir': 1.0, 'tesla': 1.0, 'deals': 1.0, '2009': 2.0, 'number': 1.0, 'zagreb': 2.0, 'refuse': 1.0, 'produced': 1.0, 'won': 1.0, 'who': 1.0, 'hometown': 1.0, 'nikola': 1.0, 'fictional': 1.0, 'nepokoreni': 1.0, '199192': 1.0, 'he': 3.0, 'cowritten': 1.0, 'submission': 1.0, 'drama': 1.0, 'for': 3.0, 'such': 1.0, 'university': 1.0, 'award': 1.0, 'titled': 1.0, 'of': 4.0, 'the': 19.0, 'series': 4.0, 'directed': 1.0, 'croatian': 4.0, 'angeles': 1.0, 'short': 1.0, 'war': 2.0, 'in': 8.0, 'tv': 2.0, 'primary': 1.0, 'a': 7.0, 'awards': 2.0, '1971': 1.0, '1980s': 1.0, 'screenwriterborn': 1.0, 'finished': 1.0, 'minor': 1.0, 'director': 2.0, 'appeared': 1.0, '4': 1.0, 'feature': 1.0, 'june': 1.0, 'smogovci': 1.0, 'born': 1.0, 'by': 1.0, 'semester': 1.0, 'juri': 5.0, 'education': 1.0, 'arms': 1.0, 'and': 7.0, 'grad': 1.0, 'directing': 2.0, 'was': 1.0, 'film': 9.0, 'his': 2.0, 'critically': 1.0, 'spent': 1.0, '1977': 1.0, 'loyola': 1.0, 'psychological': 1.0, 'as': 3.0, 'during': 1.0, 'biographical': 1.0, '10part': 1.0, 'teenager': 1.0, 'secondary': 1.0, 'childrens': 1.0, '1982after': 1.0, 'make': 1.0, 'graduating': 1.0, 'partisan': 1.0, 'from': 1.0, 'academy': 4.0, 'while': 1.0, 'to': 5.0, 'high': 1.0, 'school': 1.0, 'selected': 1.0, 'is': 1.0, 'at': 4.0, 'los': 1.0, '1992': 1.0, 'returned': 1.0, 'films': 1.0, 'croatia': 1.0, 'department': 1.0, 'dramatic': 1.0, 'goran': 1.0, 'lay': 1.0, 'osijek': 1.0, 'art': 1.0, 'roles': 1.0, 'student': 1.0, 'down': 1.0, 'several': 1.0, 'documentarieshis': 1.0, 'directorial': 1.0, 'enrolled': 1.0, 'debut': 1.0, 'which': 1.0, 'codirected': 1.0, 'with': 2.0, 'marymount': 1.0, 'devi': 2.0, 'acclaimed': 1.0}, {'yushchenko': 1.0, 'presidency': 1.0, 'during': 1.0, 'stepan': 1.0, 'shukhevych': 1.0, 'heroes': 1.0, 'nationalistic': 1.0, 'such': 1.0, 'glorification': 1.0, 'official': 1.0, 'opposed': 1.0, 'role': 1.0, 'none': 2.0, 'played': 1.0, 'nationalists': 1.0, 'genocide': 1.0, 'interpretation': 1.0, 'roman': 1.0, 'challenged': 1.0, 'america': 1.0, 'north': 1.0, 'diaspora': 1.0, 'both': 1.0, 'debates': 1.0, 'heated': 1.0, 'increasing': 1.0, 'subject': 1.0, 'historical': 1.0, 'calls': 1.0, 'ukraine': 4.0, 'almost': 1.0, 'nationalism': 1.0, 'holocaust': 2.0, 'particular': 1.0, 'slavs': 1.0, 'since': 1.0, 'eastern': 1.0, 'habsburg': 1.0, 'nationalist': 1.0, 'church': 1.0, 'or': 1.0, 'focused': 1.0, 'however': 1.0, 'connecticut': 1.0, 'what': 1.0, 'stamford': 1.0, 'also': 1.0, 'received': 1.0, 'he': 8.0, 'st': 1.0, '2014in': 1.0, 'studied': 1.0, 'greek': 2.0, 'his': 6.0, 'basil': 1.0, 'become': 1.0, 'iconography': 1.0, 'that': 2.0, 'italian': 1.0, 'catholic': 2.0, 'by': 2.0, '1970s80s': 1.0, 'as': 4.0, 'wanted': 1.0, 'born': 1.0, 'due': 1.0, 'ethnic': 1.0, 'pursue': 1.0, 'seminary': 1.0, 'vocationhimka': 1.0, 'mixed': 1.0, 'sacred': 1.0, 'canadian': 1.0, 'edmonton': 1.0, 'priest': 1.0, 'contention': 1.0, 'side': 1.0, 'at': 2.0, 'is': 2.0, 'initially': 1.0, 'michigan': 2.0, 'historian': 2.0, 'view': 1.0, '18': 1.0, 'polish': 1.0, 'fathers': 1.0, 'academic': 1.0, 'in': 20.0, '1960s': 1.0, 'culture': 1.0, 'ba': 1.0, 'may': 1.0, 'mothers': 1.0, 'phd': 2.0, 'from': 2.0, 'on': 4.0, '1949': 1.0, 'and': 14.0, 'sometimes': 1.0, 'ukrainian': 5.0, 'johnpaul': 1.0, 'retired': 2.0, 'a': 5.0, '1971': 1.0, 'background': 1.0, 'viktor': 1.0, 'history': 5.0, '1990s': 2.0, 'of': 16.0, 'the': 16.0, 'holodomor': 1.0, 'socialism': 2.0, 'myths': 1.0, 'university': 4.0, 'with': 1.0, 'himka': 4.0, 'radicalization': 1.0, 'political': 1.0, 'influenced': 1.0, 'dissertation': 1.0, 'views': 1.0, 'left': 1.0, 'end': 1.0, 'alberta': 2.0, 'classics': 1.0, 'did': 1.0, 'not': 1.0, 'byzantineslavonic': 1.0, 'studies': 1.0, '1977': 2.0, 'respectively': 1.0, 'title': 1.0, 'detroit': 1.0, 'was': 2.0, 'austria': 1.0, '18671890': 1.0, 'marxist': 1.0, 'bandera': 1.0, 'but': 1.0, 'to': 4.0, 'became': 3.0, 'taught': 1.0, 'postmodernism': 1.0, '2012': 1.0, 'defined': 1.0, 'especially': 1.0, '1992': 1.0, 'galicia': 1.0, 'professor': 2.0, 'methodology': 1.0, 'eclecticsince': 1.0, 'department': 1.0, 'full': 1.0, 'late': 1.0, 'interests': 1.0}, {'upheld': 1.0, 'colleagues': 1.0, 'barak': 1.0, 'aharon': 1.0, 'allowed': 1.0, 'compensation': 2.0, 'highest': 1.0, 'awarded': 1.0, 'court': 1.0, 'dalia': 1.0, 'judge': 2.0, 'would': 1.0, 'different': 2.0, 'hundred': 2.0, 'sense': 1.0, 'unique': 1.0, 'text': 1.0, 'reconstructed': 1.0, 'as': 1.0, 'copyright': 1.0, 'dorner': 1.0, 'document': 1.0, 'law': 1.0, 'given': 2.0, 'years': 1.0, 'material': 1.0, 'without': 1.0, 'edition': 1.0, 'permission': 1.0, 'facsimile': 1.0, '1992': 1.0, 'included': 1.0, 'so': 1.0, '1993': 1.0, 'titleqimron': 1.0, 'be': 2.0, 'should': 1.0, 'reconstructions': 2.0, 'decided': 2.0, 'shanks': 2.0, 'caseshershel': 1.0, 'impossible': 1.0, 'qimrons': 1.0, 'society': 2.0, 'access': 1.0, 'grounds': 1.0, 'they': 1.0, 'original': 1.0, 'twovolume': 1.0, 'toward': 1.0, 'attitude': 1.0, 'about': 2.0, 'eleven': 1.0, 'also': 1.0, 'some': 4.0, 'available': 2.0, 'not': 2.0, 'if': 2.0, 'proprietary': 1.0, 'still': 1.0, 'archaeology': 2.0, 'sea': 5.0, 'an': 1.0, '1980s': 1.0, 'difficult': 1.0, 'team': 3.0, 'particular': 1.0, '1976': 1.0, 'been': 5.0, 'that': 5.0, 'them': 1.0, 'has': 1.0, 'qumranin': 1.0, 'international': 1.0, 'several': 1.0, 'publishing': 1.0, 'scholars': 3.0, '40': 1.0, 'israel': 1.0, 'negev': 1.0, 'teamduring': 1.0, 'research': 1.0, 'its': 1.0, 'bengurion': 1.0, 'made': 3.0, 'which': 4.0, 'frustrated': 1.0, 'hebrew': 4.0, 'the': 38.0, 'of': 17.0, 'he': 5.0, 'appeal': 1.0, 'his': 4.0, 'intellectual': 1.0, 'in': 17.0, 'ancient': 1.0, 'department': 1.0, 'generally': 1.0, 'elisha': 1.0, 'currently': 1.0, 'researchers': 2.0, 'found': 1.0, 'writing': 1.0, 'and': 4.0, 'on': 11.0, 'eventually': 1.0, 'one': 1.0, 'biblical': 2.0, 'decades': 1.0, 'completed': 1.0, '4qmmt': 2.0, 'academic': 1.0, 'longoverdue': 1.0, 'study': 1.0, 'is': 3.0, 'at': 4.0, 'hershel': 1.0, 'since': 1.0, 'editorinchief': 1.0, '1994': 1.0, 'professor': 1.0, 'a': 5.0, 'university': 2.0, 'aggravation': 1.0, 'dissertation': 1.0, 'cave': 1.0, 'had': 7.0, '1970s': 1.0, '2000': 1.0, 'phd': 1.0, '4': 1.0, 'verdict': 1.0, '1979': 1.0, 'even': 1.0, 'took': 1.0, '1959': 1.0, 'favor': 1.0, 'reconstruction': 1.0, 'scrolls': 7.0, 'was': 6.0, 'coopted': 1.0, 'jerusalem': 1.0, 'by': 2.0, 'such': 1.0, 'property': 1.0, 'bas': 1.0, 'for': 4.0, 'john': 1.0, 'strugnell': 2.0, 'supreme': 1.0, 'assist': 1.0, 'texts': 2.0, 'publication': 1.0, 'against': 2.0, 'scholar': 1.0, 'to': 6.0, 'front': 1.0, 'complained': 1.0, 'completing': 1.0, 'strugnells': 1.0, 'work': 2.0, 'breaching': 1.0, 'most': 1.0, 'but': 1.0, 'halakhic': 2.0, 'letter': 2.0, 'sue': 1.0, 'alone': 1.0, 'fragments': 1.0, 'published': 4.0, 'working': 4.0, 'first': 1.0, 'israeli': 2.0, 'felt': 1.0, 'it': 1.0, 'photographs': 1.0, 'dead': 5.0, 'qimron': 6.0, 'late': 1.0, 'early': 1.0, 'others': 1.0, 'language': 1.0, 'many': 1.0, 'delay': 1.0, 'translated': 1.0, 'known': 1.0, 'were': 2.0}, {'awardwinning': 1.0, 'became': 1.0, 'completed': 1.0, 'four': 1.0, 'than': 1.0, 'more': 1.0, 'after': 1.0, 'surfaced': 1.0, 'second': 1.0, 'use': 1.0, 'museums': 1.0, 'fulbright': 1.0, 'lectured': 1.0, 'taught': 1.0, 'fellow': 1.0, 'a': 7.0, 'degrees': 1.0, 'trunks': 1.0, 'he': 5.0, 'united': 1.0, 'cambridge': 1.0, 'damaged': 1.0, 'at': 6.0, 'permitted': 1.0, 'educated': 1.0, 'american': 3.0, 'scottishcanadian': 1.0, 'leading': 1.0, 'connecticut': 1.0, 'foundationdr': 1.0, 'born': 1.0, 'hartford': 3.0, 'hitchcock': 1.0, 'boston': 1.0, 'because': 1.0, 'alice': 1.0, 'berkeley': 1.0, 'highest': 1.0, 'architecture': 2.0, 'had': 4.0, 'has': 4.0, 'well': 1.0, 'british': 3.0, 'prize': 1.0, '1969': 1.0, 'irvings': 1.0, 'conducting': 1.0, 'on': 2.0, 'kennedy': 1.0, 'dr': 2.0, 'shipped': 1.0, 'herbert': 1.0, 'news': 1.0, 'day': 1.0, 'practitioners': 1.0, 'preparation': 1.0, 'discovered': 2.0, 'his': 8.0, 'six': 1.0, 'acres': 1.0, 'contents': 1.0, 'trinity': 1.0, 'not': 2.0, 'article': 2.0, 'history': 4.0, 'art': 2.0, 'grant': 1.0, 'robert': 1.0, 'author': 1.0, 'including': 1.0, 'specializing': 1.0, 'photography': 1.0, 'societies': 1.0, 'of': 17.0, 'lecturer': 1.0, 'filed': 1.0, 'book': 4.0, 'press': 3.0, 'universities': 1.0, 'parents': 1.0, 'oppenheimer': 1.0, 'indian': 3.0, 'grandest': 1.0, 'humanities': 2.0, '15000': 1.0, 'holds': 1.0, 'an': 1.0, 'all': 1.0, 'luggage': 1.0, 'kings': 1.0, 'awarddr': 1.0, 'architectural': 2.0, 'india': 3.0, 'principal': 1.0, 'summer': 2.0, 'virginia': 1.0, 'trust': 1.0, 'become': 1.0, 'unclaimed': 1.0, 'and': 18.0, 'in': 15.0, 'college': 4.0, 'as': 4.0, '1911': 1.0, 'baker': 2.0, 'warehouse': 1.0, 'to': 11.0, 'sir': 2.0, '1931': 1.0, 'yale': 6.0, 'university': 4.0, 'empire': 2.0, '1982': 1.0, 'creation': 1.0, 'is': 2.0, 'phd': 1.0, 'from': 3.0, 'was': 3.0, '60': 1.0, 'davis': 1.0, 'oxford': 2.0, '196869': 1.0, 'grants': 1.0, 'undertaking': 1.0, 'britain': 2.0, 'lutyens': 2.0, 'for': 4.0, 'foundation': 1.0, 'john': 2.0, 'delhi': 3.0, '16': 1.0, 'architects': 1.0, 'successful': 1.0, 'wesleyan': 1.0, 'honor': 1.0, 'exposure': 1.0, 'were': 2.0, 'won': 1.0, 'two': 2.0, 'research': 5.0, 'national': 2.0, 'stated': 2.0, 'balliol': 1.0, 'continents': 1.0, 'held': 1.0, 'scholarship': 1.0, 'upon': 1.0, 'one': 1.0, 'lifetime': 1.0, 'irving': 8.0, 'too': 1.0, 'the': 27.0, 'africa': 1.0, 'states': 1.0, 'fellowships': 1.0, 'historians': 1.0, 'woodrow': 1.0, 'wilson': 1.0, 'story': 1.0, 'studies': 2.0, 'fellowship': 1.0, 'society': 1.0, 'accrued': 1.0, 'institute': 1.0, 'learned': 1.0, 'ernest': 1.0, 'memorial': 2.0, 'basis': 1.0, 'imperial': 1.0, 'endowment': 1.0, 'council': 2.0, 'guggenheim': 1.0, 'been': 2.0, 'advocate': 1.0, 'preservationduring': 1.0, 'activist': 1.0, 'dissertation': 2.0, 'mr': 4.0, 'material': 1.0, 'through': 1.0, 'edwin': 1.0, 'return': 2.0, 'pan': 1.0, 'new': 2.0, 'world': 1.0, 'lawsuit': 1.0, 'airways': 1.0, 'entire': 1.0, '1981': 1.0, 'lost': 1.0, 'airline': 1.0, 'visit': 1.0, 'weather': 1.0, 'f': 1.0, 'airport': 2.0, 'yearsthe': 1.0, 'search': 1.0, 'able': 1.0, 'that': 2.0, 'placed': 1.0, 'locate': 1.0, 'simon': 1.0, 'trunk': 2.0, 'late': 1.0, 'but': 1.0, 'useless': 1.0, '35000': 1.0, 'order': 1.0, 'recoup': 1.0, 'expenses': 1.0, 'redo': 1.0, 'historic': 1.0, 'be': 1.0}, {'pynacker': 1.0, 'seventeenthcentury': 1.0, 'between': 1.0, 'by': 2.0, 'similarities': 1.0, 'dutch': 1.0, 'generated': 1.0, 'controversy': 1.0, 'win': 1.0, 'brett': 1.0, 'dobell': 1.0, 'to': 2.0, 'became': 1.0, 'landscaped': 1.0, 'proposal': 1.0, 'wynne': 2.0, 'same': 2.0, 'has': 2.0, 'won': 2.0, 'queensland': 3.0, 'goth': 1.0, 'prizes': 1.0, 'rmit': 1.0, 'master': 1.0, 'been': 1.0, 'tax': 1.0, 'only': 1.0, 'south': 1.0, 'optimism': 1.0, 'he': 4.0, 'a': 3.0, 'geelong': 1.0, 'resides': 1.0, 'completion': 1.0, 'many': 1.0, 'project': 1.0, 'cosmos': 1.0, 'after': 2.0, 'prize': 4.0, 'newcastle': 1.0, 'contemporary': 1.0, 'portrait': 2.0, 'melbourneleachs': 1.0, 'bachelor': 1.0, 'shows': 1.0, 'australian': 2.0, 'leach': 4.0, 'worked': 1.0, 'work': 3.0, '1973': 1.0, 'an': 1.0, 'neo': 1.0, 'artist': 3.0, 'due': 1.0, 'born': 2.0, 'australia': 1.0, 'was': 1.0, 'musical': 1.0, 'emerging': 1.0, 'sam': 1.0, 'diploma': 1.0, 'also': 1.0, 'harbour': 1.0, 'gippsland': 1.0, 'in': 14.0, 'art': 8.0, 'for': 3.0, 'adam': 1.0, 'completed': 1.0, 'victoria': 1.0, 'melbourne': 1.0, 'years': 1.0, '2010': 2.0, 'acknowledged': 1.0, 'noteworthy': 1.0, 'adelaide': 1.0, 'landscape': 2.0, 'at': 6.0, 'is': 2.0, 'currently': 1.0, 'horror': 1.0, 'some': 1.0, 'degree': 3.0, 'australias': 1.0, 'award': 1.0, 'doing': 1.0, 'of': 12.0, 'the': 17.0, 'office': 1.0, 'year': 2.0, 'exhibited': 1.0, 'macquarie': 1.0, 'several': 1.0, 'including': 1.0, 'come': 1.0, 'museum': 3.0, 'gallery': 3.0, 'university': 4.0, 'fine': 2.0, 'coffs': 1.0, '2008': 1.0, '2009': 1.0, 'shilo': 1.0, 'william': 1.0, 'ian': 1.0, 'third': 1.0, 'minchin': 1.0, 'so': 1.0, 'economics': 1.0, 'potter': 1.0, 'still': 1.0, 'regional': 2.0, 'his': 4.0, 'whiteley': 1.0, 'hawkesbury': 1.0, 'public': 1.0, 'collections': 2.0, 'gold': 1.0, 'galleries': 1.0, 'coast': 1.0, 'and': 10.0, 'latrobe': 1.0, 'held': 1.0, 'one': 2.0, 'most': 1.0, 'comedian': 1.0, 'tim': 1.0, 'darkness': 1.0, 'archibald': 2.0}, {'account': 1.0, 'junction': 1.0, 'authored': 1.0, 'expeditionscrowther': 1.0, 'connection': 1.0, 'who': 1.0, 'around': 1.0, 'divorced': 1.0, 'laura': 1.0, 'daughters': 1.0, 'had': 2.0, 'couple': 1.0, 'william': 1.0, 'married': 2.0, 'met': 1.0, 'where': 1.0, 'mit': 1.0, 'physics': 1.0, 'degree': 1.0, 'bs': 1.0, 'connectioncrowther': 1.0, 'historic': 1.0, 'surveyed': 1.0, 'expedition': 1.0, '1972': 1.0, '9': 1.0, 'two': 2.0, '115': 1.0, 'worked': 1.0, 'a': 3.0, 'slight': 1.0, 'traversal': 1.0, 'underlying': 1.0, 'american': 1.0, 'wellknown': 1.0, 'p': 2.0, '1970s': 1.0, '1976': 1.0, 'wilcox': 2.0, 'earned': 1.0, 'final': 1.0, 'attempted': 1.0, 'passages': 1.0, 'programmercrowther': 1.0, 'early': 1.0, '1960s': 1.0, 'in': 5.0, 'also': 1.0, 'active': 1.0, 'and': 10.0, 'see': 1.0, '1943': 1.0, 'about': 1.0, 'born': 1.0, 'explorer': 2.0, 'later': 1.0, 'weighed': 1.0, 'part': 1.0, 'extreme': 1.0, 'john': 1.0, 'for': 2.0, 'article': 1.0, 'pat': 1.0, 'discovered': 1.0, 'led': 2.0, 'kentucky': 2.0, 'grand': 1.0, 'known': 2.0, 'were': 1.0, 'pounds': 1.0, 'houchins': 1.0, 'wiccan': 1.0, 'surveyor': 1.0, 'thenhusband': 1.0, 'caves': 1.0, 'among': 1.0, 'computer': 1.0, 'at': 1.0, 'is': 3.0, 'connecting': 1.0, 'attempt': 1.0, 'frame': 1.0, 'was': 2.0, 'crowther': 5.0, 'systems': 1.0, 'unable': 1.0, 'as': 3.0, 'to': 6.0, 'her': 5.0, 'patricia': 3.0, 'unwilling': 1.0, 'note': 1.0, 'dedication': 1.0, 'this': 1.0, 'pursue': 1.0, 'these': 1.0, 'valley': 1.0, 'juncture': 1.0, 'traits': 1.0, 'that': 3.0, 'an': 2.0, 'promising': 1.0, 'other': 1.0, 'or': 1.0, 'sandy': 1.0, 'participated': 1.0, 'the': 18.0, 'of': 5.0, 'september': 1.0, 'particular': 1.0, 'narrow': 1.0, 'system': 2.0, 'canyon': 1.0, 'wiccanpatricia': 1.0, 'tight': 2.0, 'cave': 8.0, 'spot': 2.0, 'portion': 1.0, 'will': 1.0, 'flint': 3.0, 'expeditions': 2.0, 'ridge': 3.0, 'undertaken': 1.0, 'critical': 1.0, '1977': 1.0, 'proved': 1.0, 'be': 1.0, 'leads': 1.0, 'leading': 1.0, 'both': 1.0, 'mammoth': 2.0, 'she': 4.0, 'cavers': 2.0, 'many': 1.0, 'connect': 2.0}, {'series': 1.0, 'americas': 1.0, 'physicist': 1.0, 'female': 1.0, 'role': 1.0, 'announced': 1.0, '2014': 1.0, 'february': 1.0, 'wgn': 1.0, '2013in': 1.0, 'leeuw': 1.0, 'composer': 1.0, 'mai': 1.0, 'reinbert': 1.0, 'wunderschnen': 1.0, 'im': 1.0, 'piece': 1.0, 'that': 1.0, 'young': 1.0, 'for': 1.0, 'moor': 1.0, 'won': 1.0, '2013': 1.0, 'lives': 1.0, 'upherbers': 1.0, 'english': 1.0, 'au': 1.0, 'theaterschool': 1.0, 'from': 1.0, 'growing': 1.0, 'was': 2.0, 'los': 1.0, 'violinist': 1.0, 'hague': 1.0, 'stopped': 1.0, 'german': 2.0, 'fate': 1.0, 'actress': 1.0, 'ignatius': 1.0, 'during': 1.0, 'manhattan': 1.0, 'and': 10.0, 'pronunciation': 1.0, 'after': 2.0, 'canadian': 1.0, 'born': 2.0, 'went': 2.0, 'played': 1.0, 'play': 1.0, 'rbrs': 1.0, 'it': 1.0, 'speak': 1.0, 'guido': 1.0, 'mira': 2.0, 'katja': 1.0, 'kammerspiele': 1.0, '19': 2.0, 'dutch': 4.0, '2003': 1.0, '1980': 2.0, 'while': 1.0, 'theatre': 3.0, 'conductor': 2.0, 'had': 1.0, 'beths': 1.0, 'on': 1.0, 'a': 4.0, 'monat': 1.0, 'city': 1.0, 'televisionherbers': 1.0, 'but': 1.0, 'film': 1.0, 'amsterdam': 5.0, 'is': 3.0, 'at': 3.0, 'pianist': 1.0, '1993': 1.0, 'she': 10.0, '1999': 1.0, 'drama': 1.0, 'learned': 1.0, 'studied': 2.0, 'performed': 1.0, 'psychology': 1.0, 'will': 1.0, 'university': 1.0, '19992000': 1.0, 'gymnasium': 1.0, 'munich': 3.0, 'year': 1.0, 'oboist': 1.0, 'her': 3.0, 'studies': 2.0, 'attended': 1.0, 'october': 2.0, 'local': 1.0, 'daughter': 1.0, 'school': 1.0, '20012005during': 1.0, 'werner': 1.0, 'netherlands': 1.0, 'graduation': 1.0, 'pair': 1.0, 'de': 3.0, 'herbers': 3.0, 'trap': 1.0, 'then': 1.0, '2002': 1.0, 'to': 4.0, 'became': 1.0, 'hb': 1.0, 'alamos': 1.0, 'vera': 1.0, 'york': 1.0, 'studio': 1.0, 'bell': 1.0, 'talentshe': 1.0, 'ktja': 1.0, 'new': 1.0, '20002001': 1.0, 'films': 1.0, 'peter': 1.0, 'award': 1.0, 'the': 15.0, 'of': 6.0, 'brush': 1.0, 'with': 2.0, 'ntgent': 1.0, 'ghent': 1.0, 'currently': 1.0, 'het': 1.0, 'in': 13.0, 'member': 2.0, 'nationale': 1.0, 'only': 1.0, 'toneel': 1.0}, {'university': 1.0, 'goalkeeping': 1.0, 'as': 1.0, 'briefly': 1.0, 'had': 1.0, 'matches': 1.0, 'liga': 1.0, 'mexican': 1.0, 'serie': 1.0, 'eredivisie': 1.0, 'provides': 1.0, 'espn': 1.0, 'service': 1.0, 'broadcasting': 1.0, 'news': 1.0, '2006he': 1.0, 'world': 1.0, 'countrys': 1.0, 'starred': 1.0, 'returned': 1.0, 'years': 1.0, 'several': 1.0, 'with': 1.0, 'dispute': 1.0, 'kevin': 1.0, 'under': 1.0, 'coach': 1.0, 'ever': 1.0, 'an': 2.0, 'where': 3.0, 'for': 10.0, 'appearance': 1.0, 'reading': 1.0, 'promotion': 1.0, 'england': 3.0, 'a': 6.0, 'football': 2.0, 'losing': 1.0, 'before': 1.0, 'bench': 1.0, 'later': 1.0, 'goalkeeper': 1.0, 'his': 2.0, 'played': 3.0, 'spent': 1.0, 'this': 1.0, 'full': 1.0, 'united': 2.0, 'he': 8.0, 'now': 1.0, '22': 1.0, 'receiving': 1.0, 'him': 1.0, 'keegans': 1.0, 'cm': 1.0, 'regularly': 1.0, 'during': 1.0, 'part': 1.0, 'season': 1.0, 'second': 3.0, 'ruled': 1.0, 'eligible': 1.0, 'at': 1.0, 'sports': 1.0, 'tenure': 1.0, 'is': 2.0, 'out': 1.0, 'finished': 1.0, 'shaka': 1.0, 'worked': 1.0, 'successive': 1.0, 'league': 1.0, 'term': 1.0, 'in': 9.0, 'playoffs': 1.0, 'hislop': 1.0, 'national': 1.0, 'two': 2.0, 'commentary': 1.0, 'international': 1.0, 'newcastle': 1.0, 'chile': 1.0, 'the': 14.0, 'of': 3.0, 'neil': 1.0, 'career': 1.0, '200203he': 1.0, 'seasons': 1.0, 'team': 4.0, 'was': 5.0, 'top': 1.0, 'quinnipiac': 1.0, 'division': 3.0, 'on': 4.0, 'mx': 1.0, 'working': 1.0, 'first': 2.0, 'portsmouth': 1.0, 'contention': 1.0, 'which': 2.0, 'side': 1.0, '1st': 2.0, 'despite': 1.0, 'finishing': 1.0, 'overall': 1.0, 'fa': 1.0, 'slot': 1.0, 'following': 1.0, 'ham': 1.0, 'separate': 1.0, 'occasions': 1.0, 'west': 1.0, 'premier': 1.0, 'cup': 2.0, 'born': 1.0, 'former': 1.0, 'runnerup': 1.0, 'february': 1.0, 'medal': 1.0, '1969': 1.0, 'won': 1.0, 'opted': 1.0, '2006': 1.0, 'and': 8.0, 'play': 3.0, 'against': 1.0, 'became': 1.0, 'to': 3.0, 'both': 1.0, 'majority': 1.0, 'trinidad': 2.0, 'tobago': 2.0, 'initially': 1.0, 'automatic': 1.0, 'also': 2.0, 'u21': 1.0, 'but': 2.0, 'end': 1.0}, {'soundtrack': 1.0, 'frizzell': 1.0, 'stravinsky': 1.0, 'cites': 1.0, 'soulhe': 1.0, 'floor': 1.0, 'demand': 1.0, 'chapter': 1.0, 'productions': 1.0, 'circle': 1.0, 'full': 1.0, 'long': 1.0, 'sought': 2.0, 'fantastic': 1.0, 'seen': 1.0, 'heights': 1.0, 'player': 1.0, 'great': 1.0, 'imprint': 1.0, 'came': 1.0, 'changes': 1.0, 'harsh': 1.0, 'due': 1.0, 'label': 2.0, 'whether': 1.0, 'close': 1.0, 'records2009': 1.0, 'are': 1.0, 'version': 1.0, 'webster': 1.0, 'filling': 1.0, 'charles': 1.0, 'worldclass': 1.0, 'up': 1.0, 'legend': 1.0, 'teamed': 1.0, 'saw': 1.0, 'way': 1.0, 'across': 1.0, 'along': 1.0, 'amazing': 1.0, 'some': 1.0, 'shostakovich': 1.0, 'collaborations': 1.0, 'shoulders': 1.0, 'rubbing': 1.0, 'williams': 1.0, 'projects': 1.0, 'jordan': 1.0, 'replife': 1.0, 'hill': 1.0, 'clara': 1.0, 'vocalists': 1.0, 'spacemartins': 1.0, 'another': 1.0, 'trademark': 3.0, 'their': 3.0, 'allows': 1.0, 'flown': 1.0, 'hone': 1.0, 'helps': 1.0, 'diluted': 1.0, 'mould': 1.0, 'breaking': 1.0, 'ideas': 1.0, 'on': 4.0, 'industry': 3.0, 'launch': 1.0, 'years': 1.0, '13': 1.0, 'hold': 1.0, 'nineties': 1.0, 'one': 1.0, 'concentrates': 1.0, 'albums': 1.0, 'scoring': 1.0, 'mantis': 1.0, 'following': 1.0, 'content': 1.0, 'within': 3.0, 'tomb': 2.0, 'omar': 1.0, 'now': 1.0, 'ltd': 1.0, 'top': 1.0, 'england': 1.0, 'time': 1.0, 'ashes': 1.0, 'at': 2.0, 'was': 3.0, 'early': 2.0, 'realm': 1.0, 'in': 8.0, 'name': 2.0, 'scene': 1.0, 'invite': 1.0, 'soundmartin': 1.0, 'midland': 1.0, 'zed': 1.0, 'cartoons': 1.0, 'mancinis': 1.0, 'his': 14.0, 'company': 4.0, 'into': 2.0, 'raider': 2.0, 'north': 1.0, 'better': 1.0, 'occasions': 1.0, 'to': 15.0, 'job': 1.0, 'iveson': 3.0, 'nu': 1.0, 'atjazz': 7.0, 'be': 1.0, 'it': 1.0, 'own': 2.0, 'very': 1.0, 'himself': 1.0, 'from': 2.0, 'for': 10.0, 'the': 24.0, 'famous': 1.0, 'well': 1.0, 'games': 3.0, 'composer': 1.0, 'writes': 1.0, 'print': 1.0, 'uks': 1.0, 'video': 2.0, 'most': 1.0, 'left': 1.0, 'work': 1.0, 'house': 2.0, 'a': 9.0, 'story': 1.0, '1998': 1.0, 'practice': 1.0, 'record': 3.0, 'worlds': 1.0, 'appropriately': 1.0, 'working': 1.0, 'design': 1.0, 'labfunk': 1.0, 'martin': 8.0, 'with': 6.0, 'gamesnot': 1.0, 'releases': 2.0, 'lara': 1.0, 'computer': 1.0, 'works': 2.0, '3rd': 1.0, 'rework': 1.0, 'towns': 1.0, 'dj': 1.0, 'contributions': 1.0, 'audio': 1.0, 'deborah': 1.0, 'development': 1.0, 'sawhney': 1.0, 'misspent': 1.0, 'ranges': 1.0, 'heart': 1.0, 'deep': 1.0, 'that': 2.0, 'bias': 1.0, 'under': 1.0, 'core': 1.0, 'led': 1.0, 'new': 3.0, 'world': 2.0, 'returns': 1.0, 'hiphop': 1.0, 'and': 21.0, 'runs': 1.0, 'this': 5.0, 'series': 1.0, 'jazz': 1.0, 'he': 3.0, 'recordings': 1.0, 'synonymous': 1.0, 'many': 2.0, 'your': 1.0, 'companyfrom': 1.0, 'martins': 2.0, 'croft': 1.0, 'moniker': 1.0, 'sinclar': 1.0, 'fujio': 1.0, 'arrived': 1.0, 'debut': 2.0, 'owns': 1.0, 'take': 1.0, 'darkness': 1.0, 'angel': 1.0, 'musicians': 2.0, 'eastern': 1.0, 'underground': 1.0, 'sound': 2.0, 'reworking': 1.0, 'featured': 1.0, 'has': 6.0, 'emi': 1.0, 'known': 3.0, 'also': 5.0, 'remixing': 4.0, 'skateboarding': 1.0, 'environment': 1.0, 'throughout': 1.0, 'which': 3.0, 'channel': 1.0, 'john': 2.0, 'frontier': 1.0, 'akatsuka': 1.0, 'musical': 1.0, 'renowned': 1.0, 'aspirations': 1.0, 'henri': 1.0, 'other': 1.0, 'helped': 1.0, 'named': 1.0, 'do': 1.0, 'samethe': 1.0, 'success': 1.0, 'including': 3.0, 'first': 1.0, 'ep': 1.0, 'here': 1.0, '1996': 1.0, 'illustrations': 1.0, 'wellreceived': 1.0, 'inspirational': 1.0, 'producers': 2.0, 'album': 4.0, 'prolific': 1.0, 'something': 1.0, 'artists': 1.0, 'such': 1.0, 'licensed': 1.0, 'production': 2.0, 'japan': 2.0, 'gives': 1.0, 'sonykioon': 1.0, 'studio': 2.0, 'youth': 1.0, 'as': 5.0, 'cover': 1.0, 'concentrate': 1.0, 'artwork': 1.0, 'influencers': 1.0, 'music': 4.0, 'career': 1.0, 'animated': 1.0, 'two': 1.0, 'bob': 1.0, 'been': 2.0, 'labresults': 1.0, 'digital': 1.0, 'miso': 1.0, 'class': 1.0, 'soon': 1.0, 'by': 4.0, 'after': 3.0, 'producer': 2.0, 'had': 1.0, 'distinct': 1.0, 'songs': 1.0, 'established': 1.0, 'scenemartin': 1.0, 'remixer': 2.0, 'or': 1.0, 'british': 1.0, 'nitin': 1.0, 'mainstream': 1.0, 'jazzanova': 1.0, 'but': 2.0, 'of': 9.0, 'even': 1.0, 'is': 5.0, 'panther': 1.0, 'continuation': 1.0, 'these': 1.0, 'further': 2.0, 'requested': 2.0, 'pink': 1.0, 'records': 1.0, 'still': 1.0, 'heavily': 2.0, 'states': 1.0, 'techniques': 1.0, 'more': 1.0, 'perfect': 1.0, 'forward': 1.0, 'later': 2.0, 'its': 1.0, 'artist': 1.0, 'voice': 1.0, 'few': 1.0, 'pitch': 1.0, 'trying': 1.0, 'out': 1.0}, {'women': 1.0, 'sexiest': 1.0, '100': 1.0, 'no': 1.0, '2003': 1.0, 'clown': 1.0, '2002in': 1.0, 'old': 1.0, '2001': 1.0, 'express': 1.0, 'angel': 1.0, 'roles': 1.0, 'loves': 1.0, 'sander': 1.0, 'again': 1.0, 'sanderin': 1.0, 'alongside': 1.0, 'differently': 1.0, 'love': 1.0, 'seen': 1.0, '2006': 1.0, 'clinic': 1.0, 'forest': 1.0, 'heaven': 1.0, 'twentyyearold': 1.0, '2005': 2.0, 'rymanher': 1.0, 'angelsin': 1.0, 'wild': 1.0, 'investigators': 1.0, 'scene': 1.0, 'crime': 1.0, 'took': 1.0, 'properlyin': 1.0, 'writers': 1.0, 'fhmgermanys': 1.0, 'allowing': 1.0, 'appear': 1.0, 'new': 1.0, 'time': 1.0, 'enough': 1.0, 'ice': 1.0, 'up': 1.0, 'free': 1.0, 'you': 1.0, 'able': 1.0, 'erol': 1.0, 'unavailable': 1.0, 'when': 1.0, 'projects': 1.0, 'equivalent': 1.0, 'seebergwhile': 1.0, 'is': 2.0, 'courses': 1.0, 'role': 5.0, 'succeeded': 1.0, '2008': 1.0, 'her': 5.0, 'greenlit': 1.0, 'was': 9.0, 'lexx': 3.0, 'television': 2.0, 'accepted': 1.0, 'such': 1.0, 'for': 2.0, 'payday': 1.0, 'advanced': 1.0, 'actress': 1.0, 'included': 1.0, 'hiatus': 1.0, 'beer': 1.0, 'conflicts': 1.0, 'xenia': 1.0, 'a': 2.0, 'commissioner': 1.0, 'known': 1.0, 'studying': 1.0, 'movie': 1.0, 'character': 1.0, 'german': 4.0, 'the': 25.0, 'of': 7.0, 'ranked': 1.0, 'gap': 1.0, 'drama': 1.0, 'habermann': 1.0, '17': 1.0, 'commit': 1.0, 'appearing': 1.0, '1976': 1.0, 'felicitas': 1.0, 'ard': 1.0, 'leah': 1.0, 'who': 2.0, 'school': 1.0, 'graduation': 1.0, 'pumuckl': 1.0, '1': 1.0, 'fear': 1.0, 'rebecca': 1.0, '16': 1.0, 'series': 6.0, 'has': 1.0, 'well': 1.0, 'orourke': 1.0, 'olivia': 1.0, 'senior': 1.0, 'appeared': 2.0, 'bellringer': 1.0, 'scheduling': 1.0, '1999': 1.0, 'deal': 1.0, 'she': 14.0, 'fire': 1.0, 'played': 3.0, 'zev': 1.0, 'broadcast': 1.0, 'in': 16.0, 'placement': 1.0, 'numerous': 1.0, 'best': 1.0, 'schedule': 1.0, 'and': 11.0, 'monkey': 1.0, 'black': 1.0, 'soon': 1.0, 'promises': 1.0, 'however': 1.0, 'tv': 5.0, 'dancing': 1.0, 'cans': 1.0, 'episodes': 2.0, 'other': 1.0, 'ultimately': 2.0, 'playing': 1.0, 'eva': 3.0, 'lessons': 2.0, 'after': 1.0, 'write': 1.0, 'obtained': 1.0, 'first': 3.0, '1997': 1.0, 'diploma': 1.0, 'received': 1.0, 'also': 1.0, 'moderated': 1.0, 'season': 2.0, 'children': 1.0, 'diehlin': 1.0, 'on': 2.0, '19951996while': 1.0, 'between': 2.0, 'thus': 1.0, 'films': 1.0, 'seasons': 2.0, '2': 1.0, 'only': 1.0, 'zdf': 1.0, 'by': 2.0, 'roth': 1.0, 'beach': 1.0, 'january': 1.0, 'club': 1.0, 'unable': 1.0, 'as': 4.0, 'high': 1.0, 'to': 6.0, 'rosamunde': 1.0, 'twoyear': 1.0, 'film': 2.0, 'two': 3.0, 'sisters': 1.0, 'born': 1.0, 'rosa': 1.0, 'due': 1.0, 'comedy': 1.0, 'pilcher': 1.0, 'second': 2.0, 'show': 1.0, 'singing': 1.0, 'with': 3.0}, {'table': 1.0, 'top': 1.0, 'against': 1.0, 'fixture': 1.0, 'boxing': 1.0, 'charge': 1.0, 'unitedon': 1.0, 'cambridge': 1.0, 'quinn': 1.0, 'september': 1.0, 'knee': 1.0, 'persistent': 1.0, 'due': 1.0, 'retired': 1.0, 'licence': 1.0, 'wembley': 1.0, 'playoff': 1.0, 'winning': 1.0, 'matches': 1.0, '122': 1.0, 'next': 1.0, 'gained': 1.0, '199798': 1.0, '1995castle': 1.0, '199394': 1.0, '2011': 1.0, 'transferring': 1.0, 'clubs': 1.0, 'taken': 1.0, 'alltime': 1.0, 'mccall': 1.0, 'partner': 1.0, 'alongside': 1.0, 'back': 1.0, 'intimate': 1.0, 'foot': 1.0, 'allaction': 1.0, 'boy': 1.0, 'golden': 1.0, 'parks': 1.0, 'became': 3.0, 'super': 1.0, 'dunstable': 1.0, 'favourite': 1.0, 'stevie': 1.0, 'advice': 1.0, 'denis': 1.0, 'relegation': 1.0, 'following': 2.0, 'relationship': 1.0, 'new': 1.0, 'uefa': 1.0, 'birmingham': 2.0, 'seeking': 1.0, 'with': 4.0, 'gould': 1.0, 'jimmy': 1.0, 'captainhe': 1.0, 'ever': 1.0, 'orients': 1.0, 'continued': 1.0, 'voted': 1.0, 'athletic': 1.0, 'xi': 1.0, 'poll': 2.0, 'his': 13.0, 'year': 2.0, 'team': 2.0, 'director': 1.0, 'indeed': 1.0, 'on': 5.0, 'developed': 1.0, 'secondhalf': 1.0, 'division': 2.0, 'third': 1.0, 'pfa': 2.0, '2014': 1.0, 'named': 3.0, 'halftime': 1.0, 'shilton': 1.0, 'was': 6.0, 'took': 1.0, 'coaching': 1.0, 'win': 1.0, '2001': 1.0, 'wigan': 1.0, 'also': 1.0, '1984': 1.0, 'career': 1.0, '2006': 1.0, 'the': 26.0, 'attention': 1.0, 'of': 11.0, 'barnstorming': 1.0, 'castle': 8.0, 'minutes': 1.0, 'for': 6.0, 'english': 1.0, '32': 1.0, 'senior': 1.0, 'may': 1.0, 'manager': 3.0, 'in': 22.0, 'liverpool': 1.0, 'duly': 1.0, 'scout': 1.0, 'born': 1.0, 'former': 1.0, 'newlook': 1.0, 'vein': 1.0, 'he': 10.0, 'castles': 1.0, 'barking': 1.0, 'general': 1.0, '1966': 1.0, 'league': 2.0, 'steve': 2.0, 'road': 1.0, 'kenny': 1.0, 'is': 1.0, 'city': 2.0, 'football': 3.0, 'late': 1.0, 'goals': 3.0, 'playercoach': 1.0, 'a': 19.0, 'december': 2.0, 'greatest': 1.0, 'one': 2.0, 'leyton': 2.0, 'rally': 1.0, 'attracted': 1.0, 'fine': 1.0, 'orient': 3.0, '16': 1.0, '1992': 1.0, 'from': 1.0, 'who': 1.0, 'first': 1.0, 'injuryin': 1.0, '12': 1.0, 'three': 3.0, 'eventually': 1.0, 'total': 1.0, 'between': 1.0, 'tier': 1.0, 'gillingham': 1.0, 'second': 2.0, 'peterborough': 2.0, 'to': 13.0, 'as': 5.0, 'injured': 1.0, 'amassing': 1.0, 'left': 2.0, 'highlights': 1.0, 'free': 2.0, '322': 1.0, 'twitter': 1.0, 'enough': 1.0, 'appearances': 1.0, 'place': 1.0, 'unitedplymouth': 1.0, 'them': 1.0, 'plymouth': 1.0, 'at': 6.0, 'target': 1.0, 'before': 1.0, 'style': 2.0, 'boss': 2.0, '2013': 1.0, 'combative': 1.0, 'worth': 1.0, '13th': 1.0, 'an': 2.0, '22': 1.0, 'dalglish': 1.0, 'thanks': 1.0, 'angilley': 1.0, 'undisputed': 2.0, 'county': 1.0, 'wimbledon': 1.0, 'had': 2.0, 'ending': 1.0, 'bobby': 1.0, 'paid': 1.0, 'midfielder': 1.0, 'brisbane': 1.0, 'instructing': 1.0, 'midfield': 3.0, 'start': 1.0, '17': 1.0, 'negotiations': 1.0, 'seen': 1.0, '225000': 1.0, 'transfer': 2.0, 'fee': 1.0, 'final': 3.0, 'headed': 1.0, 'marched': 1.0, 'by': 2.0, 'website': 1.0, 'were': 1.0, 'promptly': 1.0, 'separate': 1.0, 'preseason': 1.0, 'argyle': 7.0, 'park': 1.0, 'but': 1.0, 'personal': 1.0, 'played': 4.0, 'friendly': 1.0, 'action': 1.0, 'fans': 2.0, '199091': 1.0, 'would': 1.0, 'royston': 1.0, 'joined': 1.0, 'have': 1.0, 'day': 1.0, 'meaningful': 1.0, 'expected': 1.0, 'town': 2.0, 'wait': 2.0, 'notched': 1.0, 'end': 1.0, 'until': 1.0, 'game': 3.0, 'see': 1.0, 'october': 1.0, 'their': 1.0, 'season': 5.0, 'marvel': 1.0, 'turned': 1.0, 'victory': 1.0, 'out': 1.0, '200001': 1.0, 'own': 1.0, 'it': 1.0, 'be': 2.0, '1993': 1.0, 'well': 1.0, 'scored': 2.0, 'debut': 1.0, 'saw': 1.0, '20': 2.0, 'that': 2.0, 'vs': 1.0, 'seasons': 2.0, 'up': 1.0, 'more': 1.0, 'similar': 1.0, 'campaign': 1.0, 'playoffs': 1.0, 'home': 3.0, 'incidentally': 1.0, 'peter': 1.0, 'bagging': 1.0, 'hattrick': 1.0, 'assistant': 1.0, 'squad': 1.0, 'highlight': 1.0, 'stockport': 1.0, 'over': 1.0, 'christmas': 1.0, 'six': 1.0, 'moved': 1.0, 'recordbreaking': 1.0, 'astonishing': 1.0, 'feat': 1.0, 'spells': 1.0, 'confirmed': 1.0, 'net': 1.0, 'and': 12.0, 'firm': 1.0}, {'voltaires': 1.0, '2014': 1.0, 'album': 2.0, 'needles': 1.0, 'everyday': 1.0, 'track': 1.0, 'cover': 1.0, 'show': 1.0, 'judge': 1.0, 'guest': 1.0, 'as': 1.0, 'october': 1.0, 'hollywood': 1.0, 'resides': 1.0, 'appearance': 1.0, 'cameo': 1.0, 'armens': 1.0, 'network': 1.0, 'representing': 1.0, 'showcases': 1.0, 'records': 1.0, 'bats': 1.0, 'fork': 1.0, 'bowl': 1.0, 'released': 1.0, 'cd': 1.0, 'logo': 1.0, 'songs': 1.0, 'solo': 1.0, 'variet': 1.0, 'release': 1.0, '2010': 3.0, 'madness': 1.0, 'song': 1.0, 'almond': 1.0, 'collaboration': 1.0, 'bands': 1.0, 'performed': 1.0, 'including': 1.0, 'glamourhe': 1.0, 'stone': 1.0, 'rolling': 1.0, 'village': 1.0, 'musical': 1.0, 'my': 1.0, 'post': 1.0, 'times': 1.0, 'king': 1.0, 'currently': 1.0, 'party': 1.0, 'melodic': 1.0, 'known': 1.0, 'instrumentation': 1.0, 'debut': 1.0, 'hbo': 1.0, 'armenian': 2.0, 'recorded': 1.0, 'combination': 1.0, 'konzerthaus': 1.0, 'along': 1.0, 'boulder': 1.0, 'folk': 2.0, 'play': 1.0, 'master': 1.0, 'hotel': 1.0, 'ikebana': 1.0, 'cnn': 1.0, 'american': 1.0, 'concerts': 1.0, 'theremin': 4.0, 'factory': 1.0, 'museum': 2.0, 'new': 2.0, 'performer': 1.0, 'pg13': 1.0, 'iran': 1.0, 'taught': 1.0, 'mother': 1.0, 'playing': 1.0, 'californiain': 1.0, 'an': 2.0, 'a': 4.0, 'i': 1.0, 'british': 1.0, 'la': 1.0, 'descent': 1.0, 'influence': 1.0, 'dietch': 1.0, 'arias': 1.0, 'laments': 1.0, 'ra': 2.0, 'first': 1.0, 'are': 1.0, 'marc': 1.0, 'armen': 2.0, 'vh1': 1.0, 'standards': 1.0, 'tehran': 1.0, 'vienna': 1.0, 'fuses': 1.0, 'singer': 1.0, 'opera': 1.0, 'monsterhe': 1.0, 'various': 1.0, 'born': 1.0, 'aunt': 1.0, 'played': 2.0, 'classical': 2.0, 'in': 6.0, 'to': 1.0, 'from': 1.0, 'recording': 1.0, 'voice': 1.0, 'mama': 1.0, 'center': 1.0, 'was': 1.0, 'many': 2.0, 'raised': 2.0, 'concert': 1.0, 'arts': 1.0, 'by': 2.0, 'arrangementra': 1.0, 'film': 1.0, 'music': 2.0, 'his': 8.0, 'for': 3.0, 'very': 1.0, 'plays': 1.0, 'himself': 1.0, 'art': 1.0, 'their': 1.0, 'pianist': 1.0, 'projects': 2.0, 'lounge': 1.0, 'visual': 1.0, 'iranianarmenian': 1.0, 'musicarmen': 1.0, 'has': 4.0, 'halloween': 1.0, 'is': 2.0, 'at': 1.0, 'of': 3.0, 'the': 13.0, 'he': 5.0, 'united': 1.0, 'artist': 2.0, 'nations': 1.0, 'with': 4.0, 'wiener': 1.0, 'mozartsaal': 1.0, 'heritage': 1.0, 'knitting': 1.0, 'etc': 1.0, 'sharon': 1.0, 'both': 2.0, 'lincoln': 1.0, 'and': 12.0, 'bb': 1.0, 'joes': 1.0, 'cbgbs': 1.0, 'appeared': 3.0, 'gershwin': 1.0, 'been': 1.0, 'pub': 1.0, 'featured': 1.0, 'on': 6.0, 'modern': 2.0, 'mtv': 1.0, 'vogue': 1.0, 'york': 2.0}, {'by': 1.0, 'barony': 1.0, 'presumptive': 1.0, 'heir': 1.0, 'josiehe': 1.0, 'katie': 1.0, 'amy': 1.0, 'have': 1.0, 'schoettle': 1.0, 'anne': 2.0, 'our': 1.0, 'days': 1.0, 'wife': 1.0, 'nanny': 1.0, 'los': 1.0, 'show': 1.0, 'sheffield': 1.0, 'maxwell': 1.0, 'charles': 1.0, 'brother': 2.0, 'older': 1.0, 'which': 1.0, 'writer': 2.0, 'as': 2.0, 'known': 2.0, 'perform': 1.0, 'then': 1.0, 'on': 4.0, 'his': 4.0, 'around': 2.0, 'vic': 1.0, 'theatres': 1.0, 'to': 4.0, 'college': 1.0, 'repertory': 1.0, 'series': 1.0, 'eton': 1.0, 'he': 7.0, 'speech': 1.0, 'live': 1.0, 'geoffrey': 1.0, 'held': 1.0, 'lives': 1.0, 'gameshis': 1.0, 'went': 2.0, 'london': 2.0, 'uk': 2.0, 'also': 2.0, 'director': 2.0, 'become': 1.0, 'spelled': 1.0, 'a': 5.0, 'shaughnessey': 1.0, 'producer': 4.0, 'of': 5.0, 'the': 16.0, 'directs': 1.0, 'touring': 1.0, 'world': 1.0, 'television': 4.0, 'britishborn': 1.0, 'wade': 1.0, 'young': 1.0, 'actor': 3.0, 'james': 1.0, 'restless': 1.0, 'former': 1.0, 'david': 2.0, 'and': 18.0, 'shaughnessy': 4.0, 'central': 1.0, 'executive': 1.0, 'becoming': 1.0, 'directing': 1.0, 'beautiful': 1.0, 'principal': 1.0, 'father': 1.0, 'is': 6.0, 'at': 1.0, 'old': 1.0, 'movies': 1.0, 'upstairs': 1.0, 'school': 1.0, 'educated': 1.0, 'turned': 1.0, 'downstairs': 1.0, 'with': 2.0, 'company': 1.0, 'in': 7.0, 'national': 1.0, 'for': 5.0, 'including': 1.0, '18': 1.0, 'moved': 1.0, 'months': 1.0, 'tours': 1.0, 'godspell': 1.0, 'mackintosh': 1.0, 'acted': 1.0, 'both': 1.0, 'best': 2.0, 'uslater': 1.0, 'head': 1.0, 'cartoons': 1.0, 'three': 1.0, 'drama': 2.0, 'into': 1.0, 'producing': 1.0, 'all': 1.0, 'ultimately': 1.0, 'developing': 1.0, 'commercials': 1.0, 'angeles': 1.0, 'now': 1.0, 'bold': 1.0, 'freelance': 1.0, 'basis': 1.0, 'theatre': 3.0, 'while': 1.0, 'daytime': 1.0, 'seen': 1.0, 'started': 1.0, 'voiceovers': 1.0, 'service': 1.0, 'daughters': 1.0, 'actors': 1.0, 'work': 1.0, 'provides': 1.0, 'cameron': 1.0, 'films': 1.0, 'video': 1.0, 'was': 2.0, 'alfred': 1.0, 'scriptwriter': 1.0}, {'they': 1.0, 'said': 1.0, 'someone': 2.0, 'instead': 1.0, 'better': 1.0, 'got': 1.0, 'happy': 1.0, 'very': 1.0, 'that': 3.0, 'vancouver': 2.0, 'told': 1.0, 'having': 1.0, 'liberals': 1.0, 'criticized': 1.0, 'however': 1.0, 'criticism': 1.0, 'offer': 1.0, 'accepted': 1.0, 'harpers': 1.0, 'serving': 1.0, 'leftleaning': 1.0, 'floor': 1.0, 'about': 1.0, 'emerson': 3.0, 'liberal': 1.0, 'approach': 1.0, 'resulted': 1.0, 'firestorm': 1.0, 'which': 2.0, 'coordinator': 1.0, 'election': 2.0, 'claimed': 1.0, 'retirement': 1.0, 'but': 1.0, '2005': 1.0, '24': 1.0, 'new': 2.0, 'stephen': 1.0, 'chosen': 1.0, 'named': 1.0, 'conservative': 3.0, 'leader': 5.0, 'bargain': 1.0, 'triggered': 1.0, 'chuck': 1.0, 'switch': 1.0, 'caucus': 1.0, 'revolt': 1.0, 'continued': 1.0, 'faced': 1.0, 'federal': 1.0, 'day': 3.0, 'crossing': 1.0, 'stockwell': 1.0, '1990s': 1.0, '1980s': 1.0, 'interim': 1.0, '1942': 1.0, 'minority': 1.0, '1970s': 1.0, 'strongly': 1.0, 'had': 2.0, 'and': 10.0, 'mp': 3.0, '2006': 2.0, 'politician': 1.0, 'role': 1.0, 'newspaper': 1.0, 'belinda': 1.0, 'as': 13.0, 'to': 6.0, 'from': 2.0, 'clarks': 1.0, 'an': 1.0, 'resigned': 4.0, 'people': 1.0, 'harper': 2.0, 'house': 3.0, '1974': 1.0, 'convention': 1.0, 'leadership': 1.0, 'been': 1.0, 'vancouversunshine': 1.0, 'columbia': 4.0, 'first': 1.0, 'he': 11.0, '19': 1.0, 'west': 1.0, 'who': 2.0, 'parliament': 3.0, 'reynolds': 5.0, 'after': 2.0, 'stronachs': 1.0, 'assembly': 1.0, 'the': 25.0, 'of': 13.0, 'country': 1.0, 'social': 2.0, 'provincial': 2.0, 'january': 2.0, 'government': 3.0, 'a': 13.0, 'coastsea': 1.0, 'end': 1.0, 'emersons': 1.0, 'pc': 1.0, 'douglas': 1.0, 'member': 1.0, 'in': 22.0, 'asked': 1.0, 'reelected': 1.0, 'suburban': 1.0, 'david': 1.0, 'born': 1.0, 'leaderreynolds': 1.0, 'canadian': 2.0, 'john': 1.0, 'for': 3.0, 'candidate': 2.0, 'conservatives': 2.0, '1997': 2.0, 'also': 1.0, 'into': 1.0, 'riding': 3.0, 'was': 13.0, 'sky': 1.0, 'progressive': 1.0, 'active': 1.0, 'whip': 1.0, 'alliance': 2.0, 'disagreeing': 1.0, 'with': 1.0, 'eventually': 1.0, 'joe': 1.0, 'place': 1.0, 'party': 4.0, 'policiesbeginning': 1.0, 'tory': 1.0, '1983': 1.0, 'remained': 2.0, 'until': 3.0, 'served': 3.0, 'have': 1.0, 'credit': 2.0, '1977': 1.0, 'speaker': 1.0, 'legislative': 1.0, 'cabinet': 2.0, 'on': 2.0, 'minister': 4.0, 'defeated': 1.0, '1986': 1.0, 'is': 1.0, 'at': 2.0, 'british': 4.0, 'well': 1.0, 'coming': 1.0, '1991': 1.0, 'fifth': 1.0, 'strahl': 1.0, 'politics': 1.0, 'when': 4.0, 'folded': 1.0, 'commons': 1.0, 'his': 5.0, 'bid': 1.0, '2001': 1.0, 'elected': 2.0, 'opposition': 3.0, 'reelectionreynolds': 1.0, '1972': 1.0, 'returned': 1.0, 'campaign': 1.0, 'reform': 2.0, 'red': 1.0, 'chief': 1.0, 'this': 1.0}, {'onfield': 1.0, 'amputated': 1.0, 'lower': 1.0, 'infection': 1.0, 'gangrene': 1.0, 'onset': 1.0, 'scoresby': 1.0, '2001': 1.0, 'his': 3.0, 'noted': 1.0, 'with': 1.0, 'leg': 2.0, 'fine': 1.0, 'managed': 1.0, 'expected': 1.0, 'progress': 1.0, 'midfielder': 1.0, 'carltona': 1.0, '16': 1.0, 'kicks': 1.0, 'disposals': 1.0, '39': 1.0, 'didnt': 1.0, 'record': 1.0, 'compiled': 1.0, 'age': 1.0, 'nearly': 1.0, 'debut': 1.0, 'on': 1.0, 'kilda': 2.0, 'end': 1.0, 'its': 3.0, 'only': 1.0, 'released': 1.0, 'years': 1.0, 'retain': 1.0, 'did': 1.0, '1985': 2.0, 'winless': 1.0, 'this': 1.0, '23': 2.0, 'fairest': 1.0, 'captaining': 1.0, 'best': 1.0, 'winning': 1.0, 'rules': 1.0, 'brice': 1.0, 'against': 1.0, 'to': 6.0, 'as': 2.0, 'team': 1.0, 'season': 1.0, 'during': 1.0, 'not': 2.0, 'leaguegreig': 1.0, 'at': 3.0, 'is': 1.0, 'despite': 1.0, 'votes': 1.0, 'suffered': 1.0, 'wish': 1.0, '31': 1.0, 'a': 5.0, 'football': 7.0, 'october': 1.0, 'described': 1.0, 'some': 1.0, 'handballs': 1.0, 'played': 2.0, 'handballin': 1.0, 'hawthorn': 2.0, 'under': 1.0, 'camberwell': 2.0, 'following': 1.0, '19s': 1.0, 'it': 1.0, 'him': 2.0, 'built': 1.0, 'be': 1.0, 'after': 1.0, 'griegs': 1.0, 'in': 10.0, 'shining': 1.0, 'for': 4.0, 'and': 6.0, 'creative': 1.0, 'greig': 1.0, 'award': 1.0, 'the': 15.0, 'of': 3.0, 'st': 2.0, 'he': 5.0, 'trialled': 1.0, 'nine': 1.0, 'collingwood': 1.0, 'preseason': 1.0, 'but': 1.0, 'was': 3.0, 'also': 1.0, 'due': 1.0, 'suburban': 1.0, 'former': 1.0, 'born': 1.0, 'recruited': 2.0, 'last': 1.0, 'senior': 1.0, '1980s': 1.0, 'listin': 1.0, '1990': 2.0, 'ailing': 1.0, '1991': 2.0, 'turned': 1.0, 'club': 3.0, 'polled': 1.0, 'australian': 3.0, 'ten': 1.0, 'grieg': 1.0, 'j': 2.0, 'broken': 1.0, 'whilst': 1.0, 'liston': 1.0, 'dean': 1.0, 'footballer': 1.0, 'trophy': 1.0, 'round': 1.0, 'games': 2.0, '21': 1.0, 'vfl': 2.0, 'changed': 1.0, 'an': 1.0, 'playing': 1.0, 'coach': 1.0, 'victorian': 2.0, 'name': 1.0, 'gary': 1.0, 'out': 1.0, 'performances': 1.0, '1968': 1.0, 'sole': 1.0, 'light': 1.0, 'by': 1.0, 'which': 2.0, 'clubs': 1.0, 'mishap': 1.0, 'association': 1.0, 'league': 3.0, 'vfagrieg': 1.0, 'nevertheless': 1.0, 'subsequently': 1.0, 'strongly': 1.0, 'had': 2.0}, ... ]"
      ]
     },
     "execution_count": 25,
     "metadata": {},
     "output_type": "execute_result"
    }
   ],
   "source": [
    "clooney['word_count']"
   ]
  },
  {
   "cell_type": "code",
   "execution_count": 49,
   "metadata": {},
   "outputs": [],
   "source": [
    "clooney_word_count_table  = clooney[['word_count']].stack('word_count',new_column_name=['word','count'])"
   ]
  },
  {
   "cell_type": "code",
   "execution_count": 32,
   "metadata": {},
   "outputs": [
    {
     "data": {
      "text/html": [
       "<div style=\"max-height:1000px;max-width:1500px;overflow:auto;\"><table frame=\"box\" rules=\"cols\">\n",
       "    <tr>\n",
       "        <th style=\"padding-left: 1em; padding-right: 1em; text-align: center\">word</th>\n",
       "        <th style=\"padding-left: 1em; padding-right: 1em; text-align: center\">count</th>\n",
       "    </tr>\n",
       "    <tr>\n",
       "        <td style=\"padding-left: 1em; padding-right: 1em; text-align: center; vertical-align: top\">melbourne</td>\n",
       "        <td style=\"padding-left: 1em; padding-right: 1em; text-align: center; vertical-align: top\">1.0</td>\n",
       "    </tr>\n",
       "    <tr>\n",
       "        <td style=\"padding-left: 1em; padding-right: 1em; text-align: center; vertical-align: top\">parade</td>\n",
       "        <td style=\"padding-left: 1em; padding-right: 1em; text-align: center; vertical-align: top\">1.0</td>\n",
       "    </tr>\n",
       "    <tr>\n",
       "        <td style=\"padding-left: 1em; padding-right: 1em; text-align: center; vertical-align: top\">education</td>\n",
       "        <td style=\"padding-left: 1em; padding-right: 1em; text-align: center; vertical-align: top\">1.0</td>\n",
       "    </tr>\n",
       "    <tr>\n",
       "        <td style=\"padding-left: 1em; padding-right: 1em; text-align: center; vertical-align: top\">physical</td>\n",
       "        <td style=\"padding-left: 1em; padding-right: 1em; text-align: center; vertical-align: top\">1.0</td>\n",
       "    </tr>\n",
       "    <tr>\n",
       "        <td style=\"padding-left: 1em; padding-right: 1em; text-align: center; vertical-align: top\">teaches</td>\n",
       "        <td style=\"padding-left: 1em; padding-right: 1em; text-align: center; vertical-align: top\">1.0</td>\n",
       "    </tr>\n",
       "    <tr>\n",
       "        <td style=\"padding-left: 1em; padding-right: 1em; text-align: center; vertical-align: top\">currently</td>\n",
       "        <td style=\"padding-left: 1em; padding-right: 1em; text-align: center; vertical-align: top\">1.0</td>\n",
       "    </tr>\n",
       "    <tr>\n",
       "        <td style=\"padding-left: 1em; padding-right: 1em; text-align: center; vertical-align: top\">also</td>\n",
       "        <td style=\"padding-left: 1em; padding-right: 1em; text-align: center; vertical-align: top\">1.0</td>\n",
       "    </tr>\n",
       "    <tr>\n",
       "        <td style=\"padding-left: 1em; padding-right: 1em; text-align: center; vertical-align: top\">coburg</td>\n",
       "        <td style=\"padding-left: 1em; padding-right: 1em; text-align: center; vertical-align: top\">1.0</td>\n",
       "    </tr>\n",
       "    <tr>\n",
       "        <td style=\"padding-left: 1em; padding-right: 1em; text-align: center; vertical-align: top\">has</td>\n",
       "        <td style=\"padding-left: 1em; padding-right: 1em; text-align: center; vertical-align: top\">1.0</td>\n",
       "    </tr>\n",
       "    <tr>\n",
       "        <td style=\"padding-left: 1em; padding-right: 1em; text-align: center; vertical-align: top\">2014</td>\n",
       "        <td style=\"padding-left: 1em; padding-right: 1em; text-align: center; vertical-align: top\">1.0</td>\n",
       "    </tr>\n",
       "</table>\n",
       "[10379283 rows x 2 columns]<br/>Note: Only the head of the SFrame is printed.<br/>You can use print_rows(num_rows=m, num_columns=n) to print more rows and columns.\n",
       "</div>"
      ],
      "text/plain": [
       "Columns:\n",
       "\tword\tstr\n",
       "\tcount\tfloat\n",
       "\n",
       "Rows: 10379283\n",
       "\n",
       "Data:\n",
       "+-----------+-------+\n",
       "|    word   | count |\n",
       "+-----------+-------+\n",
       "| melbourne |  1.0  |\n",
       "|   parade  |  1.0  |\n",
       "| education |  1.0  |\n",
       "|  physical |  1.0  |\n",
       "|  teaches  |  1.0  |\n",
       "| currently |  1.0  |\n",
       "|    also   |  1.0  |\n",
       "|   coburg  |  1.0  |\n",
       "|    has    |  1.0  |\n",
       "|    2014   |  1.0  |\n",
       "+-----------+-------+\n",
       "[10379283 rows x 2 columns]\n",
       "Note: Only the head of the SFrame is printed.\n",
       "You can use print_rows(num_rows=m, num_columns=n) to print more rows and columns."
      ]
     },
     "execution_count": 32,
     "metadata": {},
     "output_type": "execute_result"
    }
   ],
   "source": [
    "clooney_word_count_table"
   ]
  },
  {
   "cell_type": "code",
   "execution_count": 11,
   "metadata": {},
   "outputs": [
    {
     "ename": "NameError",
     "evalue": "name 'clooney_word_count_table' is not defined",
     "output_type": "error",
     "traceback": [
      "\u001b[0;31m---------------------------------------------------------------------------\u001b[0m",
      "\u001b[0;31mNameError\u001b[0m                                 Traceback (most recent call last)",
      "\u001b[0;32m<ipython-input-11-adfa38bcd9a9>\u001b[0m in \u001b[0;36m<module>\u001b[0;34m\u001b[0m\n\u001b[0;32m----> 1\u001b[0;31m \u001b[0mclooney_word_count_table\u001b[0m\u001b[0;34m.\u001b[0m\u001b[0msort\u001b[0m\u001b[0;34m(\u001b[0m\u001b[0;34m'count'\u001b[0m\u001b[0;34m,\u001b[0m\u001b[0mascending\u001b[0m\u001b[0;34m=\u001b[0m\u001b[0;32mFalse\u001b[0m\u001b[0;34m)\u001b[0m\u001b[0;34m\u001b[0m\u001b[0;34m\u001b[0m\u001b[0m\n\u001b[0m",
      "\u001b[0;31mNameError\u001b[0m: name 'clooney_word_count_table' is not defined"
     ]
    }
   ],
   "source": [
    "clooney_word_count_table.sort('count',ascending=False)\n"
   ]
  },
  {
   "cell_type": "code",
   "execution_count": 20,
   "metadata": {},
   "outputs": [
    {
     "data": {
      "text/html": [
       "<div style=\"max-height:1000px;max-width:1500px;overflow:auto;\"><table frame=\"box\" rules=\"cols\">\n",
       "    <tr>\n",
       "        <th style=\"padding-left: 1em; padding-right: 1em; text-align: center\">word</th>\n",
       "        <th style=\"padding-left: 1em; padding-right: 1em; text-align: center\">count</th>\n",
       "    </tr>\n",
       "    <tr>\n",
       "        <td style=\"padding-left: 1em; padding-right: 1em; text-align: center; vertical-align: top\">the</td>\n",
       "        <td style=\"padding-left: 1em; padding-right: 1em; text-align: center; vertical-align: top\">442.0</td>\n",
       "    </tr>\n",
       "    <tr>\n",
       "        <td style=\"padding-left: 1em; padding-right: 1em; text-align: center; vertical-align: top\">the</td>\n",
       "        <td style=\"padding-left: 1em; padding-right: 1em; text-align: center; vertical-align: top\">246.0</td>\n",
       "    </tr>\n",
       "    <tr>\n",
       "        <td style=\"padding-left: 1em; padding-right: 1em; text-align: center; vertical-align: top\">in</td>\n",
       "        <td style=\"padding-left: 1em; padding-right: 1em; text-align: center; vertical-align: top\">245.0</td>\n",
       "    </tr>\n",
       "    <tr>\n",
       "        <td style=\"padding-left: 1em; padding-right: 1em; text-align: center; vertical-align: top\">the</td>\n",
       "        <td style=\"padding-left: 1em; padding-right: 1em; text-align: center; vertical-align: top\">210.0</td>\n",
       "    </tr>\n",
       "    <tr>\n",
       "        <td style=\"padding-left: 1em; padding-right: 1em; text-align: center; vertical-align: top\">of</td>\n",
       "        <td style=\"padding-left: 1em; padding-right: 1em; text-align: center; vertical-align: top\">209.0</td>\n",
       "    </tr>\n",
       "    <tr>\n",
       "        <td style=\"padding-left: 1em; padding-right: 1em; text-align: center; vertical-align: top\">of</td>\n",
       "        <td style=\"padding-left: 1em; padding-right: 1em; text-align: center; vertical-align: top\">174.0</td>\n",
       "    </tr>\n",
       "    <tr>\n",
       "        <td style=\"padding-left: 1em; padding-right: 1em; text-align: center; vertical-align: top\">the</td>\n",
       "        <td style=\"padding-left: 1em; padding-right: 1em; text-align: center; vertical-align: top\">173.0</td>\n",
       "    </tr>\n",
       "    <tr>\n",
       "        <td style=\"padding-left: 1em; padding-right: 1em; text-align: center; vertical-align: top\">de</td>\n",
       "        <td style=\"padding-left: 1em; padding-right: 1em; text-align: center; vertical-align: top\">165.0</td>\n",
       "    </tr>\n",
       "    <tr>\n",
       "        <td style=\"padding-left: 1em; padding-right: 1em; text-align: center; vertical-align: top\">and</td>\n",
       "        <td style=\"padding-left: 1em; padding-right: 1em; text-align: center; vertical-align: top\">164.0</td>\n",
       "    </tr>\n",
       "    <tr>\n",
       "        <td style=\"padding-left: 1em; padding-right: 1em; text-align: center; vertical-align: top\">the</td>\n",
       "        <td style=\"padding-left: 1em; padding-right: 1em; text-align: center; vertical-align: top\">151.0</td>\n",
       "    </tr>\n",
       "</table>\n",
       "[10379283 rows x 2 columns]<br/>Note: Only the head of the SFrame is printed.<br/>You can use print_rows(num_rows=m, num_columns=n) to print more rows and columns.\n",
       "</div>"
      ],
      "text/plain": [
       "Columns:\n",
       "\tword\tstr\n",
       "\tcount\tfloat\n",
       "\n",
       "Rows: 10379283\n",
       "\n",
       "Data:\n",
       "+------+-------+\n",
       "| word | count |\n",
       "+------+-------+\n",
       "| the  | 442.0 |\n",
       "| the  | 246.0 |\n",
       "|  in  | 245.0 |\n",
       "| the  | 210.0 |\n",
       "|  of  | 209.0 |\n",
       "|  of  | 174.0 |\n",
       "| the  | 173.0 |\n",
       "|  de  | 165.0 |\n",
       "| and  | 164.0 |\n",
       "| the  | 151.0 |\n",
       "+------+-------+\n",
       "[10379283 rows x 2 columns]\n",
       "Note: Only the head of the SFrame is printed.\n",
       "You can use print_rows(num_rows=m, num_columns=n) to print more rows and columns."
      ]
     },
     "execution_count": 20,
     "metadata": {},
     "output_type": "execute_result"
    }
   ],
   "source": [
    "# clooney_word_count_table.sort('count',ascending=False)"
   ]
  },
  {
   "cell_type": "code",
   "execution_count": null,
   "metadata": {},
   "outputs": [],
   "source": [
    "# print_rows(num_rows=(clooney_word_count_table.sort('count',ascending=False)"
   ]
  },
  {
   "cell_type": "code",
   "execution_count": 50,
   "metadata": {},
   "outputs": [],
   "source": [
    "people['word_count'] = turicreate.text_analytics.count_words(people['text'])"
   ]
  },
  {
   "cell_type": "code",
   "execution_count": 37,
   "metadata": {},
   "outputs": [
    {
     "data": {
      "text/html": [
       "<div style=\"max-height:1000px;max-width:1500px;overflow:auto;\"><table frame=\"box\" rules=\"cols\">\n",
       "    <tr>\n",
       "        <th style=\"padding-left: 1em; padding-right: 1em; text-align: center\">URI</th>\n",
       "        <th style=\"padding-left: 1em; padding-right: 1em; text-align: center\">name</th>\n",
       "        <th style=\"padding-left: 1em; padding-right: 1em; text-align: center\">text</th>\n",
       "        <th style=\"padding-left: 1em; padding-right: 1em; text-align: center\">tfidf</th>\n",
       "    </tr>\n",
       "    <tr>\n",
       "        <td style=\"padding-left: 1em; padding-right: 1em; text-align: center; vertical-align: top\">&lt;http://dbpedia.org/resou<br>rce/Digby_Morrell&gt; ...</td>\n",
       "        <td style=\"padding-left: 1em; padding-right: 1em; text-align: center; vertical-align: top\">Digby Morrell</td>\n",
       "        <td style=\"padding-left: 1em; padding-right: 1em; text-align: center; vertical-align: top\">digby morrell born 10<br>october 1979 is a former ...</td>\n",
       "        <td style=\"padding-left: 1em; padding-right: 1em; text-align: center; vertical-align: top\">{&#x27;melbourne&#x27;:<br>3.8914310119380633, ...</td>\n",
       "    </tr>\n",
       "    <tr>\n",
       "        <td style=\"padding-left: 1em; padding-right: 1em; text-align: center; vertical-align: top\">&lt;http://dbpedia.org/resou<br>rce/Alfred_J._Lewy&gt; ...</td>\n",
       "        <td style=\"padding-left: 1em; padding-right: 1em; text-align: center; vertical-align: top\">Alfred J. Lewy</td>\n",
       "        <td style=\"padding-left: 1em; padding-right: 1em; text-align: center; vertical-align: top\">alfred j lewy aka sandy<br>lewy graduated from ...</td>\n",
       "        <td style=\"padding-left: 1em; padding-right: 1em; text-align: center; vertical-align: top\">{&#x27;time&#x27;:<br>1.3253342074200498, ...</td>\n",
       "    </tr>\n",
       "    <tr>\n",
       "        <td style=\"padding-left: 1em; padding-right: 1em; text-align: center; vertical-align: top\">&lt;http://dbpedia.org/resou<br>rce/Harpdog_Brown&gt; ...</td>\n",
       "        <td style=\"padding-left: 1em; padding-right: 1em; text-align: center; vertical-align: top\">Harpdog Brown</td>\n",
       "        <td style=\"padding-left: 1em; padding-right: 1em; text-align: center; vertical-align: top\">harpdog brown is a singer<br>and harmonica player who ...</td>\n",
       "        <td style=\"padding-left: 1em; padding-right: 1em; text-align: center; vertical-align: top\">{&#x27;society&#x27;:<br>2.4448047262085693, ...</td>\n",
       "    </tr>\n",
       "    <tr>\n",
       "        <td style=\"padding-left: 1em; padding-right: 1em; text-align: center; vertical-align: top\">&lt;http://dbpedia.org/resou<br>rce/Franz_Rottensteiner&gt; ...</td>\n",
       "        <td style=\"padding-left: 1em; padding-right: 1em; text-align: center; vertical-align: top\">Franz Rottensteiner</td>\n",
       "        <td style=\"padding-left: 1em; padding-right: 1em; text-align: center; vertical-align: top\">franz rottensteiner born<br>in waidmannsfeld lower ...</td>\n",
       "        <td style=\"padding-left: 1em; padding-right: 1em; text-align: center; vertical-align: top\">{&#x27;kurdlawitzpreis&#x27;:<br>10.986495389225194, ...</td>\n",
       "    </tr>\n",
       "    <tr>\n",
       "        <td style=\"padding-left: 1em; padding-right: 1em; text-align: center; vertical-align: top\">&lt;http://dbpedia.org/resou<br>rce/G-Enka&gt; ...</td>\n",
       "        <td style=\"padding-left: 1em; padding-right: 1em; text-align: center; vertical-align: top\">G-Enka</td>\n",
       "        <td style=\"padding-left: 1em; padding-right: 1em; text-align: center; vertical-align: top\">henry krvits born 30<br>december 1974 in tallinn ...</td>\n",
       "        <td style=\"padding-left: 1em; padding-right: 1em; text-align: center; vertical-align: top\">{&#x27;curtis&#x27;:<br>5.299520032885375, ...</td>\n",
       "    </tr>\n",
       "    <tr>\n",
       "        <td style=\"padding-left: 1em; padding-right: 1em; text-align: center; vertical-align: top\">&lt;http://dbpedia.org/resou<br>rce/Sam_Henderson&gt; ...</td>\n",
       "        <td style=\"padding-left: 1em; padding-right: 1em; text-align: center; vertical-align: top\">Sam Henderson</td>\n",
       "        <td style=\"padding-left: 1em; padding-right: 1em; text-align: center; vertical-align: top\">sam henderson born<br>october 18 1969 is an ...</td>\n",
       "        <td style=\"padding-left: 1em; padding-right: 1em; text-align: center; vertical-align: top\">{&#x27;asses&#x27;:<br>9.600201028105303, &#x27;s ...</td>\n",
       "    </tr>\n",
       "    <tr>\n",
       "        <td style=\"padding-left: 1em; padding-right: 1em; text-align: center; vertical-align: top\">&lt;http://dbpedia.org/resou<br>rce/Aaron_LaCrate&gt; ...</td>\n",
       "        <td style=\"padding-left: 1em; padding-right: 1em; text-align: center; vertical-align: top\">Aaron LaCrate</td>\n",
       "        <td style=\"padding-left: 1em; padding-right: 1em; text-align: center; vertical-align: top\">aaron lacrate is an<br>american music producer ...</td>\n",
       "        <td style=\"padding-left: 1em; padding-right: 1em; text-align: center; vertical-align: top\">{&#x27;streamz&#x27;:<br>10.986495389225194, ...</td>\n",
       "    </tr>\n",
       "    <tr>\n",
       "        <td style=\"padding-left: 1em; padding-right: 1em; text-align: center; vertical-align: top\">&lt;http://dbpedia.org/resou<br>rce/Trevor_Ferguson&gt; ...</td>\n",
       "        <td style=\"padding-left: 1em; padding-right: 1em; text-align: center; vertical-align: top\">Trevor Ferguson</td>\n",
       "        <td style=\"padding-left: 1em; padding-right: 1em; text-align: center; vertical-align: top\">trevor ferguson aka john<br>farrow born 11 november ...</td>\n",
       "        <td style=\"padding-left: 1em; padding-right: 1em; text-align: center; vertical-align: top\">{&#x27;concordia&#x27;:<br>6.250296940830698, ...</td>\n",
       "    </tr>\n",
       "    <tr>\n",
       "        <td style=\"padding-left: 1em; padding-right: 1em; text-align: center; vertical-align: top\">&lt;http://dbpedia.org/resou<br>rce/Grant_Nelson&gt; ...</td>\n",
       "        <td style=\"padding-left: 1em; padding-right: 1em; text-align: center; vertical-align: top\">Grant Nelson</td>\n",
       "        <td style=\"padding-left: 1em; padding-right: 1em; text-align: center; vertical-align: top\">grant nelson born 27<br>april 1971 in london  ...</td>\n",
       "        <td style=\"padding-left: 1em; padding-right: 1em; text-align: center; vertical-align: top\">{&#x27;heavies&#x27;:<br>8.907053847545358, &#x27;n ...</td>\n",
       "    </tr>\n",
       "    <tr>\n",
       "        <td style=\"padding-left: 1em; padding-right: 1em; text-align: center; vertical-align: top\">&lt;http://dbpedia.org/resou<br>rce/Cathy_Caruth&gt; ...</td>\n",
       "        <td style=\"padding-left: 1em; padding-right: 1em; text-align: center; vertical-align: top\">Cathy Caruth</td>\n",
       "        <td style=\"padding-left: 1em; padding-right: 1em; text-align: center; vertical-align: top\">cathy caruth born 1955 is<br>frank h t rhodes ...</td>\n",
       "        <td style=\"padding-left: 1em; padding-right: 1em; text-align: center; vertical-align: top\">{&#x27;2002&#x27;:<br>1.8753125887822302, ...</td>\n",
       "    </tr>\n",
       "</table>\n",
       "<table frame=\"box\" rules=\"cols\">\n",
       "    <tr>\n",
       "        <th style=\"padding-left: 1em; padding-right: 1em; text-align: center\">word_count</th>\n",
       "    </tr>\n",
       "    <tr>\n",
       "        <td style=\"padding-left: 1em; padding-right: 1em; text-align: center; vertical-align: top\">{&#x27;melbourne&#x27;: 1.0,<br>&#x27;parade&#x27;: 1.0, ...</td>\n",
       "    </tr>\n",
       "    <tr>\n",
       "        <td style=\"padding-left: 1em; padding-right: 1em; text-align: center; vertical-align: top\">{&#x27;time&#x27;: 1.0, &#x27;each&#x27;:<br>1.0, &#x27;hour&#x27;: 1.0, ...</td>\n",
       "    </tr>\n",
       "    <tr>\n",
       "        <td style=\"padding-left: 1em; padding-right: 1em; text-align: center; vertical-align: top\">{&#x27;society&#x27;: 1.0,<br>&#x27;hamilton&#x27;: 1.0, &#x27;to&#x27;: ...</td>\n",
       "    </tr>\n",
       "    <tr>\n",
       "        <td style=\"padding-left: 1em; padding-right: 1em; text-align: center; vertical-align: top\">{&#x27;kurdlawitzpreis&#x27;: 1.0,<br>&#x27;awarded&#x27;: 1.0, &#x27;2004&#x27;: ...</td>\n",
       "    </tr>\n",
       "    <tr>\n",
       "        <td style=\"padding-left: 1em; padding-right: 1em; text-align: center; vertical-align: top\">{&#x27;curtis&#x27;: 1.0, &#x27;2007&#x27;:<br>1.0, &#x27;cent&#x27;: 1.0, ...</td>\n",
       "    </tr>\n",
       "    <tr>\n",
       "        <td style=\"padding-left: 1em; padding-right: 1em; text-align: center; vertical-align: top\">{&#x27;asses&#x27;: 1.0, &#x27;sic&#x27;:<br>1.0, &#x27;toilets&#x27;: 1.0, ...</td>\n",
       "    </tr>\n",
       "    <tr>\n",
       "        <td style=\"padding-left: 1em; padding-right: 1em; text-align: center; vertical-align: top\">{&#x27;streamz&#x27;: 1.0,<br>&#x27;including&#x27;: 1.0, ...</td>\n",
       "    </tr>\n",
       "    <tr>\n",
       "        <td style=\"padding-left: 1em; padding-right: 1em; text-align: center; vertical-align: top\">{&#x27;concordia&#x27;: 1.0,<br>&#x27;creative&#x27;: 1.0, ...</td>\n",
       "    </tr>\n",
       "    <tr>\n",
       "        <td style=\"padding-left: 1em; padding-right: 1em; text-align: center; vertical-align: top\">{&#x27;heavies&#x27;: 1.0, &#x27;new&#x27;:<br>1.0, &#x27;brand&#x27;: 1.0, ...</td>\n",
       "    </tr>\n",
       "    <tr>\n",
       "        <td style=\"padding-left: 1em; padding-right: 1em; text-align: center; vertical-align: top\">{&#x27;2002&#x27;: 1.0, &#x27;harvard&#x27;:<br>1.0, &#x27;twentieth&#x27;: 1.0, ...</td>\n",
       "    </tr>\n",
       "</table>\n",
       "[59071 rows x 5 columns]<br/>Note: Only the head of the SFrame is printed.<br/>You can use print_rows(num_rows=m, num_columns=n) to print more rows and columns.\n",
       "</div>"
      ],
      "text/plain": [
       "Columns:\n",
       "\tURI\tstr\n",
       "\tname\tstr\n",
       "\ttext\tstr\n",
       "\ttfidf\tdict\n",
       "\tword_count\tdict\n",
       "\n",
       "Rows: 59071\n",
       "\n",
       "Data:\n",
       "+-------------------------------+---------------------+\n",
       "|              URI              |         name        |\n",
       "+-------------------------------+---------------------+\n",
       "| <http://dbpedia.org/resour... |    Digby Morrell    |\n",
       "| <http://dbpedia.org/resour... |    Alfred J. Lewy   |\n",
       "| <http://dbpedia.org/resour... |    Harpdog Brown    |\n",
       "| <http://dbpedia.org/resour... | Franz Rottensteiner |\n",
       "| <http://dbpedia.org/resour... |        G-Enka       |\n",
       "| <http://dbpedia.org/resour... |    Sam Henderson    |\n",
       "| <http://dbpedia.org/resour... |    Aaron LaCrate    |\n",
       "| <http://dbpedia.org/resour... |   Trevor Ferguson   |\n",
       "| <http://dbpedia.org/resour... |     Grant Nelson    |\n",
       "| <http://dbpedia.org/resour... |     Cathy Caruth    |\n",
       "+-------------------------------+---------------------+\n",
       "+-------------------------------+-------------------------------+\n",
       "|              text             |             tfidf             |\n",
       "+-------------------------------+-------------------------------+\n",
       "| digby morrell born 10 octo... | {'melbourne': 3.8914310119... |\n",
       "| alfred j lewy aka sandy le... | {'time': 1.325334207420049... |\n",
       "| harpdog brown is a singer ... | {'society': 2.444804726208... |\n",
       "| franz rottensteiner born i... | {'kurdlawitzpreis': 10.986... |\n",
       "| henry krvits born 30 decem... | {'curtis': 5.2995200328853... |\n",
       "| sam henderson born october... | {'asses': 9.60020102810530... |\n",
       "| aaron lacrate is an americ... | {'streamz': 10.98649538922... |\n",
       "| trevor ferguson aka john f... | {'concordia': 6.2502969408... |\n",
       "| grant nelson born 27 april... | {'heavies': 8.907053847545... |\n",
       "| cathy caruth born 1955 is ... | {'2002': 1.875312588782230... |\n",
       "+-------------------------------+-------------------------------+\n",
       "+-------------------------------+\n",
       "|           word_count          |\n",
       "+-------------------------------+\n",
       "| {'melbourne': 1.0, 'parade... |\n",
       "| {'time': 1.0, 'each': 1.0,... |\n",
       "| {'society': 1.0, 'hamilton... |\n",
       "| {'kurdlawitzpreis': 1.0, '... |\n",
       "| {'curtis': 1.0, '2007': 1.... |\n",
       "| {'asses': 1.0, 'sic': 1.0,... |\n",
       "| {'streamz': 1.0, 'includin... |\n",
       "| {'concordia': 1.0, 'creati... |\n",
       "| {'heavies': 1.0, 'new': 1.... |\n",
       "| {'2002': 1.0, 'harvard': 1... |\n",
       "+-------------------------------+\n",
       "[59071 rows x 5 columns]\n",
       "Note: Only the head of the SFrame is printed.\n",
       "You can use print_rows(num_rows=m, num_columns=n) to print more rows and columns."
      ]
     },
     "execution_count": 37,
     "metadata": {},
     "output_type": "execute_result"
    }
   ],
   "source": [
    "people"
   ]
  },
  {
   "cell_type": "code",
   "execution_count": 15,
   "metadata": {},
   "outputs": [],
   "source": [
    "people['tfidf'] = turicreate.text_analytics.tf_idf(people['text'])"
   ]
  },
  {
   "cell_type": "code",
   "execution_count": 29,
   "metadata": {},
   "outputs": [
    {
     "data": {
      "text/html": [
       "<div style=\"max-height:1000px;max-width:1500px;overflow:auto;\"><table frame=\"box\" rules=\"cols\">\n",
       "    <tr>\n",
       "        <th style=\"padding-left: 1em; padding-right: 1em; text-align: center\">URI</th>\n",
       "        <th style=\"padding-left: 1em; padding-right: 1em; text-align: center\">name</th>\n",
       "        <th style=\"padding-left: 1em; padding-right: 1em; text-align: center\">text</th>\n",
       "        <th style=\"padding-left: 1em; padding-right: 1em; text-align: center\">word_count</th>\n",
       "    </tr>\n",
       "    <tr>\n",
       "        <td style=\"padding-left: 1em; padding-right: 1em; text-align: center; vertical-align: top\">&lt;http://dbpedia.org/resou<br>rce/Digby_Morrell&gt; ...</td>\n",
       "        <td style=\"padding-left: 1em; padding-right: 1em; text-align: center; vertical-align: top\">Digby Morrell</td>\n",
       "        <td style=\"padding-left: 1em; padding-right: 1em; text-align: center; vertical-align: top\">digby morrell born 10<br>october 1979 is a former ...</td>\n",
       "        <td style=\"padding-left: 1em; padding-right: 1em; text-align: center; vertical-align: top\">{&#x27;melbourne&#x27;: 1.0,<br>&#x27;parade&#x27;: 1.0, ...</td>\n",
       "    </tr>\n",
       "    <tr>\n",
       "        <td style=\"padding-left: 1em; padding-right: 1em; text-align: center; vertical-align: top\">&lt;http://dbpedia.org/resou<br>rce/Alfred_J._Lewy&gt; ...</td>\n",
       "        <td style=\"padding-left: 1em; padding-right: 1em; text-align: center; vertical-align: top\">Alfred J. Lewy</td>\n",
       "        <td style=\"padding-left: 1em; padding-right: 1em; text-align: center; vertical-align: top\">alfred j lewy aka sandy<br>lewy graduated from ...</td>\n",
       "        <td style=\"padding-left: 1em; padding-right: 1em; text-align: center; vertical-align: top\">{&#x27;time&#x27;: 1.0, &#x27;each&#x27;:<br>1.0, &#x27;hour&#x27;: 1.0, ...</td>\n",
       "    </tr>\n",
       "    <tr>\n",
       "        <td style=\"padding-left: 1em; padding-right: 1em; text-align: center; vertical-align: top\">&lt;http://dbpedia.org/resou<br>rce/Harpdog_Brown&gt; ...</td>\n",
       "        <td style=\"padding-left: 1em; padding-right: 1em; text-align: center; vertical-align: top\">Harpdog Brown</td>\n",
       "        <td style=\"padding-left: 1em; padding-right: 1em; text-align: center; vertical-align: top\">harpdog brown is a singer<br>and harmonica player who ...</td>\n",
       "        <td style=\"padding-left: 1em; padding-right: 1em; text-align: center; vertical-align: top\">{&#x27;society&#x27;: 1.0,<br>&#x27;hamilton&#x27;: 1.0, &#x27;to&#x27;: ...</td>\n",
       "    </tr>\n",
       "    <tr>\n",
       "        <td style=\"padding-left: 1em; padding-right: 1em; text-align: center; vertical-align: top\">&lt;http://dbpedia.org/resou<br>rce/Franz_Rottensteiner&gt; ...</td>\n",
       "        <td style=\"padding-left: 1em; padding-right: 1em; text-align: center; vertical-align: top\">Franz Rottensteiner</td>\n",
       "        <td style=\"padding-left: 1em; padding-right: 1em; text-align: center; vertical-align: top\">franz rottensteiner born<br>in waidmannsfeld lower ...</td>\n",
       "        <td style=\"padding-left: 1em; padding-right: 1em; text-align: center; vertical-align: top\">{&#x27;kurdlawitzpreis&#x27;: 1.0,<br>&#x27;awarded&#x27;: 1.0, &#x27;2004&#x27;: ...</td>\n",
       "    </tr>\n",
       "    <tr>\n",
       "        <td style=\"padding-left: 1em; padding-right: 1em; text-align: center; vertical-align: top\">&lt;http://dbpedia.org/resou<br>rce/G-Enka&gt; ...</td>\n",
       "        <td style=\"padding-left: 1em; padding-right: 1em; text-align: center; vertical-align: top\">G-Enka</td>\n",
       "        <td style=\"padding-left: 1em; padding-right: 1em; text-align: center; vertical-align: top\">henry krvits born 30<br>december 1974 in tallinn ...</td>\n",
       "        <td style=\"padding-left: 1em; padding-right: 1em; text-align: center; vertical-align: top\">{&#x27;curtis&#x27;: 1.0, &#x27;2007&#x27;:<br>1.0, &#x27;cent&#x27;: 1.0, ...</td>\n",
       "    </tr>\n",
       "    <tr>\n",
       "        <td style=\"padding-left: 1em; padding-right: 1em; text-align: center; vertical-align: top\">&lt;http://dbpedia.org/resou<br>rce/Sam_Henderson&gt; ...</td>\n",
       "        <td style=\"padding-left: 1em; padding-right: 1em; text-align: center; vertical-align: top\">Sam Henderson</td>\n",
       "        <td style=\"padding-left: 1em; padding-right: 1em; text-align: center; vertical-align: top\">sam henderson born<br>october 18 1969 is an ...</td>\n",
       "        <td style=\"padding-left: 1em; padding-right: 1em; text-align: center; vertical-align: top\">{&#x27;asses&#x27;: 1.0, &#x27;sic&#x27;:<br>1.0, &#x27;toilets&#x27;: 1.0, ...</td>\n",
       "    </tr>\n",
       "    <tr>\n",
       "        <td style=\"padding-left: 1em; padding-right: 1em; text-align: center; vertical-align: top\">&lt;http://dbpedia.org/resou<br>rce/Aaron_LaCrate&gt; ...</td>\n",
       "        <td style=\"padding-left: 1em; padding-right: 1em; text-align: center; vertical-align: top\">Aaron LaCrate</td>\n",
       "        <td style=\"padding-left: 1em; padding-right: 1em; text-align: center; vertical-align: top\">aaron lacrate is an<br>american music producer ...</td>\n",
       "        <td style=\"padding-left: 1em; padding-right: 1em; text-align: center; vertical-align: top\">{&#x27;streamz&#x27;: 1.0,<br>&#x27;including&#x27;: 1.0, ...</td>\n",
       "    </tr>\n",
       "    <tr>\n",
       "        <td style=\"padding-left: 1em; padding-right: 1em; text-align: center; vertical-align: top\">&lt;http://dbpedia.org/resou<br>rce/Trevor_Ferguson&gt; ...</td>\n",
       "        <td style=\"padding-left: 1em; padding-right: 1em; text-align: center; vertical-align: top\">Trevor Ferguson</td>\n",
       "        <td style=\"padding-left: 1em; padding-right: 1em; text-align: center; vertical-align: top\">trevor ferguson aka john<br>farrow born 11 november ...</td>\n",
       "        <td style=\"padding-left: 1em; padding-right: 1em; text-align: center; vertical-align: top\">{&#x27;concordia&#x27;: 1.0,<br>&#x27;creative&#x27;: 1.0, ...</td>\n",
       "    </tr>\n",
       "    <tr>\n",
       "        <td style=\"padding-left: 1em; padding-right: 1em; text-align: center; vertical-align: top\">&lt;http://dbpedia.org/resou<br>rce/Grant_Nelson&gt; ...</td>\n",
       "        <td style=\"padding-left: 1em; padding-right: 1em; text-align: center; vertical-align: top\">Grant Nelson</td>\n",
       "        <td style=\"padding-left: 1em; padding-right: 1em; text-align: center; vertical-align: top\">grant nelson born 27<br>april 1971 in london  ...</td>\n",
       "        <td style=\"padding-left: 1em; padding-right: 1em; text-align: center; vertical-align: top\">{&#x27;heavies&#x27;: 1.0, &#x27;new&#x27;:<br>1.0, &#x27;brand&#x27;: 1.0, ...</td>\n",
       "    </tr>\n",
       "    <tr>\n",
       "        <td style=\"padding-left: 1em; padding-right: 1em; text-align: center; vertical-align: top\">&lt;http://dbpedia.org/resou<br>rce/Cathy_Caruth&gt; ...</td>\n",
       "        <td style=\"padding-left: 1em; padding-right: 1em; text-align: center; vertical-align: top\">Cathy Caruth</td>\n",
       "        <td style=\"padding-left: 1em; padding-right: 1em; text-align: center; vertical-align: top\">cathy caruth born 1955 is<br>frank h t rhodes ...</td>\n",
       "        <td style=\"padding-left: 1em; padding-right: 1em; text-align: center; vertical-align: top\">{&#x27;2002&#x27;: 1.0, &#x27;harvard&#x27;:<br>1.0, &#x27;twentieth&#x27;: 1.0, ...</td>\n",
       "    </tr>\n",
       "</table>\n",
       "<table frame=\"box\" rules=\"cols\">\n",
       "    <tr>\n",
       "        <th style=\"padding-left: 1em; padding-right: 1em; text-align: center\">tfidf</th>\n",
       "    </tr>\n",
       "    <tr>\n",
       "        <td style=\"padding-left: 1em; padding-right: 1em; text-align: center; vertical-align: top\">{&#x27;melbourne&#x27;:<br>3.8914310119380633, ...</td>\n",
       "    </tr>\n",
       "    <tr>\n",
       "        <td style=\"padding-left: 1em; padding-right: 1em; text-align: center; vertical-align: top\">{&#x27;time&#x27;:<br>1.3253342074200498, ...</td>\n",
       "    </tr>\n",
       "    <tr>\n",
       "        <td style=\"padding-left: 1em; padding-right: 1em; text-align: center; vertical-align: top\">{&#x27;society&#x27;:<br>2.4448047262085693, ...</td>\n",
       "    </tr>\n",
       "    <tr>\n",
       "        <td style=\"padding-left: 1em; padding-right: 1em; text-align: center; vertical-align: top\">{&#x27;kurdlawitzpreis&#x27;:<br>10.986495389225194, ...</td>\n",
       "    </tr>\n",
       "    <tr>\n",
       "        <td style=\"padding-left: 1em; padding-right: 1em; text-align: center; vertical-align: top\">{&#x27;curtis&#x27;:<br>5.299520032885375, ...</td>\n",
       "    </tr>\n",
       "    <tr>\n",
       "        <td style=\"padding-left: 1em; padding-right: 1em; text-align: center; vertical-align: top\">{&#x27;asses&#x27;:<br>9.600201028105303, &#x27;s ...</td>\n",
       "    </tr>\n",
       "    <tr>\n",
       "        <td style=\"padding-left: 1em; padding-right: 1em; text-align: center; vertical-align: top\">{&#x27;streamz&#x27;:<br>10.986495389225194, ...</td>\n",
       "    </tr>\n",
       "    <tr>\n",
       "        <td style=\"padding-left: 1em; padding-right: 1em; text-align: center; vertical-align: top\">{&#x27;concordia&#x27;:<br>6.250296940830698, ...</td>\n",
       "    </tr>\n",
       "    <tr>\n",
       "        <td style=\"padding-left: 1em; padding-right: 1em; text-align: center; vertical-align: top\">{&#x27;heavies&#x27;:<br>8.907053847545358, &#x27;n ...</td>\n",
       "    </tr>\n",
       "    <tr>\n",
       "        <td style=\"padding-left: 1em; padding-right: 1em; text-align: center; vertical-align: top\">{&#x27;2002&#x27;:<br>1.8753125887822302, ...</td>\n",
       "    </tr>\n",
       "</table>\n",
       "[59071 rows x 5 columns]<br/>Note: Only the head of the SFrame is printed.<br/>You can use print_rows(num_rows=m, num_columns=n) to print more rows and columns.\n",
       "</div>"
      ],
      "text/plain": [
       "Columns:\n",
       "\tURI\tstr\n",
       "\tname\tstr\n",
       "\ttext\tstr\n",
       "\tword_count\tdict\n",
       "\ttfidf\tdict\n",
       "\n",
       "Rows: 59071\n",
       "\n",
       "Data:\n",
       "+-------------------------------+---------------------+\n",
       "|              URI              |         name        |\n",
       "+-------------------------------+---------------------+\n",
       "| <http://dbpedia.org/resour... |    Digby Morrell    |\n",
       "| <http://dbpedia.org/resour... |    Alfred J. Lewy   |\n",
       "| <http://dbpedia.org/resour... |    Harpdog Brown    |\n",
       "| <http://dbpedia.org/resour... | Franz Rottensteiner |\n",
       "| <http://dbpedia.org/resour... |        G-Enka       |\n",
       "| <http://dbpedia.org/resour... |    Sam Henderson    |\n",
       "| <http://dbpedia.org/resour... |    Aaron LaCrate    |\n",
       "| <http://dbpedia.org/resour... |   Trevor Ferguson   |\n",
       "| <http://dbpedia.org/resour... |     Grant Nelson    |\n",
       "| <http://dbpedia.org/resour... |     Cathy Caruth    |\n",
       "+-------------------------------+---------------------+\n",
       "+-------------------------------+-------------------------------+\n",
       "|              text             |           word_count          |\n",
       "+-------------------------------+-------------------------------+\n",
       "| digby morrell born 10 octo... | {'melbourne': 1.0, 'parade... |\n",
       "| alfred j lewy aka sandy le... | {'time': 1.0, 'each': 1.0,... |\n",
       "| harpdog brown is a singer ... | {'society': 1.0, 'hamilton... |\n",
       "| franz rottensteiner born i... | {'kurdlawitzpreis': 1.0, '... |\n",
       "| henry krvits born 30 decem... | {'curtis': 1.0, '2007': 1.... |\n",
       "| sam henderson born october... | {'asses': 1.0, 'sic': 1.0,... |\n",
       "| aaron lacrate is an americ... | {'streamz': 1.0, 'includin... |\n",
       "| trevor ferguson aka john f... | {'concordia': 1.0, 'creati... |\n",
       "| grant nelson born 27 april... | {'heavies': 1.0, 'new': 1.... |\n",
       "| cathy caruth born 1955 is ... | {'2002': 1.0, 'harvard': 1... |\n",
       "+-------------------------------+-------------------------------+\n",
       "+-------------------------------+\n",
       "|             tfidf             |\n",
       "+-------------------------------+\n",
       "| {'melbourne': 3.8914310119... |\n",
       "| {'time': 1.325334207420049... |\n",
       "| {'society': 2.444804726208... |\n",
       "| {'kurdlawitzpreis': 10.986... |\n",
       "| {'curtis': 5.2995200328853... |\n",
       "| {'asses': 9.60020102810530... |\n",
       "| {'streamz': 10.98649538922... |\n",
       "| {'concordia': 6.2502969408... |\n",
       "| {'heavies': 8.907053847545... |\n",
       "| {'2002': 1.875312588782230... |\n",
       "+-------------------------------+\n",
       "[59071 rows x 5 columns]\n",
       "Note: Only the head of the SFrame is printed.\n",
       "You can use print_rows(num_rows=m, num_columns=n) to print more rows and columns."
      ]
     },
     "execution_count": 29,
     "metadata": {},
     "output_type": "execute_result"
    }
   ],
   "source": [
    "people"
   ]
  },
  {
   "cell_type": "code",
   "execution_count": 16,
   "metadata": {},
   "outputs": [
    {
     "data": {
      "text/html": [
       "<div style=\"max-height:1000px;max-width:1500px;overflow:auto;\"><table frame=\"box\" rules=\"cols\">\n",
       "    <tr>\n",
       "        <th style=\"padding-left: 1em; padding-right: 1em; text-align: center\">word</th>\n",
       "        <th style=\"padding-left: 1em; padding-right: 1em; text-align: center\">tfidf</th>\n",
       "    </tr>\n",
       "    <tr>\n",
       "        <td style=\"padding-left: 1em; padding-right: 1em; text-align: center; vertical-align: top\">obama</td>\n",
       "        <td style=\"padding-left: 1em; padding-right: 1em; text-align: center; vertical-align: top\">43.2956530720749</td>\n",
       "    </tr>\n",
       "    <tr>\n",
       "        <td style=\"padding-left: 1em; padding-right: 1em; text-align: center; vertical-align: top\">act</td>\n",
       "        <td style=\"padding-left: 1em; padding-right: 1em; text-align: center; vertical-align: top\">27.67822262297991</td>\n",
       "    </tr>\n",
       "    <tr>\n",
       "        <td style=\"padding-left: 1em; padding-right: 1em; text-align: center; vertical-align: top\">iraq</td>\n",
       "        <td style=\"padding-left: 1em; padding-right: 1em; text-align: center; vertical-align: top\">17.747378587965535</td>\n",
       "    </tr>\n",
       "    <tr>\n",
       "        <td style=\"padding-left: 1em; padding-right: 1em; text-align: center; vertical-align: top\">control</td>\n",
       "        <td style=\"padding-left: 1em; padding-right: 1em; text-align: center; vertical-align: top\">14.887060845181308</td>\n",
       "    </tr>\n",
       "    <tr>\n",
       "        <td style=\"padding-left: 1em; padding-right: 1em; text-align: center; vertical-align: top\">law</td>\n",
       "        <td style=\"padding-left: 1em; padding-right: 1em; text-align: center; vertical-align: top\">14.722935761763422</td>\n",
       "    </tr>\n",
       "    <tr>\n",
       "        <td style=\"padding-left: 1em; padding-right: 1em; text-align: center; vertical-align: top\">ordered</td>\n",
       "        <td style=\"padding-left: 1em; padding-right: 1em; text-align: center; vertical-align: top\">14.533373950913514</td>\n",
       "    </tr>\n",
       "    <tr>\n",
       "        <td style=\"padding-left: 1em; padding-right: 1em; text-align: center; vertical-align: top\">military</td>\n",
       "        <td style=\"padding-left: 1em; padding-right: 1em; text-align: center; vertical-align: top\">13.115932778499415</td>\n",
       "    </tr>\n",
       "    <tr>\n",
       "        <td style=\"padding-left: 1em; padding-right: 1em; text-align: center; vertical-align: top\">involvement</td>\n",
       "        <td style=\"padding-left: 1em; padding-right: 1em; text-align: center; vertical-align: top\">12.784385241175055</td>\n",
       "    </tr>\n",
       "    <tr>\n",
       "        <td style=\"padding-left: 1em; padding-right: 1em; text-align: center; vertical-align: top\">response</td>\n",
       "        <td style=\"padding-left: 1em; padding-right: 1em; text-align: center; vertical-align: top\">12.784385241175055</td>\n",
       "    </tr>\n",
       "    <tr>\n",
       "        <td style=\"padding-left: 1em; padding-right: 1em; text-align: center; vertical-align: top\">democratic</td>\n",
       "        <td style=\"padding-left: 1em; padding-right: 1em; text-align: center; vertical-align: top\">12.410688697332166</td>\n",
       "    </tr>\n",
       "</table>\n",
       "[273 rows x 2 columns]<br/>Note: Only the head of the SFrame is printed.<br/>You can use print_rows(num_rows=m, num_columns=n) to print more rows and columns.\n",
       "</div>"
      ],
      "text/plain": [
       "Columns:\n",
       "\tword\tstr\n",
       "\ttfidf\tfloat\n",
       "\n",
       "Rows: 273\n",
       "\n",
       "Data:\n",
       "+-------------+--------------------+\n",
       "|     word    |       tfidf        |\n",
       "+-------------+--------------------+\n",
       "|    obama    |  43.2956530720749  |\n",
       "|     act     | 27.67822262297991  |\n",
       "|     iraq    | 17.747378587965535 |\n",
       "|   control   | 14.887060845181308 |\n",
       "|     law     | 14.722935761763422 |\n",
       "|   ordered   | 14.533373950913514 |\n",
       "|   military  | 13.115932778499415 |\n",
       "| involvement | 12.784385241175055 |\n",
       "|   response  | 12.784385241175055 |\n",
       "|  democratic | 12.410688697332166 |\n",
       "+-------------+--------------------+\n",
       "[273 rows x 2 columns]\n",
       "Note: Only the head of the SFrame is printed.\n",
       "You can use print_rows(num_rows=m, num_columns=n) to print more rows and columns."
      ]
     },
     "execution_count": 16,
     "metadata": {},
     "output_type": "execute_result"
    }
   ],
   "source": [
    "obama = people[people['name'] == 'Barack Obama']\n",
    "obama[['tfidf']].stack('tfidf',new_column_name=['word','tfidf']).sort('tfidf',ascending=False)"
   ]
  },
  {
   "cell_type": "code",
   "execution_count": 17,
   "metadata": {},
   "outputs": [
    {
     "data": {
      "text/html": [
       "<div style=\"max-height:1000px;max-width:1500px;overflow:auto;\"><table frame=\"box\" rules=\"cols\">\n",
       "    <tr>\n",
       "        <th style=\"padding-left: 1em; padding-right: 1em; text-align: center\">word</th>\n",
       "        <th style=\"padding-left: 1em; padding-right: 1em; text-align: center\">tfidf</th>\n",
       "    </tr>\n",
       "    <tr>\n",
       "        <td style=\"padding-left: 1em; padding-right: 1em; text-align: center; vertical-align: top\">clooney</td>\n",
       "        <td style=\"padding-left: 1em; padding-right: 1em; text-align: center; vertical-align: top\">30.47679823695488</td>\n",
       "    </tr>\n",
       "    <tr>\n",
       "        <td style=\"padding-left: 1em; padding-right: 1em; text-align: center; vertical-align: top\">thriller</td>\n",
       "        <td style=\"padding-left: 1em; padding-right: 1em; text-align: center; vertical-align: top\">19.64459743254604</td>\n",
       "    </tr>\n",
       "    <tr>\n",
       "        <td style=\"padding-left: 1em; padding-right: 1em; text-align: center; vertical-align: top\">drama</td>\n",
       "        <td style=\"padding-left: 1em; padding-right: 1em; text-align: center; vertical-align: top\">13.544372218899177</td>\n",
       "    </tr>\n",
       "    <tr>\n",
       "        <td style=\"padding-left: 1em; padding-right: 1em; text-align: center; vertical-align: top\">comedydrama</td>\n",
       "        <td style=\"padding-left: 1em; padding-right: 1em; text-align: center; vertical-align: top\">12.973371437789858</td>\n",
       "    </tr>\n",
       "    <tr>\n",
       "        <td style=\"padding-left: 1em; padding-right: 1em; text-align: center; vertical-align: top\">er</td>\n",
       "        <td style=\"padding-left: 1em; padding-right: 1em; text-align: center; vertical-align: top\">12.782751078181208</td>\n",
       "    </tr>\n",
       "    <tr>\n",
       "        <td style=\"padding-left: 1em; padding-right: 1em; text-align: center; vertical-align: top\">actor</td>\n",
       "        <td style=\"padding-left: 1em; padding-right: 1em; text-align: center; vertical-align: top\">11.832160900443771</td>\n",
       "    </tr>\n",
       "    <tr>\n",
       "        <td style=\"padding-left: 1em; padding-right: 1em; text-align: center; vertical-align: top\">categoriesclooney</td>\n",
       "        <td style=\"padding-left: 1em; padding-right: 1em; text-align: center; vertical-align: top\">10.986495389225194</td>\n",
       "    </tr>\n",
       "    <tr>\n",
       "        <td style=\"padding-left: 1em; padding-right: 1em; text-align: center; vertical-align: top\">heslov</td>\n",
       "        <td style=\"padding-left: 1em; padding-right: 1em; text-align: center; vertical-align: top\">10.986495389225194</td>\n",
       "    </tr>\n",
       "    <tr>\n",
       "        <td style=\"padding-left: 1em; padding-right: 1em; text-align: center; vertical-align: top\">producingclooney</td>\n",
       "        <td style=\"padding-left: 1em; padding-right: 1em; text-align: center; vertical-align: top\">10.986495389225194</td>\n",
       "    </tr>\n",
       "    <tr>\n",
       "        <td style=\"padding-left: 1em; padding-right: 1em; text-align: center; vertical-align: top\">comedy</td>\n",
       "        <td style=\"padding-left: 1em; padding-right: 1em; text-align: center; vertical-align: top\">10.481205264908446</td>\n",
       "    </tr>\n",
       "</table>\n",
       "[239 rows x 2 columns]<br/>Note: Only the head of the SFrame is printed.<br/>You can use print_rows(num_rows=m, num_columns=n) to print more rows and columns.\n",
       "</div>"
      ],
      "text/plain": [
       "Columns:\n",
       "\tword\tstr\n",
       "\ttfidf\tfloat\n",
       "\n",
       "Rows: 239\n",
       "\n",
       "Data:\n",
       "+-------------------+--------------------+\n",
       "|        word       |       tfidf        |\n",
       "+-------------------+--------------------+\n",
       "|      clooney      | 30.47679823695488  |\n",
       "|      thriller     | 19.64459743254604  |\n",
       "|       drama       | 13.544372218899177 |\n",
       "|    comedydrama    | 12.973371437789858 |\n",
       "|         er        | 12.782751078181208 |\n",
       "|       actor       | 11.832160900443771 |\n",
       "| categoriesclooney | 10.986495389225194 |\n",
       "|       heslov      | 10.986495389225194 |\n",
       "|  producingclooney | 10.986495389225194 |\n",
       "|       comedy      | 10.481205264908446 |\n",
       "+-------------------+--------------------+\n",
       "[239 rows x 2 columns]\n",
       "Note: Only the head of the SFrame is printed.\n",
       "You can use print_rows(num_rows=m, num_columns=n) to print more rows and columns."
      ]
     },
     "execution_count": 17,
     "metadata": {},
     "output_type": "execute_result"
    }
   ],
   "source": [
    "clooney = people[people['name'] == 'George Clooney']\n",
    "clooney[['tfidf']].stack('tfidf',new_column_name=['word','tfidf']).sort('tfidf',ascending=False)"
   ]
  },
  {
   "cell_type": "code",
   "execution_count": 18,
   "metadata": {},
   "outputs": [],
   "source": [
    "clinton = people[people['name'] == 'Bill Clinton']\n",
    "beckham = people[people['name'] == 'David Beckham']"
   ]
  },
  {
   "cell_type": "code",
   "execution_count": 19,
   "metadata": {},
   "outputs": [
    {
     "data": {
      "text/plain": [
       "0.8339854936884277"
      ]
     },
     "execution_count": 19,
     "metadata": {},
     "output_type": "execute_result"
    }
   ],
   "source": [
    "turicreate.distances.cosine(obama['tfidf'][0],clinton['tfidf'][0])"
   ]
  },
  {
   "cell_type": "code",
   "execution_count": 20,
   "metadata": {},
   "outputs": [
    {
     "data": {
      "text/plain": [
       "0.1451450907863201"
      ]
     },
     "execution_count": 20,
     "metadata": {},
     "output_type": "execute_result"
    }
   ],
   "source": [
    "turicreate.distances.cosine(obama['tfidf'][0],beckham['tfidf'][0]) - turicreate.distances.cosine(obama['tfidf'][0],clinton['tfidf'][0])"
   ]
  },
  {
   "cell_type": "code",
   "execution_count": 52,
   "metadata": {},
   "outputs": [
    {
     "data": {
      "text/html": [
       "<pre>Starting brute force nearest neighbors model training.</pre>"
      ],
      "text/plain": [
       "Starting brute force nearest neighbors model training."
      ]
     },
     "metadata": {},
     "output_type": "display_data"
    },
    {
     "data": {
      "text/html": [
       "<pre>Validating distance components.</pre>"
      ],
      "text/plain": [
       "Validating distance components."
      ]
     },
     "metadata": {},
     "output_type": "display_data"
    },
    {
     "data": {
      "text/html": [
       "<pre>Initializing model data.</pre>"
      ],
      "text/plain": [
       "Initializing model data."
      ]
     },
     "metadata": {},
     "output_type": "display_data"
    },
    {
     "data": {
      "text/html": [
       "<pre>Initializing distances.</pre>"
      ],
      "text/plain": [
       "Initializing distances."
      ]
     },
     "metadata": {},
     "output_type": "display_data"
    },
    {
     "data": {
      "text/html": [
       "<pre>Done.</pre>"
      ],
      "text/plain": [
       "Done."
      ]
     },
     "metadata": {},
     "output_type": "display_data"
    }
   ],
   "source": [
    "knn_model = turicreate.nearest_neighbors.create(people,features = ['tfidf'],label='name')"
   ]
  },
  {
   "cell_type": "code",
   "execution_count": 40,
   "metadata": {},
   "outputs": [
    {
     "data": {
      "text/html": [
       "<pre>Starting pairwise querying.</pre>"
      ],
      "text/plain": [
       "Starting pairwise querying."
      ]
     },
     "metadata": {},
     "output_type": "display_data"
    },
    {
     "data": {
      "text/html": [
       "<pre>+--------------+---------+-------------+--------------+</pre>"
      ],
      "text/plain": [
       "+--------------+---------+-------------+--------------+"
      ]
     },
     "metadata": {},
     "output_type": "display_data"
    },
    {
     "data": {
      "text/html": [
       "<pre>| Query points | # Pairs | % Complete. | Elapsed Time |</pre>"
      ],
      "text/plain": [
       "| Query points | # Pairs | % Complete. | Elapsed Time |"
      ]
     },
     "metadata": {},
     "output_type": "display_data"
    },
    {
     "data": {
      "text/html": [
       "<pre>+--------------+---------+-------------+--------------+</pre>"
      ],
      "text/plain": [
       "+--------------+---------+-------------+--------------+"
      ]
     },
     "metadata": {},
     "output_type": "display_data"
    },
    {
     "data": {
      "text/html": [
       "<pre>| 0            | 1       | 0.00169288  | 5.971ms      |</pre>"
      ],
      "text/plain": [
       "| 0            | 1       | 0.00169288  | 5.971ms      |"
      ]
     },
     "metadata": {},
     "output_type": "display_data"
    },
    {
     "data": {
      "text/html": [
       "<pre>| Done         |         | 100         | 231.727ms    |</pre>"
      ],
      "text/plain": [
       "| Done         |         | 100         | 231.727ms    |"
      ]
     },
     "metadata": {},
     "output_type": "display_data"
    },
    {
     "data": {
      "text/html": [
       "<pre>+--------------+---------+-------------+--------------+</pre>"
      ],
      "text/plain": [
       "+--------------+---------+-------------+--------------+"
      ]
     },
     "metadata": {},
     "output_type": "display_data"
    },
    {
     "data": {
      "text/html": [
       "<div style=\"max-height:1000px;max-width:1500px;overflow:auto;\"><table frame=\"box\" rules=\"cols\">\n",
       "    <tr>\n",
       "        <th style=\"padding-left: 1em; padding-right: 1em; text-align: center\">query_label</th>\n",
       "        <th style=\"padding-left: 1em; padding-right: 1em; text-align: center\">reference_label</th>\n",
       "        <th style=\"padding-left: 1em; padding-right: 1em; text-align: center\">distance</th>\n",
       "        <th style=\"padding-left: 1em; padding-right: 1em; text-align: center\">rank</th>\n",
       "    </tr>\n",
       "    <tr>\n",
       "        <td style=\"padding-left: 1em; padding-right: 1em; text-align: center; vertical-align: top\">0</td>\n",
       "        <td style=\"padding-left: 1em; padding-right: 1em; text-align: center; vertical-align: top\">Barack Obama</td>\n",
       "        <td style=\"padding-left: 1em; padding-right: 1em; text-align: center; vertical-align: top\">0.0</td>\n",
       "        <td style=\"padding-left: 1em; padding-right: 1em; text-align: center; vertical-align: top\">1</td>\n",
       "    </tr>\n",
       "    <tr>\n",
       "        <td style=\"padding-left: 1em; padding-right: 1em; text-align: center; vertical-align: top\">0</td>\n",
       "        <td style=\"padding-left: 1em; padding-right: 1em; text-align: center; vertical-align: top\">Joe Biden</td>\n",
       "        <td style=\"padding-left: 1em; padding-right: 1em; text-align: center; vertical-align: top\">0.7941176470588236</td>\n",
       "        <td style=\"padding-left: 1em; padding-right: 1em; text-align: center; vertical-align: top\">2</td>\n",
       "    </tr>\n",
       "    <tr>\n",
       "        <td style=\"padding-left: 1em; padding-right: 1em; text-align: center; vertical-align: top\">0</td>\n",
       "        <td style=\"padding-left: 1em; padding-right: 1em; text-align: center; vertical-align: top\">Joe Lieberman</td>\n",
       "        <td style=\"padding-left: 1em; padding-right: 1em; text-align: center; vertical-align: top\">0.7946859903381642</td>\n",
       "        <td style=\"padding-left: 1em; padding-right: 1em; text-align: center; vertical-align: top\">3</td>\n",
       "    </tr>\n",
       "    <tr>\n",
       "        <td style=\"padding-left: 1em; padding-right: 1em; text-align: center; vertical-align: top\">0</td>\n",
       "        <td style=\"padding-left: 1em; padding-right: 1em; text-align: center; vertical-align: top\">Kelly Ayotte</td>\n",
       "        <td style=\"padding-left: 1em; padding-right: 1em; text-align: center; vertical-align: top\">0.8119891008174387</td>\n",
       "        <td style=\"padding-left: 1em; padding-right: 1em; text-align: center; vertical-align: top\">4</td>\n",
       "    </tr>\n",
       "    <tr>\n",
       "        <td style=\"padding-left: 1em; padding-right: 1em; text-align: center; vertical-align: top\">0</td>\n",
       "        <td style=\"padding-left: 1em; padding-right: 1em; text-align: center; vertical-align: top\">Bill Clinton</td>\n",
       "        <td style=\"padding-left: 1em; padding-right: 1em; text-align: center; vertical-align: top\">0.8138528138528138</td>\n",
       "        <td style=\"padding-left: 1em; padding-right: 1em; text-align: center; vertical-align: top\">5</td>\n",
       "    </tr>\n",
       "</table>\n",
       "[5 rows x 4 columns]<br/>\n",
       "</div>"
      ],
      "text/plain": [
       "Columns:\n",
       "\tquery_label\tint\n",
       "\treference_label\tstr\n",
       "\tdistance\tfloat\n",
       "\trank\tint\n",
       "\n",
       "Rows: 5\n",
       "\n",
       "Data:\n",
       "+-------------+-----------------+--------------------+------+\n",
       "| query_label | reference_label |      distance      | rank |\n",
       "+-------------+-----------------+--------------------+------+\n",
       "|      0      |   Barack Obama  |        0.0         |  1   |\n",
       "|      0      |    Joe Biden    | 0.7941176470588236 |  2   |\n",
       "|      0      |  Joe Lieberman  | 0.7946859903381642 |  3   |\n",
       "|      0      |   Kelly Ayotte  | 0.8119891008174387 |  4   |\n",
       "|      0      |   Bill Clinton  | 0.8138528138528138 |  5   |\n",
       "+-------------+-----------------+--------------------+------+\n",
       "[5 rows x 4 columns]"
      ]
     },
     "execution_count": 40,
     "metadata": {},
     "output_type": "execute_result"
    }
   ],
   "source": [
    "knn_model.query(obama)"
   ]
  },
  {
   "cell_type": "code",
   "execution_count": 41,
   "metadata": {},
   "outputs": [
    {
     "data": {
      "text/html": [
       "<pre>Starting pairwise querying.</pre>"
      ],
      "text/plain": [
       "Starting pairwise querying."
      ]
     },
     "metadata": {},
     "output_type": "display_data"
    },
    {
     "data": {
      "text/html": [
       "<pre>+--------------+---------+-------------+--------------+</pre>"
      ],
      "text/plain": [
       "+--------------+---------+-------------+--------------+"
      ]
     },
     "metadata": {},
     "output_type": "display_data"
    },
    {
     "data": {
      "text/html": [
       "<pre>| Query points | # Pairs | % Complete. | Elapsed Time |</pre>"
      ],
      "text/plain": [
       "| Query points | # Pairs | % Complete. | Elapsed Time |"
      ]
     },
     "metadata": {},
     "output_type": "display_data"
    },
    {
     "data": {
      "text/html": [
       "<pre>+--------------+---------+-------------+--------------+</pre>"
      ],
      "text/plain": [
       "+--------------+---------+-------------+--------------+"
      ]
     },
     "metadata": {},
     "output_type": "display_data"
    },
    {
     "data": {
      "text/html": [
       "<pre>| 0            | 1       | 0.00169288  | 8.178ms      |</pre>"
      ],
      "text/plain": [
       "| 0            | 1       | 0.00169288  | 8.178ms      |"
      ]
     },
     "metadata": {},
     "output_type": "display_data"
    },
    {
     "data": {
      "text/html": [
       "<pre>| Done         |         | 100         | 232.97ms     |</pre>"
      ],
      "text/plain": [
       "| Done         |         | 100         | 232.97ms     |"
      ]
     },
     "metadata": {},
     "output_type": "display_data"
    },
    {
     "data": {
      "text/html": [
       "<pre>+--------------+---------+-------------+--------------+</pre>"
      ],
      "text/plain": [
       "+--------------+---------+-------------+--------------+"
      ]
     },
     "metadata": {},
     "output_type": "display_data"
    },
    {
     "data": {
      "text/html": [
       "<div style=\"max-height:1000px;max-width:1500px;overflow:auto;\"><table frame=\"box\" rules=\"cols\">\n",
       "    <tr>\n",
       "        <th style=\"padding-left: 1em; padding-right: 1em; text-align: center\">query_label</th>\n",
       "        <th style=\"padding-left: 1em; padding-right: 1em; text-align: center\">reference_label</th>\n",
       "        <th style=\"padding-left: 1em; padding-right: 1em; text-align: center\">distance</th>\n",
       "        <th style=\"padding-left: 1em; padding-right: 1em; text-align: center\">rank</th>\n",
       "    </tr>\n",
       "    <tr>\n",
       "        <td style=\"padding-left: 1em; padding-right: 1em; text-align: center; vertical-align: top\">0</td>\n",
       "        <td style=\"padding-left: 1em; padding-right: 1em; text-align: center; vertical-align: top\">George Clooney</td>\n",
       "        <td style=\"padding-left: 1em; padding-right: 1em; text-align: center; vertical-align: top\">0.0</td>\n",
       "        <td style=\"padding-left: 1em; padding-right: 1em; text-align: center; vertical-align: top\">1</td>\n",
       "    </tr>\n",
       "    <tr>\n",
       "        <td style=\"padding-left: 1em; padding-right: 1em; text-align: center; vertical-align: top\">0</td>\n",
       "        <td style=\"padding-left: 1em; padding-right: 1em; text-align: center; vertical-align: top\">Angelina Jolie</td>\n",
       "        <td style=\"padding-left: 1em; padding-right: 1em; text-align: center; vertical-align: top\">0.8046875</td>\n",
       "        <td style=\"padding-left: 1em; padding-right: 1em; text-align: center; vertical-align: top\">2</td>\n",
       "    </tr>\n",
       "    <tr>\n",
       "        <td style=\"padding-left: 1em; padding-right: 1em; text-align: center; vertical-align: top\">0</td>\n",
       "        <td style=\"padding-left: 1em; padding-right: 1em; text-align: center; vertical-align: top\">Matthew McConaughey</td>\n",
       "        <td style=\"padding-left: 1em; padding-right: 1em; text-align: center; vertical-align: top\">0.8069164265129682</td>\n",
       "        <td style=\"padding-left: 1em; padding-right: 1em; text-align: center; vertical-align: top\">3</td>\n",
       "    </tr>\n",
       "    <tr>\n",
       "        <td style=\"padding-left: 1em; padding-right: 1em; text-align: center; vertical-align: top\">0</td>\n",
       "        <td style=\"padding-left: 1em; padding-right: 1em; text-align: center; vertical-align: top\">Billy Bob Thornton</td>\n",
       "        <td style=\"padding-left: 1em; padding-right: 1em; text-align: center; vertical-align: top\">0.8121951219512196</td>\n",
       "        <td style=\"padding-left: 1em; padding-right: 1em; text-align: center; vertical-align: top\">4</td>\n",
       "    </tr>\n",
       "    <tr>\n",
       "        <td style=\"padding-left: 1em; padding-right: 1em; text-align: center; vertical-align: top\">0</td>\n",
       "        <td style=\"padding-left: 1em; padding-right: 1em; text-align: center; vertical-align: top\">Ben Affleck</td>\n",
       "        <td style=\"padding-left: 1em; padding-right: 1em; text-align: center; vertical-align: top\">0.8142857142857143</td>\n",
       "        <td style=\"padding-left: 1em; padding-right: 1em; text-align: center; vertical-align: top\">5</td>\n",
       "    </tr>\n",
       "</table>\n",
       "[5 rows x 4 columns]<br/>\n",
       "</div>"
      ],
      "text/plain": [
       "Columns:\n",
       "\tquery_label\tint\n",
       "\treference_label\tstr\n",
       "\tdistance\tfloat\n",
       "\trank\tint\n",
       "\n",
       "Rows: 5\n",
       "\n",
       "Data:\n",
       "+-------------+---------------------+--------------------+------+\n",
       "| query_label |   reference_label   |      distance      | rank |\n",
       "+-------------+---------------------+--------------------+------+\n",
       "|      0      |    George Clooney   |        0.0         |  1   |\n",
       "|      0      |    Angelina Jolie   |     0.8046875      |  2   |\n",
       "|      0      | Matthew McConaughey | 0.8069164265129682 |  3   |\n",
       "|      0      |  Billy Bob Thornton | 0.8121951219512196 |  4   |\n",
       "|      0      |     Ben Affleck     | 0.8142857142857143 |  5   |\n",
       "+-------------+---------------------+--------------------+------+\n",
       "[5 rows x 4 columns]"
      ]
     },
     "execution_count": 41,
     "metadata": {},
     "output_type": "execute_result"
    }
   ],
   "source": [
    "knn_model.query(clooney)"
   ]
  },
  {
   "cell_type": "code",
   "execution_count": 22,
   "metadata": {},
   "outputs": [],
   "source": [
    "bieber = people[people['name']=='Justin Bieber']"
   ]
  },
  {
   "cell_type": "code",
   "execution_count": 43,
   "metadata": {},
   "outputs": [
    {
     "data": {
      "text/html": [
       "<pre>Starting pairwise querying.</pre>"
      ],
      "text/plain": [
       "Starting pairwise querying."
      ]
     },
     "metadata": {},
     "output_type": "display_data"
    },
    {
     "data": {
      "text/html": [
       "<pre>+--------------+---------+-------------+--------------+</pre>"
      ],
      "text/plain": [
       "+--------------+---------+-------------+--------------+"
      ]
     },
     "metadata": {},
     "output_type": "display_data"
    },
    {
     "data": {
      "text/html": [
       "<pre>| Query points | # Pairs | % Complete. | Elapsed Time |</pre>"
      ],
      "text/plain": [
       "| Query points | # Pairs | % Complete. | Elapsed Time |"
      ]
     },
     "metadata": {},
     "output_type": "display_data"
    },
    {
     "data": {
      "text/html": [
       "<pre>+--------------+---------+-------------+--------------+</pre>"
      ],
      "text/plain": [
       "+--------------+---------+-------------+--------------+"
      ]
     },
     "metadata": {},
     "output_type": "display_data"
    },
    {
     "data": {
      "text/html": [
       "<pre>| 0            | 1       | 0.00169288  | 3.84ms       |</pre>"
      ],
      "text/plain": [
       "| 0            | 1       | 0.00169288  | 3.84ms       |"
      ]
     },
     "metadata": {},
     "output_type": "display_data"
    },
    {
     "data": {
      "text/html": [
       "<pre>| Done         |         | 100         | 212.673ms    |</pre>"
      ],
      "text/plain": [
       "| Done         |         | 100         | 212.673ms    |"
      ]
     },
     "metadata": {},
     "output_type": "display_data"
    },
    {
     "data": {
      "text/html": [
       "<pre>+--------------+---------+-------------+--------------+</pre>"
      ],
      "text/plain": [
       "+--------------+---------+-------------+--------------+"
      ]
     },
     "metadata": {},
     "output_type": "display_data"
    },
    {
     "data": {
      "text/html": [
       "<div style=\"max-height:1000px;max-width:1500px;overflow:auto;\"><table frame=\"box\" rules=\"cols\">\n",
       "    <tr>\n",
       "        <th style=\"padding-left: 1em; padding-right: 1em; text-align: center\">query_label</th>\n",
       "        <th style=\"padding-left: 1em; padding-right: 1em; text-align: center\">reference_label</th>\n",
       "        <th style=\"padding-left: 1em; padding-right: 1em; text-align: center\">distance</th>\n",
       "        <th style=\"padding-left: 1em; padding-right: 1em; text-align: center\">rank</th>\n",
       "    </tr>\n",
       "    <tr>\n",
       "        <td style=\"padding-left: 1em; padding-right: 1em; text-align: center; vertical-align: top\">0</td>\n",
       "        <td style=\"padding-left: 1em; padding-right: 1em; text-align: center; vertical-align: top\">Justin Bieber</td>\n",
       "        <td style=\"padding-left: 1em; padding-right: 1em; text-align: center; vertical-align: top\">0.0</td>\n",
       "        <td style=\"padding-left: 1em; padding-right: 1em; text-align: center; vertical-align: top\">1</td>\n",
       "    </tr>\n",
       "    <tr>\n",
       "        <td style=\"padding-left: 1em; padding-right: 1em; text-align: center; vertical-align: top\">0</td>\n",
       "        <td style=\"padding-left: 1em; padding-right: 1em; text-align: center; vertical-align: top\">Ellie Goulding</td>\n",
       "        <td style=\"padding-left: 1em; padding-right: 1em; text-align: center; vertical-align: top\">0.75</td>\n",
       "        <td style=\"padding-left: 1em; padding-right: 1em; text-align: center; vertical-align: top\">2</td>\n",
       "    </tr>\n",
       "    <tr>\n",
       "        <td style=\"padding-left: 1em; padding-right: 1em; text-align: center; vertical-align: top\">0</td>\n",
       "        <td style=\"padding-left: 1em; padding-right: 1em; text-align: center; vertical-align: top\">Sam Smith (singer)</td>\n",
       "        <td style=\"padding-left: 1em; padding-right: 1em; text-align: center; vertical-align: top\">0.7651821862348178</td>\n",
       "        <td style=\"padding-left: 1em; padding-right: 1em; text-align: center; vertical-align: top\">3</td>\n",
       "    </tr>\n",
       "    <tr>\n",
       "        <td style=\"padding-left: 1em; padding-right: 1em; text-align: center; vertical-align: top\">0</td>\n",
       "        <td style=\"padding-left: 1em; padding-right: 1em; text-align: center; vertical-align: top\">Ariana Grande</td>\n",
       "        <td style=\"padding-left: 1em; padding-right: 1em; text-align: center; vertical-align: top\">0.7675276752767528</td>\n",
       "        <td style=\"padding-left: 1em; padding-right: 1em; text-align: center; vertical-align: top\">4</td>\n",
       "    </tr>\n",
       "    <tr>\n",
       "        <td style=\"padding-left: 1em; padding-right: 1em; text-align: center; vertical-align: top\">0</td>\n",
       "        <td style=\"padding-left: 1em; padding-right: 1em; text-align: center; vertical-align: top\">B.o.B</td>\n",
       "        <td style=\"padding-left: 1em; padding-right: 1em; text-align: center; vertical-align: top\">0.77</td>\n",
       "        <td style=\"padding-left: 1em; padding-right: 1em; text-align: center; vertical-align: top\">5</td>\n",
       "    </tr>\n",
       "</table>\n",
       "[5 rows x 4 columns]<br/>\n",
       "</div>"
      ],
      "text/plain": [
       "Columns:\n",
       "\tquery_label\tint\n",
       "\treference_label\tstr\n",
       "\tdistance\tfloat\n",
       "\trank\tint\n",
       "\n",
       "Rows: 5\n",
       "\n",
       "Data:\n",
       "+-------------+--------------------+--------------------+------+\n",
       "| query_label |  reference_label   |      distance      | rank |\n",
       "+-------------+--------------------+--------------------+------+\n",
       "|      0      |   Justin Bieber    |        0.0         |  1   |\n",
       "|      0      |   Ellie Goulding   |        0.75        |  2   |\n",
       "|      0      | Sam Smith (singer) | 0.7651821862348178 |  3   |\n",
       "|      0      |   Ariana Grande    | 0.7675276752767528 |  4   |\n",
       "|      0      |       B.o.B        |        0.77        |  5   |\n",
       "+-------------+--------------------+--------------------+------+\n",
       "[5 rows x 4 columns]"
      ]
     },
     "execution_count": 43,
     "metadata": {},
     "output_type": "execute_result"
    }
   ],
   "source": [
    "knn_model.query(bieber)"
   ]
  },
  {
   "cell_type": "code",
   "execution_count": 48,
   "metadata": {},
   "outputs": [],
   "source": [
    "trump = people[people['name']=='Donald J Trump']"
   ]
  },
  {
   "cell_type": "code",
   "execution_count": 49,
   "metadata": {},
   "outputs": [
    {
     "ename": "ToolkitError",
     "evalue": "Input dataset either has no rows or no columns. A non-empty SFrame is required.",
     "output_type": "error",
     "traceback": [
      "\u001b[0;31m---------------------------------------------------------------------------\u001b[0m",
      "\u001b[0;31mToolkitError\u001b[0m                              Traceback (most recent call last)",
      "\u001b[0;32m<ipython-input-49-43e8f8c0dfc5>\u001b[0m in \u001b[0;36m<module>\u001b[0;34m\u001b[0m\n\u001b[0;32m----> 1\u001b[0;31m \u001b[0mknn_model\u001b[0m\u001b[0;34m.\u001b[0m\u001b[0mquery\u001b[0m\u001b[0;34m(\u001b[0m\u001b[0mtrump\u001b[0m\u001b[0;34m)\u001b[0m\u001b[0;34m\u001b[0m\u001b[0;34m\u001b[0m\u001b[0m\n\u001b[0m",
      "\u001b[0;32m~/anaconda3/envs/virtual_environment_name/lib/python3.7/site-packages/turicreate/toolkits/nearest_neighbors/_nearest_neighbors.py\u001b[0m in \u001b[0;36mquery\u001b[0;34m(self, dataset, label, k, radius, verbose)\u001b[0m\n\u001b[1;32m    906\u001b[0m         \u001b[0;31m## Validate the 'dataset' input\u001b[0m\u001b[0;34m\u001b[0m\u001b[0;34m\u001b[0m\u001b[0;34m\u001b[0m\u001b[0m\n\u001b[1;32m    907\u001b[0m         \u001b[0m_tkutl\u001b[0m\u001b[0;34m.\u001b[0m\u001b[0m_raise_error_if_not_sframe\u001b[0m\u001b[0;34m(\u001b[0m\u001b[0mdataset\u001b[0m\u001b[0;34m,\u001b[0m \u001b[0;34m\"dataset\"\u001b[0m\u001b[0;34m)\u001b[0m\u001b[0;34m\u001b[0m\u001b[0;34m\u001b[0m\u001b[0m\n\u001b[0;32m--> 908\u001b[0;31m         \u001b[0m_tkutl\u001b[0m\u001b[0;34m.\u001b[0m\u001b[0m_raise_error_if_sframe_empty\u001b[0m\u001b[0;34m(\u001b[0m\u001b[0mdataset\u001b[0m\u001b[0;34m,\u001b[0m \u001b[0;34m\"dataset\"\u001b[0m\u001b[0;34m)\u001b[0m\u001b[0;34m\u001b[0m\u001b[0;34m\u001b[0m\u001b[0m\n\u001b[0m\u001b[1;32m    909\u001b[0m \u001b[0;34m\u001b[0m\u001b[0m\n\u001b[1;32m    910\u001b[0m         \u001b[0;31m## Get model features\u001b[0m\u001b[0;34m\u001b[0m\u001b[0;34m\u001b[0m\u001b[0;34m\u001b[0m\u001b[0m\n",
      "\u001b[0;32m~/anaconda3/envs/virtual_environment_name/lib/python3.7/site-packages/turicreate/toolkits/_internal_utils.py\u001b[0m in \u001b[0;36m_raise_error_if_sframe_empty\u001b[0;34m(dataset, variable_name)\u001b[0m\n\u001b[1;32m    629\u001b[0m \u001b[0;34m\u001b[0m\u001b[0m\n\u001b[1;32m    630\u001b[0m     \u001b[0;32mif\u001b[0m \u001b[0mdataset\u001b[0m\u001b[0;34m.\u001b[0m\u001b[0mnum_rows\u001b[0m\u001b[0;34m(\u001b[0m\u001b[0;34m)\u001b[0m \u001b[0;34m==\u001b[0m \u001b[0;36m0\u001b[0m \u001b[0;32mor\u001b[0m \u001b[0mdataset\u001b[0m\u001b[0;34m.\u001b[0m\u001b[0mnum_columns\u001b[0m\u001b[0;34m(\u001b[0m\u001b[0;34m)\u001b[0m \u001b[0;34m==\u001b[0m \u001b[0;36m0\u001b[0m\u001b[0;34m:\u001b[0m\u001b[0;34m\u001b[0m\u001b[0;34m\u001b[0m\u001b[0m\n\u001b[0;32m--> 631\u001b[0;31m         \u001b[0;32mraise\u001b[0m \u001b[0mToolkitError\u001b[0m\u001b[0;34m(\u001b[0m\u001b[0merr_msg\u001b[0m \u001b[0;34m%\u001b[0m \u001b[0mvariable_name\u001b[0m\u001b[0;34m)\u001b[0m\u001b[0;34m\u001b[0m\u001b[0;34m\u001b[0m\u001b[0m\n\u001b[0m\u001b[1;32m    632\u001b[0m \u001b[0;34m\u001b[0m\u001b[0m\n\u001b[1;32m    633\u001b[0m \u001b[0;34m\u001b[0m\u001b[0m\n",
      "\u001b[0;31mToolkitError\u001b[0m: Input dataset either has no rows or no columns. A non-empty SFrame is required."
     ]
    }
   ],
   "source": [
    "knn_model.query(trump)"
   ]
  },
  {
   "cell_type": "code",
   "execution_count": 50,
   "metadata": {},
   "outputs": [
    {
     "data": {
      "text/html": [
       "<div style=\"max-height:1000px;max-width:1500px;overflow:auto;\"><table frame=\"box\" rules=\"cols\">\n",
       "    <tr>\n",
       "        <th style=\"padding-left: 1em; padding-right: 1em; text-align: center\">URI</th>\n",
       "        <th style=\"padding-left: 1em; padding-right: 1em; text-align: center\">name</th>\n",
       "        <th style=\"padding-left: 1em; padding-right: 1em; text-align: center\">text</th>\n",
       "        <th style=\"padding-left: 1em; padding-right: 1em; text-align: center\">word_count</th>\n",
       "    </tr>\n",
       "    <tr>\n",
       "        <td style=\"padding-left: 1em; padding-right: 1em; text-align: center; vertical-align: top\">&lt;http://dbpedia.org/resou<br>rce/Digby_Morrell&gt; ...</td>\n",
       "        <td style=\"padding-left: 1em; padding-right: 1em; text-align: center; vertical-align: top\">Digby Morrell</td>\n",
       "        <td style=\"padding-left: 1em; padding-right: 1em; text-align: center; vertical-align: top\">digby morrell born 10<br>october 1979 is a former ...</td>\n",
       "        <td style=\"padding-left: 1em; padding-right: 1em; text-align: center; vertical-align: top\">{&#x27;melbourne&#x27;: 1.0,<br>&#x27;parade&#x27;: 1.0, ...</td>\n",
       "    </tr>\n",
       "    <tr>\n",
       "        <td style=\"padding-left: 1em; padding-right: 1em; text-align: center; vertical-align: top\">&lt;http://dbpedia.org/resou<br>rce/Alfred_J._Lewy&gt; ...</td>\n",
       "        <td style=\"padding-left: 1em; padding-right: 1em; text-align: center; vertical-align: top\">Alfred J. Lewy</td>\n",
       "        <td style=\"padding-left: 1em; padding-right: 1em; text-align: center; vertical-align: top\">alfred j lewy aka sandy<br>lewy graduated from ...</td>\n",
       "        <td style=\"padding-left: 1em; padding-right: 1em; text-align: center; vertical-align: top\">{&#x27;time&#x27;: 1.0, &#x27;each&#x27;:<br>1.0, &#x27;hour&#x27;: 1.0, ...</td>\n",
       "    </tr>\n",
       "    <tr>\n",
       "        <td style=\"padding-left: 1em; padding-right: 1em; text-align: center; vertical-align: top\">&lt;http://dbpedia.org/resou<br>rce/Harpdog_Brown&gt; ...</td>\n",
       "        <td style=\"padding-left: 1em; padding-right: 1em; text-align: center; vertical-align: top\">Harpdog Brown</td>\n",
       "        <td style=\"padding-left: 1em; padding-right: 1em; text-align: center; vertical-align: top\">harpdog brown is a singer<br>and harmonica player who ...</td>\n",
       "        <td style=\"padding-left: 1em; padding-right: 1em; text-align: center; vertical-align: top\">{&#x27;society&#x27;: 1.0,<br>&#x27;hamilton&#x27;: 1.0, &#x27;to&#x27;: ...</td>\n",
       "    </tr>\n",
       "    <tr>\n",
       "        <td style=\"padding-left: 1em; padding-right: 1em; text-align: center; vertical-align: top\">&lt;http://dbpedia.org/resou<br>rce/Franz_Rottensteiner&gt; ...</td>\n",
       "        <td style=\"padding-left: 1em; padding-right: 1em; text-align: center; vertical-align: top\">Franz Rottensteiner</td>\n",
       "        <td style=\"padding-left: 1em; padding-right: 1em; text-align: center; vertical-align: top\">franz rottensteiner born<br>in waidmannsfeld lower ...</td>\n",
       "        <td style=\"padding-left: 1em; padding-right: 1em; text-align: center; vertical-align: top\">{&#x27;kurdlawitzpreis&#x27;: 1.0,<br>&#x27;awarded&#x27;: 1.0, &#x27;2004&#x27;: ...</td>\n",
       "    </tr>\n",
       "    <tr>\n",
       "        <td style=\"padding-left: 1em; padding-right: 1em; text-align: center; vertical-align: top\">&lt;http://dbpedia.org/resou<br>rce/G-Enka&gt; ...</td>\n",
       "        <td style=\"padding-left: 1em; padding-right: 1em; text-align: center; vertical-align: top\">G-Enka</td>\n",
       "        <td style=\"padding-left: 1em; padding-right: 1em; text-align: center; vertical-align: top\">henry krvits born 30<br>december 1974 in tallinn ...</td>\n",
       "        <td style=\"padding-left: 1em; padding-right: 1em; text-align: center; vertical-align: top\">{&#x27;curtis&#x27;: 1.0, &#x27;2007&#x27;:<br>1.0, &#x27;cent&#x27;: 1.0, ...</td>\n",
       "    </tr>\n",
       "    <tr>\n",
       "        <td style=\"padding-left: 1em; padding-right: 1em; text-align: center; vertical-align: top\">&lt;http://dbpedia.org/resou<br>rce/Sam_Henderson&gt; ...</td>\n",
       "        <td style=\"padding-left: 1em; padding-right: 1em; text-align: center; vertical-align: top\">Sam Henderson</td>\n",
       "        <td style=\"padding-left: 1em; padding-right: 1em; text-align: center; vertical-align: top\">sam henderson born<br>october 18 1969 is an ...</td>\n",
       "        <td style=\"padding-left: 1em; padding-right: 1em; text-align: center; vertical-align: top\">{&#x27;asses&#x27;: 1.0, &#x27;sic&#x27;:<br>1.0, &#x27;toilets&#x27;: 1.0, ...</td>\n",
       "    </tr>\n",
       "    <tr>\n",
       "        <td style=\"padding-left: 1em; padding-right: 1em; text-align: center; vertical-align: top\">&lt;http://dbpedia.org/resou<br>rce/Aaron_LaCrate&gt; ...</td>\n",
       "        <td style=\"padding-left: 1em; padding-right: 1em; text-align: center; vertical-align: top\">Aaron LaCrate</td>\n",
       "        <td style=\"padding-left: 1em; padding-right: 1em; text-align: center; vertical-align: top\">aaron lacrate is an<br>american music producer ...</td>\n",
       "        <td style=\"padding-left: 1em; padding-right: 1em; text-align: center; vertical-align: top\">{&#x27;streamz&#x27;: 1.0,<br>&#x27;including&#x27;: 1.0, ...</td>\n",
       "    </tr>\n",
       "    <tr>\n",
       "        <td style=\"padding-left: 1em; padding-right: 1em; text-align: center; vertical-align: top\">&lt;http://dbpedia.org/resou<br>rce/Trevor_Ferguson&gt; ...</td>\n",
       "        <td style=\"padding-left: 1em; padding-right: 1em; text-align: center; vertical-align: top\">Trevor Ferguson</td>\n",
       "        <td style=\"padding-left: 1em; padding-right: 1em; text-align: center; vertical-align: top\">trevor ferguson aka john<br>farrow born 11 november ...</td>\n",
       "        <td style=\"padding-left: 1em; padding-right: 1em; text-align: center; vertical-align: top\">{&#x27;concordia&#x27;: 1.0,<br>&#x27;creative&#x27;: 1.0, ...</td>\n",
       "    </tr>\n",
       "    <tr>\n",
       "        <td style=\"padding-left: 1em; padding-right: 1em; text-align: center; vertical-align: top\">&lt;http://dbpedia.org/resou<br>rce/Grant_Nelson&gt; ...</td>\n",
       "        <td style=\"padding-left: 1em; padding-right: 1em; text-align: center; vertical-align: top\">Grant Nelson</td>\n",
       "        <td style=\"padding-left: 1em; padding-right: 1em; text-align: center; vertical-align: top\">grant nelson born 27<br>april 1971 in london  ...</td>\n",
       "        <td style=\"padding-left: 1em; padding-right: 1em; text-align: center; vertical-align: top\">{&#x27;heavies&#x27;: 1.0, &#x27;new&#x27;:<br>1.0, &#x27;brand&#x27;: 1.0, ...</td>\n",
       "    </tr>\n",
       "    <tr>\n",
       "        <td style=\"padding-left: 1em; padding-right: 1em; text-align: center; vertical-align: top\">&lt;http://dbpedia.org/resou<br>rce/Cathy_Caruth&gt; ...</td>\n",
       "        <td style=\"padding-left: 1em; padding-right: 1em; text-align: center; vertical-align: top\">Cathy Caruth</td>\n",
       "        <td style=\"padding-left: 1em; padding-right: 1em; text-align: center; vertical-align: top\">cathy caruth born 1955 is<br>frank h t rhodes ...</td>\n",
       "        <td style=\"padding-left: 1em; padding-right: 1em; text-align: center; vertical-align: top\">{&#x27;2002&#x27;: 1.0, &#x27;harvard&#x27;:<br>1.0, &#x27;twentieth&#x27;: 1.0, ...</td>\n",
       "    </tr>\n",
       "</table>\n",
       "<table frame=\"box\" rules=\"cols\">\n",
       "    <tr>\n",
       "        <th style=\"padding-left: 1em; padding-right: 1em; text-align: center\">tfidf</th>\n",
       "    </tr>\n",
       "    <tr>\n",
       "        <td style=\"padding-left: 1em; padding-right: 1em; text-align: center; vertical-align: top\">{&#x27;melbourne&#x27;:<br>3.8914310119380633, ...</td>\n",
       "    </tr>\n",
       "    <tr>\n",
       "        <td style=\"padding-left: 1em; padding-right: 1em; text-align: center; vertical-align: top\">{&#x27;time&#x27;:<br>1.3253342074200498, ...</td>\n",
       "    </tr>\n",
       "    <tr>\n",
       "        <td style=\"padding-left: 1em; padding-right: 1em; text-align: center; vertical-align: top\">{&#x27;society&#x27;:<br>2.4448047262085693, ...</td>\n",
       "    </tr>\n",
       "    <tr>\n",
       "        <td style=\"padding-left: 1em; padding-right: 1em; text-align: center; vertical-align: top\">{&#x27;kurdlawitzpreis&#x27;:<br>10.986495389225194, ...</td>\n",
       "    </tr>\n",
       "    <tr>\n",
       "        <td style=\"padding-left: 1em; padding-right: 1em; text-align: center; vertical-align: top\">{&#x27;curtis&#x27;:<br>5.299520032885375, ...</td>\n",
       "    </tr>\n",
       "    <tr>\n",
       "        <td style=\"padding-left: 1em; padding-right: 1em; text-align: center; vertical-align: top\">{&#x27;asses&#x27;:<br>9.600201028105303, &#x27;s ...</td>\n",
       "    </tr>\n",
       "    <tr>\n",
       "        <td style=\"padding-left: 1em; padding-right: 1em; text-align: center; vertical-align: top\">{&#x27;streamz&#x27;:<br>10.986495389225194, ...</td>\n",
       "    </tr>\n",
       "    <tr>\n",
       "        <td style=\"padding-left: 1em; padding-right: 1em; text-align: center; vertical-align: top\">{&#x27;concordia&#x27;:<br>6.250296940830698, ...</td>\n",
       "    </tr>\n",
       "    <tr>\n",
       "        <td style=\"padding-left: 1em; padding-right: 1em; text-align: center; vertical-align: top\">{&#x27;heavies&#x27;:<br>8.907053847545358, &#x27;n ...</td>\n",
       "    </tr>\n",
       "    <tr>\n",
       "        <td style=\"padding-left: 1em; padding-right: 1em; text-align: center; vertical-align: top\">{&#x27;2002&#x27;:<br>1.8753125887822302, ...</td>\n",
       "    </tr>\n",
       "</table>\n",
       "[59071 rows x 5 columns]<br/>Note: Only the head of the SFrame is printed.<br/>You can use print_rows(num_rows=m, num_columns=n) to print more rows and columns.\n",
       "</div>"
      ],
      "text/plain": [
       "Columns:\n",
       "\tURI\tstr\n",
       "\tname\tstr\n",
       "\ttext\tstr\n",
       "\tword_count\tdict\n",
       "\ttfidf\tdict\n",
       "\n",
       "Rows: 59071\n",
       "\n",
       "Data:\n",
       "+-------------------------------+---------------------+\n",
       "|              URI              |         name        |\n",
       "+-------------------------------+---------------------+\n",
       "| <http://dbpedia.org/resour... |    Digby Morrell    |\n",
       "| <http://dbpedia.org/resour... |    Alfred J. Lewy   |\n",
       "| <http://dbpedia.org/resour... |    Harpdog Brown    |\n",
       "| <http://dbpedia.org/resour... | Franz Rottensteiner |\n",
       "| <http://dbpedia.org/resour... |        G-Enka       |\n",
       "| <http://dbpedia.org/resour... |    Sam Henderson    |\n",
       "| <http://dbpedia.org/resour... |    Aaron LaCrate    |\n",
       "| <http://dbpedia.org/resour... |   Trevor Ferguson   |\n",
       "| <http://dbpedia.org/resour... |     Grant Nelson    |\n",
       "| <http://dbpedia.org/resour... |     Cathy Caruth    |\n",
       "+-------------------------------+---------------------+\n",
       "+-------------------------------+-------------------------------+\n",
       "|              text             |           word_count          |\n",
       "+-------------------------------+-------------------------------+\n",
       "| digby morrell born 10 octo... | {'melbourne': 1.0, 'parade... |\n",
       "| alfred j lewy aka sandy le... | {'time': 1.0, 'each': 1.0,... |\n",
       "| harpdog brown is a singer ... | {'society': 1.0, 'hamilton... |\n",
       "| franz rottensteiner born i... | {'kurdlawitzpreis': 1.0, '... |\n",
       "| henry krvits born 30 decem... | {'curtis': 1.0, '2007': 1.... |\n",
       "| sam henderson born october... | {'asses': 1.0, 'sic': 1.0,... |\n",
       "| aaron lacrate is an americ... | {'streamz': 1.0, 'includin... |\n",
       "| trevor ferguson aka john f... | {'concordia': 1.0, 'creati... |\n",
       "| grant nelson born 27 april... | {'heavies': 1.0, 'new': 1.... |\n",
       "| cathy caruth born 1955 is ... | {'2002': 1.0, 'harvard': 1... |\n",
       "+-------------------------------+-------------------------------+\n",
       "+-------------------------------+\n",
       "|             tfidf             |\n",
       "+-------------------------------+\n",
       "| {'melbourne': 3.8914310119... |\n",
       "| {'time': 1.325334207420049... |\n",
       "| {'society': 2.444804726208... |\n",
       "| {'kurdlawitzpreis': 10.986... |\n",
       "| {'curtis': 5.2995200328853... |\n",
       "| {'asses': 9.60020102810530... |\n",
       "| {'streamz': 10.98649538922... |\n",
       "| {'concordia': 6.2502969408... |\n",
       "| {'heavies': 8.907053847545... |\n",
       "| {'2002': 1.875312588782230... |\n",
       "+-------------------------------+\n",
       "[59071 rows x 5 columns]\n",
       "Note: Only the head of the SFrame is printed.\n",
       "You can use print_rows(num_rows=m, num_columns=n) to print more rows and columns."
      ]
     },
     "execution_count": 50,
     "metadata": {},
     "output_type": "execute_result"
    }
   ],
   "source": [
    "people"
   ]
  },
  {
   "cell_type": "code",
   "execution_count": 53,
   "metadata": {},
   "outputs": [
    {
     "name": "stderr",
     "output_type": "stream",
     "text": [
      "IOPub data rate exceeded.\n",
      "The notebook server will temporarily stop sending output\n",
      "to the client in order to avoid crashing it.\n",
      "To change this limit, set the config variable\n",
      "`--NotebookApp.iopub_data_rate_limit`.\n",
      "\n",
      "Current values:\n",
      "NotebookApp.iopub_data_rate_limit=1000000.0 (bytes/sec)\n",
      "NotebookApp.rate_limit_window=3.0 (secs)\n",
      "\n"
     ]
    }
   ],
   "source": [
    "people.print_rows(num_rows = 29071,num_columns = 5)"
   ]
  },
  {
   "cell_type": "code",
   "execution_count": 23,
   "metadata": {},
   "outputs": [],
   "source": [
    "pitt = people[people['name'] == 'Brad Pitt']"
   ]
  },
  {
   "cell_type": "code",
   "execution_count": 55,
   "metadata": {},
   "outputs": [
    {
     "data": {
      "text/html": [
       "<pre>Starting pairwise querying.</pre>"
      ],
      "text/plain": [
       "Starting pairwise querying."
      ]
     },
     "metadata": {},
     "output_type": "display_data"
    },
    {
     "data": {
      "text/html": [
       "<pre>+--------------+---------+-------------+--------------+</pre>"
      ],
      "text/plain": [
       "+--------------+---------+-------------+--------------+"
      ]
     },
     "metadata": {},
     "output_type": "display_data"
    },
    {
     "data": {
      "text/html": [
       "<pre>| Query points | # Pairs | % Complete. | Elapsed Time |</pre>"
      ],
      "text/plain": [
       "| Query points | # Pairs | % Complete. | Elapsed Time |"
      ]
     },
     "metadata": {},
     "output_type": "display_data"
    },
    {
     "data": {
      "text/html": [
       "<pre>+--------------+---------+-------------+--------------+</pre>"
      ],
      "text/plain": [
       "+--------------+---------+-------------+--------------+"
      ]
     },
     "metadata": {},
     "output_type": "display_data"
    },
    {
     "data": {
      "text/html": [
       "<pre>| 0            | 1       | 0.00169288  | 7.719ms      |</pre>"
      ],
      "text/plain": [
       "| 0            | 1       | 0.00169288  | 7.719ms      |"
      ]
     },
     "metadata": {},
     "output_type": "display_data"
    },
    {
     "data": {
      "text/html": [
       "<pre>| Done         |         | 100         | 203.185ms    |</pre>"
      ],
      "text/plain": [
       "| Done         |         | 100         | 203.185ms    |"
      ]
     },
     "metadata": {},
     "output_type": "display_data"
    },
    {
     "data": {
      "text/html": [
       "<pre>+--------------+---------+-------------+--------------+</pre>"
      ],
      "text/plain": [
       "+--------------+---------+-------------+--------------+"
      ]
     },
     "metadata": {},
     "output_type": "display_data"
    },
    {
     "data": {
      "text/html": [
       "<div style=\"max-height:1000px;max-width:1500px;overflow:auto;\"><table frame=\"box\" rules=\"cols\">\n",
       "    <tr>\n",
       "        <th style=\"padding-left: 1em; padding-right: 1em; text-align: center\">query_label</th>\n",
       "        <th style=\"padding-left: 1em; padding-right: 1em; text-align: center\">reference_label</th>\n",
       "        <th style=\"padding-left: 1em; padding-right: 1em; text-align: center\">distance</th>\n",
       "        <th style=\"padding-left: 1em; padding-right: 1em; text-align: center\">rank</th>\n",
       "    </tr>\n",
       "    <tr>\n",
       "        <td style=\"padding-left: 1em; padding-right: 1em; text-align: center; vertical-align: top\">0</td>\n",
       "        <td style=\"padding-left: 1em; padding-right: 1em; text-align: center; vertical-align: top\">Brad Pitt</td>\n",
       "        <td style=\"padding-left: 1em; padding-right: 1em; text-align: center; vertical-align: top\">0.0</td>\n",
       "        <td style=\"padding-left: 1em; padding-right: 1em; text-align: center; vertical-align: top\">1</td>\n",
       "    </tr>\n",
       "    <tr>\n",
       "        <td style=\"padding-left: 1em; padding-right: 1em; text-align: center; vertical-align: top\">0</td>\n",
       "        <td style=\"padding-left: 1em; padding-right: 1em; text-align: center; vertical-align: top\">Angelina Jolie</td>\n",
       "        <td style=\"padding-left: 1em; padding-right: 1em; text-align: center; vertical-align: top\">0.7840236686390533</td>\n",
       "        <td style=\"padding-left: 1em; padding-right: 1em; text-align: center; vertical-align: top\">2</td>\n",
       "    </tr>\n",
       "    <tr>\n",
       "        <td style=\"padding-left: 1em; padding-right: 1em; text-align: center; vertical-align: top\">0</td>\n",
       "        <td style=\"padding-left: 1em; padding-right: 1em; text-align: center; vertical-align: top\">Alec Baldwin</td>\n",
       "        <td style=\"padding-left: 1em; padding-right: 1em; text-align: center; vertical-align: top\">0.8076923076923077</td>\n",
       "        <td style=\"padding-left: 1em; padding-right: 1em; text-align: center; vertical-align: top\">3</td>\n",
       "    </tr>\n",
       "    <tr>\n",
       "        <td style=\"padding-left: 1em; padding-right: 1em; text-align: center; vertical-align: top\">0</td>\n",
       "        <td style=\"padding-left: 1em; padding-right: 1em; text-align: center; vertical-align: top\">Leonardo DiCaprio</td>\n",
       "        <td style=\"padding-left: 1em; padding-right: 1em; text-align: center; vertical-align: top\">0.810126582278481</td>\n",
       "        <td style=\"padding-left: 1em; padding-right: 1em; text-align: center; vertical-align: top\">4</td>\n",
       "    </tr>\n",
       "    <tr>\n",
       "        <td style=\"padding-left: 1em; padding-right: 1em; text-align: center; vertical-align: top\">0</td>\n",
       "        <td style=\"padding-left: 1em; padding-right: 1em; text-align: center; vertical-align: top\">Gwyneth Paltrow</td>\n",
       "        <td style=\"padding-left: 1em; padding-right: 1em; text-align: center; vertical-align: top\">0.8114478114478114</td>\n",
       "        <td style=\"padding-left: 1em; padding-right: 1em; text-align: center; vertical-align: top\">5</td>\n",
       "    </tr>\n",
       "</table>\n",
       "[5 rows x 4 columns]<br/>\n",
       "</div>"
      ],
      "text/plain": [
       "Columns:\n",
       "\tquery_label\tint\n",
       "\treference_label\tstr\n",
       "\tdistance\tfloat\n",
       "\trank\tint\n",
       "\n",
       "Rows: 5\n",
       "\n",
       "Data:\n",
       "+-------------+-------------------+--------------------+------+\n",
       "| query_label |  reference_label  |      distance      | rank |\n",
       "+-------------+-------------------+--------------------+------+\n",
       "|      0      |     Brad Pitt     |        0.0         |  1   |\n",
       "|      0      |   Angelina Jolie  | 0.7840236686390533 |  2   |\n",
       "|      0      |    Alec Baldwin   | 0.8076923076923077 |  3   |\n",
       "|      0      | Leonardo DiCaprio | 0.810126582278481  |  4   |\n",
       "|      0      |  Gwyneth Paltrow  | 0.8114478114478114 |  5   |\n",
       "+-------------+-------------------+--------------------+------+\n",
       "[5 rows x 4 columns]"
      ]
     },
     "execution_count": 55,
     "metadata": {},
     "output_type": "execute_result"
    }
   ],
   "source": [
    "knn_model.query(pitt)"
   ]
  },
  {
   "cell_type": "code",
   "execution_count": 24,
   "metadata": {},
   "outputs": [],
   "source": [
    "elton = people[people['name'] == 'Elton John']"
   ]
  },
  {
   "cell_type": "code",
   "execution_count": 25,
   "metadata": {},
   "outputs": [],
   "source": [
    "elton['word_count'] = turicreate.text_analytics.count_words(elton['text'])"
   ]
  },
  {
   "cell_type": "code",
   "execution_count": 65,
   "metadata": {},
   "outputs": [
    {
     "data": {
      "text/plain": [
       "dtype: dict\n",
       "Rows: 1\n",
       "[{'movements': 1.0, 'social': 1.0, 'champion': 1.0, 'wed': 1.0, 'legal': 1.0, 'became': 1.0, 'after': 1.0, '2005': 1.0, 'december': 2.0, 'furnish': 2.0, '1988': 1.0, 'gay': 2.0, 'openly': 1.0, '1976': 1.0, 'bisexual': 1.0, '200': 1.0, 'raised': 1.0, 'industry': 1.0, 'film': 1.0, 'hollywood': 1.0, 'parties': 1.0, 'become': 1.0, 'which': 1.0, 'hosting': 1.0, 'year': 1.0, 'established': 1.0, '1992': 1.0, '1980s': 1.0, 'lgbt': 1.0, 'against': 1.0, 'involved': 1.0, '2014': 1.0, 'entered': 1.0, '2012he': 1.0, 'you': 1.0, 'nine': 1.0, 'academy': 3.0, 'something': 1.0, 'artists': 2.0, 'samesex': 1.0, 'single': 2.0, 'solo': 1.0, 'overallelton': 1.0, 'no': 3.0, 'era': 1.0, 'performed': 1.0, 'for': 5.0, 'foundation': 2.0, 'john': 7.0, 'such': 1.0, '27': 1.0, 'and': 15.0, 'world': 1.0, 'billboard': 4.0, '1': 2.0, 'highestprofile': 1.0, 'actor': 1.0, 'aids': 2.0, 'since': 5.0, 'consecutive': 2.0, 'songwriter': 2.0, '300': 1.0, 'including': 1.0, '40': 2.0, 'palace': 2.0, 'tonightcandle': 1.0, 'in': 18.0, 'datein': 1.0, 'singer': 1.0, 'four': 1.0, '1994': 1.0, 'his': 4.0, 'of': 13.0, 'the': 27.0, 'one': 3.0, 'continues': 1.0, '21': 2.0, 'rolling': 1.0, 'seven': 1.0, 'diana': 1.0, 'us': 1.0, '1997': 2.0, '10': 1.0, 'hits': 1.0, 'records': 1.0, 'million': 3.0, 'order': 1.0, 'david': 1.0, 'civil': 1.0, 'pianist': 1.0, '100': 3.0, 'him': 3.0, 'he': 7.0, 'march': 1.0, 'look': 1.0, 'at': 4.0, 'received': 2.0, 'reginald': 1.0, 'song': 1.0, 'british': 3.0, 'golden': 1.0, 'an': 3.0, 'bernie': 1.0, 'way': 1.0, 'all': 1.0, 'ii': 1.0, 'hercules': 1.0, '1967': 1.0, 'collaborated': 1.0, '33': 1.0, 'partnership': 1.0, 'awards': 3.0, 'fifty': 1.0, '1947': 1.0, 'cbe': 1.0, 'singles': 1.0, 'has': 9.0, 'had': 1.0, 'producer': 1.0, 'music': 3.0, 'career': 1.0, 'marriage': 2.0, 'kenneth': 1.0, 'with': 2.0, 'fellow': 1.0, 'elton': 3.0, 'fight': 1.0, 'worked': 1.0, 'record': 1.0, 'having': 1.0, 'be': 1.0, 'sold': 2.0, 'making': 1.0, 'most': 1.0, 'buckingham': 1.0, 'sir': 1.0, 'least': 1.0, 'to': 4.0, 'as': 2.0, 'have': 1.0, 'hot': 2.0, 'inducted': 1.0, 'taupin': 1.0, 'they': 1.0, 'bestselling': 2.0, 'partner': 1.0, 'on': 6.0, 'more': 3.0, '2002': 1.0, 'brit': 1.0, '30': 1.0, 'lasting': 1.0, 'composers': 1.0, 'award': 5.0, 'royal': 1.0, 'fivedecade': 1.0, 'artist': 1.0, 'westminster': 1.0, 'occasional': 1.0, 'copies': 1.0, 'worldwide': 2.0, 'charitable': 1.0, 'england': 1.0, 'began': 1.0, 'top': 4.0, 'time': 1.0, '58': 1.0, 'wind': 1.0, 'over': 2.0, 'six': 1.0, 'is': 4.0, 'culture': 1.0, 'later': 1.0, 'its': 2.0, 'grammy': 1.0, 'five': 1.0, 'winning': 1.0, 'two': 1.0, 'english': 1.0, 'outstanding': 1.0, '2008': 1.0, 'influential': 1.0, 'contribution': 1.0, 'disney': 1.0, 'first': 1.0, 'funeral': 1.0, 'brits': 1.0, 'albums': 2.0, 'icon': 1.0, 'than': 3.0, '2013': 1.0, 'inception': 1.0, 'a': 10.0, '1998': 1.0, 'globe': 1.0, '1996': 1.0, 'tony': 1.0, 'legend': 1.0, '2': 1.0, 'center': 1.0, 'who': 1.0, 'from': 1.0, 'annual': 1.0, 'honors': 1.0, '25': 1.0, 'fame': 2.0, 'events': 1.0, '2004': 2.0, 'stone': 1.0, 'ranked': 2.0, 'number': 2.0, 'years': 1.0, 'queens': 1.0, 'born': 1.0, '49': 1.0, 'musicians': 1.0, 'kennedy': 1.0, 'rock': 2.0, 'been': 3.0, 'princess': 1.0, 'roll': 2.0, 'successful': 1.0, 'male': 1.0, 'about': 1.0, 'alltime': 1.0, 'list': 1.0, 'third': 1.0, 'was': 2.0, 'into': 3.0, 'impact': 1.0, 'hall': 2.0, 'inductee': 1.0, 'announced': 1.0, '19702000': 1.0, '31': 1.0, 'named': 1.0, 'dwight': 1.0, 'songwriters': 2.0, 'heavily': 1.0, 'authors': 1.0, 'commander': 1.0, 'oscar': 1.0, 'empire': 1.0, 'lyricist': 1.0, 'knighthood': 1.0, 'elizabeth': 1.0, 'services': 2.0, 'abbey': 1.0, 'late': 1.0, 'party': 2.0, 'composer': 1.0, 'diamond': 1.0, 'jubilee': 1.0, 'concert': 1.0, 'outside': 1.0}]"
      ]
     },
     "execution_count": 65,
     "metadata": {},
     "output_type": "execute_result"
    }
   ],
   "source": [
    "elton['word_count']\n"
   ]
  },
  {
   "cell_type": "code",
   "execution_count": 26,
   "metadata": {},
   "outputs": [],
   "source": [
    "elton_word_count_table = elton[['word_count']].stack('word_count',new_column_name = ['word','count'])"
   ]
  },
  {
   "cell_type": "code",
   "execution_count": 27,
   "metadata": {},
   "outputs": [
    {
     "data": {
      "text/html": [
       "<div style=\"max-height:1000px;max-width:1500px;overflow:auto;\"><table frame=\"box\" rules=\"cols\">\n",
       "    <tr>\n",
       "        <th style=\"padding-left: 1em; padding-right: 1em; text-align: center\">word</th>\n",
       "        <th style=\"padding-left: 1em; padding-right: 1em; text-align: center\">count</th>\n",
       "    </tr>\n",
       "    <tr>\n",
       "        <td style=\"padding-left: 1em; padding-right: 1em; text-align: center; vertical-align: top\">the</td>\n",
       "        <td style=\"padding-left: 1em; padding-right: 1em; text-align: center; vertical-align: top\">27.0</td>\n",
       "    </tr>\n",
       "    <tr>\n",
       "        <td style=\"padding-left: 1em; padding-right: 1em; text-align: center; vertical-align: top\">in</td>\n",
       "        <td style=\"padding-left: 1em; padding-right: 1em; text-align: center; vertical-align: top\">18.0</td>\n",
       "    </tr>\n",
       "    <tr>\n",
       "        <td style=\"padding-left: 1em; padding-right: 1em; text-align: center; vertical-align: top\">and</td>\n",
       "        <td style=\"padding-left: 1em; padding-right: 1em; text-align: center; vertical-align: top\">15.0</td>\n",
       "    </tr>\n",
       "    <tr>\n",
       "        <td style=\"padding-left: 1em; padding-right: 1em; text-align: center; vertical-align: top\">of</td>\n",
       "        <td style=\"padding-left: 1em; padding-right: 1em; text-align: center; vertical-align: top\">13.0</td>\n",
       "    </tr>\n",
       "    <tr>\n",
       "        <td style=\"padding-left: 1em; padding-right: 1em; text-align: center; vertical-align: top\">a</td>\n",
       "        <td style=\"padding-left: 1em; padding-right: 1em; text-align: center; vertical-align: top\">10.0</td>\n",
       "    </tr>\n",
       "    <tr>\n",
       "        <td style=\"padding-left: 1em; padding-right: 1em; text-align: center; vertical-align: top\">has</td>\n",
       "        <td style=\"padding-left: 1em; padding-right: 1em; text-align: center; vertical-align: top\">9.0</td>\n",
       "    </tr>\n",
       "    <tr>\n",
       "        <td style=\"padding-left: 1em; padding-right: 1em; text-align: center; vertical-align: top\">he</td>\n",
       "        <td style=\"padding-left: 1em; padding-right: 1em; text-align: center; vertical-align: top\">7.0</td>\n",
       "    </tr>\n",
       "    <tr>\n",
       "        <td style=\"padding-left: 1em; padding-right: 1em; text-align: center; vertical-align: top\">john</td>\n",
       "        <td style=\"padding-left: 1em; padding-right: 1em; text-align: center; vertical-align: top\">7.0</td>\n",
       "    </tr>\n",
       "    <tr>\n",
       "        <td style=\"padding-left: 1em; padding-right: 1em; text-align: center; vertical-align: top\">on</td>\n",
       "        <td style=\"padding-left: 1em; padding-right: 1em; text-align: center; vertical-align: top\">6.0</td>\n",
       "    </tr>\n",
       "    <tr>\n",
       "        <td style=\"padding-left: 1em; padding-right: 1em; text-align: center; vertical-align: top\">award</td>\n",
       "        <td style=\"padding-left: 1em; padding-right: 1em; text-align: center; vertical-align: top\">5.0</td>\n",
       "    </tr>\n",
       "</table>\n",
       "[255 rows x 2 columns]<br/>Note: Only the head of the SFrame is printed.<br/>You can use print_rows(num_rows=m, num_columns=n) to print more rows and columns.\n",
       "</div>"
      ],
      "text/plain": [
       "Columns:\n",
       "\tword\tstr\n",
       "\tcount\tfloat\n",
       "\n",
       "Rows: 255\n",
       "\n",
       "Data:\n",
       "+-------+-------+\n",
       "|  word | count |\n",
       "+-------+-------+\n",
       "|  the  |  27.0 |\n",
       "|   in  |  18.0 |\n",
       "|  and  |  15.0 |\n",
       "|   of  |  13.0 |\n",
       "|   a   |  10.0 |\n",
       "|  has  |  9.0  |\n",
       "|   he  |  7.0  |\n",
       "|  john |  7.0  |\n",
       "|   on  |  6.0  |\n",
       "| award |  5.0  |\n",
       "+-------+-------+\n",
       "[255 rows x 2 columns]\n",
       "Note: Only the head of the SFrame is printed.\n",
       "You can use print_rows(num_rows=m, num_columns=n) to print more rows and columns."
      ]
     },
     "execution_count": 27,
     "metadata": {},
     "output_type": "execute_result"
    }
   ],
   "source": [
    "elton_word_count_table.sort('count',ascending = False)"
   ]
  },
  {
   "cell_type": "code",
   "execution_count": 28,
   "metadata": {},
   "outputs": [
    {
     "data": {
      "text/html": [
       "<div style=\"max-height:1000px;max-width:1500px;overflow:auto;\"><table frame=\"box\" rules=\"cols\">\n",
       "    <tr>\n",
       "        <th style=\"padding-left: 1em; padding-right: 1em; text-align: center\">word</th>\n",
       "        <th style=\"padding-left: 1em; padding-right: 1em; text-align: center\">tfidf</th>\n",
       "    </tr>\n",
       "    <tr>\n",
       "        <td style=\"padding-left: 1em; padding-right: 1em; text-align: center; vertical-align: top\">furnish</td>\n",
       "        <td style=\"padding-left: 1em; padding-right: 1em; text-align: center; vertical-align: top\">18.38947183999428</td>\n",
       "    </tr>\n",
       "    <tr>\n",
       "        <td style=\"padding-left: 1em; padding-right: 1em; text-align: center; vertical-align: top\">elton</td>\n",
       "        <td style=\"padding-left: 1em; padding-right: 1em; text-align: center; vertical-align: top\">17.482320270031995</td>\n",
       "    </tr>\n",
       "    <tr>\n",
       "        <td style=\"padding-left: 1em; padding-right: 1em; text-align: center; vertical-align: top\">billboard</td>\n",
       "        <td style=\"padding-left: 1em; padding-right: 1em; text-align: center; vertical-align: top\">17.30368095754203</td>\n",
       "    </tr>\n",
       "    <tr>\n",
       "        <td style=\"padding-left: 1em; padding-right: 1em; text-align: center; vertical-align: top\">john</td>\n",
       "        <td style=\"padding-left: 1em; padding-right: 1em; text-align: center; vertical-align: top\">13.93931279239831</td>\n",
       "    </tr>\n",
       "    <tr>\n",
       "        <td style=\"padding-left: 1em; padding-right: 1em; text-align: center; vertical-align: top\">songwriters</td>\n",
       "        <td style=\"padding-left: 1em; padding-right: 1em; text-align: center; vertical-align: top\">11.250406447031539</td>\n",
       "    </tr>\n",
       "    <tr>\n",
       "        <td style=\"padding-left: 1em; padding-right: 1em; text-align: center; vertical-align: top\">overallelton</td>\n",
       "        <td style=\"padding-left: 1em; padding-right: 1em; text-align: center; vertical-align: top\">10.986495389225194</td>\n",
       "    </tr>\n",
       "    <tr>\n",
       "        <td style=\"padding-left: 1em; padding-right: 1em; text-align: center; vertical-align: top\">tonightcandle</td>\n",
       "        <td style=\"padding-left: 1em; padding-right: 1em; text-align: center; vertical-align: top\">10.986495389225194</td>\n",
       "    </tr>\n",
       "    <tr>\n",
       "        <td style=\"padding-left: 1em; padding-right: 1em; text-align: center; vertical-align: top\">fivedecade</td>\n",
       "        <td style=\"padding-left: 1em; padding-right: 1em; text-align: center; vertical-align: top\">10.293348208665249</td>\n",
       "    </tr>\n",
       "    <tr>\n",
       "        <td style=\"padding-left: 1em; padding-right: 1em; text-align: center; vertical-align: top\">19702000</td>\n",
       "        <td style=\"padding-left: 1em; padding-right: 1em; text-align: center; vertical-align: top\">10.293348208665249</td>\n",
       "    </tr>\n",
       "    <tr>\n",
       "        <td style=\"padding-left: 1em; padding-right: 1em; text-align: center; vertical-align: top\">aids</td>\n",
       "        <td style=\"padding-left: 1em; padding-right: 1em; text-align: center; vertical-align: top\">10.262846934045534</td>\n",
       "    </tr>\n",
       "</table>\n",
       "[255 rows x 2 columns]<br/>Note: Only the head of the SFrame is printed.<br/>You can use print_rows(num_rows=m, num_columns=n) to print more rows and columns.\n",
       "</div>"
      ],
      "text/plain": [
       "Columns:\n",
       "\tword\tstr\n",
       "\ttfidf\tfloat\n",
       "\n",
       "Rows: 255\n",
       "\n",
       "Data:\n",
       "+---------------+--------------------+\n",
       "|      word     |       tfidf        |\n",
       "+---------------+--------------------+\n",
       "|    furnish    | 18.38947183999428  |\n",
       "|     elton     | 17.482320270031995 |\n",
       "|   billboard   | 17.30368095754203  |\n",
       "|      john     | 13.93931279239831  |\n",
       "|  songwriters  | 11.250406447031539 |\n",
       "|  overallelton | 10.986495389225194 |\n",
       "| tonightcandle | 10.986495389225194 |\n",
       "|   fivedecade  | 10.293348208665249 |\n",
       "|    19702000   | 10.293348208665249 |\n",
       "|      aids     | 10.262846934045534 |\n",
       "+---------------+--------------------+\n",
       "[255 rows x 2 columns]\n",
       "Note: Only the head of the SFrame is printed.\n",
       "You can use print_rows(num_rows=m, num_columns=n) to print more rows and columns."
      ]
     },
     "execution_count": 28,
     "metadata": {},
     "output_type": "execute_result"
    }
   ],
   "source": [
    "elton[['tfidf']].stack('tfidf',new_column_name=['word','tfidf']).sort('tfidf',ascending=False)"
   ]
  },
  {
   "cell_type": "code",
   "execution_count": 69,
   "metadata": {},
   "outputs": [],
   "source": [
    "beckham2 = people[people['name'] == 'Victoria Beckham']"
   ]
  },
  {
   "cell_type": "code",
   "execution_count": 70,
   "metadata": {},
   "outputs": [],
   "source": [
    "paul = people[people['name'] == 'Paul McCartney']"
   ]
  },
  {
   "cell_type": "code",
   "execution_count": 71,
   "metadata": {},
   "outputs": [
    {
     "data": {
      "text/plain": [
       "0.9567006376655429"
      ]
     },
     "execution_count": 71,
     "metadata": {},
     "output_type": "execute_result"
    }
   ],
   "source": [
    "turicreate.distances.cosine(elton['tfidf'][0],beckham2['tfidf'][0])"
   ]
  },
  {
   "cell_type": "code",
   "execution_count": 76,
   "metadata": {},
   "outputs": [
    {
     "data": {
      "text/plain": [
       "0.8250310029221779"
      ]
     },
     "execution_count": 76,
     "metadata": {},
     "output_type": "execute_result"
    }
   ],
   "source": [
    "turicreate.distances.cosine(elton['tfidf'][0],paul['tfidf'][0])"
   ]
  },
  {
   "cell_type": "code",
   "execution_count": 68,
   "metadata": {},
   "outputs": [
    {
     "data": {
      "text/html": [
       "<pre>Starting brute force nearest neighbors model training.</pre>"
      ],
      "text/plain": [
       "Starting brute force nearest neighbors model training."
      ]
     },
     "metadata": {},
     "output_type": "display_data"
    },
    {
     "data": {
      "text/html": [
       "<pre>Validating distance components.</pre>"
      ],
      "text/plain": [
       "Validating distance components."
      ]
     },
     "metadata": {},
     "output_type": "display_data"
    },
    {
     "data": {
      "text/html": [
       "<pre>Initializing model data.</pre>"
      ],
      "text/plain": [
       "Initializing model data."
      ]
     },
     "metadata": {},
     "output_type": "display_data"
    },
    {
     "data": {
      "text/html": [
       "<pre>Initializing distances.</pre>"
      ],
      "text/plain": [
       "Initializing distances."
      ]
     },
     "metadata": {},
     "output_type": "display_data"
    },
    {
     "data": {
      "text/html": [
       "<pre>Done.</pre>"
      ],
      "text/plain": [
       "Done."
      ]
     },
     "metadata": {},
     "output_type": "display_data"
    }
   ],
   "source": [
    "knn_model_word_count = turicreate.nearest_neighbors.create(people,features=['word_count'],label='name',distance='cosine')"
   ]
  },
  {
   "cell_type": "code",
   "execution_count": 66,
   "metadata": {},
   "outputs": [
    {
     "data": {
      "text/html": [
       "<pre>Starting pairwise querying.</pre>"
      ],
      "text/plain": [
       "Starting pairwise querying."
      ]
     },
     "metadata": {},
     "output_type": "display_data"
    },
    {
     "data": {
      "text/html": [
       "<pre>+--------------+---------+-------------+--------------+</pre>"
      ],
      "text/plain": [
       "+--------------+---------+-------------+--------------+"
      ]
     },
     "metadata": {},
     "output_type": "display_data"
    },
    {
     "data": {
      "text/html": [
       "<pre>| Query points | # Pairs | % Complete. | Elapsed Time |</pre>"
      ],
      "text/plain": [
       "| Query points | # Pairs | % Complete. | Elapsed Time |"
      ]
     },
     "metadata": {},
     "output_type": "display_data"
    },
    {
     "data": {
      "text/html": [
       "<pre>+--------------+---------+-------------+--------------+</pre>"
      ],
      "text/plain": [
       "+--------------+---------+-------------+--------------+"
      ]
     },
     "metadata": {},
     "output_type": "display_data"
    },
    {
     "data": {
      "text/html": [
       "<pre>| 0            | 1       | 0.00169288  | 8.045ms      |</pre>"
      ],
      "text/plain": [
       "| 0            | 1       | 0.00169288  | 8.045ms      |"
      ]
     },
     "metadata": {},
     "output_type": "display_data"
    },
    {
     "data": {
      "text/html": [
       "<pre>| Done         |         | 100         | 290.086ms    |</pre>"
      ],
      "text/plain": [
       "| Done         |         | 100         | 290.086ms    |"
      ]
     },
     "metadata": {},
     "output_type": "display_data"
    },
    {
     "data": {
      "text/html": [
       "<pre>+--------------+---------+-------------+--------------+</pre>"
      ],
      "text/plain": [
       "+--------------+---------+-------------+--------------+"
      ]
     },
     "metadata": {},
     "output_type": "display_data"
    },
    {
     "data": {
      "text/html": [
       "<div style=\"max-height:1000px;max-width:1500px;overflow:auto;\"><table frame=\"box\" rules=\"cols\">\n",
       "    <tr>\n",
       "        <th style=\"padding-left: 1em; padding-right: 1em; text-align: center\">query_label</th>\n",
       "        <th style=\"padding-left: 1em; padding-right: 1em; text-align: center\">reference_label</th>\n",
       "        <th style=\"padding-left: 1em; padding-right: 1em; text-align: center\">distance</th>\n",
       "        <th style=\"padding-left: 1em; padding-right: 1em; text-align: center\">rank</th>\n",
       "    </tr>\n",
       "    <tr>\n",
       "        <td style=\"padding-left: 1em; padding-right: 1em; text-align: center; vertical-align: top\">0</td>\n",
       "        <td style=\"padding-left: 1em; padding-right: 1em; text-align: center; vertical-align: top\">Elton John</td>\n",
       "        <td style=\"padding-left: 1em; padding-right: 1em; text-align: center; vertical-align: top\">2.220446049250313e-16</td>\n",
       "        <td style=\"padding-left: 1em; padding-right: 1em; text-align: center; vertical-align: top\">1</td>\n",
       "    </tr>\n",
       "    <tr>\n",
       "        <td style=\"padding-left: 1em; padding-right: 1em; text-align: center; vertical-align: top\">0</td>\n",
       "        <td style=\"padding-left: 1em; padding-right: 1em; text-align: center; vertical-align: top\">Cliff Richard</td>\n",
       "        <td style=\"padding-left: 1em; padding-right: 1em; text-align: center; vertical-align: top\">0.16142415258967036</td>\n",
       "        <td style=\"padding-left: 1em; padding-right: 1em; text-align: center; vertical-align: top\">2</td>\n",
       "    </tr>\n",
       "    <tr>\n",
       "        <td style=\"padding-left: 1em; padding-right: 1em; text-align: center; vertical-align: top\">0</td>\n",
       "        <td style=\"padding-left: 1em; padding-right: 1em; text-align: center; vertical-align: top\">Sandro Petrone</td>\n",
       "        <td style=\"padding-left: 1em; padding-right: 1em; text-align: center; vertical-align: top\">0.16822542751041114</td>\n",
       "        <td style=\"padding-left: 1em; padding-right: 1em; text-align: center; vertical-align: top\">3</td>\n",
       "    </tr>\n",
       "    <tr>\n",
       "        <td style=\"padding-left: 1em; padding-right: 1em; text-align: center; vertical-align: top\">0</td>\n",
       "        <td style=\"padding-left: 1em; padding-right: 1em; text-align: center; vertical-align: top\">Rod Stewart</td>\n",
       "        <td style=\"padding-left: 1em; padding-right: 1em; text-align: center; vertical-align: top\">0.16832716558706107</td>\n",
       "        <td style=\"padding-left: 1em; padding-right: 1em; text-align: center; vertical-align: top\">4</td>\n",
       "    </tr>\n",
       "    <tr>\n",
       "        <td style=\"padding-left: 1em; padding-right: 1em; text-align: center; vertical-align: top\">0</td>\n",
       "        <td style=\"padding-left: 1em; padding-right: 1em; text-align: center; vertical-align: top\">Malachi O&#x27;Doherty</td>\n",
       "        <td style=\"padding-left: 1em; padding-right: 1em; text-align: center; vertical-align: top\">0.177315545978884</td>\n",
       "        <td style=\"padding-left: 1em; padding-right: 1em; text-align: center; vertical-align: top\">5</td>\n",
       "    </tr>\n",
       "</table>\n",
       "[5 rows x 4 columns]<br/>\n",
       "</div>"
      ],
      "text/plain": [
       "Columns:\n",
       "\tquery_label\tint\n",
       "\treference_label\tstr\n",
       "\tdistance\tfloat\n",
       "\trank\tint\n",
       "\n",
       "Rows: 5\n",
       "\n",
       "Data:\n",
       "+-------------+-------------------+-----------------------+------+\n",
       "| query_label |  reference_label  |        distance       | rank |\n",
       "+-------------+-------------------+-----------------------+------+\n",
       "|      0      |     Elton John    | 2.220446049250313e-16 |  1   |\n",
       "|      0      |   Cliff Richard   |  0.16142415258967036  |  2   |\n",
       "|      0      |   Sandro Petrone  |  0.16822542751041114  |  3   |\n",
       "|      0      |    Rod Stewart    |  0.16832716558706107  |  4   |\n",
       "|      0      | Malachi O'Doherty |   0.177315545978884   |  5   |\n",
       "+-------------+-------------------+-----------------------+------+\n",
       "[5 rows x 4 columns]"
      ]
     },
     "execution_count": 66,
     "metadata": {},
     "output_type": "execute_result"
    }
   ],
   "source": [
    "knn_model_word_count.query(elton)"
   ]
  },
  {
   "cell_type": "code",
   "execution_count": 59,
   "metadata": {},
   "outputs": [
    {
     "data": {
      "text/html": [
       "<pre>Starting brute force nearest neighbors model training.</pre>"
      ],
      "text/plain": [
       "Starting brute force nearest neighbors model training."
      ]
     },
     "metadata": {},
     "output_type": "display_data"
    },
    {
     "data": {
      "text/html": [
       "<pre>Validating distance components.</pre>"
      ],
      "text/plain": [
       "Validating distance components."
      ]
     },
     "metadata": {},
     "output_type": "display_data"
    },
    {
     "data": {
      "text/html": [
       "<pre>Initializing model data.</pre>"
      ],
      "text/plain": [
       "Initializing model data."
      ]
     },
     "metadata": {},
     "output_type": "display_data"
    },
    {
     "data": {
      "text/html": [
       "<pre>Initializing distances.</pre>"
      ],
      "text/plain": [
       "Initializing distances."
      ]
     },
     "metadata": {},
     "output_type": "display_data"
    },
    {
     "data": {
      "text/html": [
       "<pre>Done.</pre>"
      ],
      "text/plain": [
       "Done."
      ]
     },
     "metadata": {},
     "output_type": "display_data"
    }
   ],
   "source": [
    "knn_model_tfidf = turicreate.nearest_neighbors.create(people,features=['tfidf'],label='name',distance='cosine')"
   ]
  },
  {
   "cell_type": "code",
   "execution_count": 60,
   "metadata": {},
   "outputs": [
    {
     "data": {
      "text/html": [
       "<pre>Starting pairwise querying.</pre>"
      ],
      "text/plain": [
       "Starting pairwise querying."
      ]
     },
     "metadata": {},
     "output_type": "display_data"
    },
    {
     "data": {
      "text/html": [
       "<pre>+--------------+---------+-------------+--------------+</pre>"
      ],
      "text/plain": [
       "+--------------+---------+-------------+--------------+"
      ]
     },
     "metadata": {},
     "output_type": "display_data"
    },
    {
     "data": {
      "text/html": [
       "<pre>| Query points | # Pairs | % Complete. | Elapsed Time |</pre>"
      ],
      "text/plain": [
       "| Query points | # Pairs | % Complete. | Elapsed Time |"
      ]
     },
     "metadata": {},
     "output_type": "display_data"
    },
    {
     "data": {
      "text/html": [
       "<pre>+--------------+---------+-------------+--------------+</pre>"
      ],
      "text/plain": [
       "+--------------+---------+-------------+--------------+"
      ]
     },
     "metadata": {},
     "output_type": "display_data"
    },
    {
     "data": {
      "text/html": [
       "<pre>| 0            | 1       | 0.00169288  | 9.082ms      |</pre>"
      ],
      "text/plain": [
       "| 0            | 1       | 0.00169288  | 9.082ms      |"
      ]
     },
     "metadata": {},
     "output_type": "display_data"
    },
    {
     "data": {
      "text/html": [
       "<pre>| Done         |         | 100         | 253.959ms    |</pre>"
      ],
      "text/plain": [
       "| Done         |         | 100         | 253.959ms    |"
      ]
     },
     "metadata": {},
     "output_type": "display_data"
    },
    {
     "data": {
      "text/html": [
       "<pre>+--------------+---------+-------------+--------------+</pre>"
      ],
      "text/plain": [
       "+--------------+---------+-------------+--------------+"
      ]
     },
     "metadata": {},
     "output_type": "display_data"
    },
    {
     "data": {
      "text/html": [
       "<div style=\"max-height:1000px;max-width:1500px;overflow:auto;\"><table frame=\"box\" rules=\"cols\">\n",
       "    <tr>\n",
       "        <th style=\"padding-left: 1em; padding-right: 1em; text-align: center\">query_label</th>\n",
       "        <th style=\"padding-left: 1em; padding-right: 1em; text-align: center\">reference_label</th>\n",
       "        <th style=\"padding-left: 1em; padding-right: 1em; text-align: center\">distance</th>\n",
       "        <th style=\"padding-left: 1em; padding-right: 1em; text-align: center\">rank</th>\n",
       "    </tr>\n",
       "    <tr>\n",
       "        <td style=\"padding-left: 1em; padding-right: 1em; text-align: center; vertical-align: top\">0</td>\n",
       "        <td style=\"padding-left: 1em; padding-right: 1em; text-align: center; vertical-align: top\">Elton John</td>\n",
       "        <td style=\"padding-left: 1em; padding-right: 1em; text-align: center; vertical-align: top\">-2.220446049250313e-16</td>\n",
       "        <td style=\"padding-left: 1em; padding-right: 1em; text-align: center; vertical-align: top\">1</td>\n",
       "    </tr>\n",
       "    <tr>\n",
       "        <td style=\"padding-left: 1em; padding-right: 1em; text-align: center; vertical-align: top\">0</td>\n",
       "        <td style=\"padding-left: 1em; padding-right: 1em; text-align: center; vertical-align: top\">Rod Stewart</td>\n",
       "        <td style=\"padding-left: 1em; padding-right: 1em; text-align: center; vertical-align: top\">0.7172196678927374</td>\n",
       "        <td style=\"padding-left: 1em; padding-right: 1em; text-align: center; vertical-align: top\">2</td>\n",
       "    </tr>\n",
       "    <tr>\n",
       "        <td style=\"padding-left: 1em; padding-right: 1em; text-align: center; vertical-align: top\">0</td>\n",
       "        <td style=\"padding-left: 1em; padding-right: 1em; text-align: center; vertical-align: top\">George Michael</td>\n",
       "        <td style=\"padding-left: 1em; padding-right: 1em; text-align: center; vertical-align: top\">0.7476009989692848</td>\n",
       "        <td style=\"padding-left: 1em; padding-right: 1em; text-align: center; vertical-align: top\">3</td>\n",
       "    </tr>\n",
       "    <tr>\n",
       "        <td style=\"padding-left: 1em; padding-right: 1em; text-align: center; vertical-align: top\">0</td>\n",
       "        <td style=\"padding-left: 1em; padding-right: 1em; text-align: center; vertical-align: top\">Sting (musician)</td>\n",
       "        <td style=\"padding-left: 1em; padding-right: 1em; text-align: center; vertical-align: top\">0.7476719544306141</td>\n",
       "        <td style=\"padding-left: 1em; padding-right: 1em; text-align: center; vertical-align: top\">4</td>\n",
       "    </tr>\n",
       "    <tr>\n",
       "        <td style=\"padding-left: 1em; padding-right: 1em; text-align: center; vertical-align: top\">0</td>\n",
       "        <td style=\"padding-left: 1em; padding-right: 1em; text-align: center; vertical-align: top\">Phil Collins</td>\n",
       "        <td style=\"padding-left: 1em; padding-right: 1em; text-align: center; vertical-align: top\">0.7511932487904706</td>\n",
       "        <td style=\"padding-left: 1em; padding-right: 1em; text-align: center; vertical-align: top\">5</td>\n",
       "    </tr>\n",
       "</table>\n",
       "[5 rows x 4 columns]<br/>\n",
       "</div>"
      ],
      "text/plain": [
       "Columns:\n",
       "\tquery_label\tint\n",
       "\treference_label\tstr\n",
       "\tdistance\tfloat\n",
       "\trank\tint\n",
       "\n",
       "Rows: 5\n",
       "\n",
       "Data:\n",
       "+-------------+------------------+------------------------+------+\n",
       "| query_label | reference_label  |        distance        | rank |\n",
       "+-------------+------------------+------------------------+------+\n",
       "|      0      |    Elton John    | -2.220446049250313e-16 |  1   |\n",
       "|      0      |   Rod Stewart    |   0.7172196678927374   |  2   |\n",
       "|      0      |  George Michael  |   0.7476009989692848   |  3   |\n",
       "|      0      | Sting (musician) |   0.7476719544306141   |  4   |\n",
       "|      0      |   Phil Collins   |   0.7511932487904706   |  5   |\n",
       "+-------------+------------------+------------------------+------+\n",
       "[5 rows x 4 columns]"
      ]
     },
     "execution_count": 60,
     "metadata": {},
     "output_type": "execute_result"
    }
   ],
   "source": [
    "knn_model_tfidf.query(elton)"
   ]
  },
  {
   "cell_type": "code",
   "execution_count": 61,
   "metadata": {},
   "outputs": [
    {
     "data": {
      "text/html": [
       "<pre>Starting pairwise querying.</pre>"
      ],
      "text/plain": [
       "Starting pairwise querying."
      ]
     },
     "metadata": {},
     "output_type": "display_data"
    },
    {
     "data": {
      "text/html": [
       "<pre>+--------------+---------+-------------+--------------+</pre>"
      ],
      "text/plain": [
       "+--------------+---------+-------------+--------------+"
      ]
     },
     "metadata": {},
     "output_type": "display_data"
    },
    {
     "data": {
      "text/html": [
       "<pre>| Query points | # Pairs | % Complete. | Elapsed Time |</pre>"
      ],
      "text/plain": [
       "| Query points | # Pairs | % Complete. | Elapsed Time |"
      ]
     },
     "metadata": {},
     "output_type": "display_data"
    },
    {
     "data": {
      "text/html": [
       "<pre>+--------------+---------+-------------+--------------+</pre>"
      ],
      "text/plain": [
       "+--------------+---------+-------------+--------------+"
      ]
     },
     "metadata": {},
     "output_type": "display_data"
    },
    {
     "data": {
      "text/html": [
       "<pre>| 0            | 1       | 0.00169288  | 14.372ms     |</pre>"
      ],
      "text/plain": [
       "| 0            | 1       | 0.00169288  | 14.372ms     |"
      ]
     },
     "metadata": {},
     "output_type": "display_data"
    },
    {
     "data": {
      "text/html": [
       "<pre>| Done         |         | 100         | 222.632ms    |</pre>"
      ],
      "text/plain": [
       "| Done         |         | 100         | 222.632ms    |"
      ]
     },
     "metadata": {},
     "output_type": "display_data"
    },
    {
     "data": {
      "text/html": [
       "<pre>+--------------+---------+-------------+--------------+</pre>"
      ],
      "text/plain": [
       "+--------------+---------+-------------+--------------+"
      ]
     },
     "metadata": {},
     "output_type": "display_data"
    },
    {
     "data": {
      "text/html": [
       "<div style=\"max-height:1000px;max-width:1500px;overflow:auto;\"><table frame=\"box\" rules=\"cols\">\n",
       "    <tr>\n",
       "        <th style=\"padding-left: 1em; padding-right: 1em; text-align: center\">query_label</th>\n",
       "        <th style=\"padding-left: 1em; padding-right: 1em; text-align: center\">reference_label</th>\n",
       "        <th style=\"padding-left: 1em; padding-right: 1em; text-align: center\">distance</th>\n",
       "        <th style=\"padding-left: 1em; padding-right: 1em; text-align: center\">rank</th>\n",
       "    </tr>\n",
       "    <tr>\n",
       "        <td style=\"padding-left: 1em; padding-right: 1em; text-align: center; vertical-align: top\">0</td>\n",
       "        <td style=\"padding-left: 1em; padding-right: 1em; text-align: center; vertical-align: top\">Victoria Beckham</td>\n",
       "        <td style=\"padding-left: 1em; padding-right: 1em; text-align: center; vertical-align: top\">1.1102230246251565e-16</td>\n",
       "        <td style=\"padding-left: 1em; padding-right: 1em; text-align: center; vertical-align: top\">1</td>\n",
       "    </tr>\n",
       "    <tr>\n",
       "        <td style=\"padding-left: 1em; padding-right: 1em; text-align: center; vertical-align: top\">0</td>\n",
       "        <td style=\"padding-left: 1em; padding-right: 1em; text-align: center; vertical-align: top\">David Beckham</td>\n",
       "        <td style=\"padding-left: 1em; padding-right: 1em; text-align: center; vertical-align: top\">0.5481696102632145</td>\n",
       "        <td style=\"padding-left: 1em; padding-right: 1em; text-align: center; vertical-align: top\">2</td>\n",
       "    </tr>\n",
       "    <tr>\n",
       "        <td style=\"padding-left: 1em; padding-right: 1em; text-align: center; vertical-align: top\">0</td>\n",
       "        <td style=\"padding-left: 1em; padding-right: 1em; text-align: center; vertical-align: top\">Stephen Dow Beckham</td>\n",
       "        <td style=\"padding-left: 1em; padding-right: 1em; text-align: center; vertical-align: top\">0.7849867068283364</td>\n",
       "        <td style=\"padding-left: 1em; padding-right: 1em; text-align: center; vertical-align: top\">3</td>\n",
       "    </tr>\n",
       "    <tr>\n",
       "        <td style=\"padding-left: 1em; padding-right: 1em; text-align: center; vertical-align: top\">0</td>\n",
       "        <td style=\"padding-left: 1em; padding-right: 1em; text-align: center; vertical-align: top\">Mel B</td>\n",
       "        <td style=\"padding-left: 1em; padding-right: 1em; text-align: center; vertical-align: top\">0.8095855234085036</td>\n",
       "        <td style=\"padding-left: 1em; padding-right: 1em; text-align: center; vertical-align: top\">4</td>\n",
       "    </tr>\n",
       "    <tr>\n",
       "        <td style=\"padding-left: 1em; padding-right: 1em; text-align: center; vertical-align: top\">0</td>\n",
       "        <td style=\"padding-left: 1em; padding-right: 1em; text-align: center; vertical-align: top\">Caroline Rush</td>\n",
       "        <td style=\"padding-left: 1em; padding-right: 1em; text-align: center; vertical-align: top\">0.81982642291868</td>\n",
       "        <td style=\"padding-left: 1em; padding-right: 1em; text-align: center; vertical-align: top\">5</td>\n",
       "    </tr>\n",
       "</table>\n",
       "[5 rows x 4 columns]<br/>\n",
       "</div>"
      ],
      "text/plain": [
       "Columns:\n",
       "\tquery_label\tint\n",
       "\treference_label\tstr\n",
       "\tdistance\tfloat\n",
       "\trank\tint\n",
       "\n",
       "Rows: 5\n",
       "\n",
       "Data:\n",
       "+-------------+---------------------+------------------------+------+\n",
       "| query_label |   reference_label   |        distance        | rank |\n",
       "+-------------+---------------------+------------------------+------+\n",
       "|      0      |   Victoria Beckham  | 1.1102230246251565e-16 |  1   |\n",
       "|      0      |    David Beckham    |   0.5481696102632145   |  2   |\n",
       "|      0      | Stephen Dow Beckham |   0.7849867068283364   |  3   |\n",
       "|      0      |        Mel B        |   0.8095855234085036   |  4   |\n",
       "|      0      |    Caroline Rush    |    0.81982642291868    |  5   |\n",
       "+-------------+---------------------+------------------------+------+\n",
       "[5 rows x 4 columns]"
      ]
     },
     "execution_count": 61,
     "metadata": {},
     "output_type": "execute_result"
    }
   ],
   "source": [
    "knn_model_tfidf.query(beckham2)"
   ]
  },
  {
   "cell_type": "code",
   "execution_count": 72,
   "metadata": {},
   "outputs": [
    {
     "data": {
      "text/html": [
       "<pre>Starting pairwise querying.</pre>"
      ],
      "text/plain": [
       "Starting pairwise querying."
      ]
     },
     "metadata": {},
     "output_type": "display_data"
    },
    {
     "data": {
      "text/html": [
       "<pre>+--------------+---------+-------------+--------------+</pre>"
      ],
      "text/plain": [
       "+--------------+---------+-------------+--------------+"
      ]
     },
     "metadata": {},
     "output_type": "display_data"
    },
    {
     "data": {
      "text/html": [
       "<pre>| Query points | # Pairs | % Complete. | Elapsed Time |</pre>"
      ],
      "text/plain": [
       "| Query points | # Pairs | % Complete. | Elapsed Time |"
      ]
     },
     "metadata": {},
     "output_type": "display_data"
    },
    {
     "data": {
      "text/html": [
       "<pre>+--------------+---------+-------------+--------------+</pre>"
      ],
      "text/plain": [
       "+--------------+---------+-------------+--------------+"
      ]
     },
     "metadata": {},
     "output_type": "display_data"
    },
    {
     "data": {
      "text/html": [
       "<pre>| 0            | 1       | 0.00169288  | 9.177ms      |</pre>"
      ],
      "text/plain": [
       "| 0            | 1       | 0.00169288  | 9.177ms      |"
      ]
     },
     "metadata": {},
     "output_type": "display_data"
    },
    {
     "data": {
      "text/html": [
       "<pre>| Done         |         | 100         | 259.921ms    |</pre>"
      ],
      "text/plain": [
       "| Done         |         | 100         | 259.921ms    |"
      ]
     },
     "metadata": {},
     "output_type": "display_data"
    },
    {
     "data": {
      "text/html": [
       "<pre>+--------------+---------+-------------+--------------+</pre>"
      ],
      "text/plain": [
       "+--------------+---------+-------------+--------------+"
      ]
     },
     "metadata": {},
     "output_type": "display_data"
    },
    {
     "data": {
      "text/html": [
       "<div style=\"max-height:1000px;max-width:1500px;overflow:auto;\"><table frame=\"box\" rules=\"cols\">\n",
       "    <tr>\n",
       "        <th style=\"padding-left: 1em; padding-right: 1em; text-align: center\">query_label</th>\n",
       "        <th style=\"padding-left: 1em; padding-right: 1em; text-align: center\">reference_label</th>\n",
       "        <th style=\"padding-left: 1em; padding-right: 1em; text-align: center\">distance</th>\n",
       "        <th style=\"padding-left: 1em; padding-right: 1em; text-align: center\">rank</th>\n",
       "    </tr>\n",
       "    <tr>\n",
       "        <td style=\"padding-left: 1em; padding-right: 1em; text-align: center; vertical-align: top\">0</td>\n",
       "        <td style=\"padding-left: 1em; padding-right: 1em; text-align: center; vertical-align: top\">Victoria Beckham</td>\n",
       "        <td style=\"padding-left: 1em; padding-right: 1em; text-align: center; vertical-align: top\">-2.220446049250313e-16</td>\n",
       "        <td style=\"padding-left: 1em; padding-right: 1em; text-align: center; vertical-align: top\">1</td>\n",
       "    </tr>\n",
       "    <tr>\n",
       "        <td style=\"padding-left: 1em; padding-right: 1em; text-align: center; vertical-align: top\">0</td>\n",
       "        <td style=\"padding-left: 1em; padding-right: 1em; text-align: center; vertical-align: top\">Mary Fitzgerald (artist)</td>\n",
       "        <td style=\"padding-left: 1em; padding-right: 1em; text-align: center; vertical-align: top\">0.20730703611504997</td>\n",
       "        <td style=\"padding-left: 1em; padding-right: 1em; text-align: center; vertical-align: top\">2</td>\n",
       "    </tr>\n",
       "    <tr>\n",
       "        <td style=\"padding-left: 1em; padding-right: 1em; text-align: center; vertical-align: top\">0</td>\n",
       "        <td style=\"padding-left: 1em; padding-right: 1em; text-align: center; vertical-align: top\">Adrienne Corri</td>\n",
       "        <td style=\"padding-left: 1em; padding-right: 1em; text-align: center; vertical-align: top\">0.21450978278754795</td>\n",
       "        <td style=\"padding-left: 1em; padding-right: 1em; text-align: center; vertical-align: top\">3</td>\n",
       "    </tr>\n",
       "    <tr>\n",
       "        <td style=\"padding-left: 1em; padding-right: 1em; text-align: center; vertical-align: top\">0</td>\n",
       "        <td style=\"padding-left: 1em; padding-right: 1em; text-align: center; vertical-align: top\">Beverly Jane Fry</td>\n",
       "        <td style=\"padding-left: 1em; padding-right: 1em; text-align: center; vertical-align: top\">0.21746646874079278</td>\n",
       "        <td style=\"padding-left: 1em; padding-right: 1em; text-align: center; vertical-align: top\">4</td>\n",
       "    </tr>\n",
       "    <tr>\n",
       "        <td style=\"padding-left: 1em; padding-right: 1em; text-align: center; vertical-align: top\">0</td>\n",
       "        <td style=\"padding-left: 1em; padding-right: 1em; text-align: center; vertical-align: top\">Raman Mundair</td>\n",
       "        <td style=\"padding-left: 1em; padding-right: 1em; text-align: center; vertical-align: top\">0.21769547499150488</td>\n",
       "        <td style=\"padding-left: 1em; padding-right: 1em; text-align: center; vertical-align: top\">5</td>\n",
       "    </tr>\n",
       "</table>\n",
       "[5 rows x 4 columns]<br/>\n",
       "</div>"
      ],
      "text/plain": [
       "Columns:\n",
       "\tquery_label\tint\n",
       "\treference_label\tstr\n",
       "\tdistance\tfloat\n",
       "\trank\tint\n",
       "\n",
       "Rows: 5\n",
       "\n",
       "Data:\n",
       "+-------------+--------------------------+------------------------+------+\n",
       "| query_label |     reference_label      |        distance        | rank |\n",
       "+-------------+--------------------------+------------------------+------+\n",
       "|      0      |     Victoria Beckham     | -2.220446049250313e-16 |  1   |\n",
       "|      0      | Mary Fitzgerald (artist) |  0.20730703611504997   |  2   |\n",
       "|      0      |      Adrienne Corri      |  0.21450978278754795   |  3   |\n",
       "|      0      |     Beverly Jane Fry     |  0.21746646874079278   |  4   |\n",
       "|      0      |      Raman Mundair       |  0.21769547499150488   |  5   |\n",
       "+-------------+--------------------------+------------------------+------+\n",
       "[5 rows x 4 columns]"
      ]
     },
     "execution_count": 72,
     "metadata": {},
     "output_type": "execute_result"
    }
   ],
   "source": [
    "knn_model_word_count.query(beckham2)"
   ]
  },
  {
   "cell_type": "code",
   "execution_count": null,
   "metadata": {},
   "outputs": [],
   "source": []
  }
 ],
 "metadata": {
  "kernelspec": {
   "display_name": "Python 3",
   "language": "python",
   "name": "python3"
  },
  "language_info": {
   "codemirror_mode": {
    "name": "ipython",
    "version": 3
   },
   "file_extension": ".py",
   "mimetype": "text/x-python",
   "name": "python",
   "nbconvert_exporter": "python",
   "pygments_lexer": "ipython3",
   "version": "3.7.7"
  }
 },
 "nbformat": 4,
 "nbformat_minor": 4
}
