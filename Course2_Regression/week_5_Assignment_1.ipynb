{
 "cells": [
  {
   "cell_type": "markdown",
   "metadata": {},
   "source": [
    "# Regression Week 5: Feature Selection and LASSO (Interpretation)"
   ]
  },
  {
   "cell_type": "markdown",
   "metadata": {},
   "source": [
    "In this notebook, you will use LASSO to select features, building on a pre-implemented solver for LASSO (using Turi Create, though you can use other solvers). You will:\n",
    "* Run LASSO with different L1 penalties.\n",
    "* Choose best L1 penalty using a validation set.\n",
    "* Choose best L1 penalty using a validation set, with additional constraint on the size of subset.\n",
    "\n",
    "In the second notebook, you will implement your own LASSO solver, using coordinate descent. "
   ]
  },
  {
   "cell_type": "markdown",
   "metadata": {},
   "source": [
    "# Fire up Turi Create"
   ]
  },
  {
   "cell_type": "code",
   "execution_count": 72,
   "metadata": {},
   "outputs": [],
   "source": [
    "import turicreate"
   ]
  },
  {
   "cell_type": "markdown",
   "metadata": {},
   "source": [
    "# Load in house sales data\n",
    "\n",
    "Dataset is from house sales in King County, the region where the city of Seattle, WA is located."
   ]
  },
  {
   "cell_type": "code",
   "execution_count": 73,
   "metadata": {
    "scrolled": true
   },
   "outputs": [],
   "source": [
    "sales = turicreate.SFrame('home_data.sframe/')"
   ]
  },
  {
   "cell_type": "markdown",
   "metadata": {},
   "source": [
    "# Create new features"
   ]
  },
  {
   "cell_type": "markdown",
   "metadata": {},
   "source": [
    "As in Week 2, we consider features that are some transformations of inputs."
   ]
  },
  {
   "cell_type": "code",
   "execution_count": 74,
   "metadata": {},
   "outputs": [],
   "source": [
    "from math import log, sqrt\n",
    "sales['sqft_living_sqrt'] = sales['sqft_living'].apply(sqrt)\n",
    "sales['sqft_lot_sqrt'] = sales['sqft_lot'].apply(sqrt)\n",
    "sales['bedrooms'] = sales['bedrooms'].astype(float)\n",
    "sales['bedrooms_square'] = sales['bedrooms']*sales['bedrooms']\n",
    "\n",
    "# In the dataset, 'floors' was defined with type string, \n",
    "# so we'll convert them to float, before creating a new feature.\n",
    "sales['floors'] = sales['floors'].astype(float) \n",
    "\n",
    "sales['floors_square'] = sales['floors']*sales['floors']"
   ]
  },
  {
   "cell_type": "markdown",
   "metadata": {},
   "source": [
    "* Squaring bedrooms will increase the separation between not many bedrooms (e.g. 1) and lots of bedrooms (e.g. 4) since 1^2 = 1 but 4^2 = 16. Consequently this variable will mostly affect houses with many bedrooms.\n",
    "* On the other hand, taking square root of sqft_living will decrease the separation between big house and small house. The owner may not be exactly twice as happy for getting a house that is twice as big."
   ]
  },
  {
   "cell_type": "markdown",
   "metadata": {},
   "source": [
    "# Learn regression weights with L1 penalty"
   ]
  },
  {
   "cell_type": "markdown",
   "metadata": {},
   "source": [
    "Let us fit a model with all the features available, plus the features we just created above."
   ]
  },
  {
   "cell_type": "code",
   "execution_count": 75,
   "metadata": {},
   "outputs": [],
   "source": [
    "all_features = ['bedrooms', 'bedrooms_square',\n",
    "                'bathrooms',\n",
    "                'sqft_living', 'sqft_living_sqrt',\n",
    "                'sqft_lot', 'sqft_lot_sqrt',\n",
    "                'floors', 'floors_square',\n",
    "                'waterfront', 'view', 'condition', 'grade',\n",
    "                'sqft_above',\n",
    "                'sqft_basement',\n",
    "                'yr_built', 'yr_renovated']"
   ]
  },
  {
   "cell_type": "markdown",
   "metadata": {},
   "source": [
    "Applying L1 penalty requires adding an extra parameter (`l1_penalty`) to the linear regression call in Turi Create. (Other tools may have separate implementations of LASSO.)  Note that it's important to set `l2_penalty=0` to ensure we don't introduce an additional L2 penalty."
   ]
  },
  {
   "cell_type": "code",
   "execution_count": 76,
   "metadata": {},
   "outputs": [
    {
     "data": {
      "text/html": [
       "<pre>Linear regression:</pre>"
      ],
      "text/plain": [
       "Linear regression:"
      ]
     },
     "metadata": {},
     "output_type": "display_data"
    },
    {
     "data": {
      "text/html": [
       "<pre>--------------------------------------------------------</pre>"
      ],
      "text/plain": [
       "--------------------------------------------------------"
      ]
     },
     "metadata": {},
     "output_type": "display_data"
    },
    {
     "data": {
      "text/html": [
       "<pre>Number of examples          : 21613</pre>"
      ],
      "text/plain": [
       "Number of examples          : 21613"
      ]
     },
     "metadata": {},
     "output_type": "display_data"
    },
    {
     "data": {
      "text/html": [
       "<pre>Number of features          : 17</pre>"
      ],
      "text/plain": [
       "Number of features          : 17"
      ]
     },
     "metadata": {},
     "output_type": "display_data"
    },
    {
     "data": {
      "text/html": [
       "<pre>Number of unpacked features : 17</pre>"
      ],
      "text/plain": [
       "Number of unpacked features : 17"
      ]
     },
     "metadata": {},
     "output_type": "display_data"
    },
    {
     "data": {
      "text/html": [
       "<pre>Number of coefficients    : 46</pre>"
      ],
      "text/plain": [
       "Number of coefficients    : 46"
      ]
     },
     "metadata": {},
     "output_type": "display_data"
    },
    {
     "data": {
      "text/html": [
       "<pre>Starting Accelerated Gradient (FISTA)</pre>"
      ],
      "text/plain": [
       "Starting Accelerated Gradient (FISTA)"
      ]
     },
     "metadata": {},
     "output_type": "display_data"
    },
    {
     "data": {
      "text/html": [
       "<pre>--------------------------------------------------------</pre>"
      ],
      "text/plain": [
       "--------------------------------------------------------"
      ]
     },
     "metadata": {},
     "output_type": "display_data"
    },
    {
     "data": {
      "text/html": [
       "<pre>Tuning step size. First iteration could take longer than subsequent iterations.</pre>"
      ],
      "text/plain": [
       "Tuning step size. First iteration could take longer than subsequent iterations."
      ]
     },
     "metadata": {},
     "output_type": "display_data"
    },
    {
     "data": {
      "text/html": [
       "<pre>+-----------+----------+-----------+--------------+--------------------+---------------------------------+</pre>"
      ],
      "text/plain": [
       "+-----------+----------+-----------+--------------+--------------------+---------------------------------+"
      ]
     },
     "metadata": {},
     "output_type": "display_data"
    },
    {
     "data": {
      "text/html": [
       "<pre>| Iteration | Passes   | Step size | Elapsed Time | Training Max Error | Training Root-Mean-Square Error |</pre>"
      ],
      "text/plain": [
       "| Iteration | Passes   | Step size | Elapsed Time | Training Max Error | Training Root-Mean-Square Error |"
      ]
     },
     "metadata": {},
     "output_type": "display_data"
    },
    {
     "data": {
      "text/html": [
       "<pre>+-----------+----------+-----------+--------------+--------------------+---------------------------------+</pre>"
      ],
      "text/plain": [
       "+-----------+----------+-----------+--------------+--------------------+---------------------------------+"
      ]
     },
     "metadata": {},
     "output_type": "display_data"
    },
    {
     "data": {
      "text/html": [
       "<pre>| 0         | 1        | 1.000000  | 0.016113     | 7700000.000000     | 653047.733994                   |</pre>"
      ],
      "text/plain": [
       "| 0         | 1        | 1.000000  | 0.016113     | 7700000.000000     | 653047.733994                   |"
      ]
     },
     "metadata": {},
     "output_type": "display_data"
    },
    {
     "data": {
      "text/html": [
       "<pre>| 1         | 2        | 0.000002  | 0.251560     | 7044139.560668     | 442072.554774                   |</pre>"
      ],
      "text/plain": [
       "| 1         | 2        | 0.000002  | 0.251560     | 7044139.560668     | 442072.554774                   |"
      ]
     },
     "metadata": {},
     "output_type": "display_data"
    },
    {
     "data": {
      "text/html": [
       "<pre>| 2         | 3        | 0.000002  | 0.271678     | 6899400.539786     | 400335.095762                   |</pre>"
      ],
      "text/plain": [
       "| 2         | 3        | 0.000002  | 0.271678     | 6899400.539786     | 400335.095762                   |"
      ]
     },
     "metadata": {},
     "output_type": "display_data"
    },
    {
     "data": {
      "text/html": [
       "<pre>| 3         | 4        | 0.000002  | 0.297679     | 6867325.675628     | 387605.099073                   |</pre>"
      ],
      "text/plain": [
       "| 3         | 4        | 0.000002  | 0.297679     | 6867325.675628     | 387605.099073                   |"
      ]
     },
     "metadata": {},
     "output_type": "display_data"
    },
    {
     "data": {
      "text/html": [
       "<pre>| 4         | 5        | 0.000002  | 0.319975     | 6875201.915524     | 385419.097788                   |</pre>"
      ],
      "text/plain": [
       "| 4         | 5        | 0.000002  | 0.319975     | 6875201.915524     | 385419.097788                   |"
      ]
     },
     "metadata": {},
     "output_type": "display_data"
    },
    {
     "data": {
      "text/html": [
       "<pre>| 5         | 6        | 0.000002  | 0.341260     | 6899658.604835     | 386801.941137                   |</pre>"
      ],
      "text/plain": [
       "| 5         | 6        | 0.000002  | 0.341260     | 6899658.604835     | 386801.941137                   |"
      ]
     },
     "metadata": {},
     "output_type": "display_data"
    },
    {
     "data": {
      "text/html": [
       "<pre>| 10        | 11       | 0.000002  | 0.452672     | 6839835.698640     | 362470.635108                   |</pre>"
      ],
      "text/plain": [
       "| 10        | 11       | 0.000002  | 0.452672     | 6839835.698640     | 362470.635108                   |"
      ]
     },
     "metadata": {},
     "output_type": "display_data"
    },
    {
     "data": {
      "text/html": [
       "<pre>+-----------+----------+-----------+--------------+--------------------+---------------------------------+</pre>"
      ],
      "text/plain": [
       "+-----------+----------+-----------+--------------+--------------------+---------------------------------+"
      ]
     },
     "metadata": {},
     "output_type": "display_data"
    },
    {
     "data": {
      "text/html": [
       "<pre>Completed (Iteration limit reached).</pre>"
      ],
      "text/plain": [
       "Completed (Iteration limit reached)."
      ]
     },
     "metadata": {},
     "output_type": "display_data"
    },
    {
     "data": {
      "text/html": [
       "<pre>This model may not be optimal. To improve it, consider increasing `max_iterations`.</pre>"
      ],
      "text/plain": [
       "This model may not be optimal. To improve it, consider increasing `max_iterations`."
      ]
     },
     "metadata": {},
     "output_type": "display_data"
    }
   ],
   "source": [
    "model_all = turicreate.linear_regression.create(sales, target='price', features=all_features,\n",
    "                                                validation_set=None, \n",
    "                                                l2_penalty=0., l1_penalty=1e10)"
   ]
  },
  {
   "cell_type": "markdown",
   "metadata": {},
   "source": [
    "Find what features had non-zero weight."
   ]
  },
  {
   "cell_type": "code",
   "execution_count": 81,
   "metadata": {},
   "outputs": [
    {
     "name": "stdout",
     "output_type": "stream",
     "text": [
      "+------------------+-------+--------------------+--------+\n",
      "|       name       | index |       value        | stderr |\n",
      "+------------------+-------+--------------------+--------+\n",
      "|   (intercept)    |  None | 278815.4192069245  |  None  |\n",
      "|     bedrooms     |  None |        0.0         |  None  |\n",
      "| bedrooms_square  |  None |        0.0         |  None  |\n",
      "|    bathrooms     |  2.25 |        0.0         |  None  |\n",
      "|    bathrooms     |   3   |        0.0         |  None  |\n",
      "|    bathrooms     |   2   |        0.0         |  None  |\n",
      "|    bathrooms     |  4.5  |        0.0         |  None  |\n",
      "|    bathrooms     |  1.5  |        0.0         |  None  |\n",
      "|    bathrooms     |  2.5  |        0.0         |  None  |\n",
      "|    bathrooms     |  1.75 |        0.0         |  None  |\n",
      "|    bathrooms     |  2.75 |        0.0         |  None  |\n",
      "|    bathrooms     |  3.25 |        0.0         |  None  |\n",
      "|    bathrooms     |   4   |        0.0         |  None  |\n",
      "|    bathrooms     |  3.5  |        0.0         |  None  |\n",
      "|    bathrooms     |  0.75 |        0.0         |  None  |\n",
      "|    bathrooms     |  4.75 |        0.0         |  None  |\n",
      "|    bathrooms     |   5   |        0.0         |  None  |\n",
      "|    bathrooms     |  4.25 |        0.0         |  None  |\n",
      "|    bathrooms     |  3.75 |        0.0         |  None  |\n",
      "|    bathrooms     |   0   |        0.0         |  None  |\n",
      "|    bathrooms     |  1.25 |        0.0         |  None  |\n",
      "|    bathrooms     |  5.25 |        0.0         |  None  |\n",
      "|    bathrooms     |   6   |        0.0         |  None  |\n",
      "|    bathrooms     |  0.5  |        0.0         |  None  |\n",
      "|    bathrooms     |  5.5  |        0.0         |  None  |\n",
      "|    bathrooms     |  6.75 |        0.0         |  None  |\n",
      "|    bathrooms     |  5.75 |        0.0         |  None  |\n",
      "|    bathrooms     |   8   |        0.0         |  None  |\n",
      "|    bathrooms     |  7.5  |        0.0         |  None  |\n",
      "|    bathrooms     |  7.75 |        0.0         |  None  |\n",
      "|    bathrooms     |  6.25 |        0.0         |  None  |\n",
      "|    bathrooms     |  6.5  |        0.0         |  None  |\n",
      "|   sqft_living    |  None |  26.6338854693194  |  None  |\n",
      "| sqft_living_sqrt |  None | 451.3012136643122  |  None  |\n",
      "|     sqft_lot     |  None |        0.0         |  None  |\n",
      "|  sqft_lot_sqrt   |  None |        0.0         |  None  |\n",
      "|      floors      |  None |        0.0         |  None  |\n",
      "|  floors_square   |  None |        0.0         |  None  |\n",
      "|    waterfront    |  None |        0.0         |  None  |\n",
      "|       view       |  None |        0.0         |  None  |\n",
      "|    condition     |  None |        0.0         |  None  |\n",
      "|      grade       |  None | 1410.3156676457154 |  None  |\n",
      "|    sqft_above    |  None | 22.466277678129977 |  None  |\n",
      "|  sqft_basement   |  None |        0.0         |  None  |\n",
      "|     yr_built     |  None |        0.0         |  None  |\n",
      "|   yr_renovated   |  None |        0.0         |  None  |\n",
      "+------------------+-------+--------------------+--------+\n",
      "[46 rows x 4 columns]\n",
      "\n"
     ]
    }
   ],
   "source": [
    "# model_all\n",
    "rows = len(all_features)\n",
    "model_all.coefficients.print_rows(num_rows=100)\n"
   ]
  },
  {
   "cell_type": "markdown",
   "metadata": {},
   "source": [
    "Note that a majority of the weights have been set to zero. So by setting an L1 penalty that's large enough, we are performing a subset selection. \n",
    "\n",
    "***QUIZ QUESTION***:\n",
    "According to this list of weights, which of the features have been chosen? "
   ]
  },
  {
   "cell_type": "markdown",
   "metadata": {},
   "source": [
    "# Selecting an L1 penalty"
   ]
  },
  {
   "cell_type": "markdown",
   "metadata": {},
   "source": [
    "To find a good L1 penalty, we will explore multiple values using a validation set. Let us do three way split into train, validation, and test sets:\n",
    "* Split our sales data into 2 sets: training and test\n",
    "* Further split our training data into two sets: train, validation\n",
    "\n",
    "Be *very* careful that you use seed = 1 to ensure you get the same answer!"
   ]
  },
  {
   "cell_type": "code",
   "execution_count": 82,
   "metadata": {},
   "outputs": [],
   "source": [
    "(training_and_validation, testing) = sales.random_split(.9,seed=1) # initial train/test split\n",
    "(training, validation) = training_and_validation.random_split(0.5, seed=1) # split training into train and validate"
   ]
  },
  {
   "cell_type": "markdown",
   "metadata": {},
   "source": [
    "Next, we write a loop that does the following:\n",
    "* For `l1_penalty` in [10^1, 10^1.5, 10^2, 10^2.5, ..., 10^7] (to get this in Python, type `np.logspace(1, 7, num=13)`.)\n",
    "    * Fit a regression model with a given `l1_penalty` on TRAIN data. Specify `l1_penalty=l1_penalty` and `l2_penalty=0.` in the parameter list.\n",
    "    * Compute the RSS on VALIDATION data (here you will want to use `.predict()`) for that `l1_penalty`\n",
    "* Report which `l1_penalty` produced the lowest RSS on validation data.\n",
    "\n",
    "When you call `linear_regression.create()` make sure you set `validation_set = None`.\n",
    "\n",
    "Note: you can turn off the print out of `linear_regression.create()` with `verbose = False`"
   ]
  },
  {
   "cell_type": "code",
   "execution_count": 83,
   "metadata": {},
   "outputs": [
    {
     "name": "stdout",
     "output_type": "stream",
     "text": [
      "[5.96734420e+14 5.96734418e+14 5.96734413e+14 5.96734397e+14\n",
      " 5.96734346e+14 5.96734184e+14 5.96733673e+14 5.96732057e+14\n",
      " 5.96726948e+14 5.96710811e+14 5.96659975e+14 5.96500894e+14\n",
      " 5.96017025e+14]\n"
     ]
    }
   ],
   "source": [
    "import numpy as np\n",
    "np_logspace = np.logspace(1,7,num=13)\n",
    "num_penality = len(np_logspace)\n",
    "RSS = np.empty(num_penality)\n",
    "for i in range(num_penality):\n",
    "    model = turicreate.linear_regression.create(training,target='price',features=all_features,l1_penalty=np_logspace[i],l2_penalty=0,validation_set=None,verbose=False)\n",
    "    prediction = model.predict(validation)\n",
    "    errors = prediction - validation['price']\n",
    "    RSS[i] = np.dot(errors,errors)\n",
    "print (RSS)"
   ]
  },
  {
   "cell_type": "code",
   "execution_count": 47,
   "metadata": {},
   "outputs": [
    {
     "name": "stdout",
     "output_type": "stream",
     "text": [
      "10000000.0\n"
     ]
    }
   ],
   "source": [
    "rss_min = RSS.min()\n",
    "#print rss_min\n",
    "for i in range(num_penality):\n",
    "    #print RSS[i]\n",
    "    #print np_logspace[i]\n",
    "    if RSS[i]==rss_min:\n",
    "        print (np_logspace[i])\n"
   ]
  },
  {
   "cell_type": "markdown",
   "metadata": {},
   "source": [
    "*** QUIZ QUESTION. *** What was the best value for the `l1_penalty`?"
   ]
  },
  {
   "cell_type": "code",
   "execution_count": 86,
   "metadata": {},
   "outputs": [
    {
     "name": "stdout",
     "output_type": "stream",
     "text": [
      "+------------------+-------+----------------------+--------+\n",
      "|       name       | index |        value         | stderr |\n",
      "+------------------+-------+----------------------+--------+\n",
      "|   (intercept)    |  None |  26997.603306532015  |  None  |\n",
      "|     bedrooms     |  None |  8982.613590199953   |  None  |\n",
      "| bedrooms_square  |  None |  888.7541345886539   |  None  |\n",
      "|    bathrooms     |  4.5  |  350189.0581618711   |  None  |\n",
      "|    bathrooms     |   1   |  -21810.24803881651  |  None  |\n",
      "|    bathrooms     |  1.75 | -10413.242109185741  |  None  |\n",
      "|    bathrooms     |  2.5  |  10226.116398392413  |  None  |\n",
      "|    bathrooms     |  1.5  | -23605.189450993414  |  None  |\n",
      "|    bathrooms     |  2.25 |  6911.793946201739   |  None  |\n",
      "|    bathrooms     |   2   | -19423.377941221694  |  None  |\n",
      "|    bathrooms     |  2.75 |  46101.34709294344   |  None  |\n",
      "|    bathrooms     |  3.25 |  196526.29085178726  |  None  |\n",
      "|    bathrooms     |  3.5  |  168637.0018287444   |  None  |\n",
      "|    bathrooms     |  0.75 |  -72779.99644081287  |  None  |\n",
      "|    bathrooms     |   4   |  435287.0829047676   |  None  |\n",
      "|    bathrooms     |  4.75 |  691577.2643854031   |  None  |\n",
      "|    bathrooms     |   5   |  833036.2901766449   |  None  |\n",
      "|    bathrooms     |  4.25 |  503356.33638768573  |  None  |\n",
      "|    bathrooms     |  1.25 |  62339.993827425154  |  None  |\n",
      "|    bathrooms     |  3.75 |  371535.6372212513   |  None  |\n",
      "|    bathrooms     |  5.5  |  1447801.278524496   |  None  |\n",
      "|    bathrooms     |  5.75 |  288344.7924747366   |  None  |\n",
      "|    bathrooms     |   0   |  58258.83706741866   |  None  |\n",
      "|    bathrooms     |   8   |  4757294.526410793   |  None  |\n",
      "|    bathrooms     |  7.5  | -272011.11366551224  |  None  |\n",
      "|    bathrooms     |  7.75 |  4391604.105850295   |  None  |\n",
      "|    bathrooms     |   6   |  2422014.2315329914  |  None  |\n",
      "|    bathrooms     |  5.25 |  822244.6951435469   |  None  |\n",
      "|    bathrooms     |  6.25 |  1883372.8430010742  |  None  |\n",
      "|    bathrooms     |  6.5  |  571252.4381046188   |  None  |\n",
      "|   sqft_living    |  None |  36.50244243511822   |  None  |\n",
      "| sqft_living_sqrt |  None |  1170.5486422179727  |  None  |\n",
      "|     sqft_lot     |  None | -0.02612776028841921 |  None  |\n",
      "|  sqft_lot_sqrt   |  None |  170.43956637853552  |  None  |\n",
      "|      floors      |  None |  23377.799623069655  |  None  |\n",
      "|  floors_square   |  None |  12829.313197675538  |  None  |\n",
      "|    waterfront    |  None |  571882.3442859938   |  None  |\n",
      "|       view       |  None |  85562.99013157203   |  None  |\n",
      "|    condition     |  None |  9025.068274229432   |  None  |\n",
      "|      grade       |  None |   6749.81381716928   |  None  |\n",
      "|    sqft_above    |  None |  40.49890270980491   |  None  |\n",
      "|  sqft_basement   |  None |  112.7617599474295   |  None  |\n",
      "|     yr_built     |  None |   13.4330672151158   |  None  |\n",
      "|   yr_renovated   |  None |  54.654061056590365  |  None  |\n",
      "+------------------+-------+----------------------+--------+\n",
      "[44 rows x 4 columns]\n",
      "\n"
     ]
    },
    {
     "data": {
      "text/plain": [
       "44"
      ]
     },
     "execution_count": 86,
     "metadata": {},
     "output_type": "execute_result"
    }
   ],
   "source": [
    "model_l1 = turicreate.linear_regression.create(training,target='price',features=all_features,l1_penalty=10,l2_penalty=0,validation_set=None,verbose=False)\n",
    "model_l1.coefficients.print_rows(num_rows=100)\n",
    "model_l1.coefficients['value'].nnz()"
   ]
  },
  {
   "cell_type": "markdown",
   "metadata": {},
   "source": [
    "***QUIZ QUESTION***\n",
    "Also, using this value of L1 penalty, how many nonzero weights do you have?"
   ]
  },
  {
   "cell_type": "code",
   "execution_count": 51,
   "metadata": {},
   "outputs": [],
   "source": [
    "# max_nonzeros = 7"
   ]
  },
  {
   "cell_type": "markdown",
   "metadata": {},
   "source": [
    "# Limit the number of nonzero weights\n",
    "\n",
    "What if we absolutely wanted to limit ourselves to, say, 7 features? This may be important if we want to derive \"a rule of thumb\" --- an interpretable model that has only a few features in them."
   ]
  },
  {
   "cell_type": "markdown",
   "metadata": {},
   "source": [
    "In this section, you are going to implement a simple, two phase procedure to achive this goal:\n",
    "1. Explore a large range of `l1_penalty` values to find a narrow region of `l1_penalty` values where models are likely to have the desired number of non-zero weights.\n",
    "2. Further explore the narrow region you found to find a good value for `l1_penalty` that achieves the desired sparsity.  Here, we will again use a validation set to choose the best value for `l1_penalty`."
   ]
  },
  {
   "cell_type": "code",
   "execution_count": null,
   "metadata": {},
   "outputs": [],
   "source": [
    "max_nonzeros = 7"
   ]
  },
  {
   "cell_type": "markdown",
   "metadata": {},
   "source": [
    "## Exploring the larger range of values to find a narrow range with the desired sparsity\n",
    "\n",
    "Let's define a wide range of possible `l1_penalty_values`:"
   ]
  },
  {
   "cell_type": "code",
   "execution_count": 52,
   "metadata": {},
   "outputs": [],
   "source": [
    "l1_penalty_values = np.logspace(8, 10, num=20)"
   ]
  },
  {
   "cell_type": "markdown",
   "metadata": {},
   "source": [
    "Now, implement a loop that search through this space of possible `l1_penalty` values:\n",
    "\n",
    "* For `l1_penalty` in `np.logspace(8, 10, num=20)`:\n",
    "    * Fit a regression model with a given `l1_penalty` on TRAIN data. Specify `l1_penalty=l1_penalty` and `l2_penalty=0.` in the parameter list. When you call `linear_regression.create()` make sure you set `validation_set = None`\n",
    "    * Extract the weights of the model and count the number of nonzeros. Save the number of nonzeros to a list.\n",
    "        * *Hint: `model.coefficients['value']` gives you an SArray with the parameters you learned.  If you call the method `.nnz()` on it, you will find the number of non-zero parameters!* "
   ]
  },
  {
   "cell_type": "code",
   "execution_count": 56,
   "metadata": {},
   "outputs": [
    {
     "name": "stdout",
     "output_type": "stream",
     "text": [
      "0: 41\n",
      "1: 38\n",
      "2: 39\n",
      "3: 38\n",
      "4: 34\n",
      "5: 32\n",
      "6: 30\n",
      "7: 27\n",
      "8: 25\n",
      "9: 20\n",
      "10: 16\n",
      "11: 14\n",
      "12: 13\n",
      "13: 12\n",
      "14: 10\n",
      "15: 6\n",
      "16: 5\n",
      "17: 1\n",
      "18: 1\n",
      "19: 1\n",
      "[5.92783044e+14 5.92874597e+14 5.92851165e+14 5.94382692e+14\n",
      " 5.98553343e+14 6.05469738e+14 6.17769708e+14 6.35012449e+14\n",
      " 6.58572454e+14 6.87271855e+14 7.08975361e+14 7.44168048e+14\n",
      " 8.02545133e+14 8.75802386e+14 9.88355296e+14 1.09699769e+15\n",
      " 1.22064382e+15 1.27696276e+15 1.23093046e+15 1.22276795e+15]\n"
     ]
    }
   ],
   "source": [
    "np_logspace = np.logspace(8, 10, num=20)\n",
    "num_penality = len(np_logspace)\n",
    "RSS = np.empty(num_penality)\n",
    "for i in range(num_penality):\n",
    "    model = turicreate.linear_regression.create(training,target='price',features=all_features,l1_penalty=np_logspace[i],l2_penalty=0,validation_set=None,verbose=False)\n",
    "    prediction = model.predict(validation)\n",
    "    errors = prediction - validation['price']\n",
    "    RSS[i] = np.dot(errors,errors)\n",
    "    nnz = model.coefficients['value'].nnz()\n",
    "    print (str(i) + ': '+ str(nnz))\n",
    "print (RSS)\n",
    "\n",
    "# 0: 18"
   ]
  },
  {
   "cell_type": "code",
   "execution_count": 57,
   "metadata": {},
   "outputs": [
    {
     "name": "stdout",
     "output_type": "stream",
     "text": [
      "[1.00000000e+08 1.27427499e+08 1.62377674e+08 2.06913808e+08\n",
      " 2.63665090e+08 3.35981829e+08 4.28133240e+08 5.45559478e+08\n",
      " 6.95192796e+08 8.85866790e+08 1.12883789e+09 1.43844989e+09\n",
      " 1.83298071e+09 2.33572147e+09 2.97635144e+09 3.79269019e+09\n",
      " 4.83293024e+09 6.15848211e+09 7.84759970e+09 1.00000000e+10]\n"
     ]
    }
   ],
   "source": [
    "print(np_logspace)"
   ]
  },
  {
   "cell_type": "markdown",
   "metadata": {},
   "source": [
    "Out of this large range, we want to find the two ends of our desired narrow range of `l1_penalty`.  At one end, we will have `l1_penalty` values that have too few non-zeros, and at the other end, we will have an `l1_penalty` that has too many non-zeros.  \n",
    "\n",
    "More formally, find:\n",
    "* The largest `l1_penalty` that has more non-zeros than `max_nonzeros` (if we pick a penalty smaller than this value, we will definitely have too many non-zero weights)\n",
    "    * Store this value in the variable `l1_penalty_min` (we will use it later)\n",
    "* The smallest `l1_penalty` that has fewer non-zeros than `max_nonzeros` (if we pick a penalty larger than this value, we will definitely have too few non-zero weights)\n",
    "    * Store this value in the variable `l1_penalty_max` (we will use it later)\n",
    "\n",
    "\n",
    "*Hint: there are many ways to do this, e.g.:*\n",
    "* Programmatically within the loop above\n",
    "* Creating a list with the number of non-zeros for each value of `l1_penalty` and inspecting it to find the appropriate boundaries."
   ]
  },
  {
   "cell_type": "code",
   "execution_count": 59,
   "metadata": {},
   "outputs": [
    {
     "name": "stdout",
     "output_type": "stream",
     "text": [
      "2976351441.6313133\n",
      "3792690190.7322536\n"
     ]
    }
   ],
   "source": [
    "l1_penalty_min = np_logspace[14]\n",
    "l1_penalty_max = np_logspace[15]\n",
    "print(l1_penalty_min)\n",
    "print(l1_penalty_max)"
   ]
  },
  {
   "cell_type": "markdown",
   "metadata": {},
   "source": [
    "***QUIZ QUESTION.*** What values did you find for `l1_penalty_min` and `l1_penalty_max`, respectively? "
   ]
  },
  {
   "cell_type": "markdown",
   "metadata": {},
   "source": [
    "## Exploring the narrow range of values to find the solution with the right number of non-zeros that has lowest RSS on the validation set \n",
    "\n",
    "We will now explore the narrow region of `l1_penalty` values we found:"
   ]
  },
  {
   "cell_type": "code",
   "execution_count": 60,
   "metadata": {},
   "outputs": [],
   "source": [
    "l1_penalty_values = np.linspace(l1_penalty_min,l1_penalty_max,20)"
   ]
  },
  {
   "cell_type": "markdown",
   "metadata": {},
   "source": [
    "* For `l1_penalty` in `np.linspace(l1_penalty_min,l1_penalty_max,20)`:\n",
    "    * Fit a regression model with a given `l1_penalty` on TRAIN data. Specify `l1_penalty=l1_penalty` and `l2_penalty=0.` in the parameter list. When you call `linear_regression.create()` make sure you set `validation_set = None`\n",
    "    * Measure the RSS of the learned model on the VALIDATION set\n",
    "\n",
    "Find the model that the lowest RSS on the VALIDATION set and has sparsity *equal* to `max_nonzeros`."
   ]
  },
  {
   "cell_type": "code",
   "execution_count": 63,
   "metadata": {},
   "outputs": [
    {
     "name": "stdout",
     "output_type": "stream",
     "text": [
      "0: 10\n",
      "1: 9\n",
      "2: 9\n",
      "3: 9\n",
      "4: 9\n",
      "5: 9\n",
      "6: 9\n",
      "7: 9\n",
      "8: 9\n",
      "9: 8\n",
      "10: 8\n",
      "11: 7\n",
      "12: 7\n",
      "13: 7\n",
      "14: 7\n",
      "15: 7\n",
      "16: 7\n",
      "17: 7\n",
      "18: 6\n",
      "19: 6\n",
      "[9.88355296e+14 9.94927574e+14 1.00109778e+15 1.00733087e+15\n",
      " 1.01362408e+15 1.01997602e+15 1.02638638e+15 1.03289331e+15\n",
      " 1.04036175e+15 1.04606602e+15 1.05143204e+15 1.05698874e+15\n",
      " 1.06148602e+15 1.06627318e+15 1.07104803e+15 1.07626670e+15\n",
      " 1.08216224e+15 1.08811173e+15 1.09286898e+15 1.09699769e+15]\n"
     ]
    }
   ],
   "source": [
    "num_l1 = len(l1_penalty_values)\n",
    "RSS = np.empty(num_l1)\n",
    "for i in range(num_l1):\n",
    "    model = turicreate.linear_regression.create(training,target='price',features=all_features,l1_penalty=l1_penalty_values[i],l2_penalty=0,validation_set=None,verbose=False)\n",
    "    prediction = model.predict(validation)\n",
    "    errors = prediction - validation['price']\n",
    "    RSS[i] = np.dot(errors,errors)\n",
    "    nnz = model.coefficients['value'].nnz()\n",
    "    print (str(i) + ': '+ str(nnz))\n",
    "print (RSS)"
   ]
  },
  {
   "cell_type": "markdown",
   "metadata": {},
   "source": [
    "***QUIZ QUESTIONS***\n",
    "1. What value of `l1_penalty` in our narrow range has the lowest RSS on the VALIDATION set and has sparsity *equal* to `max_nonzeros`?\n",
    "2. What features in this model have non-zero coefficients?"
   ]
  },
  {
   "cell_type": "code",
   "execution_count": 66,
   "metadata": {},
   "outputs": [
    {
     "name": "stdout",
     "output_type": "stream",
     "text": [
      "988355295831963.1\n",
      "0\n",
      "2976351441.6313133\n"
     ]
    }
   ],
   "source": [
    "rss_min = RSS.min()\n",
    "print (rss_min)\n",
    "for i in range(num_l1):\n",
    "    #print RSS[i]\n",
    "    #print np_logspace[i]\n",
    "    if RSS[i]==rss_min:\n",
    "        print (i)\n",
    "        print (l1_penalty_values[i])"
   ]
  },
  {
   "cell_type": "code",
   "execution_count": 70,
   "metadata": {},
   "outputs": [
    {
     "name": "stdout",
     "output_type": "stream",
     "text": [
      "+------------------+-------+--------------------+--------+\n",
      "|       name       | index |       value        | stderr |\n",
      "+------------------+-------+--------------------+--------+\n",
      "|   (intercept)    |  None | 226472.83519563335 |  None  |\n",
      "|     bedrooms     |  None | 2008.9791408011513 |  None  |\n",
      "| bedrooms_square  |  None |        0.0         |  None  |\n",
      "|    bathrooms     |  4.5  |        0.0         |  None  |\n",
      "|    bathrooms     |   1   |        0.0         |  None  |\n",
      "|    bathrooms     |  1.75 |        0.0         |  None  |\n",
      "|    bathrooms     |  2.5  |        0.0         |  None  |\n",
      "|    bathrooms     |  1.5  |        0.0         |  None  |\n",
      "|    bathrooms     |  2.25 |        0.0         |  None  |\n",
      "|    bathrooms     |   2   |        0.0         |  None  |\n",
      "|    bathrooms     |  2.75 |        0.0         |  None  |\n",
      "|    bathrooms     |  3.25 |        0.0         |  None  |\n",
      "|    bathrooms     |  3.5  |        0.0         |  None  |\n",
      "|    bathrooms     |  0.75 |        0.0         |  None  |\n",
      "|    bathrooms     |   4   |        0.0         |  None  |\n",
      "|    bathrooms     |  4.75 |        0.0         |  None  |\n",
      "|    bathrooms     |   5   |        0.0         |  None  |\n",
      "|    bathrooms     |  4.25 |        0.0         |  None  |\n",
      "|    bathrooms     |  1.25 |        0.0         |  None  |\n",
      "|    bathrooms     |  3.75 |        0.0         |  None  |\n",
      "|    bathrooms     |  5.5  |        0.0         |  None  |\n",
      "|    bathrooms     |  5.75 |        0.0         |  None  |\n",
      "|    bathrooms     |   0   |        0.0         |  None  |\n",
      "|    bathrooms     |   8   |        0.0         |  None  |\n",
      "|    bathrooms     |  7.5  |        0.0         |  None  |\n",
      "|    bathrooms     |  7.75 |        0.0         |  None  |\n",
      "|    bathrooms     |   6   |        0.0         |  None  |\n",
      "|    bathrooms     |  5.25 |        0.0         |  None  |\n",
      "|    bathrooms     |  6.25 |        0.0         |  None  |\n",
      "|    bathrooms     |  6.5  |        0.0         |  None  |\n",
      "|   sqft_living    |  None | 34.80544251915629  |  None  |\n",
      "| sqft_living_sqrt |  None | 799.3534224051624  |  None  |\n",
      "|     sqft_lot     |  None |        0.0         |  None  |\n",
      "|  sqft_lot_sqrt   |  None |        0.0         |  None  |\n",
      "|      floors      |  None | 2792.838749819423  |  None  |\n",
      "|  floors_square   |  None |        0.0         |  None  |\n",
      "|    waterfront    |  None |        0.0         |  None  |\n",
      "|       view       |  None |        0.0         |  None  |\n",
      "|    condition     |  None |        0.0         |  None  |\n",
      "|      grade       |  None | 3511.7336916189024 |  None  |\n",
      "|    sqft_above    |  None | 32.75917684744291  |  None  |\n",
      "|  sqft_basement   |  None |        0.0         |  None  |\n",
      "|     yr_built     |  None |        0.0         |  None  |\n",
      "|   yr_renovated   |  None |        0.0         |  None  |\n",
      "+------------------+-------+--------------------+--------+\n",
      "[44 rows x 4 columns]\n",
      "\n"
     ]
    }
   ],
   "source": [
    "model = turicreate.linear_regression.create(training,target='price',features=all_features,l1_penalty=l1_penalty_values[11],l2_penalty=0,validation_set=None,verbose=False)\n",
    "model.coefficients.print_rows(num_rows=100)"
   ]
  },
  {
   "cell_type": "code",
   "execution_count": 68,
   "metadata": {},
   "outputs": [
    {
     "data": {
      "text/plain": [
       "Class                          : LinearRegression\n",
       "\n",
       "Schema\n",
       "------\n",
       "Number of coefficients         : 44\n",
       "Number of examples             : 9761\n",
       "Number of feature columns      : 17\n",
       "Number of unpacked features    : 17\n",
       "\n",
       "Hyperparameters\n",
       "---------------\n",
       "L1 penalty                     : 3448968612.1634\n",
       "L2 penalty                     : 0.0\n",
       "\n",
       "Training Summary\n",
       "----------------\n",
       "Solver                         : fista\n",
       "Solver iterations              : 10\n",
       "Solver status                  : Completed (Iteration limit reached).\n",
       "Training time (sec)            : 0.2249\n",
       "\n",
       "Settings\n",
       "--------\n",
       "Residual sum of squares        : 1187319267124410.8\n",
       "Training RMSE                  : 353126.814\n",
       "\n",
       "Highest Positive Coefficients\n",
       "-----------------------------\n",
       "(intercept)                    : 226472.8352\n",
       "grade                          : 3511.7337\n",
       "floors                         : 2792.8387\n",
       "bedrooms                       : 2008.9791\n",
       "sqft_living_sqrt               : 799.3534\n",
       "\n",
       "Lowest Negative Coefficients\n",
       "----------------------------\n",
       "No Negative Coefficients       : "
      ]
     },
     "execution_count": 68,
     "metadata": {},
     "output_type": "execute_result"
    }
   ],
   "source": [
    "model"
   ]
  },
  {
   "cell_type": "code",
   "execution_count": 69,
   "metadata": {},
   "outputs": [
    {
     "data": {
      "text/html": [
       "<div style=\"max-height:1000px;max-width:1500px;overflow:auto;\"><table frame=\"box\" rules=\"cols\">\n",
       "    <tr>\n",
       "        <th style=\"padding-left: 1em; padding-right: 1em; text-align: center\">name</th>\n",
       "        <th style=\"padding-left: 1em; padding-right: 1em; text-align: center\">index</th>\n",
       "        <th style=\"padding-left: 1em; padding-right: 1em; text-align: center\">value</th>\n",
       "        <th style=\"padding-left: 1em; padding-right: 1em; text-align: center\">stderr</th>\n",
       "    </tr>\n",
       "    <tr>\n",
       "        <td style=\"padding-left: 1em; padding-right: 1em; text-align: center; vertical-align: top\">(intercept)</td>\n",
       "        <td style=\"padding-left: 1em; padding-right: 1em; text-align: center; vertical-align: top\">None</td>\n",
       "        <td style=\"padding-left: 1em; padding-right: 1em; text-align: center; vertical-align: top\">226472.83519563335</td>\n",
       "        <td style=\"padding-left: 1em; padding-right: 1em; text-align: center; vertical-align: top\">None</td>\n",
       "    </tr>\n",
       "    <tr>\n",
       "        <td style=\"padding-left: 1em; padding-right: 1em; text-align: center; vertical-align: top\">bedrooms</td>\n",
       "        <td style=\"padding-left: 1em; padding-right: 1em; text-align: center; vertical-align: top\">None</td>\n",
       "        <td style=\"padding-left: 1em; padding-right: 1em; text-align: center; vertical-align: top\">2008.9791408011513</td>\n",
       "        <td style=\"padding-left: 1em; padding-right: 1em; text-align: center; vertical-align: top\">None</td>\n",
       "    </tr>\n",
       "    <tr>\n",
       "        <td style=\"padding-left: 1em; padding-right: 1em; text-align: center; vertical-align: top\">bedrooms_square</td>\n",
       "        <td style=\"padding-left: 1em; padding-right: 1em; text-align: center; vertical-align: top\">None</td>\n",
       "        <td style=\"padding-left: 1em; padding-right: 1em; text-align: center; vertical-align: top\">0.0</td>\n",
       "        <td style=\"padding-left: 1em; padding-right: 1em; text-align: center; vertical-align: top\">None</td>\n",
       "    </tr>\n",
       "    <tr>\n",
       "        <td style=\"padding-left: 1em; padding-right: 1em; text-align: center; vertical-align: top\">bathrooms</td>\n",
       "        <td style=\"padding-left: 1em; padding-right: 1em; text-align: center; vertical-align: top\">4.5</td>\n",
       "        <td style=\"padding-left: 1em; padding-right: 1em; text-align: center; vertical-align: top\">0.0</td>\n",
       "        <td style=\"padding-left: 1em; padding-right: 1em; text-align: center; vertical-align: top\">None</td>\n",
       "    </tr>\n",
       "    <tr>\n",
       "        <td style=\"padding-left: 1em; padding-right: 1em; text-align: center; vertical-align: top\">bathrooms</td>\n",
       "        <td style=\"padding-left: 1em; padding-right: 1em; text-align: center; vertical-align: top\">1</td>\n",
       "        <td style=\"padding-left: 1em; padding-right: 1em; text-align: center; vertical-align: top\">0.0</td>\n",
       "        <td style=\"padding-left: 1em; padding-right: 1em; text-align: center; vertical-align: top\">None</td>\n",
       "    </tr>\n",
       "    <tr>\n",
       "        <td style=\"padding-left: 1em; padding-right: 1em; text-align: center; vertical-align: top\">bathrooms</td>\n",
       "        <td style=\"padding-left: 1em; padding-right: 1em; text-align: center; vertical-align: top\">1.75</td>\n",
       "        <td style=\"padding-left: 1em; padding-right: 1em; text-align: center; vertical-align: top\">0.0</td>\n",
       "        <td style=\"padding-left: 1em; padding-right: 1em; text-align: center; vertical-align: top\">None</td>\n",
       "    </tr>\n",
       "    <tr>\n",
       "        <td style=\"padding-left: 1em; padding-right: 1em; text-align: center; vertical-align: top\">bathrooms</td>\n",
       "        <td style=\"padding-left: 1em; padding-right: 1em; text-align: center; vertical-align: top\">2.5</td>\n",
       "        <td style=\"padding-left: 1em; padding-right: 1em; text-align: center; vertical-align: top\">0.0</td>\n",
       "        <td style=\"padding-left: 1em; padding-right: 1em; text-align: center; vertical-align: top\">None</td>\n",
       "    </tr>\n",
       "    <tr>\n",
       "        <td style=\"padding-left: 1em; padding-right: 1em; text-align: center; vertical-align: top\">bathrooms</td>\n",
       "        <td style=\"padding-left: 1em; padding-right: 1em; text-align: center; vertical-align: top\">1.5</td>\n",
       "        <td style=\"padding-left: 1em; padding-right: 1em; text-align: center; vertical-align: top\">0.0</td>\n",
       "        <td style=\"padding-left: 1em; padding-right: 1em; text-align: center; vertical-align: top\">None</td>\n",
       "    </tr>\n",
       "    <tr>\n",
       "        <td style=\"padding-left: 1em; padding-right: 1em; text-align: center; vertical-align: top\">bathrooms</td>\n",
       "        <td style=\"padding-left: 1em; padding-right: 1em; text-align: center; vertical-align: top\">2.25</td>\n",
       "        <td style=\"padding-left: 1em; padding-right: 1em; text-align: center; vertical-align: top\">0.0</td>\n",
       "        <td style=\"padding-left: 1em; padding-right: 1em; text-align: center; vertical-align: top\">None</td>\n",
       "    </tr>\n",
       "    <tr>\n",
       "        <td style=\"padding-left: 1em; padding-right: 1em; text-align: center; vertical-align: top\">bathrooms</td>\n",
       "        <td style=\"padding-left: 1em; padding-right: 1em; text-align: center; vertical-align: top\">2</td>\n",
       "        <td style=\"padding-left: 1em; padding-right: 1em; text-align: center; vertical-align: top\">0.0</td>\n",
       "        <td style=\"padding-left: 1em; padding-right: 1em; text-align: center; vertical-align: top\">None</td>\n",
       "    </tr>\n",
       "</table>\n",
       "[44 rows x 4 columns]<br/>Note: Only the head of the SFrame is printed.<br/>You can use print_rows(num_rows=m, num_columns=n) to print more rows and columns.\n",
       "</div>"
      ],
      "text/plain": [
       "Columns:\n",
       "\tname\tstr\n",
       "\tindex\tstr\n",
       "\tvalue\tfloat\n",
       "\tstderr\tfloat\n",
       "\n",
       "Rows: 44\n",
       "\n",
       "Data:\n",
       "+-----------------+-------+--------------------+--------+\n",
       "|       name      | index |       value        | stderr |\n",
       "+-----------------+-------+--------------------+--------+\n",
       "|   (intercept)   |  None | 226472.83519563335 |  None  |\n",
       "|     bedrooms    |  None | 2008.9791408011513 |  None  |\n",
       "| bedrooms_square |  None |        0.0         |  None  |\n",
       "|    bathrooms    |  4.5  |        0.0         |  None  |\n",
       "|    bathrooms    |   1   |        0.0         |  None  |\n",
       "|    bathrooms    |  1.75 |        0.0         |  None  |\n",
       "|    bathrooms    |  2.5  |        0.0         |  None  |\n",
       "|    bathrooms    |  1.5  |        0.0         |  None  |\n",
       "|    bathrooms    |  2.25 |        0.0         |  None  |\n",
       "|    bathrooms    |   2   |        0.0         |  None  |\n",
       "+-----------------+-------+--------------------+--------+\n",
       "[44 rows x 4 columns]\n",
       "Note: Only the head of the SFrame is printed.\n",
       "You can use print_rows(num_rows=m, num_columns=n) to print more rows and columns."
      ]
     },
     "execution_count": 69,
     "metadata": {},
     "output_type": "execute_result"
    }
   ],
   "source": [
    "model.coefficients\n"
   ]
  },
  {
   "cell_type": "code",
   "execution_count": null,
   "metadata": {},
   "outputs": [],
   "source": []
  }
 ],
 "metadata": {
  "kernelspec": {
   "display_name": "Python 3",
   "language": "python",
   "name": "python3"
  },
  "language_info": {
   "codemirror_mode": {
    "name": "ipython",
    "version": 3
   },
   "file_extension": ".py",
   "mimetype": "text/x-python",
   "name": "python",
   "nbconvert_exporter": "python",
   "pygments_lexer": "ipython3",
   "version": "3.7.7"
  }
 },
 "nbformat": 4,
 "nbformat_minor": 1
}
